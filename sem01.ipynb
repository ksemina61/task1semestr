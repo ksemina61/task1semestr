{
 "cells": [
  {
   "cell_type": "code",
   "execution_count": null,
   "metadata": {},
   "outputs": [],
   "source": [
    "z = int(input()) #задание 4\n",
    "a, b = 1, 1\n",
    "for i in range(1, z + 1): #Цикл for повторяет определённый код для некоторого набора значений\n",
    "    print(i, ' ', a)\n",
    "    a, b = a + b, a\n",
    "print (z)"
   ]
  },
  {
   "cell_type": "code",
   "execution_count": null,
   "metadata": {},
   "outputs": [],
   "source": [
    "P = int(input())  #процентная ставка  задача 2\n",
    "X = int(input())  #рублей на вкладе\n",
    "Y = int(input())  #копеек на вкладе\n",
    "n = int(input()) #время\n",
    "s0 = 100 * X + Y #денег изначально на вкладе\n",
    "s1 = int(s0 *(100 + P / 100)) #денег на вкладе после\n",
    "print(s1 // 100)\n",
    "print(s1 % 100)"
   ]
  },
  {
   "cell_type": "code",
   "execution_count": null,
   "metadata": {},
   "outputs": [],
   "source": [
    "b = int(input('введите трехзначное число:')) #задание 1 из hw\n",
    "b = int(b)\n",
    "a = b % 10 #появляется остаток 2\n",
    "b = b // 10 #остается остаток 74\n",
    "c = b % 10 # остается остаток 4\n",
    "b = b // 10 #целочисленный остаток 7\n",
    "print (a + b + c)"
   ]
  },
  {
   "cell_type": "code",
   "execution_count": null,
   "metadata": {},
   "outputs": [],
   "source": [
    "machin1 = int(input()) #задание 3 про Машу\n",
    "if machin1 / 3:\n",
    "  print(machin1**2)\n",
    "elif machin1 % 3:\n",
    "  print(machin1 // 5)\n",
    "print(machin1)"
   ]
  },
  {
   "cell_type": "code",
   "execution_count": null,
   "metadata": {},
   "outputs": [],
   "source": [
    "time = float(input()) #задание 5\n",
    "time = time % (24 * 3600)\n",
    "hour = time // 3600\n",
    "time %= 3600\n",
    "min = time // 60\n",
    "time %= 60\n",
    "sec = time\n",
    "print(\"d:h:m:s-> %d:%d:%d:%d\" % (hour, min, sec))"
   ]
  }
 ],
 "metadata": {
  "language_info": {
   "name": "python"
  },
  "orig_nbformat": 4
 },
 "nbformat": 4,
 "nbformat_minor": 2
}
