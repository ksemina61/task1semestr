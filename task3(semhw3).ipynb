{
  "cells": [
    {
      "cell_type": "markdown",
      "metadata": {
        "id": "RYPQueHifWz3"
      },
      "source": [
        "**Наследование. Множественное наследование. MRO. Композиция. Делегирование. Псевдозакрытые атрибуты классов**"
      ]
    },
    {
      "cell_type": "markdown",
      "metadata": {
        "id": "87N9DWmENsw9"
      },
      "source": [
        "\n",
        "Семинарская задача\n",
        "\n",
        "\n",
        "Единственная задача: обобщить написанный на семинаре код и сымитировать работу одного большого отдела ABBYY, в котором есть три маленьких подотдела с лингвистами, программистами и комплингом. То есть, что у нас должно быть реализовано:\n",
        "\n",
        "\n",
        "родительский класс \"работник\"\n",
        "базовые классы \"лингвист\", \"программист\" и \"компьютерный лингвист\"\n",
        "у всех методы work\n",
        "классы \"босс_лингвист\", \"босс_программист\" и \"босс_кл\", которые могут наследовать (с подмешиванием) от общего класса \"босс\"\n",
        "у боссов в атрибутах сидят их подчиненные\n",
        "босс подотдела получает квесты от менеджера главного отдела и принуждает сотрудников работать\n",
        "в главном отделе есть метод для выдачи квестов\n",
        "соответственно, используем как наследование, так и композицию с делегированием"
      ]
    },
    {
      "cell_type": "code",
      "execution_count": null,
      "metadata": {
        "id": "BAoanXmCKDyG"
      },
      "outputs": [],
      "source": [
        "from time import sleep"
      ]
    },
    {
      "cell_type": "code",
      "execution_count": null,
      "metadata": {
        "id": "q0lDr0zpCIKD"
      },
      "outputs": [],
      "source": [
        "class Employee:\n",
        "  def __init__(self, name, surname):\n",
        "    self.name = name\n",
        "    self.surname = surname\n",
        "    self.salary = 350\n",
        "    self.bankaccount = 0\n",
        "  def work(self, *args):\n",
        "    raise NotImplementedError"
      ]
    },
    {
      "cell_type": "code",
      "execution_count": null,
      "metadata": {
        "id": "pKAzFwJtCPYB"
      },
      "outputs": [],
      "source": [
        "class Linguist(Employee):\n",
        "  def __init__(self, name, surname):\n",
        "    super().__init__(name, surname)\n",
        "    #Employee.__init__(self, name, surname)\n",
        "    self.salary *= 1.5\n",
        "    self.publications = []\n",
        "  def work(self, hours, name_of_publ):\n",
        "    print('Working...')\n",
        "    sleep(hours)\n",
        "    self.bankaccount += self.salary * hours\n",
        "    self.publications.append(name_of_publ)\n",
        "    print(f'{self.name} {self.surname} has published a paper {name_of_publ} in Voprosy Yazykoznaniya')\n",
        "  def readlingpapers(self, lingpaper):\n",
        "    print('Reading...')\n",
        "    sleep(len(lingpaper) // 10)\n",
        "    print(f'{self.name} {self.surname} has read {lingpaper}')"
      ]
    },
    {
      "cell_type": "code",
      "execution_count": null,
      "metadata": {
        "id": "Uuh3Yz4sCVnL"
      },
      "outputs": [],
      "source": [
        "class Programmer(Employee):\n",
        "  def __init__(self, name, surname):\n",
        "    super().__init__(name, surname)\n",
        "    #Employee.__init__(self, name, surname)\n",
        "    self.salary *= 2.5\n",
        "    self.projects = []\n",
        "  def work(self, hours, name_of_project):\n",
        "    print('Working...')\n",
        "    sleep(hours)\n",
        "    self.bankaccount += self.salary * hours\n",
        "    self.projects.append(name_of_project)\n",
        "    print(f'{self.name} {self.surname} has committed a repo {name_of_project} to GitHub')\n",
        "  def learnpython(self, hours):\n",
        "    print('Studying...')\n",
        "    sleep(hours)\n",
        "    print(f'{self.name} {self.surname} has learned a bit of Python')"
      ]
    },
    {
      "cell_type": "code",
      "execution_count": null,
      "metadata": {
        "id": "XzMmt1Lg89gN"
      },
      "outputs": [],
      "source": [
        "class ComputerLinguist(Linguist, Programmer):\n",
        "  def __init__(self, name, surname):\n",
        "    Linguist.__init__(self, name, surname)  # явным образом вызываем init класса \"лингвист\"\n",
        "    Programmer.__init__(self, name, surname)\n",
        "    self.salary *= 0.9\n",
        "\n",
        "  def work(self, hours, name_of_paper_with_code):\n",
        "    print('Working...')\n",
        "    sleep(hours)\n",
        "    self.publications.append(name_of_paper_with_code)\n",
        "    self.projects.append(name_of_paper_with_code)\n",
        "    self.bankaccount += self.salary * hours\n",
        "    print(f'{self.name} {self.surname} has published {name_of_paper_with_code} in ACL Papers')"
      ]
    },
    {
      "cell_type": "code",
      "execution_count": null,
      "metadata": {
        "id": "jmcpiEMG-Ux2"
      },
      "outputs": [],
      "source": [
        "class Boss:\n",
        "  def __init__(self, name, surname):\n",
        "    self.name = name\n",
        "    self.surname = surname\n",
        "    self.dependents = list() # это подчиненный сотрудник\n",
        "  def add_dependent(self, employee):\n",
        "    self.dependents.append(employee)\n",
        "  def delegate_tasks(self, task):\n",
        "    for dependent in self.dependents:\n",
        "      print(f'Delegating a task: \"{task}\" {dependent.name} {dependent.surname}')\n",
        "      dependent.work(1, task)  # работа на 1 час с заданием\n",
        "      dependent.work(5, task)\n",
        "\n",
        "class LinguistBoss(Boss):\n",
        "  pass\n",
        "\n",
        "class ProgrammerBoss(Boss):\n",
        "  pass\n",
        "\n",
        "class ComputerLinguistBoss(Boss):\n",
        "  pass"
      ]
    },
    {
      "cell_type": "code",
      "execution_count": null,
      "metadata": {
        "colab": {
          "base_uri": "https://localhost:8080/"
        },
        "id": "_gpwo0z3DL6v",
        "outputId": "6f8beaa7-ae9e-4640-982c-05588777b565"
      },
      "outputs": [
        {
          "name": "stdout",
          "output_type": "stream",
          "text": [
            "Delegating a task: \"essays for the Chinese opening contest\" Maria Vyktorovna\n",
            "Working...\n",
            "Maria Vyktorovna has published a paper essays for the Chinese opening contest in Voprosy Yazykoznaniya\n",
            "Working...\n",
            "Maria Vyktorovna has published a paper essays for the Chinese opening contest in Voprosy Yazykoznaniya\n",
            "Delegating a task: \"write the code on C++\" Boris Nikolaevi\n",
            "Working...\n",
            "Boris Nikolaevi has committed a repo write the code on C++ to GitHub\n",
            "Working...\n",
            "Boris Nikolaevi has committed a repo write the code on C++ to GitHub\n",
            "Delegating a task: \"a scientific study on NLP\" July Andreevna\n",
            "Working...\n",
            "July Andreevna has published a scientific study on NLP in ACL Papers\n",
            "Working...\n",
            "July Andreevna has published a scientific study on NLP in ACL Papers\n"
          ]
        }
      ],
      "source": [
        "# Теперь создам сотрудников\n",
        "if __name__ == '__main__':\n",
        "  linguist = Linguist('Maria', 'Vyktorovna')\n",
        "  programmer = Programmer('Boris', 'Nikolaevi')\n",
        "  compling = ComputerLinguist('July', 'Andreevna')\n",
        "  # создам боссов\n",
        "  boss_ling = LinguistBoss('Ilya', 'Granin')\n",
        "  boss_progr = ProgrammerBoss('Arina', 'Borisovna')\n",
        "  boss_compling = ComputerLinguistBoss('Ilya', 'Myromec')\n",
        "  # добавлю подчиненных\n",
        "  boss_ling.add_dependent(linguist)\n",
        "  boss_progr.add_dependent(programmer)\n",
        "  boss_compling.add_dependent(compling)\n",
        "  # делегерую задачи подчиненных\n",
        "  boss_ling.delegate_tasks('essays for the Chinese opening contest')\n",
        "  boss_progr.delegate_tasks('write the code on C++')\n",
        "  boss_compling.delegate_tasks('a scientific study on NLP')"
      ]
    },
    {
      "cell_type": "markdown",
      "metadata": {
        "id": "noYLHa5fOPaL"
      },
      "source": [
        "Задача 1 (10 баллов).\n",
        "Представьте, что вы разрабатываете игру, в которой игрок управляет флотом космических кораблей. Каждый корабль имеет свои характеристики, вооружение и экипаж. Чтобы управлять флотом, игрок должен делегировать различные задачи (например, атака, оборона, ремонт) разным кораблям и экипажу. Ваша задача — создать систему классов, которая использует композицию для организации кораблей, экипажа и вооружения, а также делегирует задачи между этими объектами.\n",
        "\n",
        "Требования:\n",
        "\n",
        "Создайте класс Ship, который представляет космический корабль. Корабль должен:\n",
        "\n",
        "Иметь имя, тип корабля (например, \"battlecruiser\", \"frigate\", \"destroyer\") и уровень прочности (например, 100%).\n",
        "Иметь экипаж, состоящий из пилота и инженера (с помощью композиции).\n",
        "Иметь вооружение (также через композицию), которое будет делегироваться классу Weapon.\n",
        "Мог выполнять действия атаки, ремонта и защиты, но делегировать эти задачи соответствующим объектам (например, пилоту или инженеру).\n",
        "Создайте класс CrewMember (член экипажа), который может выполнять различные задачи:\n",
        "\n",
        "Pilot — отвечает за управление кораблём, атаки и манёвры.\n",
        "Engineer — отвечает за ремонт и восстановление прочности корабля.\n",
        "Используйте композицию для того, чтобы корабль \"имел\" пилота и инженера.\n",
        "\n",
        "Создайте класс Weapon, который будет представлять вооружение корабля:\n",
        "Каждый корабль может иметь одно или несколько оружий.\n",
        "Оружие может атаковать противника, но уровень атаки зависит от типа оружия и его состояния (например, лазер, ракеты, плазменные пушки).\n",
        "Используйте композицию для добавления оружия к кораблю и делегируйте задачи атаки объектам класса Weapon.\n",
        "\n",
        "Класс Fleet должен представлять целый флот кораблей и управлять их действиями:\n",
        "\n",
        "Возможность добавлять корабли во флот.\n",
        "Делегирование задач атаки и ремонта флоту, который будет распределять их между кораблями.\n",
        "Пример использования:\n",
        "\n",
        "Определение оружия\n",
        "laser = Weapon(\"Laser Cannon\", 50)\n",
        "missile = Weapon(\"Missile Launcher\", 100)\n",
        "Создание экипажа\n",
        "pilot = Pilot(\"John Doe\")\n",
        "engineer = Engineer(\"Jane Smith\")\n",
        "Создание кораблей\n",
        "ship1 = Ship(\"USS Enterprise\", \"battlecruiser\", pilot, engineer)\n",
        "ship2 = Ship(\"Falcon\", \"frigate\", Pilot(\"Han Solo\"), Engineer(\"Chewbacca\"))\n",
        "Добавление вооружения к кораблям\n",
        "ship1.add_weapon(laser)\n",
        "ship2.add_weapon(missile)\n",
        "Создание флота\n",
        "fleet = Fleet()\n",
        "fleet.add_ship(ship1)\n",
        "fleet.add_ship(ship2)\n",
        "Атака флотом\n",
        "print(\"Флот атакует!\")\n",
        "fleet.attack_all()\n",
        "Ремонт флота\n",
        "print(\"\\nФлот выполняет ремонт!\")\n",
        "fleet.repair_all()\n",
        "Результат:\n",
        "# USS Enterprise атакует с помощью Laser Cannon (урон 50)\n",
        "# Falcon атакует с помощью Missile Launcher (урон 100)\n",
        "# USS Enterprise был отремонтирован инженером Jane Smith до полной прочности.\n",
        "# Falcon был отремонтирован инженером Chewbacca до полной прочности.\n",
        "Подсказки:\n",
        "\n",
        "Композиция: Класс Ship должен содержать объекты экипажа и вооружения, а класс Fleet должен содержать объекты кораблей.\n",
        "\n",
        "Делегирование: Методы атаки, защиты и ремонта должны вызывать методы у соответствующих объектов. Например, при вызове метода attack() у корабля, этот метод должен делегировать выполнение атаки объекту Weapon и экипажу (пилоту).\n",
        "\n",
        "Взаимодействие классов: Корабль не выполняет все задачи сам, он делегирует их своим компонентам (экипажу и оружию)."
      ]
    },
    {
      "cell_type": "code",
      "execution_count": null,
      "metadata": {
        "id": "Yoh2BtUnqO80"
      },
      "outputs": [],
      "source": [
        "class Weapon:\n",
        "  def __init__(self, name, damage):\n",
        "    self.name = name\n",
        "    self.damage = damage\n",
        "  def attack(self):\n",
        "    print(f'{self.name} атакует противника!')\n",
        "    return self.damage"
      ]
    },
    {
      "cell_type": "code",
      "execution_count": null,
      "metadata": {
        "id": "2heJSmNojgNy"
      },
      "outputs": [],
      "source": [
        "class CrewMember:\n",
        "  def __init__(self, name):\n",
        "    self.name = name\n",
        "\n",
        "class Pilot(CrewMember):\n",
        "  def simulate_attack(self, weapon):\n",
        "    return f'{self.name} атакует врага оружием - {weapon.attack()}!'\n",
        "  def control_ship(self):\n",
        "    return f'Пилот {self.name} маневрирует кораблем {ship.name}.'\n",
        "\n",
        "class Engineer(CrewMember):\n",
        "  def repairs(self, ship):\n",
        "    #if ship.repairs() < 100:\n",
        "    ship.health += 5\n",
        "    if ship.health > 100:\n",
        "      ship.health = 100\n",
        "    return f'Корабль: {ship.name} был отремонтирован {self.name}. Текущее состояние: {ship.health}.'"
      ]
    },
    {
      "cell_type": "code",
      "execution_count": null,
      "metadata": {
        "id": "dJt5hvBbOcY3"
      },
      "outputs": [],
      "source": [
        "class Ship:\n",
        "  def __init__(self, name, ship_type, pilot, engineer):\n",
        "    self. name = name\n",
        "    self.ship_type = ship_type\n",
        "    self.health = 100\n",
        "    self.pilot = pilot\n",
        "    self.engineer = engineer\n",
        "    self.weapons = list()\n",
        "  def add_weapon(self, weapon):\n",
        "    self.weapons.append(weapon)\n",
        "  def attack(self):\n",
        "    attacks = []\n",
        "    for weapon in self.weapons:\n",
        "      attacks.append(self.pilot.simulate_attack(weapon))\n",
        "    return attacks\n",
        "  def get_repairs(self):\n",
        "    return self.engineer.repairs(self)"
      ]
    },
    {
      "cell_type": "code",
      "execution_count": null,
      "metadata": {
        "id": "O4m_OKcft0kD"
      },
      "outputs": [],
      "source": [
        "class Fleet:\n",
        "  def __init__(self):\n",
        "    self.ships = list()\n",
        "  def add_ship(self, ship):\n",
        "    self.ships.append(ship)\n",
        "  def attack_all(self):\n",
        "    attack_ships = list()\n",
        "    for ship in self.ships:\n",
        "      attack_ships.extend(ship.attack())\n",
        "    for attack in attack_ships:\n",
        "      print(attack)\n",
        "\n",
        "  def repairs_all(self):\n",
        "    repairs = list()\n",
        "    for ship in self.ships:\n",
        "      repairs.append(ship.get_repairs())\n",
        "    for repair in repairs:\n",
        "      print(repair)"
      ]
    },
    {
      "cell_type": "code",
      "execution_count": null,
      "metadata": {
        "id": "hvacX5_YxWxh"
      },
      "outputs": [],
      "source": [
        "# Определение оружия\n",
        "laser = Weapon(\"Laser Cannon\", 50)\n",
        "missile = Weapon(\"Missile Launcher\", 100)"
      ]
    },
    {
      "cell_type": "code",
      "execution_count": null,
      "metadata": {
        "id": "fHyCG57oxdD8"
      },
      "outputs": [],
      "source": [
        "# Создание экипажа\n",
        "pilot1 = Pilot(\"John Doe\")\n",
        "engineer1 = Engineer(\"Jane Smith\")\n",
        "pilot2 = Pilot(\"Han Solo\")\n",
        "engineer2 = Engineer(\"Chewbacca\")"
      ]
    },
    {
      "cell_type": "code",
      "execution_count": null,
      "metadata": {
        "id": "uylud0LVxg7X"
      },
      "outputs": [],
      "source": [
        "# Создание кораблей\n",
        "ship1 = Ship(\"USS Enterprise\", \"battlecruiser\", pilot1, engineer1)\n",
        "ship2 = Ship(\"Falcon\", \"frigate\", pilot2, engineer2)"
      ]
    },
    {
      "cell_type": "code",
      "execution_count": null,
      "metadata": {
        "id": "11AbHW6lxjdi"
      },
      "outputs": [],
      "source": [
        "# Добавление вооружения к кораблям\n",
        "ship1.add_weapon(laser)\n",
        "ship2.add_weapon(missile)"
      ]
    },
    {
      "cell_type": "code",
      "execution_count": null,
      "metadata": {
        "id": "7rQaioQ_xonR"
      },
      "outputs": [],
      "source": [
        "# Создание флота\n",
        "fleet = Fleet()\n",
        "fleet.add_ship(ship1)\n",
        "fleet.add_ship(ship2)"
      ]
    },
    {
      "cell_type": "code",
      "execution_count": null,
      "metadata": {
        "colab": {
          "base_uri": "https://localhost:8080/"
        },
        "id": "wpbVim85xrrD",
        "outputId": "6d5f0ae2-afb2-4774-e85d-dc6feedf8f56"
      },
      "outputs": [
        {
          "name": "stdout",
          "output_type": "stream",
          "text": [
            "Флот атакует!\n",
            "Laser Cannon атакует противника!\n",
            "Missile Launcher атакует противника!\n",
            "John Doe атакует врага оружием - 50!\n",
            "Han Solo атакует врага оружием - 100!\n"
          ]
        }
      ],
      "source": [
        "# Атака флотом\n",
        "print(\"Флот атакует!\")\n",
        "fleet.attack_all()"
      ]
    },
    {
      "cell_type": "code",
      "execution_count": null,
      "metadata": {
        "colab": {
          "base_uri": "https://localhost:8080/"
        },
        "id": "rUSHoKKMxB9l",
        "outputId": "09f523bb-7881-46ba-e234-445279841555"
      },
      "outputs": [
        {
          "name": "stdout",
          "output_type": "stream",
          "text": [
            "nФлот выполняет ремонт!\n",
            "Корабль: USS Enterprise был отремонтирован Jane Smith. Текущее состояние: 100.\n",
            "Корабль: Falcon был отремонтирован Chewbacca. Текущее состояние: 100.\n"
          ]
        }
      ],
      "source": [
        "# Ремонт флота\n",
        "print(\"nФлот выполняет ремонт!\")\n",
        "fleet.repairs_all()"
      ]
    }
  ],
  "metadata": {
    "colab": {
      "provenance": []
    },
    "kernelspec": {
      "display_name": "Python 3",
      "name": "python3"
    },
    "language_info": {
      "name": "python"
    }
  },
  "nbformat": 4,
  "nbformat_minor": 0
}
