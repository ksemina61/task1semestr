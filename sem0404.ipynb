{
 "cells": [
  {
   "cell_type": "code",
   "execution_count": null,
   "metadata": {},
   "outputs": [],
   "source": [
    "a = input(\"Введи список: \").split() # делю на пробел, домашнее задание(3), упр 1\n",
    "a = [int(num) for num in a]\n",
    "max_num = max(a) #Нахожу максимальное число в списке a\n",
    "min_num = min(a)\n",
    "max_index = a.index(max_num) # затем нахожу индекс максимального числа в списке a с помощью метода index\n",
    "min_index = a.index(min_num)\n",
    "a[max_index] = min_num # меняем местами минимальное и максимальные элементы\n",
    "a[min_index] = max_num\n",
    "print(\"Новый список: \", end = \"\")\n",
    "for num in a:\n",
    "  print(num, end= \" \")"
   ]
  },
  {
   "cell_type": "code",
   "execution_count": null,
   "metadata": {},
   "outputs": [],
   "source": [
    "# это всё компьютерная подгруппа"
   ]
  },
  {
   "cell_type": "code",
   "execution_count": null,
   "metadata": {},
   "outputs": [],
   "source": [
    "b = input().split() # задание 2, дз(3)\n",
    "new_list = []\n",
    "for i in reversed(b): #перебираю элементы в обратном порядке\n",
    "    new_list.append(i)\n",
    "print(new_list)"
   ]
  },
  {
   "cell_type": "code",
   "execution_count": null,
   "metadata": {},
   "outputs": [],
   "source": [
    "# задание 10 (дз,3) # использовала цикл for для итерации по каждому символу в строке\n",
    "def func(stroka): # создала функцию, внутрь нее поместила:\n",
    "  ls = [] #пустой список, где будут хранитьcя номера\n",
    "  for char in stroka: # для каждого символа в строке\n",
    "    ls.append(ord(char)) # добавила порядковый номер символа в список, а затем верну список с порядковым номером буквы\n",
    "  return ls\n",
    "stroka = \" Hi, how are you?\"\n",
    "result = func(stroka)\n",
    "print(result)"
   ]
  },
  {
   "cell_type": "code",
   "execution_count": null,
   "metadata": {},
   "outputs": [],
   "source": [
    "# задание 6(дз,3)\n",
    "def remove_elements(N, lst): # функция remove_elements, она будет проверять каждый элемент списка, и если он встречается в нём ровно N раз, то эта функция удалит все его вхождения\n",
    "    for num in lst: # перебираем все элементы в списке с помощью for\n",
    "        if lst.count(num) == N: # проверяю вхождение элемента с помощью count\n",
    "            while num in lst: # в случае, если количество элементов = N,  то с циклом while удаляем все вхождения элемента num из списка с помощью метода remove\n",
    "                lst.remove(num)\n",
    "\n",
    "N = int(input(\"Введите число N: \"))\n",
    "lst = list(map(int, input(\"Введите список через пробел: \").split())) #  преобразую каждый элемент списка в целочисленный тип с помощью функции - map\n",
    "remove_elements(N, lst)\n",
    "print(\"Итоговый список:\", lst)"
   ]
  },
  {
   "cell_type": "code",
   "execution_count": null,
   "metadata": {},
   "outputs": [],
   "source": [
    "my_list = [1, 2, 3, 2, 4, 5, 6, 5, 7, 8, 9, 1, 3] #задание 5, (дз 3)\n",
    "i = 0\n",
    "while i < len(my_list): # while будет рассматривать все элементы списка\n",
    "    j = i + 1 # j - индекс повторяющегося элемента\n",
    "    while j < len(my_list): # сравниваю этот элемент со всеми последующими элементами списка. Если найден повтор, то элемент удаляется из списка\n",
    "        if my_list[i] == my_list[j]:\n",
    "            my_list.pop(j)\n",
    "        else:\n",
    "            j += 1 # после удаления, следующий элемент займет место, и индекс j увеличится на 1\n",
    "    i += 1\n",
    "print(my_list)"
   ]
  },
  {
   "cell_type": "code",
   "execution_count": null,
   "metadata": {},
   "outputs": [],
   "source": [
    "# семинар 4, кл"
   ]
  },
  {
   "cell_type": "code",
   "execution_count": null,
   "metadata": {},
   "outputs": [],
   "source": [
    "# задание 1, (семинар 4, компьютерная подгруппа)\n",
    "def distance(x1,y1,x2,y2): # создаю функцию distance\n",
    "  dx = x2 - x1 #определяю разность кординат по x и y\n",
    "  dy = y2 - y1\n",
    "  squared = dx**2 + dy**2 # ищу квадрат суммы разности по x и y\n",
    "  result = squared**0.5 # квадратный корень суммы разности по x и y\n",
    "  return result\n",
    "x1,y1,x2,y2 = float(input()), float(input()),float(input()),float(input())\n",
    "result = distance(x1, y1, x2, y2) #вызываю функцию distance с введенными координатами\n",
    "print(result)"
   ]
  },
  {
   "cell_type": "code",
   "execution_count": null,
   "metadata": {},
   "outputs": [],
   "source": [
    "def reverse_func(): #задание 2\n",
    "    number = int(input())  # считывается число из ввода\n",
    "    if number != 0:\n",
    "        reverse_func()  # рекурсивный вызов функции\n",
    "    print(number)\n",
    "reverse_func() "
   ]
  },
  {
   "cell_type": "code",
   "execution_count": null,
   "metadata": {},
   "outputs": [],
   "source": [
    "def func(sentence): # задание 3 \n",
    "  my_words = sentence. split() # я использую генераторную функцию, которая будет разбивать входную строку на слова и возвращать каждое слово в верхнем регистре\n",
    "  for word in my_words:\n",
    "    yield word.upper() # я использую yield как остановку функции-генератора, затем возвращаю слово в верхнем регистре\n",
    "sentence = input(\"введи предложение: \")\n",
    "for word in func(sentence):\n",
    "  print(word) "
   ]
  },
  {
   "cell_type": "code",
   "execution_count": null,
   "metadata": {},
   "outputs": [],
   "source": [
    "words = input(\"Введите список слов: \").split() # задание 5\n",
    "spisok = [len(word) for word in words]\n",
    "print(spisok)"
   ]
  },
  {
   "cell_type": "code",
   "execution_count": null,
   "metadata": {},
   "outputs": [],
   "source": [
    "def function(list1, list2): # задание 8\n",
    "  set1 = set(list1) # использую множества, чтобы найти пересечение\n",
    "  set2 = set(list2)\n",
    "  intersection = set1 & set2\n",
    "  result = sorted(list(intersection)) #сортирую список с пересечениями\n",
    "  return result\n",
    "\n",
    "list1 = [2, 3, 4, 5, 6, 7, 8]\n",
    "list2 = [4, 5, 6, 9, 1]\n",
    "intersection = function(list1, list2)\n",
    "print(intersection)"
   ]
  },
  {
   "cell_type": "code",
   "execution_count": null,
   "metadata": {},
   "outputs": [],
   "source": [
    "def printmatrix(matrix): # задание 10 printmatrix принимает матрицу в качестве аргумента\n",
    "    for row in matrix: # перебирает каждую строку в матрице\n",
    "        for element in row: # перебирает каждый элемент в текущей строке.\n",
    "            print(element, end=\" \")\n",
    "        print()\n",
    "\n",
    "matrix = [[1, 2, 3], [4, 5, 6], [7, 8, 9]]\n",
    "printmatrix(matrix)"
   ]
  },
  {
   "cell_type": "code",
   "execution_count": null,
   "metadata": {},
   "outputs": [],
   "source": [
    "#Домашнее задание (4, компьютерная подгруппа)"
   ]
  },
  {
   "cell_type": "code",
   "execution_count": null,
   "metadata": {},
   "outputs": [],
   "source": [
    "students = int(input(\"Введите число учеников: \")) #задание 1\n",
    "anyone = set()\n",
    "everyone = set()\n",
    "for _ in range(students): #считываю языки, которые знают школьники, и добавляем их в множество anyone\n",
    "    languages = input(\"Введите языки, которые знает ученик: \").split()\n",
    "    anyone.update(languages) #использую update для добавления новых элементов или изменения существующих элементов\n",
    "    if not everyone:\n",
    "        everyone.update(languages)\n",
    "    else:\n",
    "        everyone.intersection_update(languages) #нахожу пересечение языков ученика с уже имеющимися языками в множестве everyone\n",
    "print(\"Языки, которые знает хотя бы один школьник: \", anyone)\n",
    "print(\"Языки, которые знают все школьники: \", everyone)"
   ]
  },
  {
   "cell_type": "code",
   "execution_count": 3,
   "metadata": {},
   "outputs": [
    {
     "name": "stdout",
     "output_type": "stream",
     "text": [
      "[[8, 10, 12], [14, 16, 18]]\n"
     ]
    }
   ],
   "source": [
    "def add_matrices(matrix1, matrix2): #задание 4\n",
    "    result = [] #функция add_matrices принимает две матрицы в качестве аргументов и возвращает их сумму\n",
    "    for i in range(len(matrix1)): #прохожу по строкам матрицы во внешнем цикле\n",
    "        row = []\n",
    "        for j in range(len(matrix1[i])): #проходим по элементам строки во внутреннем цикле\n",
    "            row.append(matrix1[i][j] + matrix2[i][j])\n",
    "        result.append(row)\n",
    "    return result #возвращаю итоговую матрицу\n",
    "matrix1 = [[1, 2, 3], [4, 5, 6]]\n",
    "matrix2 = [[7, 8, 9], [10, 11, 12]]\n",
    "result = add_matrices(matrix1, matrix2)\n",
    "print(result)"
   ]
  },
  {
   "cell_type": "code",
   "execution_count": 2,
   "metadata": {},
   "outputs": [],
   "source": [
    "def matrices(matrix1, matrix2): # задание 5\n",
    "  if len(matrix1[0]) != len(matrix2): # сначала нужно проверить, можно ли умножить матрицы\n",
    "      return \"Умножение матриц невозможно\"\n",
    "\n",
    "  result = [[0 for _ in range(len(matrix2[0]))] for _ in range(len(matrix1))] #  вложенные генераторы списков для создания пустой матрицы\n",
    "  \n",
    "  for i in range(len(matrix1)):  #сделаю тройной вложенный цикл для умножения матриц, сначала считываем строки первой матрицы, обозначенной i\n",
    "      for j in range(len(matrix2[0])): # затем по столбцам результирующей матрицы j\n",
    "          for k in range(len(matrix2)): #затем по столбцам второй матрицы и строки второй матрицы k\n",
    "              result[i][j] += matrix1[i][k] * matrix2[k][j]\n",
    "  return result"
   ]
  },
  {
   "cell_type": "code",
   "execution_count": 1,
   "metadata": {},
   "outputs": [
    {
     "name": "stdout",
     "output_type": "stream",
     "text": [
      "6\n"
     ]
    }
   ],
   "source": [
    "def function(hello): # задание 3\n",
    "  unique_set = set()  # Создаю пустое множество для хранения уникальных элементов \n",
    "  for item in hello:  # Итерируем по элементам внешнего списка\n",
    "    if type(item) == int:  # Проверяю, является ли элемент целым числом\n",
    "      unique_set.add(item)  # Если да, добавляем его в множество уникальных элементов\n",
    "    elif type(item) == list:  # Исправляю ошибку, проверяем, является ли элемент вложенным списком\n",
    "      unique_set.update(function(item))  # Если да, рекурсивно обхожу его элементы и добавляю уникальные элементы в множество\n",
    "  return unique_set\n",
    "\n",
    "_hello = [[1, 2, 3], [2, 3, 4], [3, 4, 5], [4, 5, 6]]\n",
    "function_result = function(_hello)\n",
    "print(len(function_result))"
   ]
  },
  {
   "cell_type": "code",
   "execution_count": null,
   "metadata": {},
   "outputs": [],
   "source": [
    "# семинар 5, задание 1\n",
    "cats = [('Мартин', 5, 'Алексей', 'Егоров'),\n",
    "        ('Фродо', 3, 'Анна', 'Самохина'),\n",
    "        ('Вася', 4, 'Андрей', 'Белов'),\n",
    "        ('Муся', 7, 'Игорь', 'Бероев'),\n",
    "        ('Изольда', 2, 'Игорь', 'Бероев'),\n",
    "        ('Снейп', 1, 'Марина', 'Апраксина'),\n",
    "        ('Лютик', 4, 'Виталий', 'Соломин'),\n",
    "        ('Снежок', 3, 'Марина', 'Апраксина'),\n",
    "        ('Марта', 5, 'Сергей', 'Колесников'),\n",
    "        ('Буся', 12, 'Алена', 'Федорова'),\n",
    "        ('Джонни', 10, 'Игорь', 'Андропов'),\n",
    "        ('Мурзик', 1,'Даниил', 'Невзоров'),\n",
    "        ('Барсик', 2, 'Виталий', 'Соломин'),\n",
    "        ('Рыжик', 7, 'Владимир', 'Медведев'),\n",
    "        ('Матильда', 8, 'Андрей', 'Белов'),\n",
    "        ('Гарфилд', 3, 'Александр', 'Березуев')]\n",
    "owners = {}\n",
    "\n",
    "for cat in cats:\n",
    "    owner = (cat[2], cat[3])\n",
    "    if owner in owners:\n",
    "        owners[owner].append((cat[0], cat[1]))\n",
    "    else:\n",
    "        owners[owner] = [(cat[0], cat[1])]\n",
    "\n",
    "for owner, cat_list in owners.items():\n",
    "    print(f\"{owner[0]} {owner[1]}: \", end=\"\")\n",
    "    for i, cat in enumerate(cat_list):\n",
    "        print(f\"{cat[0]}, {cat[1]}\", end=\"\")\n",
    "        if i < len(cat_list) - 1:\n",
    "            print(\"; \", end=\"\")\n",
    "    print()"
   ]
  },
  {
   "cell_type": "code",
   "execution_count": null,
   "metadata": {},
   "outputs": [],
   "source": [
    "# задание 2\n",
    "import json\n",
    "\n",
    "cats = [\n",
    "    (\"Whiskers\", 3, \"John\", \"Doe\"),\n",
    "    (\"Fluffy\", 2, \"Alice\", \"Smith\"),\n",
    "    (\"Mittens\", 5, \"John\", \"Doe\"),\n",
    "    (\"Snowball\", 1, \"Bob\", \"Johnson\"),\n",
    "    (\"Felix\", 4, \"Alice\", \"Smith\")\n",
    "]\n",
    "\n",
    "owners = {}\n",
    "\n",
    "for cat in cats:\n",
    "    owner = (cat[2], cat[3])\n",
    "    if owner in owners:\n",
    "        owners[owner].append((cat[0], cat[1]))\n",
    "    else:\n",
    "        owners[owner] = [(cat[0], cat[1])]\n",
    "\n",
    "with open(\"cats.json\", \"w\") as file:\n",
    "    json.dump(owners, file, indent=4)"
   ]
  },
  {
   "cell_type": "code",
   "execution_count": null,
   "metadata": {},
   "outputs": [],
   "source": [
    "import # должна доработать\n",
    "with open('Maths.') as file:\n",
    "    reader = .reader(file)\n",
    "    headers = next(reader)  # Получаем названия столбцов\n",
    "    data = [row for row in reader]  # Получаем строки данных\n",
    "\n",
    "print(\"Названия столбцов:\")\n",
    "for header in headers:\n",
    "    print(header)\n",
    "\n",
    "print(\"\\nПервые пять строк:\")\n",
    "for i in range(5):\n",
    "    print(data[i])"
   ]
  }
 ],
 "metadata": {
  "kernelspec": {
   "display_name": "Python 3",
   "language": "python",
   "name": "python3"
  },
  "language_info": {
   "codemirror_mode": {
    "name": "ipython",
    "version": 3
   },
   "file_extension": ".py",
   "mimetype": "text/x-python",
   "name": "python",
   "nbconvert_exporter": "python",
   "pygments_lexer": "ipython3",
   "version": "3.9.13"
  }
 },
 "nbformat": 4,
 "nbformat_minor": 2
}
