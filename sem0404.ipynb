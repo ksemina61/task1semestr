{
 "cells": [
  {
   "cell_type": "code",
   "execution_count": null,
   "metadata": {},
   "outputs": [],
   "source": [
    "x = float(input()) #семинар 3, задача 4 вы разрешили их переделать\n",
    "print(str(int(x * 10)) [-1])"
   ]
  },
  {
   "cell_type": "code",
   "execution_count": null,
   "metadata": {},
   "outputs": [],
   "source": [
    "n = input() #семинар 3, задание 1 вы тоже разрешили ее переделать\n",
    "print(n.replace('@', ''))"
   ]
  },
  {
   "cell_type": "code",
   "execution_count": null,
   "metadata": {},
   "outputs": [],
   "source": [
    "a = input() #задача 3, семинар 4\n",
    "print(a.title())\n",
    "while a != 'СТОП' and a != 'стоп':\n",
    "    print(a)\n",
    "    a = input()"
   ]
  },
  {
   "cell_type": "code",
   "execution_count": null,
   "metadata": {},
   "outputs": [],
   "source": [
    "sentence = input() #задание 5 вариант 1, семинар 4\n",
    "print(sentence.replace(\"  \" and \" \", \"\"))"
   ]
  },
  {
   "cell_type": "code",
   "execution_count": null,
   "metadata": {},
   "outputs": [],
   "source": [
    "sentence = input() #задание 5 - вариант 2\n",
    "print(\" \".join(sentence.split()))"
   ]
  },
  {
   "cell_type": "code",
   "execution_count": null,
   "metadata": {},
   "outputs": [],
   "source": [
    "a = int(input()) #задача 1, семинар 4\n",
    "n = 2\n",
    "res = 1\n",
    "for i in range(n):\n",
    "  res *= a\n",
    "  print(f'{a}**{n} ==', res)\n",
    "  if a == str(''):\n",
    "    break\n"
   ]
  },
  {
   "cell_type": "code",
   "execution_count": null,
   "metadata": {},
   "outputs": [],
   "source": [
    "n = input().split() #задание 6???, семинар 4 по возможности я бы ее переделала, так как хочу понять, как сделать.\n",
    "if n == n[-4:]:\n",
    "  print('совпадает', n)\n",
    "elif n != n[-4:]:\n",
    "  print('не совпадает', n)\n",
    "else:\n",
    "  break"
   ]
  },
  {
   "cell_type": "code",
   "execution_count": null,
   "metadata": {},
   "outputs": [],
   "source": [
    "n = int(input()) # задание 3 домашнее задание (4 семинар) вы вроде бы попросили переделать до 1000, хотя вроде бы в условии с до 99, ну код вроде бы работает все равно\n",
    "for i in range (1000, 1, -2): # 999?\n",
    "  print(i, end = ' \\n')\n"
   ]
  },
  {
   "cell_type": "code",
   "execution_count": null,
   "metadata": {},
   "outputs": [],
   "source": [
    "n, a = int(input()), int(input()) #задание 5 домашняя работа (4 семинар) цикл\n",
    "for i in range(n, a):\n",
    "  if n < a:\n",
    "    print('Максимальное число:', a)\n",
    "  if a < n:\n",
    "    print('Максимальное число:', n)"
   ]
  },
  {
   "cell_type": "code",
   "execution_count": null,
   "metadata": {},
   "outputs": [],
   "source": [
    "# у этой задачки есть второе решение, так как мы вроде бы уже говорили про max, то:\n",
    "a, b, c = int(input()), int(input()), int(input())\n",
    "m = max(a, b, c)\n",
    "print(m)"
   ]
  },
  {
   "cell_type": "code",
   "execution_count": null,
   "metadata": {},
   "outputs": [],
   "source": [
    "n = int(input()) #задание 6, семинар 2 (компьютерная подгруппа)\n",
    "i = 1\n",
    "while i ** 2 <= n:\n",
    "    print(i ** 2)\n",
    "    i += 1"
   ]
  },
  {
   "cell_type": "code",
   "execution_count": null,
   "metadata": {},
   "outputs": [],
   "source": [
    "sum = 0  #задание 7, семинар 2 (компьютерная подгруппа)\n",
    "len = 0\n",
    "number = int(input())\n",
    "while number != 0:\n",
    "    sum += number\n",
    "    len += 1\n",
    "    number = int(input())\n",
    "print(sum / len)"
   ]
  },
  {
   "cell_type": "code",
   "execution_count": null,
   "metadata": {},
   "outputs": [],
   "source": [
    "import os.path #задача 5, семинар 2 (компьютерная подгруппа)\n",
    "filename = input()\n",
    "extension = os.path.splitext(filename)[1][1:]"
   ]
  },
  {
   "cell_type": "code",
   "execution_count": null,
   "metadata": {},
   "outputs": [],
   "source": [
    "a = 1 # задача 8, семинар 2 (компьютерная подгруппа)\n",
    "n = int(input())\n",
    "for i in range(1, n + 1):\n",
    "  a *= i\n",
    "print(a)"
   ]
  },
  {
   "cell_type": "code",
   "execution_count": null,
   "metadata": {},
   "outputs": [],
   "source": [
    "sum = 0 #задача 10, семинар 2, (компьютерная подгруппа)\n",
    "number = int(input())\n",
    "while number != 0:\n",
    "    sum += number\n",
    "    number = int(input())\n",
    "print(sum)"
   ]
  },
  {
   "cell_type": "code",
   "execution_count": null,
   "metadata": {},
   "outputs": [],
   "source": [
    "n = int(input('Введите число: ')) # задание 9, семинар 2, (комаьютерная подгруппа)\n",
    "for i in range(1, 10):\n",
    "    for j in range(i + 1):\n",
    "        print(i, end = ' ')\n",
    "    print(' ')"
   ]
  },
  {
   "cell_type": "code",
   "execution_count": null,
   "metadata": {},
   "outputs": [],
   "source": [
    "# Домашняя работа (семинар 2, компьютерная подгруппа)"
   ]
  },
  {
   "cell_type": "code",
   "execution_count": null,
   "metadata": {},
   "outputs": [],
   "source": [
    "alphabet = 'абвгдеёжзийклмнопрстуфхцчшщъыьэюя' #задача 7, (дз из семинара 2, компьютерная подгруппа)\n",
    "for letter in alphabet:\n",
    "    print(f'Буква {letter} имеет порядковый номер {ord(letter)}')"
   ]
  },
  {
   "cell_type": "code",
   "execution_count": null,
   "metadata": {},
   "outputs": [],
   "source": [
    "alphabet = 'abcdefghijklmnopqrstuvwxyz' # для латиницы\n",
    "for letter in alphabet:\n",
    "  print(f'Буква {letter} имеет порядковый номер {ord(letter)}')"
   ]
  },
  {
   "cell_type": "code",
   "execution_count": null,
   "metadata": {},
   "outputs": [],
   "source": [
    "x, y, z = int(input()), int(input()), int(input()) #задача 3 (дз из семинара 2, компьютерная)\n",
    "m = max (x, y, z)\n",
    "print(m)"
   ]
  },
  {
   "cell_type": "code",
   "execution_count": null,
   "metadata": {},
   "outputs": [],
   "source": [
    "word = input() # задание 8 (дз из 2 семинара, компьютерная)\n",
    "n = int(input())\n",
    "k=n % len(word)\n",
    "for i in range(-1, 2): print(word[i*k:] + word[:i*k])"
   ]
  },
  {
   "cell_type": "code",
   "execution_count": null,
   "metadata": {},
   "outputs": [],
   "source": [
    "while True: # задание 4 (дз из 2 семинара, компьютерная)\n",
    "  user_input = input(\"Введите значение: \")\n",
    "  if user_input.isdigit():\n",
    "    number = int(user_input)\n",
    "    result = number ** 2\n",
    "    print(f\"Квадрат числа равен {result}\")\n",
    "  elif user_input.strip() == \"\":\n",
    "    break\n",
    "  else:\n",
    "    print(user_input.upper())"
   ]
  },
  {
   "cell_type": "code",
   "execution_count": null,
   "metadata": {},
   "outputs": [],
   "source": [
    "while True: # задание 2 (дз из 2 семинара, компьютерная)\n",
    "    number = int(input(\"Введите число: \"))\n",
    "    if number == 0:\n",
    "        break\n",
    "    elif number % 100 in range(11, 20):\n",
    "        print(number, \"кроликов\")\n",
    "    elif number % 10 == 1:\n",
    "        print(number, \"кролик\")\n",
    "    elif number % 10 in range(2, 5):\n",
    "        print(number, \"кролика\")\n",
    "    else:\n",
    "        print(number, \"кроликов\")"
   ]
  },
  {
   "cell_type": "code",
   "execution_count": null,
   "metadata": {},
   "outputs": [],
   "source": [
    "from random import randint # задание 5\n",
    "\n",
    "while True:\n",
    "    target = randint(1, 1023)\n",
    "    tries = 0\n",
    "    \n",
    "    while tries < 10:\n",
    "        guess = int(input(\"Введите число от 1 до 1023: \"))\n",
    "        \n",
    "        if guess < 1 or guess > 1023:\n",
    "            print(\"Число должно быть от 1 до 1023!\")\n",
    "            continue\n",
    "            \n",
    "        tries += 1\n",
    "        \n",
    "        if guess == target:\n",
    "            print(\"Поздравляю, вы угадали число!\")\n",
    "            break\n",
    "        elif guess < target:\n",
    "            print(\"Загаданное число больше.\")\n",
    "        else:\n",
    "            print(\"Загаданное число меньше.\")\n",
    "    else:\n",
    "        print(\"Попытки кончились. Загаданное число:\", target)\n",
    "    \n",
    "    play_again = input(\"Хотите сыграть еще раз? (Да/Нет): \")\n",
    "    if play_again.lower() != \"да\":\n",
    "        break"
   ]
  },
  {
   "cell_type": "code",
   "execution_count": null,
   "metadata": {},
   "outputs": [],
   "source": [
    "import math # задание 1\n",
    "\n",
    "count = 0\n",
    "sum_x = 0\n",
    "sum_x2 = 0\n",
    "\n",
    "while True:\n",
    "    x = float(input(\"Введите число: \"))\n",
    "    if x == 0:\n",
    "        break\n",
    "    count += 1\n",
    "    sum_x += x\n",
    "    sum_x2 += x**2\n",
    "\n",
    "mean = sum_x / count\n",
    "variance = (sum_x2 / count) - (mean**2)\n",
    "std_deviation = math.sqrt(variance)\n",
    "\n",
    "print(\"Стандартное отклонение:\", std_deviation)"
   ]
  }
 ],
 "metadata": {
  "kernelspec": {
   "display_name": "Python 3",
   "language": "python",
   "name": "python3"
  },
  "language_info": {
   "codemirror_mode": {
    "name": "ipython",
    "version": 3
   },
   "file_extension": ".py",
   "mimetype": "text/x-python",
   "name": "python",
   "nbconvert_exporter": "python",
   "pygments_lexer": "ipython3",
   "version": "3.9.13"
  },
  "orig_nbformat": 4
 },
 "nbformat": 4,
 "nbformat_minor": 2
}
