{
  "cells": [
    {
      "cell_type": "markdown",
      "metadata": {
        "colab_type": "text",
        "id": "view-in-github"
      },
      "source": [
        "<a href=\"https://colab.research.google.com/github/ksemina61/task1semestr/blob/main/hw006.ipynb\" target=\"_parent\"><img src=\"https://colab.research.google.com/assets/colab-badge.svg\" alt=\"Open In Colab\"/></a>"
      ]
    },
    {
      "cell_type": "code",
      "execution_count": null,
      "metadata": {
        "colab": {
          "base_uri": "https://localhost:8080/",
          "height": 206
        },
        "id": "BhSJhIZUKbUW",
        "outputId": "76b1ae36-d29f-4ddc-ca2f-b265903a6f76"
      },
      "outputs": [
        {
          "data": {
            "application/vnd.google.colaboratory.intrinsic+json": {
              "summary": "{\n  \"name\": \"data\",\n  \"rows\": 24985,\n  \"fields\": [\n    {\n      \"column\": \"case_id\",\n      \"properties\": {\n        \"dtype\": \"string\",\n        \"num_unique_values\": 24985,\n        \"samples\": [\n          \"Case15689\",\n          \"Case9347\",\n          \"Case8483\"\n        ],\n        \"semantic_type\": \"\",\n        \"description\": \"\"\n      }\n    },\n    {\n      \"column\": \"case_outcome\",\n      \"properties\": {\n        \"dtype\": \"category\",\n        \"num_unique_values\": 10,\n        \"samples\": [\n          \"affirmed\",\n          \"applied\",\n          \"considered\"\n        ],\n        \"semantic_type\": \"\",\n        \"description\": \"\"\n      }\n    },\n    {\n      \"column\": \"case_title\",\n      \"properties\": {\n        \"dtype\": \"string\",\n        \"num_unique_values\": 18581,\n        \"samples\": [\n          \"SZMDG v Minister for Immigration and Anor [2008] FMCA 1075\",\n          \"Venus Adult Shops Pty Ltd and Others v Fraserside Holdings Ltd and Another [2006] FCAFC 188 ; (2006) 157 FCR 442\",\n          \"CPSU v Telstra Corporation Ltd [2001] FCA 267 ; (2001) 107 FCR 93 \"\n        ],\n        \"semantic_type\": \"\",\n        \"description\": \"\"\n      }\n    },\n    {\n      \"column\": \"case_text\",\n      \"properties\": {\n        \"dtype\": \"string\",\n        \"num_unique_values\": 17920,\n        \"samples\": [\n          \"need not recount in further detail the claims of estoppel, unfairness and waiver. In relation to \\\"substantive unfairness\\\", the applicants cite R v Inland Revenue Commissioner; Ex parte Preston [1984] UKHL 5 ; [1985] AC 835 at 866 7 (Templeman LJ) (for the principle that judicial review may be warranted where a commissioner's decision is unfair and amounting to a breach of contract or breach of representation, and therefore within the ambit of an abuse of power). They acknowledge the note of caution in relation to this principle that was sounded by Lehane J in Daihatsu Australia Pty Ltd v Deputy Commissioner of Taxation (2001) 182 ALR 239 (\\\" Daihatsu \\\") at [51] (that note of caution being that such a principle has not been the subject of extended consideration by Australian courts), but say that at the trial, they will submit that the principles of administrative law in Australia are developing to take account of a form of doctrine of substantive unfairness of the kind described by Lord Templeman. REASONING Order 20 of the FCRs and s 31A of the FCA Act Deloitte and Daihatsu concerned notices issued by the Commissioner under s 264 of the ITAA. In Deloitte , Goldberg J (at 451) expressed the opinion, and the Commissioner did not dispute, that the Commissioner's delegate was bound to have regard to the Guidelines when deciding to issue a notice under s 264. His Honour said that for this reason it was not necessary for him to deal with the Commissioner's submission that the Guidelines were not a source of rights. In Daihatsu , the taxpayer sought relief under s 16 of the AD(JR) Act and s 39B of the Judiciary Act in respect of notices issued under s 264 of the ITAA. Lehane J (at [68]) refused relief on the merits.\",\n          \"The Bankruptcy Act , it must nevertheless be accepted, confers no entitlement to trial by jury: Hubner v Australia and New Zealand Banking Group Ltd [1999] FCA 385 , 88 FCR 445. Cooper, Kiefel and Tamberlin JJ were there addressing s 30(3) of the 1966 Act, and not s 30(1)(i), but relevantly concluded: Jury [27] Mr and Mrs Hubner also say that the bankruptcy proceedings should be heard with a jury pursuant to s30(3) of the Act. That provision reads: \\\"(3) If in a proceeding before the Court under this Act a question of fact arises that a party desires to have trial before a jury, the Court may, if it thinks fit, direct the trial to that question to be had before a jury, and the trial may be had accordingly in the same manner as if it were the trail of an issue of fact in an action.\\\" [28] The appellants say that it is a civil right of all Queenslanders to have a trial by jury under s30(3). [29] In view of the approach taken by his Honour, which we consider to be correct, the question of a jury trial does not arise; so we do not accept the applicants' submissions in relation to this matter. Moreover, there was no relevant question of fact raised for a jury to determine. The Court under s30(3) has a wide discretion and there is no entitlement to a jury trial given by the section. We are not persuaded, given the necessity for a clear case of error to be shown on a matter of principle that there is any justification for ordering a jury trial in the present case. We see no error on the part of his Honour. Section 30(3) is not beyond the legislative competence of Commonwealth Parliament and is not invalid because of any unfounded assertion that it \\\" undermines or perverts \\\" the Constitution : Commonwealth Bank of Australia v Heinrich [2000] FCA 1255 at [18] [25] per Mansfield J. Nor is there any entitlement to trial by jury arising by reason of either some \\\" unwritten law \\\" such as natural justice or by reason of Schedule 2 to the Human Rights and Equal Opportunity Commission Act 1986 (Cth): Hubner v ANZ Banking Group Ltd [2000] FCA 140 at [9] [10], [2000] FCA 140 ; 101 FCR 71 at 73 per Drummond, Dowsett and Katz JJ.\",\n          \"The Tribunal found that \\\"it is difficult to consider a commercial funeral business as having an objective of the advancement of religion\\\" and that \\\"the business was a commercial operation for the purpose of making a commercial profit\\\" . The Tribunal relied on the decision of Priestley JA (with whom McHugh JA agreed) in Glebe Administration Board v Commissioner of Pay-roll Tax (1987) 10 NSWLR 352, where his Honour said, at 365: \\\"In my opinion the Board was not at any relevant time a religious institution. It was a statutory corporation doing commercial work within limitations fixed by reference to religious principles. It was staffed by persons who wished to observe the religious principles giving rise to the limitations on the Board's commercial activities. The property in its ownership both increased in value and gave rise to revenue. Capital was held for the benefit of a religious institution and large amounts of revenue were handed over to that institution. To my mind all these matters result in it being accurate to describe the Board as a legal entity working in a commercial area, guiding its commercial conduct by the principles of a religious institution and, in ordinary language, working for that religious institution. I do not think that this legal entity can either by an ordinary or a technical use of language be accurately called a religious institution.\\\" 57 This case does not aid the Commissioner. Its facts are distinguishable from the present case. It concerned a statutory body exercising property ownership and investment powers given to it by statute. The Board was required by statute to hold and invest church property and to deal with any proceeds. Its purposes were thus defined by statute. This is to be contrasted with Word, which is an independent organisation which has chosen to apply funds that it raises to Wycliffe and other religious bodies. The Board's manner of operation was also different from Word's. It lent money for short terms at commercial interest rates and applied funds for church activities generally, rather than the specific activities supported by Word. Finally, the Board claimed to be a religious institution not, as in the present case, a charitable institution. Word concedes that it cannot be a religious institution. 58 In my view, in concluding that the running of a funeral business could not advance religion, the Tribunal fell into two errors. The first was to consider the funeral business in isolation from the remainder of Word's operations. There was no evidence to suggest that, from the commencement of Bethel Funerals, Word ceased receiving money from investors. The entity claiming to be a charitable organisation is Word, not the Bethel Funerals operations of Word. Word's activities as a whole must be considered when determining whether its purposes were charitable. 59 When such a consideration is undertaken, the second error becomes clear. Word's purposes as a whole were to raise money for provision to Wycliffe and similar organisations. This was true both before and after the establishment of Bethel Funerals. It was only the manner of raising the money that changed; the purpose for doing it remained the same. The Tribunal's error appears to have involved drawing an unwarranted distinction between active and passive investment. It seems to have assumed that it may be charitable for an organisation to receive funds from investors who may or may not have been encouraged to support its goals and ideals, but that it cannot be charitable for the organisation to actively establish a business to derive similar income. 60 The Tribunal's distinction is at odds with the practice of contemporary charitable organisations. With the decline of the welfare state, charitable organisations are expected to do more with the same resources. Reliance on donations alone will, in many cases, be insufficient. Hence many charitable organisations have established business ventures to generate the income necessary to support their activities. There may appear to be a vast difference between selling lamingtons at a church f&ecirc;te and selling funeral services, but where the object of raising the funds is the same, I can no see no reason to draw a legal distinction between the two. I again refer in this connection to the cases referred to at [33]-[35]. 61 It follows that, for the period from 1 July 2000 to 1 July 2002, Word was a charitable institution under item 1.1 of the table at s 50-5 of the Act and is entitled to endorsement accordingly. The cross-appeal is therefore allowed. Word's alternative argument that its articles and memorandum of association created an instrument of trust need not be considered. 62 As set out above at [16], Word established the Foundation from 1 July 2002 to carry on the business of Bethel Funerals. This effected a significant change from the position prior to that date, when Bethel Funerals was merely a part of Word rather than run through a separate legal entity. The Tribunal held that \\\"the activities after 1 July 2002, being the same as those prior to 1996, entitle [Word] to endorsement as a charitable institution from that date.\\\"\"\n        ],\n        \"semantic_type\": \"\",\n        \"description\": \"\"\n      }\n    }\n  ]\n}",
              "type": "dataframe",
              "variable_name": "data"
            },
            "text/html": [
              "\n",
              "  <div id=\"df-7eb10d59-8c16-426e-a995-30b72a31fd5f\" class=\"colab-df-container\">\n",
              "    <div>\n",
              "<style scoped>\n",
              "    .dataframe tbody tr th:only-of-type {\n",
              "        vertical-align: middle;\n",
              "    }\n",
              "\n",
              "    .dataframe tbody tr th {\n",
              "        vertical-align: top;\n",
              "    }\n",
              "\n",
              "    .dataframe thead th {\n",
              "        text-align: right;\n",
              "    }\n",
              "</style>\n",
              "<table border=\"1\" class=\"dataframe\">\n",
              "  <thead>\n",
              "    <tr style=\"text-align: right;\">\n",
              "      <th></th>\n",
              "      <th>case_id</th>\n",
              "      <th>case_outcome</th>\n",
              "      <th>case_title</th>\n",
              "      <th>case_text</th>\n",
              "    </tr>\n",
              "  </thead>\n",
              "  <tbody>\n",
              "    <tr>\n",
              "      <th>0</th>\n",
              "      <td>Case1</td>\n",
              "      <td>cited</td>\n",
              "      <td>Alpine Hardwood (Aust) Pty Ltd v Hardys Pty Lt...</td>\n",
              "      <td>Ordinarily that discretion will be exercised s...</td>\n",
              "    </tr>\n",
              "    <tr>\n",
              "      <th>1</th>\n",
              "      <td>Case2</td>\n",
              "      <td>cited</td>\n",
              "      <td>Black v Lipovac [1998] FCA 699 ; (1998) 217 AL...</td>\n",
              "      <td>The general principles governing the exercise ...</td>\n",
              "    </tr>\n",
              "    <tr>\n",
              "      <th>2</th>\n",
              "      <td>Case3</td>\n",
              "      <td>cited</td>\n",
              "      <td>Colgate Palmolive Co v Cussons Pty Ltd (1993) ...</td>\n",
              "      <td>Ordinarily that discretion will be exercised s...</td>\n",
              "    </tr>\n",
              "    <tr>\n",
              "      <th>3</th>\n",
              "      <td>Case4</td>\n",
              "      <td>cited</td>\n",
              "      <td>Dais Studio Pty Ltd v Bullett Creative Pty Ltd...</td>\n",
              "      <td>The general principles governing the exercise ...</td>\n",
              "    </tr>\n",
              "    <tr>\n",
              "      <th>4</th>\n",
              "      <td>Case5</td>\n",
              "      <td>cited</td>\n",
              "      <td>Dr Martens Australia Pty Ltd v Figgins Holding...</td>\n",
              "      <td>The preceding general principles inform the ex...</td>\n",
              "    </tr>\n",
              "  </tbody>\n",
              "</table>\n",
              "</div>\n",
              "    <div class=\"colab-df-buttons\">\n",
              "\n",
              "  <div class=\"colab-df-container\">\n",
              "    <button class=\"colab-df-convert\" onclick=\"convertToInteractive('df-7eb10d59-8c16-426e-a995-30b72a31fd5f')\"\n",
              "            title=\"Convert this dataframe to an interactive table.\"\n",
              "            style=\"display:none;\">\n",
              "\n",
              "  <svg xmlns=\"http://www.w3.org/2000/svg\" height=\"24px\" viewBox=\"0 -960 960 960\">\n",
              "    <path d=\"M120-120v-720h720v720H120Zm60-500h600v-160H180v160Zm220 220h160v-160H400v160Zm0 220h160v-160H400v160ZM180-400h160v-160H180v160Zm440 0h160v-160H620v160ZM180-180h160v-160H180v160Zm440 0h160v-160H620v160Z\"/>\n",
              "  </svg>\n",
              "    </button>\n",
              "\n",
              "  <style>\n",
              "    .colab-df-container {\n",
              "      display:flex;\n",
              "      gap: 12px;\n",
              "    }\n",
              "\n",
              "    .colab-df-convert {\n",
              "      background-color: #E8F0FE;\n",
              "      border: none;\n",
              "      border-radius: 50%;\n",
              "      cursor: pointer;\n",
              "      display: none;\n",
              "      fill: #1967D2;\n",
              "      height: 32px;\n",
              "      padding: 0 0 0 0;\n",
              "      width: 32px;\n",
              "    }\n",
              "\n",
              "    .colab-df-convert:hover {\n",
              "      background-color: #E2EBFA;\n",
              "      box-shadow: 0px 1px 2px rgba(60, 64, 67, 0.3), 0px 1px 3px 1px rgba(60, 64, 67, 0.15);\n",
              "      fill: #174EA6;\n",
              "    }\n",
              "\n",
              "    .colab-df-buttons div {\n",
              "      margin-bottom: 4px;\n",
              "    }\n",
              "\n",
              "    [theme=dark] .colab-df-convert {\n",
              "      background-color: #3B4455;\n",
              "      fill: #D2E3FC;\n",
              "    }\n",
              "\n",
              "    [theme=dark] .colab-df-convert:hover {\n",
              "      background-color: #434B5C;\n",
              "      box-shadow: 0px 1px 3px 1px rgba(0, 0, 0, 0.15);\n",
              "      filter: drop-shadow(0px 1px 2px rgba(0, 0, 0, 0.3));\n",
              "      fill: #FFFFFF;\n",
              "    }\n",
              "  </style>\n",
              "\n",
              "    <script>\n",
              "      const buttonEl =\n",
              "        document.querySelector('#df-7eb10d59-8c16-426e-a995-30b72a31fd5f button.colab-df-convert');\n",
              "      buttonEl.style.display =\n",
              "        google.colab.kernel.accessAllowed ? 'block' : 'none';\n",
              "\n",
              "      async function convertToInteractive(key) {\n",
              "        const element = document.querySelector('#df-7eb10d59-8c16-426e-a995-30b72a31fd5f');\n",
              "        const dataTable =\n",
              "          await google.colab.kernel.invokeFunction('convertToInteractive',\n",
              "                                                    [key], {});\n",
              "        if (!dataTable) return;\n",
              "\n",
              "        const docLinkHtml = 'Like what you see? Visit the ' +\n",
              "          '<a target=\"_blank\" href=https://colab.research.google.com/notebooks/data_table.ipynb>data table notebook</a>'\n",
              "          + ' to learn more about interactive tables.';\n",
              "        element.innerHTML = '';\n",
              "        dataTable['output_type'] = 'display_data';\n",
              "        await google.colab.output.renderOutput(dataTable, element);\n",
              "        const docLink = document.createElement('div');\n",
              "        docLink.innerHTML = docLinkHtml;\n",
              "        element.appendChild(docLink);\n",
              "      }\n",
              "    </script>\n",
              "  </div>\n",
              "\n",
              "\n",
              "<div id=\"df-d017f271-5425-4098-a29b-1d67ccc11f92\">\n",
              "  <button class=\"colab-df-quickchart\" onclick=\"quickchart('df-d017f271-5425-4098-a29b-1d67ccc11f92')\"\n",
              "            title=\"Suggest charts\"\n",
              "            style=\"display:none;\">\n",
              "\n",
              "<svg xmlns=\"http://www.w3.org/2000/svg\" height=\"24px\"viewBox=\"0 0 24 24\"\n",
              "     width=\"24px\">\n",
              "    <g>\n",
              "        <path d=\"M19 3H5c-1.1 0-2 .9-2 2v14c0 1.1.9 2 2 2h14c1.1 0 2-.9 2-2V5c0-1.1-.9-2-2-2zM9 17H7v-7h2v7zm4 0h-2V7h2v10zm4 0h-2v-4h2v4z\"/>\n",
              "    </g>\n",
              "</svg>\n",
              "  </button>\n",
              "\n",
              "<style>\n",
              "  .colab-df-quickchart {\n",
              "      --bg-color: #E8F0FE;\n",
              "      --fill-color: #1967D2;\n",
              "      --hover-bg-color: #E2EBFA;\n",
              "      --hover-fill-color: #174EA6;\n",
              "      --disabled-fill-color: #AAA;\n",
              "      --disabled-bg-color: #DDD;\n",
              "  }\n",
              "\n",
              "  [theme=dark] .colab-df-quickchart {\n",
              "      --bg-color: #3B4455;\n",
              "      --fill-color: #D2E3FC;\n",
              "      --hover-bg-color: #434B5C;\n",
              "      --hover-fill-color: #FFFFFF;\n",
              "      --disabled-bg-color: #3B4455;\n",
              "      --disabled-fill-color: #666;\n",
              "  }\n",
              "\n",
              "  .colab-df-quickchart {\n",
              "    background-color: var(--bg-color);\n",
              "    border: none;\n",
              "    border-radius: 50%;\n",
              "    cursor: pointer;\n",
              "    display: none;\n",
              "    fill: var(--fill-color);\n",
              "    height: 32px;\n",
              "    padding: 0;\n",
              "    width: 32px;\n",
              "  }\n",
              "\n",
              "  .colab-df-quickchart:hover {\n",
              "    background-color: var(--hover-bg-color);\n",
              "    box-shadow: 0 1px 2px rgba(60, 64, 67, 0.3), 0 1px 3px 1px rgba(60, 64, 67, 0.15);\n",
              "    fill: var(--button-hover-fill-color);\n",
              "  }\n",
              "\n",
              "  .colab-df-quickchart-complete:disabled,\n",
              "  .colab-df-quickchart-complete:disabled:hover {\n",
              "    background-color: var(--disabled-bg-color);\n",
              "    fill: var(--disabled-fill-color);\n",
              "    box-shadow: none;\n",
              "  }\n",
              "\n",
              "  .colab-df-spinner {\n",
              "    border: 2px solid var(--fill-color);\n",
              "    border-color: transparent;\n",
              "    border-bottom-color: var(--fill-color);\n",
              "    animation:\n",
              "      spin 1s steps(1) infinite;\n",
              "  }\n",
              "\n",
              "  @keyframes spin {\n",
              "    0% {\n",
              "      border-color: transparent;\n",
              "      border-bottom-color: var(--fill-color);\n",
              "      border-left-color: var(--fill-color);\n",
              "    }\n",
              "    20% {\n",
              "      border-color: transparent;\n",
              "      border-left-color: var(--fill-color);\n",
              "      border-top-color: var(--fill-color);\n",
              "    }\n",
              "    30% {\n",
              "      border-color: transparent;\n",
              "      border-left-color: var(--fill-color);\n",
              "      border-top-color: var(--fill-color);\n",
              "      border-right-color: var(--fill-color);\n",
              "    }\n",
              "    40% {\n",
              "      border-color: transparent;\n",
              "      border-right-color: var(--fill-color);\n",
              "      border-top-color: var(--fill-color);\n",
              "    }\n",
              "    60% {\n",
              "      border-color: transparent;\n",
              "      border-right-color: var(--fill-color);\n",
              "    }\n",
              "    80% {\n",
              "      border-color: transparent;\n",
              "      border-right-color: var(--fill-color);\n",
              "      border-bottom-color: var(--fill-color);\n",
              "    }\n",
              "    90% {\n",
              "      border-color: transparent;\n",
              "      border-bottom-color: var(--fill-color);\n",
              "    }\n",
              "  }\n",
              "</style>\n",
              "\n",
              "  <script>\n",
              "    async function quickchart(key) {\n",
              "      const quickchartButtonEl =\n",
              "        document.querySelector('#' + key + ' button');\n",
              "      quickchartButtonEl.disabled = true;  // To prevent multiple clicks.\n",
              "      quickchartButtonEl.classList.add('colab-df-spinner');\n",
              "      try {\n",
              "        const charts = await google.colab.kernel.invokeFunction(\n",
              "            'suggestCharts', [key], {});\n",
              "      } catch (error) {\n",
              "        console.error('Error during call to suggestCharts:', error);\n",
              "      }\n",
              "      quickchartButtonEl.classList.remove('colab-df-spinner');\n",
              "      quickchartButtonEl.classList.add('colab-df-quickchart-complete');\n",
              "    }\n",
              "    (() => {\n",
              "      let quickchartButtonEl =\n",
              "        document.querySelector('#df-d017f271-5425-4098-a29b-1d67ccc11f92 button');\n",
              "      quickchartButtonEl.style.display =\n",
              "        google.colab.kernel.accessAllowed ? 'block' : 'none';\n",
              "    })();\n",
              "  </script>\n",
              "</div>\n",
              "    </div>\n",
              "  </div>\n"
            ],
            "text/plain": [
              "  case_id case_outcome                                         case_title  \\\n",
              "0   Case1        cited  Alpine Hardwood (Aust) Pty Ltd v Hardys Pty Lt...   \n",
              "1   Case2        cited  Black v Lipovac [1998] FCA 699 ; (1998) 217 AL...   \n",
              "2   Case3        cited  Colgate Palmolive Co v Cussons Pty Ltd (1993) ...   \n",
              "3   Case4        cited  Dais Studio Pty Ltd v Bullett Creative Pty Ltd...   \n",
              "4   Case5        cited  Dr Martens Australia Pty Ltd v Figgins Holding...   \n",
              "\n",
              "                                           case_text  \n",
              "0  Ordinarily that discretion will be exercised s...  \n",
              "1  The general principles governing the exercise ...  \n",
              "2  Ordinarily that discretion will be exercised s...  \n",
              "3  The general principles governing the exercise ...  \n",
              "4  The preceding general principles inform the ex...  "
            ]
          },
          "execution_count": 4,
          "metadata": {},
          "output_type": "execute_result"
        }
      ],
      "source": [
        "import pandas as pd\n",
        "data = pd.read_csv('legal_text_classification.csv')\n",
        "data.head()"
      ]
    },
    {
      "cell_type": "code",
      "execution_count": null,
      "metadata": {
        "colab": {
          "base_uri": "https://localhost:8080/"
        },
        "id": "ipY8cQHHN_UD",
        "outputId": "33718ed0-8549-4494-858e-80e4a8e74f6e"
      },
      "outputs": [
        {
          "data": {
            "text/plain": [
              "case_id           0\n",
              "case_outcome      0\n",
              "case_title        0\n",
              "case_text       176\n",
              "dtype: int64"
            ]
          },
          "execution_count": 5,
          "metadata": {},
          "output_type": "execute_result"
        }
      ],
      "source": [
        "data.isnull().sum()"
      ]
    },
    {
      "cell_type": "code",
      "execution_count": null,
      "metadata": {
        "colab": {
          "base_uri": "https://localhost:8080/"
        },
        "id": "gRk0qOc0OEs_",
        "outputId": "473afdba-b386-4f3a-fc8d-f6a8a3f91bd6"
      },
      "outputs": [
        {
          "data": {
            "text/plain": [
              "array(['cited', 'applied', 'followed', 'referred to', 'related',\n",
              "       'considered', 'discussed', 'distinguished', 'affirmed', 'approved'],\n",
              "      dtype=object)"
            ]
          },
          "execution_count": 7,
          "metadata": {},
          "output_type": "execute_result"
        }
      ],
      "source": [
        "data['case_outcome'].unique()"
      ]
    },
    {
      "cell_type": "code",
      "execution_count": null,
      "metadata": {
        "id": "pupMmdZWOIX6"
      },
      "outputs": [],
      "source": [
        "import numpy as np\n",
        "from sklearn.metrics import *\n",
        "from sklearn.model_selection import train_test_split\n",
        "from sklearn.pipeline import Pipeline"
      ]
    },
    {
      "cell_type": "code",
      "execution_count": null,
      "metadata": {
        "id": "p_2vVwvlOhcV"
      },
      "outputs": [],
      "source": [
        "from sklearn.linear_model import LogisticRegression\n",
        "from sklearn.feature_extraction.text import CountVectorizer\n",
        "from nltk import ngrams"
      ]
    },
    {
      "cell_type": "code",
      "execution_count": null,
      "metadata": {
        "id": "IWo6QM0jOwqd"
      },
      "outputs": [],
      "source": [
        "data.drop('case_id', axis=1, inplace=True)"
      ]
    },
    {
      "cell_type": "code",
      "execution_count": null,
      "metadata": {
        "id": "6lnnhqhNQOJQ"
      },
      "outputs": [],
      "source": [
        "data.dropna(inplace=True)"
      ]
    },
    {
      "cell_type": "code",
      "execution_count": null,
      "metadata": {
        "colab": {
          "base_uri": "https://localhost:8080/",
          "height": 206
        },
        "id": "t2VhExmMQW6U",
        "outputId": "539f08c9-a532-4b9e-9564-413868f28b8f"
      },
      "outputs": [
        {
          "data": {
            "application/vnd.google.colaboratory.intrinsic+json": {
              "summary": "{\n  \"name\": \"data\",\n  \"rows\": 24809,\n  \"fields\": [\n    {\n      \"column\": \"case_outcome\",\n      \"properties\": {\n        \"dtype\": \"category\",\n        \"num_unique_values\": 10,\n        \"samples\": [\n          \"affirmed\",\n          \"applied\",\n          \"considered\"\n        ],\n        \"semantic_type\": \"\",\n        \"description\": \"\"\n      }\n    },\n    {\n      \"column\": \"case_title\",\n      \"properties\": {\n        \"dtype\": \"string\",\n        \"num_unique_values\": 18461,\n        \"samples\": [\n          \"General Motors-Holden's Pty Ltd v Bowling (1976) 51 ALJR 233\",\n          \"Mentha v GE Capital Ltd (1997) 154 ALR 565\",\n          \"Monroe Topple &amp; Associates Pty Ltd v Institute of Chartered Accountants in Australia [2002] FCAFC 197 ; (2002) 122 FCR 110\"\n        ],\n        \"semantic_type\": \"\",\n        \"description\": \"\"\n      }\n    },\n    {\n      \"column\": \"case_text\",\n      \"properties\": {\n        \"dtype\": \"string\",\n        \"num_unique_values\": 17920,\n        \"samples\": [\n          \"need not recount in further detail the claims of estoppel, unfairness and waiver. In relation to \\\"substantive unfairness\\\", the applicants cite R v Inland Revenue Commissioner; Ex parte Preston [1984] UKHL 5 ; [1985] AC 835 at 866 7 (Templeman LJ) (for the principle that judicial review may be warranted where a commissioner's decision is unfair and amounting to a breach of contract or breach of representation, and therefore within the ambit of an abuse of power). They acknowledge the note of caution in relation to this principle that was sounded by Lehane J in Daihatsu Australia Pty Ltd v Deputy Commissioner of Taxation (2001) 182 ALR 239 (\\\" Daihatsu \\\") at [51] (that note of caution being that such a principle has not been the subject of extended consideration by Australian courts), but say that at the trial, they will submit that the principles of administrative law in Australia are developing to take account of a form of doctrine of substantive unfairness of the kind described by Lord Templeman. REASONING Order 20 of the FCRs and s 31A of the FCA Act Deloitte and Daihatsu concerned notices issued by the Commissioner under s 264 of the ITAA. In Deloitte , Goldberg J (at 451) expressed the opinion, and the Commissioner did not dispute, that the Commissioner's delegate was bound to have regard to the Guidelines when deciding to issue a notice under s 264. His Honour said that for this reason it was not necessary for him to deal with the Commissioner's submission that the Guidelines were not a source of rights. In Daihatsu , the taxpayer sought relief under s 16 of the AD(JR) Act and s 39B of the Judiciary Act in respect of notices issued under s 264 of the ITAA. Lehane J (at [68]) refused relief on the merits.\",\n          \"The Bankruptcy Act , it must nevertheless be accepted, confers no entitlement to trial by jury: Hubner v Australia and New Zealand Banking Group Ltd [1999] FCA 385 , 88 FCR 445. Cooper, Kiefel and Tamberlin JJ were there addressing s 30(3) of the 1966 Act, and not s 30(1)(i), but relevantly concluded: Jury [27] Mr and Mrs Hubner also say that the bankruptcy proceedings should be heard with a jury pursuant to s30(3) of the Act. That provision reads: \\\"(3) If in a proceeding before the Court under this Act a question of fact arises that a party desires to have trial before a jury, the Court may, if it thinks fit, direct the trial to that question to be had before a jury, and the trial may be had accordingly in the same manner as if it were the trail of an issue of fact in an action.\\\" [28] The appellants say that it is a civil right of all Queenslanders to have a trial by jury under s30(3). [29] In view of the approach taken by his Honour, which we consider to be correct, the question of a jury trial does not arise; so we do not accept the applicants' submissions in relation to this matter. Moreover, there was no relevant question of fact raised for a jury to determine. The Court under s30(3) has a wide discretion and there is no entitlement to a jury trial given by the section. We are not persuaded, given the necessity for a clear case of error to be shown on a matter of principle that there is any justification for ordering a jury trial in the present case. We see no error on the part of his Honour. Section 30(3) is not beyond the legislative competence of Commonwealth Parliament and is not invalid because of any unfounded assertion that it \\\" undermines or perverts \\\" the Constitution : Commonwealth Bank of Australia v Heinrich [2000] FCA 1255 at [18] [25] per Mansfield J. Nor is there any entitlement to trial by jury arising by reason of either some \\\" unwritten law \\\" such as natural justice or by reason of Schedule 2 to the Human Rights and Equal Opportunity Commission Act 1986 (Cth): Hubner v ANZ Banking Group Ltd [2000] FCA 140 at [9] [10], [2000] FCA 140 ; 101 FCR 71 at 73 per Drummond, Dowsett and Katz JJ.\",\n          \"The Tribunal found that \\\"it is difficult to consider a commercial funeral business as having an objective of the advancement of religion\\\" and that \\\"the business was a commercial operation for the purpose of making a commercial profit\\\" . The Tribunal relied on the decision of Priestley JA (with whom McHugh JA agreed) in Glebe Administration Board v Commissioner of Pay-roll Tax (1987) 10 NSWLR 352, where his Honour said, at 365: \\\"In my opinion the Board was not at any relevant time a religious institution. It was a statutory corporation doing commercial work within limitations fixed by reference to religious principles. It was staffed by persons who wished to observe the religious principles giving rise to the limitations on the Board's commercial activities. The property in its ownership both increased in value and gave rise to revenue. Capital was held for the benefit of a religious institution and large amounts of revenue were handed over to that institution. To my mind all these matters result in it being accurate to describe the Board as a legal entity working in a commercial area, guiding its commercial conduct by the principles of a religious institution and, in ordinary language, working for that religious institution. I do not think that this legal entity can either by an ordinary or a technical use of language be accurately called a religious institution.\\\" 57 This case does not aid the Commissioner. Its facts are distinguishable from the present case. It concerned a statutory body exercising property ownership and investment powers given to it by statute. The Board was required by statute to hold and invest church property and to deal with any proceeds. Its purposes were thus defined by statute. This is to be contrasted with Word, which is an independent organisation which has chosen to apply funds that it raises to Wycliffe and other religious bodies. The Board's manner of operation was also different from Word's. It lent money for short terms at commercial interest rates and applied funds for church activities generally, rather than the specific activities supported by Word. Finally, the Board claimed to be a religious institution not, as in the present case, a charitable institution. Word concedes that it cannot be a religious institution. 58 In my view, in concluding that the running of a funeral business could not advance religion, the Tribunal fell into two errors. The first was to consider the funeral business in isolation from the remainder of Word's operations. There was no evidence to suggest that, from the commencement of Bethel Funerals, Word ceased receiving money from investors. The entity claiming to be a charitable organisation is Word, not the Bethel Funerals operations of Word. Word's activities as a whole must be considered when determining whether its purposes were charitable. 59 When such a consideration is undertaken, the second error becomes clear. Word's purposes as a whole were to raise money for provision to Wycliffe and similar organisations. This was true both before and after the establishment of Bethel Funerals. It was only the manner of raising the money that changed; the purpose for doing it remained the same. The Tribunal's error appears to have involved drawing an unwarranted distinction between active and passive investment. It seems to have assumed that it may be charitable for an organisation to receive funds from investors who may or may not have been encouraged to support its goals and ideals, but that it cannot be charitable for the organisation to actively establish a business to derive similar income. 60 The Tribunal's distinction is at odds with the practice of contemporary charitable organisations. With the decline of the welfare state, charitable organisations are expected to do more with the same resources. Reliance on donations alone will, in many cases, be insufficient. Hence many charitable organisations have established business ventures to generate the income necessary to support their activities. There may appear to be a vast difference between selling lamingtons at a church f&ecirc;te and selling funeral services, but where the object of raising the funds is the same, I can no see no reason to draw a legal distinction between the two. I again refer in this connection to the cases referred to at [33]-[35]. 61 It follows that, for the period from 1 July 2000 to 1 July 2002, Word was a charitable institution under item 1.1 of the table at s 50-5 of the Act and is entitled to endorsement accordingly. The cross-appeal is therefore allowed. Word's alternative argument that its articles and memorandum of association created an instrument of trust need not be considered. 62 As set out above at [16], Word established the Foundation from 1 July 2002 to carry on the business of Bethel Funerals. This effected a significant change from the position prior to that date, when Bethel Funerals was merely a part of Word rather than run through a separate legal entity. The Tribunal held that \\\"the activities after 1 July 2002, being the same as those prior to 1996, entitle [Word] to endorsement as a charitable institution from that date.\\\"\"\n        ],\n        \"semantic_type\": \"\",\n        \"description\": \"\"\n      }\n    }\n  ]\n}",
              "type": "dataframe",
              "variable_name": "data"
            },
            "text/html": [
              "\n",
              "  <div id=\"df-3f5006cd-dc1e-4c1c-bd4e-6244b1657ba9\" class=\"colab-df-container\">\n",
              "    <div>\n",
              "<style scoped>\n",
              "    .dataframe tbody tr th:only-of-type {\n",
              "        vertical-align: middle;\n",
              "    }\n",
              "\n",
              "    .dataframe tbody tr th {\n",
              "        vertical-align: top;\n",
              "    }\n",
              "\n",
              "    .dataframe thead th {\n",
              "        text-align: right;\n",
              "    }\n",
              "</style>\n",
              "<table border=\"1\" class=\"dataframe\">\n",
              "  <thead>\n",
              "    <tr style=\"text-align: right;\">\n",
              "      <th></th>\n",
              "      <th>case_outcome</th>\n",
              "      <th>case_title</th>\n",
              "      <th>case_text</th>\n",
              "    </tr>\n",
              "  </thead>\n",
              "  <tbody>\n",
              "    <tr>\n",
              "      <th>0</th>\n",
              "      <td>cited</td>\n",
              "      <td>Alpine Hardwood (Aust) Pty Ltd v Hardys Pty Lt...</td>\n",
              "      <td>Ordinarily that discretion will be exercised s...</td>\n",
              "    </tr>\n",
              "    <tr>\n",
              "      <th>1</th>\n",
              "      <td>cited</td>\n",
              "      <td>Black v Lipovac [1998] FCA 699 ; (1998) 217 AL...</td>\n",
              "      <td>The general principles governing the exercise ...</td>\n",
              "    </tr>\n",
              "    <tr>\n",
              "      <th>2</th>\n",
              "      <td>cited</td>\n",
              "      <td>Colgate Palmolive Co v Cussons Pty Ltd (1993) ...</td>\n",
              "      <td>Ordinarily that discretion will be exercised s...</td>\n",
              "    </tr>\n",
              "    <tr>\n",
              "      <th>3</th>\n",
              "      <td>cited</td>\n",
              "      <td>Dais Studio Pty Ltd v Bullett Creative Pty Ltd...</td>\n",
              "      <td>The general principles governing the exercise ...</td>\n",
              "    </tr>\n",
              "    <tr>\n",
              "      <th>4</th>\n",
              "      <td>cited</td>\n",
              "      <td>Dr Martens Australia Pty Ltd v Figgins Holding...</td>\n",
              "      <td>The preceding general principles inform the ex...</td>\n",
              "    </tr>\n",
              "  </tbody>\n",
              "</table>\n",
              "</div>\n",
              "    <div class=\"colab-df-buttons\">\n",
              "\n",
              "  <div class=\"colab-df-container\">\n",
              "    <button class=\"colab-df-convert\" onclick=\"convertToInteractive('df-3f5006cd-dc1e-4c1c-bd4e-6244b1657ba9')\"\n",
              "            title=\"Convert this dataframe to an interactive table.\"\n",
              "            style=\"display:none;\">\n",
              "\n",
              "  <svg xmlns=\"http://www.w3.org/2000/svg\" height=\"24px\" viewBox=\"0 -960 960 960\">\n",
              "    <path d=\"M120-120v-720h720v720H120Zm60-500h600v-160H180v160Zm220 220h160v-160H400v160Zm0 220h160v-160H400v160ZM180-400h160v-160H180v160Zm440 0h160v-160H620v160ZM180-180h160v-160H180v160Zm440 0h160v-160H620v160Z\"/>\n",
              "  </svg>\n",
              "    </button>\n",
              "\n",
              "  <style>\n",
              "    .colab-df-container {\n",
              "      display:flex;\n",
              "      gap: 12px;\n",
              "    }\n",
              "\n",
              "    .colab-df-convert {\n",
              "      background-color: #E8F0FE;\n",
              "      border: none;\n",
              "      border-radius: 50%;\n",
              "      cursor: pointer;\n",
              "      display: none;\n",
              "      fill: #1967D2;\n",
              "      height: 32px;\n",
              "      padding: 0 0 0 0;\n",
              "      width: 32px;\n",
              "    }\n",
              "\n",
              "    .colab-df-convert:hover {\n",
              "      background-color: #E2EBFA;\n",
              "      box-shadow: 0px 1px 2px rgba(60, 64, 67, 0.3), 0px 1px 3px 1px rgba(60, 64, 67, 0.15);\n",
              "      fill: #174EA6;\n",
              "    }\n",
              "\n",
              "    .colab-df-buttons div {\n",
              "      margin-bottom: 4px;\n",
              "    }\n",
              "\n",
              "    [theme=dark] .colab-df-convert {\n",
              "      background-color: #3B4455;\n",
              "      fill: #D2E3FC;\n",
              "    }\n",
              "\n",
              "    [theme=dark] .colab-df-convert:hover {\n",
              "      background-color: #434B5C;\n",
              "      box-shadow: 0px 1px 3px 1px rgba(0, 0, 0, 0.15);\n",
              "      filter: drop-shadow(0px 1px 2px rgba(0, 0, 0, 0.3));\n",
              "      fill: #FFFFFF;\n",
              "    }\n",
              "  </style>\n",
              "\n",
              "    <script>\n",
              "      const buttonEl =\n",
              "        document.querySelector('#df-3f5006cd-dc1e-4c1c-bd4e-6244b1657ba9 button.colab-df-convert');\n",
              "      buttonEl.style.display =\n",
              "        google.colab.kernel.accessAllowed ? 'block' : 'none';\n",
              "\n",
              "      async function convertToInteractive(key) {\n",
              "        const element = document.querySelector('#df-3f5006cd-dc1e-4c1c-bd4e-6244b1657ba9');\n",
              "        const dataTable =\n",
              "          await google.colab.kernel.invokeFunction('convertToInteractive',\n",
              "                                                    [key], {});\n",
              "        if (!dataTable) return;\n",
              "\n",
              "        const docLinkHtml = 'Like what you see? Visit the ' +\n",
              "          '<a target=\"_blank\" href=https://colab.research.google.com/notebooks/data_table.ipynb>data table notebook</a>'\n",
              "          + ' to learn more about interactive tables.';\n",
              "        element.innerHTML = '';\n",
              "        dataTable['output_type'] = 'display_data';\n",
              "        await google.colab.output.renderOutput(dataTable, element);\n",
              "        const docLink = document.createElement('div');\n",
              "        docLink.innerHTML = docLinkHtml;\n",
              "        element.appendChild(docLink);\n",
              "      }\n",
              "    </script>\n",
              "  </div>\n",
              "\n",
              "\n",
              "<div id=\"df-a631e4ca-6c2d-482b-891c-676c73c2c6e5\">\n",
              "  <button class=\"colab-df-quickchart\" onclick=\"quickchart('df-a631e4ca-6c2d-482b-891c-676c73c2c6e5')\"\n",
              "            title=\"Suggest charts\"\n",
              "            style=\"display:none;\">\n",
              "\n",
              "<svg xmlns=\"http://www.w3.org/2000/svg\" height=\"24px\"viewBox=\"0 0 24 24\"\n",
              "     width=\"24px\">\n",
              "    <g>\n",
              "        <path d=\"M19 3H5c-1.1 0-2 .9-2 2v14c0 1.1.9 2 2 2h14c1.1 0 2-.9 2-2V5c0-1.1-.9-2-2-2zM9 17H7v-7h2v7zm4 0h-2V7h2v10zm4 0h-2v-4h2v4z\"/>\n",
              "    </g>\n",
              "</svg>\n",
              "  </button>\n",
              "\n",
              "<style>\n",
              "  .colab-df-quickchart {\n",
              "      --bg-color: #E8F0FE;\n",
              "      --fill-color: #1967D2;\n",
              "      --hover-bg-color: #E2EBFA;\n",
              "      --hover-fill-color: #174EA6;\n",
              "      --disabled-fill-color: #AAA;\n",
              "      --disabled-bg-color: #DDD;\n",
              "  }\n",
              "\n",
              "  [theme=dark] .colab-df-quickchart {\n",
              "      --bg-color: #3B4455;\n",
              "      --fill-color: #D2E3FC;\n",
              "      --hover-bg-color: #434B5C;\n",
              "      --hover-fill-color: #FFFFFF;\n",
              "      --disabled-bg-color: #3B4455;\n",
              "      --disabled-fill-color: #666;\n",
              "  }\n",
              "\n",
              "  .colab-df-quickchart {\n",
              "    background-color: var(--bg-color);\n",
              "    border: none;\n",
              "    border-radius: 50%;\n",
              "    cursor: pointer;\n",
              "    display: none;\n",
              "    fill: var(--fill-color);\n",
              "    height: 32px;\n",
              "    padding: 0;\n",
              "    width: 32px;\n",
              "  }\n",
              "\n",
              "  .colab-df-quickchart:hover {\n",
              "    background-color: var(--hover-bg-color);\n",
              "    box-shadow: 0 1px 2px rgba(60, 64, 67, 0.3), 0 1px 3px 1px rgba(60, 64, 67, 0.15);\n",
              "    fill: var(--button-hover-fill-color);\n",
              "  }\n",
              "\n",
              "  .colab-df-quickchart-complete:disabled,\n",
              "  .colab-df-quickchart-complete:disabled:hover {\n",
              "    background-color: var(--disabled-bg-color);\n",
              "    fill: var(--disabled-fill-color);\n",
              "    box-shadow: none;\n",
              "  }\n",
              "\n",
              "  .colab-df-spinner {\n",
              "    border: 2px solid var(--fill-color);\n",
              "    border-color: transparent;\n",
              "    border-bottom-color: var(--fill-color);\n",
              "    animation:\n",
              "      spin 1s steps(1) infinite;\n",
              "  }\n",
              "\n",
              "  @keyframes spin {\n",
              "    0% {\n",
              "      border-color: transparent;\n",
              "      border-bottom-color: var(--fill-color);\n",
              "      border-left-color: var(--fill-color);\n",
              "    }\n",
              "    20% {\n",
              "      border-color: transparent;\n",
              "      border-left-color: var(--fill-color);\n",
              "      border-top-color: var(--fill-color);\n",
              "    }\n",
              "    30% {\n",
              "      border-color: transparent;\n",
              "      border-left-color: var(--fill-color);\n",
              "      border-top-color: var(--fill-color);\n",
              "      border-right-color: var(--fill-color);\n",
              "    }\n",
              "    40% {\n",
              "      border-color: transparent;\n",
              "      border-right-color: var(--fill-color);\n",
              "      border-top-color: var(--fill-color);\n",
              "    }\n",
              "    60% {\n",
              "      border-color: transparent;\n",
              "      border-right-color: var(--fill-color);\n",
              "    }\n",
              "    80% {\n",
              "      border-color: transparent;\n",
              "      border-right-color: var(--fill-color);\n",
              "      border-bottom-color: var(--fill-color);\n",
              "    }\n",
              "    90% {\n",
              "      border-color: transparent;\n",
              "      border-bottom-color: var(--fill-color);\n",
              "    }\n",
              "  }\n",
              "</style>\n",
              "\n",
              "  <script>\n",
              "    async function quickchart(key) {\n",
              "      const quickchartButtonEl =\n",
              "        document.querySelector('#' + key + ' button');\n",
              "      quickchartButtonEl.disabled = true;  // To prevent multiple clicks.\n",
              "      quickchartButtonEl.classList.add('colab-df-spinner');\n",
              "      try {\n",
              "        const charts = await google.colab.kernel.invokeFunction(\n",
              "            'suggestCharts', [key], {});\n",
              "      } catch (error) {\n",
              "        console.error('Error during call to suggestCharts:', error);\n",
              "      }\n",
              "      quickchartButtonEl.classList.remove('colab-df-spinner');\n",
              "      quickchartButtonEl.classList.add('colab-df-quickchart-complete');\n",
              "    }\n",
              "    (() => {\n",
              "      let quickchartButtonEl =\n",
              "        document.querySelector('#df-a631e4ca-6c2d-482b-891c-676c73c2c6e5 button');\n",
              "      quickchartButtonEl.style.display =\n",
              "        google.colab.kernel.accessAllowed ? 'block' : 'none';\n",
              "    })();\n",
              "  </script>\n",
              "</div>\n",
              "    </div>\n",
              "  </div>\n"
            ],
            "text/plain": [
              "  case_outcome                                         case_title  \\\n",
              "0        cited  Alpine Hardwood (Aust) Pty Ltd v Hardys Pty Lt...   \n",
              "1        cited  Black v Lipovac [1998] FCA 699 ; (1998) 217 AL...   \n",
              "2        cited  Colgate Palmolive Co v Cussons Pty Ltd (1993) ...   \n",
              "3        cited  Dais Studio Pty Ltd v Bullett Creative Pty Ltd...   \n",
              "4        cited  Dr Martens Australia Pty Ltd v Figgins Holding...   \n",
              "\n",
              "                                           case_text  \n",
              "0  Ordinarily that discretion will be exercised s...  \n",
              "1  The general principles governing the exercise ...  \n",
              "2  Ordinarily that discretion will be exercised s...  \n",
              "3  The general principles governing the exercise ...  \n",
              "4  The preceding general principles inform the ex...  "
            ]
          },
          "execution_count": 12,
          "metadata": {},
          "output_type": "execute_result"
        }
      ],
      "source": [
        "data.head().copy()"
      ]
    },
    {
      "cell_type": "code",
      "execution_count": null,
      "metadata": {
        "id": "lt-PRYFsQ4Oj"
      },
      "outputs": [],
      "source": [
        "y = data['case_outcome']\n",
        "X = data.drop('case_outcome', axis=1)"
      ]
    },
    {
      "cell_type": "code",
      "execution_count": null,
      "metadata": {
        "id": "vlCdZ6_QRwC1"
      },
      "outputs": [],
      "source": [
        "x_train, x_test, y_train, y_test = train_test_split(data.case_outcome, data.case_text)"
      ]
    },
    {
      "cell_type": "code",
      "execution_count": null,
      "metadata": {
        "id": "cg3d3jfPS2s-"
      },
      "outputs": [],
      "source": [
        "# Сначала попробую обучить на Baseline\n",
        "from sklearn.linear_model import LogisticRegression\n",
        "from sklearn.feature_extraction.text import CountVectorizer\n",
        "from nltk import ngrams"
      ]
    },
    {
      "cell_type": "code",
      "execution_count": null,
      "metadata": {
        "id": "gBu65zgITwIo"
      },
      "outputs": [],
      "source": [
        "vec = CountVectorizer(ngram_range=(1, 1)) # ЭТО НАША N, КОТОРУЮ МЫ САМИ УСТАНАВЛИВАЕМ\n",
        "bow = vec.fit_transform(x_train)"
      ]
    },
    {
      "cell_type": "code",
      "execution_count": null,
      "metadata": {
        "colab": {
          "base_uri": "https://localhost:8080/"
        },
        "id": "094OQkqqT3F4",
        "outputId": "4be8036c-91bc-4bf6-89da-e6062f6895ca"
      },
      "outputs": [
        {
          "data": {
            "text/plain": [
              "[('cited', 3),\n",
              " ('followed', 7),\n",
              " ('affirmed', 0),\n",
              " ('distinguished', 6),\n",
              " ('referred', 8),\n",
              " ('to', 10),\n",
              " ('applied', 1),\n",
              " ('related', 9),\n",
              " ('considered', 4),\n",
              " ('discussed', 5)]"
            ]
          },
          "execution_count": 17,
          "metadata": {},
          "output_type": "execute_result"
        }
      ],
      "source": [
        "list(vec.vocabulary_.items())[:10]"
      ]
    },
    {
      "cell_type": "code",
      "execution_count": null,
      "metadata": {
        "colab": {
          "base_uri": "https://localhost:8080/",
          "height": 321
        },
        "id": "rdwrZ2ibaJOV",
        "outputId": "d584b4e3-f5bd-46b5-fb74-2fedd97e7935"
      },
      "outputs": [
        {
          "ename": "KeyboardInterrupt",
          "evalue": "",
          "output_type": "error",
          "traceback": [
            "\u001b[0;31m---------------------------------------------------------------------------\u001b[0m",
            "\u001b[0;31mKeyboardInterrupt\u001b[0m                         Traceback (most recent call last)",
            "\u001b[0;32m<ipython-input-23-4a82d3d0831c>\u001b[0m in \u001b[0;36m<cell line: 2>\u001b[0;34m()\u001b[0m\n\u001b[1;32m      1\u001b[0m \u001b[0mclf\u001b[0m \u001b[0;34m=\u001b[0m \u001b[0mLogisticRegression\u001b[0m\u001b[0;34m(\u001b[0m\u001b[0msolver\u001b[0m\u001b[0;34m=\u001b[0m\u001b[0;34m'liblinear'\u001b[0m\u001b[0;34m,\u001b[0m \u001b[0mrandom_state\u001b[0m\u001b[0;34m=\u001b[0m\u001b[0;36m42\u001b[0m\u001b[0;34m,\u001b[0m \u001b[0mmax_iter\u001b[0m\u001b[0;34m=\u001b[0m\u001b[0;36m100\u001b[0m\u001b[0;34m)\u001b[0m\u001b[0;34m\u001b[0m\u001b[0;34m\u001b[0m\u001b[0m\n\u001b[0;32m----> 2\u001b[0;31m \u001b[0mclf\u001b[0m\u001b[0;34m.\u001b[0m\u001b[0mfit\u001b[0m\u001b[0;34m(\u001b[0m\u001b[0mbow\u001b[0m\u001b[0;34m,\u001b[0m \u001b[0my_train\u001b[0m\u001b[0;34m)\u001b[0m\u001b[0;34m\u001b[0m\u001b[0;34m\u001b[0m\u001b[0m\n\u001b[0m",
            "\u001b[0;32m/usr/local/lib/python3.10/dist-packages/sklearn/linear_model/_logistic.py\u001b[0m in \u001b[0;36mfit\u001b[0;34m(self, X, y, sample_weight)\u001b[0m\n\u001b[1;32m   1214\u001b[0m                     \u001b[0;34m\" = {}.\"\u001b[0m\u001b[0;34m.\u001b[0m\u001b[0mformat\u001b[0m\u001b[0;34m(\u001b[0m\u001b[0meffective_n_jobs\u001b[0m\u001b[0;34m(\u001b[0m\u001b[0mself\u001b[0m\u001b[0;34m.\u001b[0m\u001b[0mn_jobs\u001b[0m\u001b[0;34m)\u001b[0m\u001b[0;34m)\u001b[0m\u001b[0;34m\u001b[0m\u001b[0;34m\u001b[0m\u001b[0m\n\u001b[1;32m   1215\u001b[0m                 )\n\u001b[0;32m-> 1216\u001b[0;31m             self.coef_, self.intercept_, self.n_iter_ = _fit_liblinear(\n\u001b[0m\u001b[1;32m   1217\u001b[0m                 \u001b[0mX\u001b[0m\u001b[0;34m,\u001b[0m\u001b[0;34m\u001b[0m\u001b[0;34m\u001b[0m\u001b[0m\n\u001b[1;32m   1218\u001b[0m                 \u001b[0my\u001b[0m\u001b[0;34m,\u001b[0m\u001b[0;34m\u001b[0m\u001b[0;34m\u001b[0m\u001b[0m\n",
            "\u001b[0;32m/usr/local/lib/python3.10/dist-packages/sklearn/svm/_base.py\u001b[0m in \u001b[0;36m_fit_liblinear\u001b[0;34m(X, y, C, fit_intercept, intercept_scaling, class_weight, penalty, dual, verbose, max_iter, tol, random_state, multi_class, loss, epsilon, sample_weight)\u001b[0m\n\u001b[1;32m   1222\u001b[0m \u001b[0;34m\u001b[0m\u001b[0m\n\u001b[1;32m   1223\u001b[0m     \u001b[0msolver_type\u001b[0m \u001b[0;34m=\u001b[0m \u001b[0m_get_liblinear_solver_type\u001b[0m\u001b[0;34m(\u001b[0m\u001b[0mmulti_class\u001b[0m\u001b[0;34m,\u001b[0m \u001b[0mpenalty\u001b[0m\u001b[0;34m,\u001b[0m \u001b[0mloss\u001b[0m\u001b[0;34m,\u001b[0m \u001b[0mdual\u001b[0m\u001b[0;34m)\u001b[0m\u001b[0;34m\u001b[0m\u001b[0;34m\u001b[0m\u001b[0m\n\u001b[0;32m-> 1224\u001b[0;31m     raw_coef_, n_iter_ = liblinear.train_wrap(\n\u001b[0m\u001b[1;32m   1225\u001b[0m         \u001b[0mX\u001b[0m\u001b[0;34m,\u001b[0m\u001b[0;34m\u001b[0m\u001b[0;34m\u001b[0m\u001b[0m\n\u001b[1;32m   1226\u001b[0m         \u001b[0my_ind\u001b[0m\u001b[0;34m,\u001b[0m\u001b[0;34m\u001b[0m\u001b[0;34m\u001b[0m\u001b[0m\n",
            "\u001b[0;31mKeyboardInterrupt\u001b[0m: "
          ]
        }
      ],
      "source": [
        "clf = LogisticRegression(solver='liblinear', random_state=42, max_iter=100)\n",
        "clf.fit(bow, y_train)"
      ]
    },
    {
      "cell_type": "code",
      "execution_count": null,
      "metadata": {
        "id": "lrJnAxuZVZnV"
      },
      "outputs": [],
      "source": [
        "pred = clf.predict(vec.transform(x_test))\n",
        "print(classification_report(pred, y_test))"
      ]
    },
    {
      "cell_type": "code",
      "execution_count": null,
      "metadata": {
        "id": "XnHnDLyqXSwl"
      },
      "outputs": [],
      "source": [
        "vec = CountVectorizer(ngram_range=(2, 3))\n",
        "bow = vec.fit_transform(x_train)\n",
        "clf = LogisticRegression(solver='liblinear', random_state=42, max_iter=100)\n",
        "clf.fit(bow, y_train)\n",
        "pred = clf.predict(vec.transform(x_test))\n",
        "print(classification_report(pred, y_test))"
      ]
    },
    {
      "cell_type": "code",
      "execution_count": null,
      "metadata": {
        "id": "f7OTRSLPXip1"
      },
      "outputs": [],
      "source": [
        "# TF-IDF\n",
        "from sklearn.feature_extraction.text import TfidfVectorizer"
      ]
    },
    {
      "cell_type": "code",
      "execution_count": null,
      "metadata": {
        "id": "E9lFEGc8X0pf"
      },
      "outputs": [],
      "source": [
        "vec = TfidfVectorizer(ngram_range=(1, 1))\n",
        "bow = vec.fit_transform(x_train)\n",
        "clf = LogisticRegression(solver='liblinear', random_state=42)\n",
        "clf.fit(bow, y_train)\n",
        "pred = clf.predict(vec.transform(x_test))\n",
        "print(classification_report(pred, y_test))"
      ]
    },
    {
      "cell_type": "code",
      "execution_count": null,
      "metadata": {
        "id": "uSexpegmX3h2"
      },
      "outputs": [],
      "source": [
        "import nltk\n",
        "from nltk.tokenize import word_tokenize\n",
        "nltk.download('punkt')"
      ]
    },
    {
      "cell_type": "code",
      "execution_count": null,
      "metadata": {
        "id": "UjZYW-bSX353"
      },
      "outputs": [],
      "source": [
        "# Стоп-слова и пунктуация\n",
        "from nltk.corpus import stopwords\n",
        "nltk.download('stopwords')\n",
        "print(stopwords.words('english'))"
      ]
    },
    {
      "cell_type": "code",
      "execution_count": null,
      "metadata": {
        "id": "XYZNZCD6YH4W"
      },
      "outputs": [],
      "source": [
        "from string import punctuation\n",
        "punctuation"
      ]
    },
    {
      "cell_type": "code",
      "execution_count": null,
      "metadata": {
        "id": "JFjiyI59YLaK"
      },
      "outputs": [],
      "source": [
        "noise = stopwords.words('english') + list(punctuation)"
      ]
    },
    {
      "cell_type": "code",
      "execution_count": null,
      "metadata": {
        "id": "ckMrUHaTYVOO"
      },
      "outputs": [],
      "source": [
        "noise.remove('не')"
      ]
    },
    {
      "cell_type": "code",
      "execution_count": null,
      "metadata": {
        "id": "C89J2lslYW_9"
      },
      "outputs": [],
      "source": [
        "vec = CountVectorizer(ngram_range=(1, 1), tokenizer=word_tokenize, stop_words=noise) # stopwords - сокращает размер словаря\n",
        "bow = vec.fit_transform(x_train)\n",
        "clf = LogisticRegression(solver='liblinear', random_state=42)\n",
        "clf.fit(bow, y_train)\n",
        "pred = clf.predict(vec.transform(x_test))\n",
        "print(classification_report(pred, y_test))"
      ]
    },
    {
      "cell_type": "code",
      "execution_count": null,
      "metadata": {
        "id": "EsPhxa-iYaG5"
      },
      "outputs": [],
      "source": [
        "!pip install razdel"
      ]
    },
    {
      "cell_type": "code",
      "execution_count": null,
      "metadata": {
        "id": "hefMDedWYaxy"
      },
      "outputs": [],
      "source": [
        "from razdel import tokenize # раздел разпознает смайлики\n",
        "\n",
        "def tokenizer(string):\n",
        "    return [x.text for x in tokenize(string)]"
      ]
    }
  ],
  "metadata": {
    "colab": {
      "authorship_tag": "ABX9TyN/O31OgxJU1dhXzWoDlHNA",
      "include_colab_link": true,
      "provenance": []
    },
    "kernelspec": {
      "display_name": "Python 3",
      "name": "python3"
    },
    "language_info": {
      "name": "python"
    }
  },
  "nbformat": 4,
  "nbformat_minor": 0
}
