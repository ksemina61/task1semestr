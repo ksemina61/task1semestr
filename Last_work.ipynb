{
 "cells": [
  {
   "cell_type": "code",
   "execution_count": null,
   "metadata": {},
   "outputs": [],
   "source": [
    "#Теоретическая группа, семинар 7\n",
    "def power(a, b): # seminar, task 1\n",
    "    result = 1\n",
    "    for _ in range(b):\n",
    "        result *= a\n",
    "    return result\n",
    "result = power(2, 3)\n",
    "print(result)"
   ]
  },
  {
   "cell_type": "code",
   "execution_count": null,
   "metadata": {},
   "outputs": [],
   "source": [
    "def sign(number): #seminar, task 4\n",
    "    if number > 0:\n",
    "        return True\n",
    "    elif number < 0:\n",
    "        return False\n",
    "    else:\n",
    "        return None\n",
    "print(sign(5))\n",
    "print(sign(-2))"
   ]
  },
  {
   "cell_type": "code",
   "execution_count": null,
   "metadata": {},
   "outputs": [],
   "source": [
    "def table(): # seminar, task 6\n",
    "    for i in range(1, 6):\n",
    "        for j in range(1, 6):\n",
    "            print(i * j, end=\" \")\n",
    "        print()\n",
    "\n",
    "print(table())"
   ]
  },
  {
   "cell_type": "code",
   "execution_count": null,
   "metadata": {},
   "outputs": [],
   "source": [
    "def iy(word): # seminar, task 3\n",
    "    for letter in word:\n",
    "        if not 'а' <= letter.lower() <= 'я':\n",
    "            return False\n",
    "    return True\n",
    "\n",
    "def is_palindrome(word):\n",
    "    word = word.lower().replace(' ', '') # привожу все буквы к нижнему регистру и удаляю пробелы\n",
    "    return word == word[::-1]\n",
    "string = input(\"Введите строку: \")\n",
    "choice = input(\"Проверка строки - палиндром (p) или кириллическая (c)? \")\n",
    "if choice == 'p':\n",
    "    result = is_palindrome(string)\n",
    "    print(f\"Является ли строка палиндромом: {result}\")\n",
    "elif choice == 'c':\n",
    "    result = iy(string)\n",
    "    print(f\"Состоит ли строка из кириллических букв: {result}\")\n",
    "else:\n",
    "    print(\"Неверное действие\")"
   ]
  },
  {
   "cell_type": "code",
   "execution_count": null,
   "metadata": {},
   "outputs": [],
   "source": [
    "def iy(word): # seminar, task 2\n",
    "    for char in word:\n",
    "        if not 'а' <= char <= 'я' and not 'А' <= char <= 'Я':\n",
    "            return False\n",
    "    return True\n",
    "result = iy(\"Привет\")\n",
    "print(result)"
   ]
  },
  {
   "cell_type": "code",
   "execution_count": null,
   "metadata": {},
   "outputs": [],
   "source": [
    "def letters(word): # seminar, task 8\n",
    "    letters = {}\n",
    "    for letter in word:\n",
    "        if letter in letters:\n",
    "            letters[letter] += 1\n",
    "        else:\n",
    "            letters[letter] = 1\n",
    "    for letter, count in letters.items():\n",
    "        print(f\"'{letter}': {count}\")\n",
    "\n",
    "word = input(\"Введите слово: \")\n",
    "letters(word)"
   ]
  },
  {
   "cell_type": "code",
   "execution_count": null,
   "metadata": {},
   "outputs": [],
   "source": [
    "def divide_and_print(a, b): #task 7\n",
    "    c = round(a / b, 2)\n",
    "print(f\"{a} / = {c}\")\n",
    "a = float(input(\"Введите число a: \"))\n",
    "b = float(input(\"Введите число b: \"))\n",
    "divide_and_print(a, b)"
   ]
  },
  {
   "cell_type": "code",
   "execution_count": null,
   "metadata": {},
   "outputs": [],
   "source": [
    "# Заключительный тест"
   ]
  },
  {
   "cell_type": "code",
   "execution_count": null,
   "metadata": {},
   "outputs": [],
   "source": [
    "import math # task №1\n",
    "\n",
    "def volume(r): \n",
    "  volume = (4/3) * math.pi * math.pow(r,3)\n",
    "  return volume # верну значение volume\n",
    "r = float(input(\"Радиус шара = \")) \n",
    "print(\"Объем шара = \", volume(r))"
   ]
  },
  {
   "cell_type": "code",
   "execution_count": null,
   "metadata": {},
   "outputs": [],
   "source": [
    "def percent(s1,s2): #task 2\n",
    "  prozent = ((len(s2) / len(s1)) * 100)\n",
    "  return prozent  # так ну понятное дело то, что нужно округлять c помощью round, а до какого числа? (если 2 числа после запятой - этого будет достаточно?)\n",
    "s1, s2 = input(), input()\n",
    "print(\"Процент от длины составляет: \", round(percent(s1,s2),2))\n"
   ]
  },
  {
   "cell_type": "code",
   "execution_count": null,
   "metadata": {},
   "outputs": [],
   "source": [
    "def checker(lst): # task 3\n",
    "  if sorted(lst) == lst:\n",
    "    return('Список упорядочен по возрастанию')\n",
    "  elif sorted(lst, reverse=True) == lst:\n",
    "    return('Список упорядочен по убыванию')\n",
    "  else:\n",
    "    return('Список не упорядочен')\n",
    "\n",
    "lst = [5, 3, 1]\n",
    "\n",
    "print(checker(lst))"
   ]
  },
  {
   "cell_type": "code",
   "execution_count": null,
   "metadata": {},
   "outputs": [],
   "source": [
    "def the_counter(n): # task 4\n",
    "  count = 0 # нужно создать счетчик для артиклей the\n",
    "  for _ in range(n):\n",
    "    sentence = input()\n",
    "    if sentence.lower() == \"the\": #привожу все к одному регистру\n",
    "      count = count + 1 # увеличиваю счетчик\n",
    "  return count # он мне посчитает артикли и должен вернуть\n",
    "n = int(input(\"Введите число слов: \"))  # считываем количество слов\n",
    "print(\"Введите слова:\")\n",
    "result = the_counter(n)  # вызываем функцию для подсчета количества артиклей \"the\"\n",
    "print(\"Количество артиклей 'the':\", result)  # выводим результат"
   ]
  },
  {
   "cell_type": "code",
   "execution_count": null,
   "metadata": {},
   "outputs": [],
   "source": [
    "X = int(input(\"Введите число X: \")) # task 6\n",
    "count = 0 #Создаю счетчик, который будет хранить количество введенных чисел\n",
    "num1 = int(input(\"Введите число: \"))\n",
    "count += 1\n",
    "while num1 != 0:\n",
    "    if num1 == X:\n",
    "        print(\"Число\", X, \"встретилось\", count)\n",
    "        break\n",
    "    # Ввожу следующее число последовательности\n",
    "    num1 = int(input(\"Введите число: \"))\n",
    "    count += 1\n",
    "# Если цикл завершился без прерывания, значит число X не было введено\n",
    "if num1 == 0:\n",
    "    print(\"Число\", X, \"не встретилось\")"
   ]
  },
  {
   "cell_type": "code",
   "execution_count": null,
   "metadata": {},
   "outputs": [],
   "source": [
    "def numbers(text): #task 7\n",
    "  a = \"\" #в эту пустую строку потом добавятся цифры\n",
    "  for char in text: # char может содержать любой символ, включая буквы и цифры\n",
    "    if char.isdigit():\n",
    "      a = a + char\n",
    "    print(a)\n",
    "text = input(\"Введите предложение: \")\n",
    "numbers(text)"
   ]
  },
  {
   "cell_type": "code",
   "execution_count": null,
   "metadata": {},
   "outputs": [],
   "source": [
    "slova = []  #task 8\n",
    "count = 0  # переменная для хранения количества слов четной длины\n",
    "index = 1  # индекс слова с 1\n",
    "while True:\n",
    "    word = input(\"Введите слово: \")\n",
    "    if word == \"\":  # пустая строка, прекращаю цикл\n",
    "        break\n",
    "    slova.append(word)  # добавлю введенное слово в список в конец\n",
    "    if len(word) % 2 != 0:  # проверю на нечетность\n",
    "        print(f\"{word} ({len(word)}) - {index}\")\n",
    "    else:\n",
    "        count = count + 1  # нужно увеличить счетчик слов четной длины\n",
    "    index = index + 1  # нужно увеличить индекс\n",
    "if count == 0:  # если нет слов четной длины\n",
    "    print(\"Все слова чётной длины\")\n",
    "print(f\"Количество слов чётной длины: {count}\")"
   ]
  },
  {
   "cell_type": "code",
   "execution_count": null,
   "metadata": {},
   "outputs": [],
   "source": [
    "def palindrome(s): # task 10\n",
    "    s = s.replace(\" \", \"\") # удалю пробелы\n",
    "    if len(s) <= 1:\n",
    "        return True\n",
    "    if s[0] == s[-1]: # проверка первого и последнего символа строки\n",
    "        return palindrome(s[1:-1]) # сокращаю строку, удаляя первый и последний символ\n",
    "    else:\n",
    "        return False\n",
    "s = \"аргентина манит негра\"\n",
    "print(palindrome(s))\n",
    "s = \"hello\"\n",
    "print(palindrome(s))"
   ]
  },
  {
   "cell_type": "code",
   "execution_count": null,
   "metadata": {},
   "outputs": [],
   "source": [
    "import string # task 12, сразу импрортирую string, так как там содержаться функции для работы со строками\n",
    "\n",
    "def wordization(text) -> list: ## Удаляю пунктуацию из строки, использую методы, которые нашла в интернете: translate и maketrans. Метод translate - это встроенная функция Python, которая возвращает строку, в которой любые указанные символы заменены символом, определенным в словаре или таблице сопоставления.\n",
    "    text = text.translate(str.maketrans(\"\", \"\", string.punctuation)) # # maketrans - создает таблицу трансляции, которая определяет соответствие всех символов из первого аргумента таблицы с символами из второго аргумента таблицы.\n",
    "    words = text.split()\n",
    "    return words\n",
    "s = \"Hello, world!\"\n",
    "print(wordization(s))\n",
    "s = \"I want to sleep, Python\"\n",
    "print(wordization(s))"
   ]
  },
  {
   "cell_type": "code",
   "execution_count": null,
   "metadata": {},
   "outputs": [],
   "source": [
    "n = int(input()) #task 11\n",
    "languages = set() # знают все школьники\n",
    "any_languages = set() # знает хотя бы один\n",
    "for _ in range(n):\n",
    "  k = int(input()) # языки, которые знает школьник\n",
    "  for _ in range(k):\n",
    "    m = input() #добавляю язык во множество при условии, что его знает хотя бы один школьник\n",
    "    any_languages.add(m)\n",
    "    if _ == 0:\n",
    "      languages.add(m)\n",
    "    else:\n",
    "      languages = languages.intersection(set([m]))\n",
    "print(len(languages))\n",
    "for language in sorted(languages):\n",
    "  print(language)\n",
    "print(len(any_languages))\n",
    "for language in sorted(any_languages):\n",
    "  print(language)"
   ]
  },
  {
   "cell_type": "code",
   "execution_count": null,
   "metadata": {},
   "outputs": [],
   "source": [
    "import random # task 13\n",
    "\n",
    "def soothsayer():\n",
    "    soothsayer = input(\"Введите предложение: \")\n",
    "    words = soothsayer.split()\n",
    "    leng = [len(words)] # создаю список с кол-во слов и длиной каждого слова\n",
    "    for word in words:\n",
    "        leng.append(len(word))\n",
    "    while len(lengths) > 1: # до тех пор, пока в списке больше одного слова\n",
    "        vrem_spisok = [] # нужно создать временный список для хранения сумм чисел по парам\n",
    "        for i in range(len(lengths)-1): # результат во временный список\n",
    "            total = lengths[i] + lengths[i+1]\n",
    "            while total >= 10: ## если сумма >= 10, вычитаем девятки\n",
    "                total = total - 9\n",
    "            vrem_spisok.append(total)\n",
    "        leng = vrem_spisok # списки равны\n",
    "    if leng[0] % 2 == 0: #если четное - да, нечетное - нет\n",
    "        print(\"Ответ: да\")\n",
    "    else:\n",
    "        print(\"Ответ: нет\")\n",
    "soothsayer()"
   ]
  },
  {
   "cell_type": "code",
   "execution_count": null,
   "metadata": {},
   "outputs": [],
   "source": [
    "cats = [('Мартин', 5, 'Алексей', 'Егоров'), #task 14\n",
    "        ('Фродо', 3, 'Анна', 'Самохина'),\n",
    "        ('Вася', 4, 'Андрей', 'Белов'),\n",
    "        ('Муся', 7, 'Игорь', 'Бероев'),\n",
    "        ('Изольда', 2, 'Игорь', 'Бероев'),\n",
    "        ('Снейп', 1, 'Марина', 'Апраксина'),\n",
    "        ('Лютик', 4, 'Виталий', 'Соломин'),\n",
    "        ('Снежок', 3, 'Марина', 'Апраксина'),\n",
    "        ('Марта', 5, 'Сергей', 'Колесников'),\n",
    "        ('Буся', 12, 'Алена', 'Федорова'),\n",
    "        ('Джонни', 10, 'Игорь', 'Андропов'),\n",
    "        ('Мурзик', 1,'Даниил', 'Невзоров'),\n",
    "        ('Барсик', 2, 'Виталий', 'Соломин'),\n",
    "        ('Рыжик', 7, 'Владимир', 'Медведев'),\n",
    "        ('Матильда', 8, 'Андрей', 'Белов'),\n",
    "        ('Гарфилд', 3, 'Александр', 'Березуев')]\n",
    "\n",
    "from collections import defaultdict\n",
    "cat_owners = defaultdict(list)\n",
    "for entry in cats:\n",
    "  cat_owners[entry[2] + ' ' + entry[3]].append(entry[0:2])\n",
    "for owner, cats in cat_owners.items():\n",
    "  cat_name_age = '; '.join(f'{x}, {y}' for x, y in cats)\n",
    "  print(f'{owner}: {cat_name_age}')"
   ]
  },
  {
   "cell_type": "code",
   "execution_count": null,
   "metadata": {},
   "outputs": [],
   "source": [
    "def scrambling(scrambled, new, t=True): # task 15\n",
    "  scrambled_dict = {}\n",
    "  new_dict = {}\n",
    "  for symb in scrambled:\n",
    "    scrambled_dict[symb] = scrambled_dict.get(symb, 0) + 1\n",
    "  for symb in new:\n",
    "    new_dict[symb] = new_dict.get(symb, 0) + 1\n",
    "  for symb in new_dict:\n",
    "    if scrambled_dict[symb] < new_dict[symb] or symb not in scrambled_dict:\n",
    "      t = False\n",
    "      return t\n",
    "  return t\n",
    "\n",
    "scrambling('электричество', 'кот')"
   ]
  }
 ],
 "metadata": {
  "language_info": {
   "name": "python"
  }
 },
 "nbformat": 4,
 "nbformat_minor": 2
}
