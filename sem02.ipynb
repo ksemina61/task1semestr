{
 "cells": [
  {
   "cell_type": "code",
   "execution_count": null,
   "metadata": {},
   "outputs": [],
   "source": []
  },
  {
   "cell_type": "code",
   "execution_count": null,
   "metadata": {},
   "outputs": [],
   "source": [
    "n = int(input()) #task 2\n",
    "if n % 2 == 0:\n",
    "  print(n // 4)\n",
    "elif n % 2 != 0:\n",
    "  print(n % 4)"
   ]
  },
  {
   "cell_type": "code",
   "execution_count": null,
   "metadata": {},
   "outputs": [],
   "source": [
    "t = int(input()) #task 3\n",
    "if - 10 <= t >= -5:\n",
    "  print(bool(t))\n",
    "elif 0 < t >15:\n",
    "  print(bool(t))"
   ]
  },
  {
   "cell_type": "code",
   "execution_count": null,
   "metadata": {},
   "outputs": [],
   "source": [
    "string = input(('')) #task 4?\n",
    "if string == '':\n",
    "  print('Вы ввели пустую строку')\n",
    "elif string == ('Б'):\n",
    "  print ('в строке есть буква Б ')\n",
    "elif string != ('Б'):\n",
    "  print ('в строке нет буквы Б ')"
   ]
  },
  {
   "cell_type": "code",
   "execution_count": null,
   "metadata": {},
   "outputs": [],
   "source": [
    "a = float(input('a:')) #задание 5\n",
    "b = float(input('a:'))\n",
    "c = float(input('a:'))\n",
    "D = b**2 - 4 * a * c\n",
    "if D < 0:\n",
    "  print('Корней нет')\n",
    "if D == 0:\n",
    "  print('t =', -b / (2 * a))\n",
    "if D > 0:\n",
    "  print('t =', -b - D**0.5 / (2*a))\n",
    "  print('t =', -b + D**0.5 / (2*a))"
   ]
  },
  {
   "cell_type": "code",
   "execution_count": null,
   "metadata": {},
   "outputs": [],
   "source": [
    "t = int(input()) #задание 7\n",
    "if t % 3 == 0:\n",
    "  print(t)"
   ]
  },
  {
   "cell_type": "code",
   "execution_count": null,
   "metadata": {},
   "outputs": [],
   "source": [
    "t = int(input()) #задание 6\n",
    "e = int(input())\n",
    "t1 = int(input())\n",
    "e1 = int(input())\n",
    "if t == t1 or e == e1:\n",
    "  print('Yes')\n",
    "else:\n",
    "  print('No')"
   ]
  },
  {
   "cell_type": "code",
   "execution_count": null,
   "metadata": {},
   "outputs": [],
   "source": [
    "a = int(input('a = ')) #задание 8\n",
    "b = 3\n",
    "print((a + b) ** 2)"
   ]
  },
  {
   "cell_type": "code",
   "execution_count": null,
   "metadata": {},
   "outputs": [],
   "source": [
    "#семинар 2, задача 1 из домашнего задания\n",
    "n = int(input()) \n",
    "a = n // 3600\n",
    "b = a % 60\n",
    "a1 = n // 60\n",
    "c = n % 60\n",
    "print(a, a1, c, sep = ':')"
   ]
  },
  {
   "cell_type": "code",
   "execution_count": null,
   "metadata": {},
   "outputs": [],
   "source": [
    "kg = float(input('введите кг:')) # задача 2 из домашнего задания\n",
    "kg = float(kg)\n",
    "pounds = kg * 2.2\n",
    "print(kg, 'кг - это', pounds)"
   ]
  },
  {
   "cell_type": "code",
   "execution_count": null,
   "metadata": {},
   "outputs": [],
   "source": [
    "a = int(input('Дано число:')) # задача 3 из домашнего задания\n",
    "b = 70\n",
    "b = (70 * a) / 100\n",
    "print(b, '%')"
   ]
  },
  {
   "cell_type": "code",
   "execution_count": null,
   "metadata": {},
   "outputs": [],
   "source": [
    "x = float(input()) # задача 4 из домашнего задания\n",
    "print(int(x * 10) % 10)"
   ]
  },
  {
   "cell_type": "code",
   "execution_count": null,
   "metadata": {},
   "outputs": [],
   "source": [
    "X = float(input()) #семинар 3, задание 4\n",
    "print(int(X * 10) % 10)"
   ]
  },
  {
   "cell_type": "code",
   "execution_count": null,
   "metadata": {},
   "outputs": [],
   "source": [
    "sentence = input('') #семинар 3, задание 5???\n",
    "if sentence == sentence [::-1]:\n",
    "  print(sentence, 'is a palindrome')\n",
    "else:\n",
    "  print(sentence, 'is not a palindrome.')"
   ]
  },
  {
   "cell_type": "code",
   "execution_count": null,
   "metadata": {},
   "outputs": [],
   "source": [
    "# задания из 3-ий домашней работы\n",
    "  \n",
    "s = 'hahahahah' #задание 10\n",
    "a = s[:s.find('h') + 1]\n",
    "b = s[s.find('h') + 1:s.rfind('h')]\n",
    "c = s[s.rfind('h'):]\n",
    "s = a + b.replace('h', 'H') + c\n",
    "print(s)"
   ]
  },
  {
   "cell_type": "code",
   "execution_count": null,
   "metadata": {},
   "outputs": [],
   "source": [
    "s = input() #задание 9\n",
    "a = s[:s.find('h')]\n",
    "b = s[s.find('h'):s.rfind('h') + 1]\n",
    "c = s[s.rfind('h') + 1:]\n",
    "s = a + b[::-1] + c\n",
    "print(s)"
   ]
  },
  {
   "cell_type": "code",
   "execution_count": null,
   "metadata": {},
   "outputs": [],
   "source": [
    "s = 'salutcava' #задание 3\n",
    "print(s[: : -1])"
   ]
  },
  {
   "cell_type": "code",
   "execution_count": null,
   "metadata": {},
   "outputs": [],
   "source": [
    "s = input() #задание 5\n",
    "word1 = s[:s.find(' ')]\n",
    "word2 = s[s.find(' ') + 1:]\n",
    "print(word2 + ' ' + word1)"
   ]
  }
 ],
 "metadata": {
  "language_info": {
   "name": "python"
  },
  "orig_nbformat": 4
 },
 "nbformat": 4,
 "nbformat_minor": 2
}
