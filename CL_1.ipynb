{
 "cells": [
  {
   "cell_type": "code",
   "execution_count": 2,
   "metadata": {},
   "outputs": [
    {
     "data": {
      "text/plain": [
       "['example@example.com yandex@gmail.com shshshshshs@mail.ru alalalalalathvbdfj@mail.tu hellohi@yandex.com']"
      ]
     },
     "execution_count": 2,
     "metadata": {},
     "output_type": "execute_result"
    }
   ],
   "source": [
    "import re # задание 3, пункт a)\n",
    "email_regex = r\"[a-zA-Z0-9._-]+@[a-zA-Z0-9.-]+\\.[a-zA-Z]{2,4}\"\n",
    "email = \"example@example.com yandex@gmail.com shshshshshs@mail.ru alalalalalathvbdfj@mail.tu hellohi@yandex.com\"\n",
    "pattern_email = re.compile(email)\n",
    "re.findall(pattern_email, email)"
   ]
  },
  {
   "cell_type": "code",
   "execution_count": null,
   "metadata": {},
   "outputs": [],
   "source": [
    "import re # задание 3, пункт б\n",
    "\n",
    "file_path_regex = r\"^(/?[A-Za-z]:)?([A-Za-z0-9-_\\.]+/)*[A-Za-z0-9-_]+\\.[A-Za-z]+$\"\n",
    "file_path_windows = r\"C:Userstask1semestrtext_1.txt\" #использую сырые строки (raw strings) для задания пути в Windows\n",
    "pattern_path = re.compile(file_path_regex)\n",
    "print(re.findall(pattern_path, file_path_windows))\n",
    "re_ling = r'^([A-Z]{1}[A-Za-z_]+):.*\"([А-Яа-я]+):([а-я]+)?:?([a-zA-Z_:#]+)\"$'\n",
    "pattern_ling = re.compile(re_ling)\n",
    "print(re.findall(pattern_ling, ling))\n",
    "for elem in re.finditer(re_ling, ling):\n",
    "  print(elem.group(1), elem.group(2), elem.group(3), elem.group(4), sep=', ')"
   ]
  }
 ],
 "metadata": {
  "kernelspec": {
   "display_name": "Python 3",
   "language": "python",
   "name": "python3"
  },
  "language_info": {
   "codemirror_mode": {
    "name": "ipython",
    "version": 3
   },
   "file_extension": ".py",
   "mimetype": "text/x-python",
   "name": "python",
   "nbconvert_exporter": "python",
   "pygments_lexer": "ipython3",
   "version": "3.9.13"
  }
 },
 "nbformat": 4,
 "nbformat_minor": 2
}
