{
  "cells": [
    {
      "cell_type": "markdown",
      "source": [
        "\n",
        "# **Семинар и дз 6**"
      ],
      "metadata": {
        "id": "SxG-gLb07H1b"
      },
      "id": "SxG-gLb07H1b"
    },
    {
      "cell_type": "markdown",
      "id": "d9d35ff7-cc85-40a6-9a1a-28abd2b53091",
      "metadata": {
        "id": "d9d35ff7-cc85-40a6-9a1a-28abd2b53091"
      },
      "source": [
        "#### Задача 1.\n",
        "\n",
        "Перепишите класс с пациентом, у которого есть температура, с использованием декоратора."
      ]
    },
    {
      "cell_type": "code",
      "execution_count": null,
      "id": "74410e9a-5668-458b-815a-d30936373833",
      "metadata": {
        "id": "74410e9a-5668-458b-815a-d30936373833"
      },
      "outputs": [],
      "source": [
        "class Patient:\n",
        "  def __init__(self, diagnos, temperature):\n",
        "    self._diagnos = diagnos\n",
        "    self._temperature = temperature\n",
        "\n",
        "  @property\n",
        "  def temperature(self):\n",
        "    return self._temperature\n",
        "\n",
        "  @temperature.setter\n",
        "  def temperature(self, value):\n",
        "    if 37 <= value <= 41:\n",
        "      print(f'У пациента поднялась температура!')\n",
        "      self._temperature = value\n",
        "    elif 34 <= value <= 36.9:\n",
        "      print(f'Температура пациента в пределах нормы!')\n",
        "      self._temperature = value\n",
        "    else:\n",
        "      print(f'Пациент находится в критическом состоянии!')\n",
        "      self._temperature = value"
      ]
    },
    {
      "cell_type": "code",
      "source": [
        "patient = Patient('Воспаление легких', 36.6)\n",
        "print(patient.temperature)"
      ],
      "metadata": {
        "colab": {
          "base_uri": "https://localhost:8080/"
        },
        "id": "AWiH7Woi59_W",
        "outputId": "543181cd-68b7-4846-9e56-f7df004c7326"
      },
      "id": "AWiH7Woi59_W",
      "execution_count": null,
      "outputs": [
        {
          "output_type": "stream",
          "name": "stdout",
          "text": [
            "36.6\n"
          ]
        }
      ]
    },
    {
      "cell_type": "code",
      "source": [
        "patient.temperature = 38.5\n",
        "print(patient.temperature)"
      ],
      "metadata": {
        "colab": {
          "base_uri": "https://localhost:8080/"
        },
        "id": "jEYR_Xo19vkw",
        "outputId": "ff9971ac-68cb-478e-aed4-8f19b0e72f21"
      },
      "id": "jEYR_Xo19vkw",
      "execution_count": null,
      "outputs": [
        {
          "output_type": "stream",
          "name": "stdout",
          "text": [
            "У пациента поднялась температура!\n",
            "38.5\n"
          ]
        }
      ]
    },
    {
      "cell_type": "code",
      "source": [
        "patient.temperature = 42\n",
        "print(patient.temperature)"
      ],
      "metadata": {
        "colab": {
          "base_uri": "https://localhost:8080/"
        },
        "id": "gJqJvJBD-HyH",
        "outputId": "e893b5e1-c1c4-41b7-9810-da17bd410854"
      },
      "id": "gJqJvJBD-HyH",
      "execution_count": null,
      "outputs": [
        {
          "output_type": "stream",
          "name": "stdout",
          "text": [
            "Пациент находится в критическом состоянии!\n",
            "42\n"
          ]
        }
      ]
    },
    {
      "cell_type": "markdown",
      "id": "4c6c463d-6a03-40fa-9614-76b6b23f6a65",
      "metadata": {
        "id": "4c6c463d-6a03-40fa-9614-76b6b23f6a65"
      },
      "source": [
        "#### Задача 2.\n",
        "\n",
        "Напишите декоратор, который будет конвертировать результат выполнения функции в bool."
      ]
    },
    {
      "cell_type": "code",
      "execution_count": null,
      "id": "195d6863-af7e-44eb-a08e-fdc27f0a1a4f",
      "metadata": {
        "id": "195d6863-af7e-44eb-a08e-fdc27f0a1a4f",
        "colab": {
          "base_uri": "https://localhost:8080/"
        },
        "outputId": "054720b8-5590-4ffe-df96-0b2a8e5a0d44"
      },
      "outputs": [
        {
          "output_type": "stream",
          "name": "stdout",
          "text": [
            "<function bool.<locals>.convert at 0x78d7bc8ac310>\n"
          ]
        }
      ],
      "source": [
        "from string import printable\n",
        "def to_bool(func):\n",
        "  def convert(*args, **kwargs):\n",
        "    res = func(*args, **kwargs)\n",
        "    return bool(res)\n",
        "  return convert\n",
        "@to_bool\n",
        "def function(value):\n",
        "  return value\n",
        "print((function('Hello world')))"
      ]
    },
    {
      "cell_type": "markdown",
      "id": "68c85a1a-261b-4da7-b22c-acbad39ab2e8",
      "metadata": {
        "id": "68c85a1a-261b-4da7-b22c-acbad39ab2e8"
      },
      "source": [
        "#### Задача 3.\n",
        "\n",
        "Напишите декоратор-класс, который будет пытаться вызывать функцию повторно, если во время ее выполнения возникла какая-то ошибка (представим себе, что у нас есть функции API, которые иногда возвращают ошибку при сбое соединения: тогда нужно подождать и повторно их вызвать)."
      ]
    },
    {
      "cell_type": "code",
      "source": [
        "import time\n",
        "class Function:\n",
        "  def __init__(self, attempts=3, delay=1):\n",
        "    self.attempts = attempts\n",
        "    self.delay = delay\n",
        "  def __call__(self, func):\n",
        "    def argument(*args, **kwargs):\n",
        "      attempts = 0\n",
        "      while attempts < self.attempts:\n",
        "        try:\n",
        "          return func(*args, **kwargs)\n",
        "        except Exception as e:\n",
        "          attempts += 1\n",
        "          print(f'Количество неудачных попыток: {attempts} {e}')\n",
        "          if attempts < self.attempts:\n",
        "            time.sleep(self.delay)\n",
        "      raise Exception(f'Функция не работает {func.__name__} после {self.attempts} попыток')\n",
        "    return argument"
      ],
      "metadata": {
        "id": "ba8L_ovsEqKI"
      },
      "id": "ba8L_ovsEqKI",
      "execution_count": null,
      "outputs": []
    },
    {
      "cell_type": "code",
      "source": [
        "@Function(attempts=5, delay=2)\n",
        "def uncall():\n",
        "  import random\n",
        "  if random.choice([True, False]):\n",
        "    raise ValueError('Случайная ошибка')\n",
        "  return 'Успешно!'"
      ],
      "metadata": {
        "id": "1Xcpb--pIEmF"
      },
      "id": "1Xcpb--pIEmF",
      "execution_count": null,
      "outputs": []
    },
    {
      "cell_type": "code",
      "source": [
        "try:\n",
        "    result = uncall()\n",
        "    print(result)\n",
        "except Exception as e:\n",
        "    print(e)"
      ],
      "metadata": {
        "colab": {
          "base_uri": "https://localhost:8080/"
        },
        "id": "dZJNcUcrIHDK",
        "outputId": "59bf8ba3-1a4a-4866-c8ec-21b843ac945a"
      },
      "id": "dZJNcUcrIHDK",
      "execution_count": null,
      "outputs": [
        {
          "output_type": "stream",
          "name": "stdout",
          "text": [
            "Количество неудачных попыток: 1 Случайная ошибка\n",
            "Успешно!\n"
          ]
        }
      ]
    },
    {
      "cell_type": "markdown",
      "id": "ba14cf2f-22d1-4bab-9693-02246f533dc0",
      "metadata": {
        "id": "ba14cf2f-22d1-4bab-9693-02246f533dc0"
      },
      "source": [
        "#### Задача 4.\n",
        "\n",
        "Допустим, у нас есть функция, которая возвращает сумму своих аргументов. Напишите декоратор, который будет позволять такой функции складывать попарно элементы в кортежах, которые передаются списком, то есть, список [(1, 2), (3, 4)] вернет [3, 7]."
      ]
    },
    {
      "cell_type": "code",
      "source": [
        "def decorator(func):\n",
        "  def arguments(turples):\n",
        "    result = [sum(pair) for pair in tuples]\n",
        "    return result\n",
        "  return arguments\n",
        "\n",
        "@decorator\n",
        "def pairs(turples):\n",
        "  return turples\n",
        "tuples = [(1,2),(3,4)]\n",
        "result = pairs(tuples)\n",
        "print(result)"
      ],
      "metadata": {
        "colab": {
          "base_uri": "https://localhost:8080/"
        },
        "id": "4sK4GRNbX-Xd",
        "outputId": "64b89bb3-030b-4b77-bdef-237a567ce1fd"
      },
      "id": "4sK4GRNbX-Xd",
      "execution_count": null,
      "outputs": [
        {
          "output_type": "stream",
          "name": "stdout",
          "text": [
            "[3, 7]\n"
          ]
        }
      ]
    },
    {
      "cell_type": "markdown",
      "source": [
        "Задача 1.\n",
        "\n",
        "С помощью модуля time реализуйте декоратор, который будет высчитывать время выполнения функции."
      ],
      "metadata": {
        "id": "k9z_Lc0Sz6rG"
      },
      "id": "k9z_Lc0Sz6rG"
    },
    {
      "cell_type": "code",
      "source": [
        "import time\n",
        "def decorator(func):\n",
        "  def arguments(*args, **kwargs):\n",
        "    start_time = time.time()\n",
        "    result = func(*args, **kwargs)\n",
        "    end_time = time.time()\n",
        "    all_time = end_time - start_time\n",
        "    print(f'Время выполнения функции {func.__name__}: {all_time:.5f} секунд')\n",
        "    return result\n",
        "  return arguments\n",
        "\n",
        "@decorator\n",
        "def function(n):\n",
        "  total = 0\n",
        "  for i in range(n):\n",
        "    total += i\n",
        "  return total\n",
        "result = function(105000)\n",
        "print(f'Результат выполнения: {result}')"
      ],
      "metadata": {
        "colab": {
          "base_uri": "https://localhost:8080/"
        },
        "id": "Kr2I2l47JbCd",
        "outputId": "a3131a87-32f0-4231-e790-5ec5d64429ce"
      },
      "id": "Kr2I2l47JbCd",
      "execution_count": null,
      "outputs": [
        {
          "output_type": "stream",
          "name": "stdout",
          "text": [
            "Время выполнения функции function: 0.01691 секунд\n",
            "Результат выполнения: 5512447500\n"
          ]
        }
      ]
    },
    {
      "cell_type": "markdown",
      "source": [
        "Задача 2.\n",
        "\n",
        "Перепишите класс Token с использованием декоратора dataclass."
      ],
      "metadata": {
        "id": "OgkSV9Wgz77p"
      },
      "id": "OgkSV9Wgz77p"
    },
    {
      "cell_type": "code",
      "source": [
        "!pip install pymorphy2"
      ],
      "metadata": {
        "collapsed": true,
        "colab": {
          "base_uri": "https://localhost:8080/"
        },
        "id": "sGYr33hOgTYe",
        "outputId": "e9031abc-85d1-4190-944d-08338e2a86fc"
      },
      "id": "sGYr33hOgTYe",
      "execution_count": null,
      "outputs": [
        {
          "output_type": "stream",
          "name": "stdout",
          "text": [
            "Requirement already satisfied: pymorphy2 in /usr/local/lib/python3.10/dist-packages (0.9.1)\n",
            "Requirement already satisfied: dawg-python>=0.7.1 in /usr/local/lib/python3.10/dist-packages (from pymorphy2) (0.7.2)\n",
            "Requirement already satisfied: pymorphy2-dicts-ru<3.0,>=2.4 in /usr/local/lib/python3.10/dist-packages (from pymorphy2) (2.4.417127.4579844)\n",
            "Requirement already satisfied: docopt>=0.6 in /usr/local/lib/python3.10/dist-packages (from pymorphy2) (0.6.2)\n"
          ]
        }
      ]
    },
    {
      "cell_type": "code",
      "source": [
        "from dataclasses import dataclass\n",
        "import pymorphy2\n",
        "@dataclass\n",
        "class Token:\n",
        "  text: str\n",
        "  _lemma: str = None\n",
        "  pos: str = None\n",
        "  dep: str = None\n",
        "  ent_type: str = None\n",
        "  morph = pymorphy2.MorphAnalyzer()\n",
        "\n",
        "  @property\n",
        "  def lemma(self):\n",
        "    if self._lemma is None:\n",
        "      self._lemma = self.morph.parse(self.text)[0].normal_form\n",
        "    return self._lemma\n",
        "\n",
        "  @lemma.setter\n",
        "  def lemma(self, lemma):\n",
        "    self._lemma = lemma\n",
        "\n",
        "  def set_pos(self, pos):\n",
        "    self.pos = pos\n",
        "  def set_dep(self, dep):\n",
        "    self.dep = dep\n",
        "  def set_ent_type(self, ent_type):\n",
        "    self.ent_type = ent_type\n",
        "\n",
        "  def lemmatize(self):\n",
        "    if self._lemma is None:\n",
        "      self._lemma = self.morph.parse(self.text)[0].normal_form"
      ],
      "metadata": {
        "id": "buCJ4zkTcwLQ"
      },
      "id": "buCJ4zkTcwLQ",
      "execution_count": null,
      "outputs": []
    },
    {
      "cell_type": "code",
      "source": [
        "token = Token('места')\n",
        "print(f'Text: {token.text}')\n",
        "print(f'Lemma: {token._lemma}')\n",
        "token.set_pos('NOUN')\n",
        "print(f'POS: {token.pos}')\n",
        "token.set_ent_type('MISC')\n",
        "token.set_dep('nsubj')\n",
        "print(f'Nominal subject: {token.dep}')\n",
        "token.lemmatize()\n",
        "print(f'Лемма после лемматизации: {token._lemma}')"
      ],
      "metadata": {
        "colab": {
          "base_uri": "https://localhost:8080/"
        },
        "id": "bbut-EGWjhE0",
        "outputId": "083a24d3-1d5e-4120-ad23-b63fb112d9a2"
      },
      "id": "bbut-EGWjhE0",
      "execution_count": null,
      "outputs": [
        {
          "output_type": "stream",
          "name": "stdout",
          "text": [
            "Text: места\n",
            "Lemma: None\n",
            "POS: NOUN\n",
            "Nominal subject: nsubj\n",
            "Лемма после лемматизации: место\n"
          ]
        }
      ]
    },
    {
      "cell_type": "markdown",
      "source": [
        "Задача 3.\n",
        "\n",
        "\n",
        "Расширьте декоратор таким образом, чтобы а) элементов в кортеже могло быть сколько угодно и они суммировались все б) декоратор был рекурсивным и умел отыскивать самые вложенные кортежи/списки и складывать их элементы, например: [[1, 2], [3, 4]], [[3, 4]] = 17 При этом вложенные числа должны быть все на одном уровне (то есть, не может оказаться, чтобы в списке был и список, и число)."
      ],
      "metadata": {
        "id": "9xA95QsKz_aF"
      },
      "id": "9xA95QsKz_aF"
    },
    {
      "cell_type": "code",
      "source": [
        "import time\n",
        "def decorator(func):\n",
        "  def arguments(*args, **kwargs):\n",
        "    start_time = time.time()\n",
        "    result = func(*args, **kwargs)\n",
        "    end_time = time.time()\n",
        "    all_time = end_time - start_time\n",
        "    print(f'Время выполнения функции {func.__name__}: {all_time:.5f} секунд')\n",
        "    return result\n",
        "  return arguments\n",
        "\n",
        "def elements(data):\n",
        "  total = 0\n",
        "  if isinstance(data, (list, tuple)):\n",
        "    for item in data:\n",
        "      total += elements(item) # будет рекурсивно суммировать элементы\n",
        "  elif isinstance(data, (int, float)):\n",
        "      total += data\n",
        "  return total\n",
        "\n",
        "@decorator\n",
        "def function(*args):\n",
        "  total_sum = 0\n",
        "  for arg in args:\n",
        "    total_sum += elements(arg) # попробую суммировать элементы из аргументов\n",
        "  return total_sum"
      ],
      "metadata": {
        "id": "VBtdJkLjJkg2"
      },
      "id": "VBtdJkLjJkg2",
      "execution_count": null,
      "outputs": []
    },
    {
      "cell_type": "code",
      "source": [
        "result = function(\n",
        "    (1, 2, (3, 4)),\n",
        "    [5, [6, 7]],\n",
        "    [[8, 9], [10]],\n",
        "    (11, 12)\n",
        ")\n",
        "print(f'Результат: {result}')"
      ],
      "metadata": {
        "colab": {
          "base_uri": "https://localhost:8080/"
        },
        "id": "_uMRh7kqfFsX",
        "outputId": "9b5074a5-7de0-4e0c-9ee7-7875ca10d4a9"
      },
      "id": "_uMRh7kqfFsX",
      "execution_count": null,
      "outputs": [
        {
          "output_type": "stream",
          "name": "stdout",
          "text": [
            "Время выполнения функции function: 0.00001 секунд\n",
            "Результат: 78\n"
          ]
        }
      ]
    },
    {
      "cell_type": "markdown",
      "source": [
        "\n",
        "# **Семинар 7**"
      ],
      "metadata": {
        "id": "BJCAO7sjkWqP"
      },
      "id": "BJCAO7sjkWqP"
    },
    {
      "cell_type": "markdown",
      "source": [
        "Задача 1.\n",
        "\n",
        "Напишите метакласс с логированием: при определении любого нового класса в файл (путь к которому хранится в статическом атрибуте метакласса) записывается имя этого класса, его суперклассы и атрибуты."
      ],
      "metadata": {
        "id": "8Dq5NLCukekS"
      },
      "id": "8Dq5NLCukekS"
    },
    {
      "cell_type": "markdown",
      "source": [
        "То есть правильно ли я поняла, что мне сначала нужно:\n",
        "создать метакласс, затем добавить статический атрибут для того, чтобы хранился путь к файлу, а затем записать информацию в файл?\n",
        "\n",
        "Лог (log) - это хронологическая запись наиболее значимой информации о работе системы.\n",
        "\n",
        "Срочное исправление - Fatal error\n",
        "\n",
        "Ошибки, не влияющие на пользователя - Not critical error\n",
        "\n",
        "События, требующие внимания - Warning\n",
        "\n",
        "Информация о вызовах сервера - Initial information"
      ],
      "metadata": {
        "id": "lC0x8mvo9-Za"
      },
      "id": "lC0x8mvo9-Za"
    },
    {
      "cell_type": "code",
      "source": [
        "# Пример с Geek\n",
        "# importing module\n",
        "import logging\n",
        "\n",
        "# Create and configure logger\n",
        "logging.basicConfig(filename=\"newfile.log\",\n",
        "                    format='%(asctime)s %(message)s',\n",
        "                    filemode='w')\n",
        "\n",
        "# Creating an object\n",
        "logger = logging.getLogger()\n",
        "\n",
        "# Setting the threshold of logger to DEBUG\n",
        "logger.setLevel(logging.DEBUG)\n",
        "\n",
        "# Test messages\n",
        "logger.debug(\"Harmless debug Message\")\n",
        "logger.info(\"Just an information\")\n",
        "logger.warning(\"Its a Warning\")\n",
        "logger.error(\"Did you try to divide by zero\")\n",
        "logger.critical(\"Internet is down\")"
      ],
      "metadata": {
        "colab": {
          "base_uri": "https://localhost:8080/"
        },
        "id": "RYoGTIT8uLkv",
        "outputId": "3636be42-456e-4019-88b6-80392bf29323"
      },
      "id": "RYoGTIT8uLkv",
      "execution_count": null,
      "outputs": [
        {
          "output_type": "stream",
          "name": "stderr",
          "text": [
            "DEBUG:root:Harmless debug Message\n",
            "INFO:root:Just an information\n",
            "WARNING:root:Its a Warning\n",
            "ERROR:root:Did you try to divide by zero\n",
            "CRITICAL:root:Internet is down\n"
          ]
        }
      ]
    },
    {
      "cell_type": "code",
      "source": [
        "class Meta(type):\n",
        "  log_file = 'булгаков.txt'\n",
        "  def __new__(cls, name, bases, attrs):\n",
        "    new_class = super().__new__(cls, name, bases, attrs)\n",
        "    class_info = f'Class name: {name}'\n",
        "    class_info += f'Base classes: {[base.__name__ for base in bases]}'\n",
        "    class_info += f'Attributes: {list(attrs.keys())}'\n",
        "    with open(cls.log_file, 'a', encoding='utf-8') as log_file:\n",
        "      log_file.write(class_info)\n",
        "    return new_class\n",
        "\n",
        "class Person(metaclass=Meta):\n",
        "  name = 'Петя'\n",
        "  surname = 'Олегров'\n",
        "  age = 50"
      ],
      "metadata": {
        "id": "WlhZ6xDDYmZN"
      },
      "id": "WlhZ6xDDYmZN",
      "execution_count": 17,
      "outputs": []
    },
    {
      "cell_type": "markdown",
      "source": [
        "Задача 2.\n",
        "\n",
        "Напишите метакласс, который любому новому классу будет добавлять метод sayHello(*args, **kwargs)."
      ],
      "metadata": {
        "id": "Qp77AsE0kgpD"
      },
      "id": "Qp77AsE0kgpD"
    },
    {
      "cell_type": "code",
      "source": [
        "class Meta(type):\n",
        "  def __new__(cls, name, bases, attrs):\n",
        "    def sayHello(self, *args, **kwargs):\n",
        "      print(f'Привет от класса: {self.__class__.__name__}')\n",
        "    # добавлю метод sayhello в атрибут класса\n",
        "    attrs['sayHello'] = sayHello\n",
        "    # теперь создам новый класс с этим методом\n",
        "    new_class = super().__new__(cls, name, bases, attrs)\n",
        "    return new_class\n",
        "\n",
        "class Hello(metaclass=Meta):\n",
        "  pass\n",
        "\n",
        "class Say(metaclass=Meta):\n",
        "  pass\n",
        "\n",
        "h1 = Hello()\n",
        "h2 = Say()\n",
        "h1.sayHello()\n",
        "h2.sayHello()"
      ],
      "metadata": {
        "colab": {
          "base_uri": "https://localhost:8080/"
        },
        "id": "JiBMZo-JweDN",
        "outputId": "bd92854e-c390-41cf-e034-ae77507970a9"
      },
      "id": "JiBMZo-JweDN",
      "execution_count": null,
      "outputs": [
        {
          "output_type": "stream",
          "name": "stdout",
          "text": [
            "Привет от класса: Hello\n",
            "Привет от класса: Say\n"
          ]
        }
      ]
    },
    {
      "cell_type": "markdown",
      "source": [
        "Задача 3.\n",
        "\n",
        "Напишите метакласс, который позволяет своим классам иметь только атрибуты name, surname, age и никаких других."
      ],
      "metadata": {
        "id": "ULu5iGa1kkWM"
      },
      "id": "ULu5iGa1kkWM"
    },
    {
      "cell_type": "code",
      "source": [
        "class Meta(type):\n",
        "  def __new__(cls, name, bases, attrs):\n",
        "    # создам список атрибутов, которые будут разрешены\n",
        "    attributes = {'name', 'surname', 'age'}\n",
        "\n",
        "    for attr in attrs.keys():\n",
        "      if attr not in attributes and not attr.startswith('__'):\n",
        "        raise AttributeError(f'Такой атрибут: {attr} не разрешен в классе {name}')\n",
        "    new_class = super().__new__(cls, name, bases, attrs)\n",
        "    return new_class"
      ],
      "metadata": {
        "id": "MfHi7zEEknms"
      },
      "id": "MfHi7zEEknms",
      "execution_count": null,
      "outputs": []
    },
    {
      "cell_type": "code",
      "source": [
        "class Person(metaclass=Meta):\n",
        "  name = 'Петя'\n",
        "  surname = 'Олегров'\n",
        "  age = 50\n",
        "\n",
        "per = Person()\n",
        "print(per.name, per.surname, per.age, sep='\\n')"
      ],
      "metadata": {
        "colab": {
          "base_uri": "https://localhost:8080/"
        },
        "id": "5W2ozckq32IG",
        "outputId": "498f8b5c-7ddc-493e-99d6-406eb5df43b0"
      },
      "id": "5W2ozckq32IG",
      "execution_count": null,
      "outputs": [
        {
          "output_type": "stream",
          "name": "stdout",
          "text": [
            "Петя\n",
            "Олегров\n",
            "50\n"
          ]
        }
      ]
    },
    {
      "cell_type": "code",
      "source": [
        "class ErrorPerson(metaclass=Meta):\n",
        "  name = 'Василий'\n",
        "  surname = 'Геннадьев'\n",
        "  age = 30\n",
        "  weight = 90\n",
        "er = ErrorPerson()"
      ],
      "metadata": {
        "colab": {
          "base_uri": "https://localhost:8080/",
          "height": 332
        },
        "id": "_KGIca8A6Tc1",
        "outputId": "6f610a70-eb10-4960-aaaf-1eeee8ae1507"
      },
      "id": "_KGIca8A6Tc1",
      "execution_count": null,
      "outputs": [
        {
          "output_type": "error",
          "ename": "AttributeError",
          "evalue": "Такой атрибут: weight не разрешен в классе ErrorPerson",
          "traceback": [
            "\u001b[0;31m---------------------------------------------------------------------------\u001b[0m",
            "\u001b[0;31mAttributeError\u001b[0m                            Traceback (most recent call last)",
            "\u001b[0;32m<ipython-input-54-251acd4bb6b3>\u001b[0m in \u001b[0;36m<cell line: 1>\u001b[0;34m()\u001b[0m\n\u001b[0;32m----> 1\u001b[0;31m \u001b[0;32mclass\u001b[0m \u001b[0mErrorPerson\u001b[0m\u001b[0;34m(\u001b[0m\u001b[0mmetaclass\u001b[0m\u001b[0;34m=\u001b[0m\u001b[0mMeta\u001b[0m\u001b[0;34m)\u001b[0m\u001b[0;34m:\u001b[0m\u001b[0;34m\u001b[0m\u001b[0;34m\u001b[0m\u001b[0m\n\u001b[0m\u001b[1;32m      2\u001b[0m   \u001b[0mname\u001b[0m \u001b[0;34m=\u001b[0m \u001b[0;34m'Василий'\u001b[0m\u001b[0;34m\u001b[0m\u001b[0;34m\u001b[0m\u001b[0m\n\u001b[1;32m      3\u001b[0m   \u001b[0msurname\u001b[0m \u001b[0;34m=\u001b[0m \u001b[0;34m'Геннадьев'\u001b[0m\u001b[0;34m\u001b[0m\u001b[0;34m\u001b[0m\u001b[0m\n\u001b[1;32m      4\u001b[0m   \u001b[0mage\u001b[0m \u001b[0;34m=\u001b[0m \u001b[0;36m30\u001b[0m\u001b[0;34m\u001b[0m\u001b[0;34m\u001b[0m\u001b[0m\n\u001b[1;32m      5\u001b[0m   \u001b[0mweight\u001b[0m \u001b[0;34m=\u001b[0m \u001b[0;36m90\u001b[0m\u001b[0;34m\u001b[0m\u001b[0;34m\u001b[0m\u001b[0m\n",
            "\u001b[0;32m<ipython-input-51-6cb986d4a758>\u001b[0m in \u001b[0;36m__new__\u001b[0;34m(cls, name, bases, attrs)\u001b[0m\n\u001b[1;32m      6\u001b[0m     \u001b[0;32mfor\u001b[0m \u001b[0mattr\u001b[0m \u001b[0;32min\u001b[0m \u001b[0mattrs\u001b[0m\u001b[0;34m.\u001b[0m\u001b[0mkeys\u001b[0m\u001b[0;34m(\u001b[0m\u001b[0;34m)\u001b[0m\u001b[0;34m:\u001b[0m\u001b[0;34m\u001b[0m\u001b[0;34m\u001b[0m\u001b[0m\n\u001b[1;32m      7\u001b[0m       \u001b[0;32mif\u001b[0m \u001b[0mattr\u001b[0m \u001b[0;32mnot\u001b[0m \u001b[0;32min\u001b[0m \u001b[0mattributes\u001b[0m \u001b[0;32mand\u001b[0m \u001b[0;32mnot\u001b[0m \u001b[0mattr\u001b[0m\u001b[0;34m.\u001b[0m\u001b[0mstartswith\u001b[0m\u001b[0;34m(\u001b[0m\u001b[0;34m'__'\u001b[0m\u001b[0;34m)\u001b[0m\u001b[0;34m:\u001b[0m\u001b[0;34m\u001b[0m\u001b[0;34m\u001b[0m\u001b[0m\n\u001b[0;32m----> 8\u001b[0;31m         \u001b[0;32mraise\u001b[0m \u001b[0mAttributeError\u001b[0m\u001b[0;34m(\u001b[0m\u001b[0;34mf'Такой атрибут: {attr} не разрешен в классе {name}'\u001b[0m\u001b[0;34m)\u001b[0m\u001b[0;34m\u001b[0m\u001b[0;34m\u001b[0m\u001b[0m\n\u001b[0m\u001b[1;32m      9\u001b[0m     \u001b[0mnew_class\u001b[0m \u001b[0;34m=\u001b[0m \u001b[0msuper\u001b[0m\u001b[0;34m(\u001b[0m\u001b[0;34m)\u001b[0m\u001b[0;34m.\u001b[0m\u001b[0m__new__\u001b[0m\u001b[0;34m(\u001b[0m\u001b[0mcls\u001b[0m\u001b[0;34m,\u001b[0m \u001b[0mname\u001b[0m\u001b[0;34m,\u001b[0m \u001b[0mbases\u001b[0m\u001b[0;34m,\u001b[0m \u001b[0mattrs\u001b[0m\u001b[0;34m)\u001b[0m \u001b[0;31m# новый класс\u001b[0m\u001b[0;34m\u001b[0m\u001b[0;34m\u001b[0m\u001b[0m\n\u001b[1;32m     10\u001b[0m     \u001b[0;32mreturn\u001b[0m \u001b[0mnew_class\u001b[0m\u001b[0;34m\u001b[0m\u001b[0;34m\u001b[0m\u001b[0m\n",
            "\u001b[0;31mAttributeError\u001b[0m: Такой атрибут: weight не разрешен в классе ErrorPerson"
          ]
        }
      ]
    },
    {
      "cell_type": "markdown",
      "source": [
        "Задача 4 (2 балла).\n",
        "\n",
        "Приготовимся в большом проекте создать игру-стратегию (графику потом дизайнеры добавят). Наша игра будет называться Dawn of Man, и задачей игрока будет управлять поселением первобытных людей, которые в процессе набирают очки знаний и открывают новые технологии. Наши люди - это отдельные юниты, которые умеют взаимодействовать с элементами окружающей среды: у них будут какие-то инструменты для создания еды, оружия и прочего (например, какой-нибудь навес, под которым человек садится, набрав палок и камней, и ваяет себе палку-копалку).\n",
        "\n",
        "Наша задача - набросать черновик для игры: создать абстрактные классы для людей, объектов, с которыми они взаимодействуют, чтобы создавать вещи, и собственно вещей. Возможно, имеет смысл также предусмотреть черновик-класс для животных, на которых люди будут охотиться.\n",
        "\n",
        "Попробуйте также создать конкретный класс для кого-нибудь из них."
      ],
      "metadata": {
        "id": "o1iCh2B0kseu"
      },
      "id": "o1iCh2B0kseu"
    },
    {
      "cell_type": "markdown",
      "source": [
        "Абстрактный класс - это своего рода шаблон для классов, которые будут от него наследовать. Основное отличие абстрактного класса (и абстрактных методов) в том, что нельзя создавать экземпляры этого класса (и с такими методами)"
      ],
      "metadata": {
        "id": "YyWPj6qHEhih"
      },
      "id": "YyWPj6qHEhih"
    },
    {
      "cell_type": "code",
      "source": [
        "from abc import ABC, abstractmethod\n",
        "# не создавала конкретный класс для них, просто пока подумала, как может выглядеть абстрактный класс\n",
        "\n",
        "class People(ABC):\n",
        "  def __init__(self, name, health, knowledge):\n",
        "    self.name = name\n",
        "    self.health = health\n",
        "    self.knowledge = knowledge\n",
        "\n",
        "  @abstractmethod\n",
        "  def pick_resources(self): # будут собирать ресурсы\n",
        "    pass\n",
        "\n",
        "  @abstractmethod\n",
        "  def craft_smth(self): # создание вещей\n",
        "    pass\n",
        "# Люди будут взаимодействовать с ресурсами\n",
        "class Resources(ABC):\n",
        "  @abstractmethod\n",
        "  def collect(self):\n",
        "    pass\n",
        "# Люди могут использовать собранные предметы\n",
        "class Things(ABC):\n",
        "  @abstractmethod\n",
        "  def use(self):\n",
        "    pass\n",
        "\n",
        "#Животные, которые будут охотиться\n",
        "class Animal(ABC):\n",
        "  def __init__(self, species, health):\n",
        "    self.species = species\n",
        "    self.health = health\n",
        "  @abstractmethod\n",
        "  def hunt(self):\n",
        "    pass"
      ],
      "metadata": {
        "id": "KBNRSUxYEAdf"
      },
      "id": "KBNRSUxYEAdf",
      "execution_count": null,
      "outputs": []
    }
  ],
  "metadata": {
    "kernelspec": {
      "display_name": "Python 3 (ipykernel)",
      "language": "python",
      "name": "python3"
    },
    "language_info": {
      "codemirror_mode": {
        "name": "ipython",
        "version": 3
      },
      "file_extension": ".py",
      "mimetype": "text/x-python",
      "name": "python",
      "nbconvert_exporter": "python",
      "pygments_lexer": "ipython3",
      "version": "3.9.12"
    },
    "colab": {
      "provenance": []
    }
  },
  "nbformat": 4,
  "nbformat_minor": 5
}