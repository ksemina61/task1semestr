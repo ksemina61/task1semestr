{
 "cells": [
  {
   "cell_type": "code",
   "execution_count": null,
   "metadata": {},
   "outputs": [],
   "source": [
    "#домашняя работа №3"
   ]
  },
  {
   "cell_type": "code",
   "execution_count": null,
   "metadata": {},
   "outputs": [],
   "source": [
    "s = 'hahahahah' #задание 10\n",
    "a = s[:s.find('h') + 1]\n",
    "b = s[s.find('h') + 1:s.rfind('h')]\n",
    "c = s[s.rfind('h'):]\n",
    "s = a + b.replace('h', 'H') + c\n",
    "print(s)"
   ]
  },
  {
   "cell_type": "code",
   "execution_count": null,
   "metadata": {},
   "outputs": [],
   "source": [
    "s = input() #задание 9\n",
    "a = s[:s.find('h')]\n",
    "b = s[s.find('h'):s.rfind('h') + 1]\n",
    "c = s[s.rfind('h') + 1:]\n",
    "s = a + b[::-1] + c\n",
    "print(s)"
   ]
  },
  {
   "cell_type": "code",
   "execution_count": null,
   "metadata": {},
   "outputs": [],
   "source": [
    "s = input() #задание 8\n",
    "s = s[:s.find('h')] + s[s.rfind('h') + 1:]\n",
    "print(s)"
   ]
  },
  {
   "cell_type": "code",
   "execution_count": null,
   "metadata": {},
   "outputs": [],
   "source": [
    "s = input() #задание 7\n",
    "if s.count('f') == 1:\n",
    "    print(-1)\n",
    "elif s.count('f') < 1:\n",
    "    print(-2)\n",
    "else:\n",
    "    print(s.find('f', s.find('f') + 1))"
   ]
  },
  {
   "cell_type": "code",
   "execution_count": null,
   "metadata": {},
   "outputs": [],
   "source": [
    "s = input() #задание 6 \n",
    "if s.count('f') == 1:\n",
    "    print(s.find('f'))\n",
    "elif s.count('f') >= 2:\n",
    "    print(s.find('f'), s.rfind('f'))"
   ]
  },
  {
   "cell_type": "code",
   "execution_count": null,
   "metadata": {},
   "outputs": [],
   "source": [
    "s = input() #задание 5\n",
    "word1 = s[:s.find(' ')]\n",
    "word2 = s[s.find(' ') + 1:]\n",
    "print(word2 + ' ' + word1)"
   ]
  },
  {
   "cell_type": "code",
   "execution_count": null,
   "metadata": {},
   "outputs": [],
   "source": [
    "x = float(input()) # задача 4\n",
    "print(int(x * 10) % 10)"
   ]
  },
  {
   "cell_type": "code",
   "execution_count": null,
   "metadata": {},
   "outputs": [],
   "source": [
    "s = 'salutcava' #задание 3\n",
    "print(s[::-1])"
   ]
  },
  {
   "cell_type": "code",
   "execution_count": null,
   "metadata": {},
   "outputs": [],
   "source": [
    "b = input() #задание 2\n",
    "b = b.replace(' ', \" \")\n",
    "print(b.count(\"и\") - 1)\n",
    "# либо так:\n",
    "b = input() #задание 2\n",
    "b = b.replace(' ', \" \")\n",
    "print(b.count(\" и \"))"
   ]
  },
  {
   "cell_type": "code",
   "execution_count": null,
   "metadata": {},
   "outputs": [],
   "source": [
    "#задание 1\n",
    "a = str(input())\n",
    "a = a.replace('cci', 'chi').replace ('cce', 'che').replace ('cca', 'kka').replace('cco', 'kko').replace('ccu', 'kku').replace('gl', 'l')"
   ]
  },
  {
   "cell_type": "code",
   "execution_count": null,
   "metadata": {},
   "outputs": [],
   "source": [
    "n = str(input()) #семинар 3, задание 1\n",
    "print(n.replace('@', 'b'))"
   ]
  },
  {
   "cell_type": "code",
   "execution_count": null,
   "metadata": {},
   "outputs": [],
   "source": [
    "n = str(input()) #семинар 3, задание 2\n",
    "print(n.count( ' ') + 1)"
   ]
  },
  {
   "cell_type": "code",
   "execution_count": null,
   "metadata": {},
   "outputs": [],
   "source": [
    "a = str(input()) #seminar 3, task 3\n",
    "print(a.endswith('ся') and a.startswith('пере'))"
   ]
  },
  {
   "cell_type": "code",
   "execution_count": null,
   "metadata": {},
   "outputs": [],
   "source": [
    "X = float(input()) #семинар 3, задание 4\n",
    "print(int(X * 10) % 10)"
   ]
  },
  {
   "cell_type": "code",
   "execution_count": null,
   "metadata": {},
   "outputs": [],
   "source": [
    "s = str(input()) #семинар 3, задание 5\n",
    "s = s.replace(' ', \"\")\n",
    "if s == s[::-1]:\n",
    "  print('This is a palidrome')\n",
    "else:\n",
    "  print('This is not a palidrome')\n",
    "print()"
   ]
  },
  {
   "cell_type": "code",
   "execution_count": null,
   "metadata": {},
   "outputs": [],
   "source": [
    "kor = int(input()) # seminar 3, task 6\n",
    "if kor % 10 == 1 and kor != 11:\n",
    "    print(kor, 'korova')\n",
    "elif 2 <= kor % 10 <= 4 and kor // 10 != 1:\n",
    "    print(kor, 'korovy')\n",
    "else:\n",
    "    print(kor, 'korov')"
   ]
  }
 ],
 "metadata": {
  "language_info": {
   "name": "python"
  },
  "orig_nbformat": 4
 },
 "nbformat": 4,
 "nbformat_minor": 2
}
