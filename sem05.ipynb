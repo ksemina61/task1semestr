{
  "cells": [
    {
      "cell_type": "markdown",
      "metadata": {
        "colab_type": "text",
        "id": "view-in-github"
      },
      "source": [
        "<a href=\"https://colab.research.google.com/github/ksemina61/task1semestr/blob/main/sem05.ipynb\" target=\"_parent\"><img src=\"https://colab.research.google.com/assets/colab-badge.svg\" alt=\"Open In Colab\"/></a>"
      ]
    },
    {
      "cell_type": "code",
      "execution_count": null,
      "id": "2EAngrdqPN5y",
      "metadata": {
        "id": "2EAngrdqPN5y"
      },
      "outputs": [],
      "source": [
        "# Сначала тут идет семинар, листайте вниз, там как раз 2 задания домашних."
      ]
    },
    {
      "cell_type": "code",
      "execution_count": null,
      "id": "c132db2c-b30b-467f-aaf3-9dd1241575dd",
      "metadata": {
        "id": "c132db2c-b30b-467f-aaf3-9dd1241575dd"
      },
      "outputs": [],
      "source": [
        "import numpy as np\n",
        "import pandas as pd\n",
        "import matplotlib.pyplot as plt"
      ]
    },
    {
      "cell_type": "markdown",
      "id": "fb001c77-8ad1-424d-8335-d4d5a59801bc",
      "metadata": {
        "id": "fb001c77-8ad1-424d-8335-d4d5a59801bc"
      },
      "source": [
        "# Стекинг\n",
        "\n",
        "Использовать стекинг в sklearn очень просто:"
      ]
    },
    {
      "cell_type": "code",
      "execution_count": null,
      "id": "40cc70c8-3ad0-4cca-8723-13d8fc39b755",
      "metadata": {
        "colab": {
          "base_uri": "https://localhost:8080/"
        },
        "id": "40cc70c8-3ad0-4cca-8723-13d8fc39b755",
        "outputId": "62029eb5-1e83-4515-c400-87ea4cf8807a"
      },
      "outputs": [
        {
          "data": {
            "text/plain": [
              "0.9473684210526315"
            ]
          },
          "execution_count": 2,
          "metadata": {},
          "output_type": "execute_result"
        }
      ],
      "source": [
        "from sklearn.datasets import load_iris\n",
        "from sklearn.ensemble import RandomForestClassifier, StackingClassifier\n",
        "from sklearn.linear_model import LogisticRegression\n",
        "from sklearn.model_selection import train_test_split\n",
        "from sklearn.neighbors import KNeighborsClassifier\n",
        "\n",
        "X, y = load_iris(return_X_y=True)\n",
        "\n",
        "# Create Base Learners\n",
        "base_learners = [\n",
        "                 ('rf_1', RandomForestClassifier(n_estimators=10, random_state=42)), # estimator - кол-во деревьев, которые мы учим\n",
        "                 ('rf_2', KNeighborsClassifier(n_neighbors=5))\n",
        "                ]\n",
        "\n",
        "# Initialize Stacking Classifier with the Meta Learner\n",
        "clf = StackingClassifier(estimators=base_learners, final_estimator=LogisticRegression())\n",
        "\n",
        "# Extract score\n",
        "X_train, X_test, y_train, y_test = train_test_split(X, y, stratify=y, random_state=42)\n",
        "clf.fit(X_train, y_train).score(X_test, y_test)"
      ]
    },
    {
      "cell_type": "markdown",
      "id": "43ad6771-0638-40ad-a69b-a9bab3854708",
      "metadata": {
        "id": "43ad6771-0638-40ad-a69b-a9bab3854708"
      },
      "source": [
        "# Беггинг. Random Forest"
      ]
    },
    {
      "cell_type": "markdown",
      "id": "27c78648-16c8-4d47-8f32-bfe0a581f3e8",
      "metadata": {
        "id": "27c78648-16c8-4d47-8f32-bfe0a581f3e8"
      },
      "source": [
        "Мотивацию построения алгоритма случайного леса (Random Forest) удобно рассматривать в терминах смещения и дисперсии. Начнём с построения решающего дерева."
      ]
    },
    {
      "cell_type": "code",
      "execution_count": null,
      "id": "4b8892fa-60f5-45f8-b461-65e14e8850b8",
      "metadata": {
        "colab": {
          "base_uri": "https://localhost:8080/"
        },
        "id": "4b8892fa-60f5-45f8-b461-65e14e8850b8",
        "outputId": "15fe9431-ed8d-49aa-9353-39e3fd8a0b79"
      },
      "outputs": [
        {
          "name": "stdout",
          "output_type": "stream",
          "text": [
            "Requirement already satisfied: mlxtend==0.22.0 in /usr/local/lib/python3.10/dist-packages (0.22.0)\n",
            "Requirement already satisfied: scipy>=1.2.1 in /usr/local/lib/python3.10/dist-packages (from mlxtend==0.22.0) (1.11.4)\n",
            "Requirement already satisfied: numpy>=1.16.2 in /usr/local/lib/python3.10/dist-packages (from mlxtend==0.22.0) (1.25.2)\n",
            "Requirement already satisfied: pandas>=0.24.2 in /usr/local/lib/python3.10/dist-packages (from mlxtend==0.22.0) (1.5.3)\n",
            "Requirement already satisfied: scikit-learn>=1.0.2 in /usr/local/lib/python3.10/dist-packages (from mlxtend==0.22.0) (1.2.2)\n",
            "Requirement already satisfied: matplotlib>=3.0.0 in /usr/local/lib/python3.10/dist-packages (from mlxtend==0.22.0) (3.7.1)\n",
            "Requirement already satisfied: joblib>=0.13.2 in /usr/local/lib/python3.10/dist-packages (from mlxtend==0.22.0) (1.3.2)\n",
            "Requirement already satisfied: setuptools in /usr/local/lib/python3.10/dist-packages (from mlxtend==0.22.0) (67.7.2)\n",
            "Requirement already satisfied: contourpy>=1.0.1 in /usr/local/lib/python3.10/dist-packages (from matplotlib>=3.0.0->mlxtend==0.22.0) (1.2.0)\n",
            "Requirement already satisfied: cycler>=0.10 in /usr/local/lib/python3.10/dist-packages (from matplotlib>=3.0.0->mlxtend==0.22.0) (0.12.1)\n",
            "Requirement already satisfied: fonttools>=4.22.0 in /usr/local/lib/python3.10/dist-packages (from matplotlib>=3.0.0->mlxtend==0.22.0) (4.49.0)\n",
            "Requirement already satisfied: kiwisolver>=1.0.1 in /usr/local/lib/python3.10/dist-packages (from matplotlib>=3.0.0->mlxtend==0.22.0) (1.4.5)\n",
            "Requirement already satisfied: packaging>=20.0 in /usr/local/lib/python3.10/dist-packages (from matplotlib>=3.0.0->mlxtend==0.22.0) (24.0)\n",
            "Requirement already satisfied: pillow>=6.2.0 in /usr/local/lib/python3.10/dist-packages (from matplotlib>=3.0.0->mlxtend==0.22.0) (9.4.0)\n",
            "Requirement already satisfied: pyparsing>=2.3.1 in /usr/local/lib/python3.10/dist-packages (from matplotlib>=3.0.0->mlxtend==0.22.0) (3.1.2)\n",
            "Requirement already satisfied: python-dateutil>=2.7 in /usr/local/lib/python3.10/dist-packages (from matplotlib>=3.0.0->mlxtend==0.22.0) (2.8.2)\n",
            "Requirement already satisfied: pytz>=2020.1 in /usr/local/lib/python3.10/dist-packages (from pandas>=0.24.2->mlxtend==0.22.0) (2023.4)\n",
            "Requirement already satisfied: threadpoolctl>=2.0.0 in /usr/local/lib/python3.10/dist-packages (from scikit-learn>=1.0.2->mlxtend==0.22.0) (3.3.0)\n",
            "Requirement already satisfied: six>=1.5 in /usr/local/lib/python3.10/dist-packages (from python-dateutil>=2.7->matplotlib>=3.0.0->mlxtend==0.22.0) (1.16.0)\n"
          ]
        }
      ],
      "source": [
        "!pip install mlxtend==0.22.0 # библиотека для визуализации деревьев"
      ]
    },
    {
      "cell_type": "code",
      "execution_count": null,
      "id": "6435f8f1-19bc-4247-a6a4-c0e3bb2c5f5e",
      "metadata": {
        "id": "6435f8f1-19bc-4247-a6a4-c0e3bb2c5f5e"
      },
      "outputs": [],
      "source": [
        "# Пример отсюда: http://rasbt.github.io/mlxtend/user_guide/evaluate/bias_variance_decomp/\n",
        "\n",
        "from sklearn.model_selection import train_test_split\n",
        "from mlxtend.data import boston_housing_data\n",
        "\n",
        "X, y = boston_housing_data()\n",
        "X_train, X_test, y_train, y_test = train_test_split(X, y,\n",
        "                                                    test_size = 0.2,\n",
        "                                                    random_state = 42,\n",
        "                                                    shuffle = True)"
      ]
    },
    {
      "cell_type": "markdown",
      "id": "EIySRDQIggNF",
      "metadata": {
        "id": "EIySRDQIggNF"
      },
      "source": [
        "Shuffle - это параметр в функции train_test_split, который определяет, будут ли перемешаны данные перед разделением на обучающий и тестовый наборы.\n",
        "\n",
        "Если shuffle=True, то данные будут перемешаны перед разделением, что помогает избежать возможных искажений или зависимостей, которые могут быть связаны с порядком данных в исходном наборе.\n",
        "\n",
        "Если shuffle=False, то данные будут разделены без предварительного перемешивания.\n",
        "\n",
        "В бэггинге, включая случайный лес (Random Forest), часто используется перемешивание данных для создания различных обучающих поднаборов для каждого дерева или модели, чтобы повысить разнообразие и уменьшить переобучение."
      ]
    },
    {
      "cell_type": "code",
      "execution_count": null,
      "id": "5ea316c3-972a-435b-94dd-ba6fb43ccb5a",
      "metadata": {
        "colab": {
          "base_uri": "https://localhost:8080/"
        },
        "id": "5ea316c3-972a-435b-94dd-ba6fb43ccb5a",
        "outputId": "028d879f-98dc-42a3-9167-968a5c5ae9f0"
      },
      "outputs": [
        {
          "name": "stdout",
          "output_type": "stream",
          "text": [
            "MSE train: 0.0\n",
            "MSE test: 11.153627450980393\n"
          ]
        }
      ],
      "source": [
        "from sklearn.tree import DecisionTreeRegressor # деревья решения\n",
        "from sklearn.metrics import mean_squared_error\n",
        "\n",
        "dt = DecisionTreeRegressor()\n",
        "dt.fit(X_train, y_train)\n",
        "\n",
        "y_pred_train = dt.predict(X_train)\n",
        "y_pred_test = dt.predict(X_test)\n",
        "\n",
        "print('MSE train:', mean_squared_error(y_train, y_pred_train))\n",
        "print('MSE test:', mean_squared_error(y_test, y_pred_test))\n",
        "# Алгоритм переобучился, на трейне ошибка отличается сильно от теста"
      ]
    },
    {
      "cell_type": "code",
      "execution_count": null,
      "id": "7ef3855d-f958-4e54-857d-1a2be1e4ed2f",
      "metadata": {
        "id": "7ef3855d-f958-4e54-857d-1a2be1e4ed2f"
      },
      "outputs": [],
      "source": [
        "from mlxtend.evaluate import bias_variance_decomp\n",
        "\n",
        "_, bias, variance = bias_variance_decomp(dt, X_train, y_train, X_test, y_test, loss = 'mse') # раскладывает ошибку получившегося алгоритма"
      ]
    },
    {
      "cell_type": "code",
      "execution_count": null,
      "id": "7baa7793-1b67-4fd3-9401-b3794d199a7d",
      "metadata": {
        "colab": {
          "base_uri": "https://localhost:8080/"
        },
        "id": "7baa7793-1b67-4fd3-9401-b3794d199a7d",
        "outputId": "8c9aab74-e32f-4634-d514-6ac97b137bcd"
      },
      "outputs": [
        {
          "data": {
            "text/plain": [
              "8.464116026960784"
            ]
          },
          "execution_count": 7,
          "metadata": {},
          "output_type": "execute_result"
        }
      ],
      "source": [
        "bias"
      ]
    },
    {
      "cell_type": "code",
      "execution_count": null,
      "id": "c5bc8c56-c255-4bea-a8d8-07cc1f22525c",
      "metadata": {
        "colab": {
          "base_uri": "https://localhost:8080/"
        },
        "id": "c5bc8c56-c255-4bea-a8d8-07cc1f22525c",
        "outputId": "f28a6a4c-edf9-4121-fced-1ec8db221555"
      },
      "outputs": [
        {
          "data": {
            "text/plain": [
              "11.914841325980392"
            ]
          },
          "execution_count": 8,
          "metadata": {},
          "output_type": "execute_result"
        }
      ],
      "source": [
        "variance"
      ]
    },
    {
      "cell_type": "markdown",
      "id": "bdbe74c7-5cda-487f-adbb-8f40d0684b0c",
      "metadata": {
        "id": "bdbe74c7-5cda-487f-adbb-8f40d0684b0c"
      },
      "source": [
        "Как мы обсуждали на предыдущем семинаре, такое дерево окажется сильно переобученным (высокая дисперсия и низкое смещение). Постараемся исправить это. На лекции мы обсуждали, что один из способов борьбы с переобучением – построение композиций моделей. На этом семинаре мы рассмотрим построение композиций при помощи бэггинга."
      ]
    },
    {
      "cell_type": "markdown",
      "id": "59573191-5461-411b-b2ee-939df3b9ad63",
      "metadata": {
        "id": "59573191-5461-411b-b2ee-939df3b9ad63",
        "tags": []
      },
      "source": [
        "#### Бэггинг\n",
        "\n",
        "Вспомним суть алгоритма:\n",
        "\n",
        "1. Обучаем много деревьев на бутстрапированных подвыборках исходной выборки независимо друг от друга. Бутстрапированную подвыборку строим при помощи выбора $N$ (размер исходной выборки) наблюдений из исходной выборки с возвращением.\n",
        "\n",
        "2. Усредняем предсказания всех моделей (например, берём арифметическое среднее).\n",
        "\n",
        "Можно показать, что модель, построенная при помощи бэггинга, будет иметь **то же смещение**, что и у отдельных деревьев, но значительно **меньшую дисперсию** (при выполнении некоторых условий)."
      ]
    },
    {
      "cell_type": "code",
      "execution_count": null,
      "id": "da98778b-c7b6-4ed0-aa1f-f0b93242cd11",
      "metadata": {
        "colab": {
          "base_uri": "https://localhost:8080/"
        },
        "id": "da98778b-c7b6-4ed0-aa1f-f0b93242cd11",
        "outputId": "88a2dcac-334e-419e-b14a-6c893d8b8c79"
      },
      "outputs": [
        {
          "data": {
            "text/plain": [
              "(9.23271628513481, 2.6436741903553926)"
            ]
          },
          "execution_count": 9,
          "metadata": {},
          "output_type": "execute_result"
        }
      ],
      "source": [
        "from sklearn.ensemble import BaggingRegressor, RandomForestRegressor\n",
        "\n",
        "base_tree = DecisionTreeRegressor(random_state=42)\n",
        "\n",
        "bagging = BaggingRegressor(base_tree, n_estimators=20)\n",
        "bagging.fit(X_train, y_train)\n",
        "\n",
        "_, bias, variance = bias_variance_decomp(bagging, X_train, y_train, X_test, y_test, loss='mse')\n",
        "bias, variance\n",
        "# Дисперсия уменьшает вес, беггринг на вес не влияет"
      ]
    },
    {
      "cell_type": "markdown",
      "id": "15a9a286-6e55-4365-a981-b5824a349788",
      "metadata": {
        "id": "15a9a286-6e55-4365-a981-b5824a349788"
      },
      "source": [
        "Как мы видим, по сравнению с единичным деревом смещение практически не изменилось, но дисперсия уменьшилась в несколько раз!\n",
        "\n",
        "Посмотрим, как это отразилось на среднеквадратичной ошибке."
      ]
    },
    {
      "cell_type": "code",
      "execution_count": null,
      "id": "bc75d52f-bb93-412e-a1f1-a4c139af70d0",
      "metadata": {
        "colab": {
          "base_uri": "https://localhost:8080/"
        },
        "id": "bc75d52f-bb93-412e-a1f1-a4c139af70d0",
        "outputId": "665a34e7-c59d-4cb2-c034-a6c4cd862460"
      },
      "outputs": [
        {
          "name": "stdout",
          "output_type": "stream",
          "text": [
            "7.254728960396042 14.12159093137255\n"
          ]
        }
      ],
      "source": [
        "ypred_test = bagging.predict(X_test)\n",
        "ypred_train = bagging.predict(X_train)\n",
        "print(mean_squared_error(y_train, ypred_train), mean_squared_error(y_test, ypred_test))"
      ]
    },
    {
      "cell_type": "markdown",
      "id": "ceaf182b-e62c-4bf9-a56d-ccc299539f40",
      "metadata": {
        "id": "ceaf182b-e62c-4bf9-a56d-ccc299539f40"
      },
      "source": [
        "#### Случайный лес"
      ]
    },
    {
      "cell_type": "markdown",
      "id": "8cb2c66d-9ffc-4426-b7cb-a0fb499a4737",
      "metadata": {
        "id": "8cb2c66d-9ffc-4426-b7cb-a0fb499a4737"
      },
      "source": [
        "При построении каждого дерева в бэггинге в ходе создания очередного узла будем выбирать случайный набор признаков, на основе которых производится разбиение. В результате такой процедуры мы уменьшим корреляцию между деревьями, за счёт чего снизим дисперсию итоговой модели. Такой алгоритм назвывается **случайным лесом** (Random Forest).\n",
        "\n",
        "По сравнению с единичным деревом к параметрам случайного леса добавляются:\n",
        "- `max_features` – число признаков, на основе которых проводятся разбиения при построении дерева.\n",
        "\n",
        "- `n_estimators` – число деревьев.\n",
        "\n",
        "Естественно, все параметры, относящиеся к единичному дереву, сохраняются для случайного леса."
      ]
    },
    {
      "cell_type": "code",
      "execution_count": null,
      "id": "f6790690-1e52-4c43-a743-bd5eeea34a16",
      "metadata": {
        "colab": {
          "base_uri": "https://localhost:8080/"
        },
        "id": "f6790690-1e52-4c43-a743-bd5eeea34a16",
        "outputId": "6acb9251-76e0-44de-c015-0ad316425fda"
      },
      "outputs": [
        {
          "name": "stdout",
          "output_type": "stream",
          "text": [
            "9.624094608670339 2.7309115371629904\n",
            "7.949923205445546 17.51088774509804\n"
          ]
        }
      ],
      "source": [
        "from sklearn.ensemble import RandomForestRegressor\n",
        "\n",
        "rf = RandomForestRegressor(n_estimators=20, random_state=42)\n",
        "\n",
        "_, bias, variance = bias_variance_decomp(rf, X_train, y_train, X_test, y_test, loss = 'mse')\n",
        "print(bias, variance)\n",
        "\n",
        "ypred_test = rf.predict(X_test)\n",
        "ypred_train = rf.predict(X_train)\n",
        "print(mean_squared_error(y_train, ypred_train), mean_squared_error(y_test, ypred_test))\n",
        "# Дисперсия уменьшилась, качество 7.9 улучшилось\n",
        "# out of bag поможет оценить и подобрать деревья"
      ]
    },
    {
      "cell_type": "markdown",
      "id": "6cbc6d92-7e89-4edf-913d-3ded70f2dcf1",
      "metadata": {
        "id": "6cbc6d92-7e89-4edf-913d-3ded70f2dcf1"
      },
      "source": [
        "#### OOB Error"
      ]
    },
    {
      "cell_type": "markdown",
      "id": "91faf2dc-38f6-462f-8318-0a5ab04e613d",
      "metadata": {
        "id": "91faf2dc-38f6-462f-8318-0a5ab04e613d"
      },
      "source": [
        "Как мы обсудили выше, при построении случайного леса каждое дерево строится на бутстрапированной подвыборке, полученной из исходной обучающей выборки случайным набором с повторениями. Понятно, что некоторые наблюдения попадут в такую подвыборку несколько раз, а некоторые не войдут в неё вообще. Для каждого дерева можем рассмотреть объекты, которые не участвовали в обучении и использовать их для валидации.\n",
        "\n",
        "Усреднённая ошибка на неотобранных образцах по всему случайному лесу называется **out-of-bag-ошибкой**."
      ]
    },
    {
      "cell_type": "code",
      "execution_count": null,
      "id": "92e20d73-453f-4e50-ba59-254e3a2fb769",
      "metadata": {
        "colab": {
          "base_uri": "https://localhost:8080/"
        },
        "id": "92e20d73-453f-4e50-ba59-254e3a2fb769",
        "outputId": "3c1ecfe6-50a0-4e41-f30d-9f872d2fbea7"
      },
      "outputs": [
        {
          "data": {
            "text/plain": [
              "0.8760889947613861"
            ]
          },
          "execution_count": 19,
          "metadata": {},
          "output_type": "execute_result"
        }
      ],
      "source": [
        "X, y = boston_housing_data()\n",
        "X_train, X_test, y_train, y_test = train_test_split(X, y,\n",
        "                                                    test_size = 0.3,\n",
        "                                                    random_state = 123,\n",
        "                                                    shuffle = True)\n",
        "\n",
        "X_train, X_test, y_train, y_test = train_test_split(X, y, test_size = 0.3, random_state = 123)\n",
        "\n",
        "# oob_score_ = R2 на не виденных наблюдениях\n",
        "rf = RandomForestRegressor(n_estimators = 100, random_state = 123, oob_score = True, n_jobs=-1)\n",
        "rf.fit(X_train, y_train)\n",
        "rf.oob_score_\n",
        "#"
      ]
    },
    {
      "cell_type": "markdown",
      "id": "c5iuuUVylgpb",
      "metadata": {
        "id": "c5iuuUVylgpb"
      },
      "source": [
        "n_jobs=-1 - параметр, который используется в некоторых алгоритмах машинного обучения для указания количества параллельных задач, которые должны выполняться. Значение -1 указывает на то, что все доступные ядра процессора будут использоваться для выполнения задач параллельно. Это может ускорить процесс обучения модели, особенно при обработке больших данных.\n",
        "\n",
        "oob_score_ - это параметр, который используется в методе \"out-of-bag\" для оценки качества модели случайного леса. Он указывает, следует ли использовать out-of-bag ошибку для вычисления оценки качества модели. Out-of-bag ошибка - это ошибка, которая вычисляется на тех образцах, которые не участвовали в обучении данного дерева решений."
      ]
    },
    {
      "cell_type": "code",
      "execution_count": null,
      "id": "d0d7a7e0-7d73-43ad-a9d1-e04ca2026547",
      "metadata": {
        "colab": {
          "base_uri": "https://localhost:8080/"
        },
        "id": "d0d7a7e0-7d73-43ad-a9d1-e04ca2026547",
        "outputId": "842f3685-bf41-4217-e6b4-1f2ff2b6fe90"
      },
      "outputs": [
        {
          "data": {
            "text/plain": [
              "0.8253137316695912"
            ]
          },
          "execution_count": 13,
          "metadata": {},
          "output_type": "execute_result"
        }
      ],
      "source": [
        "pred = rf.predict(X_test)\n",
        "\n",
        "from sklearn.metrics import r2_score\n",
        "\n",
        "r2_score(y_test, pred)\n",
        "# качество на r2, если тут плохое качество а на oob - хороший, значит модель переобучилась"
      ]
    },
    {
      "cell_type": "markdown",
      "id": "8350c65a-5201-48fe-b736-5b14c59f3d1e",
      "metadata": {
        "id": "8350c65a-5201-48fe-b736-5b14c59f3d1e"
      },
      "source": [
        "# Бустинг"
      ]
    },
    {
      "cell_type": "code",
      "execution_count": null,
      "id": "2a4fb3eb-1b19-454a-ac17-dde6ee3c35ee",
      "metadata": {
        "colab": {
          "base_uri": "https://localhost:8080/"
        },
        "id": "2a4fb3eb-1b19-454a-ac17-dde6ee3c35ee",
        "outputId": "d276045f-c583-4d54-ff9e-07b02cf8d045"
      },
      "outputs": [
        {
          "name": "stdout",
          "output_type": "stream",
          "text": [
            "Requirement already satisfied: xgboost in /usr/local/lib/python3.10/dist-packages (2.0.3)\n",
            "Requirement already satisfied: numpy in /usr/local/lib/python3.10/dist-packages (from xgboost) (1.25.2)\n",
            "Requirement already satisfied: scipy in /usr/local/lib/python3.10/dist-packages (from xgboost) (1.11.4)\n",
            "Collecting catboost\n",
            "  Downloading catboost-1.2.3-cp310-cp310-manylinux2014_x86_64.whl (98.5 MB)\n",
            "\u001b[2K     \u001b[90m━━━━━━━━━━━━━━━━━━━━━━━━━━━━━━━━━━━━━━━━\u001b[0m \u001b[32m98.5/98.5 MB\u001b[0m \u001b[31m2.3 MB/s\u001b[0m eta \u001b[36m0:00:00\u001b[0m\n",
            "\u001b[?25hRequirement already satisfied: graphviz in /usr/local/lib/python3.10/dist-packages (from catboost) (0.20.1)\n",
            "Requirement already satisfied: matplotlib in /usr/local/lib/python3.10/dist-packages (from catboost) (3.7.1)\n",
            "Requirement already satisfied: numpy>=1.16.0 in /usr/local/lib/python3.10/dist-packages (from catboost) (1.25.2)\n",
            "Requirement already satisfied: pandas>=0.24 in /usr/local/lib/python3.10/dist-packages (from catboost) (1.5.3)\n",
            "Requirement already satisfied: scipy in /usr/local/lib/python3.10/dist-packages (from catboost) (1.11.4)\n",
            "Requirement already satisfied: plotly in /usr/local/lib/python3.10/dist-packages (from catboost) (5.15.0)\n",
            "Requirement already satisfied: six in /usr/local/lib/python3.10/dist-packages (from catboost) (1.16.0)\n",
            "Requirement already satisfied: python-dateutil>=2.8.1 in /usr/local/lib/python3.10/dist-packages (from pandas>=0.24->catboost) (2.8.2)\n",
            "Requirement already satisfied: pytz>=2020.1 in /usr/local/lib/python3.10/dist-packages (from pandas>=0.24->catboost) (2023.4)\n",
            "Requirement already satisfied: contourpy>=1.0.1 in /usr/local/lib/python3.10/dist-packages (from matplotlib->catboost) (1.2.0)\n",
            "Requirement already satisfied: cycler>=0.10 in /usr/local/lib/python3.10/dist-packages (from matplotlib->catboost) (0.12.1)\n",
            "Requirement already satisfied: fonttools>=4.22.0 in /usr/local/lib/python3.10/dist-packages (from matplotlib->catboost) (4.49.0)\n",
            "Requirement already satisfied: kiwisolver>=1.0.1 in /usr/local/lib/python3.10/dist-packages (from matplotlib->catboost) (1.4.5)\n",
            "Requirement already satisfied: packaging>=20.0 in /usr/local/lib/python3.10/dist-packages (from matplotlib->catboost) (24.0)\n",
            "Requirement already satisfied: pillow>=6.2.0 in /usr/local/lib/python3.10/dist-packages (from matplotlib->catboost) (9.4.0)\n",
            "Requirement already satisfied: pyparsing>=2.3.1 in /usr/local/lib/python3.10/dist-packages (from matplotlib->catboost) (3.1.2)\n",
            "Requirement already satisfied: tenacity>=6.2.0 in /usr/local/lib/python3.10/dist-packages (from plotly->catboost) (8.2.3)\n",
            "Installing collected packages: catboost\n",
            "Successfully installed catboost-1.2.3\n",
            "Requirement already satisfied: lightgbm in /usr/local/lib/python3.10/dist-packages (4.1.0)\n",
            "Requirement already satisfied: numpy in /usr/local/lib/python3.10/dist-packages (from lightgbm) (1.25.2)\n",
            "Requirement already satisfied: scipy in /usr/local/lib/python3.10/dist-packages (from lightgbm) (1.11.4)\n"
          ]
        }
      ],
      "source": [
        "!pip install xgboost\n",
        "!pip install catboost\n",
        "!pip install lightgbm"
      ]
    },
    {
      "cell_type": "markdown",
      "id": "104f91fa-24f5-48e3-ba19-7a0c2a0afad6",
      "metadata": {
        "id": "104f91fa-24f5-48e3-ba19-7a0c2a0afad6"
      },
      "source": [
        "## <font color='blue'>XGBoost</font> eXtreme Gradient Boosting"
      ]
    },
    {
      "cell_type": "markdown",
      "id": "34014847-f6d3-42b2-979c-74c1b5e5a45b",
      "metadata": {
        "id": "34014847-f6d3-42b2-979c-74c1b5e5a45b"
      },
      "source": [
        "### https://github.com/dmlc/xgboost"
      ]
    },
    {
      "cell_type": "markdown",
      "id": "31172ab7-9f30-4408-a725-e2cd8e8ad573",
      "metadata": {
        "id": "31172ab7-9f30-4408-a725-e2cd8e8ad573"
      },
      "source": [
        "### Пример"
      ]
    },
    {
      "cell_type": "markdown",
      "id": "0ee39cfb-c51a-4e36-b67f-65a471656de2",
      "metadata": {
        "id": "0ee39cfb-c51a-4e36-b67f-65a471656de2"
      },
      "source": [
        "Возьмем датасет Boston Housing и обучим XGBoost на нем."
      ]
    },
    {
      "cell_type": "code",
      "execution_count": null,
      "id": "e687733f-6375-4fb5-9c55-e633f9a0c9be",
      "metadata": {
        "colab": {
          "base_uri": "https://localhost:8080/",
          "height": 35
        },
        "id": "e687733f-6375-4fb5-9c55-e633f9a0c9be",
        "outputId": "381d70ac-02f7-4158-a81b-931442c580c4"
      },
      "outputs": [
        {
          "data": {
            "application/vnd.google.colaboratory.intrinsic+json": {
              "type": "string"
            },
            "text/plain": [
              "'2.0.3'"
            ]
          },
          "execution_count": 15,
          "metadata": {},
          "output_type": "execute_result"
        }
      ],
      "source": [
        "import xgboost as xgb\n",
        "\n",
        "xgb.__version__"
      ]
    },
    {
      "cell_type": "code",
      "execution_count": null,
      "id": "3507d63a-3035-42b3-b75a-bb9ec1dca3d3",
      "metadata": {
        "colab": {
          "base_uri": "https://localhost:8080/"
        },
        "id": "3507d63a-3035-42b3-b75a-bb9ec1dca3d3",
        "outputId": "b288deeb-c385-46e2-d7a7-2e7321e76388"
      },
      "outputs": [
        {
          "name": "stdout",
          "output_type": "stream",
          "text": [
            "--2024-03-14 10:36:33--  https://raw.githubusercontent.com/rsuh-python/mag2022/main/CL/term02/04-ClassificationTrees/Boston.csv\n",
            "Resolving raw.githubusercontent.com (raw.githubusercontent.com)... 185.199.111.133, 185.199.109.133, 185.199.108.133, ...\n",
            "Connecting to raw.githubusercontent.com (raw.githubusercontent.com)|185.199.111.133|:443... connected.\n",
            "HTTP request sent, awaiting response... 200 OK\n",
            "Length: 36137 (35K) [text/plain]\n",
            "Saving to: ‘Boston.csv’\n",
            "\n",
            "Boston.csv          100%[===================>]  35.29K  --.-KB/s    in 0.001s  \n",
            "\n",
            "2024-03-14 10:36:33 (42.9 MB/s) - ‘Boston.csv’ saved [36137/36137]\n",
            "\n"
          ]
        }
      ],
      "source": [
        "!wget https://raw.githubusercontent.com/rsuh-python/mag2022/main/CL/term02/04-ClassificationTrees/Boston.csv"
      ]
    },
    {
      "cell_type": "code",
      "execution_count": null,
      "id": "728427a8-aab1-4eec-a3ff-8a84d6de84a7",
      "metadata": {
        "id": "728427a8-aab1-4eec-a3ff-8a84d6de84a7"
      },
      "outputs": [],
      "source": [
        "from xgboost import XGBClassifier, XGBRegressor\n",
        "import warnings\n",
        "\n",
        "import numpy as np\n",
        "from sklearn.model_selection import KFold\n",
        "from sklearn.metrics import confusion_matrix, mean_squared_error\n",
        "\n",
        "\n",
        "rng = np.random.RandomState(31337)\n",
        "\n",
        "data = pd.read_csv('Boston.csv')\n",
        "X = data.drop('medv', axis=1)\n",
        "y = data.medv\n",
        "\n",
        "kf = KFold(n_splits=2, shuffle=True, random_state=rng) #kFold - кросс-валидация"
      ]
    },
    {
      "cell_type": "markdown",
      "id": "cNkYJu9iqE9l",
      "metadata": {
        "id": "cNkYJu9iqE9l"
      },
      "source": [
        "np.random.RandomState - это класс из библиотеки NumPy, который нужен для генерации случайных чисел с фиксированным seed (зерном). Установка seed позволяет воспроизводить результаты случайных операций.\n",
        "\n",
        "KFold - это метод кросс-валидации, который разбивает набор данных на K равных частей (фолдов) и проводит обучение и тестирование модели K раз, каждый раз используя разные части данных в качестве тестового набора. Это позволяет снизить вероятность переобучения и улучшить оценку качества модели. Кроме того, кросс-валидация позволяет получить более устойчивую и объективную оценку качества модели."
      ]
    },
    {
      "cell_type": "markdown",
      "id": "175665bc-deee-453e-83b2-c6d118b74f9d",
      "metadata": {
        "id": "175665bc-deee-453e-83b2-c6d118b74f9d"
      },
      "source": [
        "XGBoost предлагает 2 способа использования алгоритмов:\n",
        "* sklearn-совместимые классы XGBClassifier, XGBRegressor\n",
        "\n",
        "* \"оригинальная\" python-библиотека"
      ]
    },
    {
      "cell_type": "markdown",
      "id": "5f4ff1df-0ee2-40b6-bfd4-7152941c29fd",
      "metadata": {
        "id": "5f4ff1df-0ee2-40b6-bfd4-7152941c29fd"
      },
      "source": [
        "###  sklearn"
      ]
    },
    {
      "cell_type": "code",
      "execution_count": null,
      "id": "6bcd6361-e503-4b0d-97d1-bbd451184e34",
      "metadata": {
        "colab": {
          "base_uri": "https://localhost:8080/"
        },
        "id": "6bcd6361-e503-4b0d-97d1-bbd451184e34",
        "outputId": "0682dab5-818b-4ad4-870d-6b6fc13b0aaf"
      },
      "outputs": [
        {
          "name": "stdout",
          "output_type": "stream",
          "text": [
            "RMSE on fold 0: 3.5812710660839144\n",
            "RMSE on fold 1: 4.418517453314897\n"
          ]
        }
      ],
      "source": [
        "# Обучение моедли\n",
        "for fold_index, (train_index, test_index) in enumerate(kf.split(X)): # разделил выборку на две части\n",
        "    xgb_model = xgb.XGBRegressor()\n",
        "    xgb_model.fit(X[train_index], y[train_index])\n",
        "    predictions = xgb_model.predict(X[test_index])\n",
        "    actuals = y[test_index]\n",
        "    print(\"RMSE on fold {}: {}\".format(fold_index, np.sqrt(mean_squared_error(actuals, predictions))))"
      ]
    },
    {
      "cell_type": "markdown",
      "id": "68a12fa8-e018-4c8b-9988-9677b4d494bf",
      "metadata": {
        "id": "68a12fa8-e018-4c8b-9988-9677b4d494bf"
      },
      "source": [
        "### xgboost python"
      ]
    },
    {
      "cell_type": "code",
      "execution_count": null,
      "id": "effd4c81-50b7-456f-91af-c9ac18ba18a8",
      "metadata": {
        "colab": {
          "base_uri": "https://localhost:8080/"
        },
        "id": "effd4c81-50b7-456f-91af-c9ac18ba18a8",
        "outputId": "5a4db0f2-737c-47de-afc8-f2a9052bc482"
      },
      "outputs": [
        {
          "name": "stdout",
          "output_type": "stream",
          "text": [
            "RMSE on fold 0: [0]\teval-rmse:3.47391334157689924\n",
            "RMSE on fold 1: [0]\teval-rmse:4.04864032163758303\n"
          ]
        },
        {
          "name": "stderr",
          "output_type": "stream",
          "text": [
            "/usr/local/lib/python3.10/dist-packages/xgboost/core.py:160: UserWarning: [10:46:23] WARNING: /workspace/src/learner.cc:742: \n",
            "Parameters: { \"sketch_eps\" } are not used.\n",
            "\n",
            "  warnings.warn(smsg, UserWarning)\n"
          ]
        }
      ],
      "source": [
        "def get_params():\n",
        "    params = {}\n",
        "    params[\"objective\"] = \"reg:squarederror\"\n",
        "    params[\"booster\"] = \"gbtree\"\n",
        "    params[\"eval_metric\"] = \"rmse\"\n",
        "    params[\"max_depth\"] = 3 # ограничиваю деревья до 3\n",
        "    params[\"tree_method\"] = \"approx\"\n",
        "    params[\"sketch_eps\"] = 1\n",
        "\n",
        "    return params\n",
        "\n",
        "for fold_index, (train_index, test_index) in enumerate(kf.split(X)):\n",
        "\n",
        "    params = get_params()\n",
        "\n",
        "    xgtrain = xgb.DMatrix(X[train_index], label=y[train_index]) #собираю X и y в одну матрицу (X_train, y_train)\n",
        "    xgtest = xgb.DMatrix(X[test_index], label=y[test_index])\n",
        "\n",
        "    bst = xgb.train(params, xgtrain) #аналог fit в sklearn\n",
        "\n",
        "    print(\"RMSE on fold {}: {}\".format(fold_index, bst.eval(xgtest)))\n",
        "# xgboost умеет работать с пропусками, не умеет обрабатывать категориальные признаки"
      ]
    },
    {
      "cell_type": "markdown",
      "id": "c2f98665-d01f-41fc-b7e3-2cd678913e39",
      "metadata": {
        "id": "c2f98665-d01f-41fc-b7e3-2cd678913e39"
      },
      "source": [
        "#### Пропуски в данных"
      ]
    },
    {
      "cell_type": "markdown",
      "id": "99b675a4-954a-458c-b533-f19c98fba622",
      "metadata": {
        "id": "99b675a4-954a-458c-b533-f19c98fba622"
      },
      "source": [
        "XGBoost умеет обрабатывать разреженные матрицы\n",
        "\n",
        "Но категориальные признаки нужно приводить к числовому виду\n",
        "\n",
        "Нужно указать, какое число является \"пропуском\"\n",
        "\n",
        "При сплите, алгоритм смотрит в какую сторону лучше отвести объекты с пропуском."
      ]
    },
    {
      "cell_type": "code",
      "execution_count": null,
      "id": "1fc1e0dd-442f-4d77-8670-2e8ae9702fe8",
      "metadata": {
        "id": "1fc1e0dd-442f-4d77-8670-2e8ae9702fe8"
      },
      "outputs": [],
      "source": [
        "xgtrain_missed = xgb.DMatrix(X[test_index], label=y[test_index], missing=-999.0)"
      ]
    },
    {
      "cell_type": "markdown",
      "id": "grqZUS2Mr3VH",
      "metadata": {
        "id": "grqZUS2Mr3VH"
      },
      "source": [
        "xgb.DMatrix - это класс из библиотеки XGBoost, который представляет данные для обучения модели.\n",
        "\n",
        "В данном случае, xgb.DMatrix используется для создания матрицы данных из тестового набора X[test_index] с соответствующими целевыми значениями y[test_index].\n",
        "\n",
        "Параметр missing=-999.0 указывает на то, что значение -999.0 в данных считается отсутствующим (missed или missing value)."
      ]
    },
    {
      "cell_type": "markdown",
      "id": "a117ad68-3e89-47fc-a89e-89f392353e41",
      "metadata": {
        "id": "a117ad68-3e89-47fc-a89e-89f392353e41"
      },
      "source": [
        "#### Feature importances"
      ]
    },
    {
      "cell_type": "markdown",
      "id": "19f75ac7-5e83-4359-b60f-3998a7141ef8",
      "metadata": {
        "id": "19f75ac7-5e83-4359-b60f-3998a7141ef8"
      },
      "source": [
        "Подсчитывает, сколько раз каждый признак использовался для использовался в вершине дерева при разбиении\n",
        "\n",
        "Это не качество фактора, а его важность"
      ]
    },
    {
      "cell_type": "code",
      "execution_count": null,
      "id": "6f8d0e25-398d-431a-906b-87f00e5a2446",
      "metadata": {
        "colab": {
          "base_uri": "https://localhost:8080/"
        },
        "id": "6f8d0e25-398d-431a-906b-87f00e5a2446",
        "outputId": "d6703eb5-4815-44e0-ccec-d313cbf92da2"
      },
      "outputs": [
        {
          "data": {
            "text/plain": [
              "{'f0': 6.0,\n",
              " 'f1': 1.0,\n",
              " 'f4': 9.0,\n",
              " 'f5': 14.0,\n",
              " 'f6': 1.0,\n",
              " 'f7': 6.0,\n",
              " 'f9': 5.0,\n",
              " 'f10': 4.0,\n",
              " 'f11': 5.0,\n",
              " 'f12': 18.0}"
            ]
          },
          "execution_count": 24,
          "metadata": {},
          "output_type": "execute_result"
        }
      ],
      "source": [
        "bst.get_fscore() # оценка важности признаков"
      ]
    },
    {
      "cell_type": "code",
      "execution_count": null,
      "id": "8aa767df-a5a4-461e-b6bb-ad8a1b321ca5",
      "metadata": {
        "colab": {
          "base_uri": "https://localhost:8080/",
          "height": 507
        },
        "id": "8aa767df-a5a4-461e-b6bb-ad8a1b321ca5",
        "outputId": "0410f604-4fab-4b72-917f-840837a5f413"
      },
      "outputs": [
        {
          "data": {
            "text/plain": [
              "<Axes: title={'center': 'Feature importance'}, xlabel='F score', ylabel='Features'>"
            ]
          },
          "execution_count": 25,
          "metadata": {},
          "output_type": "execute_result"
        },
        {
          "data": {
            "text/plain": [
              "<Figure size 1200x1200 with 0 Axes>"
            ]
          },
          "metadata": {},
          "output_type": "display_data"
        },
        {
          "data": {
            "image/png": "[encoded data removed]",
            "text/plain": [
              "<Figure size 640x480 with 1 Axes>"
            ]
          },
          "metadata": {},
          "output_type": "display_data"
        }
      ],
      "source": [
        "import matplotlib.pyplot as plt\n",
        "%matplotlib inline\n",
        "\n",
        "plt.figure(figsize=(12, 12))\n",
        "xgb.plot_importance(bst) # умеет изображать важности признаков"
      ]
    },
    {
      "cell_type": "markdown",
      "id": "6b02e007-47f7-4705-958b-9e05326b0dee",
      "metadata": {
        "id": "6b02e007-47f7-4705-958b-9e05326b0dee"
      },
      "source": [
        "## LightGBM. Пример решения задачи."
      ]
    },
    {
      "cell_type": "code",
      "execution_count": null,
      "id": "de20a889-c346-49bb-b21b-636a9cc6e075",
      "metadata": {
        "id": "de20a889-c346-49bb-b21b-636a9cc6e075"
      },
      "outputs": [],
      "source": [
        "import numpy as np\n",
        "import pandas as pd\n",
        "import lightgbm as lgb\n",
        "import warnings\n",
        "\n",
        "from sklearn.metrics import mean_squared_error\n",
        "from sklearn.model_selection import GridSearchCV\n",
        "\n",
        "\n",
        "from sklearn.model_selection import train_test_split\n",
        "\n",
        "X_train, X_test, y_train, y_test = train_test_split(X, y, test_size=100,\n",
        "                                        random_state=241)"
      ]
    },
    {
      "cell_type": "markdown",
      "id": "232d9137-8bf0-482f-af53-2c6d5c0ee284",
      "metadata": {
        "id": "232d9137-8bf0-482f-af53-2c6d5c0ee284"
      },
      "source": [
        "Обучение"
      ]
    },
    {
      "cell_type": "code",
      "execution_count": null,
      "id": "c678d508-dfdf-4c9e-a69f-0b2a985477df",
      "metadata": {
        "colab": {
          "base_uri": "https://localhost:8080/",
          "height": 543
        },
        "id": "c678d508-dfdf-4c9e-a69f-0b2a985477df",
        "outputId": "09df919b-4b05-4aa0-f668-c3468b8516c1"
      },
      "outputs": [
        {
          "name": "stdout",
          "output_type": "stream",
          "text": [
            "Starting training...\n",
            "[LightGBM] [Info] Auto-choosing row-wise multi-threading, the overhead of testing was 0.000375 seconds.\n",
            "You can set `force_row_wise=true` to remove the overhead.\n",
            "And if memory is not enough, you can set `force_col_wise=true`.\n",
            "[LightGBM] [Info] Total Bins 1030\n",
            "[LightGBM] [Info] Number of data points in the train set: 406, number of used features: 13\n",
            "[LightGBM] [Info] Start training from score 22.746305\n",
            "[LightGBM] [Warning] No further splits with positive gain, best gain: -inf\n",
            "[LightGBM] [Warning] No further splits with positive gain, best gain: -inf\n",
            "[LightGBM] [Warning] No further splits with positive gain, best gain: -inf\n",
            "[LightGBM] [Warning] No further splits with positive gain, best gain: -inf\n",
            "[LightGBM] [Warning] No further splits with positive gain, best gain: -inf\n",
            "[LightGBM] [Warning] No further splits with positive gain, best gain: -inf\n",
            "[LightGBM] [Warning] No further splits with positive gain, best gain: -inf\n",
            "[LightGBM] [Warning] No further splits with positive gain, best gain: -inf\n",
            "[LightGBM] [Warning] No further splits with positive gain, best gain: -inf\n",
            "[LightGBM] [Warning] No further splits with positive gain, best gain: -inf\n",
            "[LightGBM] [Warning] No further splits with positive gain, best gain: -inf\n",
            "[LightGBM] [Warning] No further splits with positive gain, best gain: -inf\n",
            "[LightGBM] [Warning] No further splits with positive gain, best gain: -inf\n",
            "[LightGBM] [Warning] No further splits with positive gain, best gain: -inf\n",
            "[LightGBM] [Warning] No further splits with positive gain, best gain: -inf\n",
            "[LightGBM] [Warning] No further splits with positive gain, best gain: -inf\n",
            "[LightGBM] [Warning] No further splits with positive gain, best gain: -inf\n",
            "[LightGBM] [Warning] No further splits with positive gain, best gain: -inf\n",
            "[LightGBM] [Warning] No further splits with positive gain, best gain: -inf\n",
            "[LightGBM] [Warning] No further splits with positive gain, best gain: -inf\n"
          ]
        },
        {
          "data": {
            "text/html": [
              "<style>#sk-container-id-1 {color: black;background-color: white;}#sk-container-id-1 pre{padding: 0;}#sk-container-id-1 div.sk-toggleable {background-color: white;}#sk-container-id-1 label.sk-toggleable__label {cursor: pointer;display: block;width: 100%;margin-bottom: 0;padding: 0.3em;box-sizing: border-box;text-align: center;}#sk-container-id-1 label.sk-toggleable__label-arrow:before {content: \"▸\";float: left;margin-right: 0.25em;color: #696969;}#sk-container-id-1 label.sk-toggleable__label-arrow:hover:before {color: black;}#sk-container-id-1 div.sk-estimator:hover label.sk-toggleable__label-arrow:before {color: black;}#sk-container-id-1 div.sk-toggleable__content {max-height: 0;max-width: 0;overflow: hidden;text-align: left;background-color: #f0f8ff;}#sk-container-id-1 div.sk-toggleable__content pre {margin: 0.2em;color: black;border-radius: 0.25em;background-color: #f0f8ff;}#sk-container-id-1 input.sk-toggleable__control:checked~div.sk-toggleable__content {max-height: 200px;max-width: 100%;overflow: auto;}#sk-container-id-1 input.sk-toggleable__control:checked~label.sk-toggleable__label-arrow:before {content: \"▾\";}#sk-container-id-1 div.sk-estimator input.sk-toggleable__control:checked~label.sk-toggleable__label {background-color: #d4ebff;}#sk-container-id-1 div.sk-label input.sk-toggleable__control:checked~label.sk-toggleable__label {background-color: #d4ebff;}#sk-container-id-1 input.sk-hidden--visually {border: 0;clip: rect(1px 1px 1px 1px);clip: rect(1px, 1px, 1px, 1px);height: 1px;margin: -1px;overflow: hidden;padding: 0;position: absolute;width: 1px;}#sk-container-id-1 div.sk-estimator {font-family: monospace;background-color: #f0f8ff;border: 1px dotted black;border-radius: 0.25em;box-sizing: border-box;margin-bottom: 0.5em;}#sk-container-id-1 div.sk-estimator:hover {background-color: #d4ebff;}#sk-container-id-1 div.sk-parallel-item::after {content: \"\";width: 100%;border-bottom: 1px solid gray;flex-grow: 1;}#sk-container-id-1 div.sk-label:hover label.sk-toggleable__label {background-color: #d4ebff;}#sk-container-id-1 div.sk-serial::before {content: \"\";position: absolute;border-left: 1px solid gray;box-sizing: border-box;top: 0;bottom: 0;left: 50%;z-index: 0;}#sk-container-id-1 div.sk-serial {display: flex;flex-direction: column;align-items: center;background-color: white;padding-right: 0.2em;padding-left: 0.2em;position: relative;}#sk-container-id-1 div.sk-item {position: relative;z-index: 1;}#sk-container-id-1 div.sk-parallel {display: flex;align-items: stretch;justify-content: center;background-color: white;position: relative;}#sk-container-id-1 div.sk-item::before, #sk-container-id-1 div.sk-parallel-item::before {content: \"\";position: absolute;border-left: 1px solid gray;box-sizing: border-box;top: 0;bottom: 0;left: 50%;z-index: -1;}#sk-container-id-1 div.sk-parallel-item {display: flex;flex-direction: column;z-index: 1;position: relative;background-color: white;}#sk-container-id-1 div.sk-parallel-item:first-child::after {align-self: flex-end;width: 50%;}#sk-container-id-1 div.sk-parallel-item:last-child::after {align-self: flex-start;width: 50%;}#sk-container-id-1 div.sk-parallel-item:only-child::after {width: 0;}#sk-container-id-1 div.sk-dashed-wrapped {border: 1px dashed gray;margin: 0 0.4em 0.5em 0.4em;box-sizing: border-box;padding-bottom: 0.4em;background-color: white;}#sk-container-id-1 div.sk-label label {font-family: monospace;font-weight: bold;display: inline-block;line-height: 1.2em;}#sk-container-id-1 div.sk-label-container {text-align: center;}#sk-container-id-1 div.sk-container {/* jupyter's `normalize.less` sets `[hidden] { display: none; }` but bootstrap.min.css set `[hidden] { display: none !important; }` so we also need the `!important` here to be able to override the default hidden behavior on the sphinx rendered scikit-learn.org. See: https://github.com/scikit-learn/scikit-learn/issues/21755 */display: inline-block !important;position: relative;}#sk-container-id-1 div.sk-text-repr-fallback {display: none;}</style><div id=\"sk-container-id-1\" class=\"sk-top-container\"><div class=\"sk-text-repr-fallback\"><pre>LGBMRegressor(learning_rate=0.05, n_estimators=20)</pre><b>In a Jupyter environment, please rerun this cell to show the HTML representation or trust the notebook. <br />On GitHub, the HTML representation is unable to render, please try loading this page with nbviewer.org.</b></div><div class=\"sk-container\" hidden><div class=\"sk-item\"><div class=\"sk-estimator sk-toggleable\"><input class=\"sk-toggleable__control sk-hidden--visually\" id=\"sk-estimator-id-1\" type=\"checkbox\" checked><label for=\"sk-estimator-id-1\" class=\"sk-toggleable__label sk-toggleable__label-arrow\">LGBMRegressor</label><div class=\"sk-toggleable__content\"><pre>LGBMRegressor(learning_rate=0.05, n_estimators=20)</pre></div></div></div></div></div>"
            ],
            "text/plain": [
              "LGBMRegressor(learning_rate=0.05, n_estimators=20)"
            ]
          },
          "execution_count": 32,
          "metadata": {},
          "output_type": "execute_result"
        }
      ],
      "source": [
        "print('Starting training...')\n",
        "# train\n",
        "gbm = lgb.LGBMRegressor(num_leaves=31,\n",
        "                        learning_rate=0.05,\n",
        "                        n_estimators=20)\n",
        "gbm.fit(X_train, y_train,\n",
        "        eval_set=[(X_test, y_test)],\n",
        "        eval_metric='l1') # метрика оценки качества\n"
      ]
    },
    {
      "cell_type": "markdown",
      "id": "bec9a01b-3792-4342-abaf-1663126778d2",
      "metadata": {
        "id": "bec9a01b-3792-4342-abaf-1663126778d2"
      },
      "source": [
        "Предсказание и оценка качества"
      ]
    },
    {
      "cell_type": "code",
      "execution_count": null,
      "id": "286aa15b-b495-4c7a-97bd-fd468f76aa14",
      "metadata": {
        "colab": {
          "base_uri": "https://localhost:8080/"
        },
        "id": "286aa15b-b495-4c7a-97bd-fd468f76aa14",
        "outputId": "986c27b1-af3c-4474-9ec3-6648fd6a9e41"
      },
      "outputs": [
        {
          "name": "stdout",
          "output_type": "stream",
          "text": [
            "Starting predicting...\n",
            "The rmse of prediction is: 5.259625962258064\n",
            "Feature importances: [35, 0, 6, 0, 20, 70, 21, 31, 3, 7, 15, 4, 83]\n"
          ]
        }
      ],
      "source": [
        "print('Starting predicting...')\n",
        "\n",
        "y_pred = gbm.predict(X_test, num_iteration=gbm.best_iteration_) # когда предскажем на тесте, потом увидем ошибку\n",
        "\n",
        "print('The rmse of prediction is:', mean_squared_error(y_test, y_pred) ** 0.5)\n",
        "\n",
        "# feature importances\n",
        "print('Feature importances:', list(gbm.feature_importances_))"
      ]
    },
    {
      "cell_type": "markdown",
      "id": "27af7d46-064f-4221-b513-ec5970abab63",
      "metadata": {
        "id": "27af7d46-064f-4221-b513-ec5970abab63"
      },
      "source": [
        "Можно задать любую метрику качества - надо написать свою функцию."
      ]
    },
    {
      "cell_type": "code",
      "execution_count": null,
      "id": "77366ecd-daba-4783-a3bf-effa12098fe1",
      "metadata": {
        "colab": {
          "base_uri": "https://localhost:8080/"
        },
        "id": "77366ecd-daba-4783-a3bf-effa12098fe1",
        "outputId": "84b83550-b0d3-44cb-be16-ee8fe441e265"
      },
      "outputs": [
        {
          "name": "stdout",
          "output_type": "stream",
          "text": [
            "Starting training with custom eval function...\n",
            "[LightGBM] [Info] Auto-choosing row-wise multi-threading, the overhead of testing was 0.000092 seconds.\n",
            "You can set `force_row_wise=true` to remove the overhead.\n",
            "And if memory is not enough, you can set `force_col_wise=true`.\n",
            "[LightGBM] [Info] Total Bins 1030\n",
            "[LightGBM] [Info] Number of data points in the train set: 406, number of used features: 13\n",
            "[LightGBM] [Info] Start training from score 22.746305\n",
            "[LightGBM] [Warning] No further splits with positive gain, best gain: -inf\n",
            "[LightGBM] [Warning] No further splits with positive gain, best gain: -inf\n",
            "[LightGBM] [Warning] No further splits with positive gain, best gain: -inf\n",
            "[LightGBM] [Warning] No further splits with positive gain, best gain: -inf\n",
            "[LightGBM] [Warning] No further splits with positive gain, best gain: -inf\n",
            "[LightGBM] [Warning] No further splits with positive gain, best gain: -inf\n",
            "[LightGBM] [Warning] No further splits with positive gain, best gain: -inf\n",
            "[LightGBM] [Warning] No further splits with positive gain, best gain: -inf\n",
            "[LightGBM] [Warning] No further splits with positive gain, best gain: -inf\n",
            "[LightGBM] [Warning] No further splits with positive gain, best gain: -inf\n",
            "[LightGBM] [Warning] No further splits with positive gain, best gain: -inf\n",
            "[LightGBM] [Warning] No further splits with positive gain, best gain: -inf\n",
            "[LightGBM] [Warning] No further splits with positive gain, best gain: -inf\n",
            "[LightGBM] [Warning] No further splits with positive gain, best gain: -inf\n",
            "[LightGBM] [Warning] No further splits with positive gain, best gain: -inf\n",
            "[LightGBM] [Warning] No further splits with positive gain, best gain: -inf\n",
            "[LightGBM] [Warning] No further splits with positive gain, best gain: -inf\n",
            "[LightGBM] [Warning] No further splits with positive gain, best gain: -inf\n",
            "[LightGBM] [Warning] No further splits with positive gain, best gain: -inf\n",
            "[LightGBM] [Warning] No further splits with positive gain, best gain: -inf\n",
            "Starting predicting...\n",
            "The rmsle of prediction is: 0.23801390867883926\n"
          ]
        }
      ],
      "source": [
        "# self-defined eval metric\n",
        "# f(y_true: array, y_pred: array) -> name: string, eval_result: float, is_higher_better: bool\n",
        "# Root Mean Squared Logarithmic Error (RMSLE)\n",
        "def rmsle(y_true, y_pred):\n",
        "    return 'RMSLE', np.sqrt(np.mean(np.power(np.log1p(y_pred) - np.log1p(y_true), 2))), False\n",
        "\n",
        "\n",
        "print('Starting training with custom eval function...')\n",
        "# train\n",
        "gbm.fit(X_train, y_train,\n",
        "        eval_set=[(X_test, y_test)],\n",
        "        eval_metric=rmsle)\n",
        "\n",
        "print('Starting predicting...')\n",
        "# predict\n",
        "y_pred = gbm.predict(X_test, num_iteration=gbm.best_iteration_)\n",
        "# eval\n",
        "print('The rmsle of prediction is:', rmsle(y_test, y_pred)[1])"
      ]
    },
    {
      "cell_type": "markdown",
      "id": "ea85acb2-df40-4857-a8e2-5d5db03c049a",
      "metadata": {
        "id": "ea85acb2-df40-4857-a8e2-5d5db03c049a"
      },
      "source": [
        "Подбор гиперпараметров."
      ]
    },
    {
      "cell_type": "code",
      "execution_count": null,
      "id": "4a1ecce7-ea72-4a04-8d60-909d676e0c28",
      "metadata": {
        "colab": {
          "base_uri": "https://localhost:8080/"
        },
        "id": "4a1ecce7-ea72-4a04-8d60-909d676e0c28",
        "outputId": "7a4b1457-b87a-4c41-9d93-b653824ff637"
      },
      "outputs": [
        {
          "name": "stdout",
          "output_type": "stream",
          "text": [
            "[LightGBM] [Info] Auto-choosing col-wise multi-threading, the overhead of testing was 0.000085 seconds.\n",
            "You can set `force_col_wise=true` to remove the overhead.\n",
            "[LightGBM] [Info] Total Bins 688\n",
            "[LightGBM] [Info] Number of data points in the train set: 270, number of used features: 12\n",
            "[LightGBM] [Info] Start training from score 22.805926\n",
            "[LightGBM] [Warning] No further splits with positive gain, best gain: -inf\n",
            "[LightGBM] [Warning] No further splits with positive gain, best gain: -inf\n",
            "[LightGBM] [Warning] No further splits with positive gain, best gain: -inf\n",
            "[LightGBM] [Warning] No further splits with positive gain, best gain: -inf\n",
            "[LightGBM] [Warning] No further splits with positive gain, best gain: -inf\n",
            "[LightGBM] [Warning] No further splits with positive gain, best gain: -inf\n",
            "[LightGBM] [Warning] No further splits with positive gain, best gain: -inf\n",
            "[LightGBM] [Warning] No further splits with positive gain, best gain: -inf\n",
            "[LightGBM] [Warning] No further splits with positive gain, best gain: -inf\n",
            "[LightGBM] [Warning] No further splits with positive gain, best gain: -inf\n",
            "[LightGBM] [Warning] No further splits with positive gain, best gain: -inf\n",
            "[LightGBM] [Warning] No further splits with positive gain, best gain: -inf\n",
            "[LightGBM] [Warning] No further splits with positive gain, best gain: -inf\n",
            "[LightGBM] [Warning] No further splits with positive gain, best gain: -inf\n",
            "[LightGBM] [Warning] No further splits with positive gain, best gain: -inf\n",
            "[LightGBM] [Warning] No further splits with positive gain, best gain: -inf\n",
            "[LightGBM] [Warning] No further splits with positive gain, best gain: -inf\n",
            "[LightGBM] [Warning] No further splits with positive gain, best gain: -inf\n",
            "[LightGBM] [Warning] No further splits with positive gain, best gain: -inf\n",
            "[LightGBM] [Warning] No further splits with positive gain, best gain: -inf\n",
            "[LightGBM] [Info] Auto-choosing row-wise multi-threading, the overhead of testing was 0.000050 seconds.\n",
            "You can set `force_row_wise=true` to remove the overhead.\n",
            "And if memory is not enough, you can set `force_col_wise=true`.\n",
            "[LightGBM] [Info] Total Bins 693\n",
            "[LightGBM] [Info] Number of data points in the train set: 271, number of used features: 13\n",
            "[LightGBM] [Info] Start training from score 22.942066\n",
            "[LightGBM] [Warning] No further splits with positive gain, best gain: -inf\n",
            "[LightGBM] [Warning] No further splits with positive gain, best gain: -inf\n",
            "[LightGBM] [Warning] No further splits with positive gain, best gain: -inf\n",
            "[LightGBM] [Warning] No further splits with positive gain, best gain: -inf\n",
            "[LightGBM] [Warning] No further splits with positive gain, best gain: -inf\n",
            "[LightGBM] [Warning] No further splits with positive gain, best gain: -inf\n",
            "[LightGBM] [Warning] No further splits with positive gain, best gain: -inf\n",
            "[LightGBM] [Warning] No further splits with positive gain, best gain: -inf\n",
            "[LightGBM] [Warning] No further splits with positive gain, best gain: -inf\n",
            "[LightGBM] [Warning] No further splits with positive gain, best gain: -inf\n",
            "[LightGBM] [Warning] No further splits with positive gain, best gain: -inf\n",
            "[LightGBM] [Warning] No further splits with positive gain, best gain: -inf\n",
            "[LightGBM] [Warning] No further splits with positive gain, best gain: -inf\n",
            "[LightGBM] [Warning] No further splits with positive gain, best gain: -inf\n",
            "[LightGBM] [Warning] No further splits with positive gain, best gain: -inf\n",
            "[LightGBM] [Warning] No further splits with positive gain, best gain: -inf\n",
            "[LightGBM] [Warning] No further splits with positive gain, best gain: -inf\n",
            "[LightGBM] [Warning] No further splits with positive gain, best gain: -inf\n",
            "[LightGBM] [Warning] No further splits with positive gain, best gain: -inf\n",
            "[LightGBM] [Warning] No further splits with positive gain, best gain: -inf\n",
            "[LightGBM] [Info] Auto-choosing row-wise multi-threading, the overhead of testing was 0.000067 seconds.\n",
            "You can set `force_row_wise=true` to remove the overhead.\n",
            "And if memory is not enough, you can set `force_col_wise=true`.\n",
            "[LightGBM] [Info] Total Bins 681\n",
            "[LightGBM] [Info] Number of data points in the train set: 271, number of used features: 13\n",
            "[LightGBM] [Info] Start training from score 22.491144\n",
            "[LightGBM] [Warning] No further splits with positive gain, best gain: -inf\n",
            "[LightGBM] [Warning] No further splits with positive gain, best gain: -inf\n",
            "[LightGBM] [Warning] No further splits with positive gain, best gain: -inf\n",
            "[LightGBM] [Warning] No further splits with positive gain, best gain: -inf\n",
            "[LightGBM] [Warning] No further splits with positive gain, best gain: -inf\n",
            "[LightGBM] [Warning] No further splits with positive gain, best gain: -inf\n",
            "[LightGBM] [Warning] No further splits with positive gain, best gain: -inf\n",
            "[LightGBM] [Warning] No further splits with positive gain, best gain: -inf\n",
            "[LightGBM] [Warning] No further splits with positive gain, best gain: -inf\n",
            "[LightGBM] [Warning] No further splits with positive gain, best gain: -inf\n",
            "[LightGBM] [Warning] No further splits with positive gain, best gain: -inf\n",
            "[LightGBM] [Warning] No further splits with positive gain, best gain: -inf\n",
            "[LightGBM] [Warning] No further splits with positive gain, best gain: -inf\n",
            "[LightGBM] [Warning] No further splits with positive gain, best gain: -inf\n",
            "[LightGBM] [Warning] No further splits with positive gain, best gain: -inf\n",
            "[LightGBM] [Warning] No further splits with positive gain, best gain: -inf\n",
            "[LightGBM] [Warning] No further splits with positive gain, best gain: -inf\n",
            "[LightGBM] [Warning] No further splits with positive gain, best gain: -inf\n",
            "[LightGBM] [Warning] No further splits with positive gain, best gain: -inf\n",
            "[LightGBM] [Warning] No further splits with positive gain, best gain: -inf\n",
            "[LightGBM] [Info] Auto-choosing col-wise multi-threading, the overhead of testing was 0.000055 seconds.\n",
            "You can set `force_col_wise=true` to remove the overhead.\n",
            "[LightGBM] [Info] Total Bins 688\n",
            "[LightGBM] [Info] Number of data points in the train set: 270, number of used features: 12\n",
            "[LightGBM] [Info] Start training from score 22.805926\n",
            "[LightGBM] [Warning] No further splits with positive gain, best gain: -inf\n",
            "[LightGBM] [Warning] No further splits with positive gain, best gain: -inf\n",
            "[LightGBM] [Warning] No further splits with positive gain, best gain: -inf\n",
            "[LightGBM] [Warning] No further splits with positive gain, best gain: -inf\n",
            "[LightGBM] [Warning] No further splits with positive gain, best gain: -inf\n",
            "[LightGBM] [Warning] No further splits with positive gain, best gain: -inf\n",
            "[LightGBM] [Warning] No further splits with positive gain, best gain: -inf\n",
            "[LightGBM] [Warning] No further splits with positive gain, best gain: -inf\n",
            "[LightGBM] [Warning] No further splits with positive gain, best gain: -inf\n",
            "[LightGBM] [Warning] No further splits with positive gain, best gain: -inf\n",
            "[LightGBM] [Warning] No further splits with positive gain, best gain: -inf\n",
            "[LightGBM] [Warning] No further splits with positive gain, best gain: -inf\n",
            "[LightGBM] [Warning] No further splits with positive gain, best gain: -inf\n",
            "[LightGBM] [Warning] No further splits with positive gain, best gain: -inf\n",
            "[LightGBM] [Warning] No further splits with positive gain, best gain: -inf\n",
            "[LightGBM] [Warning] No further splits with positive gain, best gain: -inf\n",
            "[LightGBM] [Warning] No further splits with positive gain, best gain: -inf\n",
            "[LightGBM] [Warning] No further splits with positive gain, best gain: -inf\n",
            "[LightGBM] [Warning] No further splits with positive gain, best gain: -inf\n",
            "[LightGBM] [Warning] No further splits with positive gain, best gain: -inf\n",
            "[LightGBM] [Warning] No further splits with positive gain, best gain: -inf\n",
            "[LightGBM] [Warning] No further splits with positive gain, best gain: -inf\n",
            "[LightGBM] [Warning] No further splits with positive gain, best gain: -inf\n",
            "[LightGBM] [Warning] No further splits with positive gain, best gain: -inf\n",
            "[LightGBM] [Warning] No further splits with positive gain, best gain: -inf\n",
            "[LightGBM] [Warning] No further splits with positive gain, best gain: -inf\n",
            "[LightGBM] [Warning] No further splits with positive gain, best gain: -inf\n",
            "[LightGBM] [Warning] No further splits with positive gain, best gain: -inf\n",
            "[LightGBM] [Warning] No further splits with positive gain, best gain: -inf\n",
            "[LightGBM] [Warning] No further splits with positive gain, best gain: -inf\n",
            "[LightGBM] [Warning] No further splits with positive gain, best gain: -inf\n",
            "[LightGBM] [Warning] No further splits with positive gain, best gain: -inf\n",
            "[LightGBM] [Warning] No further splits with positive gain, best gain: -inf\n",
            "[LightGBM] [Warning] No further splits with positive gain, best gain: -inf\n",
            "[LightGBM] [Warning] No further splits with positive gain, best gain: -inf\n",
            "[LightGBM] [Warning] No further splits with positive gain, best gain: -inf\n",
            "[LightGBM] [Warning] No further splits with positive gain, best gain: -inf\n",
            "[LightGBM] [Warning] No further splits with positive gain, best gain: -inf\n",
            "[LightGBM] [Warning] No further splits with positive gain, best gain: -inf\n",
            "[LightGBM] [Warning] No further splits with positive gain, best gain: -inf\n",
            "[LightGBM] [Info] Auto-choosing row-wise multi-threading, the overhead of testing was 0.000049 seconds.\n",
            "You can set `force_row_wise=true` to remove the overhead.\n",
            "And if memory is not enough, you can set `force_col_wise=true`.\n",
            "[LightGBM] [Info] Total Bins 693\n",
            "[LightGBM] [Info] Number of data points in the train set: 271, number of used features: 13\n",
            "[LightGBM] [Info] Start training from score 22.942066\n",
            "[LightGBM] [Warning] No further splits with positive gain, best gain: -inf\n",
            "[LightGBM] [Warning] No further splits with positive gain, best gain: -inf\n",
            "[LightGBM] [Warning] No further splits with positive gain, best gain: -inf\n",
            "[LightGBM] [Warning] No further splits with positive gain, best gain: -inf\n",
            "[LightGBM] [Warning] No further splits with positive gain, best gain: -inf\n",
            "[LightGBM] [Warning] No further splits with positive gain, best gain: -inf\n",
            "[LightGBM] [Warning] No further splits with positive gain, best gain: -inf\n",
            "[LightGBM] [Warning] No further splits with positive gain, best gain: -inf\n",
            "[LightGBM] [Warning] No further splits with positive gain, best gain: -inf\n",
            "[LightGBM] [Warning] No further splits with positive gain, best gain: -inf\n",
            "[LightGBM] [Warning] No further splits with positive gain, best gain: -inf\n",
            "[LightGBM] [Warning] No further splits with positive gain, best gain: -inf\n",
            "[LightGBM] [Warning] No further splits with positive gain, best gain: -inf\n",
            "[LightGBM] [Warning] No further splits with positive gain, best gain: -inf\n",
            "[LightGBM] [Warning] No further splits with positive gain, best gain: -inf\n",
            "[LightGBM] [Warning] No further splits with positive gain, best gain: -inf\n",
            "[LightGBM] [Warning] No further splits with positive gain, best gain: -inf\n",
            "[LightGBM] [Warning] No further splits with positive gain, best gain: -inf\n",
            "[LightGBM] [Warning] No further splits with positive gain, best gain: -inf\n",
            "[LightGBM] [Warning] No further splits with positive gain, best gain: -inf\n",
            "[LightGBM] [Warning] No further splits with positive gain, best gain: -inf\n",
            "[LightGBM] [Warning] No further splits with positive gain, best gain: -inf\n",
            "[LightGBM] [Warning] No further splits with positive gain, best gain: -inf\n",
            "[LightGBM] [Warning] No further splits with positive gain, best gain: -inf\n",
            "[LightGBM] [Warning] No further splits with positive gain, best gain: -inf\n",
            "[LightGBM] [Warning] No further splits with positive gain, best gain: -inf\n",
            "[LightGBM] [Warning] No further splits with positive gain, best gain: -inf\n",
            "[LightGBM] [Warning] No further splits with positive gain, best gain: -inf\n",
            "[LightGBM] [Warning] No further splits with positive gain, best gain: -inf\n",
            "[LightGBM] [Warning] No further splits with positive gain, best gain: -inf\n",
            "[LightGBM] [Warning] No further splits with positive gain, best gain: -inf\n",
            "[LightGBM] [Warning] No further splits with positive gain, best gain: -inf\n",
            "[LightGBM] [Warning] No further splits with positive gain, best gain: -inf\n",
            "[LightGBM] [Warning] No further splits with positive gain, best gain: -inf\n",
            "[LightGBM] [Warning] No further splits with positive gain, best gain: -inf\n",
            "[LightGBM] [Warning] No further splits with positive gain, best gain: -inf\n",
            "[LightGBM] [Warning] No further splits with positive gain, best gain: -inf\n",
            "[LightGBM] [Warning] No further splits with positive gain, best gain: -inf\n",
            "[LightGBM] [Warning] No further splits with positive gain, best gain: -inf\n",
            "[LightGBM] [Warning] No further splits with positive gain, best gain: -inf\n",
            "[LightGBM] [Info] Auto-choosing row-wise multi-threading, the overhead of testing was 0.000049 seconds.\n",
            "You can set `force_row_wise=true` to remove the overhead.\n",
            "And if memory is not enough, you can set `force_col_wise=true`.\n",
            "[LightGBM] [Info] Total Bins 681\n",
            "[LightGBM] [Info] Number of data points in the train set: 271, number of used features: 13\n",
            "[LightGBM] [Info] Start training from score 22.491144\n",
            "[LightGBM] [Warning] No further splits with positive gain, best gain: -inf\n",
            "[LightGBM] [Warning] No further splits with positive gain, best gain: -inf\n",
            "[LightGBM] [Warning] No further splits with positive gain, best gain: -inf\n",
            "[LightGBM] [Warning] No further splits with positive gain, best gain: -inf\n",
            "[LightGBM] [Warning] No further splits with positive gain, best gain: -inf\n",
            "[LightGBM] [Warning] No further splits with positive gain, best gain: -inf\n",
            "[LightGBM] [Warning] No further splits with positive gain, best gain: -inf\n",
            "[LightGBM] [Warning] No further splits with positive gain, best gain: -inf\n",
            "[LightGBM] [Warning] No further splits with positive gain, best gain: -inf\n",
            "[LightGBM] [Warning] No further splits with positive gain, best gain: -inf\n",
            "[LightGBM] [Warning] No further splits with positive gain, best gain: -inf\n",
            "[LightGBM] [Warning] No further splits with positive gain, best gain: -inf\n",
            "[LightGBM] [Warning] No further splits with positive gain, best gain: -inf\n",
            "[LightGBM] [Warning] No further splits with positive gain, best gain: -inf\n",
            "[LightGBM] [Warning] No further splits with positive gain, best gain: -inf\n",
            "[LightGBM] [Warning] No further splits with positive gain, best gain: -inf\n",
            "[LightGBM] [Warning] No further splits with positive gain, best gain: -inf\n",
            "[LightGBM] [Warning] No further splits with positive gain, best gain: -inf\n",
            "[LightGBM] [Warning] No further splits with positive gain, best gain: -inf\n",
            "[LightGBM] [Warning] No further splits with positive gain, best gain: -inf\n",
            "[LightGBM] [Warning] No further splits with positive gain, best gain: -inf\n",
            "[LightGBM] [Warning] No further splits with positive gain, best gain: -inf\n",
            "[LightGBM] [Warning] No further splits with positive gain, best gain: -inf\n",
            "[LightGBM] [Warning] No further splits with positive gain, best gain: -inf\n",
            "[LightGBM] [Warning] No further splits with positive gain, best gain: -inf\n",
            "[LightGBM] [Warning] No further splits with positive gain, best gain: -inf\n",
            "[LightGBM] [Warning] No further splits with positive gain, best gain: -inf\n",
            "[LightGBM] [Warning] No further splits with positive gain, best gain: -inf\n",
            "[LightGBM] [Warning] No further splits with positive gain, best gain: -inf\n",
            "[LightGBM] [Warning] No further splits with positive gain, best gain: -inf\n",
            "[LightGBM] [Warning] No further splits with positive gain, best gain: -inf\n",
            "[LightGBM] [Warning] No further splits with positive gain, best gain: -inf\n",
            "[LightGBM] [Warning] No further splits with positive gain, best gain: -inf\n",
            "[LightGBM] [Warning] No further splits with positive gain, best gain: -inf\n",
            "[LightGBM] [Warning] No further splits with positive gain, best gain: -inf\n",
            "[LightGBM] [Warning] No further splits with positive gain, best gain: -inf\n",
            "[LightGBM] [Warning] No further splits with positive gain, best gain: -inf\n",
            "[LightGBM] [Warning] No further splits with positive gain, best gain: -inf\n",
            "[LightGBM] [Warning] No further splits with positive gain, best gain: -inf\n",
            "[LightGBM] [Warning] No further splits with positive gain, best gain: -inf\n",
            "[LightGBM] [Info] Auto-choosing col-wise multi-threading, the overhead of testing was 0.000061 seconds.\n",
            "You can set `force_col_wise=true` to remove the overhead.\n",
            "[LightGBM] [Info] Total Bins 688\n",
            "[LightGBM] [Info] Number of data points in the train set: 270, number of used features: 12\n",
            "[LightGBM] [Info] Start training from score 22.805926\n",
            "[LightGBM] [Warning] No further splits with positive gain, best gain: -inf\n",
            "[LightGBM] [Warning] No further splits with positive gain, best gain: -inf\n",
            "[LightGBM] [Warning] No further splits with positive gain, best gain: -inf\n",
            "[LightGBM] [Warning] No further splits with positive gain, best gain: -inf\n",
            "[LightGBM] [Warning] No further splits with positive gain, best gain: -inf\n",
            "[LightGBM] [Warning] No further splits with positive gain, best gain: -inf\n",
            "[LightGBM] [Warning] No further splits with positive gain, best gain: -inf\n",
            "[LightGBM] [Warning] No further splits with positive gain, best gain: -inf\n",
            "[LightGBM] [Warning] No further splits with positive gain, best gain: -inf\n",
            "[LightGBM] [Warning] No further splits with positive gain, best gain: -inf\n",
            "[LightGBM] [Warning] No further splits with positive gain, best gain: -inf\n",
            "[LightGBM] [Warning] No further splits with positive gain, best gain: -inf\n",
            "[LightGBM] [Warning] No further splits with positive gain, best gain: -inf\n",
            "[LightGBM] [Warning] No further splits with positive gain, best gain: -inf\n",
            "[LightGBM] [Warning] No further splits with positive gain, best gain: -inf\n",
            "[LightGBM] [Warning] No further splits with positive gain, best gain: -inf\n",
            "[LightGBM] [Warning] No further splits with positive gain, best gain: -inf\n",
            "[LightGBM] [Warning] No further splits with positive gain, best gain: -inf\n",
            "[LightGBM] [Warning] No further splits with positive gain, best gain: -inf\n",
            "[LightGBM] [Warning] No further splits with positive gain, best gain: -inf\n",
            "[LightGBM] [Info] Auto-choosing row-wise multi-threading, the overhead of testing was 0.000051 seconds.\n",
            "You can set `force_row_wise=true` to remove the overhead.\n",
            "And if memory is not enough, you can set `force_col_wise=true`.\n",
            "[LightGBM] [Info] Total Bins 693\n",
            "[LightGBM] [Info] Number of data points in the train set: 271, number of used features: 13\n",
            "[LightGBM] [Info] Start training from score 22.942066\n",
            "[LightGBM] [Warning] No further splits with positive gain, best gain: -inf\n",
            "[LightGBM] [Warning] No further splits with positive gain, best gain: -inf\n",
            "[LightGBM] [Warning] No further splits with positive gain, best gain: -inf\n",
            "[LightGBM] [Warning] No further splits with positive gain, best gain: -inf\n",
            "[LightGBM] [Warning] No further splits with positive gain, best gain: -inf\n",
            "[LightGBM] [Warning] No further splits with positive gain, best gain: -inf\n",
            "[LightGBM] [Warning] No further splits with positive gain, best gain: -inf\n",
            "[LightGBM] [Warning] No further splits with positive gain, best gain: -inf\n",
            "[LightGBM] [Warning] No further splits with positive gain, best gain: -inf\n",
            "[LightGBM] [Warning] No further splits with positive gain, best gain: -inf\n",
            "[LightGBM] [Warning] No further splits with positive gain, best gain: -inf\n",
            "[LightGBM] [Warning] No further splits with positive gain, best gain: -inf\n",
            "[LightGBM] [Warning] No further splits with positive gain, best gain: -inf\n",
            "[LightGBM] [Warning] No further splits with positive gain, best gain: -inf\n",
            "[LightGBM] [Warning] No further splits with positive gain, best gain: -inf\n",
            "[LightGBM] [Warning] No further splits with positive gain, best gain: -inf\n",
            "[LightGBM] [Warning] No further splits with positive gain, best gain: -inf\n",
            "[LightGBM] [Warning] No further splits with positive gain, best gain: -inf\n",
            "[LightGBM] [Warning] No further splits with positive gain, best gain: -inf\n",
            "[LightGBM] [Warning] No further splits with positive gain, best gain: -inf\n",
            "[LightGBM] [Info] Auto-choosing row-wise multi-threading, the overhead of testing was 0.000072 seconds.\n",
            "You can set `force_row_wise=true` to remove the overhead.\n",
            "And if memory is not enough, you can set `force_col_wise=true`.\n",
            "[LightGBM] [Info] Total Bins 681\n",
            "[LightGBM] [Info] Number of data points in the train set: 271, number of used features: 13\n",
            "[LightGBM] [Info] Start training from score 22.491144\n",
            "[LightGBM] [Warning] No further splits with positive gain, best gain: -inf\n",
            "[LightGBM] [Warning] No further splits with positive gain, best gain: -inf\n",
            "[LightGBM] [Warning] No further splits with positive gain, best gain: -inf\n",
            "[LightGBM] [Warning] No further splits with positive gain, best gain: -inf\n",
            "[LightGBM] [Warning] No further splits with positive gain, best gain: -inf\n",
            "[LightGBM] [Warning] No further splits with positive gain, best gain: -inf\n",
            "[LightGBM] [Warning] No further splits with positive gain, best gain: -inf\n",
            "[LightGBM] [Warning] No further splits with positive gain, best gain: -inf\n",
            "[LightGBM] [Warning] No further splits with positive gain, best gain: -inf\n",
            "[LightGBM] [Warning] No further splits with positive gain, best gain: -inf\n",
            "[LightGBM] [Warning] No further splits with positive gain, best gain: -inf\n",
            "[LightGBM] [Warning] No further splits with positive gain, best gain: -inf\n",
            "[LightGBM] [Warning] No further splits with positive gain, best gain: -inf\n",
            "[LightGBM] [Warning] No further splits with positive gain, best gain: -inf\n",
            "[LightGBM] [Warning] No further splits with positive gain, best gain: -inf\n",
            "[LightGBM] [Warning] No further splits with positive gain, best gain: -inf\n",
            "[LightGBM] [Warning] No further splits with positive gain, best gain: -inf\n",
            "[LightGBM] [Warning] No further splits with positive gain, best gain: -inf\n",
            "[LightGBM] [Warning] No further splits with positive gain, best gain: -inf\n",
            "[LightGBM] [Warning] No further splits with positive gain, best gain: -inf\n",
            "[LightGBM] [Info] Auto-choosing col-wise multi-threading, the overhead of testing was 0.000054 seconds.\n",
            "You can set `force_col_wise=true` to remove the overhead.\n",
            "[LightGBM] [Info] Total Bins 688\n",
            "[LightGBM] [Info] Number of data points in the train set: 270, number of used features: 12\n",
            "[LightGBM] [Info] Start training from score 22.805926\n",
            "[LightGBM] [Warning] No further splits with positive gain, best gain: -inf\n",
            "[LightGBM] [Warning] No further splits with positive gain, best gain: -inf\n",
            "[LightGBM] [Warning] No further splits with positive gain, best gain: -inf\n",
            "[LightGBM] [Warning] No further splits with positive gain, best gain: -inf\n",
            "[LightGBM] [Warning] No further splits with positive gain, best gain: -inf\n",
            "[LightGBM] [Warning] No further splits with positive gain, best gain: -inf\n",
            "[LightGBM] [Warning] No further splits with positive gain, best gain: -inf\n",
            "[LightGBM] [Warning] No further splits with positive gain, best gain: -inf\n",
            "[LightGBM] [Warning] No further splits with positive gain, best gain: -inf\n",
            "[LightGBM] [Warning] No further splits with positive gain, best gain: -inf\n",
            "[LightGBM] [Warning] No further splits with positive gain, best gain: -inf\n",
            "[LightGBM] [Warning] No further splits with positive gain, best gain: -inf\n",
            "[LightGBM] [Warning] No further splits with positive gain, best gain: -inf\n",
            "[LightGBM] [Warning] No further splits with positive gain, best gain: -inf\n",
            "[LightGBM] [Warning] No further splits with positive gain, best gain: -inf\n",
            "[LightGBM] [Warning] No further splits with positive gain, best gain: -inf\n",
            "[LightGBM] [Warning] No further splits with positive gain, best gain: -inf\n",
            "[LightGBM] [Warning] No further splits with positive gain, best gain: -inf\n",
            "[LightGBM] [Warning] No further splits with positive gain, best gain: -inf\n",
            "[LightGBM] [Warning] No further splits with positive gain, best gain: -inf\n",
            "[LightGBM] [Warning] No further splits with positive gain, best gain: -inf\n",
            "[LightGBM] [Warning] No further splits with positive gain, best gain: -inf\n",
            "[LightGBM] [Warning] No further splits with positive gain, best gain: -inf\n",
            "[LightGBM] [Warning] No further splits with positive gain, best gain: -inf\n",
            "[LightGBM] [Warning] No further splits with positive gain, best gain: -inf\n",
            "[LightGBM] [Warning] No further splits with positive gain, best gain: -inf\n",
            "[LightGBM] [Warning] No further splits with positive gain, best gain: -inf\n",
            "[LightGBM] [Warning] No further splits with positive gain, best gain: -inf\n",
            "[LightGBM] [Warning] No further splits with positive gain, best gain: -inf\n",
            "[LightGBM] [Warning] No further splits with positive gain, best gain: -inf\n",
            "[LightGBM] [Warning] No further splits with positive gain, best gain: -inf\n",
            "[LightGBM] [Warning] No further splits with positive gain, best gain: -inf\n",
            "[LightGBM] [Warning] No further splits with positive gain, best gain: -inf\n",
            "[LightGBM] [Warning] No further splits with positive gain, best gain: -inf\n",
            "[LightGBM] [Warning] No further splits with positive gain, best gain: -inf\n",
            "[LightGBM] [Warning] No further splits with positive gain, best gain: -inf\n",
            "[LightGBM] [Warning] No further splits with positive gain, best gain: -inf\n",
            "[LightGBM] [Warning] No further splits with positive gain, best gain: -inf\n",
            "[LightGBM] [Warning] No further splits with positive gain, best gain: -inf\n",
            "[LightGBM] [Warning] No further splits with positive gain, best gain: -inf\n",
            "[LightGBM] [Info] Auto-choosing row-wise multi-threading, the overhead of testing was 0.000082 seconds.\n",
            "You can set `force_row_wise=true` to remove the overhead.\n",
            "And if memory is not enough, you can set `force_col_wise=true`.\n",
            "[LightGBM] [Info] Total Bins 693\n",
            "[LightGBM] [Info] Number of data points in the train set: 271, number of used features: 13\n",
            "[LightGBM] [Info] Start training from score 22.942066\n",
            "[LightGBM] [Warning] No further splits with positive gain, best gain: -inf\n",
            "[LightGBM] [Warning] No further splits with positive gain, best gain: -inf\n",
            "[LightGBM] [Warning] No further splits with positive gain, best gain: -inf\n",
            "[LightGBM] [Warning] No further splits with positive gain, best gain: -inf\n",
            "[LightGBM] [Warning] No further splits with positive gain, best gain: -inf\n",
            "[LightGBM] [Warning] No further splits with positive gain, best gain: -inf\n",
            "[LightGBM] [Warning] No further splits with positive gain, best gain: -inf\n",
            "[LightGBM] [Warning] No further splits with positive gain, best gain: -inf\n",
            "[LightGBM] [Warning] No further splits with positive gain, best gain: -inf\n",
            "[LightGBM] [Warning] No further splits with positive gain, best gain: -inf\n",
            "[LightGBM] [Warning] No further splits with positive gain, best gain: -inf\n",
            "[LightGBM] [Warning] No further splits with positive gain, best gain: -inf\n",
            "[LightGBM] [Warning] No further splits with positive gain, best gain: -inf\n",
            "[LightGBM] [Warning] No further splits with positive gain, best gain: -inf\n",
            "[LightGBM] [Warning] No further splits with positive gain, best gain: -inf\n",
            "[LightGBM] [Warning] No further splits with positive gain, best gain: -inf\n",
            "[LightGBM] [Warning] No further splits with positive gain, best gain: -inf\n",
            "[LightGBM] [Warning] No further splits with positive gain, best gain: -inf\n",
            "[LightGBM] [Warning] No further splits with positive gain, best gain: -inf\n",
            "[LightGBM] [Warning] No further splits with positive gain, best gain: -inf\n",
            "[LightGBM] [Warning] No further splits with positive gain, best gain: -inf\n",
            "[LightGBM] [Warning] No further splits with positive gain, best gain: -inf\n",
            "[LightGBM] [Warning] No further splits with positive gain, best gain: -inf\n",
            "[LightGBM] [Warning] No further splits with positive gain, best gain: -inf\n",
            "[LightGBM] [Warning] No further splits with positive gain, best gain: -inf\n",
            "[LightGBM] [Warning] No further splits with positive gain, best gain: -inf\n",
            "[LightGBM] [Warning] No further splits with positive gain, best gain: -inf\n",
            "[LightGBM] [Warning] No further splits with positive gain, best gain: -inf\n",
            "[LightGBM] [Warning] No further splits with positive gain, best gain: -inf\n",
            "[LightGBM] [Warning] No further splits with positive gain, best gain: -inf\n",
            "[LightGBM] [Warning] No further splits with positive gain, best gain: -inf\n",
            "[LightGBM] [Warning] No further splits with positive gain, best gain: -inf\n",
            "[LightGBM] [Warning] No further splits with positive gain, best gain: -inf\n",
            "[LightGBM] [Warning] No further splits with positive gain, best gain: -inf\n",
            "[LightGBM] [Warning] No further splits with positive gain, best gain: -inf\n",
            "[LightGBM] [Warning] No further splits with positive gain, best gain: -inf\n",
            "[LightGBM] [Warning] No further splits with positive gain, best gain: -inf\n",
            "[LightGBM] [Warning] No further splits with positive gain, best gain: -inf\n",
            "[LightGBM] [Warning] No further splits with positive gain, best gain: -inf\n",
            "[LightGBM] [Warning] No further splits with positive gain, best gain: -inf\n",
            "[LightGBM] [Info] Auto-choosing row-wise multi-threading, the overhead of testing was 0.000049 seconds.\n",
            "You can set `force_row_wise=true` to remove the overhead.\n",
            "And if memory is not enough, you can set `force_col_wise=true`.\n",
            "[LightGBM] [Info] Total Bins 681\n",
            "[LightGBM] [Info] Number of data points in the train set: 271, number of used features: 13\n",
            "[LightGBM] [Info] Start training from score 22.491144\n",
            "[LightGBM] [Warning] No further splits with positive gain, best gain: -inf\n",
            "[LightGBM] [Warning] No further splits with positive gain, best gain: -inf\n",
            "[LightGBM] [Warning] No further splits with positive gain, best gain: -inf\n",
            "[LightGBM] [Warning] No further splits with positive gain, best gain: -inf\n",
            "[LightGBM] [Warning] No further splits with positive gain, best gain: -inf\n",
            "[LightGBM] [Warning] No further splits with positive gain, best gain: -inf\n",
            "[LightGBM] [Warning] No further splits with positive gain, best gain: -inf\n",
            "[LightGBM] [Warning] No further splits with positive gain, best gain: -inf\n",
            "[LightGBM] [Warning] No further splits with positive gain, best gain: -inf\n",
            "[LightGBM] [Warning] No further splits with positive gain, best gain: -inf\n",
            "[LightGBM] [Warning] No further splits with positive gain, best gain: -inf\n",
            "[LightGBM] [Warning] No further splits with positive gain, best gain: -inf\n",
            "[LightGBM] [Warning] No further splits with positive gain, best gain: -inf\n",
            "[LightGBM] [Warning] No further splits with positive gain, best gain: -inf\n",
            "[LightGBM] [Warning] No further splits with positive gain, best gain: -inf\n",
            "[LightGBM] [Warning] No further splits with positive gain, best gain: -inf\n",
            "[LightGBM] [Warning] No further splits with positive gain, best gain: -inf\n",
            "[LightGBM] [Warning] No further splits with positive gain, best gain: -inf\n",
            "[LightGBM] [Warning] No further splits with positive gain, best gain: -inf\n",
            "[LightGBM] [Warning] No further splits with positive gain, best gain: -inf\n",
            "[LightGBM] [Warning] No further splits with positive gain, best gain: -inf\n",
            "[LightGBM] [Warning] No further splits with positive gain, best gain: -inf\n",
            "[LightGBM] [Warning] No further splits with positive gain, best gain: -inf\n",
            "[LightGBM] [Warning] No further splits with positive gain, best gain: -inf\n",
            "[LightGBM] [Warning] No further splits with positive gain, best gain: -inf\n",
            "[LightGBM] [Warning] No further splits with positive gain, best gain: -inf\n",
            "[LightGBM] [Warning] No further splits with positive gain, best gain: -inf\n",
            "[LightGBM] [Warning] No further splits with positive gain, best gain: -inf\n",
            "[LightGBM] [Warning] No further splits with positive gain, best gain: -inf\n",
            "[LightGBM] [Warning] No further splits with positive gain, best gain: -inf\n",
            "[LightGBM] [Warning] No further splits with positive gain, best gain: -inf\n",
            "[LightGBM] [Warning] No further splits with positive gain, best gain: -inf\n",
            "[LightGBM] [Warning] No further splits with positive gain, best gain: -inf\n",
            "[LightGBM] [Warning] No further splits with positive gain, best gain: -inf\n",
            "[LightGBM] [Warning] No further splits with positive gain, best gain: -inf\n",
            "[LightGBM] [Warning] No further splits with positive gain, best gain: -inf\n",
            "[LightGBM] [Warning] No further splits with positive gain, best gain: -inf\n",
            "[LightGBM] [Warning] No further splits with positive gain, best gain: -inf\n",
            "[LightGBM] [Warning] No further splits with positive gain, best gain: -inf\n",
            "[LightGBM] [Warning] No further splits with positive gain, best gain: -inf\n",
            "[LightGBM] [Info] Auto-choosing col-wise multi-threading, the overhead of testing was 0.000056 seconds.\n",
            "You can set `force_col_wise=true` to remove the overhead.\n",
            "[LightGBM] [Info] Total Bins 688\n",
            "[LightGBM] [Info] Number of data points in the train set: 270, number of used features: 12\n",
            "[LightGBM] [Info] Start training from score 22.805926\n",
            "[LightGBM] [Warning] No further splits with positive gain, best gain: -inf\n",
            "[LightGBM] [Warning] No further splits with positive gain, best gain: -inf\n",
            "[LightGBM] [Warning] No further splits with positive gain, best gain: -inf\n",
            "[LightGBM] [Warning] No further splits with positive gain, best gain: -inf\n",
            "[LightGBM] [Warning] No further splits with positive gain, best gain: -inf\n",
            "[LightGBM] [Warning] No further splits with positive gain, best gain: -inf\n",
            "[LightGBM] [Warning] No further splits with positive gain, best gain: -inf\n",
            "[LightGBM] [Warning] No further splits with positive gain, best gain: -inf\n",
            "[LightGBM] [Warning] No further splits with positive gain, best gain: -inf\n",
            "[LightGBM] [Warning] No further splits with positive gain, best gain: -inf\n",
            "[LightGBM] [Warning] No further splits with positive gain, best gain: -inf\n",
            "[LightGBM] [Warning] No further splits with positive gain, best gain: -inf\n",
            "[LightGBM] [Warning] No further splits with positive gain, best gain: -inf\n",
            "[LightGBM] [Warning] No further splits with positive gain, best gain: -inf\n",
            "[LightGBM] [Warning] No further splits with positive gain, best gain: -inf\n",
            "[LightGBM] [Warning] No further splits with positive gain, best gain: -inf\n",
            "[LightGBM] [Warning] No further splits with positive gain, best gain: -inf\n",
            "[LightGBM] [Warning] No further splits with positive gain, best gain: -inf\n",
            "[LightGBM] [Warning] No further splits with positive gain, best gain: -inf\n",
            "[LightGBM] [Warning] No further splits with positive gain, best gain: -inf\n",
            "[LightGBM] [Info] Auto-choosing row-wise multi-threading, the overhead of testing was 0.000050 seconds.\n",
            "You can set `force_row_wise=true` to remove the overhead.\n",
            "And if memory is not enough, you can set `force_col_wise=true`.\n",
            "[LightGBM] [Info] Total Bins 693\n",
            "[LightGBM] [Info] Number of data points in the train set: 271, number of used features: 13\n",
            "[LightGBM] [Info] Start training from score 22.942066\n",
            "[LightGBM] [Warning] No further splits with positive gain, best gain: -inf\n",
            "[LightGBM] [Warning] No further splits with positive gain, best gain: -inf\n",
            "[LightGBM] [Warning] No further splits with positive gain, best gain: -inf\n",
            "[LightGBM] [Warning] No further splits with positive gain, best gain: -inf\n",
            "[LightGBM] [Warning] No further splits with positive gain, best gain: -inf\n",
            "[LightGBM] [Warning] No further splits with positive gain, best gain: -inf\n",
            "[LightGBM] [Warning] No further splits with positive gain, best gain: -inf\n",
            "[LightGBM] [Warning] No further splits with positive gain, best gain: -inf\n",
            "[LightGBM] [Warning] No further splits with positive gain, best gain: -inf\n",
            "[LightGBM] [Warning] No further splits with positive gain, best gain: -inf\n",
            "[LightGBM] [Warning] No further splits with positive gain, best gain: -inf\n",
            "[LightGBM] [Warning] No further splits with positive gain, best gain: -inf\n",
            "[LightGBM] [Warning] No further splits with positive gain, best gain: -inf\n",
            "[LightGBM] [Warning] No further splits with positive gain, best gain: -inf\n",
            "[LightGBM] [Warning] No further splits with positive gain, best gain: -inf\n",
            "[LightGBM] [Warning] No further splits with positive gain, best gain: -inf\n",
            "[LightGBM] [Warning] No further splits with positive gain, best gain: -inf\n",
            "[LightGBM] [Warning] No further splits with positive gain, best gain: -inf\n",
            "[LightGBM] [Warning] No further splits with positive gain, best gain: -inf\n",
            "[LightGBM] [Warning] No further splits with positive gain, best gain: -inf\n",
            "[LightGBM] [Info] Auto-choosing row-wise multi-threading, the overhead of testing was 0.000053 seconds.\n",
            "You can set `force_row_wise=true` to remove the overhead.\n",
            "And if memory is not enough, you can set `force_col_wise=true`.\n",
            "[LightGBM] [Info] Total Bins 681\n",
            "[LightGBM] [Info] Number of data points in the train set: 271, number of used features: 13\n",
            "[LightGBM] [Info] Start training from score 22.491144\n",
            "[LightGBM] [Warning] No further splits with positive gain, best gain: -inf\n",
            "[LightGBM] [Warning] No further splits with positive gain, best gain: -inf\n",
            "[LightGBM] [Warning] No further splits with positive gain, best gain: -inf\n",
            "[LightGBM] [Warning] No further splits with positive gain, best gain: -inf\n",
            "[LightGBM] [Warning] No further splits with positive gain, best gain: -inf\n",
            "[LightGBM] [Warning] No further splits with positive gain, best gain: -inf\n",
            "[LightGBM] [Warning] No further splits with positive gain, best gain: -inf\n",
            "[LightGBM] [Warning] No further splits with positive gain, best gain: -inf\n",
            "[LightGBM] [Warning] No further splits with positive gain, best gain: -inf\n",
            "[LightGBM] [Warning] No further splits with positive gain, best gain: -inf\n",
            "[LightGBM] [Warning] No further splits with positive gain, best gain: -inf\n",
            "[LightGBM] [Warning] No further splits with positive gain, best gain: -inf\n",
            "[LightGBM] [Warning] No further splits with positive gain, best gain: -inf\n",
            "[LightGBM] [Warning] No further splits with positive gain, best gain: -inf\n",
            "[LightGBM] [Warning] No further splits with positive gain, best gain: -inf\n",
            "[LightGBM] [Warning] No further splits with positive gain, best gain: -inf\n",
            "[LightGBM] [Warning] No further splits with positive gain, best gain: -inf\n",
            "[LightGBM] [Warning] No further splits with positive gain, best gain: -inf\n",
            "[LightGBM] [Warning] No further splits with positive gain, best gain: -inf\n",
            "[LightGBM] [Warning] No further splits with positive gain, best gain: -inf\n",
            "[LightGBM] [Info] Auto-choosing col-wise multi-threading, the overhead of testing was 0.000054 seconds.\n",
            "You can set `force_col_wise=true` to remove the overhead.\n",
            "[LightGBM] [Info] Total Bins 688\n",
            "[LightGBM] [Info] Number of data points in the train set: 270, number of used features: 12\n",
            "[LightGBM] [Info] Start training from score 22.805926\n",
            "[LightGBM] [Warning] No further splits with positive gain, best gain: -inf\n",
            "[LightGBM] [Warning] No further splits with positive gain, best gain: -inf\n",
            "[LightGBM] [Warning] No further splits with positive gain, best gain: -inf\n",
            "[LightGBM] [Warning] No further splits with positive gain, best gain: -inf\n",
            "[LightGBM] [Warning] No further splits with positive gain, best gain: -inf\n",
            "[LightGBM] [Warning] No further splits with positive gain, best gain: -inf\n",
            "[LightGBM] [Warning] No further splits with positive gain, best gain: -inf\n",
            "[LightGBM] [Warning] No further splits with positive gain, best gain: -inf\n",
            "[LightGBM] [Warning] No further splits with positive gain, best gain: -inf\n",
            "[LightGBM] [Warning] No further splits with positive gain, best gain: -inf\n",
            "[LightGBM] [Warning] No further splits with positive gain, best gain: -inf\n",
            "[LightGBM] [Warning] No further splits with positive gain, best gain: -inf\n",
            "[LightGBM] [Warning] No further splits with positive gain, best gain: -inf\n",
            "[LightGBM] [Warning] No further splits with positive gain, best gain: -inf\n",
            "[LightGBM] [Warning] No further splits with positive gain, best gain: -inf\n",
            "[LightGBM] [Warning] No further splits with positive gain, best gain: -inf\n",
            "[LightGBM] [Warning] No further splits with positive gain, best gain: -inf\n",
            "[LightGBM] [Warning] No further splits with positive gain, best gain: -inf\n",
            "[LightGBM] [Warning] No further splits with positive gain, best gain: -inf\n",
            "[LightGBM] [Warning] No further splits with positive gain, best gain: -inf\n",
            "[LightGBM] [Warning] No further splits with positive gain, best gain: -inf\n",
            "[LightGBM] [Warning] No further splits with positive gain, best gain: -inf\n",
            "[LightGBM] [Warning] No further splits with positive gain, best gain: -inf\n",
            "[LightGBM] [Warning] No further splits with positive gain, best gain: -inf\n",
            "[LightGBM] [Warning] No further splits with positive gain, best gain: -inf\n",
            "[LightGBM] [Warning] No further splits with positive gain, best gain: -inf\n",
            "[LightGBM] [Warning] No further splits with positive gain, best gain: -inf\n",
            "[LightGBM] [Warning] No further splits with positive gain, best gain: -inf\n",
            "[LightGBM] [Warning] No further splits with positive gain, best gain: -inf\n",
            "[LightGBM] [Warning] No further splits with positive gain, best gain: -inf\n",
            "[LightGBM] [Warning] No further splits with positive gain, best gain: -inf\n",
            "[LightGBM] [Warning] No further splits with positive gain, best gain: -inf\n",
            "[LightGBM] [Warning] No further splits with positive gain, best gain: -inf\n",
            "[LightGBM] [Warning] No further splits with positive gain, best gain: -inf\n",
            "[LightGBM] [Warning] No further splits with positive gain, best gain: -inf\n",
            "[LightGBM] [Warning] No further splits with positive gain, best gain: -inf\n",
            "[LightGBM] [Warning] No further splits with positive gain, best gain: -inf\n",
            "[LightGBM] [Warning] No further splits with positive gain, best gain: -inf\n",
            "[LightGBM] [Warning] No further splits with positive gain, best gain: -inf\n",
            "[LightGBM] [Warning] No further splits with positive gain, best gain: -inf\n",
            "[LightGBM] [Info] Auto-choosing row-wise multi-threading, the overhead of testing was 0.000052 seconds.\n",
            "You can set `force_row_wise=true` to remove the overhead.\n",
            "And if memory is not enough, you can set `force_col_wise=true`.\n",
            "[LightGBM] [Info] Total Bins 693\n",
            "[LightGBM] [Info] Number of data points in the train set: 271, number of used features: 13\n",
            "[LightGBM] [Info] Start training from score 22.942066\n",
            "[LightGBM] [Warning] No further splits with positive gain, best gain: -inf\n",
            "[LightGBM] [Warning] No further splits with positive gain, best gain: -inf\n",
            "[LightGBM] [Warning] No further splits with positive gain, best gain: -inf\n",
            "[LightGBM] [Warning] No further splits with positive gain, best gain: -inf\n",
            "[LightGBM] [Warning] No further splits with positive gain, best gain: -inf\n",
            "[LightGBM] [Warning] No further splits with positive gain, best gain: -inf\n",
            "[LightGBM] [Warning] No further splits with positive gain, best gain: -inf\n",
            "[LightGBM] [Warning] No further splits with positive gain, best gain: -inf\n",
            "[LightGBM] [Warning] No further splits with positive gain, best gain: -inf\n",
            "[LightGBM] [Warning] No further splits with positive gain, best gain: -inf\n",
            "[LightGBM] [Warning] No further splits with positive gain, best gain: -inf\n",
            "[LightGBM] [Warning] No further splits with positive gain, best gain: -inf\n",
            "[LightGBM] [Warning] No further splits with positive gain, best gain: -inf\n",
            "[LightGBM] [Warning] No further splits with positive gain, best gain: -inf\n",
            "[LightGBM] [Warning] No further splits with positive gain, best gain: -inf\n",
            "[LightGBM] [Warning] No further splits with positive gain, best gain: -inf\n",
            "[LightGBM] [Warning] No further splits with positive gain, best gain: -inf\n",
            "[LightGBM] [Warning] No further splits with positive gain, best gain: -inf\n",
            "[LightGBM] [Warning] No further splits with positive gain, best gain: -inf\n",
            "[LightGBM] [Warning] No further splits with positive gain, best gain: -inf\n",
            "[LightGBM] [Warning] No further splits with positive gain, best gain: -inf\n",
            "[LightGBM] [Warning] No further splits with positive gain, best gain: -inf\n",
            "[LightGBM] [Warning] No further splits with positive gain, best gain: -inf\n",
            "[LightGBM] [Warning] No further splits with positive gain, best gain: -inf\n",
            "[LightGBM] [Warning] No further splits with positive gain, best gain: -inf\n",
            "[LightGBM] [Warning] No further splits with positive gain, best gain: -inf\n",
            "[LightGBM] [Warning] No further splits with positive gain, best gain: -inf\n",
            "[LightGBM] [Warning] No further splits with positive gain, best gain: -inf\n",
            "[LightGBM] [Warning] No further splits with positive gain, best gain: -inf\n",
            "[LightGBM] [Warning] No further splits with positive gain, best gain: -inf\n",
            "[LightGBM] [Warning] No further splits with positive gain, best gain: -inf\n",
            "[LightGBM] [Warning] No further splits with positive gain, best gain: -inf\n",
            "[LightGBM] [Warning] No further splits with positive gain, best gain: -inf\n",
            "[LightGBM] [Warning] No further splits with positive gain, best gain: -inf\n",
            "[LightGBM] [Warning] No further splits with positive gain, best gain: -inf\n",
            "[LightGBM] [Warning] No further splits with positive gain, best gain: -inf\n",
            "[LightGBM] [Warning] No further splits with positive gain, best gain: -inf\n",
            "[LightGBM] [Warning] No further splits with positive gain, best gain: -inf\n",
            "[LightGBM] [Warning] No further splits with positive gain, best gain: -inf\n",
            "[LightGBM] [Warning] No further splits with positive gain, best gain: -inf\n",
            "[LightGBM] [Info] Auto-choosing row-wise multi-threading, the overhead of testing was 0.000050 seconds.\n",
            "You can set `force_row_wise=true` to remove the overhead.\n",
            "And if memory is not enough, you can set `force_col_wise=true`.\n",
            "[LightGBM] [Info] Total Bins 681\n",
            "[LightGBM] [Info] Number of data points in the train set: 271, number of used features: 13\n",
            "[LightGBM] [Info] Start training from score 22.491144\n",
            "[LightGBM] [Warning] No further splits with positive gain, best gain: -inf\n",
            "[LightGBM] [Warning] No further splits with positive gain, best gain: -inf\n",
            "[LightGBM] [Warning] No further splits with positive gain, best gain: -inf\n",
            "[LightGBM] [Warning] No further splits with positive gain, best gain: -inf\n",
            "[LightGBM] [Warning] No further splits with positive gain, best gain: -inf\n",
            "[LightGBM] [Warning] No further splits with positive gain, best gain: -inf\n",
            "[LightGBM] [Warning] No further splits with positive gain, best gain: -inf\n",
            "[LightGBM] [Warning] No further splits with positive gain, best gain: -inf\n",
            "[LightGBM] [Warning] No further splits with positive gain, best gain: -inf\n",
            "[LightGBM] [Warning] No further splits with positive gain, best gain: -inf\n",
            "[LightGBM] [Warning] No further splits with positive gain, best gain: -inf\n",
            "[LightGBM] [Warning] No further splits with positive gain, best gain: -inf\n",
            "[LightGBM] [Warning] No further splits with positive gain, best gain: -inf\n",
            "[LightGBM] [Warning] No further splits with positive gain, best gain: -inf\n",
            "[LightGBM] [Warning] No further splits with positive gain, best gain: -inf\n",
            "[LightGBM] [Warning] No further splits with positive gain, best gain: -inf\n",
            "[LightGBM] [Warning] No further splits with positive gain, best gain: -inf\n",
            "[LightGBM] [Warning] No further splits with positive gain, best gain: -inf\n",
            "[LightGBM] [Warning] No further splits with positive gain, best gain: -inf\n",
            "[LightGBM] [Warning] No further splits with positive gain, best gain: -inf\n",
            "[LightGBM] [Warning] No further splits with positive gain, best gain: -inf\n",
            "[LightGBM] [Warning] No further splits with positive gain, best gain: -inf\n",
            "[LightGBM] [Warning] No further splits with positive gain, best gain: -inf\n",
            "[LightGBM] [Warning] No further splits with positive gain, best gain: -inf\n",
            "[LightGBM] [Warning] No further splits with positive gain, best gain: -inf\n",
            "[LightGBM] [Warning] No further splits with positive gain, best gain: -inf\n",
            "[LightGBM] [Warning] No further splits with positive gain, best gain: -inf\n",
            "[LightGBM] [Warning] No further splits with positive gain, best gain: -inf\n",
            "[LightGBM] [Warning] No further splits with positive gain, best gain: -inf\n",
            "[LightGBM] [Warning] No further splits with positive gain, best gain: -inf\n",
            "[LightGBM] [Warning] No further splits with positive gain, best gain: -inf\n",
            "[LightGBM] [Warning] No further splits with positive gain, best gain: -inf\n",
            "[LightGBM] [Warning] No further splits with positive gain, best gain: -inf\n",
            "[LightGBM] [Warning] No further splits with positive gain, best gain: -inf\n",
            "[LightGBM] [Warning] No further splits with positive gain, best gain: -inf\n",
            "[LightGBM] [Warning] No further splits with positive gain, best gain: -inf\n",
            "[LightGBM] [Warning] No further splits with positive gain, best gain: -inf\n",
            "[LightGBM] [Warning] No further splits with positive gain, best gain: -inf\n",
            "[LightGBM] [Warning] No further splits with positive gain, best gain: -inf\n",
            "[LightGBM] [Warning] No further splits with positive gain, best gain: -inf\n",
            "[LightGBM] [Info] Auto-choosing row-wise multi-threading, the overhead of testing was 0.000063 seconds.\n",
            "You can set `force_row_wise=true` to remove the overhead.\n",
            "And if memory is not enough, you can set `force_col_wise=true`.\n",
            "[LightGBM] [Info] Total Bins 1030\n",
            "[LightGBM] [Info] Number of data points in the train set: 406, number of used features: 13\n",
            "[LightGBM] [Info] Start training from score 22.746305\n",
            "[LightGBM] [Warning] No further splits with positive gain, best gain: -inf\n",
            "[LightGBM] [Warning] No further splits with positive gain, best gain: -inf\n",
            "[LightGBM] [Warning] No further splits with positive gain, best gain: -inf\n",
            "[LightGBM] [Warning] No further splits with positive gain, best gain: -inf\n",
            "[LightGBM] [Warning] No further splits with positive gain, best gain: -inf\n",
            "[LightGBM] [Warning] No further splits with positive gain, best gain: -inf\n",
            "[LightGBM] [Warning] No further splits with positive gain, best gain: -inf\n",
            "[LightGBM] [Warning] No further splits with positive gain, best gain: -inf\n",
            "[LightGBM] [Warning] No further splits with positive gain, best gain: -inf\n",
            "[LightGBM] [Warning] No further splits with positive gain, best gain: -inf\n",
            "[LightGBM] [Warning] No further splits with positive gain, best gain: -inf\n",
            "[LightGBM] [Warning] No further splits with positive gain, best gain: -inf\n",
            "[LightGBM] [Warning] No further splits with positive gain, best gain: -inf\n",
            "[LightGBM] [Warning] No further splits with positive gain, best gain: -inf\n",
            "[LightGBM] [Warning] No further splits with positive gain, best gain: -inf\n",
            "[LightGBM] [Warning] No further splits with positive gain, best gain: -inf\n",
            "[LightGBM] [Warning] No further splits with positive gain, best gain: -inf\n",
            "[LightGBM] [Warning] No further splits with positive gain, best gain: -inf\n",
            "[LightGBM] [Warning] No further splits with positive gain, best gain: -inf\n",
            "[LightGBM] [Warning] No further splits with positive gain, best gain: -inf\n",
            "[LightGBM] [Warning] No further splits with positive gain, best gain: -inf\n",
            "[LightGBM] [Warning] No further splits with positive gain, best gain: -inf\n",
            "[LightGBM] [Warning] No further splits with positive gain, best gain: -inf\n",
            "[LightGBM] [Warning] No further splits with positive gain, best gain: -inf\n",
            "[LightGBM] [Warning] No further splits with positive gain, best gain: -inf\n",
            "[LightGBM] [Warning] No further splits with positive gain, best gain: -inf\n",
            "[LightGBM] [Warning] No further splits with positive gain, best gain: -inf\n",
            "[LightGBM] [Warning] No further splits with positive gain, best gain: -inf\n",
            "[LightGBM] [Warning] No further splits with positive gain, best gain: -inf\n",
            "[LightGBM] [Warning] No further splits with positive gain, best gain: -inf\n",
            "[LightGBM] [Warning] No further splits with positive gain, best gain: -inf\n",
            "[LightGBM] [Warning] No further splits with positive gain, best gain: -inf\n",
            "[LightGBM] [Warning] No further splits with positive gain, best gain: -inf\n",
            "[LightGBM] [Warning] No further splits with positive gain, best gain: -inf\n",
            "[LightGBM] [Warning] No further splits with positive gain, best gain: -inf\n",
            "[LightGBM] [Warning] No further splits with positive gain, best gain: -inf\n",
            "[LightGBM] [Warning] No further splits with positive gain, best gain: -inf\n",
            "[LightGBM] [Warning] No further splits with positive gain, best gain: -inf\n",
            "[LightGBM] [Warning] No further splits with positive gain, best gain: -inf\n",
            "[LightGBM] [Warning] No further splits with positive gain, best gain: -inf\n",
            "Best parameters found by grid search are: {'learning_rate': 0.1, 'n_estimators': 40}\n"
          ]
        }
      ],
      "source": [
        "# other scikit-learn modules\n",
        "estimator = lgb.LGBMRegressor(num_leaves=31)\n",
        "\n",
        "param_grid = {\n",
        "    'learning_rate': [0.01, 0.1, 1],\n",
        "    'n_estimators': [20, 40]\n",
        "}\n",
        "\n",
        "gbm = GridSearchCV(estimator, param_grid, cv=3)\n",
        "gbm.fit(X_train, y_train)\n",
        "\n",
        "print('Best parameters found by grid search are:', gbm.best_params_)"
      ]
    },
    {
      "cell_type": "markdown",
      "id": "937b0586-8cac-4c3b-a60a-77ae49ee94d8",
      "metadata": {
        "id": "937b0586-8cac-4c3b-a60a-77ae49ee94d8"
      },
      "source": [
        "Предсказание и оценка качества"
      ]
    },
    {
      "cell_type": "code",
      "execution_count": null,
      "id": "f7fdff37-72c1-4504-bfec-a339b313c1c1",
      "metadata": {
        "id": "f7fdff37-72c1-4504-bfec-a339b313c1c1"
      },
      "outputs": [],
      "source": [
        "pred = gbm.predict(X_test)"
      ]
    },
    {
      "cell_type": "code",
      "execution_count": null,
      "id": "522ef118-0743-4373-8cb3-497bc0290d1a",
      "metadata": {
        "colab": {
          "base_uri": "https://localhost:8080/"
        },
        "id": "522ef118-0743-4373-8cb3-497bc0290d1a",
        "outputId": "5ee48202-af91-45b3-ce1b-cd1c3730a34d"
      },
      "outputs": [
        {
          "data": {
            "text/plain": [
              "12.703535974721541"
            ]
          },
          "execution_count": 38,
          "metadata": {},
          "output_type": "execute_result"
        }
      ],
      "source": [
        "from sklearn.metrics import mean_squared_error\n",
        "mean_squared_error(y_test, pred)"
      ]
    },
    {
      "cell_type": "markdown",
      "id": "069e5c2d-4453-421b-b814-01b0abc0be25",
      "metadata": {
        "id": "069e5c2d-4453-421b-b814-01b0abc0be25"
      },
      "source": [
        "## CatBoost"
      ]
    },
    {
      "cell_type": "code",
      "execution_count": null,
      "id": "5e51a9b7-c855-41a7-882d-06f66506c8d4",
      "metadata": {
        "colab": {
          "base_uri": "https://localhost:8080/"
        },
        "id": "5e51a9b7-c855-41a7-882d-06f66506c8d4",
        "outputId": "1f6e1fce-d72d-4e3d-b255-0e519c3f36c6"
      },
      "outputs": [
        {
          "name": "stdout",
          "output_type": "stream",
          "text": [
            "1.2.3\n"
          ]
        }
      ],
      "source": [
        "import catboost\n",
        "print(catboost.__version__)"
      ]
    },
    {
      "cell_type": "markdown",
      "id": "afc37b89-e781-4fed-be45-1f5164115f9b",
      "metadata": {
        "id": "afc37b89-e781-4fed-be45-1f5164115f9b"
      },
      "source": [
        "Считываем данные"
      ]
    },
    {
      "cell_type": "code",
      "execution_count": null,
      "id": "0c510b8b-8bf9-42f1-af84-da86ed081baa",
      "metadata": {
        "id": "0c510b8b-8bf9-42f1-af84-da86ed081baa"
      },
      "outputs": [],
      "source": [
        "import pandas as pd\n",
        "import os\n",
        "import numpy as np\n",
        "np.set_printoptions(precision=4)\n",
        "import catboost\n",
        "from catboost import *\n",
        "from catboost import datasets # у него есть свой собственный датасет"
      ]
    },
    {
      "cell_type": "markdown",
      "id": "6fe20e4c-0ba4-406a-ac62-a64e46d36022",
      "metadata": {
        "id": "6fe20e4c-0ba4-406a-ac62-a64e46d36022"
      },
      "source": [
        "https://www.kaggle.com/c/amazon-employee-access-challenge/data"
      ]
    },
    {
      "cell_type": "code",
      "execution_count": null,
      "id": "6c1c8519-e963-4379-a4eb-af0badd9b25b",
      "metadata": {
        "id": "6c1c8519-e963-4379-a4eb-af0badd9b25b"
      },
      "outputs": [],
      "source": [
        "(train_df, test_df) = catboost.datasets.amazon()"
      ]
    },
    {
      "cell_type": "code",
      "execution_count": null,
      "id": "133f61e3-4daa-4033-a3be-2844e501e63a",
      "metadata": {
        "colab": {
          "base_uri": "https://localhost:8080/",
          "height": 206
        },
        "id": "133f61e3-4daa-4033-a3be-2844e501e63a",
        "outputId": "6e77d25d-e31d-4d47-82ef-f7b8ce2f9301"
      },
      "outputs": [
        {
          "data": {
            "application/vnd.google.colaboratory.intrinsic+json": {
              "summary": "{\n  \"name\": \"train_df\",\n  \"rows\": 32769,\n  \"fields\": [\n    {\n      \"column\": \"ACTION\",\n      \"properties\": {\n        \"dtype\": \"number\",\n        \"std\": 0,\n        \"min\": 0,\n        \"max\": 1,\n        \"num_unique_values\": 2,\n        \"samples\": [\n          0,\n          1\n        ],\n        \"semantic_type\": \"\",\n        \"description\": \"\"\n      }\n    },\n    {\n      \"column\": \"RESOURCE\",\n      \"properties\": {\n        \"dtype\": \"number\",\n        \"std\": 34173,\n        \"min\": 0,\n        \"max\": 312153,\n        \"num_unique_values\": 7518,\n        \"samples\": [\n          79616,\n          35921\n        ],\n        \"semantic_type\": \"\",\n        \"description\": \"\"\n      }\n    },\n    {\n      \"column\": \"MGR_ID\",\n      \"properties\": {\n        \"dtype\": \"number\",\n        \"std\": 35928,\n        \"min\": 25,\n        \"max\": 311696,\n        \"num_unique_values\": 4243,\n        \"samples\": [\n          15768,\n          94919\n        ],\n        \"semantic_type\": \"\",\n        \"description\": \"\"\n      }\n    },\n    {\n      \"column\": \"ROLE_ROLLUP_1\",\n      \"properties\": {\n        \"dtype\": \"number\",\n        \"std\": 10875,\n        \"min\": 4292,\n        \"max\": 311178,\n        \"num_unique_values\": 128,\n        \"samples\": [\n          119691,\n          117935\n        ],\n        \"semantic_type\": \"\",\n        \"description\": \"\"\n      }\n    },\n    {\n      \"column\": \"ROLE_ROLLUP_2\",\n      \"properties\": {\n        \"dtype\": \"number\",\n        \"std\": 4551,\n        \"min\": 23779,\n        \"max\": 286791,\n        \"num_unique_values\": 177,\n        \"samples\": [\n          118225,\n          119597\n        ],\n        \"semantic_type\": \"\",\n        \"description\": \"\"\n      }\n    },\n    {\n      \"column\": \"ROLE_DEPTNAME\",\n      \"properties\": {\n        \"dtype\": \"number\",\n        \"std\": 18961,\n        \"min\": 4674,\n        \"max\": 286792,\n        \"num_unique_values\": 449,\n        \"samples\": [\n          121216,\n          119424\n        ],\n        \"semantic_type\": \"\",\n        \"description\": \"\"\n      }\n    },\n    {\n      \"column\": \"ROLE_TITLE\",\n      \"properties\": {\n        \"dtype\": \"number\",\n        \"std\": 31036,\n        \"min\": 117879,\n        \"max\": 311867,\n        \"num_unique_values\": 343,\n        \"samples\": [\n          119782,\n          118636\n        ],\n        \"semantic_type\": \"\",\n        \"description\": \"\"\n      }\n    },\n    {\n      \"column\": \"ROLE_FAMILY_DESC\",\n      \"properties\": {\n        \"dtype\": \"number\",\n        \"std\": 69509,\n        \"min\": 4673,\n        \"max\": 311867,\n        \"num_unique_values\": 2358,\n        \"samples\": [\n          122092,\n          120812\n        ],\n        \"semantic_type\": \"\",\n        \"description\": \"\"\n      }\n    },\n    {\n      \"column\": \"ROLE_FAMILY\",\n      \"properties\": {\n        \"dtype\": \"number\",\n        \"std\": 100488,\n        \"min\": 3130,\n        \"max\": 308574,\n        \"num_unique_values\": 67,\n        \"samples\": [\n          119184,\n          118643\n        ],\n        \"semantic_type\": \"\",\n        \"description\": \"\"\n      }\n    },\n    {\n      \"column\": \"ROLE_CODE\",\n      \"properties\": {\n        \"dtype\": \"number\",\n        \"std\": 5784,\n        \"min\": 117880,\n        \"max\": 270691,\n        \"num_unique_values\": 343,\n        \"samples\": [\n          119785,\n          118639\n        ],\n        \"semantic_type\": \"\",\n        \"description\": \"\"\n      }\n    }\n  ]\n}",
              "type": "dataframe",
              "variable_name": "train_df"
            },
            "text/html": [
              "\n",
              "  <div id=\"df-814acfe7-ec32-4f6e-8f6b-0c1b4fbe0e1a\" class=\"colab-df-container\">\n",
              "    <div>\n",
              "<style scoped>\n",
              "    .dataframe tbody tr th:only-of-type {\n",
              "        vertical-align: middle;\n",
              "    }\n",
              "\n",
              "    .dataframe tbody tr th {\n",
              "        vertical-align: top;\n",
              "    }\n",
              "\n",
              "    .dataframe thead th {\n",
              "        text-align: right;\n",
              "    }\n",
              "</style>\n",
              "<table border=\"1\" class=\"dataframe\">\n",
              "  <thead>\n",
              "    <tr style=\"text-align: right;\">\n",
              "      <th></th>\n",
              "      <th>ACTION</th>\n",
              "      <th>RESOURCE</th>\n",
              "      <th>MGR_ID</th>\n",
              "      <th>ROLE_ROLLUP_1</th>\n",
              "      <th>ROLE_ROLLUP_2</th>\n",
              "      <th>ROLE_DEPTNAME</th>\n",
              "      <th>ROLE_TITLE</th>\n",
              "      <th>ROLE_FAMILY_DESC</th>\n",
              "      <th>ROLE_FAMILY</th>\n",
              "      <th>ROLE_CODE</th>\n",
              "    </tr>\n",
              "  </thead>\n",
              "  <tbody>\n",
              "    <tr>\n",
              "      <th>0</th>\n",
              "      <td>1</td>\n",
              "      <td>39353</td>\n",
              "      <td>85475</td>\n",
              "      <td>117961</td>\n",
              "      <td>118300</td>\n",
              "      <td>123472</td>\n",
              "      <td>117905</td>\n",
              "      <td>117906</td>\n",
              "      <td>290919</td>\n",
              "      <td>117908</td>\n",
              "    </tr>\n",
              "    <tr>\n",
              "      <th>1</th>\n",
              "      <td>1</td>\n",
              "      <td>17183</td>\n",
              "      <td>1540</td>\n",
              "      <td>117961</td>\n",
              "      <td>118343</td>\n",
              "      <td>123125</td>\n",
              "      <td>118536</td>\n",
              "      <td>118536</td>\n",
              "      <td>308574</td>\n",
              "      <td>118539</td>\n",
              "    </tr>\n",
              "    <tr>\n",
              "      <th>2</th>\n",
              "      <td>1</td>\n",
              "      <td>36724</td>\n",
              "      <td>14457</td>\n",
              "      <td>118219</td>\n",
              "      <td>118220</td>\n",
              "      <td>117884</td>\n",
              "      <td>117879</td>\n",
              "      <td>267952</td>\n",
              "      <td>19721</td>\n",
              "      <td>117880</td>\n",
              "    </tr>\n",
              "    <tr>\n",
              "      <th>3</th>\n",
              "      <td>1</td>\n",
              "      <td>36135</td>\n",
              "      <td>5396</td>\n",
              "      <td>117961</td>\n",
              "      <td>118343</td>\n",
              "      <td>119993</td>\n",
              "      <td>118321</td>\n",
              "      <td>240983</td>\n",
              "      <td>290919</td>\n",
              "      <td>118322</td>\n",
              "    </tr>\n",
              "    <tr>\n",
              "      <th>4</th>\n",
              "      <td>1</td>\n",
              "      <td>42680</td>\n",
              "      <td>5905</td>\n",
              "      <td>117929</td>\n",
              "      <td>117930</td>\n",
              "      <td>119569</td>\n",
              "      <td>119323</td>\n",
              "      <td>123932</td>\n",
              "      <td>19793</td>\n",
              "      <td>119325</td>\n",
              "    </tr>\n",
              "  </tbody>\n",
              "</table>\n",
              "</div>\n",
              "    <div class=\"colab-df-buttons\">\n",
              "\n",
              "  <div class=\"colab-df-container\">\n",
              "    <button class=\"colab-df-convert\" onclick=\"convertToInteractive('df-814acfe7-ec32-4f6e-8f6b-0c1b4fbe0e1a')\"\n",
              "            title=\"Convert this dataframe to an interactive table.\"\n",
              "            style=\"display:none;\">\n",
              "\n",
              "  <svg xmlns=\"http://www.w3.org/2000/svg\" height=\"24px\" viewBox=\"0 -960 960 960\">\n",
              "    <path d=\"M120-120v-720h720v720H120Zm60-500h600v-160H180v160Zm220 220h160v-160H400v160Zm0 220h160v-160H400v160ZM180-400h160v-160H180v160Zm440 0h160v-160H620v160ZM180-180h160v-160H180v160Zm440 0h160v-160H620v160Z\"/>\n",
              "  </svg>\n",
              "    </button>\n",
              "\n",
              "  <style>\n",
              "    .colab-df-container {\n",
              "      display:flex;\n",
              "      gap: 12px;\n",
              "    }\n",
              "\n",
              "    .colab-df-convert {\n",
              "      background-color: #E8F0FE;\n",
              "      border: none;\n",
              "      border-radius: 50%;\n",
              "      cursor: pointer;\n",
              "      display: none;\n",
              "      fill: #1967D2;\n",
              "      height: 32px;\n",
              "      padding: 0 0 0 0;\n",
              "      width: 32px;\n",
              "    }\n",
              "\n",
              "    .colab-df-convert:hover {\n",
              "      background-color: #E2EBFA;\n",
              "      box-shadow: 0px 1px 2px rgba(60, 64, 67, 0.3), 0px 1px 3px 1px rgba(60, 64, 67, 0.15);\n",
              "      fill: #174EA6;\n",
              "    }\n",
              "\n",
              "    .colab-df-buttons div {\n",
              "      margin-bottom: 4px;\n",
              "    }\n",
              "\n",
              "    [theme=dark] .colab-df-convert {\n",
              "      background-color: #3B4455;\n",
              "      fill: #D2E3FC;\n",
              "    }\n",
              "\n",
              "    [theme=dark] .colab-df-convert:hover {\n",
              "      background-color: #434B5C;\n",
              "      box-shadow: 0px 1px 3px 1px rgba(0, 0, 0, 0.15);\n",
              "      filter: drop-shadow(0px 1px 2px rgba(0, 0, 0, 0.3));\n",
              "      fill: #FFFFFF;\n",
              "    }\n",
              "  </style>\n",
              "\n",
              "    <script>\n",
              "      const buttonEl =\n",
              "        document.querySelector('#df-814acfe7-ec32-4f6e-8f6b-0c1b4fbe0e1a button.colab-df-convert');\n",
              "      buttonEl.style.display =\n",
              "        google.colab.kernel.accessAllowed ? 'block' : 'none';\n",
              "\n",
              "      async function convertToInteractive(key) {\n",
              "        const element = document.querySelector('#df-814acfe7-ec32-4f6e-8f6b-0c1b4fbe0e1a');\n",
              "        const dataTable =\n",
              "          await google.colab.kernel.invokeFunction('convertToInteractive',\n",
              "                                                    [key], {});\n",
              "        if (!dataTable) return;\n",
              "\n",
              "        const docLinkHtml = 'Like what you see? Visit the ' +\n",
              "          '<a target=\"_blank\" href=https://colab.research.google.com/notebooks/data_table.ipynb>data table notebook</a>'\n",
              "          + ' to learn more about interactive tables.';\n",
              "        element.innerHTML = '';\n",
              "        dataTable['output_type'] = 'display_data';\n",
              "        await google.colab.output.renderOutput(dataTable, element);\n",
              "        const docLink = document.createElement('div');\n",
              "        docLink.innerHTML = docLinkHtml;\n",
              "        element.appendChild(docLink);\n",
              "      }\n",
              "    </script>\n",
              "  </div>\n",
              "\n",
              "\n",
              "<div id=\"df-97a62685-770a-445e-bc67-5adbbcde3b17\">\n",
              "  <button class=\"colab-df-quickchart\" onclick=\"quickchart('df-97a62685-770a-445e-bc67-5adbbcde3b17')\"\n",
              "            title=\"Suggest charts\"\n",
              "            style=\"display:none;\">\n",
              "\n",
              "<svg xmlns=\"http://www.w3.org/2000/svg\" height=\"24px\"viewBox=\"0 0 24 24\"\n",
              "     width=\"24px\">\n",
              "    <g>\n",
              "        <path d=\"M19 3H5c-1.1 0-2 .9-2 2v14c0 1.1.9 2 2 2h14c1.1 0 2-.9 2-2V5c0-1.1-.9-2-2-2zM9 17H7v-7h2v7zm4 0h-2V7h2v10zm4 0h-2v-4h2v4z\"/>\n",
              "    </g>\n",
              "</svg>\n",
              "  </button>\n",
              "\n",
              "<style>\n",
              "  .colab-df-quickchart {\n",
              "      --bg-color: #E8F0FE;\n",
              "      --fill-color: #1967D2;\n",
              "      --hover-bg-color: #E2EBFA;\n",
              "      --hover-fill-color: #174EA6;\n",
              "      --disabled-fill-color: #AAA;\n",
              "      --disabled-bg-color: #DDD;\n",
              "  }\n",
              "\n",
              "  [theme=dark] .colab-df-quickchart {\n",
              "      --bg-color: #3B4455;\n",
              "      --fill-color: #D2E3FC;\n",
              "      --hover-bg-color: #434B5C;\n",
              "      --hover-fill-color: #FFFFFF;\n",
              "      --disabled-bg-color: #3B4455;\n",
              "      --disabled-fill-color: #666;\n",
              "  }\n",
              "\n",
              "  .colab-df-quickchart {\n",
              "    background-color: var(--bg-color);\n",
              "    border: none;\n",
              "    border-radius: 50%;\n",
              "    cursor: pointer;\n",
              "    display: none;\n",
              "    fill: var(--fill-color);\n",
              "    height: 32px;\n",
              "    padding: 0;\n",
              "    width: 32px;\n",
              "  }\n",
              "\n",
              "  .colab-df-quickchart:hover {\n",
              "    background-color: var(--hover-bg-color);\n",
              "    box-shadow: 0 1px 2px rgba(60, 64, 67, 0.3), 0 1px 3px 1px rgba(60, 64, 67, 0.15);\n",
              "    fill: var(--button-hover-fill-color);\n",
              "  }\n",
              "\n",
              "  .colab-df-quickchart-complete:disabled,\n",
              "  .colab-df-quickchart-complete:disabled:hover {\n",
              "    background-color: var(--disabled-bg-color);\n",
              "    fill: var(--disabled-fill-color);\n",
              "    box-shadow: none;\n",
              "  }\n",
              "\n",
              "  .colab-df-spinner {\n",
              "    border: 2px solid var(--fill-color);\n",
              "    border-color: transparent;\n",
              "    border-bottom-color: var(--fill-color);\n",
              "    animation:\n",
              "      spin 1s steps(1) infinite;\n",
              "  }\n",
              "\n",
              "  @keyframes spin {\n",
              "    0% {\n",
              "      border-color: transparent;\n",
              "      border-bottom-color: var(--fill-color);\n",
              "      border-left-color: var(--fill-color);\n",
              "    }\n",
              "    20% {\n",
              "      border-color: transparent;\n",
              "      border-left-color: var(--fill-color);\n",
              "      border-top-color: var(--fill-color);\n",
              "    }\n",
              "    30% {\n",
              "      border-color: transparent;\n",
              "      border-left-color: var(--fill-color);\n",
              "      border-top-color: var(--fill-color);\n",
              "      border-right-color: var(--fill-color);\n",
              "    }\n",
              "    40% {\n",
              "      border-color: transparent;\n",
              "      border-right-color: var(--fill-color);\n",
              "      border-top-color: var(--fill-color);\n",
              "    }\n",
              "    60% {\n",
              "      border-color: transparent;\n",
              "      border-right-color: var(--fill-color);\n",
              "    }\n",
              "    80% {\n",
              "      border-color: transparent;\n",
              "      border-right-color: var(--fill-color);\n",
              "      border-bottom-color: var(--fill-color);\n",
              "    }\n",
              "    90% {\n",
              "      border-color: transparent;\n",
              "      border-bottom-color: var(--fill-color);\n",
              "    }\n",
              "  }\n",
              "</style>\n",
              "\n",
              "  <script>\n",
              "    async function quickchart(key) {\n",
              "      const quickchartButtonEl =\n",
              "        document.querySelector('#' + key + ' button');\n",
              "      quickchartButtonEl.disabled = true;  // To prevent multiple clicks.\n",
              "      quickchartButtonEl.classList.add('colab-df-spinner');\n",
              "      try {\n",
              "        const charts = await google.colab.kernel.invokeFunction(\n",
              "            'suggestCharts', [key], {});\n",
              "      } catch (error) {\n",
              "        console.error('Error during call to suggestCharts:', error);\n",
              "      }\n",
              "      quickchartButtonEl.classList.remove('colab-df-spinner');\n",
              "      quickchartButtonEl.classList.add('colab-df-quickchart-complete');\n",
              "    }\n",
              "    (() => {\n",
              "      let quickchartButtonEl =\n",
              "        document.querySelector('#df-97a62685-770a-445e-bc67-5adbbcde3b17 button');\n",
              "      quickchartButtonEl.style.display =\n",
              "        google.colab.kernel.accessAllowed ? 'block' : 'none';\n",
              "    })();\n",
              "  </script>\n",
              "</div>\n",
              "    </div>\n",
              "  </div>\n"
            ],
            "text/plain": [
              "   ACTION  RESOURCE  MGR_ID  ROLE_ROLLUP_1  ROLE_ROLLUP_2  ROLE_DEPTNAME  \\\n",
              "0       1     39353   85475         117961         118300         123472   \n",
              "1       1     17183    1540         117961         118343         123125   \n",
              "2       1     36724   14457         118219         118220         117884   \n",
              "3       1     36135    5396         117961         118343         119993   \n",
              "4       1     42680    5905         117929         117930         119569   \n",
              "\n",
              "   ROLE_TITLE  ROLE_FAMILY_DESC  ROLE_FAMILY  ROLE_CODE  \n",
              "0      117905            117906       290919     117908  \n",
              "1      118536            118536       308574     118539  \n",
              "2      117879            267952        19721     117880  \n",
              "3      118321            240983       290919     118322  \n",
              "4      119323            123932        19793     119325  "
            ]
          },
          "execution_count": 44,
          "metadata": {},
          "output_type": "execute_result"
        }
      ],
      "source": [
        "train_df.head()"
      ]
    },
    {
      "cell_type": "markdown",
      "id": "3cb363e4-490e-4166-9fde-42c1abd9e860",
      "metadata": {
        "id": "3cb363e4-490e-4166-9fde-42c1abd9e860"
      },
      "source": [
        "Подготовка данных"
      ]
    },
    {
      "cell_type": "code",
      "execution_count": null,
      "id": "5718a193-026e-4a53-a96f-bb87ef61950b",
      "metadata": {
        "id": "5718a193-026e-4a53-a96f-bb87ef61950b"
      },
      "outputs": [],
      "source": [
        "y = train_df.ACTION\n",
        "X = train_df.drop('ACTION', axis=1) # целевая переменная"
      ]
    },
    {
      "cell_type": "code",
      "execution_count": null,
      "id": "84e680d0-4455-4086-bfa9-05de014ab2a6",
      "metadata": {
        "colab": {
          "base_uri": "https://localhost:8080/"
        },
        "id": "84e680d0-4455-4086-bfa9-05de014ab2a6",
        "outputId": "78a445e2-0132-4eb8-a2b1-1849081c68f2"
      },
      "outputs": [
        {
          "name": "stdout",
          "output_type": "stream",
          "text": [
            "[0, 1, 2, 3, 4, 5, 6, 7, 8]\n"
          ]
        }
      ],
      "source": [
        "cat_features = list(range(0, X.shape[1])) # смотрим признаки\n",
        "print(cat_features)"
      ]
    },
    {
      "cell_type": "code",
      "execution_count": null,
      "id": "7cbb86e8-751a-413b-affc-17839c75ed44",
      "metadata": {
        "colab": {
          "base_uri": "https://localhost:8080/"
        },
        "id": "7cbb86e8-751a-413b-affc-17839c75ed44",
        "outputId": "b51aa774-4913-4721-caed-09aaae803f05"
      },
      "outputs": [
        {
          "name": "stdout",
          "output_type": "stream",
          "text": [
            "Labels: {0, 1}\n",
            "Zero count = 1897, One count = 30872\n"
          ]
        }
      ],
      "source": [
        "print('Labels: {}'.format(set(y))) # смотрим значения y\n",
        "print('Zero count = {}, One count = {}'.format(len(y) - sum(y), sum(y)))"
      ]
    },
    {
      "cell_type": "code",
      "execution_count": null,
      "id": "5ef556c1-483f-4928-a57e-eeae0c1f0e34",
      "metadata": {
        "id": "5ef556c1-483f-4928-a57e-eeae0c1f0e34"
      },
      "outputs": [],
      "source": [
        "dataset_dir = './amazon'\n",
        "if not os.path.exists(dataset_dir):\n",
        "    os.makedirs(dataset_dir)\n",
        "\n",
        "# We will be able to work with files with/without header and\n",
        "# with different separators.\n",
        "train_df.to_csv(\n",
        "    os.path.join(dataset_dir, 'train.tsv'),\n",
        "    index=False, sep='\\t', header=False\n",
        ")\n",
        "test_df.to_csv(\n",
        "    os.path.join(dataset_dir, 'test.tsv'),\n",
        "    index=False, sep='\\t', header=False\n",
        ")\n",
        "\n",
        "train_df.to_csv(\n",
        "    os.path.join(dataset_dir, 'train.csv'),\n",
        "    index=False, sep=',', header=True\n",
        ")\n",
        "test_df.to_csv(\n",
        "    os.path.join(dataset_dir, 'test.csv'),\n",
        "    index=False, sep=',', header=True\n",
        ")"
      ]
    },
    {
      "cell_type": "code",
      "execution_count": null,
      "id": "b64548cf-d569-4e6b-8e54-ad5ea0f60463",
      "metadata": {
        "id": "b64548cf-d569-4e6b-8e54-ad5ea0f60463"
      },
      "outputs": [],
      "source": [
        "from sklearn.model_selection import train_test_split\n",
        "X_train, X_validation, y_train, y_validation = train_test_split(X, y, train_size=0.8, random_state=1234)"
      ]
    },
    {
      "cell_type": "markdown",
      "id": "33905445-fe67-4405-a1ac-d544c2f7ae5c",
      "metadata": {
        "id": "33905445-fe67-4405-a1ac-d544c2f7ae5c"
      },
      "source": [
        "Обучение"
      ]
    },
    {
      "cell_type": "code",
      "execution_count": null,
      "id": "20329a45-1cb8-4555-b503-00f3388986bb",
      "metadata": {
        "colab": {
          "base_uri": "https://localhost:8080/"
        },
        "id": "20329a45-1cb8-4555-b503-00f3388986bb",
        "outputId": "f9da58b2-75e7-4fde-b86f-4b74420b5799"
      },
      "outputs": [
        {
          "name": "stdout",
          "output_type": "stream",
          "text": [
            "Model is fitted: True\n",
            "Model params:\n",
            "{'iterations': 5, 'learning_rate': 0.1}\n"
          ]
        }
      ],
      "source": [
        "from catboost import CatBoostClassifier\n",
        "model = CatBoostClassifier(\n",
        "    iterations=5,          # гиперпараметры\n",
        "    learning_rate=0.1,\n",
        ")\n",
        "model.fit(\n",
        "    X_train, y_train,\n",
        "    cat_features=cat_features,\n",
        "    eval_set=(X_validation, y_validation),\n",
        "    verbose=False\n",
        ")\n",
        "print('Model is fitted: ' + str(model.is_fitted()))\n",
        "print('Model params:')\n",
        "print(model.get_params())"
      ]
    },
    {
      "cell_type": "markdown",
      "id": "d46e315e-e591-4f22-ae2c-d56d845ba540",
      "metadata": {
        "id": "d46e315e-e591-4f22-ae2c-d56d845ba540"
      },
      "source": [
        "Печать результатов обучения"
      ]
    },
    {
      "cell_type": "code",
      "execution_count": null,
      "id": "5749e25e-f742-4bd8-b8a1-d67c84cb8e14",
      "metadata": {
        "colab": {
          "base_uri": "https://localhost:8080/"
        },
        "id": "5749e25e-f742-4bd8-b8a1-d67c84cb8e14",
        "outputId": "cc88832c-554e-46eb-8654-0045d77a81e4"
      },
      "outputs": [
        {
          "name": "stdout",
          "output_type": "stream",
          "text": [
            "Learning rate set to 0.162066\n",
            "0:\tlearn: 0.5765572\ttest: 0.5766422\tbest: 0.5766422 (0)\ttotal: 32.4ms\tremaining: 4.83s\n",
            "3:\tlearn: 0.3828682\ttest: 0.3830266\tbest: 0.3830266 (3)\ttotal: 116ms\tremaining: 4.22s\n",
            "6:\tlearn: 0.2952615\ttest: 0.2952535\tbest: 0.2952535 (6)\ttotal: 161ms\tremaining: 3.28s\n",
            "9:\tlearn: 0.2478728\ttest: 0.2483678\tbest: 0.2483678 (9)\ttotal: 251ms\tremaining: 3.51s\n",
            "12:\tlearn: 0.2193492\ttest: 0.2180675\tbest: 0.2180675 (12)\ttotal: 330ms\tremaining: 3.47s\n",
            "15:\tlearn: 0.2007458\ttest: 0.1970088\tbest: 0.1970088 (15)\ttotal: 420ms\tremaining: 3.52s\n",
            "18:\tlearn: 0.1901703\ttest: 0.1840867\tbest: 0.1840867 (18)\ttotal: 520ms\tremaining: 3.59s\n",
            "21:\tlearn: 0.1836267\ttest: 0.1763071\tbest: 0.1763071 (21)\ttotal: 616ms\tremaining: 3.59s\n",
            "24:\tlearn: 0.1806816\ttest: 0.1726814\tbest: 0.1726814 (24)\ttotal: 698ms\tremaining: 3.49s\n",
            "27:\tlearn: 0.1770253\ttest: 0.1689148\tbest: 0.1689148 (27)\ttotal: 820ms\tremaining: 3.57s\n",
            "30:\tlearn: 0.1750605\ttest: 0.1659663\tbest: 0.1659663 (30)\ttotal: 921ms\tremaining: 3.54s\n",
            "33:\tlearn: 0.1738171\ttest: 0.1649513\tbest: 0.1649513 (33)\ttotal: 999ms\tremaining: 3.41s\n",
            "36:\tlearn: 0.1726983\ttest: 0.1635177\tbest: 0.1635177 (36)\ttotal: 1.04s\tremaining: 3.19s\n",
            "39:\tlearn: 0.1722356\ttest: 0.1630838\tbest: 0.1630838 (39)\ttotal: 1.09s\tremaining: 2.99s\n",
            "42:\tlearn: 0.1718148\ttest: 0.1627220\tbest: 0.1627220 (42)\ttotal: 1.13s\tremaining: 2.8s\n",
            "45:\tlearn: 0.1714036\ttest: 0.1622223\tbest: 0.1622223 (45)\ttotal: 1.16s\tremaining: 2.63s\n",
            "48:\tlearn: 0.1709322\ttest: 0.1617863\tbest: 0.1617863 (48)\ttotal: 1.21s\tremaining: 2.49s\n",
            "51:\tlearn: 0.1707275\ttest: 0.1618046\tbest: 0.1617863 (48)\ttotal: 1.25s\tremaining: 2.36s\n",
            "54:\tlearn: 0.1702188\ttest: 0.1614734\tbest: 0.1614734 (54)\ttotal: 1.3s\tremaining: 2.24s\n",
            "57:\tlearn: 0.1699735\ttest: 0.1613261\tbest: 0.1613261 (57)\ttotal: 1.34s\tremaining: 2.12s\n",
            "60:\tlearn: 0.1695297\ttest: 0.1609654\tbest: 0.1609654 (60)\ttotal: 1.38s\tremaining: 2.02s\n",
            "63:\tlearn: 0.1690587\ttest: 0.1607696\tbest: 0.1607696 (63)\ttotal: 1.43s\tremaining: 1.92s\n",
            "66:\tlearn: 0.1686629\ttest: 0.1602516\tbest: 0.1602516 (66)\ttotal: 1.47s\tremaining: 1.83s\n",
            "69:\tlearn: 0.1682377\ttest: 0.1601645\tbest: 0.1601549 (68)\ttotal: 1.52s\tremaining: 1.74s\n",
            "72:\tlearn: 0.1677184\ttest: 0.1600887\tbest: 0.1600887 (72)\ttotal: 1.56s\tremaining: 1.64s\n",
            "75:\tlearn: 0.1674541\ttest: 0.1597463\tbest: 0.1597463 (75)\ttotal: 1.62s\tremaining: 1.57s\n",
            "78:\tlearn: 0.1669806\ttest: 0.1593339\tbest: 0.1593339 (78)\ttotal: 1.66s\tremaining: 1.49s\n",
            "81:\tlearn: 0.1665815\ttest: 0.1592578\tbest: 0.1592578 (81)\ttotal: 1.7s\tremaining: 1.41s\n",
            "84:\tlearn: 0.1663583\ttest: 0.1590465\tbest: 0.1590465 (84)\ttotal: 1.75s\tremaining: 1.33s\n",
            "87:\tlearn: 0.1661749\ttest: 0.1589219\tbest: 0.1589219 (87)\ttotal: 1.79s\tremaining: 1.26s\n",
            "90:\tlearn: 0.1660484\ttest: 0.1588777\tbest: 0.1588777 (90)\ttotal: 1.83s\tremaining: 1.19s\n",
            "93:\tlearn: 0.1658617\ttest: 0.1586572\tbest: 0.1586572 (93)\ttotal: 1.87s\tremaining: 1.11s\n",
            "96:\tlearn: 0.1656569\ttest: 0.1585257\tbest: 0.1585257 (96)\ttotal: 1.92s\tremaining: 1.05s\n",
            "99:\tlearn: 0.1654377\ttest: 0.1585160\tbest: 0.1585126 (97)\ttotal: 1.96s\tremaining: 979ms\n",
            "102:\tlearn: 0.1652906\ttest: 0.1584934\tbest: 0.1584934 (102)\ttotal: 2s\tremaining: 912ms\n",
            "105:\tlearn: 0.1650726\ttest: 0.1584750\tbest: 0.1584620 (103)\ttotal: 2.04s\tremaining: 849ms\n",
            "108:\tlearn: 0.1646390\ttest: 0.1581505\tbest: 0.1581505 (108)\ttotal: 2.09s\tremaining: 785ms\n",
            "111:\tlearn: 0.1642473\ttest: 0.1579380\tbest: 0.1579380 (111)\ttotal: 2.13s\tremaining: 723ms\n",
            "114:\tlearn: 0.1639659\ttest: 0.1578243\tbest: 0.1578243 (114)\ttotal: 2.17s\tremaining: 661ms\n",
            "117:\tlearn: 0.1638642\ttest: 0.1577989\tbest: 0.1577989 (117)\ttotal: 2.22s\tremaining: 601ms\n",
            "120:\tlearn: 0.1637043\ttest: 0.1576436\tbest: 0.1576436 (120)\ttotal: 2.26s\tremaining: 541ms\n",
            "123:\tlearn: 0.1634511\ttest: 0.1574168\tbest: 0.1574168 (123)\ttotal: 2.3s\tremaining: 483ms\n",
            "126:\tlearn: 0.1633008\ttest: 0.1573945\tbest: 0.1573811 (124)\ttotal: 2.35s\tremaining: 426ms\n",
            "129:\tlearn: 0.1631768\ttest: 0.1573685\tbest: 0.1573685 (129)\ttotal: 2.39s\tremaining: 368ms\n",
            "132:\tlearn: 0.1630579\ttest: 0.1573062\tbest: 0.1573007 (131)\ttotal: 2.43s\tremaining: 311ms\n",
            "135:\tlearn: 0.1629347\ttest: 0.1572713\tbest: 0.1572713 (135)\ttotal: 2.48s\tremaining: 255ms\n",
            "138:\tlearn: 0.1628631\ttest: 0.1573133\tbest: 0.1572713 (135)\ttotal: 2.52s\tremaining: 200ms\n",
            "141:\tlearn: 0.1626290\ttest: 0.1572354\tbest: 0.1572354 (141)\ttotal: 2.57s\tremaining: 145ms\n",
            "144:\tlearn: 0.1624360\ttest: 0.1571140\tbest: 0.1571140 (144)\ttotal: 2.63s\tremaining: 90.7ms\n",
            "147:\tlearn: 0.1623067\ttest: 0.1570798\tbest: 0.1570798 (147)\ttotal: 2.67s\tremaining: 36.1ms\n",
            "149:\tlearn: 0.1621459\ttest: 0.1571158\tbest: 0.1570798 (147)\ttotal: 2.7s\tremaining: 0us\n",
            "\n",
            "bestTest = 0.1570797657\n",
            "bestIteration = 147\n",
            "\n",
            "Shrink model to first 148 iterations.\n"
          ]
        },
        {
          "data": {
            "text/plain": [
              "<catboost.core.CatBoostClassifier at 0x7d83bd5a8700>"
            ]
          },
          "execution_count": 51,
          "metadata": {},
          "output_type": "execute_result"
        }
      ],
      "source": [
        "from catboost import CatBoostClassifier\n",
        "model = CatBoostClassifier(\n",
        "    iterations=150,\n",
        "#     verbose=5, - уровень многословности\n",
        ")\n",
        "model.fit(\n",
        "    X_train, y_train,\n",
        "    cat_features=cat_features,\n",
        "    eval_set=(X_validation, y_validation),\n",
        "    verbose = 3\n",
        ")"
      ]
    },
    {
      "cell_type": "markdown",
      "id": "f11b6693-0452-4744-a42b-9b0bacc65008",
      "metadata": {
        "id": "f11b6693-0452-4744-a42b-9b0bacc65008"
      },
      "source": [
        "Вычисление метрик"
      ]
    },
    {
      "cell_type": "code",
      "execution_count": null,
      "id": "68a9cafb-3910-4fa7-9df1-aff6e81fe00c",
      "metadata": {
        "colab": {
          "base_uri": "https://localhost:8080/"
        },
        "id": "68a9cafb-3910-4fa7-9df1-aff6e81fe00c",
        "outputId": "1346ddce-6956-44de-9402-19b4ac9eeeef"
      },
      "outputs": [
        {
          "data": {
            "text/plain": [
              "<catboost.core.CatBoostClassifier at 0x7d83f444e560>"
            ]
          },
          "execution_count": 52,
          "metadata": {},
          "output_type": "execute_result"
        }
      ],
      "source": [
        "from matplotlib import pylab as plt\n",
        "\n",
        "from catboost import CatBoostClassifier\n",
        "model = CatBoostClassifier(\n",
        "    iterations=50,\n",
        "    random_seed=63,\n",
        "    learning_rate=0.5,\n",
        "    custom_loss=['AUC', 'Accuracy']\n",
        ")\n",
        "model.fit(\n",
        "    X_train, y_train,\n",
        "    cat_features=cat_features,\n",
        "    eval_set=(X_validation, y_validation),\n",
        "    verbose=False\n",
        ")"
      ]
    },
    {
      "cell_type": "markdown",
      "id": "e9719003-c9b0-41bb-b682-9aa56c7cca76",
      "metadata": {
        "id": "e9719003-c9b0-41bb-b682-9aa56c7cca76"
      },
      "source": [
        "Наилучшее количество деревьев"
      ]
    },
    {
      "cell_type": "code",
      "execution_count": null,
      "id": "acc52b4b-2f8d-44a6-8112-a9b05e8ce6fc",
      "metadata": {
        "colab": {
          "base_uri": "https://localhost:8080/"
        },
        "id": "acc52b4b-2f8d-44a6-8112-a9b05e8ce6fc",
        "outputId": "c210b169-510d-4e0b-dd79-a71459e1c866"
      },
      "outputs": [
        {
          "data": {
            "text/plain": [
              "<catboost.core.CatBoostClassifier at 0x7d83bd490070>"
            ]
          },
          "execution_count": 54,
          "metadata": {},
          "output_type": "execute_result"
        }
      ],
      "source": [
        "from catboost import CatBoostClassifier\n",
        "model = CatBoostClassifier(\n",
        "    iterations=100, # выберет кол-во деревьев, которые не переобучается, если качесство на тесте растет,значит нужно перестать обучать модель\n",
        "    random_seed=63,\n",
        "    learning_rate=0.5,\n",
        "#     use_best_model=False\n",
        ")\n",
        "model.fit(\n",
        "    X_train, y_train,\n",
        "    cat_features=cat_features,\n",
        "    eval_set=(X_validation, y_validation),\n",
        "    verbose=False\n",
        ")"
      ]
    },
    {
      "cell_type": "code",
      "execution_count": null,
      "id": "83b40ce5-8dc3-4d66-bbcb-66a256698eac",
      "metadata": {
        "colab": {
          "base_uri": "https://localhost:8080/"
        },
        "id": "83b40ce5-8dc3-4d66-bbcb-66a256698eac",
        "outputId": "aeaa7ede-9c80-40c6-c064-59ab0a22a7e9"
      },
      "outputs": [
        {
          "name": "stdout",
          "output_type": "stream",
          "text": [
            "Tree count: 82\n"
          ]
        }
      ],
      "source": [
        "print('Tree count: ' + str(model.tree_count_))"
      ]
    },
    {
      "cell_type": "markdown",
      "id": "85421d7f-aa67-485a-bec4-72b2abc440bb",
      "metadata": {
        "id": "85421d7f-aa67-485a-bec4-72b2abc440bb"
      },
      "source": [
        "Кросс-валидация"
      ]
    },
    {
      "cell_type": "code",
      "execution_count": null,
      "id": "78ead99d-b412-4c97-b0d2-8c4e34732c29",
      "metadata": {
        "colab": {
          "base_uri": "https://localhost:8080/"
        },
        "id": "78ead99d-b412-4c97-b0d2-8c4e34732c29",
        "outputId": "710c4dcf-c636-46d2-8462-04cfc8fa8adc"
      },
      "outputs": [
        {
          "name": "stdout",
          "output_type": "stream",
          "text": [
            "Training on fold [0/5]\n",
            "\n",
            "bestTest = 0.1695893693\n",
            "bestIteration = 38\n",
            "\n",
            "Training on fold [1/5]\n",
            "\n",
            "bestTest = 0.164632916\n",
            "bestIteration = 48\n",
            "\n",
            "Training on fold [2/5]\n",
            "\n",
            "bestTest = 0.15425211\n",
            "bestIteration = 35\n",
            "\n",
            "Training on fold [3/5]\n",
            "\n",
            "bestTest = 0.1433537051\n",
            "bestIteration = 55\n",
            "\n",
            "Training on fold [4/5]\n",
            "\n",
            "bestTest = 0.1560519524\n",
            "bestIteration = 55\n",
            "\n"
          ]
        }
      ],
      "source": [
        "from catboost import cv\n",
        "\n",
        "params = {}\n",
        "params['loss_function'] = 'Logloss'\n",
        "params['iterations'] = 80\n",
        "params['custom_loss'] = 'AUC'\n",
        "params['random_seed'] = 63\n",
        "params['learning_rate'] = 0.5\n",
        "\n",
        "cv_data = cv(\n",
        "    params = params,\n",
        "    pool = Pool(X, label=y, cat_features=cat_features),\n",
        "    fold_count=5,\n",
        "    shuffle=True,\n",
        "    partition_random_seed=0,\n",
        "    stratified=False,\n",
        "    verbose=False\n",
        ")"
      ]
    },
    {
      "cell_type": "code",
      "execution_count": null,
      "id": "a42a5996-8ed3-4392-885a-223a93ada8d0",
      "metadata": {
        "colab": {
          "base_uri": "https://localhost:8080/",
          "height": 206
        },
        "id": "a42a5996-8ed3-4392-885a-223a93ada8d0",
        "outputId": "df6e8f1f-df61-4d9d-fc19-deff6545d275"
      },
      "outputs": [
        {
          "data": {
            "application/vnd.google.colaboratory.intrinsic+json": {
              "summary": "{\n  \"name\": \"cv_data\",\n  \"rows\": 80,\n  \"fields\": [\n    {\n      \"column\": \"iterations\",\n      \"properties\": {\n        \"dtype\": \"number\",\n        \"std\": 23,\n        \"min\": 0,\n        \"max\": 79,\n        \"num_unique_values\": 80,\n        \"samples\": [\n          30,\n          0,\n          22\n        ],\n        \"semantic_type\": \"\",\n        \"description\": \"\"\n      }\n    },\n    {\n      \"column\": \"test-Logloss-mean\",\n      \"properties\": {\n        \"dtype\": \"number\",\n        \"std\": 0.01806052927606763,\n        \"min\": 0.15821884308402473,\n        \"max\": 0.3023669261811529,\n        \"num_unique_values\": 80,\n        \"samples\": [\n          0.15886775695104705,\n          0.3023669261811529,\n          0.15968954642491623\n        ],\n        \"semantic_type\": \"\",\n        \"description\": \"\"\n      }\n    },\n    {\n      \"column\": \"test-Logloss-std\",\n      \"properties\": {\n        \"dtype\": \"number\",\n        \"std\": 0.0011785901564125795,\n        \"min\": 0.004316735280038224,\n        \"max\": 0.010585870086128973,\n        \"num_unique_values\": 80,\n        \"samples\": [\n          0.008778868167992317,\n          0.004316735280038224,\n          0.00828649349161533\n        ],\n        \"semantic_type\": \"\",\n        \"description\": \"\"\n      }\n    },\n    {\n      \"column\": \"train-Logloss-mean\",\n      \"properties\": {\n        \"dtype\": \"number\",\n        \"std\": 0.02076850207138625,\n        \"min\": 0.14361354549272348,\n        \"max\": 0.3021958011019359,\n        \"num_unique_values\": 80,\n        \"samples\": [\n          0.1611103232959954,\n          0.3021958011019359,\n          0.16471576823121414\n        ],\n        \"semantic_type\": \"\",\n        \"description\": \"\"\n      }\n    },\n    {\n      \"column\": \"train-Logloss-std\",\n      \"properties\": {\n        \"dtype\": \"number\",\n        \"std\": 0.0005030142337557991,\n        \"min\": 0.0017797815020388884,\n        \"max\": 0.0051261225075423765,\n        \"num_unique_values\": 80,\n        \"samples\": [\n          0.0027501349668325984,\n          0.004516531667271771,\n          0.002377389960709497\n        ],\n        \"semantic_type\": \"\",\n        \"description\": \"\"\n      }\n    },\n    {\n      \"column\": \"test-AUC-mean\",\n      \"properties\": {\n        \"dtype\": \"number\",\n        \"std\": 0.04519745948646379,\n        \"min\": 0.5135774651072572,\n        \"max\": 0.856114010195564,\n        \"num_unique_values\": 80,\n        \"samples\": [\n          0.8554783109025361,\n          0.5135774651072572,\n          0.8533814984379553\n        ],\n        \"semantic_type\": \"\",\n        \"description\": \"\"\n      }\n    },\n    {\n      \"column\": \"test-AUC-std\",\n      \"properties\": {\n        \"dtype\": \"number\",\n        \"std\": 0.005115231914347629,\n        \"min\": 0.00531870552650449,\n        \"max\": 0.04800379234276347,\n        \"num_unique_values\": 80,\n        \"samples\": [\n          0.008089301037665723,\n          0.030360134941958654,\n          0.00750448921790177\n        ],\n        \"semantic_type\": \"\",\n        \"description\": \"\"\n      }\n    }\n  ]\n}",
              "type": "dataframe",
              "variable_name": "cv_data"
            },
            "text/html": [
              "\n",
              "  <div id=\"df-11f776de-4078-4fab-99b0-510f4a0253a7\" class=\"colab-df-container\">\n",
              "    <div>\n",
              "<style scoped>\n",
              "    .dataframe tbody tr th:only-of-type {\n",
              "        vertical-align: middle;\n",
              "    }\n",
              "\n",
              "    .dataframe tbody tr th {\n",
              "        vertical-align: top;\n",
              "    }\n",
              "\n",
              "    .dataframe thead th {\n",
              "        text-align: right;\n",
              "    }\n",
              "</style>\n",
              "<table border=\"1\" class=\"dataframe\">\n",
              "  <thead>\n",
              "    <tr style=\"text-align: right;\">\n",
              "      <th></th>\n",
              "      <th>iterations</th>\n",
              "      <th>test-Logloss-mean</th>\n",
              "      <th>test-Logloss-std</th>\n",
              "      <th>train-Logloss-mean</th>\n",
              "      <th>train-Logloss-std</th>\n",
              "      <th>test-AUC-mean</th>\n",
              "      <th>test-AUC-std</th>\n",
              "    </tr>\n",
              "  </thead>\n",
              "  <tbody>\n",
              "    <tr>\n",
              "      <th>0</th>\n",
              "      <td>0</td>\n",
              "      <td>0.302367</td>\n",
              "      <td>0.004317</td>\n",
              "      <td>0.302196</td>\n",
              "      <td>0.004517</td>\n",
              "      <td>0.513577</td>\n",
              "      <td>0.030360</td>\n",
              "    </tr>\n",
              "    <tr>\n",
              "      <th>1</th>\n",
              "      <td>1</td>\n",
              "      <td>0.227370</td>\n",
              "      <td>0.007679</td>\n",
              "      <td>0.228497</td>\n",
              "      <td>0.005126</td>\n",
              "      <td>0.642263</td>\n",
              "      <td>0.048004</td>\n",
              "    </tr>\n",
              "    <tr>\n",
              "      <th>2</th>\n",
              "      <td>2</td>\n",
              "      <td>0.190856</td>\n",
              "      <td>0.006917</td>\n",
              "      <td>0.196796</td>\n",
              "      <td>0.003999</td>\n",
              "      <td>0.791709</td>\n",
              "      <td>0.011361</td>\n",
              "    </tr>\n",
              "    <tr>\n",
              "      <th>3</th>\n",
              "      <td>3</td>\n",
              "      <td>0.178884</td>\n",
              "      <td>0.007455</td>\n",
              "      <td>0.186682</td>\n",
              "      <td>0.003242</td>\n",
              "      <td>0.813889</td>\n",
              "      <td>0.009362</td>\n",
              "    </tr>\n",
              "    <tr>\n",
              "      <th>4</th>\n",
              "      <td>4</td>\n",
              "      <td>0.172286</td>\n",
              "      <td>0.007957</td>\n",
              "      <td>0.181380</td>\n",
              "      <td>0.002135</td>\n",
              "      <td>0.826529</td>\n",
              "      <td>0.005319</td>\n",
              "    </tr>\n",
              "  </tbody>\n",
              "</table>\n",
              "</div>\n",
              "    <div class=\"colab-df-buttons\">\n",
              "\n",
              "  <div class=\"colab-df-container\">\n",
              "    <button class=\"colab-df-convert\" onclick=\"convertToInteractive('df-11f776de-4078-4fab-99b0-510f4a0253a7')\"\n",
              "            title=\"Convert this dataframe to an interactive table.\"\n",
              "            style=\"display:none;\">\n",
              "\n",
              "  <svg xmlns=\"http://www.w3.org/2000/svg\" height=\"24px\" viewBox=\"0 -960 960 960\">\n",
              "    <path d=\"M120-120v-720h720v720H120Zm60-500h600v-160H180v160Zm220 220h160v-160H400v160Zm0 220h160v-160H400v160ZM180-400h160v-160H180v160Zm440 0h160v-160H620v160ZM180-180h160v-160H180v160Zm440 0h160v-160H620v160Z\"/>\n",
              "  </svg>\n",
              "    </button>\n",
              "\n",
              "  <style>\n",
              "    .colab-df-container {\n",
              "      display:flex;\n",
              "      gap: 12px;\n",
              "    }\n",
              "\n",
              "    .colab-df-convert {\n",
              "      background-color: #E8F0FE;\n",
              "      border: none;\n",
              "      border-radius: 50%;\n",
              "      cursor: pointer;\n",
              "      display: none;\n",
              "      fill: #1967D2;\n",
              "      height: 32px;\n",
              "      padding: 0 0 0 0;\n",
              "      width: 32px;\n",
              "    }\n",
              "\n",
              "    .colab-df-convert:hover {\n",
              "      background-color: #E2EBFA;\n",
              "      box-shadow: 0px 1px 2px rgba(60, 64, 67, 0.3), 0px 1px 3px 1px rgba(60, 64, 67, 0.15);\n",
              "      fill: #174EA6;\n",
              "    }\n",
              "\n",
              "    .colab-df-buttons div {\n",
              "      margin-bottom: 4px;\n",
              "    }\n",
              "\n",
              "    [theme=dark] .colab-df-convert {\n",
              "      background-color: #3B4455;\n",
              "      fill: #D2E3FC;\n",
              "    }\n",
              "\n",
              "    [theme=dark] .colab-df-convert:hover {\n",
              "      background-color: #434B5C;\n",
              "      box-shadow: 0px 1px 3px 1px rgba(0, 0, 0, 0.15);\n",
              "      filter: drop-shadow(0px 1px 2px rgba(0, 0, 0, 0.3));\n",
              "      fill: #FFFFFF;\n",
              "    }\n",
              "  </style>\n",
              "\n",
              "    <script>\n",
              "      const buttonEl =\n",
              "        document.querySelector('#df-11f776de-4078-4fab-99b0-510f4a0253a7 button.colab-df-convert');\n",
              "      buttonEl.style.display =\n",
              "        google.colab.kernel.accessAllowed ? 'block' : 'none';\n",
              "\n",
              "      async function convertToInteractive(key) {\n",
              "        const element = document.querySelector('#df-11f776de-4078-4fab-99b0-510f4a0253a7');\n",
              "        const dataTable =\n",
              "          await google.colab.kernel.invokeFunction('convertToInteractive',\n",
              "                                                    [key], {});\n",
              "        if (!dataTable) return;\n",
              "\n",
              "        const docLinkHtml = 'Like what you see? Visit the ' +\n",
              "          '<a target=\"_blank\" href=https://colab.research.google.com/notebooks/data_table.ipynb>data table notebook</a>'\n",
              "          + ' to learn more about interactive tables.';\n",
              "        element.innerHTML = '';\n",
              "        dataTable['output_type'] = 'display_data';\n",
              "        await google.colab.output.renderOutput(dataTable, element);\n",
              "        const docLink = document.createElement('div');\n",
              "        docLink.innerHTML = docLinkHtml;\n",
              "        element.appendChild(docLink);\n",
              "      }\n",
              "    </script>\n",
              "  </div>\n",
              "\n",
              "\n",
              "<div id=\"df-dc433c45-17a5-4ee0-b37e-189cf7a08e59\">\n",
              "  <button class=\"colab-df-quickchart\" onclick=\"quickchart('df-dc433c45-17a5-4ee0-b37e-189cf7a08e59')\"\n",
              "            title=\"Suggest charts\"\n",
              "            style=\"display:none;\">\n",
              "\n",
              "<svg xmlns=\"http://www.w3.org/2000/svg\" height=\"24px\"viewBox=\"0 0 24 24\"\n",
              "     width=\"24px\">\n",
              "    <g>\n",
              "        <path d=\"M19 3H5c-1.1 0-2 .9-2 2v14c0 1.1.9 2 2 2h14c1.1 0 2-.9 2-2V5c0-1.1-.9-2-2-2zM9 17H7v-7h2v7zm4 0h-2V7h2v10zm4 0h-2v-4h2v4z\"/>\n",
              "    </g>\n",
              "</svg>\n",
              "  </button>\n",
              "\n",
              "<style>\n",
              "  .colab-df-quickchart {\n",
              "      --bg-color: #E8F0FE;\n",
              "      --fill-color: #1967D2;\n",
              "      --hover-bg-color: #E2EBFA;\n",
              "      --hover-fill-color: #174EA6;\n",
              "      --disabled-fill-color: #AAA;\n",
              "      --disabled-bg-color: #DDD;\n",
              "  }\n",
              "\n",
              "  [theme=dark] .colab-df-quickchart {\n",
              "      --bg-color: #3B4455;\n",
              "      --fill-color: #D2E3FC;\n",
              "      --hover-bg-color: #434B5C;\n",
              "      --hover-fill-color: #FFFFFF;\n",
              "      --disabled-bg-color: #3B4455;\n",
              "      --disabled-fill-color: #666;\n",
              "  }\n",
              "\n",
              "  .colab-df-quickchart {\n",
              "    background-color: var(--bg-color);\n",
              "    border: none;\n",
              "    border-radius: 50%;\n",
              "    cursor: pointer;\n",
              "    display: none;\n",
              "    fill: var(--fill-color);\n",
              "    height: 32px;\n",
              "    padding: 0;\n",
              "    width: 32px;\n",
              "  }\n",
              "\n",
              "  .colab-df-quickchart:hover {\n",
              "    background-color: var(--hover-bg-color);\n",
              "    box-shadow: 0 1px 2px rgba(60, 64, 67, 0.3), 0 1px 3px 1px rgba(60, 64, 67, 0.15);\n",
              "    fill: var(--button-hover-fill-color);\n",
              "  }\n",
              "\n",
              "  .colab-df-quickchart-complete:disabled,\n",
              "  .colab-df-quickchart-complete:disabled:hover {\n",
              "    background-color: var(--disabled-bg-color);\n",
              "    fill: var(--disabled-fill-color);\n",
              "    box-shadow: none;\n",
              "  }\n",
              "\n",
              "  .colab-df-spinner {\n",
              "    border: 2px solid var(--fill-color);\n",
              "    border-color: transparent;\n",
              "    border-bottom-color: var(--fill-color);\n",
              "    animation:\n",
              "      spin 1s steps(1) infinite;\n",
              "  }\n",
              "\n",
              "  @keyframes spin {\n",
              "    0% {\n",
              "      border-color: transparent;\n",
              "      border-bottom-color: var(--fill-color);\n",
              "      border-left-color: var(--fill-color);\n",
              "    }\n",
              "    20% {\n",
              "      border-color: transparent;\n",
              "      border-left-color: var(--fill-color);\n",
              "      border-top-color: var(--fill-color);\n",
              "    }\n",
              "    30% {\n",
              "      border-color: transparent;\n",
              "      border-left-color: var(--fill-color);\n",
              "      border-top-color: var(--fill-color);\n",
              "      border-right-color: var(--fill-color);\n",
              "    }\n",
              "    40% {\n",
              "      border-color: transparent;\n",
              "      border-right-color: var(--fill-color);\n",
              "      border-top-color: var(--fill-color);\n",
              "    }\n",
              "    60% {\n",
              "      border-color: transparent;\n",
              "      border-right-color: var(--fill-color);\n",
              "    }\n",
              "    80% {\n",
              "      border-color: transparent;\n",
              "      border-right-color: var(--fill-color);\n",
              "      border-bottom-color: var(--fill-color);\n",
              "    }\n",
              "    90% {\n",
              "      border-color: transparent;\n",
              "      border-bottom-color: var(--fill-color);\n",
              "    }\n",
              "  }\n",
              "</style>\n",
              "\n",
              "  <script>\n",
              "    async function quickchart(key) {\n",
              "      const quickchartButtonEl =\n",
              "        document.querySelector('#' + key + ' button');\n",
              "      quickchartButtonEl.disabled = true;  // To prevent multiple clicks.\n",
              "      quickchartButtonEl.classList.add('colab-df-spinner');\n",
              "      try {\n",
              "        const charts = await google.colab.kernel.invokeFunction(\n",
              "            'suggestCharts', [key], {});\n",
              "      } catch (error) {\n",
              "        console.error('Error during call to suggestCharts:', error);\n",
              "      }\n",
              "      quickchartButtonEl.classList.remove('colab-df-spinner');\n",
              "      quickchartButtonEl.classList.add('colab-df-quickchart-complete');\n",
              "    }\n",
              "    (() => {\n",
              "      let quickchartButtonEl =\n",
              "        document.querySelector('#df-dc433c45-17a5-4ee0-b37e-189cf7a08e59 button');\n",
              "      quickchartButtonEl.style.display =\n",
              "        google.colab.kernel.accessAllowed ? 'block' : 'none';\n",
              "    })();\n",
              "  </script>\n",
              "</div>\n",
              "    </div>\n",
              "  </div>\n"
            ],
            "text/plain": [
              "   iterations  test-Logloss-mean  test-Logloss-std  train-Logloss-mean  \\\n",
              "0           0           0.302367          0.004317            0.302196   \n",
              "1           1           0.227370          0.007679            0.228497   \n",
              "2           2           0.190856          0.006917            0.196796   \n",
              "3           3           0.178884          0.007455            0.186682   \n",
              "4           4           0.172286          0.007957            0.181380   \n",
              "\n",
              "   train-Logloss-std  test-AUC-mean  test-AUC-std  \n",
              "0           0.004517       0.513577      0.030360  \n",
              "1           0.005126       0.642263      0.048004  \n",
              "2           0.003999       0.791709      0.011361  \n",
              "3           0.003242       0.813889      0.009362  \n",
              "4           0.002135       0.826529      0.005319  "
            ]
          },
          "execution_count": 57,
          "metadata": {},
          "output_type": "execute_result"
        }
      ],
      "source": [
        "cv_data.head() # возвращает датафрейм"
      ]
    },
    {
      "cell_type": "code",
      "execution_count": null,
      "id": "cf19b782-83ed-4d8a-aac9-d4adf6848339",
      "metadata": {
        "colab": {
          "base_uri": "https://localhost:8080/"
        },
        "id": "cf19b782-83ed-4d8a-aac9-d4adf6848339",
        "outputId": "244ee23a-ae29-4b6d-89c2-f36b1f2be3e1"
      },
      "outputs": [
        {
          "name": "stdout",
          "output_type": "stream",
          "text": [
            "Best validation Logloss score, not stratified: 0.1582±0.0102 on step 53\n"
          ]
        }
      ],
      "source": [
        "best_value = np.min(cv_data['test-Logloss-mean'])\n",
        "best_iter = np.argmin(cv_data['test-Logloss-mean'])\n",
        "\n",
        "print('Best validation Logloss score, not stratified: {:.4f}±{:.4f} on step {}'.format(\n",
        "    best_value,\n",
        "    cv_data['test-Logloss-std'][best_iter],\n",
        "    best_iter)\n",
        ")"
      ]
    },
    {
      "cell_type": "code",
      "execution_count": null,
      "id": "d681c605-690c-4169-96c9-538cae9aada2",
      "metadata": {
        "colab": {
          "base_uri": "https://localhost:8080/"
        },
        "id": "d681c605-690c-4169-96c9-538cae9aada2",
        "outputId": "f66ba790-1079-4fe7-e6a5-763218ea2c3d"
      },
      "outputs": [
        {
          "name": "stdout",
          "output_type": "stream",
          "text": [
            "Training on fold [0/5]\n",
            "\n",
            "bestTest = 0.1614486451\n",
            "bestIteration = 31\n",
            "\n",
            "Training on fold [1/5]\n",
            "\n",
            "bestTest = 0.1551886688\n",
            "bestIteration = 56\n",
            "\n",
            "Training on fold [2/5]\n",
            "\n",
            "bestTest = 0.1597838545\n",
            "bestIteration = 25\n",
            "\n",
            "Training on fold [3/5]\n",
            "\n",
            "bestTest = 0.1523066165\n",
            "bestIteration = 56\n",
            "\n",
            "Training on fold [4/5]\n",
            "\n",
            "bestTest = 0.1577738401\n",
            "bestIteration = 30\n",
            "\n",
            "Best validation Logloss score, stratified: 0.1580±0.0041 on step 56\n"
          ]
        }
      ],
      "source": [
        "cv_data = cv(\n",
        "    params = params,\n",
        "    pool = Pool(X, label=y, cat_features=cat_features),\n",
        "    fold_count=5,\n",
        "    inverted=False,\n",
        "    shuffle=True,\n",
        "    partition_random_seed=0,\n",
        "    stratified=True,\n",
        "    verbose=False\n",
        ")\n",
        "\n",
        "best_value = np.min(cv_data['test-Logloss-mean'])\n",
        "best_iter = np.argmin(cv_data['test-Logloss-mean'])\n",
        "\n",
        "print('Best validation Logloss score, stratified: {:.4f}±{:.4f} on step {}'.format(\n",
        "    best_value,\n",
        "    cv_data['test-Logloss-std'][best_iter],\n",
        "    best_iter)\n",
        ")"
      ]
    },
    {
      "cell_type": "markdown",
      "id": "e5112349-c35a-4dac-b937-2f3357978f96",
      "metadata": {
        "id": "e5112349-c35a-4dac-b937-2f3357978f96"
      },
      "source": [
        "Детектор переобучения"
      ]
    },
    {
      "cell_type": "code",
      "execution_count": null,
      "id": "57cf4503-ab95-4baf-b581-cf83b984d6a4",
      "metadata": {
        "colab": {
          "base_uri": "https://localhost:8080/"
        },
        "id": "57cf4503-ab95-4baf-b581-cf83b984d6a4",
        "outputId": "ab001e37-5b11-4ba2-be94-092c60a2e197"
      },
      "outputs": [
        {
          "data": {
            "text/plain": [
              "<catboost.core.CatBoostClassifier at 0x7d83bd492a40>"
            ]
          },
          "execution_count": 60,
          "metadata": {},
          "output_type": "execute_result"
        }
      ],
      "source": [
        "model_with_early_stop = CatBoostClassifier(\n",
        "    iterations=200, # сколько деревьев мы обучили на ошибках\n",
        "    random_seed=63,\n",
        "    learning_rate=0.5,\n",
        "    early_stopping_rounds=20\n",
        ")\n",
        "model_with_early_stop.fit(\n",
        "    X_train, y_train,\n",
        "    cat_features=cat_features,\n",
        "    eval_set=(X_validation, y_validation),\n",
        "    verbose=False\n",
        ")"
      ]
    },
    {
      "cell_type": "code",
      "execution_count": null,
      "id": "58ed2a36-8da5-4cb2-ba9c-e7cab2695137",
      "metadata": {
        "colab": {
          "base_uri": "https://localhost:8080/"
        },
        "id": "58ed2a36-8da5-4cb2-ba9c-e7cab2695137",
        "outputId": "a1a0ec8b-6462-4364-f131-7d0a6523ae3f"
      },
      "outputs": [
        {
          "name": "stdout",
          "output_type": "stream",
          "text": [
            "30\n"
          ]
        }
      ],
      "source": [
        "print(model_with_early_stop.tree_count_)"
      ]
    },
    {
      "cell_type": "code",
      "execution_count": null,
      "id": "fbf46f49-07ed-461d-a2dd-0470d3e3e6f3",
      "metadata": {
        "colab": {
          "base_uri": "https://localhost:8080/"
        },
        "id": "fbf46f49-07ed-461d-a2dd-0470d3e3e6f3",
        "outputId": "faa06585-4b0c-43c6-de7a-ef385970f242"
      },
      "outputs": [
        {
          "data": {
            "text/plain": [
              "<catboost.core.CatBoostClassifier at 0x7d83bd491cc0>"
            ]
          },
          "execution_count": 62,
          "metadata": {},
          "output_type": "execute_result"
        }
      ],
      "source": [
        "model_with_early_stop = CatBoostClassifier(\n",
        "    eval_metric='AUC',\n",
        "    iterations=200,\n",
        "    random_seed=63,\n",
        "    learning_rate=0.5,\n",
        "    early_stopping_rounds=20\n",
        ")\n",
        "model_with_early_stop.fit(\n",
        "    X_train, y_train,\n",
        "    cat_features=cat_features,\n",
        "    eval_set=(X_validation, y_validation),\n",
        "    verbose=False\n",
        ")"
      ]
    },
    {
      "cell_type": "code",
      "execution_count": null,
      "id": "61d4e95e-bec1-47a2-b71e-d46ba0ed9864",
      "metadata": {
        "colab": {
          "base_uri": "https://localhost:8080/"
        },
        "id": "61d4e95e-bec1-47a2-b71e-d46ba0ed9864",
        "outputId": "0e4d95b1-3643-4942-868f-2b6bddd66fba"
      },
      "outputs": [
        {
          "name": "stdout",
          "output_type": "stream",
          "text": [
            "30\n"
          ]
        }
      ],
      "source": [
        "print(model_with_early_stop.tree_count_)"
      ]
    },
    {
      "cell_type": "markdown",
      "id": "f26ad9e7-55b5-4f40-819e-c713c3f4258e",
      "metadata": {
        "id": "f26ad9e7-55b5-4f40-819e-c713c3f4258e"
      },
      "source": [
        "Выбор порога"
      ]
    },
    {
      "cell_type": "code",
      "execution_count": null,
      "id": "6a443440-fff3-40ec-864f-799192aa8940",
      "metadata": {
        "colab": {
          "base_uri": "https://localhost:8080/"
        },
        "id": "6a443440-fff3-40ec-864f-799192aa8940",
        "outputId": "70183f99-dea9-4757-f732-4ee37453d0ed"
      },
      "outputs": [
        {
          "data": {
            "text/plain": [
              "<catboost.core.CatBoostClassifier at 0x7d83bd493670>"
            ]
          },
          "execution_count": 64,
          "metadata": {},
          "output_type": "execute_result"
        }
      ],
      "source": [
        "model = CatBoostClassifier(\n",
        "    random_seed=63,\n",
        "    iterations=200,\n",
        "    learning_rate=0.03,\n",
        ")\n",
        "model.fit(\n",
        "    X_train, y_train,\n",
        "    cat_features=cat_features,\n",
        "    verbose=False\n",
        ")"
      ]
    },
    {
      "cell_type": "code",
      "execution_count": null,
      "id": "d68092c7-cb30-4af7-857b-ba3cf6a80d11",
      "metadata": {
        "id": "d68092c7-cb30-4af7-857b-ba3cf6a80d11"
      },
      "outputs": [],
      "source": [
        "from catboost.utils import get_roc_curve\n",
        "import sklearn\n",
        "from sklearn import metrics\n",
        "\n",
        "eval_pool = Pool(X_validation, y_validation, cat_features=cat_features)\n",
        "curve = get_roc_curve(model, eval_pool)\n",
        "(fpr, tpr, thresholds) = curve\n",
        "roc_auc = sklearn.metrics.auc(fpr, tpr)"
      ]
    },
    {
      "cell_type": "code",
      "execution_count": null,
      "id": "55a232f2-8e87-4f28-9023-4570fdd6ca64",
      "metadata": {
        "colab": {
          "base_uri": "https://localhost:8080/",
          "height": 738
        },
        "id": "55a232f2-8e87-4f28-9023-4570fdd6ca64",
        "outputId": "f8612372-0c38-4906-83d3-b4d096ca12cf"
      },
      "outputs": [
        {
          "data": {
            "image/png": "[encoded data removed]",
            "text/plain": [
              "<Figure size 800x800 with 1 Axes>"
            ]
          },
          "metadata": {},
          "output_type": "display_data"
        }
      ],
      "source": [
        "import matplotlib.pyplot as plt\n",
        "\n",
        "plt.figure(figsize=(8, 8))\n",
        "lw = 2\n",
        "\n",
        "plt.plot(fpr, tpr, color='darkorange',\n",
        "         lw=lw, label='ROC curve (area = %0.2f)' % roc_auc, alpha=0.5)\n",
        "\n",
        "plt.plot([0, 1], [0, 1], color='navy', lw=lw, linestyle='--', alpha=0.5)\n",
        "\n",
        "plt.xlim([0.0, 1.0])\n",
        "plt.ylim([0.0, 1.05])\n",
        "plt.xticks(fontsize=16)\n",
        "plt.yticks(fontsize=16)\n",
        "plt.grid(True)\n",
        "plt.xlabel('False Positive Rate', fontsize=16)\n",
        "plt.ylabel('True Positive Rate', fontsize=16)\n",
        "plt.title('Receiver operating characteristic', fontsize=20)\n",
        "plt.legend(loc=\"lower right\", fontsize=16)\n",
        "plt.show()"
      ]
    },
    {
      "cell_type": "code",
      "execution_count": null,
      "id": "8edf8475-0ad0-4d2b-a6f2-bc6c548f0d94",
      "metadata": {
        "id": "8edf8475-0ad0-4d2b-a6f2-bc6c548f0d94"
      },
      "outputs": [],
      "source": [
        "from catboost.utils import get_fpr_curve\n",
        "from catboost.utils import get_fnr_curve\n",
        "\n",
        "(thresholds, fpr) = get_fpr_curve(curve=curve)\n",
        "(thresholds, fnr) = get_fnr_curve(curve=curve)"
      ]
    },
    {
      "cell_type": "code",
      "execution_count": null,
      "id": "8232da0f-38e5-4f86-93cd-e66877e886b0",
      "metadata": {
        "colab": {
          "base_uri": "https://localhost:8080/",
          "height": 738
        },
        "id": "8232da0f-38e5-4f86-93cd-e66877e886b0",
        "outputId": "ab8e5885-ef09-4098-cf62-5268fceb439c"
      },
      "outputs": [
        {
          "data": {
            "image/png": "[encoded data removed]",
            "text/plain": [
              "<Figure size 800x800 with 1 Axes>"
            ]
          },
          "metadata": {},
          "output_type": "display_data"
        }
      ],
      "source": [
        "plt.figure(figsize=(8, 8))\n",
        "lw = 2\n",
        "\n",
        "plt.plot(thresholds, fpr, color='blue', lw=lw, label='FPR', alpha=0.5)\n",
        "plt.plot(thresholds, fnr, color='green', lw=lw, label='FNR', alpha=0.5)\n",
        "\n",
        "plt.xlim([0.0, 1.0])\n",
        "plt.ylim([0.0, 1.05])\n",
        "plt.xticks(fontsize=16)\n",
        "plt.yticks(fontsize=16)\n",
        "plt.grid(True)\n",
        "plt.xlabel('Threshold', fontsize=16)\n",
        "plt.ylabel('Error Rate', fontsize=16)\n",
        "plt.title('FPR-FNR curves', fontsize=20)\n",
        "plt.legend(loc=\"lower left\", fontsize=16)\n",
        "plt.show()"
      ]
    },
    {
      "cell_type": "code",
      "execution_count": null,
      "id": "08a0fc7a-2c2b-43d1-b77f-2c9e28191e35",
      "metadata": {
        "colab": {
          "base_uri": "https://localhost:8080/"
        },
        "id": "08a0fc7a-2c2b-43d1-b77f-2c9e28191e35",
        "outputId": "9754b8e2-03a1-4079-8f3b-0942ebc018ea"
      },
      "outputs": [
        {
          "name": "stdout",
          "output_type": "stream",
          "text": [
            "0.4805444481363058\n",
            "0.9900857295557712\n"
          ]
        }
      ],
      "source": [
        "from catboost.utils import select_threshold\n",
        "\n",
        "print(select_threshold(model=model, data=eval_pool, FNR=0.01))\n",
        "print(select_threshold(model=model, data=eval_pool, FPR=0.01))"
      ]
    },
    {
      "cell_type": "markdown",
      "id": "b926b947-036b-48bc-ae77-f1df8dae7d9a",
      "metadata": {
        "id": "b926b947-036b-48bc-ae77-f1df8dae7d9a"
      },
      "source": [
        "Предсказания модели"
      ]
    },
    {
      "cell_type": "code",
      "execution_count": null,
      "id": "9dc719ee-f529-4bda-bdda-2f8ae1086e3e",
      "metadata": {
        "colab": {
          "base_uri": "https://localhost:8080/"
        },
        "id": "9dc719ee-f529-4bda-bdda-2f8ae1086e3e",
        "outputId": "5ea7aff2-57ea-433f-f4b9-87cf093b08a3"
      },
      "outputs": [
        {
          "name": "stdout",
          "output_type": "stream",
          "text": [
            "[[0.0597 0.9403]\n",
            " [0.014  0.986 ]\n",
            " [0.0132 0.9868]\n",
            " ...\n",
            " [0.0163 0.9837]\n",
            " [0.0203 0.9797]\n",
            " [0.0332 0.9668]]\n"
          ]
        }
      ],
      "source": [
        "print(model.predict_proba(X_validation))"
      ]
    },
    {
      "cell_type": "code",
      "execution_count": null,
      "id": "10b927b2-8ac3-464d-9411-28c26310b902",
      "metadata": {
        "colab": {
          "base_uri": "https://localhost:8080/"
        },
        "id": "10b927b2-8ac3-464d-9411-28c26310b902",
        "outputId": "ea956cf4-0d3f-4a91-cfc2-8ba4b56ef16e"
      },
      "outputs": [
        {
          "name": "stdout",
          "output_type": "stream",
          "text": [
            "[1 1 1 ... 1 1 1]\n"
          ]
        }
      ],
      "source": [
        "print(model.predict(X_validation))"
      ]
    },
    {
      "cell_type": "code",
      "execution_count": null,
      "id": "8b359100-3fd2-4d68-acfd-e0f58b2c3fef",
      "metadata": {
        "colab": {
          "base_uri": "https://localhost:8080/"
        },
        "id": "8b359100-3fd2-4d68-acfd-e0f58b2c3fef",
        "outputId": "f254ec4a-11b0-494c-82f2-cc217a1783b2"
      },
      "outputs": [
        {
          "name": "stdout",
          "output_type": "stream",
          "text": [
            "[2.756  4.2541 4.312  ... 4.1022 3.8753 3.3723]\n"
          ]
        }
      ],
      "source": [
        "raw_pred = model.predict(\n",
        "    data=X_validation,\n",
        "    prediction_type='RawFormulaVal'\n",
        ")\n",
        "print(raw_pred)"
      ]
    },
    {
      "cell_type": "code",
      "execution_count": null,
      "id": "8c20a64b-df2a-4d3e-8ee2-8bbfd01871df",
      "metadata": {
        "colab": {
          "base_uri": "https://localhost:8080/"
        },
        "id": "8c20a64b-df2a-4d3e-8ee2-8bbfd01871df",
        "outputId": "bfbd3c1b-a27f-4dd5-ca93-946df176354f"
      },
      "outputs": [
        {
          "name": "stdout",
          "output_type": "stream",
          "text": [
            "[0.9403 0.986  0.9868 ... 0.9837 0.9797 0.9668]\n"
          ]
        }
      ],
      "source": [
        "from numpy import exp\n",
        "\n",
        "sigmoid = lambda x: 1 / (1 + exp(-x))\n",
        "\n",
        "probabilities = sigmoid(raw_pred)\n",
        "\n",
        "print(probabilities)"
      ]
    },
    {
      "cell_type": "markdown",
      "id": "68b87946-248f-4d03-a258-1406456b10e6",
      "metadata": {
        "id": "68b87946-248f-4d03-a258-1406456b10e6"
      },
      "source": [
        "Последовательные предсказания"
      ]
    },
    {
      "cell_type": "code",
      "execution_count": null,
      "id": "2384f639-3e85-4035-ad4f-7ddaccc04e4c",
      "metadata": {
        "colab": {
          "base_uri": "https://localhost:8080/"
        },
        "id": "2384f639-3e85-4035-ad4f-7ddaccc04e4c",
        "outputId": "d6f75da0-5104-4888-8d76-0953c9591f57",
        "scrolled": true
      },
      "outputs": [
        {
          "name": "stdout",
          "output_type": "stream",
          "text": [
            "Iteration 0, predictions:\n",
            "[[0.4791 0.5209]\n",
            " [0.4791 0.5209]\n",
            " [0.4791 0.5209]\n",
            " ...\n",
            " [0.4791 0.5209]\n",
            " [0.4791 0.5209]\n",
            " [0.4791 0.5209]]\n",
            "Iteration 1, predictions:\n",
            "[[0.4581 0.5419]\n",
            " [0.4581 0.5419]\n",
            " [0.4581 0.5419]\n",
            " ...\n",
            " [0.4581 0.5419]\n",
            " [0.4581 0.5419]\n",
            " [0.4581 0.5419]]\n",
            "Iteration 2, predictions:\n",
            "[[0.4381 0.5619]\n",
            " [0.4381 0.5619]\n",
            " [0.4381 0.5619]\n",
            " ...\n",
            " [0.4381 0.5619]\n",
            " [0.4381 0.5619]\n",
            " [0.4381 0.5619]]\n",
            "Iteration 3, predictions:\n",
            "[[0.4185 0.5815]\n",
            " [0.4185 0.5815]\n",
            " [0.4185 0.5815]\n",
            " ...\n",
            " [0.4185 0.5815]\n",
            " [0.4185 0.5815]\n",
            " [0.4185 0.5815]]\n",
            "Iteration 4, predictions:\n",
            "[[0.398  0.602 ]\n",
            " [0.4044 0.5956]\n",
            " [0.4044 0.5956]\n",
            " ...\n",
            " [0.398  0.602 ]\n",
            " [0.398  0.602 ]\n",
            " [0.4044 0.5956]]\n"
          ]
        }
      ],
      "source": [
        "predictions_gen = model.staged_predict_proba(\n",
        "    data=X_validation,\n",
        "    ntree_start=0,\n",
        "    ntree_end=5,\n",
        "    eval_period=1\n",
        ")\n",
        "try:\n",
        "    for iteration, predictions in enumerate(predictions_gen):\n",
        "        print('Iteration ' + str(iteration) + ', predictions:')\n",
        "        print(predictions)\n",
        "except Exception:\n",
        "    pass"
      ]
    },
    {
      "cell_type": "markdown",
      "id": "17099eb2-abfb-4f8f-87c4-c9838fc1d3c7",
      "metadata": {
        "id": "17099eb2-abfb-4f8f-87c4-c9838fc1d3c7"
      },
      "source": [
        "Многоклассовая классификация"
      ]
    },
    {
      "cell_type": "code",
      "execution_count": null,
      "id": "fe68eded-e46e-43f9-95b1-1075e603a4c3",
      "metadata": {
        "colab": {
          "base_uri": "https://localhost:8080/"
        },
        "id": "fe68eded-e46e-43f9-95b1-1075e603a4c3",
        "outputId": "af555c29-d3a4-4111-a0ba-c29b57f29328"
      },
      "outputs": [
        {
          "data": {
            "text/plain": [
              "<catboost.core.CatBoostClassifier at 0x7d83bd4934c0>"
            ]
          },
          "execution_count": 75,
          "metadata": {},
          "output_type": "execute_result"
        }
      ],
      "source": [
        "from catboost import CatBoostClassifier\n",
        "model = CatBoostClassifier(\n",
        "    iterations=50,\n",
        "    random_seed=43,\n",
        "    loss_function='MultiClass'\n",
        ")\n",
        "model.fit(\n",
        "    X_train, y_train,\n",
        "    cat_features=cat_features,\n",
        "    eval_set=(X_validation, y_validation),\n",
        "    verbose=False\n",
        ")"
      ]
    },
    {
      "cell_type": "markdown",
      "id": "a789ea66-0357-42c6-898d-5b1d693b9270",
      "metadata": {
        "id": "a789ea66-0357-42c6-898d-5b1d693b9270"
      },
      "source": [
        "Важность признаков"
      ]
    },
    {
      "cell_type": "code",
      "execution_count": null,
      "id": "ead0ba18-8b68-4ddf-8512-fbd59a890aa1",
      "metadata": {
        "colab": {
          "base_uri": "https://localhost:8080/",
          "height": 331
        },
        "id": "ead0ba18-8b68-4ddf-8512-fbd59a890aa1",
        "outputId": "b586685d-c79d-4c1f-f9ed-7c6af0b2b8f1"
      },
      "outputs": [
        {
          "data": {
            "application/vnd.google.colaboratory.intrinsic+json": {
              "summary": "{\n  \"name\": \"model\",\n  \"rows\": 9,\n  \"fields\": [\n    {\n      \"column\": \"Feature Id\",\n      \"properties\": {\n        \"dtype\": \"string\",\n        \"num_unique_values\": 9,\n        \"samples\": [\n          \"ROLE_TITLE\",\n          \"RESOURCE\",\n          \"ROLE_ROLLUP_2\"\n        ],\n        \"semantic_type\": \"\",\n        \"description\": \"\"\n      }\n    },\n    {\n      \"column\": \"Importances\",\n      \"properties\": {\n        \"dtype\": \"number\",\n        \"std\": 9.060221569049986,\n        \"min\": 2.107171087637048,\n        \"max\": 31.65993185379034,\n        \"num_unique_values\": 9,\n        \"samples\": [\n          2.484312246948623,\n          17.171955399079582,\n          8.847865018744658\n        ],\n        \"semantic_type\": \"\",\n        \"description\": \"\"\n      }\n    }\n  ]\n}",
              "type": "dataframe"
            },
            "text/html": [
              "\n",
              "  <div id=\"df-7e7613b6-c167-4045-a526-abd0300d6f36\" class=\"colab-df-container\">\n",
              "    <div>\n",
              "<style scoped>\n",
              "    .dataframe tbody tr th:only-of-type {\n",
              "        vertical-align: middle;\n",
              "    }\n",
              "\n",
              "    .dataframe tbody tr th {\n",
              "        vertical-align: top;\n",
              "    }\n",
              "\n",
              "    .dataframe thead th {\n",
              "        text-align: right;\n",
              "    }\n",
              "</style>\n",
              "<table border=\"1\" class=\"dataframe\">\n",
              "  <thead>\n",
              "    <tr style=\"text-align: right;\">\n",
              "      <th></th>\n",
              "      <th>Feature Id</th>\n",
              "      <th>Importances</th>\n",
              "    </tr>\n",
              "  </thead>\n",
              "  <tbody>\n",
              "    <tr>\n",
              "      <th>0</th>\n",
              "      <td>MGR_ID</td>\n",
              "      <td>31.659932</td>\n",
              "    </tr>\n",
              "    <tr>\n",
              "      <th>1</th>\n",
              "      <td>RESOURCE</td>\n",
              "      <td>17.171955</td>\n",
              "    </tr>\n",
              "    <tr>\n",
              "      <th>2</th>\n",
              "      <td>ROLE_FAMILY_DESC</td>\n",
              "      <td>12.332457</td>\n",
              "    </tr>\n",
              "    <tr>\n",
              "      <th>3</th>\n",
              "      <td>ROLE_DEPTNAME</td>\n",
              "      <td>10.864216</td>\n",
              "    </tr>\n",
              "    <tr>\n",
              "      <th>4</th>\n",
              "      <td>ROLE_CODE</td>\n",
              "      <td>8.994698</td>\n",
              "    </tr>\n",
              "    <tr>\n",
              "      <th>5</th>\n",
              "      <td>ROLE_ROLLUP_2</td>\n",
              "      <td>8.847865</td>\n",
              "    </tr>\n",
              "    <tr>\n",
              "      <th>6</th>\n",
              "      <td>ROLE_ROLLUP_1</td>\n",
              "      <td>5.537394</td>\n",
              "    </tr>\n",
              "    <tr>\n",
              "      <th>7</th>\n",
              "      <td>ROLE_TITLE</td>\n",
              "      <td>2.484312</td>\n",
              "    </tr>\n",
              "    <tr>\n",
              "      <th>8</th>\n",
              "      <td>ROLE_FAMILY</td>\n",
              "      <td>2.107171</td>\n",
              "    </tr>\n",
              "  </tbody>\n",
              "</table>\n",
              "</div>\n",
              "    <div class=\"colab-df-buttons\">\n",
              "\n",
              "  <div class=\"colab-df-container\">\n",
              "    <button class=\"colab-df-convert\" onclick=\"convertToInteractive('df-7e7613b6-c167-4045-a526-abd0300d6f36')\"\n",
              "            title=\"Convert this dataframe to an interactive table.\"\n",
              "            style=\"display:none;\">\n",
              "\n",
              "  <svg xmlns=\"http://www.w3.org/2000/svg\" height=\"24px\" viewBox=\"0 -960 960 960\">\n",
              "    <path d=\"M120-120v-720h720v720H120Zm60-500h600v-160H180v160Zm220 220h160v-160H400v160Zm0 220h160v-160H400v160ZM180-400h160v-160H180v160Zm440 0h160v-160H620v160ZM180-180h160v-160H180v160Zm440 0h160v-160H620v160Z\"/>\n",
              "  </svg>\n",
              "    </button>\n",
              "\n",
              "  <style>\n",
              "    .colab-df-container {\n",
              "      display:flex;\n",
              "      gap: 12px;\n",
              "    }\n",
              "\n",
              "    .colab-df-convert {\n",
              "      background-color: #E8F0FE;\n",
              "      border: none;\n",
              "      border-radius: 50%;\n",
              "      cursor: pointer;\n",
              "      display: none;\n",
              "      fill: #1967D2;\n",
              "      height: 32px;\n",
              "      padding: 0 0 0 0;\n",
              "      width: 32px;\n",
              "    }\n",
              "\n",
              "    .colab-df-convert:hover {\n",
              "      background-color: #E2EBFA;\n",
              "      box-shadow: 0px 1px 2px rgba(60, 64, 67, 0.3), 0px 1px 3px 1px rgba(60, 64, 67, 0.15);\n",
              "      fill: #174EA6;\n",
              "    }\n",
              "\n",
              "    .colab-df-buttons div {\n",
              "      margin-bottom: 4px;\n",
              "    }\n",
              "\n",
              "    [theme=dark] .colab-df-convert {\n",
              "      background-color: #3B4455;\n",
              "      fill: #D2E3FC;\n",
              "    }\n",
              "\n",
              "    [theme=dark] .colab-df-convert:hover {\n",
              "      background-color: #434B5C;\n",
              "      box-shadow: 0px 1px 3px 1px rgba(0, 0, 0, 0.15);\n",
              "      filter: drop-shadow(0px 1px 2px rgba(0, 0, 0, 0.3));\n",
              "      fill: #FFFFFF;\n",
              "    }\n",
              "  </style>\n",
              "\n",
              "    <script>\n",
              "      const buttonEl =\n",
              "        document.querySelector('#df-7e7613b6-c167-4045-a526-abd0300d6f36 button.colab-df-convert');\n",
              "      buttonEl.style.display =\n",
              "        google.colab.kernel.accessAllowed ? 'block' : 'none';\n",
              "\n",
              "      async function convertToInteractive(key) {\n",
              "        const element = document.querySelector('#df-7e7613b6-c167-4045-a526-abd0300d6f36');\n",
              "        const dataTable =\n",
              "          await google.colab.kernel.invokeFunction('convertToInteractive',\n",
              "                                                    [key], {});\n",
              "        if (!dataTable) return;\n",
              "\n",
              "        const docLinkHtml = 'Like what you see? Visit the ' +\n",
              "          '<a target=\"_blank\" href=https://colab.research.google.com/notebooks/data_table.ipynb>data table notebook</a>'\n",
              "          + ' to learn more about interactive tables.';\n",
              "        element.innerHTML = '';\n",
              "        dataTable['output_type'] = 'display_data';\n",
              "        await google.colab.output.renderOutput(dataTable, element);\n",
              "        const docLink = document.createElement('div');\n",
              "        docLink.innerHTML = docLinkHtml;\n",
              "        element.appendChild(docLink);\n",
              "      }\n",
              "    </script>\n",
              "  </div>\n",
              "\n",
              "\n",
              "<div id=\"df-f3dce734-426f-46e1-ba29-c53cc907275d\">\n",
              "  <button class=\"colab-df-quickchart\" onclick=\"quickchart('df-f3dce734-426f-46e1-ba29-c53cc907275d')\"\n",
              "            title=\"Suggest charts\"\n",
              "            style=\"display:none;\">\n",
              "\n",
              "<svg xmlns=\"http://www.w3.org/2000/svg\" height=\"24px\"viewBox=\"0 0 24 24\"\n",
              "     width=\"24px\">\n",
              "    <g>\n",
              "        <path d=\"M19 3H5c-1.1 0-2 .9-2 2v14c0 1.1.9 2 2 2h14c1.1 0 2-.9 2-2V5c0-1.1-.9-2-2-2zM9 17H7v-7h2v7zm4 0h-2V7h2v10zm4 0h-2v-4h2v4z\"/>\n",
              "    </g>\n",
              "</svg>\n",
              "  </button>\n",
              "\n",
              "<style>\n",
              "  .colab-df-quickchart {\n",
              "      --bg-color: #E8F0FE;\n",
              "      --fill-color: #1967D2;\n",
              "      --hover-bg-color: #E2EBFA;\n",
              "      --hover-fill-color: #174EA6;\n",
              "      --disabled-fill-color: #AAA;\n",
              "      --disabled-bg-color: #DDD;\n",
              "  }\n",
              "\n",
              "  [theme=dark] .colab-df-quickchart {\n",
              "      --bg-color: #3B4455;\n",
              "      --fill-color: #D2E3FC;\n",
              "      --hover-bg-color: #434B5C;\n",
              "      --hover-fill-color: #FFFFFF;\n",
              "      --disabled-bg-color: #3B4455;\n",
              "      --disabled-fill-color: #666;\n",
              "  }\n",
              "\n",
              "  .colab-df-quickchart {\n",
              "    background-color: var(--bg-color);\n",
              "    border: none;\n",
              "    border-radius: 50%;\n",
              "    cursor: pointer;\n",
              "    display: none;\n",
              "    fill: var(--fill-color);\n",
              "    height: 32px;\n",
              "    padding: 0;\n",
              "    width: 32px;\n",
              "  }\n",
              "\n",
              "  .colab-df-quickchart:hover {\n",
              "    background-color: var(--hover-bg-color);\n",
              "    box-shadow: 0 1px 2px rgba(60, 64, 67, 0.3), 0 1px 3px 1px rgba(60, 64, 67, 0.15);\n",
              "    fill: var(--button-hover-fill-color);\n",
              "  }\n",
              "\n",
              "  .colab-df-quickchart-complete:disabled,\n",
              "  .colab-df-quickchart-complete:disabled:hover {\n",
              "    background-color: var(--disabled-bg-color);\n",
              "    fill: var(--disabled-fill-color);\n",
              "    box-shadow: none;\n",
              "  }\n",
              "\n",
              "  .colab-df-spinner {\n",
              "    border: 2px solid var(--fill-color);\n",
              "    border-color: transparent;\n",
              "    border-bottom-color: var(--fill-color);\n",
              "    animation:\n",
              "      spin 1s steps(1) infinite;\n",
              "  }\n",
              "\n",
              "  @keyframes spin {\n",
              "    0% {\n",
              "      border-color: transparent;\n",
              "      border-bottom-color: var(--fill-color);\n",
              "      border-left-color: var(--fill-color);\n",
              "    }\n",
              "    20% {\n",
              "      border-color: transparent;\n",
              "      border-left-color: var(--fill-color);\n",
              "      border-top-color: var(--fill-color);\n",
              "    }\n",
              "    30% {\n",
              "      border-color: transparent;\n",
              "      border-left-color: var(--fill-color);\n",
              "      border-top-color: var(--fill-color);\n",
              "      border-right-color: var(--fill-color);\n",
              "    }\n",
              "    40% {\n",
              "      border-color: transparent;\n",
              "      border-right-color: var(--fill-color);\n",
              "      border-top-color: var(--fill-color);\n",
              "    }\n",
              "    60% {\n",
              "      border-color: transparent;\n",
              "      border-right-color: var(--fill-color);\n",
              "    }\n",
              "    80% {\n",
              "      border-color: transparent;\n",
              "      border-right-color: var(--fill-color);\n",
              "      border-bottom-color: var(--fill-color);\n",
              "    }\n",
              "    90% {\n",
              "      border-color: transparent;\n",
              "      border-bottom-color: var(--fill-color);\n",
              "    }\n",
              "  }\n",
              "</style>\n",
              "\n",
              "  <script>\n",
              "    async function quickchart(key) {\n",
              "      const quickchartButtonEl =\n",
              "        document.querySelector('#' + key + ' button');\n",
              "      quickchartButtonEl.disabled = true;  // To prevent multiple clicks.\n",
              "      quickchartButtonEl.classList.add('colab-df-spinner');\n",
              "      try {\n",
              "        const charts = await google.colab.kernel.invokeFunction(\n",
              "            'suggestCharts', [key], {});\n",
              "      } catch (error) {\n",
              "        console.error('Error during call to suggestCharts:', error);\n",
              "      }\n",
              "      quickchartButtonEl.classList.remove('colab-df-spinner');\n",
              "      quickchartButtonEl.classList.add('colab-df-quickchart-complete');\n",
              "    }\n",
              "    (() => {\n",
              "      let quickchartButtonEl =\n",
              "        document.querySelector('#df-f3dce734-426f-46e1-ba29-c53cc907275d button');\n",
              "      quickchartButtonEl.style.display =\n",
              "        google.colab.kernel.accessAllowed ? 'block' : 'none';\n",
              "    })();\n",
              "  </script>\n",
              "</div>\n",
              "    </div>\n",
              "  </div>\n"
            ],
            "text/plain": [
              "         Feature Id  Importances\n",
              "0            MGR_ID    31.659932\n",
              "1          RESOURCE    17.171955\n",
              "2  ROLE_FAMILY_DESC    12.332457\n",
              "3     ROLE_DEPTNAME    10.864216\n",
              "4         ROLE_CODE     8.994698\n",
              "5     ROLE_ROLLUP_2     8.847865\n",
              "6     ROLE_ROLLUP_1     5.537394\n",
              "7        ROLE_TITLE     2.484312\n",
              "8       ROLE_FAMILY     2.107171"
            ]
          },
          "execution_count": 76,
          "metadata": {},
          "output_type": "execute_result"
        }
      ],
      "source": [
        "model.get_feature_importance(prettified=True)"
      ]
    },
    {
      "cell_type": "markdown",
      "id": "ba9a6ec5-5d5b-4203-91d7-ad49064c50b3",
      "metadata": {
        "id": "ba9a6ec5-5d5b-4203-91d7-ad49064c50b3"
      },
      "source": [
        "Сохранение модели"
      ]
    },
    {
      "cell_type": "code",
      "execution_count": null,
      "id": "56e3c06b-39db-480e-95a6-0ca14547b534",
      "metadata": {
        "id": "56e3c06b-39db-480e-95a6-0ca14547b534"
      },
      "outputs": [],
      "source": [
        "my_best_model = CatBoostClassifier(iterations=10)\n",
        "my_best_model.fit(\n",
        "    X_train, y_train,\n",
        "    eval_set=(X_validation, y_validation),\n",
        "    cat_features=cat_features,\n",
        "    verbose=False\n",
        ")\n",
        "my_best_model.save_model('catboost_model.bin')\n",
        "my_best_model.save_model('catboost_model.json', format='json')"
      ]
    },
    {
      "cell_type": "code",
      "execution_count": null,
      "id": "23203140-68a7-4baa-94e0-3f5d6e10c5de",
      "metadata": {
        "colab": {
          "base_uri": "https://localhost:8080/"
        },
        "id": "23203140-68a7-4baa-94e0-3f5d6e10c5de",
        "outputId": "0ed011f6-8da0-4923-959e-64d7d07221ce"
      },
      "outputs": [
        {
          "name": "stdout",
          "output_type": "stream",
          "text": [
            "{'iterations': 10, 'loss_function': 'Logloss', 'verbose': 0}\n",
            "0\n"
          ]
        }
      ],
      "source": [
        "my_best_model.load_model('catboost_model.bin')\n",
        "print(my_best_model.get_params())\n",
        "print(my_best_model.random_seed_)"
      ]
    },
    {
      "cell_type": "markdown",
      "id": "dec3830c-c7b7-47e2-b82e-d19897724245",
      "metadata": {
        "id": "dec3830c-c7b7-47e2-b82e-d19897724245"
      },
      "source": [
        "#### Настройка гиперпараметров"
      ]
    },
    {
      "cell_type": "markdown",
      "id": "3855d7a1-c6bf-4c50-8ccd-edf07b611254",
      "metadata": {
        "id": "3855d7a1-c6bf-4c50-8ccd-edf07b611254"
      },
      "source": [
        "Скорость обучения"
      ]
    },
    {
      "cell_type": "code",
      "execution_count": null,
      "id": "6e1d2a74-f102-49fa-a5d2-65848401c373",
      "metadata": {
        "colab": {
          "base_uri": "https://localhost:8080/"
        },
        "id": "6e1d2a74-f102-49fa-a5d2-65848401c373",
        "outputId": "001e1059-3782-4012-d9fa-5984764db614"
      },
      "outputs": [
        {
          "data": {
            "text/plain": [
              "<catboost.core.CatBoostClassifier at 0x7d83bd5ddf90>"
            ]
          },
          "execution_count": 79,
          "metadata": {},
          "output_type": "execute_result"
        }
      ],
      "source": [
        "from catboost import CatBoost\n",
        "fast_model = CatBoostClassifier(\n",
        "    random_seed=63,\n",
        "    iterations=150,\n",
        "    learning_rate=0.01,\n",
        "    boosting_type='Plain',\n",
        "    bootstrap_type='Bernoulli',\n",
        "    subsample=0.5,\n",
        "    one_hot_max_size=20,\n",
        "    rsm=0.5,\n",
        "    leaf_estimation_iterations=5,\n",
        "    max_ctr_complexity=1)\n",
        "\n",
        "fast_model.fit(\n",
        "    X_train, y_train,\n",
        "    cat_features=cat_features,\n",
        "    verbose=False\n",
        ")"
      ]
    },
    {
      "cell_type": "markdown",
      "id": "318d66f5-15a4-47fe-8c73-305e8070200b",
      "metadata": {
        "id": "318d66f5-15a4-47fe-8c73-305e8070200b"
      },
      "source": [
        "Точность"
      ]
    },
    {
      "cell_type": "code",
      "execution_count": null,
      "id": "9d235ef5-dd5f-46de-8c72-c8e4b6e10c0f",
      "metadata": {
        "colab": {
          "base_uri": "https://localhost:8080/"
        },
        "id": "9d235ef5-dd5f-46de-8c72-c8e4b6e10c0f",
        "outputId": "13972321-92ee-42c3-aa56-23a9972651e0"
      },
      "outputs": [
        {
          "data": {
            "text/plain": [
              "<catboost.core.CatBoostClassifier at 0x7d83bd5df700>"
            ]
          },
          "execution_count": 80,
          "metadata": {},
          "output_type": "execute_result"
        }
      ],
      "source": [
        "tunned_model = CatBoostClassifier(\n",
        "    random_seed=63,\n",
        "    iterations=1000,\n",
        "    learning_rate=0.03,\n",
        "    l2_leaf_reg=3,\n",
        "    bagging_temperature=1,\n",
        "    random_strength=1,\n",
        "    one_hot_max_size=2,\n",
        "    leaf_estimation_method='Newton'\n",
        ")\n",
        "tunned_model.fit(\n",
        "    X_train, y_train,\n",
        "    cat_features=cat_features,\n",
        "    verbose=False,\n",
        "    eval_set=(X_validation, y_validation)\n",
        ")"
      ]
    },
    {
      "cell_type": "markdown",
      "id": "c26c0b97-4b35-4392-8fa7-e7408ba284a0",
      "metadata": {
        "id": "c26c0b97-4b35-4392-8fa7-e7408ba284a0"
      },
      "source": [
        "# Задание\n",
        "\n",
        "Решите задачу с данными train_small.csv, test_small.csv с помощью CatBoost, xgboost и LightGBM. Найдите оптимальные параметры. Сравните скорость обучения и качество."
      ]
    },
    {
      "cell_type": "markdown",
      "id": "Ii5l2jwAoSqu",
      "metadata": {
        "id": "Ii5l2jwAoSqu"
      },
      "source": [
        "Начну последовательное решение этой задачи с помощью Бустинга. Для начала рассмотрю XGboost. Сначала установлю его сюда."
      ]
    },
    {
      "cell_type": "code",
      "execution_count": null,
      "id": "IdUh56PRn-T4",
      "metadata": {
        "colab": {
          "base_uri": "https://localhost:8080/"
        },
        "id": "IdUh56PRn-T4",
        "outputId": "dd41c8f8-965a-43cd-8cb3-22703ee85c43"
      },
      "outputs": [
        {
          "name": "stdout",
          "output_type": "stream",
          "text": [
            "Requirement already satisfied: xgboost in /usr/local/lib/python3.10/dist-packages (2.0.3)\n",
            "Requirement already satisfied: numpy in /usr/local/lib/python3.10/dist-packages (from xgboost) (1.25.2)\n",
            "Requirement already satisfied: scipy in /usr/local/lib/python3.10/dist-packages (from xgboost) (1.11.4)\n"
          ]
        }
      ],
      "source": [
        "!pip install xgboost\n",
        "#!pip install catboost\n",
        "#!pip install lightgbm"
      ]
    },
    {
      "cell_type": "code",
      "execution_count": null,
      "id": "_ZkRzwIeW-V0",
      "metadata": {
        "colab": {
          "base_uri": "https://localhost:8080/",
          "height": 35
        },
        "id": "_ZkRzwIeW-V0",
        "outputId": "f9b9c9f7-5883-4c98-9511-efe12afc9f18"
      },
      "outputs": [
        {
          "data": {
            "application/vnd.google.colaboratory.intrinsic+json": {
              "type": "string"
            },
            "text/plain": [
              "'2.0.3'"
            ]
          },
          "execution_count": 59,
          "metadata": {},
          "output_type": "execute_result"
        }
      ],
      "source": [
        "import xgboost as xgb\n",
        "xgb.__version__"
      ]
    },
    {
      "cell_type": "code",
      "execution_count": null,
      "id": "u_ow3_nfv8hP",
      "metadata": {
        "colab": {
          "base_uri": "https://localhost:8080/",
          "height": 273
        },
        "id": "u_ow3_nfv8hP",
        "outputId": "6fd17085-245e-4dcf-f5af-341baa6339a9"
      },
      "outputs": [
        {
          "data": {
            "application/vnd.google.colaboratory.intrinsic+json": {
              "type": "dataframe",
              "variable_name": "df"
            },
            "text/html": [
              "\n",
              "  <div id=\"df-b8bf464e-6713-4f1c-a027-21f4a6c4aea5\" class=\"colab-df-container\">\n",
              "    <div>\n",
              "<style scoped>\n",
              "    .dataframe tbody tr th:only-of-type {\n",
              "        vertical-align: middle;\n",
              "    }\n",
              "\n",
              "    .dataframe tbody tr th {\n",
              "        vertical-align: top;\n",
              "    }\n",
              "\n",
              "    .dataframe thead th {\n",
              "        text-align: right;\n",
              "    }\n",
              "</style>\n",
              "<table border=\"1\" class=\"dataframe\">\n",
              "  <thead>\n",
              "    <tr style=\"text-align: right;\">\n",
              "      <th></th>\n",
              "      <th>Unnamed: 0</th>\n",
              "      <th>Existing_EMI</th>\n",
              "      <th>Loan_Amount_Applied</th>\n",
              "      <th>Loan_Tenure_Applied</th>\n",
              "      <th>Monthly_Income</th>\n",
              "      <th>Var4</th>\n",
              "      <th>Var5</th>\n",
              "      <th>Age</th>\n",
              "      <th>EMI_Loan_Submitted_Missing</th>\n",
              "      <th>Interest_Rate_Missing</th>\n",
              "      <th>...</th>\n",
              "      <th>Var2_3</th>\n",
              "      <th>Var2_4</th>\n",
              "      <th>Var2_5</th>\n",
              "      <th>Var2_6</th>\n",
              "      <th>Mobile_Verified_0</th>\n",
              "      <th>Mobile_Verified_1</th>\n",
              "      <th>Source_0</th>\n",
              "      <th>Source_1</th>\n",
              "      <th>Source_2</th>\n",
              "      <th>Disbursed</th>\n",
              "    </tr>\n",
              "  </thead>\n",
              "  <tbody>\n",
              "    <tr>\n",
              "      <th>0</th>\n",
              "      <td>8161</td>\n",
              "      <td>0.0</td>\n",
              "      <td>250000.0</td>\n",
              "      <td>5.0</td>\n",
              "      <td>23200</td>\n",
              "      <td>2</td>\n",
              "      <td>3</td>\n",
              "      <td>28</td>\n",
              "      <td>1</td>\n",
              "      <td>1</td>\n",
              "      <td>...</td>\n",
              "      <td>0</td>\n",
              "      <td>0</td>\n",
              "      <td>0</td>\n",
              "      <td>0</td>\n",
              "      <td>0</td>\n",
              "      <td>1</td>\n",
              "      <td>0</td>\n",
              "      <td>1</td>\n",
              "      <td>0</td>\n",
              "      <td>0.0</td>\n",
              "    </tr>\n",
              "    <tr>\n",
              "      <th>1</th>\n",
              "      <td>77530</td>\n",
              "      <td>0.0</td>\n",
              "      <td>0.0</td>\n",
              "      <td>0.0</td>\n",
              "      <td>25000</td>\n",
              "      <td>0</td>\n",
              "      <td>0</td>\n",
              "      <td>33</td>\n",
              "      <td>1</td>\n",
              "      <td>1</td>\n",
              "      <td>...</td>\n",
              "      <td>0</td>\n",
              "      <td>0</td>\n",
              "      <td>0</td>\n",
              "      <td>1</td>\n",
              "      <td>0</td>\n",
              "      <td>1</td>\n",
              "      <td>1</td>\n",
              "      <td>0</td>\n",
              "      <td>0</td>\n",
              "      <td>0.0</td>\n",
              "    </tr>\n",
              "    <tr>\n",
              "      <th>2</th>\n",
              "      <td>80633</td>\n",
              "      <td>0.0</td>\n",
              "      <td>0.0</td>\n",
              "      <td>0.0</td>\n",
              "      <td>95000</td>\n",
              "      <td>3</td>\n",
              "      <td>7</td>\n",
              "      <td>39</td>\n",
              "      <td>1</td>\n",
              "      <td>1</td>\n",
              "      <td>...</td>\n",
              "      <td>0</td>\n",
              "      <td>0</td>\n",
              "      <td>0</td>\n",
              "      <td>1</td>\n",
              "      <td>0</td>\n",
              "      <td>1</td>\n",
              "      <td>1</td>\n",
              "      <td>0</td>\n",
              "      <td>0</td>\n",
              "      <td>0.0</td>\n",
              "    </tr>\n",
              "    <tr>\n",
              "      <th>3</th>\n",
              "      <td>45059</td>\n",
              "      <td>0.0</td>\n",
              "      <td>0.0</td>\n",
              "      <td>0.0</td>\n",
              "      <td>29880</td>\n",
              "      <td>5</td>\n",
              "      <td>3</td>\n",
              "      <td>28</td>\n",
              "      <td>0</td>\n",
              "      <td>0</td>\n",
              "      <td>...</td>\n",
              "      <td>0</td>\n",
              "      <td>0</td>\n",
              "      <td>0</td>\n",
              "      <td>0</td>\n",
              "      <td>0</td>\n",
              "      <td>1</td>\n",
              "      <td>0</td>\n",
              "      <td>1</td>\n",
              "      <td>0</td>\n",
              "      <td>0.0</td>\n",
              "    </tr>\n",
              "    <tr>\n",
              "      <th>4</th>\n",
              "      <td>54857</td>\n",
              "      <td>4500.0</td>\n",
              "      <td>100000.0</td>\n",
              "      <td>3.0</td>\n",
              "      <td>30000</td>\n",
              "      <td>5</td>\n",
              "      <td>10</td>\n",
              "      <td>26</td>\n",
              "      <td>0</td>\n",
              "      <td>0</td>\n",
              "      <td>...</td>\n",
              "      <td>0</td>\n",
              "      <td>0</td>\n",
              "      <td>0</td>\n",
              "      <td>1</td>\n",
              "      <td>0</td>\n",
              "      <td>1</td>\n",
              "      <td>1</td>\n",
              "      <td>0</td>\n",
              "      <td>0</td>\n",
              "      <td>0.0</td>\n",
              "    </tr>\n",
              "  </tbody>\n",
              "</table>\n",
              "<p>5 rows × 51 columns</p>\n",
              "</div>\n",
              "    <div class=\"colab-df-buttons\">\n",
              "\n",
              "  <div class=\"colab-df-container\">\n",
              "    <button class=\"colab-df-convert\" onclick=\"convertToInteractive('df-b8bf464e-6713-4f1c-a027-21f4a6c4aea5')\"\n",
              "            title=\"Convert this dataframe to an interactive table.\"\n",
              "            style=\"display:none;\">\n",
              "\n",
              "  <svg xmlns=\"http://www.w3.org/2000/svg\" height=\"24px\" viewBox=\"0 -960 960 960\">\n",
              "    <path d=\"M120-120v-720h720v720H120Zm60-500h600v-160H180v160Zm220 220h160v-160H400v160Zm0 220h160v-160H400v160ZM180-400h160v-160H180v160Zm440 0h160v-160H620v160ZM180-180h160v-160H180v160Zm440 0h160v-160H620v160Z\"/>\n",
              "  </svg>\n",
              "    </button>\n",
              "\n",
              "  <style>\n",
              "    .colab-df-container {\n",
              "      display:flex;\n",
              "      gap: 12px;\n",
              "    }\n",
              "\n",
              "    .colab-df-convert {\n",
              "      background-color: #E8F0FE;\n",
              "      border: none;\n",
              "      border-radius: 50%;\n",
              "      cursor: pointer;\n",
              "      display: none;\n",
              "      fill: #1967D2;\n",
              "      height: 32px;\n",
              "      padding: 0 0 0 0;\n",
              "      width: 32px;\n",
              "    }\n",
              "\n",
              "    .colab-df-convert:hover {\n",
              "      background-color: #E2EBFA;\n",
              "      box-shadow: 0px 1px 2px rgba(60, 64, 67, 0.3), 0px 1px 3px 1px rgba(60, 64, 67, 0.15);\n",
              "      fill: #174EA6;\n",
              "    }\n",
              "\n",
              "    .colab-df-buttons div {\n",
              "      margin-bottom: 4px;\n",
              "    }\n",
              "\n",
              "    [theme=dark] .colab-df-convert {\n",
              "      background-color: #3B4455;\n",
              "      fill: #D2E3FC;\n",
              "    }\n",
              "\n",
              "    [theme=dark] .colab-df-convert:hover {\n",
              "      background-color: #434B5C;\n",
              "      box-shadow: 0px 1px 3px 1px rgba(0, 0, 0, 0.15);\n",
              "      filter: drop-shadow(0px 1px 2px rgba(0, 0, 0, 0.3));\n",
              "      fill: #FFFFFF;\n",
              "    }\n",
              "  </style>\n",
              "\n",
              "    <script>\n",
              "      const buttonEl =\n",
              "        document.querySelector('#df-b8bf464e-6713-4f1c-a027-21f4a6c4aea5 button.colab-df-convert');\n",
              "      buttonEl.style.display =\n",
              "        google.colab.kernel.accessAllowed ? 'block' : 'none';\n",
              "\n",
              "      async function convertToInteractive(key) {\n",
              "        const element = document.querySelector('#df-b8bf464e-6713-4f1c-a027-21f4a6c4aea5');\n",
              "        const dataTable =\n",
              "          await google.colab.kernel.invokeFunction('convertToInteractive',\n",
              "                                                    [key], {});\n",
              "        if (!dataTable) return;\n",
              "\n",
              "        const docLinkHtml = 'Like what you see? Visit the ' +\n",
              "          '<a target=\"_blank\" href=https://colab.research.google.com/notebooks/data_table.ipynb>data table notebook</a>'\n",
              "          + ' to learn more about interactive tables.';\n",
              "        element.innerHTML = '';\n",
              "        dataTable['output_type'] = 'display_data';\n",
              "        await google.colab.output.renderOutput(dataTable, element);\n",
              "        const docLink = document.createElement('div');\n",
              "        docLink.innerHTML = docLinkHtml;\n",
              "        element.appendChild(docLink);\n",
              "      }\n",
              "    </script>\n",
              "  </div>\n",
              "\n",
              "\n",
              "<div id=\"df-4d00f2c9-86c8-4a7d-ad75-905aec766b41\">\n",
              "  <button class=\"colab-df-quickchart\" onclick=\"quickchart('df-4d00f2c9-86c8-4a7d-ad75-905aec766b41')\"\n",
              "            title=\"Suggest charts\"\n",
              "            style=\"display:none;\">\n",
              "\n",
              "<svg xmlns=\"http://www.w3.org/2000/svg\" height=\"24px\"viewBox=\"0 0 24 24\"\n",
              "     width=\"24px\">\n",
              "    <g>\n",
              "        <path d=\"M19 3H5c-1.1 0-2 .9-2 2v14c0 1.1.9 2 2 2h14c1.1 0 2-.9 2-2V5c0-1.1-.9-2-2-2zM9 17H7v-7h2v7zm4 0h-2V7h2v10zm4 0h-2v-4h2v4z\"/>\n",
              "    </g>\n",
              "</svg>\n",
              "  </button>\n",
              "\n",
              "<style>\n",
              "  .colab-df-quickchart {\n",
              "      --bg-color: #E8F0FE;\n",
              "      --fill-color: #1967D2;\n",
              "      --hover-bg-color: #E2EBFA;\n",
              "      --hover-fill-color: #174EA6;\n",
              "      --disabled-fill-color: #AAA;\n",
              "      --disabled-bg-color: #DDD;\n",
              "  }\n",
              "\n",
              "  [theme=dark] .colab-df-quickchart {\n",
              "      --bg-color: #3B4455;\n",
              "      --fill-color: #D2E3FC;\n",
              "      --hover-bg-color: #434B5C;\n",
              "      --hover-fill-color: #FFFFFF;\n",
              "      --disabled-bg-color: #3B4455;\n",
              "      --disabled-fill-color: #666;\n",
              "  }\n",
              "\n",
              "  .colab-df-quickchart {\n",
              "    background-color: var(--bg-color);\n",
              "    border: none;\n",
              "    border-radius: 50%;\n",
              "    cursor: pointer;\n",
              "    display: none;\n",
              "    fill: var(--fill-color);\n",
              "    height: 32px;\n",
              "    padding: 0;\n",
              "    width: 32px;\n",
              "  }\n",
              "\n",
              "  .colab-df-quickchart:hover {\n",
              "    background-color: var(--hover-bg-color);\n",
              "    box-shadow: 0 1px 2px rgba(60, 64, 67, 0.3), 0 1px 3px 1px rgba(60, 64, 67, 0.15);\n",
              "    fill: var(--button-hover-fill-color);\n",
              "  }\n",
              "\n",
              "  .colab-df-quickchart-complete:disabled,\n",
              "  .colab-df-quickchart-complete:disabled:hover {\n",
              "    background-color: var(--disabled-bg-color);\n",
              "    fill: var(--disabled-fill-color);\n",
              "    box-shadow: none;\n",
              "  }\n",
              "\n",
              "  .colab-df-spinner {\n",
              "    border: 2px solid var(--fill-color);\n",
              "    border-color: transparent;\n",
              "    border-bottom-color: var(--fill-color);\n",
              "    animation:\n",
              "      spin 1s steps(1) infinite;\n",
              "  }\n",
              "\n",
              "  @keyframes spin {\n",
              "    0% {\n",
              "      border-color: transparent;\n",
              "      border-bottom-color: var(--fill-color);\n",
              "      border-left-color: var(--fill-color);\n",
              "    }\n",
              "    20% {\n",
              "      border-color: transparent;\n",
              "      border-left-color: var(--fill-color);\n",
              "      border-top-color: var(--fill-color);\n",
              "    }\n",
              "    30% {\n",
              "      border-color: transparent;\n",
              "      border-left-color: var(--fill-color);\n",
              "      border-top-color: var(--fill-color);\n",
              "      border-right-color: var(--fill-color);\n",
              "    }\n",
              "    40% {\n",
              "      border-color: transparent;\n",
              "      border-right-color: var(--fill-color);\n",
              "      border-top-color: var(--fill-color);\n",
              "    }\n",
              "    60% {\n",
              "      border-color: transparent;\n",
              "      border-right-color: var(--fill-color);\n",
              "    }\n",
              "    80% {\n",
              "      border-color: transparent;\n",
              "      border-right-color: var(--fill-color);\n",
              "      border-bottom-color: var(--fill-color);\n",
              "    }\n",
              "    90% {\n",
              "      border-color: transparent;\n",
              "      border-bottom-color: var(--fill-color);\n",
              "    }\n",
              "  }\n",
              "</style>\n",
              "\n",
              "  <script>\n",
              "    async function quickchart(key) {\n",
              "      const quickchartButtonEl =\n",
              "        document.querySelector('#' + key + ' button');\n",
              "      quickchartButtonEl.disabled = true;  // To prevent multiple clicks.\n",
              "      quickchartButtonEl.classList.add('colab-df-spinner');\n",
              "      try {\n",
              "        const charts = await google.colab.kernel.invokeFunction(\n",
              "            'suggestCharts', [key], {});\n",
              "      } catch (error) {\n",
              "        console.error('Error during call to suggestCharts:', error);\n",
              "      }\n",
              "      quickchartButtonEl.classList.remove('colab-df-spinner');\n",
              "      quickchartButtonEl.classList.add('colab-df-quickchart-complete');\n",
              "    }\n",
              "    (() => {\n",
              "      let quickchartButtonEl =\n",
              "        document.querySelector('#df-4d00f2c9-86c8-4a7d-ad75-905aec766b41 button');\n",
              "      quickchartButtonEl.style.display =\n",
              "        google.colab.kernel.accessAllowed ? 'block' : 'none';\n",
              "    })();\n",
              "  </script>\n",
              "</div>\n",
              "    </div>\n",
              "  </div>\n"
            ],
            "text/plain": [
              "   Unnamed: 0  Existing_EMI  Loan_Amount_Applied  Loan_Tenure_Applied  \\\n",
              "0        8161           0.0             250000.0                  5.0   \n",
              "1       77530           0.0                  0.0                  0.0   \n",
              "2       80633           0.0                  0.0                  0.0   \n",
              "3       45059           0.0                  0.0                  0.0   \n",
              "4       54857        4500.0             100000.0                  3.0   \n",
              "\n",
              "   Monthly_Income  Var4  Var5  Age  EMI_Loan_Submitted_Missing  \\\n",
              "0           23200     2     3   28                           1   \n",
              "1           25000     0     0   33                           1   \n",
              "2           95000     3     7   39                           1   \n",
              "3           29880     5     3   28                           0   \n",
              "4           30000     5    10   26                           0   \n",
              "\n",
              "   Interest_Rate_Missing  ...  Var2_3  Var2_4  Var2_5  Var2_6  \\\n",
              "0                      1  ...       0       0       0       0   \n",
              "1                      1  ...       0       0       0       1   \n",
              "2                      1  ...       0       0       0       1   \n",
              "3                      0  ...       0       0       0       0   \n",
              "4                      0  ...       0       0       0       1   \n",
              "\n",
              "   Mobile_Verified_0  Mobile_Verified_1  Source_0  Source_1  Source_2  \\\n",
              "0                  0                  1         0         1         0   \n",
              "1                  0                  1         1         0         0   \n",
              "2                  0                  1         1         0         0   \n",
              "3                  0                  1         0         1         0   \n",
              "4                  0                  1         1         0         0   \n",
              "\n",
              "   Disbursed  \n",
              "0        0.0  \n",
              "1        0.0  \n",
              "2        0.0  \n",
              "3        0.0  \n",
              "4        0.0  \n",
              "\n",
              "[5 rows x 51 columns]"
            ]
          },
          "execution_count": 60,
          "metadata": {},
          "output_type": "execute_result"
        }
      ],
      "source": [
        "import pandas as pd\n",
        "df = pd.read_csv('train_small.csv')\n",
        "df.head()"
      ]
    },
    {
      "cell_type": "code",
      "execution_count": null,
      "id": "vc-hD9ND0Dna",
      "metadata": {
        "colab": {
          "base_uri": "https://localhost:8080/",
          "height": 273
        },
        "id": "vc-hD9ND0Dna",
        "outputId": "e23d154e-b256-43fa-db53-62a023f21b2b"
      },
      "outputs": [
        {
          "data": {
            "application/vnd.google.colaboratory.intrinsic+json": {
              "type": "dataframe",
              "variable_name": "df"
            },
            "text/html": [
              "\n",
              "  <div id=\"df-2a74514d-15b1-413c-aa34-190bfa0ba911\" class=\"colab-df-container\">\n",
              "    <div>\n",
              "<style scoped>\n",
              "    .dataframe tbody tr th:only-of-type {\n",
              "        vertical-align: middle;\n",
              "    }\n",
              "\n",
              "    .dataframe tbody tr th {\n",
              "        vertical-align: top;\n",
              "    }\n",
              "\n",
              "    .dataframe thead th {\n",
              "        text-align: right;\n",
              "    }\n",
              "</style>\n",
              "<table border=\"1\" class=\"dataframe\">\n",
              "  <thead>\n",
              "    <tr style=\"text-align: right;\">\n",
              "      <th></th>\n",
              "      <th>Unnamed: 0</th>\n",
              "      <th>Existing_EMI</th>\n",
              "      <th>Loan_Amount_Applied</th>\n",
              "      <th>Loan_Tenure_Applied</th>\n",
              "      <th>Monthly_Income</th>\n",
              "      <th>Var4</th>\n",
              "      <th>Var5</th>\n",
              "      <th>Age</th>\n",
              "      <th>EMI_Loan_Submitted_Missing</th>\n",
              "      <th>Interest_Rate_Missing</th>\n",
              "      <th>...</th>\n",
              "      <th>Var2_3</th>\n",
              "      <th>Var2_4</th>\n",
              "      <th>Var2_5</th>\n",
              "      <th>Var2_6</th>\n",
              "      <th>Mobile_Verified_0</th>\n",
              "      <th>Mobile_Verified_1</th>\n",
              "      <th>Source_0</th>\n",
              "      <th>Source_1</th>\n",
              "      <th>Source_2</th>\n",
              "      <th>Disbursed</th>\n",
              "    </tr>\n",
              "  </thead>\n",
              "  <tbody>\n",
              "    <tr>\n",
              "      <th>0</th>\n",
              "      <td>35478</td>\n",
              "      <td>0.0</td>\n",
              "      <td>300000.0</td>\n",
              "      <td>5.0</td>\n",
              "      <td>34000</td>\n",
              "      <td>3</td>\n",
              "      <td>10</td>\n",
              "      <td>32</td>\n",
              "      <td>0</td>\n",
              "      <td>0</td>\n",
              "      <td>...</td>\n",
              "      <td>0</td>\n",
              "      <td>0</td>\n",
              "      <td>0</td>\n",
              "      <td>0</td>\n",
              "      <td>0</td>\n",
              "      <td>1</td>\n",
              "      <td>0</td>\n",
              "      <td>1</td>\n",
              "      <td>0</td>\n",
              "      <td>1.0</td>\n",
              "    </tr>\n",
              "    <tr>\n",
              "      <th>1</th>\n",
              "      <td>68483</td>\n",
              "      <td>0.0</td>\n",
              "      <td>160000.0</td>\n",
              "      <td>0.0</td>\n",
              "      <td>23000</td>\n",
              "      <td>7</td>\n",
              "      <td>0</td>\n",
              "      <td>31</td>\n",
              "      <td>1</td>\n",
              "      <td>1</td>\n",
              "      <td>...</td>\n",
              "      <td>0</td>\n",
              "      <td>0</td>\n",
              "      <td>0</td>\n",
              "      <td>1</td>\n",
              "      <td>1</td>\n",
              "      <td>0</td>\n",
              "      <td>1</td>\n",
              "      <td>0</td>\n",
              "      <td>0</td>\n",
              "      <td>0.0</td>\n",
              "    </tr>\n",
              "    <tr>\n",
              "      <th>2</th>\n",
              "      <td>74927</td>\n",
              "      <td>0.0</td>\n",
              "      <td>200000.0</td>\n",
              "      <td>4.0</td>\n",
              "      <td>13000</td>\n",
              "      <td>4</td>\n",
              "      <td>1</td>\n",
              "      <td>27</td>\n",
              "      <td>0</td>\n",
              "      <td>0</td>\n",
              "      <td>...</td>\n",
              "      <td>0</td>\n",
              "      <td>0</td>\n",
              "      <td>0</td>\n",
              "      <td>1</td>\n",
              "      <td>0</td>\n",
              "      <td>1</td>\n",
              "      <td>1</td>\n",
              "      <td>0</td>\n",
              "      <td>0</td>\n",
              "      <td>0.0</td>\n",
              "    </tr>\n",
              "    <tr>\n",
              "      <th>3</th>\n",
              "      <td>83034</td>\n",
              "      <td>5000.0</td>\n",
              "      <td>500000.0</td>\n",
              "      <td>5.0</td>\n",
              "      <td>50000</td>\n",
              "      <td>5</td>\n",
              "      <td>16</td>\n",
              "      <td>29</td>\n",
              "      <td>0</td>\n",
              "      <td>0</td>\n",
              "      <td>...</td>\n",
              "      <td>0</td>\n",
              "      <td>0</td>\n",
              "      <td>0</td>\n",
              "      <td>1</td>\n",
              "      <td>0</td>\n",
              "      <td>1</td>\n",
              "      <td>1</td>\n",
              "      <td>0</td>\n",
              "      <td>0</td>\n",
              "      <td>0.0</td>\n",
              "    </tr>\n",
              "    <tr>\n",
              "      <th>4</th>\n",
              "      <td>82929</td>\n",
              "      <td>9000.0</td>\n",
              "      <td>300000.0</td>\n",
              "      <td>0.0</td>\n",
              "      <td>28500</td>\n",
              "      <td>4</td>\n",
              "      <td>8</td>\n",
              "      <td>30</td>\n",
              "      <td>0</td>\n",
              "      <td>0</td>\n",
              "      <td>...</td>\n",
              "      <td>0</td>\n",
              "      <td>0</td>\n",
              "      <td>0</td>\n",
              "      <td>1</td>\n",
              "      <td>0</td>\n",
              "      <td>1</td>\n",
              "      <td>1</td>\n",
              "      <td>0</td>\n",
              "      <td>0</td>\n",
              "      <td>0.0</td>\n",
              "    </tr>\n",
              "  </tbody>\n",
              "</table>\n",
              "<p>5 rows × 51 columns</p>\n",
              "</div>\n",
              "    <div class=\"colab-df-buttons\">\n",
              "\n",
              "  <div class=\"colab-df-container\">\n",
              "    <button class=\"colab-df-convert\" onclick=\"convertToInteractive('df-2a74514d-15b1-413c-aa34-190bfa0ba911')\"\n",
              "            title=\"Convert this dataframe to an interactive table.\"\n",
              "            style=\"display:none;\">\n",
              "\n",
              "  <svg xmlns=\"http://www.w3.org/2000/svg\" height=\"24px\" viewBox=\"0 -960 960 960\">\n",
              "    <path d=\"M120-120v-720h720v720H120Zm60-500h600v-160H180v160Zm220 220h160v-160H400v160Zm0 220h160v-160H400v160ZM180-400h160v-160H180v160Zm440 0h160v-160H620v160ZM180-180h160v-160H180v160Zm440 0h160v-160H620v160Z\"/>\n",
              "  </svg>\n",
              "    </button>\n",
              "\n",
              "  <style>\n",
              "    .colab-df-container {\n",
              "      display:flex;\n",
              "      gap: 12px;\n",
              "    }\n",
              "\n",
              "    .colab-df-convert {\n",
              "      background-color: #E8F0FE;\n",
              "      border: none;\n",
              "      border-radius: 50%;\n",
              "      cursor: pointer;\n",
              "      display: none;\n",
              "      fill: #1967D2;\n",
              "      height: 32px;\n",
              "      padding: 0 0 0 0;\n",
              "      width: 32px;\n",
              "    }\n",
              "\n",
              "    .colab-df-convert:hover {\n",
              "      background-color: #E2EBFA;\n",
              "      box-shadow: 0px 1px 2px rgba(60, 64, 67, 0.3), 0px 1px 3px 1px rgba(60, 64, 67, 0.15);\n",
              "      fill: #174EA6;\n",
              "    }\n",
              "\n",
              "    .colab-df-buttons div {\n",
              "      margin-bottom: 4px;\n",
              "    }\n",
              "\n",
              "    [theme=dark] .colab-df-convert {\n",
              "      background-color: #3B4455;\n",
              "      fill: #D2E3FC;\n",
              "    }\n",
              "\n",
              "    [theme=dark] .colab-df-convert:hover {\n",
              "      background-color: #434B5C;\n",
              "      box-shadow: 0px 1px 3px 1px rgba(0, 0, 0, 0.15);\n",
              "      filter: drop-shadow(0px 1px 2px rgba(0, 0, 0, 0.3));\n",
              "      fill: #FFFFFF;\n",
              "    }\n",
              "  </style>\n",
              "\n",
              "    <script>\n",
              "      const buttonEl =\n",
              "        document.querySelector('#df-2a74514d-15b1-413c-aa34-190bfa0ba911 button.colab-df-convert');\n",
              "      buttonEl.style.display =\n",
              "        google.colab.kernel.accessAllowed ? 'block' : 'none';\n",
              "\n",
              "      async function convertToInteractive(key) {\n",
              "        const element = document.querySelector('#df-2a74514d-15b1-413c-aa34-190bfa0ba911');\n",
              "        const dataTable =\n",
              "          await google.colab.kernel.invokeFunction('convertToInteractive',\n",
              "                                                    [key], {});\n",
              "        if (!dataTable) return;\n",
              "\n",
              "        const docLinkHtml = 'Like what you see? Visit the ' +\n",
              "          '<a target=\"_blank\" href=https://colab.research.google.com/notebooks/data_table.ipynb>data table notebook</a>'\n",
              "          + ' to learn more about interactive tables.';\n",
              "        element.innerHTML = '';\n",
              "        dataTable['output_type'] = 'display_data';\n",
              "        await google.colab.output.renderOutput(dataTable, element);\n",
              "        const docLink = document.createElement('div');\n",
              "        docLink.innerHTML = docLinkHtml;\n",
              "        element.appendChild(docLink);\n",
              "      }\n",
              "    </script>\n",
              "  </div>\n",
              "\n",
              "\n",
              "<div id=\"df-5e13b782-d33d-4ef4-b2ef-610a582c6ca3\">\n",
              "  <button class=\"colab-df-quickchart\" onclick=\"quickchart('df-5e13b782-d33d-4ef4-b2ef-610a582c6ca3')\"\n",
              "            title=\"Suggest charts\"\n",
              "            style=\"display:none;\">\n",
              "\n",
              "<svg xmlns=\"http://www.w3.org/2000/svg\" height=\"24px\"viewBox=\"0 0 24 24\"\n",
              "     width=\"24px\">\n",
              "    <g>\n",
              "        <path d=\"M19 3H5c-1.1 0-2 .9-2 2v14c0 1.1.9 2 2 2h14c1.1 0 2-.9 2-2V5c0-1.1-.9-2-2-2zM9 17H7v-7h2v7zm4 0h-2V7h2v10zm4 0h-2v-4h2v4z\"/>\n",
              "    </g>\n",
              "</svg>\n",
              "  </button>\n",
              "\n",
              "<style>\n",
              "  .colab-df-quickchart {\n",
              "      --bg-color: #E8F0FE;\n",
              "      --fill-color: #1967D2;\n",
              "      --hover-bg-color: #E2EBFA;\n",
              "      --hover-fill-color: #174EA6;\n",
              "      --disabled-fill-color: #AAA;\n",
              "      --disabled-bg-color: #DDD;\n",
              "  }\n",
              "\n",
              "  [theme=dark] .colab-df-quickchart {\n",
              "      --bg-color: #3B4455;\n",
              "      --fill-color: #D2E3FC;\n",
              "      --hover-bg-color: #434B5C;\n",
              "      --hover-fill-color: #FFFFFF;\n",
              "      --disabled-bg-color: #3B4455;\n",
              "      --disabled-fill-color: #666;\n",
              "  }\n",
              "\n",
              "  .colab-df-quickchart {\n",
              "    background-color: var(--bg-color);\n",
              "    border: none;\n",
              "    border-radius: 50%;\n",
              "    cursor: pointer;\n",
              "    display: none;\n",
              "    fill: var(--fill-color);\n",
              "    height: 32px;\n",
              "    padding: 0;\n",
              "    width: 32px;\n",
              "  }\n",
              "\n",
              "  .colab-df-quickchart:hover {\n",
              "    background-color: var(--hover-bg-color);\n",
              "    box-shadow: 0 1px 2px rgba(60, 64, 67, 0.3), 0 1px 3px 1px rgba(60, 64, 67, 0.15);\n",
              "    fill: var(--button-hover-fill-color);\n",
              "  }\n",
              "\n",
              "  .colab-df-quickchart-complete:disabled,\n",
              "  .colab-df-quickchart-complete:disabled:hover {\n",
              "    background-color: var(--disabled-bg-color);\n",
              "    fill: var(--disabled-fill-color);\n",
              "    box-shadow: none;\n",
              "  }\n",
              "\n",
              "  .colab-df-spinner {\n",
              "    border: 2px solid var(--fill-color);\n",
              "    border-color: transparent;\n",
              "    border-bottom-color: var(--fill-color);\n",
              "    animation:\n",
              "      spin 1s steps(1) infinite;\n",
              "  }\n",
              "\n",
              "  @keyframes spin {\n",
              "    0% {\n",
              "      border-color: transparent;\n",
              "      border-bottom-color: var(--fill-color);\n",
              "      border-left-color: var(--fill-color);\n",
              "    }\n",
              "    20% {\n",
              "      border-color: transparent;\n",
              "      border-left-color: var(--fill-color);\n",
              "      border-top-color: var(--fill-color);\n",
              "    }\n",
              "    30% {\n",
              "      border-color: transparent;\n",
              "      border-left-color: var(--fill-color);\n",
              "      border-top-color: var(--fill-color);\n",
              "      border-right-color: var(--fill-color);\n",
              "    }\n",
              "    40% {\n",
              "      border-color: transparent;\n",
              "      border-right-color: var(--fill-color);\n",
              "      border-top-color: var(--fill-color);\n",
              "    }\n",
              "    60% {\n",
              "      border-color: transparent;\n",
              "      border-right-color: var(--fill-color);\n",
              "    }\n",
              "    80% {\n",
              "      border-color: transparent;\n",
              "      border-right-color: var(--fill-color);\n",
              "      border-bottom-color: var(--fill-color);\n",
              "    }\n",
              "    90% {\n",
              "      border-color: transparent;\n",
              "      border-bottom-color: var(--fill-color);\n",
              "    }\n",
              "  }\n",
              "</style>\n",
              "\n",
              "  <script>\n",
              "    async function quickchart(key) {\n",
              "      const quickchartButtonEl =\n",
              "        document.querySelector('#' + key + ' button');\n",
              "      quickchartButtonEl.disabled = true;  // To prevent multiple clicks.\n",
              "      quickchartButtonEl.classList.add('colab-df-spinner');\n",
              "      try {\n",
              "        const charts = await google.colab.kernel.invokeFunction(\n",
              "            'suggestCharts', [key], {});\n",
              "      } catch (error) {\n",
              "        console.error('Error during call to suggestCharts:', error);\n",
              "      }\n",
              "      quickchartButtonEl.classList.remove('colab-df-spinner');\n",
              "      quickchartButtonEl.classList.add('colab-df-quickchart-complete');\n",
              "    }\n",
              "    (() => {\n",
              "      let quickchartButtonEl =\n",
              "        document.querySelector('#df-5e13b782-d33d-4ef4-b2ef-610a582c6ca3 button');\n",
              "      quickchartButtonEl.style.display =\n",
              "        google.colab.kernel.accessAllowed ? 'block' : 'none';\n",
              "    })();\n",
              "  </script>\n",
              "</div>\n",
              "    </div>\n",
              "  </div>\n"
            ],
            "text/plain": [
              "   Unnamed: 0  Existing_EMI  Loan_Amount_Applied  Loan_Tenure_Applied  \\\n",
              "0       35478           0.0             300000.0                  5.0   \n",
              "1       68483           0.0             160000.0                  0.0   \n",
              "2       74927           0.0             200000.0                  4.0   \n",
              "3       83034        5000.0             500000.0                  5.0   \n",
              "4       82929        9000.0             300000.0                  0.0   \n",
              "\n",
              "   Monthly_Income  Var4  Var5  Age  EMI_Loan_Submitted_Missing  \\\n",
              "0           34000     3    10   32                           0   \n",
              "1           23000     7     0   31                           1   \n",
              "2           13000     4     1   27                           0   \n",
              "3           50000     5    16   29                           0   \n",
              "4           28500     4     8   30                           0   \n",
              "\n",
              "   Interest_Rate_Missing  ...  Var2_3  Var2_4  Var2_5  Var2_6  \\\n",
              "0                      0  ...       0       0       0       0   \n",
              "1                      1  ...       0       0       0       1   \n",
              "2                      0  ...       0       0       0       1   \n",
              "3                      0  ...       0       0       0       1   \n",
              "4                      0  ...       0       0       0       1   \n",
              "\n",
              "   Mobile_Verified_0  Mobile_Verified_1  Source_0  Source_1  Source_2  \\\n",
              "0                  0                  1         0         1         0   \n",
              "1                  1                  0         1         0         0   \n",
              "2                  0                  1         1         0         0   \n",
              "3                  0                  1         1         0         0   \n",
              "4                  0                  1         1         0         0   \n",
              "\n",
              "   Disbursed  \n",
              "0        1.0  \n",
              "1        0.0  \n",
              "2        0.0  \n",
              "3        0.0  \n",
              "4        0.0  \n",
              "\n",
              "[5 rows x 51 columns]"
            ]
          },
          "execution_count": 61,
          "metadata": {},
          "output_type": "execute_result"
        }
      ],
      "source": [
        "df = pd.read_csv('test_small.csv')\n",
        "df.head()"
      ]
    },
    {
      "cell_type": "code",
      "execution_count": null,
      "id": "c1b0f74c-5c14-4730-865a-669ee4eebf00",
      "metadata": {
        "id": "c1b0f74c-5c14-4730-865a-669ee4eebf00"
      },
      "outputs": [],
      "source": [
        "X_train = pd.read_csv('train_small.csv')\n",
        "X_test = pd.read_csv('test_small.csv')\n",
        "ytrain = X_train['Disbursed']\n",
        "Xtrain = X_train.copy()\n",
        "del Xtrain['Disbursed']\n",
        "ytest = X_test['Disbursed']\n",
        "Xtest = X_test.copy()\n",
        "del Xtest['Disbursed']"
      ]
    },
    {
      "cell_type": "code",
      "execution_count": null,
      "id": "Omcn3pubXdp5",
      "metadata": {
        "id": "Omcn3pubXdp5"
      },
      "outputs": [],
      "source": [
        "from xgboost import XGBClassifier, XGBRegressor\n",
        "import warnings\n",
        "import numpy as np\n",
        "from sklearn.model_selection import KFold\n",
        "from sklearn.metrics import confusion_matrix, mean_squared_error\n",
        "rng = np.random.RandomState(31337)\n",
        "y_train = X_train['Disbursed']\n",
        "X_train = X_train.drop('Disbursed', axis=1)\n",
        "y_test = X_test['Disbursed']\n",
        "X_test = X_test.drop('Disbursed', axis=1)\n",
        "kf = KFold(n_splits=2, shuffle=True, random_state=rng) #kFold - кросс-валидация"
      ]
    },
    {
      "cell_type": "markdown",
      "id": "dGni-_MGaq6h",
      "metadata": {
        "id": "dGni-_MGaq6h"
      },
      "source": [
        "XgBoost предлагает 2 способа использования алгоритмов. Сделаю через sklearn-совместимые классы XGBClassifier, XGBRegressor.\n",
        "\n"
      ]
    },
    {
      "cell_type": "markdown",
      "id": "soHQSiI8G43I",
      "metadata": {
        "id": "soHQSiI8G43I"
      },
      "source": [
        "Нужно изменить X[train_index] и y[train_index] на X_train.iloc[train_index] и y_train.iloc[train_index], так как исходные данные у меня представлены как X_train и y_train."
      ]
    },
    {
      "cell_type": "code",
      "execution_count": null,
      "id": "yh-sVOa6a1qJ",
      "metadata": {
        "colab": {
          "base_uri": "https://localhost:8080/"
        },
        "id": "yh-sVOa6a1qJ",
        "outputId": "31098cc9-f99f-428c-f379-63bc28e6476b"
      },
      "outputs": [
        {
          "name": "stdout",
          "output_type": "stream",
          "text": [
            "RMSE on fold 0: 0.1346933163022775\n",
            "RMSE on fold 1: 0.12835104727418942\n"
          ]
        }
      ],
      "source": [
        "# Обучение моедли\n",
        "for fold_index, (train_index, test_index) in enumerate(kf.split(X_train)): # разделил выборку на две части\n",
        "  xgb_model = xgb.XGBRegressor()\n",
        "  xgb_model.fit(X_train.iloc[train_index], y_train.iloc[train_index])\n",
        "  predictions = xgb_model.predict(X_train.iloc[test_index])\n",
        "  actuals = y_train.iloc[test_index]\n",
        "  print(\"RMSE on fold {}: {}\".format(fold_index, np.sqrt(mean_squared_error(actuals, predictions))))"
      ]
    },
    {
      "cell_type": "markdown",
      "id": "w53jwHSeJ1ep",
      "metadata": {
        "id": "w53jwHSeJ1ep"
      },
      "source": [
        "Теперь попробую реализовать xgboost через python:"
      ]
    },
    {
      "cell_type": "code",
      "execution_count": null,
      "id": "8l4CZZqUJ0l8",
      "metadata": {
        "colab": {
          "base_uri": "https://localhost:8080/"
        },
        "id": "8l4CZZqUJ0l8",
        "outputId": "0c904c24-1f4f-481d-f9f1-26d148981dff"
      },
      "outputs": [
        {
          "name": "stderr",
          "output_type": "stream",
          "text": [
            "/usr/local/lib/python3.10/dist-packages/xgboost/core.py:160: UserWarning: [18:24:37] WARNING: /workspace/src/learner.cc:742: \n",
            "Parameters: { \"sketch_eps\" } are not used.\n",
            "\n",
            "  warnings.warn(smsg, UserWarning)\n"
          ]
        },
        {
          "name": "stdout",
          "output_type": "stream",
          "text": [
            "RMSE on fold 0: [0]\teval-rmse:0.11885422049808554\n",
            "RMSE on fold 1: [0]\teval-rmse:0.12235263923691185\n"
          ]
        }
      ],
      "source": [
        "def get_params():\n",
        "    params = {}\n",
        "    params[\"objective\"] = \"reg:squarederror\"\n",
        "    params[\"booster\"] = \"gbtree\"\n",
        "    params[\"eval_metric\"] = \"rmse\"\n",
        "    params[\"max_depth\"] = 3 # ограничиваю деревья до 3\n",
        "    params[\"tree_method\"] = \"approx\"\n",
        "    params[\"sketch_eps\"] = 1\n",
        "\n",
        "    return params\n",
        "\n",
        "for fold_index, (train_index, test_index) in enumerate(kf.split(X_train)):\n",
        "\n",
        "    params = get_params()\n",
        "\n",
        "    xgtrain = xgb.DMatrix(X_train.iloc[train_index], label=y_train.iloc[train_index]) #собираю X и y в одну матрицу (X_train, y_train)\n",
        "    xgtest = xgb.DMatrix(X_train.iloc[test_index], label=y_train.iloc[test_index])\n",
        "\n",
        "    bst = xgb.train(params, xgtrain) #аналог fit в sklearn\n",
        "\n",
        "    print(\"RMSE on fold {}: {}\".format(fold_index, bst.eval(xgtest)))\n",
        "# xgboost умеет работать с пропусками, не умеет обрабатывать категориальные признаки"
      ]
    },
    {
      "cell_type": "markdown",
      "id": "A1aO4IKZIE-A",
      "metadata": {
        "id": "A1aO4IKZIE-A"
      },
      "source": [
        "XGBoost умеет обрабатывать разреженные матрицы\n",
        "\n",
        "Но категориальные признаки нужно приводить к числовому виду\n",
        "\n",
        "Нужно указать, какое число является \"пропуском\"\n"
      ]
    },
    {
      "cell_type": "code",
      "execution_count": null,
      "id": "SdXlfJWfIHVZ",
      "metadata": {
        "id": "SdXlfJWfIHVZ"
      },
      "outputs": [],
      "source": [
        "xgtrain_missed = xgb.DMatrix(X_train.iloc[test_index], label=y_train.iloc[test_index], missing=-999.0)"
      ]
    },
    {
      "cell_type": "markdown",
      "id": "7Q5dpVnAJF7j",
      "metadata": {
        "id": "7Q5dpVnAJF7j"
      },
      "source": [
        "Feature importance.\n",
        "Подсчитывает, сколько раз каждый признак использовался для использовался в вершине дерева при разбиении. Это не качество фактора, а его важность."
      ]
    },
    {
      "cell_type": "code",
      "execution_count": null,
      "id": "V2V6ro1BJREy",
      "metadata": {
        "colab": {
          "base_uri": "https://localhost:8080/"
        },
        "id": "V2V6ro1BJREy",
        "outputId": "d843de23-e9d1-4ad2-ba5b-856518ab1f03"
      },
      "outputs": [
        {
          "data": {
            "text/plain": [
              "{'Unnamed: 0': 10.0,\n",
              " 'Existing_EMI': 7.0,\n",
              " 'Loan_Amount_Applied': 2.0,\n",
              " 'Loan_Tenure_Applied': 1.0,\n",
              " 'Monthly_Income': 14.0,\n",
              " 'Var5': 11.0,\n",
              " 'Age': 4.0,\n",
              " 'Device_Type_0': 2.0,\n",
              " 'Var1_0': 3.0,\n",
              " 'Var1_2': 5.0,\n",
              " 'Var1_8': 3.0,\n",
              " 'Var1_11': 3.0,\n",
              " 'Var2_1': 1.0,\n",
              " 'Source_0': 1.0,\n",
              " 'Source_1': 2.0,\n",
              " 'Source_2': 1.0}"
            ]
          },
          "execution_count": 35,
          "metadata": {},
          "output_type": "execute_result"
        }
      ],
      "source": [
        "bst.get_fscore() # оценка важности признаков"
      ]
    },
    {
      "cell_type": "code",
      "execution_count": null,
      "id": "CcoaPE8SLCDp",
      "metadata": {
        "colab": {
          "base_uri": "https://localhost:8080/",
          "height": 507
        },
        "id": "CcoaPE8SLCDp",
        "outputId": "7b2885d5-6448-4534-f291-91d1c51f1ba0"
      },
      "outputs": [
        {
          "data": {
            "text/plain": [
              "<Axes: title={'center': 'Feature importance'}, xlabel='F score', ylabel='Features'>"
            ]
          },
          "execution_count": 36,
          "metadata": {},
          "output_type": "execute_result"
        },
        {
          "data": {
            "text/plain": [
              "<Figure size 1200x1200 with 0 Axes>"
            ]
          },
          "metadata": {},
          "output_type": "display_data"
        },
        {
          "data": {
            "image/png": "[encoded data removed]",
            "text/plain": [
              "<Figure size 640x480 with 1 Axes>"
            ]
          },
          "metadata": {},
          "output_type": "display_data"
        }
      ],
      "source": [
        "import matplotlib.pyplot as plt\n",
        "%matplotlib inline\n",
        "\n",
        "plt.figure(figsize=(12, 12))\n",
        "xgb.plot_importance(bst) # умеет изображать важности признаков"
      ]
    },
    {
      "cell_type": "markdown",
      "id": "xyJQW83JLisj",
      "metadata": {
        "id": "xyJQW83JLisj"
      },
      "source": [
        "Теперь обучу модель с помощью ансамбля LightGBM:"
      ]
    },
    {
      "cell_type": "code",
      "execution_count": null,
      "id": "k7pSOYBEMDgc",
      "metadata": {
        "colab": {
          "base_uri": "https://localhost:8080/"
        },
        "id": "k7pSOYBEMDgc",
        "outputId": "9e13efad-432e-4b17-b8f0-233f313ad4ec"
      },
      "outputs": [
        {
          "name": "stdout",
          "output_type": "stream",
          "text": [
            "Requirement already satisfied: lightgbm in /usr/local/lib/python3.10/dist-packages (4.1.0)\n",
            "Requirement already satisfied: numpy in /usr/local/lib/python3.10/dist-packages (from lightgbm) (1.25.2)\n",
            "Requirement already satisfied: scipy in /usr/local/lib/python3.10/dist-packages (from lightgbm) (1.11.4)\n"
          ]
        }
      ],
      "source": [
        "!pip install lightgbm"
      ]
    },
    {
      "cell_type": "code",
      "execution_count": null,
      "id": "hY2-GGb7LKi4",
      "metadata": {
        "id": "hY2-GGb7LKi4"
      },
      "outputs": [],
      "source": [
        "import numpy as np\n",
        "import pandas as pd\n",
        "import lightgbm as lgb\n",
        "import warnings\n",
        "from sklearn.metrics import mean_squared_error\n",
        "from sklearn.model_selection import GridSearchCV\n",
        "from sklearn.model_selection import train_test_split\n",
        "X_train = pd.read_csv('train_small.csv')\n",
        "X_test = pd.read_csv('test_small.csv')\n",
        "y_train = X_train['Disbursed']\n",
        "X_train = X_train.drop('Disbursed', axis=1)\n",
        "y_test = X_test['Disbursed']\n",
        "X_test = X_test.drop('Disbursed', axis=1)\n",
        "X_train, X_test, y_train, y_test = train_test_split(X_train, y_train, test_size=100, random_state=241)"
      ]
    },
    {
      "cell_type": "markdown",
      "id": "tCy2Sx9hOAgd",
      "metadata": {
        "id": "tCy2Sx9hOAgd"
      },
      "source": [
        "Обучение lightgbm"
      ]
    },
    {
      "cell_type": "code",
      "execution_count": null,
      "id": "y8WuJ8bgPMxm",
      "metadata": {
        "id": "y8WuJ8bgPMxm"
      },
      "outputs": [],
      "source": [
        "# Сначала нужно избавиться от всех символов, вспомню регулярные выражения для этого:\n",
        "# регулярное выражение [^w]+ соответствует одному или более символу, которые не являются буквами, цифрами или подчеркиванием, они будут заменены.\n",
        "# re.sub - воспроизведет замену\n",
        "#  w - символ слова (буквы, цифры, подчеркивание)\n",
        "# + - одно или более вхождений предыдущего символа или группы символов\n",
        "import re\n",
        "# Удаление специальных символов из имен признаков\n",
        "X_train.columns = [re.sub('[^A-Za-z0-9_]+', '', col) for col in X_train.columns] # для признаков X_train\n",
        "X_test.columns = [re.sub('[^A-Za-z0-9_]+', '', col) for col in X_test.columns] # для признаков X_test"
      ]
    },
    {
      "cell_type": "code",
      "execution_count": null,
      "id": "PHjRINhyOEDT",
      "metadata": {
        "colab": {
          "base_uri": "https://localhost:8080/",
          "height": 1000
        },
        "id": "PHjRINhyOEDT",
        "outputId": "45451fb1-a0ea-41b1-c6c1-a52416c39f7a"
      },
      "outputs": [
        {
          "name": "stdout",
          "output_type": "stream",
          "text": [
            "Starting training...\n",
            "[LightGBM] [Info] Auto-choosing row-wise multi-threading, the overhead of testing was 0.004561 seconds.\n",
            "You can set `force_row_wise=true` to remove the overhead.\n",
            "And if memory is not enough, you can set `force_col_wise=true`.\n",
            "[LightGBM] [Info] Total Bins 1012\n",
            "[LightGBM] [Info] Number of data points in the train set: 24265, number of used features: 48\n",
            "[LightGBM] [Info] Start training from score 0.015083\n",
            "[LightGBM] [Warning] No further splits with positive gain, best gain: -inf\n",
            "[LightGBM] [Warning] No further splits with positive gain, best gain: -inf\n",
            "[LightGBM] [Warning] No further splits with positive gain, best gain: -inf\n",
            "[LightGBM] [Warning] No further splits with positive gain, best gain: -inf\n",
            "[LightGBM] [Warning] No further splits with positive gain, best gain: -inf\n",
            "[LightGBM] [Warning] No further splits with positive gain, best gain: -inf\n",
            "[LightGBM] [Warning] No further splits with positive gain, best gain: -inf\n",
            "[LightGBM] [Warning] No further splits with positive gain, best gain: -inf\n",
            "[LightGBM] [Warning] No further splits with positive gain, best gain: -inf\n",
            "[LightGBM] [Warning] No further splits with positive gain, best gain: -inf\n",
            "[LightGBM] [Warning] No further splits with positive gain, best gain: -inf\n",
            "[LightGBM] [Warning] No further splits with positive gain, best gain: -inf\n",
            "[LightGBM] [Warning] No further splits with positive gain, best gain: -inf\n",
            "[LightGBM] [Warning] No further splits with positive gain, best gain: -inf\n",
            "[LightGBM] [Warning] No further splits with positive gain, best gain: -inf\n",
            "[LightGBM] [Warning] No further splits with positive gain, best gain: -inf\n",
            "[LightGBM] [Warning] No further splits with positive gain, best gain: -inf\n",
            "[LightGBM] [Warning] No further splits with positive gain, best gain: -inf\n",
            "[LightGBM] [Warning] No further splits with positive gain, best gain: -inf\n",
            "[LightGBM] [Warning] No further splits with positive gain, best gain: -inf\n",
            "[LightGBM] [Warning] No further splits with positive gain, best gain: -inf\n",
            "[LightGBM] [Warning] No further splits with positive gain, best gain: -inf\n",
            "[LightGBM] [Warning] No further splits with positive gain, best gain: -inf\n",
            "[LightGBM] [Warning] No further splits with positive gain, best gain: -inf\n",
            "[LightGBM] [Warning] No further splits with positive gain, best gain: -inf\n",
            "[LightGBM] [Warning] No further splits with positive gain, best gain: -inf\n",
            "[LightGBM] [Warning] No further splits with positive gain, best gain: -inf\n",
            "[LightGBM] [Warning] No further splits with positive gain, best gain: -inf\n",
            "[LightGBM] [Warning] No further splits with positive gain, best gain: -inf\n",
            "[LightGBM] [Warning] No further splits with positive gain, best gain: -inf\n",
            "[LightGBM] [Warning] No further splits with positive gain, best gain: -inf\n",
            "[LightGBM] [Warning] No further splits with positive gain, best gain: -inf\n",
            "[LightGBM] [Warning] No further splits with positive gain, best gain: -inf\n",
            "[LightGBM] [Warning] No further splits with positive gain, best gain: -inf\n",
            "[LightGBM] [Warning] No further splits with positive gain, best gain: -inf\n",
            "[LightGBM] [Warning] No further splits with positive gain, best gain: -inf\n",
            "[LightGBM] [Warning] No further splits with positive gain, best gain: -inf\n",
            "[LightGBM] [Warning] No further splits with positive gain, best gain: -inf\n",
            "[LightGBM] [Warning] No further splits with positive gain, best gain: -inf\n",
            "[LightGBM] [Warning] No further splits with positive gain, best gain: -inf\n",
            "[LightGBM] [Warning] No further splits with positive gain, best gain: -inf\n",
            "[LightGBM] [Warning] No further splits with positive gain, best gain: -inf\n",
            "[LightGBM] [Warning] No further splits with positive gain, best gain: -inf\n",
            "[LightGBM] [Warning] No further splits with positive gain, best gain: -inf\n",
            "[LightGBM] [Warning] No further splits with positive gain, best gain: -inf\n",
            "[LightGBM] [Warning] No further splits with positive gain, best gain: -inf\n",
            "[LightGBM] [Warning] No further splits with positive gain, best gain: -inf\n",
            "[LightGBM] [Warning] No further splits with positive gain, best gain: -inf\n"
          ]
        },
        {
          "data": {
            "text/html": [
              "<style>#sk-container-id-9 {color: black;background-color: white;}#sk-container-id-9 pre{padding: 0;}#sk-container-id-9 div.sk-toggleable {background-color: white;}#sk-container-id-9 label.sk-toggleable__label {cursor: pointer;display: block;width: 100%;margin-bottom: 0;padding: 0.3em;box-sizing: border-box;text-align: center;}#sk-container-id-9 label.sk-toggleable__label-arrow:before {content: \"▸\";float: left;margin-right: 0.25em;color: #696969;}#sk-container-id-9 label.sk-toggleable__label-arrow:hover:before {color: black;}#sk-container-id-9 div.sk-estimator:hover label.sk-toggleable__label-arrow:before {color: black;}#sk-container-id-9 div.sk-toggleable__content {max-height: 0;max-width: 0;overflow: hidden;text-align: left;background-color: #f0f8ff;}#sk-container-id-9 div.sk-toggleable__content pre {margin: 0.2em;color: black;border-radius: 0.25em;background-color: #f0f8ff;}#sk-container-id-9 input.sk-toggleable__control:checked~div.sk-toggleable__content {max-height: 200px;max-width: 100%;overflow: auto;}#sk-container-id-9 input.sk-toggleable__control:checked~label.sk-toggleable__label-arrow:before {content: \"▾\";}#sk-container-id-9 div.sk-estimator input.sk-toggleable__control:checked~label.sk-toggleable__label {background-color: #d4ebff;}#sk-container-id-9 div.sk-label input.sk-toggleable__control:checked~label.sk-toggleable__label {background-color: #d4ebff;}#sk-container-id-9 input.sk-hidden--visually {border: 0;clip: rect(1px 1px 1px 1px);clip: rect(1px, 1px, 1px, 1px);height: 1px;margin: -1px;overflow: hidden;padding: 0;position: absolute;width: 1px;}#sk-container-id-9 div.sk-estimator {font-family: monospace;background-color: #f0f8ff;border: 1px dotted black;border-radius: 0.25em;box-sizing: border-box;margin-bottom: 0.5em;}#sk-container-id-9 div.sk-estimator:hover {background-color: #d4ebff;}#sk-container-id-9 div.sk-parallel-item::after {content: \"\";width: 100%;border-bottom: 1px solid gray;flex-grow: 1;}#sk-container-id-9 div.sk-label:hover label.sk-toggleable__label {background-color: #d4ebff;}#sk-container-id-9 div.sk-serial::before {content: \"\";position: absolute;border-left: 1px solid gray;box-sizing: border-box;top: 0;bottom: 0;left: 50%;z-index: 0;}#sk-container-id-9 div.sk-serial {display: flex;flex-direction: column;align-items: center;background-color: white;padding-right: 0.2em;padding-left: 0.2em;position: relative;}#sk-container-id-9 div.sk-item {position: relative;z-index: 1;}#sk-container-id-9 div.sk-parallel {display: flex;align-items: stretch;justify-content: center;background-color: white;position: relative;}#sk-container-id-9 div.sk-item::before, #sk-container-id-9 div.sk-parallel-item::before {content: \"\";position: absolute;border-left: 1px solid gray;box-sizing: border-box;top: 0;bottom: 0;left: 50%;z-index: -1;}#sk-container-id-9 div.sk-parallel-item {display: flex;flex-direction: column;z-index: 1;position: relative;background-color: white;}#sk-container-id-9 div.sk-parallel-item:first-child::after {align-self: flex-end;width: 50%;}#sk-container-id-9 div.sk-parallel-item:last-child::after {align-self: flex-start;width: 50%;}#sk-container-id-9 div.sk-parallel-item:only-child::after {width: 0;}#sk-container-id-9 div.sk-dashed-wrapped {border: 1px dashed gray;margin: 0 0.4em 0.5em 0.4em;box-sizing: border-box;padding-bottom: 0.4em;background-color: white;}#sk-container-id-9 div.sk-label label {font-family: monospace;font-weight: bold;display: inline-block;line-height: 1.2em;}#sk-container-id-9 div.sk-label-container {text-align: center;}#sk-container-id-9 div.sk-container {/* jupyter's `normalize.less` sets `[hidden] { display: none; }` but bootstrap.min.css set `[hidden] { display: none !important; }` so we also need the `!important` here to be able to override the default hidden behavior on the sphinx rendered scikit-learn.org. See: https://github.com/scikit-learn/scikit-learn/issues/21755 */display: inline-block !important;position: relative;}#sk-container-id-9 div.sk-text-repr-fallback {display: none;}</style><div id=\"sk-container-id-9\" class=\"sk-top-container\"><div class=\"sk-text-repr-fallback\"><pre>LGBMRegressor(learning_rate=0.15083, n_estimators=48, num_leaves=24265)</pre><b>In a Jupyter environment, please rerun this cell to show the HTML representation or trust the notebook. <br />On GitHub, the HTML representation is unable to render, please try loading this page with nbviewer.org.</b></div><div class=\"sk-container\" hidden><div class=\"sk-item\"><div class=\"sk-estimator sk-toggleable\"><input class=\"sk-toggleable__control sk-hidden--visually\" id=\"sk-estimator-id-9\" type=\"checkbox\" checked><label for=\"sk-estimator-id-9\" class=\"sk-toggleable__label sk-toggleable__label-arrow\">LGBMRegressor</label><div class=\"sk-toggleable__content\"><pre>LGBMRegressor(learning_rate=0.15083, n_estimators=48, num_leaves=24265)</pre></div></div></div></div></div>"
            ],
            "text/plain": [
              "LGBMRegressor(learning_rate=0.15083, n_estimators=48, num_leaves=24265)"
            ]
          },
          "execution_count": 69,
          "metadata": {},
          "output_type": "execute_result"
        }
      ],
      "source": [
        "print('Starting training...')\n",
        "# train\n",
        "gbm = lgb.LGBMRegressor(num_leaves=24265,\n",
        "                        learning_rate=0.15083,\n",
        "                        n_estimators=48)\n",
        "gbm.fit(X_train, y_train,\n",
        "        eval_set=[(X_test, y_test)],\n",
        "        eval_metric='l1') # метрика оценки качества"
      ]
    },
    {
      "cell_type": "markdown",
      "id": "rTkD9lKMR4oT",
      "metadata": {
        "id": "rTkD9lKMR4oT"
      },
      "source": [
        "Предсказание и оценка качества"
      ]
    },
    {
      "cell_type": "code",
      "execution_count": null,
      "id": "Zv-GAsU7Rqcy",
      "metadata": {
        "colab": {
          "base_uri": "https://localhost:8080/"
        },
        "id": "Zv-GAsU7Rqcy",
        "outputId": "bb28ff66-9a0f-43ce-e072-12bdcedaa6f4"
      },
      "outputs": [
        {
          "name": "stdout",
          "output_type": "stream",
          "text": [
            "Starting predicting...\n",
            "The rmse of prediction is: 0.06599679067308348\n",
            "Feature importances: [11270, 3074, 2256, 1962, 7494, 1396, 2570, 6073, 369, 0, 274, 0, 92, 296, 0, 233, 0, 483, 0, 23, 115, 89, 80, 0, 8, 8, 0, 93, 95, 181, 110, 52, 2, 3, 13, 0, 1, 3, 0, 165, 173, 1, 14, 6, 10, 69, 0, 374, 612, 360]\n"
          ]
        }
      ],
      "source": [
        "print('Starting predicting...')\n",
        "y_pred = gbm.predict(X_test, num_iteration=gbm.best_iteration_) # когда предскажем на тесте, потом увидем ошибку\n",
        "print('The rmse of prediction is:', mean_squared_error(y_test, y_pred) ** 0.5)\n",
        "# feature importances\n",
        "print('Feature importances:', list(gbm.feature_importances_))"
      ]
    },
    {
      "cell_type": "markdown",
      "id": "W9jPplJdVmpu",
      "metadata": {
        "id": "W9jPplJdVmpu"
      },
      "source": [
        "Можно задать любую метрику качества - надо написать свою функцию."
      ]
    },
    {
      "cell_type": "code",
      "execution_count": null,
      "id": "QGu7MWQTVmTf",
      "metadata": {
        "colab": {
          "base_uri": "https://localhost:8080/"
        },
        "id": "QGu7MWQTVmTf",
        "outputId": "5ce677a1-4df8-4291-a0e3-851f677f84ef"
      },
      "outputs": [
        {
          "name": "stdout",
          "output_type": "stream",
          "text": [
            "Starting training with custom eval function...\n",
            "[LightGBM] [Info] Auto-choosing row-wise multi-threading, the overhead of testing was 0.003015 seconds.\n",
            "You can set `force_row_wise=true` to remove the overhead.\n",
            "And if memory is not enough, you can set `force_col_wise=true`.\n",
            "[LightGBM] [Info] Total Bins 1012\n",
            "[LightGBM] [Info] Number of data points in the train set: 24265, number of used features: 48\n",
            "[LightGBM] [Info] Start training from score 0.015083\n",
            "[LightGBM] [Warning] No further splits with positive gain, best gain: -inf\n",
            "[LightGBM] [Warning] No further splits with positive gain, best gain: -inf\n",
            "[LightGBM] [Warning] No further splits with positive gain, best gain: -inf\n",
            "[LightGBM] [Warning] No further splits with positive gain, best gain: -inf\n",
            "[LightGBM] [Warning] No further splits with positive gain, best gain: -inf\n",
            "[LightGBM] [Warning] No further splits with positive gain, best gain: -inf\n",
            "[LightGBM] [Warning] No further splits with positive gain, best gain: -inf\n",
            "[LightGBM] [Warning] No further splits with positive gain, best gain: -inf\n",
            "[LightGBM] [Warning] No further splits with positive gain, best gain: -inf\n",
            "[LightGBM] [Warning] No further splits with positive gain, best gain: -inf\n",
            "[LightGBM] [Warning] No further splits with positive gain, best gain: -inf\n",
            "[LightGBM] [Warning] No further splits with positive gain, best gain: -inf\n",
            "[LightGBM] [Warning] No further splits with positive gain, best gain: -inf\n",
            "[LightGBM] [Warning] No further splits with positive gain, best gain: -inf\n",
            "[LightGBM] [Warning] No further splits with positive gain, best gain: -inf\n",
            "[LightGBM] [Warning] No further splits with positive gain, best gain: -inf\n",
            "[LightGBM] [Warning] No further splits with positive gain, best gain: -inf\n",
            "[LightGBM] [Warning] No further splits with positive gain, best gain: -inf\n",
            "[LightGBM] [Warning] No further splits with positive gain, best gain: -inf\n",
            "[LightGBM] [Warning] No further splits with positive gain, best gain: -inf\n",
            "[LightGBM] [Warning] No further splits with positive gain, best gain: -inf\n",
            "[LightGBM] [Warning] No further splits with positive gain, best gain: -inf\n",
            "[LightGBM] [Warning] No further splits with positive gain, best gain: -inf\n",
            "[LightGBM] [Warning] No further splits with positive gain, best gain: -inf\n",
            "[LightGBM] [Warning] No further splits with positive gain, best gain: -inf\n",
            "[LightGBM] [Warning] No further splits with positive gain, best gain: -inf\n",
            "[LightGBM] [Warning] No further splits with positive gain, best gain: -inf\n",
            "[LightGBM] [Warning] No further splits with positive gain, best gain: -inf\n",
            "[LightGBM] [Warning] No further splits with positive gain, best gain: -inf\n",
            "[LightGBM] [Warning] No further splits with positive gain, best gain: -inf\n",
            "[LightGBM] [Warning] No further splits with positive gain, best gain: -inf\n",
            "[LightGBM] [Warning] No further splits with positive gain, best gain: -inf\n",
            "[LightGBM] [Warning] No further splits with positive gain, best gain: -inf\n",
            "[LightGBM] [Warning] No further splits with positive gain, best gain: -inf\n",
            "[LightGBM] [Warning] No further splits with positive gain, best gain: -inf\n",
            "[LightGBM] [Warning] No further splits with positive gain, best gain: -inf\n",
            "[LightGBM] [Warning] No further splits with positive gain, best gain: -inf\n",
            "[LightGBM] [Warning] No further splits with positive gain, best gain: -inf\n",
            "[LightGBM] [Warning] No further splits with positive gain, best gain: -inf\n",
            "[LightGBM] [Warning] No further splits with positive gain, best gain: -inf\n",
            "[LightGBM] [Warning] No further splits with positive gain, best gain: -inf\n",
            "[LightGBM] [Warning] No further splits with positive gain, best gain: -inf\n",
            "[LightGBM] [Warning] No further splits with positive gain, best gain: -inf\n",
            "[LightGBM] [Warning] No further splits with positive gain, best gain: -inf\n",
            "[LightGBM] [Warning] No further splits with positive gain, best gain: -inf\n",
            "[LightGBM] [Warning] No further splits with positive gain, best gain: -inf\n",
            "[LightGBM] [Warning] No further splits with positive gain, best gain: -inf\n",
            "[LightGBM] [Warning] No further splits with positive gain, best gain: -inf\n",
            "Starting predicting...\n",
            "The rmsle of prediction is: 0.059886186976303726\n"
          ]
        }
      ],
      "source": [
        "# self-defined eval metric\n",
        "# f(y_true: array, y_pred: array) -> name: string, eval_result: float, is_higher_better: bool\n",
        "# Root Mean Squared Logarithmic Error (RMSLE)\n",
        "def rmsle(y_true, y_pred):\n",
        "    return 'RMSLE', np.sqrt(np.mean(np.power(np.log1p(y_pred) - np.log1p(y_true), 2))), False\n",
        "\n",
        "\n",
        "print('Starting training with custom eval function...')\n",
        "# train\n",
        "gbm.fit(X_train, y_train,\n",
        "        eval_set=[(X_test, y_test)],\n",
        "        eval_metric=rmsle)\n",
        "\n",
        "print('Starting predicting...')\n",
        "# predict\n",
        "y_pred = gbm.predict(X_test, num_iteration=gbm.best_iteration_)\n",
        "# eval\n",
        "print('The rmsle of prediction is:', rmsle(y_test, y_pred)[1])"
      ]
    },
    {
      "cell_type": "markdown",
      "id": "mK_Q_Mm-Wduo",
      "metadata": {
        "id": "mK_Q_Mm-Wduo"
      },
      "source": [
        "The rmsle of prediction is: 0.059886186976303726"
      ]
    },
    {
      "cell_type": "markdown",
      "id": "KjQWWeUsWhoF",
      "metadata": {
        "id": "KjQWWeUsWhoF"
      },
      "source": [
        "Подбор гиперпараметров:"
      ]
    },
    {
      "cell_type": "code",
      "execution_count": null,
      "id": "nkf_Tdg4WdJj",
      "metadata": {
        "colab": {
          "base_uri": "https://localhost:8080/"
        },
        "id": "nkf_Tdg4WdJj",
        "outputId": "906e2e63-363d-42a6-c046-593c1f01a0e4"
      },
      "outputs": [
        {
          "name": "stdout",
          "output_type": "stream",
          "text": [
            "[LightGBM] [Info] Auto-choosing row-wise multi-threading, the overhead of testing was 0.001883 seconds.\n",
            "You can set `force_row_wise=true` to remove the overhead.\n",
            "And if memory is not enough, you can set `force_col_wise=true`.\n",
            "[LightGBM] [Info] Total Bins 994\n",
            "[LightGBM] [Info] Number of data points in the train set: 16176, number of used features: 46\n",
            "[LightGBM] [Info] Start training from score 0.015702\n",
            "[LightGBM] [Info] Auto-choosing row-wise multi-threading, the overhead of testing was 0.003046 seconds.\n",
            "You can set `force_row_wise=true` to remove the overhead.\n",
            "And if memory is not enough, you can set `force_col_wise=true`.\n",
            "[LightGBM] [Info] Total Bins 994\n",
            "[LightGBM] [Info] Number of data points in the train set: 16177, number of used features: 47\n",
            "[LightGBM] [Info] Start training from score 0.014898\n",
            "[LightGBM] [Info] Auto-choosing row-wise multi-threading, the overhead of testing was 0.001917 seconds.\n",
            "You can set `force_row_wise=true` to remove the overhead.\n",
            "And if memory is not enough, you can set `force_col_wise=true`.\n",
            "[LightGBM] [Info] Total Bins 993\n",
            "[LightGBM] [Info] Number of data points in the train set: 16177, number of used features: 47\n",
            "[LightGBM] [Info] Start training from score 0.014650\n",
            "[LightGBM] [Info] Auto-choosing row-wise multi-threading, the overhead of testing was 0.001915 seconds.\n",
            "You can set `force_row_wise=true` to remove the overhead.\n",
            "And if memory is not enough, you can set `force_col_wise=true`.\n",
            "[LightGBM] [Info] Total Bins 994\n",
            "[LightGBM] [Info] Number of data points in the train set: 16176, number of used features: 46\n",
            "[LightGBM] [Info] Start training from score 0.015702\n",
            "[LightGBM] [Info] Auto-choosing row-wise multi-threading, the overhead of testing was 0.003014 seconds.\n",
            "You can set `force_row_wise=true` to remove the overhead.\n",
            "And if memory is not enough, you can set `force_col_wise=true`.\n",
            "[LightGBM] [Info] Total Bins 994\n",
            "[LightGBM] [Info] Number of data points in the train set: 16177, number of used features: 47\n",
            "[LightGBM] [Info] Start training from score 0.014898\n",
            "[LightGBM] [Info] Auto-choosing row-wise multi-threading, the overhead of testing was 0.001847 seconds.\n",
            "You can set `force_row_wise=true` to remove the overhead.\n",
            "And if memory is not enough, you can set `force_col_wise=true`.\n",
            "[LightGBM] [Info] Total Bins 993\n",
            "[LightGBM] [Info] Number of data points in the train set: 16177, number of used features: 47\n",
            "[LightGBM] [Info] Start training from score 0.014650\n",
            "[LightGBM] [Info] Auto-choosing row-wise multi-threading, the overhead of testing was 0.001836 seconds.\n",
            "You can set `force_row_wise=true` to remove the overhead.\n",
            "And if memory is not enough, you can set `force_col_wise=true`.\n",
            "[LightGBM] [Info] Total Bins 994\n",
            "[LightGBM] [Info] Number of data points in the train set: 16176, number of used features: 46\n",
            "[LightGBM] [Info] Start training from score 0.015702\n",
            "[LightGBM] [Info] Auto-choosing row-wise multi-threading, the overhead of testing was 0.003024 seconds.\n",
            "You can set `force_row_wise=true` to remove the overhead.\n",
            "And if memory is not enough, you can set `force_col_wise=true`.\n",
            "[LightGBM] [Info] Total Bins 994\n",
            "[LightGBM] [Info] Number of data points in the train set: 16177, number of used features: 47\n",
            "[LightGBM] [Info] Start training from score 0.014898\n",
            "[LightGBM] [Info] Auto-choosing row-wise multi-threading, the overhead of testing was 0.001684 seconds.\n",
            "You can set `force_row_wise=true` to remove the overhead.\n",
            "And if memory is not enough, you can set `force_col_wise=true`.\n",
            "[LightGBM] [Info] Total Bins 993\n",
            "[LightGBM] [Info] Number of data points in the train set: 16177, number of used features: 47\n",
            "[LightGBM] [Info] Start training from score 0.014650\n",
            "[LightGBM] [Info] Auto-choosing row-wise multi-threading, the overhead of testing was 0.001780 seconds.\n",
            "You can set `force_row_wise=true` to remove the overhead.\n",
            "And if memory is not enough, you can set `force_col_wise=true`.\n",
            "[LightGBM] [Info] Total Bins 994\n",
            "[LightGBM] [Info] Number of data points in the train set: 16176, number of used features: 46\n",
            "[LightGBM] [Info] Start training from score 0.015702\n",
            "[LightGBM] [Info] Auto-choosing row-wise multi-threading, the overhead of testing was 0.003091 seconds.\n",
            "You can set `force_row_wise=true` to remove the overhead.\n",
            "And if memory is not enough, you can set `force_col_wise=true`.\n",
            "[LightGBM] [Info] Total Bins 994\n",
            "[LightGBM] [Info] Number of data points in the train set: 16177, number of used features: 47\n",
            "[LightGBM] [Info] Start training from score 0.014898\n",
            "[LightGBM] [Info] Auto-choosing row-wise multi-threading, the overhead of testing was 0.001838 seconds.\n",
            "You can set `force_row_wise=true` to remove the overhead.\n",
            "And if memory is not enough, you can set `force_col_wise=true`.\n",
            "[LightGBM] [Info] Total Bins 993\n",
            "[LightGBM] [Info] Number of data points in the train set: 16177, number of used features: 47\n",
            "[LightGBM] [Info] Start training from score 0.014650\n",
            "[LightGBM] [Info] Auto-choosing row-wise multi-threading, the overhead of testing was 0.002005 seconds.\n",
            "You can set `force_row_wise=true` to remove the overhead.\n",
            "And if memory is not enough, you can set `force_col_wise=true`.\n",
            "[LightGBM] [Info] Total Bins 994\n",
            "[LightGBM] [Info] Number of data points in the train set: 16176, number of used features: 46\n",
            "[LightGBM] [Info] Start training from score 0.015702\n",
            "[LightGBM] [Info] Auto-choosing row-wise multi-threading, the overhead of testing was 0.003106 seconds.\n",
            "You can set `force_row_wise=true` to remove the overhead.\n",
            "And if memory is not enough, you can set `force_col_wise=true`.\n",
            "[LightGBM] [Info] Total Bins 994\n",
            "[LightGBM] [Info] Number of data points in the train set: 16177, number of used features: 47\n",
            "[LightGBM] [Info] Start training from score 0.014898\n",
            "[LightGBM] [Info] Auto-choosing row-wise multi-threading, the overhead of testing was 0.001631 seconds.\n",
            "You can set `force_row_wise=true` to remove the overhead.\n",
            "And if memory is not enough, you can set `force_col_wise=true`.\n",
            "[LightGBM] [Info] Total Bins 993\n",
            "[LightGBM] [Info] Number of data points in the train set: 16177, number of used features: 47\n",
            "[LightGBM] [Info] Start training from score 0.014650\n",
            "[LightGBM] [Info] Auto-choosing row-wise multi-threading, the overhead of testing was 0.001941 seconds.\n",
            "You can set `force_row_wise=true` to remove the overhead.\n",
            "And if memory is not enough, you can set `force_col_wise=true`.\n",
            "[LightGBM] [Info] Total Bins 994\n",
            "[LightGBM] [Info] Number of data points in the train set: 16176, number of used features: 46\n",
            "[LightGBM] [Info] Start training from score 0.015702\n",
            "[LightGBM] [Info] Auto-choosing row-wise multi-threading, the overhead of testing was 0.002010 seconds.\n",
            "You can set `force_row_wise=true` to remove the overhead.\n",
            "And if memory is not enough, you can set `force_col_wise=true`.\n",
            "[LightGBM] [Info] Total Bins 994\n",
            "[LightGBM] [Info] Number of data points in the train set: 16177, number of used features: 47\n",
            "[LightGBM] [Info] Start training from score 0.014898\n",
            "[LightGBM] [Info] Auto-choosing row-wise multi-threading, the overhead of testing was 0.001155 seconds.\n",
            "You can set `force_row_wise=true` to remove the overhead.\n",
            "And if memory is not enough, you can set `force_col_wise=true`.\n",
            "[LightGBM] [Info] Total Bins 993\n",
            "[LightGBM] [Info] Number of data points in the train set: 16177, number of used features: 47\n",
            "[LightGBM] [Info] Start training from score 0.014650\n",
            "[LightGBM] [Info] Auto-choosing row-wise multi-threading, the overhead of testing was 0.001073 seconds.\n",
            "You can set `force_row_wise=true` to remove the overhead.\n",
            "And if memory is not enough, you can set `force_col_wise=true`.\n",
            "[LightGBM] [Info] Total Bins 994\n",
            "[LightGBM] [Info] Number of data points in the train set: 16176, number of used features: 46\n",
            "[LightGBM] [Info] Start training from score 0.015702\n",
            "[LightGBM] [Info] Auto-choosing row-wise multi-threading, the overhead of testing was 0.001949 seconds.\n",
            "You can set `force_row_wise=true` to remove the overhead.\n",
            "And if memory is not enough, you can set `force_col_wise=true`.\n",
            "[LightGBM] [Info] Total Bins 994\n",
            "[LightGBM] [Info] Number of data points in the train set: 16177, number of used features: 47\n",
            "[LightGBM] [Info] Start training from score 0.014898\n",
            "[LightGBM] [Info] Auto-choosing row-wise multi-threading, the overhead of testing was 0.001139 seconds.\n",
            "You can set `force_row_wise=true` to remove the overhead.\n",
            "And if memory is not enough, you can set `force_col_wise=true`.\n",
            "[LightGBM] [Info] Total Bins 993\n",
            "[LightGBM] [Info] Number of data points in the train set: 16177, number of used features: 47\n",
            "[LightGBM] [Info] Start training from score 0.014650\n",
            "[LightGBM] [Info] Auto-choosing row-wise multi-threading, the overhead of testing was 0.001224 seconds.\n",
            "You can set `force_row_wise=true` to remove the overhead.\n",
            "And if memory is not enough, you can set `force_col_wise=true`.\n",
            "[LightGBM] [Info] Total Bins 994\n",
            "[LightGBM] [Info] Number of data points in the train set: 16176, number of used features: 46\n",
            "[LightGBM] [Info] Start training from score 0.015702\n",
            "[LightGBM] [Info] Auto-choosing row-wise multi-threading, the overhead of testing was 0.001983 seconds.\n",
            "You can set `force_row_wise=true` to remove the overhead.\n",
            "And if memory is not enough, you can set `force_col_wise=true`.\n",
            "[LightGBM] [Info] Total Bins 994\n",
            "[LightGBM] [Info] Number of data points in the train set: 16177, number of used features: 47\n",
            "[LightGBM] [Info] Start training from score 0.014898\n",
            "[LightGBM] [Info] Auto-choosing row-wise multi-threading, the overhead of testing was 0.001087 seconds.\n",
            "You can set `force_row_wise=true` to remove the overhead.\n",
            "And if memory is not enough, you can set `force_col_wise=true`.\n",
            "[LightGBM] [Info] Total Bins 993\n",
            "[LightGBM] [Info] Number of data points in the train set: 16177, number of used features: 47\n",
            "[LightGBM] [Info] Start training from score 0.014650\n",
            "[LightGBM] [Info] Auto-choosing row-wise multi-threading, the overhead of testing was 0.001097 seconds.\n",
            "You can set `force_row_wise=true` to remove the overhead.\n",
            "And if memory is not enough, you can set `force_col_wise=true`.\n",
            "[LightGBM] [Info] Total Bins 994\n",
            "[LightGBM] [Info] Number of data points in the train set: 16176, number of used features: 46\n",
            "[LightGBM] [Info] Start training from score 0.015702\n",
            "[LightGBM] [Info] Auto-choosing row-wise multi-threading, the overhead of testing was 0.002004 seconds.\n",
            "You can set `force_row_wise=true` to remove the overhead.\n",
            "And if memory is not enough, you can set `force_col_wise=true`.\n",
            "[LightGBM] [Info] Total Bins 994\n",
            "[LightGBM] [Info] Number of data points in the train set: 16177, number of used features: 47\n",
            "[LightGBM] [Info] Start training from score 0.014898\n",
            "[LightGBM] [Info] Auto-choosing row-wise multi-threading, the overhead of testing was 0.001079 seconds.\n",
            "You can set `force_row_wise=true` to remove the overhead.\n",
            "And if memory is not enough, you can set `force_col_wise=true`.\n",
            "[LightGBM] [Info] Total Bins 993\n",
            "[LightGBM] [Info] Number of data points in the train set: 16177, number of used features: 47\n",
            "[LightGBM] [Info] Start training from score 0.014650\n",
            "[LightGBM] [Info] Auto-choosing row-wise multi-threading, the overhead of testing was 0.001070 seconds.\n",
            "You can set `force_row_wise=true` to remove the overhead.\n",
            "And if memory is not enough, you can set `force_col_wise=true`.\n",
            "[LightGBM] [Info] Total Bins 994\n",
            "[LightGBM] [Info] Number of data points in the train set: 16176, number of used features: 46\n",
            "[LightGBM] [Info] Start training from score 0.015702\n",
            "[LightGBM] [Info] Auto-choosing row-wise multi-threading, the overhead of testing was 0.001946 seconds.\n",
            "You can set `force_row_wise=true` to remove the overhead.\n",
            "And if memory is not enough, you can set `force_col_wise=true`.\n",
            "[LightGBM] [Info] Total Bins 994\n",
            "[LightGBM] [Info] Number of data points in the train set: 16177, number of used features: 47\n",
            "[LightGBM] [Info] Start training from score 0.014898\n",
            "[LightGBM] [Info] Auto-choosing row-wise multi-threading, the overhead of testing was 0.001071 seconds.\n",
            "You can set `force_row_wise=true` to remove the overhead.\n",
            "And if memory is not enough, you can set `force_col_wise=true`.\n",
            "[LightGBM] [Info] Total Bins 993\n",
            "[LightGBM] [Info] Number of data points in the train set: 16177, number of used features: 47\n",
            "[LightGBM] [Info] Start training from score 0.014650\n",
            "[LightGBM] [Info] Auto-choosing row-wise multi-threading, the overhead of testing was 0.001089 seconds.\n",
            "You can set `force_row_wise=true` to remove the overhead.\n",
            "And if memory is not enough, you can set `force_col_wise=true`.\n",
            "[LightGBM] [Info] Total Bins 994\n",
            "[LightGBM] [Info] Number of data points in the train set: 16176, number of used features: 46\n",
            "[LightGBM] [Info] Start training from score 0.015702\n",
            "[LightGBM] [Info] Auto-choosing row-wise multi-threading, the overhead of testing was 0.002083 seconds.\n",
            "You can set `force_row_wise=true` to remove the overhead.\n",
            "And if memory is not enough, you can set `force_col_wise=true`.\n",
            "[LightGBM] [Info] Total Bins 994\n",
            "[LightGBM] [Info] Number of data points in the train set: 16177, number of used features: 47\n",
            "[LightGBM] [Info] Start training from score 0.014898\n",
            "[LightGBM] [Info] Auto-choosing row-wise multi-threading, the overhead of testing was 0.001095 seconds.\n",
            "You can set `force_row_wise=true` to remove the overhead.\n",
            "And if memory is not enough, you can set `force_col_wise=true`.\n",
            "[LightGBM] [Info] Total Bins 993\n",
            "[LightGBM] [Info] Number of data points in the train set: 16177, number of used features: 47\n",
            "[LightGBM] [Info] Start training from score 0.014650\n",
            "[LightGBM] [Info] Auto-choosing row-wise multi-threading, the overhead of testing was 0.001076 seconds.\n",
            "You can set `force_row_wise=true` to remove the overhead.\n",
            "And if memory is not enough, you can set `force_col_wise=true`.\n",
            "[LightGBM] [Info] Total Bins 994\n",
            "[LightGBM] [Info] Number of data points in the train set: 16176, number of used features: 46\n",
            "[LightGBM] [Info] Start training from score 0.015702\n",
            "[LightGBM] [Info] Auto-choosing row-wise multi-threading, the overhead of testing was 0.002970 seconds.\n",
            "You can set `force_row_wise=true` to remove the overhead.\n",
            "And if memory is not enough, you can set `force_col_wise=true`.\n",
            "[LightGBM] [Info] Total Bins 994\n",
            "[LightGBM] [Info] Number of data points in the train set: 16177, number of used features: 47\n",
            "[LightGBM] [Info] Start training from score 0.014898\n",
            "[LightGBM] [Info] Auto-choosing row-wise multi-threading, the overhead of testing was 0.001846 seconds.\n",
            "You can set `force_row_wise=true` to remove the overhead.\n",
            "And if memory is not enough, you can set `force_col_wise=true`.\n",
            "[LightGBM] [Info] Total Bins 993\n",
            "[LightGBM] [Info] Number of data points in the train set: 16177, number of used features: 47\n",
            "[LightGBM] [Info] Start training from score 0.014650\n",
            "[LightGBM] [Info] Auto-choosing row-wise multi-threading, the overhead of testing was 0.001926 seconds.\n",
            "You can set `force_row_wise=true` to remove the overhead.\n",
            "And if memory is not enough, you can set `force_col_wise=true`.\n",
            "[LightGBM] [Info] Total Bins 994\n",
            "[LightGBM] [Info] Number of data points in the train set: 16176, number of used features: 46\n",
            "[LightGBM] [Info] Start training from score 0.015702\n",
            "[LightGBM] [Info] Auto-choosing row-wise multi-threading, the overhead of testing was 0.003233 seconds.\n",
            "You can set `force_row_wise=true` to remove the overhead.\n",
            "And if memory is not enough, you can set `force_col_wise=true`.\n",
            "[LightGBM] [Info] Total Bins 994\n",
            "[LightGBM] [Info] Number of data points in the train set: 16177, number of used features: 47\n",
            "[LightGBM] [Info] Start training from score 0.014898\n",
            "[LightGBM] [Info] Auto-choosing row-wise multi-threading, the overhead of testing was 0.001849 seconds.\n",
            "You can set `force_row_wise=true` to remove the overhead.\n",
            "And if memory is not enough, you can set `force_col_wise=true`.\n",
            "[LightGBM] [Info] Total Bins 993\n",
            "[LightGBM] [Info] Number of data points in the train set: 16177, number of used features: 47\n",
            "[LightGBM] [Info] Start training from score 0.014650\n",
            "[LightGBM] [Info] Auto-choosing row-wise multi-threading, the overhead of testing was 0.001817 seconds.\n",
            "You can set `force_row_wise=true` to remove the overhead.\n",
            "And if memory is not enough, you can set `force_col_wise=true`.\n",
            "[LightGBM] [Info] Total Bins 994\n",
            "[LightGBM] [Info] Number of data points in the train set: 16176, number of used features: 46\n",
            "[LightGBM] [Info] Start training from score 0.015702\n",
            "[LightGBM] [Info] Auto-choosing row-wise multi-threading, the overhead of testing was 0.002006 seconds.\n",
            "You can set `force_row_wise=true` to remove the overhead.\n",
            "And if memory is not enough, you can set `force_col_wise=true`.\n",
            "[LightGBM] [Info] Total Bins 994\n",
            "[LightGBM] [Info] Number of data points in the train set: 16177, number of used features: 47\n",
            "[LightGBM] [Info] Start training from score 0.014898\n",
            "[LightGBM] [Info] Auto-choosing row-wise multi-threading, the overhead of testing was 0.001089 seconds.\n",
            "You can set `force_row_wise=true` to remove the overhead.\n",
            "And if memory is not enough, you can set `force_col_wise=true`.\n",
            "[LightGBM] [Info] Total Bins 993\n",
            "[LightGBM] [Info] Number of data points in the train set: 16177, number of used features: 47\n",
            "[LightGBM] [Info] Start training from score 0.014650\n",
            "[LightGBM] [Info] Auto-choosing row-wise multi-threading, the overhead of testing was 0.001027 seconds.\n",
            "You can set `force_row_wise=true` to remove the overhead.\n",
            "And if memory is not enough, you can set `force_col_wise=true`.\n",
            "[LightGBM] [Info] Total Bins 994\n",
            "[LightGBM] [Info] Number of data points in the train set: 16176, number of used features: 46\n",
            "[LightGBM] [Info] Start training from score 0.015702\n",
            "[LightGBM] [Info] Auto-choosing row-wise multi-threading, the overhead of testing was 0.003000 seconds.\n",
            "You can set `force_row_wise=true` to remove the overhead.\n",
            "And if memory is not enough, you can set `force_col_wise=true`.\n",
            "[LightGBM] [Info] Total Bins 994\n",
            "[LightGBM] [Info] Number of data points in the train set: 16177, number of used features: 47\n",
            "[LightGBM] [Info] Start training from score 0.014898\n",
            "[LightGBM] [Info] Auto-choosing row-wise multi-threading, the overhead of testing was 0.001090 seconds.\n",
            "You can set `force_row_wise=true` to remove the overhead.\n",
            "And if memory is not enough, you can set `force_col_wise=true`.\n",
            "[LightGBM] [Info] Total Bins 993\n",
            "[LightGBM] [Info] Number of data points in the train set: 16177, number of used features: 47\n",
            "[LightGBM] [Info] Start training from score 0.014650\n",
            "[LightGBM] [Info] Auto-choosing row-wise multi-threading, the overhead of testing was 0.001086 seconds.\n",
            "You can set `force_row_wise=true` to remove the overhead.\n",
            "And if memory is not enough, you can set `force_col_wise=true`.\n",
            "[LightGBM] [Info] Total Bins 994\n",
            "[LightGBM] [Info] Number of data points in the train set: 16176, number of used features: 46\n",
            "[LightGBM] [Info] Start training from score 0.015702\n",
            "[LightGBM] [Info] Auto-choosing row-wise multi-threading, the overhead of testing was 0.002002 seconds.\n",
            "You can set `force_row_wise=true` to remove the overhead.\n",
            "And if memory is not enough, you can set `force_col_wise=true`.\n",
            "[LightGBM] [Info] Total Bins 994\n",
            "[LightGBM] [Info] Number of data points in the train set: 16177, number of used features: 47\n",
            "[LightGBM] [Info] Start training from score 0.014898\n",
            "[LightGBM] [Info] Auto-choosing row-wise multi-threading, the overhead of testing was 0.001092 seconds.\n",
            "You can set `force_row_wise=true` to remove the overhead.\n",
            "And if memory is not enough, you can set `force_col_wise=true`.\n",
            "[LightGBM] [Info] Total Bins 993\n",
            "[LightGBM] [Info] Number of data points in the train set: 16177, number of used features: 47\n",
            "[LightGBM] [Info] Start training from score 0.014650\n",
            "[LightGBM] [Info] Auto-choosing row-wise multi-threading, the overhead of testing was 0.001083 seconds.\n",
            "You can set `force_row_wise=true` to remove the overhead.\n",
            "And if memory is not enough, you can set `force_col_wise=true`.\n",
            "[LightGBM] [Info] Total Bins 994\n",
            "[LightGBM] [Info] Number of data points in the train set: 16176, number of used features: 46\n",
            "[LightGBM] [Info] Start training from score 0.015702\n",
            "[LightGBM] [Info] Auto-choosing row-wise multi-threading, the overhead of testing was 0.002006 seconds.\n",
            "You can set `force_row_wise=true` to remove the overhead.\n",
            "And if memory is not enough, you can set `force_col_wise=true`.\n",
            "[LightGBM] [Info] Total Bins 994\n",
            "[LightGBM] [Info] Number of data points in the train set: 16177, number of used features: 47\n",
            "[LightGBM] [Info] Start training from score 0.014898\n",
            "[LightGBM] [Info] Auto-choosing row-wise multi-threading, the overhead of testing was 0.001113 seconds.\n",
            "You can set `force_row_wise=true` to remove the overhead.\n",
            "And if memory is not enough, you can set `force_col_wise=true`.\n",
            "[LightGBM] [Info] Total Bins 993\n",
            "[LightGBM] [Info] Number of data points in the train set: 16177, number of used features: 47\n",
            "[LightGBM] [Info] Start training from score 0.014650\n",
            "[LightGBM] [Info] Auto-choosing row-wise multi-threading, the overhead of testing was 0.001074 seconds.\n",
            "You can set `force_row_wise=true` to remove the overhead.\n",
            "And if memory is not enough, you can set `force_col_wise=true`.\n",
            "[LightGBM] [Info] Total Bins 994\n",
            "[LightGBM] [Info] Number of data points in the train set: 16176, number of used features: 46\n",
            "[LightGBM] [Info] Start training from score 0.015702\n",
            "[LightGBM] [Info] Auto-choosing row-wise multi-threading, the overhead of testing was 0.001947 seconds.\n",
            "You can set `force_row_wise=true` to remove the overhead.\n",
            "And if memory is not enough, you can set `force_col_wise=true`.\n",
            "[LightGBM] [Info] Total Bins 994\n",
            "[LightGBM] [Info] Number of data points in the train set: 16177, number of used features: 47\n",
            "[LightGBM] [Info] Start training from score 0.014898\n",
            "[LightGBM] [Info] Auto-choosing row-wise multi-threading, the overhead of testing was 0.001094 seconds.\n",
            "You can set `force_row_wise=true` to remove the overhead.\n",
            "And if memory is not enough, you can set `force_col_wise=true`.\n",
            "[LightGBM] [Info] Total Bins 993\n",
            "[LightGBM] [Info] Number of data points in the train set: 16177, number of used features: 47\n",
            "[LightGBM] [Info] Start training from score 0.014650\n",
            "[LightGBM] [Info] Auto-choosing row-wise multi-threading, the overhead of testing was 0.001096 seconds.\n",
            "You can set `force_row_wise=true` to remove the overhead.\n",
            "And if memory is not enough, you can set `force_col_wise=true`.\n",
            "[LightGBM] [Info] Total Bins 994\n",
            "[LightGBM] [Info] Number of data points in the train set: 16176, number of used features: 46\n",
            "[LightGBM] [Info] Start training from score 0.015702\n",
            "[LightGBM] [Info] Auto-choosing row-wise multi-threading, the overhead of testing was 0.002049 seconds.\n",
            "You can set `force_row_wise=true` to remove the overhead.\n",
            "And if memory is not enough, you can set `force_col_wise=true`.\n",
            "[LightGBM] [Info] Total Bins 994\n",
            "[LightGBM] [Info] Number of data points in the train set: 16177, number of used features: 47\n",
            "[LightGBM] [Info] Start training from score 0.014898\n",
            "[LightGBM] [Info] Auto-choosing row-wise multi-threading, the overhead of testing was 0.001071 seconds.\n",
            "You can set `force_row_wise=true` to remove the overhead.\n",
            "And if memory is not enough, you can set `force_col_wise=true`.\n",
            "[LightGBM] [Info] Total Bins 993\n",
            "[LightGBM] [Info] Number of data points in the train set: 16177, number of used features: 47\n",
            "[LightGBM] [Info] Start training from score 0.014650\n",
            "[LightGBM] [Info] Auto-choosing row-wise multi-threading, the overhead of testing was 0.001059 seconds.\n",
            "You can set `force_row_wise=true` to remove the overhead.\n",
            "And if memory is not enough, you can set `force_col_wise=true`.\n",
            "[LightGBM] [Info] Total Bins 994\n",
            "[LightGBM] [Info] Number of data points in the train set: 16176, number of used features: 46\n",
            "[LightGBM] [Info] Start training from score 0.015702\n",
            "[LightGBM] [Info] Auto-choosing row-wise multi-threading, the overhead of testing was 0.002460 seconds.\n",
            "You can set `force_row_wise=true` to remove the overhead.\n",
            "And if memory is not enough, you can set `force_col_wise=true`.\n",
            "[LightGBM] [Info] Total Bins 994\n",
            "[LightGBM] [Info] Number of data points in the train set: 16177, number of used features: 47\n",
            "[LightGBM] [Info] Start training from score 0.014898\n",
            "[LightGBM] [Info] Auto-choosing row-wise multi-threading, the overhead of testing was 0.001038 seconds.\n",
            "You can set `force_row_wise=true` to remove the overhead.\n",
            "And if memory is not enough, you can set `force_col_wise=true`.\n",
            "[LightGBM] [Info] Total Bins 993\n",
            "[LightGBM] [Info] Number of data points in the train set: 16177, number of used features: 47\n",
            "[LightGBM] [Info] Start training from score 0.014650\n",
            "[LightGBM] [Info] Auto-choosing row-wise multi-threading, the overhead of testing was 0.001124 seconds.\n",
            "You can set `force_row_wise=true` to remove the overhead.\n",
            "And if memory is not enough, you can set `force_col_wise=true`.\n",
            "[LightGBM] [Info] Total Bins 994\n",
            "[LightGBM] [Info] Number of data points in the train set: 16176, number of used features: 46\n",
            "[LightGBM] [Info] Start training from score 0.015702\n",
            "[LightGBM] [Info] Auto-choosing row-wise multi-threading, the overhead of testing was 0.001970 seconds.\n",
            "You can set `force_row_wise=true` to remove the overhead.\n",
            "And if memory is not enough, you can set `force_col_wise=true`.\n",
            "[LightGBM] [Info] Total Bins 994\n",
            "[LightGBM] [Info] Number of data points in the train set: 16177, number of used features: 47\n",
            "[LightGBM] [Info] Start training from score 0.014898\n",
            "[LightGBM] [Info] Auto-choosing row-wise multi-threading, the overhead of testing was 0.001063 seconds.\n",
            "You can set `force_row_wise=true` to remove the overhead.\n",
            "And if memory is not enough, you can set `force_col_wise=true`.\n",
            "[LightGBM] [Info] Total Bins 993\n",
            "[LightGBM] [Info] Number of data points in the train set: 16177, number of used features: 47\n",
            "[LightGBM] [Info] Start training from score 0.014650\n",
            "[LightGBM] [Info] Auto-choosing row-wise multi-threading, the overhead of testing was 0.001072 seconds.\n",
            "You can set `force_row_wise=true` to remove the overhead.\n",
            "And if memory is not enough, you can set `force_col_wise=true`.\n",
            "[LightGBM] [Info] Total Bins 994\n",
            "[LightGBM] [Info] Number of data points in the train set: 16176, number of used features: 46\n",
            "[LightGBM] [Info] Start training from score 0.015702\n",
            "[LightGBM] [Info] Auto-choosing row-wise multi-threading, the overhead of testing was 0.002375 seconds.\n",
            "You can set `force_row_wise=true` to remove the overhead.\n",
            "And if memory is not enough, you can set `force_col_wise=true`.\n",
            "[LightGBM] [Info] Total Bins 994\n",
            "[LightGBM] [Info] Number of data points in the train set: 16177, number of used features: 47\n",
            "[LightGBM] [Info] Start training from score 0.014898\n",
            "[LightGBM] [Info] Auto-choosing row-wise multi-threading, the overhead of testing was 0.001075 seconds.\n",
            "You can set `force_row_wise=true` to remove the overhead.\n",
            "And if memory is not enough, you can set `force_col_wise=true`.\n",
            "[LightGBM] [Info] Total Bins 993\n",
            "[LightGBM] [Info] Number of data points in the train set: 16177, number of used features: 47\n",
            "[LightGBM] [Info] Start training from score 0.014650\n",
            "[LightGBM] [Info] Auto-choosing row-wise multi-threading, the overhead of testing was 0.001079 seconds.\n",
            "You can set `force_row_wise=true` to remove the overhead.\n",
            "And if memory is not enough, you can set `force_col_wise=true`.\n",
            "[LightGBM] [Info] Total Bins 994\n",
            "[LightGBM] [Info] Number of data points in the train set: 16176, number of used features: 46\n",
            "[LightGBM] [Info] Start training from score 0.015702\n",
            "[LightGBM] [Info] Auto-choosing row-wise multi-threading, the overhead of testing was 0.001973 seconds.\n",
            "You can set `force_row_wise=true` to remove the overhead.\n",
            "And if memory is not enough, you can set `force_col_wise=true`.\n",
            "[LightGBM] [Info] Total Bins 994\n",
            "[LightGBM] [Info] Number of data points in the train set: 16177, number of used features: 47\n",
            "[LightGBM] [Info] Start training from score 0.014898\n",
            "[LightGBM] [Info] Auto-choosing row-wise multi-threading, the overhead of testing was 0.001076 seconds.\n",
            "You can set `force_row_wise=true` to remove the overhead.\n",
            "And if memory is not enough, you can set `force_col_wise=true`.\n",
            "[LightGBM] [Info] Total Bins 993\n",
            "[LightGBM] [Info] Number of data points in the train set: 16177, number of used features: 47\n",
            "[LightGBM] [Info] Start training from score 0.014650\n",
            "[LightGBM] [Info] Auto-choosing row-wise multi-threading, the overhead of testing was 0.001056 seconds.\n",
            "You can set `force_row_wise=true` to remove the overhead.\n",
            "And if memory is not enough, you can set `force_col_wise=true`.\n",
            "[LightGBM] [Info] Total Bins 994\n",
            "[LightGBM] [Info] Number of data points in the train set: 16176, number of used features: 46\n",
            "[LightGBM] [Info] Start training from score 0.015702\n",
            "[LightGBM] [Info] Auto-choosing row-wise multi-threading, the overhead of testing was 0.001965 seconds.\n",
            "You can set `force_row_wise=true` to remove the overhead.\n",
            "And if memory is not enough, you can set `force_col_wise=true`.\n",
            "[LightGBM] [Info] Total Bins 994\n",
            "[LightGBM] [Info] Number of data points in the train set: 16177, number of used features: 47\n",
            "[LightGBM] [Info] Start training from score 0.014898\n",
            "[LightGBM] [Info] Auto-choosing row-wise multi-threading, the overhead of testing was 0.001079 seconds.\n",
            "You can set `force_row_wise=true` to remove the overhead.\n",
            "And if memory is not enough, you can set `force_col_wise=true`.\n",
            "[LightGBM] [Info] Total Bins 993\n",
            "[LightGBM] [Info] Number of data points in the train set: 16177, number of used features: 47\n",
            "[LightGBM] [Info] Start training from score 0.014650\n",
            "[LightGBM] [Info] Auto-choosing row-wise multi-threading, the overhead of testing was 0.001087 seconds.\n",
            "You can set `force_row_wise=true` to remove the overhead.\n",
            "And if memory is not enough, you can set `force_col_wise=true`.\n",
            "[LightGBM] [Info] Total Bins 994\n",
            "[LightGBM] [Info] Number of data points in the train set: 16176, number of used features: 46\n",
            "[LightGBM] [Info] Start training from score 0.015702\n",
            "[LightGBM] [Info] Auto-choosing row-wise multi-threading, the overhead of testing was 0.002009 seconds.\n",
            "You can set `force_row_wise=true` to remove the overhead.\n",
            "And if memory is not enough, you can set `force_col_wise=true`.\n",
            "[LightGBM] [Info] Total Bins 994\n",
            "[LightGBM] [Info] Number of data points in the train set: 16177, number of used features: 47\n",
            "[LightGBM] [Info] Start training from score 0.014898\n",
            "[LightGBM] [Info] Auto-choosing row-wise multi-threading, the overhead of testing was 0.001023 seconds.\n",
            "You can set `force_row_wise=true` to remove the overhead.\n",
            "And if memory is not enough, you can set `force_col_wise=true`.\n",
            "[LightGBM] [Info] Total Bins 993\n",
            "[LightGBM] [Info] Number of data points in the train set: 16177, number of used features: 47\n",
            "[LightGBM] [Info] Start training from score 0.014650\n",
            "[LightGBM] [Info] Auto-choosing row-wise multi-threading, the overhead of testing was 0.001077 seconds.\n",
            "You can set `force_row_wise=true` to remove the overhead.\n",
            "And if memory is not enough, you can set `force_col_wise=true`.\n",
            "[LightGBM] [Info] Total Bins 994\n",
            "[LightGBM] [Info] Number of data points in the train set: 16176, number of used features: 46\n",
            "[LightGBM] [Info] Start training from score 0.015702\n",
            "[LightGBM] [Info] Auto-choosing row-wise multi-threading, the overhead of testing was 0.002084 seconds.\n",
            "You can set `force_row_wise=true` to remove the overhead.\n",
            "And if memory is not enough, you can set `force_col_wise=true`.\n",
            "[LightGBM] [Info] Total Bins 994\n",
            "[LightGBM] [Info] Number of data points in the train set: 16177, number of used features: 47\n",
            "[LightGBM] [Info] Start training from score 0.014898\n",
            "[LightGBM] [Info] Auto-choosing row-wise multi-threading, the overhead of testing was 0.001073 seconds.\n",
            "You can set `force_row_wise=true` to remove the overhead.\n",
            "And if memory is not enough, you can set `force_col_wise=true`.\n",
            "[LightGBM] [Info] Total Bins 993\n",
            "[LightGBM] [Info] Number of data points in the train set: 16177, number of used features: 47\n",
            "[LightGBM] [Info] Start training from score 0.014650\n",
            "[LightGBM] [Info] Auto-choosing row-wise multi-threading, the overhead of testing was 0.001801 seconds.\n",
            "You can set `force_row_wise=true` to remove the overhead.\n",
            "And if memory is not enough, you can set `force_col_wise=true`.\n",
            "[LightGBM] [Info] Total Bins 994\n",
            "[LightGBM] [Info] Number of data points in the train set: 16176, number of used features: 46\n",
            "[LightGBM] [Info] Start training from score 0.015702\n",
            "[LightGBM] [Info] Auto-choosing row-wise multi-threading, the overhead of testing was 0.001988 seconds.\n",
            "You can set `force_row_wise=true` to remove the overhead.\n",
            "And if memory is not enough, you can set `force_col_wise=true`.\n",
            "[LightGBM] [Info] Total Bins 994\n",
            "[LightGBM] [Info] Number of data points in the train set: 16177, number of used features: 47\n",
            "[LightGBM] [Info] Start training from score 0.014898\n",
            "[LightGBM] [Info] Auto-choosing row-wise multi-threading, the overhead of testing was 0.001072 seconds.\n",
            "You can set `force_row_wise=true` to remove the overhead.\n",
            "And if memory is not enough, you can set `force_col_wise=true`.\n",
            "[LightGBM] [Info] Total Bins 993\n",
            "[LightGBM] [Info] Number of data points in the train set: 16177, number of used features: 47\n",
            "[LightGBM] [Info] Start training from score 0.014650\n",
            "[LightGBM] [Info] Auto-choosing row-wise multi-threading, the overhead of testing was 0.001135 seconds.\n",
            "You can set `force_row_wise=true` to remove the overhead.\n",
            "And if memory is not enough, you can set `force_col_wise=true`.\n",
            "[LightGBM] [Info] Total Bins 994\n",
            "[LightGBM] [Info] Number of data points in the train set: 16176, number of used features: 46\n",
            "[LightGBM] [Info] Start training from score 0.015702\n",
            "[LightGBM] [Info] Auto-choosing row-wise multi-threading, the overhead of testing was 0.001998 seconds.\n",
            "You can set `force_row_wise=true` to remove the overhead.\n",
            "And if memory is not enough, you can set `force_col_wise=true`.\n",
            "[LightGBM] [Info] Total Bins 994\n",
            "[LightGBM] [Info] Number of data points in the train set: 16177, number of used features: 47\n",
            "[LightGBM] [Info] Start training from score 0.014898\n",
            "[LightGBM] [Info] Auto-choosing row-wise multi-threading, the overhead of testing was 0.001066 seconds.\n",
            "You can set `force_row_wise=true` to remove the overhead.\n",
            "And if memory is not enough, you can set `force_col_wise=true`.\n",
            "[LightGBM] [Info] Total Bins 993\n",
            "[LightGBM] [Info] Number of data points in the train set: 16177, number of used features: 47\n",
            "[LightGBM] [Info] Start training from score 0.014650\n",
            "[LightGBM] [Info] Auto-choosing row-wise multi-threading, the overhead of testing was 0.001072 seconds.\n",
            "You can set `force_row_wise=true` to remove the overhead.\n",
            "And if memory is not enough, you can set `force_col_wise=true`.\n",
            "[LightGBM] [Info] Total Bins 994\n",
            "[LightGBM] [Info] Number of data points in the train set: 16176, number of used features: 46\n",
            "[LightGBM] [Info] Start training from score 0.015702\n",
            "[LightGBM] [Info] Auto-choosing row-wise multi-threading, the overhead of testing was 0.002168 seconds.\n",
            "You can set `force_row_wise=true` to remove the overhead.\n",
            "And if memory is not enough, you can set `force_col_wise=true`.\n",
            "[LightGBM] [Info] Total Bins 994\n",
            "[LightGBM] [Info] Number of data points in the train set: 16177, number of used features: 47\n",
            "[LightGBM] [Info] Start training from score 0.014898\n",
            "[LightGBM] [Info] Auto-choosing row-wise multi-threading, the overhead of testing was 0.001068 seconds.\n",
            "You can set `force_row_wise=true` to remove the overhead.\n",
            "And if memory is not enough, you can set `force_col_wise=true`.\n",
            "[LightGBM] [Info] Total Bins 993\n",
            "[LightGBM] [Info] Number of data points in the train set: 16177, number of used features: 47\n",
            "[LightGBM] [Info] Start training from score 0.014650\n",
            "[LightGBM] [Info] Auto-choosing row-wise multi-threading, the overhead of testing was 0.001074 seconds.\n",
            "You can set `force_row_wise=true` to remove the overhead.\n",
            "And if memory is not enough, you can set `force_col_wise=true`.\n",
            "[LightGBM] [Info] Total Bins 994\n",
            "[LightGBM] [Info] Number of data points in the train set: 16176, number of used features: 46\n",
            "[LightGBM] [Info] Start training from score 0.015702\n",
            "[LightGBM] [Info] Auto-choosing row-wise multi-threading, the overhead of testing was 0.002112 seconds.\n",
            "You can set `force_row_wise=true` to remove the overhead.\n",
            "And if memory is not enough, you can set `force_col_wise=true`.\n",
            "[LightGBM] [Info] Total Bins 994\n",
            "[LightGBM] [Info] Number of data points in the train set: 16177, number of used features: 47\n",
            "[LightGBM] [Info] Start training from score 0.014898\n",
            "[LightGBM] [Info] Auto-choosing row-wise multi-threading, the overhead of testing was 0.001078 seconds.\n",
            "You can set `force_row_wise=true` to remove the overhead.\n",
            "And if memory is not enough, you can set `force_col_wise=true`.\n",
            "[LightGBM] [Info] Total Bins 993\n",
            "[LightGBM] [Info] Number of data points in the train set: 16177, number of used features: 47\n",
            "[LightGBM] [Info] Start training from score 0.014650\n",
            "[LightGBM] [Info] Auto-choosing row-wise multi-threading, the overhead of testing was 0.001089 seconds.\n",
            "You can set `force_row_wise=true` to remove the overhead.\n",
            "And if memory is not enough, you can set `force_col_wise=true`.\n",
            "[LightGBM] [Info] Total Bins 994\n",
            "[LightGBM] [Info] Number of data points in the train set: 16176, number of used features: 46\n",
            "[LightGBM] [Info] Start training from score 0.015702\n",
            "[LightGBM] [Info] Auto-choosing row-wise multi-threading, the overhead of testing was 0.002683 seconds.\n",
            "You can set `force_row_wise=true` to remove the overhead.\n",
            "And if memory is not enough, you can set `force_col_wise=true`.\n",
            "[LightGBM] [Info] Total Bins 994\n",
            "[LightGBM] [Info] Number of data points in the train set: 16177, number of used features: 47\n",
            "[LightGBM] [Info] Start training from score 0.014898\n",
            "[LightGBM] [Info] Auto-choosing row-wise multi-threading, the overhead of testing was 0.001838 seconds.\n",
            "You can set `force_row_wise=true` to remove the overhead.\n",
            "And if memory is not enough, you can set `force_col_wise=true`.\n",
            "[LightGBM] [Info] Total Bins 993\n",
            "[LightGBM] [Info] Number of data points in the train set: 16177, number of used features: 47\n",
            "[LightGBM] [Info] Start training from score 0.014650\n",
            "[LightGBM] [Info] Auto-choosing row-wise multi-threading, the overhead of testing was 0.001882 seconds.\n",
            "You can set `force_row_wise=true` to remove the overhead.\n",
            "And if memory is not enough, you can set `force_col_wise=true`.\n",
            "[LightGBM] [Info] Total Bins 994\n",
            "[LightGBM] [Info] Number of data points in the train set: 16176, number of used features: 46\n",
            "[LightGBM] [Info] Start training from score 0.015702\n",
            "[LightGBM] [Info] Auto-choosing row-wise multi-threading, the overhead of testing was 0.003240 seconds.\n",
            "You can set `force_row_wise=true` to remove the overhead.\n",
            "And if memory is not enough, you can set `force_col_wise=true`.\n",
            "[LightGBM] [Info] Total Bins 994\n",
            "[LightGBM] [Info] Number of data points in the train set: 16177, number of used features: 47\n",
            "[LightGBM] [Info] Start training from score 0.014898\n",
            "[LightGBM] [Info] Auto-choosing row-wise multi-threading, the overhead of testing was 0.001943 seconds.\n",
            "You can set `force_row_wise=true` to remove the overhead.\n",
            "And if memory is not enough, you can set `force_col_wise=true`.\n",
            "[LightGBM] [Info] Total Bins 993\n",
            "[LightGBM] [Info] Number of data points in the train set: 16177, number of used features: 47\n",
            "[LightGBM] [Info] Start training from score 0.014650\n",
            "[LightGBM] [Info] Auto-choosing row-wise multi-threading, the overhead of testing was 0.001869 seconds.\n",
            "You can set `force_row_wise=true` to remove the overhead.\n",
            "And if memory is not enough, you can set `force_col_wise=true`.\n",
            "[LightGBM] [Info] Total Bins 994\n",
            "[LightGBM] [Info] Number of data points in the train set: 16176, number of used features: 46\n",
            "[LightGBM] [Info] Start training from score 0.015702\n",
            "[LightGBM] [Info] Auto-choosing row-wise multi-threading, the overhead of testing was 0.003168 seconds.\n",
            "You can set `force_row_wise=true` to remove the overhead.\n",
            "And if memory is not enough, you can set `force_col_wise=true`.\n",
            "[LightGBM] [Info] Total Bins 994\n",
            "[LightGBM] [Info] Number of data points in the train set: 16177, number of used features: 47\n",
            "[LightGBM] [Info] Start training from score 0.014898\n",
            "[LightGBM] [Info] Auto-choosing col-wise multi-threading, the overhead of testing was 0.006700 seconds.\n",
            "You can set `force_col_wise=true` to remove the overhead.\n",
            "[LightGBM] [Info] Total Bins 993\n",
            "[LightGBM] [Info] Number of data points in the train set: 16177, number of used features: 47\n",
            "[LightGBM] [Info] Start training from score 0.014650\n",
            "[LightGBM] [Info] Auto-choosing row-wise multi-threading, the overhead of testing was 0.001786 seconds.\n",
            "You can set `force_row_wise=true` to remove the overhead.\n",
            "And if memory is not enough, you can set `force_col_wise=true`.\n",
            "[LightGBM] [Info] Total Bins 994\n",
            "[LightGBM] [Info] Number of data points in the train set: 16176, number of used features: 46\n",
            "[LightGBM] [Info] Start training from score 0.015702\n",
            "[LightGBM] [Info] Auto-choosing row-wise multi-threading, the overhead of testing was 0.001987 seconds.\n",
            "You can set `force_row_wise=true` to remove the overhead.\n",
            "And if memory is not enough, you can set `force_col_wise=true`.\n",
            "[LightGBM] [Info] Total Bins 994\n",
            "[LightGBM] [Info] Number of data points in the train set: 16177, number of used features: 47\n",
            "[LightGBM] [Info] Start training from score 0.014898\n",
            "[LightGBM] [Info] Auto-choosing row-wise multi-threading, the overhead of testing was 0.001085 seconds.\n",
            "You can set `force_row_wise=true` to remove the overhead.\n",
            "And if memory is not enough, you can set `force_col_wise=true`.\n",
            "[LightGBM] [Info] Total Bins 993\n",
            "[LightGBM] [Info] Number of data points in the train set: 16177, number of used features: 47\n",
            "[LightGBM] [Info] Start training from score 0.014650\n",
            "[LightGBM] [Info] Auto-choosing row-wise multi-threading, the overhead of testing was 0.001098 seconds.\n",
            "You can set `force_row_wise=true` to remove the overhead.\n",
            "And if memory is not enough, you can set `force_col_wise=true`.\n",
            "[LightGBM] [Info] Total Bins 994\n",
            "[LightGBM] [Info] Number of data points in the train set: 16176, number of used features: 46\n",
            "[LightGBM] [Info] Start training from score 0.015702\n",
            "[LightGBM] [Info] Auto-choosing row-wise multi-threading, the overhead of testing was 0.002046 seconds.\n",
            "You can set `force_row_wise=true` to remove the overhead.\n",
            "And if memory is not enough, you can set `force_col_wise=true`.\n",
            "[LightGBM] [Info] Total Bins 994\n",
            "[LightGBM] [Info] Number of data points in the train set: 16177, number of used features: 47\n",
            "[LightGBM] [Info] Start training from score 0.014898\n",
            "[LightGBM] [Info] Auto-choosing row-wise multi-threading, the overhead of testing was 0.001140 seconds.\n",
            "You can set `force_row_wise=true` to remove the overhead.\n",
            "And if memory is not enough, you can set `force_col_wise=true`.\n",
            "[LightGBM] [Info] Total Bins 993\n",
            "[LightGBM] [Info] Number of data points in the train set: 16177, number of used features: 47\n",
            "[LightGBM] [Info] Start training from score 0.014650\n",
            "[LightGBM] [Info] Auto-choosing row-wise multi-threading, the overhead of testing was 0.003060 seconds.\n",
            "You can set `force_row_wise=true` to remove the overhead.\n",
            "And if memory is not enough, you can set `force_col_wise=true`.\n",
            "[LightGBM] [Info] Total Bins 1012\n",
            "[LightGBM] [Info] Number of data points in the train set: 24265, number of used features: 48\n",
            "[LightGBM] [Info] Start training from score 0.015083\n",
            "Best parameters found by grid search are: {'learning_rate': 0.05, 'n_estimators': 30}\n"
          ]
        }
      ],
      "source": [
        "# other scikit-learn modules\n",
        "estimator = lgb.LGBMRegressor(num_leaves=31)\n",
        "param_grid = {\n",
        "    'learning_rate': [0.01, 0.05, 0.1, 0.5, 1],\n",
        "    'n_estimators': [20, 30, 40, 50, 70, 100, 120]\n",
        "}\n",
        "\n",
        "gbm = GridSearchCV(estimator, param_grid, cv=3)\n",
        "gbm.fit(X_train, y_train)\n",
        "print('Best parameters found by grid search are:', gbm.best_params_)"
      ]
    },
    {
      "cell_type": "markdown",
      "id": "BJjUEZWtXQ-U",
      "metadata": {
        "id": "BJjUEZWtXQ-U"
      },
      "source": [
        "Best parameters found by grid search are: {'learning_rate': 0.05, 'n_estimators': 30}\n",
        "\n",
        "\n",
        "Предсказание и оценка:"
      ]
    },
    {
      "cell_type": "code",
      "execution_count": null,
      "id": "9ZdxSwShXPS2",
      "metadata": {
        "id": "9ZdxSwShXPS2"
      },
      "outputs": [],
      "source": [
        "pred = gbm.predict(X_test)"
      ]
    },
    {
      "cell_type": "code",
      "execution_count": null,
      "id": "qZfOreXOXifL",
      "metadata": {
        "colab": {
          "base_uri": "https://localhost:8080/"
        },
        "id": "qZfOreXOXifL",
        "outputId": "b9c69fb2-0f44-412b-f801-02fbdaf37953"
      },
      "outputs": [
        {
          "data": {
            "text/plain": [
              "0.0011384060302377834"
            ]
          },
          "execution_count": 74,
          "metadata": {},
          "output_type": "execute_result"
        }
      ],
      "source": [
        "from sklearn.metrics import mean_squared_error\n",
        "mean_squared_error(y_test, pred)"
      ]
    },
    {
      "cell_type": "markdown",
      "id": "xBdxSABhZF0u",
      "metadata": {
        "id": "xBdxSABhZF0u"
      },
      "source": [
        "Теперь сделаю обучение на последнем ансамбле: Catboost."
      ]
    },
    {
      "cell_type": "code",
      "execution_count": null,
      "id": "g6_NivDKZFVj",
      "metadata": {
        "colab": {
          "base_uri": "https://localhost:8080/"
        },
        "id": "g6_NivDKZFVj",
        "outputId": "7e9fefa7-f0f3-4638-98a3-b0eefc89ccde"
      },
      "outputs": [
        {
          "name": "stdout",
          "output_type": "stream",
          "text": [
            "Requirement already satisfied: catboost in /usr/local/lib/python3.10/dist-packages (1.2.3)\n",
            "Requirement already satisfied: graphviz in /usr/local/lib/python3.10/dist-packages (from catboost) (0.20.3)\n",
            "Requirement already satisfied: matplotlib in /usr/local/lib/python3.10/dist-packages (from catboost) (3.7.1)\n",
            "Requirement already satisfied: numpy>=1.16.0 in /usr/local/lib/python3.10/dist-packages (from catboost) (1.25.2)\n",
            "Requirement already satisfied: pandas>=0.24 in /usr/local/lib/python3.10/dist-packages (from catboost) (1.5.3)\n",
            "Requirement already satisfied: scipy in /usr/local/lib/python3.10/dist-packages (from catboost) (1.11.4)\n",
            "Requirement already satisfied: plotly in /usr/local/lib/python3.10/dist-packages (from catboost) (5.15.0)\n",
            "Requirement already satisfied: six in /usr/local/lib/python3.10/dist-packages (from catboost) (1.16.0)\n",
            "Requirement already satisfied: python-dateutil>=2.8.1 in /usr/local/lib/python3.10/dist-packages (from pandas>=0.24->catboost) (2.8.2)\n",
            "Requirement already satisfied: pytz>=2020.1 in /usr/local/lib/python3.10/dist-packages (from pandas>=0.24->catboost) (2023.4)\n",
            "Requirement already satisfied: contourpy>=1.0.1 in /usr/local/lib/python3.10/dist-packages (from matplotlib->catboost) (1.2.0)\n",
            "Requirement already satisfied: cycler>=0.10 in /usr/local/lib/python3.10/dist-packages (from matplotlib->catboost) (0.12.1)\n",
            "Requirement already satisfied: fonttools>=4.22.0 in /usr/local/lib/python3.10/dist-packages (from matplotlib->catboost) (4.50.0)\n",
            "Requirement already satisfied: kiwisolver>=1.0.1 in /usr/local/lib/python3.10/dist-packages (from matplotlib->catboost) (1.4.5)\n",
            "Requirement already satisfied: packaging>=20.0 in /usr/local/lib/python3.10/dist-packages (from matplotlib->catboost) (24.0)\n",
            "Requirement already satisfied: pillow>=6.2.0 in /usr/local/lib/python3.10/dist-packages (from matplotlib->catboost) (9.4.0)\n",
            "Requirement already satisfied: pyparsing>=2.3.1 in /usr/local/lib/python3.10/dist-packages (from matplotlib->catboost) (3.1.2)\n",
            "Requirement already satisfied: tenacity>=6.2.0 in /usr/local/lib/python3.10/dist-packages (from plotly->catboost) (8.2.3)\n"
          ]
        }
      ],
      "source": [
        "!pip install catboost"
      ]
    },
    {
      "cell_type": "code",
      "execution_count": null,
      "id": "l2rNDHo6sr7u",
      "metadata": {
        "colab": {
          "base_uri": "https://localhost:8080/"
        },
        "id": "l2rNDHo6sr7u",
        "outputId": "ae71996c-591d-445c-acaf-b2afad86fcce"
      },
      "outputs": [
        {
          "name": "stdout",
          "output_type": "stream",
          "text": [
            "1.2.3\n"
          ]
        }
      ],
      "source": [
        "import catboost\n",
        "print(catboost.__version__)\n",
        "import pandas as pd\n",
        "import os\n",
        "import numpy as np\n",
        "np.set_printoptions(precision=4)\n",
        "import catboost\n",
        "from catboost import *"
      ]
    },
    {
      "cell_type": "code",
      "execution_count": null,
      "id": "XNChJlPEZ_A4",
      "metadata": {
        "id": "XNChJlPEZ_A4"
      },
      "outputs": [],
      "source": [
        "from sklearn.metrics import mean_squared_error\n",
        "from sklearn.model_selection import GridSearchCV\n",
        "from sklearn.model_selection import train_test_split\n",
        "X_train = pd.read_csv('train_small.csv')\n",
        "X_test = pd.read_csv('test_small.csv')\n",
        "y_train = X_train['Disbursed']\n",
        "X_train = X_train.drop('Disbursed', axis=1)\n",
        "y_test = X_test['Disbursed']\n",
        "X_test = X_test.drop('Disbursed', axis=1)\n",
        "X_train, X_test, y_train, y_test = train_test_split(X_train, y_train, test_size=100, random_state=1234)"
      ]
    },
    {
      "cell_type": "code",
      "execution_count": null,
      "id": "JKIYiYb-alCe",
      "metadata": {
        "colab": {
          "base_uri": "https://localhost:8080/"
        },
        "id": "JKIYiYb-alCe",
        "outputId": "a27eaed5-fcf9-4ff9-d6e6-ccbe81c335df"
      },
      "outputs": [
        {
          "name": "stdout",
          "output_type": "stream",
          "text": [
            "[0, 1, 2, 3, 4, 5, 6, 7, 8, 9, 10, 11, 12, 13, 14, 15, 16, 17, 18, 19, 20, 21, 22, 23, 24, 25, 26, 27, 28, 29, 30, 31, 32, 33, 34, 35, 36, 37, 38, 39, 40, 41, 42, 43, 44, 45, 46, 47, 48, 49]\n"
          ]
        }
      ],
      "source": [
        "cat_features = list(range(0, X_train.shape[1])) # смотрим признаки, возвращает количество столбцов (признаков) в датафрейме.\n",
        "print(cat_features)\n",
        "# Теперь признаки будут рассматриваться как категориальные при построении модели. Это может помочь модели правильно обрабатывать данные и использовать их эффективнее в процессе обучения."
      ]
    },
    {
      "cell_type": "code",
      "execution_count": null,
      "id": "lEUZpcBkb0mu",
      "metadata": {
        "colab": {
          "base_uri": "https://localhost:8080/"
        },
        "id": "lEUZpcBkb0mu",
        "outputId": "0563da74-9649-4202-8beb-51175ffca0a1"
      },
      "outputs": [
        {
          "name": "stdout",
          "output_type": "stream",
          "text": [
            "Уникальные значения в y_train: {0.0, 1.0}\n",
            "Zero count = 23899.0, One count = 366.0\n",
            "Уникальные значения в y_test: {0.0}\n",
            "Zero count = 100.0, One count = 0.0\n"
          ]
        }
      ],
      "source": [
        "# выведу уникальные значения целевой переменной:\n",
        "# уникальные значений в обучающем наборе\n",
        "print('Уникальные значения в y_train:', set(y_train))\n",
        "# Кол-во нулей и единиц в целевой переменной обучающего набора\n",
        "print('Zero count = {}, One count = {}'.format(len(y_train) - sum(y_train), sum(y_train)))\n",
        "# уникальные значения целевой переменной в тестовом наборе\n",
        "print('Уникальные значения в y_test:', set(y_test))\n",
        "# Кол-во нулей и единиц в целевой переменной тестового набора\n",
        "print('Zero count = {}, One count = {}'.format(len(y_test) - sum(y_test), sum(y_test)))"
      ]
    },
    {
      "cell_type": "code",
      "execution_count": null,
      "id": "CF3Ec5l2fSK0",
      "metadata": {
        "colab": {
          "base_uri": "https://localhost:8080/"
        },
        "id": "CF3Ec5l2fSK0",
        "outputId": "9eb7ce8f-77ab-4f6c-ad04-4b17618d9088"
      },
      "outputs": [
        {
          "name": "stdout",
          "output_type": "stream",
          "text": [
            "Директория существует.\n"
          ]
        }
      ],
      "source": [
        "# Проверю, есть ли директорий, для этого можно написать простой код:\n",
        "import os\n",
        "directory_path = './train_small.csv'  # путь к директории\n",
        "if os.path.exists(directory_path):\n",
        "  print(\"Директория существует.\")\n",
        "else:\n",
        "  print(\"Директория не существует.\")"
      ]
    },
    {
      "cell_type": "code",
      "execution_count": null,
      "id": "WS3gukvafsuB",
      "metadata": {
        "colab": {
          "base_uri": "https://localhost:8080/"
        },
        "id": "WS3gukvafsuB",
        "outputId": "d40770cf-19a8-4ede-eb0b-982c0d1fc162"
      },
      "outputs": [
        {
          "name": "stdout",
          "output_type": "stream",
          "text": [
            "Директория существует.\n"
          ]
        }
      ],
      "source": [
        "import os\n",
        "directory_path = './test_small.csv'\n",
        "if os.path.exists(directory_path):\n",
        "  print(\"Директория существует.\")\n",
        "else:\n",
        "  print(\"Директория не существует.\")\n",
        "# Ну, вроде бы все на месте"
      ]
    },
    {
      "cell_type": "code",
      "execution_count": null,
      "id": "--o-r6_6gvoT",
      "metadata": {
        "id": "--o-r6_6gvoT"
      },
      "outputs": [],
      "source": [
        "X_train, X_test, y_train, y_test = train_test_split(X_train, y_train, test_size=100, random_state=1234)"
      ]
    },
    {
      "cell_type": "markdown",
      "id": "SHumb7-bgVMM",
      "metadata": {
        "id": "SHumb7-bgVMM"
      },
      "source": [
        "Обучение"
      ]
    },
    {
      "cell_type": "code",
      "execution_count": null,
      "id": "v2NubyuYgMo3",
      "metadata": {
        "colab": {
          "base_uri": "https://localhost:8080/"
        },
        "id": "v2NubyuYgMo3",
        "outputId": "9c00e611-751d-4bf7-daa8-0360259919ad"
      },
      "outputs": [
        {
          "name": "stdout",
          "output_type": "stream",
          "text": [
            "Model is fitted: True\n",
            "Model params:\n",
            "{'iterations': 150, 'learning_rate': 0.5}\n"
          ]
        }
      ],
      "source": [
        "from catboost import CatBoostClassifier\n",
        "model = CatBoostClassifier(\n",
        "    iterations=150,          # гиперпараметры\n",
        "    learning_rate=0.5,\n",
        ")\n",
        "model.fit(\n",
        "    X_train, y_train,\n",
        "    eval_set=(X_test, y_test),\n",
        "    verbose=False\n",
        ")\n",
        "print('Model is fitted: ' + str(model.is_fitted()))\n",
        "print('Model params:')\n",
        "print(model.get_params())"
      ]
    },
    {
      "cell_type": "code",
      "execution_count": null,
      "id": "Sx0Z71X7xwdY",
      "metadata": {
        "colab": {
          "base_uri": "https://localhost:8080/"
        },
        "id": "Sx0Z71X7xwdY",
        "outputId": "d5841429-ff12-428e-cfe8-d4756d0f151e"
      },
      "outputs": [
        {
          "name": "stdout",
          "output_type": "stream",
          "text": [
            "Learning rate set to 0.158839\n",
            "0:\tlearn: 0.4214781\ttest: 0.4259230\tbest: 0.4259230 (0)\ttotal: 28.4ms\tremaining: 4.23s\n",
            "3:\tlearn: 0.1266418\ttest: 0.1316449\tbest: 0.1316449 (3)\ttotal: 63.1ms\tremaining: 2.3s\n",
            "6:\tlearn: 0.0839695\ttest: 0.0940002\tbest: 0.0940002 (6)\ttotal: 94.7ms\tremaining: 1.93s\n",
            "9:\tlearn: 0.0727250\ttest: 0.0848723\tbest: 0.0848723 (9)\ttotal: 143ms\tremaining: 2s\n",
            "12:\tlearn: 0.0689847\ttest: 0.0803851\tbest: 0.0802251 (11)\ttotal: 222ms\tremaining: 2.34s\n",
            "15:\tlearn: 0.0664045\ttest: 0.0766671\tbest: 0.0766671 (15)\ttotal: 301ms\tremaining: 2.52s\n",
            "18:\tlearn: 0.0647501\ttest: 0.0753524\tbest: 0.0750283 (17)\ttotal: 372ms\tremaining: 2.56s\n",
            "21:\tlearn: 0.0638036\ttest: 0.0750316\tbest: 0.0746279 (20)\ttotal: 465ms\tremaining: 2.7s\n",
            "24:\tlearn: 0.0626516\ttest: 0.0724341\tbest: 0.0724341 (24)\ttotal: 547ms\tremaining: 2.74s\n",
            "27:\tlearn: 0.0618273\ttest: 0.0712188\tbest: 0.0712188 (27)\ttotal: 633ms\tremaining: 2.76s\n",
            "30:\tlearn: 0.0608291\ttest: 0.0697640\tbest: 0.0697640 (30)\ttotal: 721ms\tremaining: 2.77s\n",
            "33:\tlearn: 0.0600882\ttest: 0.0689984\tbest: 0.0689984 (33)\ttotal: 840ms\tremaining: 2.86s\n",
            "36:\tlearn: 0.0594740\ttest: 0.0701211\tbest: 0.0689984 (33)\ttotal: 974ms\tremaining: 2.97s\n",
            "39:\tlearn: 0.0587756\ttest: 0.0702919\tbest: 0.0689984 (33)\ttotal: 1.1s\tremaining: 3.03s\n",
            "42:\tlearn: 0.0579512\ttest: 0.0704913\tbest: 0.0689984 (33)\ttotal: 1.24s\tremaining: 3.08s\n",
            "45:\tlearn: 0.0571070\ttest: 0.0691402\tbest: 0.0689984 (33)\ttotal: 1.38s\tremaining: 3.11s\n",
            "48:\tlearn: 0.0565053\ttest: 0.0694243\tbest: 0.0689984 (33)\ttotal: 1.51s\tremaining: 3.11s\n",
            "51:\tlearn: 0.0558704\ttest: 0.0701824\tbest: 0.0689984 (33)\ttotal: 1.63s\tremaining: 3.06s\n",
            "54:\tlearn: 0.0555132\ttest: 0.0713523\tbest: 0.0689984 (33)\ttotal: 1.75s\tremaining: 3.02s\n",
            "57:\tlearn: 0.0551139\ttest: 0.0727838\tbest: 0.0689984 (33)\ttotal: 1.85s\tremaining: 2.93s\n",
            "60:\tlearn: 0.0545443\ttest: 0.0717791\tbest: 0.0689984 (33)\ttotal: 1.95s\tremaining: 2.84s\n",
            "63:\tlearn: 0.0536789\ttest: 0.0719143\tbest: 0.0689984 (33)\ttotal: 2.06s\tremaining: 2.77s\n",
            "66:\tlearn: 0.0532648\ttest: 0.0724534\tbest: 0.0689984 (33)\ttotal: 2.18s\tremaining: 2.7s\n",
            "69:\tlearn: 0.0529338\ttest: 0.0724240\tbest: 0.0689984 (33)\ttotal: 2.27s\tremaining: 2.6s\n",
            "72:\tlearn: 0.0526207\ttest: 0.0721872\tbest: 0.0689984 (33)\ttotal: 2.36s\tremaining: 2.49s\n",
            "75:\tlearn: 0.0521664\ttest: 0.0752721\tbest: 0.0689984 (33)\ttotal: 2.46s\tremaining: 2.4s\n",
            "78:\tlearn: 0.0520373\ttest: 0.0755017\tbest: 0.0689984 (33)\ttotal: 2.56s\tremaining: 2.3s\n",
            "81:\tlearn: 0.0515977\ttest: 0.0762966\tbest: 0.0689984 (33)\ttotal: 2.65s\tremaining: 2.2s\n",
            "84:\tlearn: 0.0512673\ttest: 0.0762083\tbest: 0.0689984 (33)\ttotal: 2.77s\tremaining: 2.12s\n",
            "87:\tlearn: 0.0506799\ttest: 0.0765044\tbest: 0.0689984 (33)\ttotal: 2.89s\tremaining: 2.04s\n",
            "90:\tlearn: 0.0503967\ttest: 0.0761657\tbest: 0.0689984 (33)\ttotal: 2.98s\tremaining: 1.93s\n",
            "93:\tlearn: 0.0501273\ttest: 0.0761642\tbest: 0.0689984 (33)\ttotal: 3.1s\tremaining: 1.85s\n",
            "96:\tlearn: 0.0497923\ttest: 0.0763397\tbest: 0.0689984 (33)\ttotal: 3.22s\tremaining: 1.76s\n",
            "99:\tlearn: 0.0494300\ttest: 0.0765590\tbest: 0.0689984 (33)\ttotal: 3.34s\tremaining: 1.67s\n",
            "102:\tlearn: 0.0492310\ttest: 0.0765263\tbest: 0.0689984 (33)\ttotal: 3.44s\tremaining: 1.57s\n",
            "105:\tlearn: 0.0490635\ttest: 0.0763930\tbest: 0.0689984 (33)\ttotal: 3.47s\tremaining: 1.44s\n",
            "108:\tlearn: 0.0487601\ttest: 0.0764936\tbest: 0.0689984 (33)\ttotal: 3.53s\tremaining: 1.33s\n",
            "111:\tlearn: 0.0482314\ttest: 0.0758375\tbest: 0.0689984 (33)\ttotal: 3.6s\tremaining: 1.22s\n",
            "114:\tlearn: 0.0480641\ttest: 0.0760353\tbest: 0.0689984 (33)\ttotal: 3.65s\tremaining: 1.11s\n",
            "117:\tlearn: 0.0477679\ttest: 0.0761635\tbest: 0.0689984 (33)\ttotal: 3.7s\tremaining: 1s\n",
            "120:\tlearn: 0.0476795\ttest: 0.0762232\tbest: 0.0689984 (33)\ttotal: 3.77s\tremaining: 903ms\n",
            "123:\tlearn: 0.0474232\ttest: 0.0772027\tbest: 0.0689984 (33)\ttotal: 3.8s\tremaining: 797ms\n",
            "126:\tlearn: 0.0471223\ttest: 0.0773348\tbest: 0.0689984 (33)\ttotal: 3.88s\tremaining: 702ms\n",
            "129:\tlearn: 0.0468347\ttest: 0.0790118\tbest: 0.0689984 (33)\ttotal: 3.92s\tremaining: 603ms\n",
            "132:\tlearn: 0.0465616\ttest: 0.0787352\tbest: 0.0689984 (33)\ttotal: 3.95s\tremaining: 505ms\n",
            "135:\tlearn: 0.0463066\ttest: 0.0786820\tbest: 0.0689984 (33)\ttotal: 3.99s\tremaining: 410ms\n",
            "138:\tlearn: 0.0461242\ttest: 0.0787391\tbest: 0.0689984 (33)\ttotal: 4.02s\tremaining: 318ms\n",
            "141:\tlearn: 0.0458638\ttest: 0.0785896\tbest: 0.0689984 (33)\ttotal: 4.05s\tremaining: 228ms\n",
            "144:\tlearn: 0.0455653\ttest: 0.0793107\tbest: 0.0689984 (33)\ttotal: 4.1s\tremaining: 142ms\n",
            "147:\tlearn: 0.0452578\ttest: 0.0795931\tbest: 0.0689984 (33)\ttotal: 4.17s\tremaining: 56.4ms\n",
            "149:\tlearn: 0.0451456\ttest: 0.0794808\tbest: 0.0689984 (33)\ttotal: 4.23s\tremaining: 0us\n",
            "\n",
            "bestTest = 0.06899841356\n",
            "bestIteration = 33\n",
            "\n",
            "Shrink model to first 34 iterations.\n"
          ]
        },
        {
          "data": {
            "text/plain": [
              "<catboost.core.CatBoostClassifier at 0x79ca1f0e6a70>"
            ]
          },
          "execution_count": 107,
          "metadata": {},
          "output_type": "execute_result"
        }
      ],
      "source": [
        "# Это так поняла, что это необязательно, я закоментила\n",
        "# Печать результатов:\n",
        "#from catboost import CatBoostClassifier\n",
        "#model = CatBoostClassifier(\n",
        " #   iterations=150,\n",
        "#     verbose=5, - уровень многословности\n",
        "#)\n",
        "#model.fit(\n",
        " #   X_train, y_train,\n",
        "  #  eval_set=(X_test, y_test),\n",
        "  #  verbose = 3\n",
        "#)"
      ]
    },
    {
      "cell_type": "markdown",
      "id": "hzuKgNBTiXzC",
      "metadata": {
        "id": "hzuKgNBTiXzC"
      },
      "source": [
        "bestTest = 0.06899841356\n",
        "\n",
        "bestIteration = 33\n",
        "\n",
        "Shrink model to first 34 iterations.\n"
      ]
    },
    {
      "cell_type": "code",
      "execution_count": null,
      "id": "iQn7rMY203JJ",
      "metadata": {
        "colab": {
          "base_uri": "https://localhost:8080/"
        },
        "id": "iQn7rMY203JJ",
        "outputId": "639bfb2a-336a-4815-903e-ec77ed7122b4"
      },
      "outputs": [
        {
          "data": {
            "text/plain": [
              "<catboost.core.CatBoostClassifier at 0x79ca1f0e5420>"
            ]
          },
          "execution_count": 108,
          "metadata": {},
          "output_type": "execute_result"
        }
      ],
      "source": [
        "# Метрика качества\n",
        "from matplotlib import pylab as plt\n",
        "from catboost import CatBoostClassifier\n",
        "model = CatBoostClassifier(\n",
        "    iterations=150,\n",
        "    random_seed=63,\n",
        "    learning_rate=0.5,\n",
        "    custom_loss=['AUC', 'Accuracy']\n",
        ")\n",
        "model.fit(\n",
        "    X_train, y_train,\n",
        "    eval_set=(X_test, y_test),\n",
        "    verbose=False\n",
        ")"
      ]
    },
    {
      "cell_type": "code",
      "execution_count": null,
      "id": "jWYPmM0oy_Oh",
      "metadata": {
        "colab": {
          "base_uri": "https://localhost:8080/"
        },
        "id": "jWYPmM0oy_Oh",
        "outputId": "dc0044d5-6ce9-4c8a-cbea-356632b2491e"
      },
      "outputs": [
        {
          "data": {
            "text/plain": [
              "<catboost.core.CatBoostClassifier at 0x79ca1f0e6a10>"
            ]
          },
          "execution_count": 109,
          "metadata": {},
          "output_type": "execute_result"
        }
      ],
      "source": [
        "# Кол-во деревьев\n",
        "from catboost import CatBoostClassifier\n",
        "model = CatBoostClassifier(\n",
        "  iterations=150, # выберет кол-во деревьев, которые не переобучается, если качесство на тесте растет,значит нужно перестать обучать модель\n",
        "  random_seed=63,\n",
        "  learning_rate=0.5,\n",
        "  use_best_model=False\n",
        ")\n",
        "model.fit(\n",
        "  X_train, y_train,\n",
        "  eval_set=(X_test, y_test),\n",
        "  verbose=False\n",
        ")"
      ]
    },
    {
      "cell_type": "code",
      "execution_count": null,
      "id": "W59aFngtjMdY",
      "metadata": {
        "colab": {
          "base_uri": "https://localhost:8080/"
        },
        "id": "W59aFngtjMdY",
        "outputId": "9c6286ac-d7e3-4f04-9676-b9e0e4e54a77"
      },
      "outputs": [
        {
          "name": "stdout",
          "output_type": "stream",
          "text": [
            "Tree count: 150\n"
          ]
        }
      ],
      "source": [
        "print('Tree count: ' + str(model.tree_count_))"
      ]
    },
    {
      "cell_type": "code",
      "execution_count": null,
      "id": "2zqjCIoI1x4u",
      "metadata": {
        "colab": {
          "base_uri": "https://localhost:8080/"
        },
        "id": "2zqjCIoI1x4u",
        "outputId": "cba560a5-6aaa-4506-db36-d9bf06f96268"
      },
      "outputs": [
        {
          "name": "stdout",
          "output_type": "stream",
          "text": [
            "Training on fold [0/5]\n",
            "\n",
            "bestTest = 0.06322170896\n",
            "bestIteration = 99\n",
            "\n",
            "Training on fold [1/5]\n",
            "\n",
            "bestTest = 0.06792089189\n",
            "bestIteration = 97\n",
            "\n",
            "Training on fold [2/5]\n",
            "\n",
            "bestTest = 0.06746905247\n",
            "bestIteration = 96\n",
            "\n",
            "Training on fold [3/5]\n",
            "\n",
            "bestTest = 0.06622206671\n",
            "bestIteration = 97\n",
            "\n",
            "Training on fold [4/5]\n",
            "\n",
            "bestTest = 0.07152784851\n",
            "bestIteration = 99\n",
            "\n"
          ]
        }
      ],
      "source": [
        "# Кросс-валидация\n",
        "from catboost import cv\n",
        "\n",
        "params = {}\n",
        "params['loss_function'] = 'Logloss'\n",
        "params['iterations'] = 100\n",
        "params['custom_loss'] = 'AUC'\n",
        "params['random_seed'] = 63\n",
        "params['learning_rate'] = 0.05\n",
        "\n",
        "cv_data = cv(\n",
        "    params = params,\n",
        "    pool = Pool(X_train, label=y_train),\n",
        "    fold_count=5,\n",
        "    shuffle=True,\n",
        "    partition_random_seed=0,\n",
        "    stratified=False,\n",
        "    verbose=False\n",
        ")"
      ]
    },
    {
      "cell_type": "markdown",
      "id": "3YFWLL0XLAFI",
      "metadata": {
        "id": "3YFWLL0XLAFI"
      },
      "source": [
        "bestTest = 0.07152784851\n",
        "\n",
        "bestIteration = 99\n",
        "\n"
      ]
    },
    {
      "cell_type": "code",
      "execution_count": null,
      "id": "hTzenEcA3JQs",
      "metadata": {
        "colab": {
          "base_uri": "https://localhost:8080/"
        },
        "id": "hTzenEcA3JQs",
        "outputId": "01488b22-01d6-47c1-e0d3-eeef7cc25d8d"
      },
      "outputs": [
        {
          "data": {
            "text/plain": [
              "<catboost.core.CatBoostClassifier at 0x79ca9061b430>"
            ]
          },
          "execution_count": 114,
          "metadata": {},
          "output_type": "execute_result"
        }
      ],
      "source": [
        "model_with_early_stop = CatBoostClassifier(\n",
        "    iterations=100, # сколько деревьев мы обучили на ошибках\n",
        "    random_seed=63,\n",
        "    learning_rate=0.5,\n",
        "    early_stopping_rounds=20\n",
        ")\n",
        "model_with_early_stop.fit(\n",
        "    X_train, y_train,\n",
        "    eval_set=(X_test, y_test),\n",
        "    verbose=False\n",
        ")"
      ]
    },
    {
      "cell_type": "code",
      "execution_count": null,
      "id": "qDLqpLBH3lAa",
      "metadata": {
        "colab": {
          "base_uri": "https://localhost:8080/"
        },
        "id": "qDLqpLBH3lAa",
        "outputId": "d902f7e0-47ed-4e3b-ec65-a4d680df09a7"
      },
      "outputs": [
        {
          "data": {
            "text/plain": [
              "<catboost.core.CatBoostClassifier at 0x79ca1f0e6440>"
            ]
          },
          "execution_count": 115,
          "metadata": {},
          "output_type": "execute_result"
        }
      ],
      "source": [
        "model = CatBoostClassifier(\n",
        "    random_seed=63,\n",
        "    iterations=150,\n",
        "    learning_rate=0.5,\n",
        ")\n",
        "model.fit(\n",
        "    X_train, y_train,\n",
        "    verbose=False\n",
        ")"
      ]
    },
    {
      "cell_type": "markdown",
      "id": "TIuqoM_oLNqX",
      "metadata": {
        "id": "TIuqoM_oLNqX"
      },
      "source": [
        "Детектор переобучения"
      ]
    },
    {
      "cell_type": "code",
      "execution_count": null,
      "id": "6yOAyrk1LNN-",
      "metadata": {
        "colab": {
          "base_uri": "https://localhost:8080/"
        },
        "id": "6yOAyrk1LNN-",
        "outputId": "2dd73f96-7fbc-4d24-dffe-933a944ceee8"
      },
      "outputs": [
        {
          "data": {
            "text/plain": [
              "<catboost.core.CatBoostClassifier at 0x79ca1f0e4ca0>"
            ]
          },
          "execution_count": 116,
          "metadata": {},
          "output_type": "execute_result"
        }
      ],
      "source": [
        "model_with_early_stop = CatBoostClassifier(\n",
        "    iterations=100, # сколько деревьев мы обучили на ошибках\n",
        "    random_seed=63,\n",
        "    learning_rate=0.5,\n",
        "    early_stopping_rounds=20\n",
        ")\n",
        "model_with_early_stop.fit(\n",
        "    X_train, y_train,\n",
        "    eval_set=(X_test, y_test),\n",
        "    verbose=False\n",
        ")"
      ]
    },
    {
      "cell_type": "code",
      "execution_count": null,
      "id": "V7ag_Gc1LqjY",
      "metadata": {
        "colab": {
          "base_uri": "https://localhost:8080/"
        },
        "id": "V7ag_Gc1LqjY",
        "outputId": "f7d04a8b-6ccc-438b-db5f-b46986db5088"
      },
      "outputs": [
        {
          "name": "stdout",
          "output_type": "stream",
          "text": [
            "9\n"
          ]
        }
      ],
      "source": [
        "print(model_with_early_stop.tree_count_)"
      ]
    },
    {
      "cell_type": "code",
      "execution_count": null,
      "id": "BgATDDGnLvS8",
      "metadata": {
        "colab": {
          "base_uri": "https://localhost:8080/"
        },
        "id": "BgATDDGnLvS8",
        "outputId": "8de95b9f-2aa4-44c1-b2c3-4cfaa203202f"
      },
      "outputs": [
        {
          "data": {
            "text/plain": [
              "<catboost.core.CatBoostClassifier at 0x79ca1f0e70a0>"
            ]
          },
          "execution_count": 118,
          "metadata": {},
          "output_type": "execute_result"
        }
      ],
      "source": [
        "model_with_early_stop = CatBoostClassifier(\n",
        "    eval_metric='AUC',\n",
        "    iterations=100,\n",
        "    random_seed=63,\n",
        "    learning_rate=0.5,\n",
        "    early_stopping_rounds=20\n",
        ")\n",
        "model_with_early_stop.fit(\n",
        "    X_train, y_train,\n",
        "    eval_set=(X_test, y_test),\n",
        "    verbose=False\n",
        ")"
      ]
    },
    {
      "cell_type": "code",
      "execution_count": null,
      "id": "PNHR_3rWL_52",
      "metadata": {
        "colab": {
          "base_uri": "https://localhost:8080/"
        },
        "id": "PNHR_3rWL_52",
        "outputId": "2e53b19f-799c-4d23-a76c-b45b116c0a33"
      },
      "outputs": [
        {
          "name": "stdout",
          "output_type": "stream",
          "text": [
            "7\n"
          ]
        }
      ],
      "source": [
        "print(model_with_early_stop.tree_count_)"
      ]
    },
    {
      "cell_type": "markdown",
      "id": "4-gwPdbOMGJt",
      "metadata": {
        "id": "4-gwPdbOMGJt"
      },
      "source": [
        "Выбор порога"
      ]
    },
    {
      "cell_type": "code",
      "execution_count": null,
      "id": "mXQzoAiYMEXF",
      "metadata": {
        "colab": {
          "base_uri": "https://localhost:8080/"
        },
        "id": "mXQzoAiYMEXF",
        "outputId": "a8278c3e-ffc8-4bfc-c4a9-59831ee820f5"
      },
      "outputs": [
        {
          "data": {
            "text/plain": [
              "<catboost.core.CatBoostClassifier at 0x79ca1f0e5390>"
            ]
          },
          "execution_count": 120,
          "metadata": {},
          "output_type": "execute_result"
        }
      ],
      "source": [
        "model = CatBoostClassifier(\n",
        "    random_seed=63,\n",
        "    iterations=100,\n",
        "    learning_rate=0.5,\n",
        ")\n",
        "model.fit(\n",
        "    X_train, y_train,\n",
        "    verbose=False\n",
        ")"
      ]
    },
    {
      "cell_type": "code",
      "execution_count": null,
      "id": "m2kbuq0rMSkQ",
      "metadata": {
        "id": "m2kbuq0rMSkQ"
      },
      "outputs": [],
      "source": [
        "from catboost.utils import get_roc_curve\n",
        "import sklearn\n",
        "from sklearn import metrics\n",
        "eval_pool = Pool(X_test, y_test)\n",
        "curve = get_roc_curve(model, eval_pool)\n",
        "(fpr, tpr, thresholds) = curve\n",
        "roc_auc = sklearn.metrics.auc(fpr, tpr)"
      ]
    },
    {
      "cell_type": "code",
      "execution_count": null,
      "id": "JYb6rsRDMiko",
      "metadata": {
        "colab": {
          "base_uri": "https://localhost:8080/",
          "height": 738
        },
        "id": "JYb6rsRDMiko",
        "outputId": "4c169d30-413e-42c2-9fd2-b8aaff396829"
      },
      "outputs": [
        {
          "data": {
            "image/png": "[encoded data removed]",
            "text/plain": [
              "<Figure size 800x800 with 1 Axes>"
            ]
          },
          "metadata": {},
          "output_type": "display_data"
        }
      ],
      "source": [
        "import matplotlib.pyplot as plt\n",
        "plt.figure(figsize=(8, 8))\n",
        "lw = 2\n",
        "plt.plot(fpr, tpr, color='darkorange',\n",
        "         lw=lw, label='ROC curve (area = %0.2f)' % roc_auc, alpha=0.5)\n",
        "\n",
        "plt.plot([0, 1], [0, 1], color='navy', lw=lw, linestyle='--', alpha=0.5)\n",
        "plt.xlim([0.0, 1.0])\n",
        "plt.ylim([0.0, 1.05])\n",
        "plt.xticks(fontsize=16)\n",
        "plt.yticks(fontsize=16)\n",
        "plt.grid(True)\n",
        "plt.xlabel('False Positive Rate', fontsize=16)\n",
        "plt.ylabel('True Positive Rate', fontsize=16)\n",
        "plt.title('Receiver operating characteristic', fontsize=20)\n",
        "plt.legend(loc=\"lower right\", fontsize=16)\n",
        "plt.show()"
      ]
    },
    {
      "cell_type": "code",
      "execution_count": null,
      "id": "u7C9SSgPMq8K",
      "metadata": {
        "id": "u7C9SSgPMq8K"
      },
      "outputs": [],
      "source": [
        "from catboost.utils import get_fpr_curve\n",
        "from catboost.utils import get_fnr_curve\n",
        "(thresholds, fpr) = get_fpr_curve(curve=curve)\n",
        "(thresholds, fnr) = get_fnr_curve(curve=curve)"
      ]
    },
    {
      "cell_type": "code",
      "execution_count": null,
      "id": "unjChzDnMu9U",
      "metadata": {
        "colab": {
          "base_uri": "https://localhost:8080/",
          "height": 738
        },
        "id": "unjChzDnMu9U",
        "outputId": "f7339467-38fd-457d-dac5-c65ca1ed92af"
      },
      "outputs": [
        {
          "data": {
            "image/png": "[encoded data removed]",
            "text/plain": [
              "<Figure size 800x800 with 1 Axes>"
            ]
          },
          "metadata": {},
          "output_type": "display_data"
        }
      ],
      "source": [
        "plt.figure(figsize=(8, 8))\n",
        "lw = 2\n",
        "\n",
        "plt.plot(thresholds, fpr, color='blue', lw=lw, label='FPR', alpha=0.5)\n",
        "plt.plot(thresholds, fnr, color='green', lw=lw, label='FNR', alpha=0.5)\n",
        "\n",
        "plt.xlim([0.0, 1.0])\n",
        "plt.ylim([0.0, 1.05])\n",
        "plt.xticks(fontsize=16)\n",
        "plt.yticks(fontsize=16)\n",
        "plt.grid(True)\n",
        "plt.xlabel('Threshold', fontsize=16)\n",
        "plt.ylabel('Error Rate', fontsize=16)\n",
        "plt.title('FPR-FNR curves', fontsize=20)\n",
        "plt.legend(loc=\"lower left\", fontsize=16)\n",
        "plt.show()"
      ]
    },
    {
      "cell_type": "code",
      "execution_count": null,
      "id": "tqweVK10MxRp",
      "metadata": {
        "colab": {
          "base_uri": "https://localhost:8080/"
        },
        "id": "tqweVK10MxRp",
        "outputId": "e319f3ee-4228-4b55-acfd-6f8dc0bb6fbf"
      },
      "outputs": [
        {
          "name": "stdout",
          "output_type": "stream",
          "text": [
            "0.004054954234529319\n",
            "1.0\n"
          ]
        }
      ],
      "source": [
        "from catboost.utils import select_threshold\n",
        "print(select_threshold(model=model, data=eval_pool, FNR=0.01))\n",
        "print(select_threshold(model=model, data=eval_pool, FPR=0.01))"
      ]
    },
    {
      "cell_type": "markdown",
      "id": "MuPK9Gr7M4tG",
      "metadata": {
        "id": "MuPK9Gr7M4tG"
      },
      "source": [
        "Предсказание модели"
      ]
    },
    {
      "cell_type": "code",
      "execution_count": null,
      "id": "gMkb787uM1st",
      "metadata": {
        "colab": {
          "base_uri": "https://localhost:8080/"
        },
        "id": "gMkb787uM1st",
        "outputId": "721d2925-cdd7-457c-d021-9a02afd0471d"
      },
      "outputs": [
        {
          "name": "stdout",
          "output_type": "stream",
          "text": [
            "[[9.9600e-01 3.9952e-03]\n",
            " [9.9719e-01 2.8097e-03]\n",
            " [9.9915e-01 8.4670e-04]\n",
            " [9.5446e-01 4.5535e-02]\n",
            " [9.9968e-01 3.2214e-04]\n",
            " [9.9990e-01 9.5927e-05]\n",
            " [9.9334e-01 6.6563e-03]\n",
            " [9.7693e-01 2.3075e-02]\n",
            " [9.9845e-01 1.5533e-03]\n",
            " [9.8414e-01 1.5861e-02]\n",
            " [9.9871e-01 1.2947e-03]\n",
            " [9.9859e-01 1.4055e-03]\n",
            " [9.9875e-01 1.2535e-03]\n",
            " [9.7591e-01 2.4090e-02]\n",
            " [9.8378e-01 1.6222e-02]\n",
            " [9.9939e-01 6.0920e-04]\n",
            " [9.9368e-01 6.3244e-03]\n",
            " [9.9661e-01 3.3944e-03]\n",
            " [9.9015e-01 9.8460e-03]\n",
            " [9.7974e-01 2.0261e-02]\n",
            " [9.8537e-01 1.4632e-02]\n",
            " [9.7418e-01 2.5820e-02]\n",
            " [9.9178e-01 8.2233e-03]\n",
            " [9.9974e-01 2.6241e-04]\n",
            " [9.9976e-01 2.4317e-04]\n",
            " [9.9441e-01 5.5903e-03]\n",
            " [9.9986e-01 1.3906e-04]\n",
            " [9.9976e-01 2.4207e-04]\n",
            " [9.9990e-01 1.0035e-04]\n",
            " [9.9989e-01 1.0734e-04]\n",
            " [9.8648e-01 1.3515e-02]\n",
            " [9.9352e-01 6.4832e-03]\n",
            " [9.9935e-01 6.4822e-04]\n",
            " [9.9982e-01 1.8406e-04]\n",
            " [9.9998e-01 2.0808e-05]\n",
            " [9.9877e-01 1.2301e-03]\n",
            " [9.9841e-01 1.5874e-03]\n",
            " [9.9241e-01 7.5925e-03]\n",
            " [9.9032e-01 9.6762e-03]\n",
            " [9.9917e-01 8.2762e-04]\n",
            " [9.9999e-01 9.7349e-06]\n",
            " [9.9981e-01 1.9252e-04]\n",
            " [9.9985e-01 1.5399e-04]\n",
            " [9.9855e-01 1.4458e-03]\n",
            " [9.9626e-01 3.7444e-03]\n",
            " [9.9833e-01 1.6678e-03]\n",
            " [9.9732e-01 2.6825e-03]\n",
            " [9.9638e-01 3.6193e-03]\n",
            " [9.9640e-01 3.5958e-03]\n",
            " [9.7949e-01 2.0509e-02]\n",
            " [9.9996e-01 3.7306e-05]\n",
            " [8.9422e-01 1.0578e-01]\n",
            " [9.9589e-01 4.1147e-03]\n",
            " [9.9919e-01 8.0726e-04]\n",
            " [9.9905e-01 9.4546e-04]\n",
            " [9.9987e-01 1.2512e-04]\n",
            " [9.9389e-01 6.1050e-03]\n",
            " [9.9995e-01 4.5790e-05]\n",
            " [9.9984e-01 1.6491e-04]\n",
            " [9.7039e-01 2.9609e-02]\n",
            " [9.9988e-01 1.2261e-04]\n",
            " [9.7283e-01 2.7167e-02]\n",
            " [9.9989e-01 1.1108e-04]\n",
            " [9.9999e-01 1.2630e-05]\n",
            " [9.8851e-01 1.1490e-02]\n",
            " [9.9898e-01 1.0229e-03]\n",
            " [9.9609e-01 3.9102e-03]\n",
            " [9.9207e-01 7.9287e-03]\n",
            " [9.9955e-01 4.4979e-04]\n",
            " [9.9490e-01 5.1049e-03]\n",
            " [9.5457e-01 4.5429e-02]\n",
            " [9.9569e-01 4.3090e-03]\n",
            " [9.9938e-01 6.1727e-04]\n",
            " [9.9997e-01 2.9935e-05]\n",
            " [9.9417e-01 5.8309e-03]\n",
            " [9.9192e-01 8.0760e-03]\n",
            " [9.2889e-01 7.1113e-02]\n",
            " [9.9868e-01 1.3152e-03]\n",
            " [9.9390e-01 6.0993e-03]\n",
            " [9.9117e-01 8.8265e-03]\n",
            " [9.9987e-01 1.3457e-04]\n",
            " [9.9990e-01 1.0485e-04]\n",
            " [9.9974e-01 2.5729e-04]\n",
            " [9.7436e-01 2.5638e-02]\n",
            " [9.9986e-01 1.3583e-04]\n",
            " [9.9908e-01 9.2186e-04]\n",
            " [9.9993e-01 7.1442e-05]\n",
            " [9.9994e-01 5.6339e-05]\n",
            " [5.4412e-01 4.5588e-01]\n",
            " [9.9979e-01 2.1138e-04]\n",
            " [9.9941e-01 5.8585e-04]\n",
            " [9.9982e-01 1.7779e-04]\n",
            " [9.8403e-01 1.5973e-02]\n",
            " [9.9997e-01 3.4606e-05]\n",
            " [9.9995e-01 5.3305e-05]\n",
            " [9.8492e-01 1.5083e-02]\n",
            " [9.9940e-01 6.0183e-04]\n",
            " [9.9987e-01 1.2845e-04]\n",
            " [9.9897e-01 1.0340e-03]\n",
            " [9.9166e-01 8.3415e-03]]\n"
          ]
        }
      ],
      "source": [
        "print(model.predict_proba(X_test))"
      ]
    },
    {
      "cell_type": "code",
      "execution_count": null,
      "id": "VtG9cN5XNCqZ",
      "metadata": {
        "id": "VtG9cN5XNCqZ"
      },
      "outputs": [],
      "source": [
        "print(model.predict(X_test))"
      ]
    },
    {
      "cell_type": "code",
      "execution_count": null,
      "id": "9X4PinuPNGzK",
      "metadata": {
        "colab": {
          "base_uri": "https://localhost:8080/"
        },
        "id": "9X4PinuPNGzK",
        "outputId": "521061b3-0b93-46b7-d71a-d672405cb7b7"
      },
      "outputs": [
        {
          "name": "stdout",
          "output_type": "stream",
          "text": [
            "[ -5.5187  -5.8719  -7.0733  -3.0427  -8.0402  -9.2518  -5.0055  -3.7457\n",
            "  -6.4658  -4.1279  -6.6482  -6.5659  -6.6806  -3.7016  -4.105   -7.4028\n",
            "  -5.057   -5.6822  -4.6108  -3.8786  -4.2098  -3.6305  -4.7925  -8.2454\n",
            "  -8.3215  -5.1811  -8.8805  -8.326   -9.2068  -9.1394  -4.2903  -5.032\n",
            "  -7.3406  -8.6    -10.7802  -6.6994  -6.4441  -4.873   -4.6284  -7.0961\n",
            " -11.5398  -8.5551  -8.7785  -6.5376  -5.5837  -6.3946  -5.9183  -5.6178\n",
            "  -5.6244  -3.8662 -10.1963  -2.1346  -5.4891  -7.1211  -6.9629  -8.9861\n",
            "  -5.0925  -9.9914  -8.7099  -3.4896  -9.0064  -3.5782  -9.1051 -11.2794\n",
            "  -4.4547  -6.8841  -5.5402  -4.8293  -7.7063  -5.2724  -3.0451  -5.4427\n",
            "  -7.3896 -10.4165  -5.1387  -4.8107  -2.5697  -6.6324  -5.0935  -4.7211\n",
            "  -8.9133  -9.1629  -8.2651  -3.6377  -8.904   -6.9882  -9.5466  -9.7841\n",
            "  -0.177   -8.4616  -7.4419  -8.6347  -4.1207 -10.2715  -9.8394  -4.179\n",
            "  -7.4149  -8.9599  -6.8732  -4.7781]\n"
          ]
        }
      ],
      "source": [
        "raw_pred = model.predict(\n",
        "    data=X_test,\n",
        "    prediction_type='RawFormulaVal'\n",
        ")\n",
        "print(raw_pred)"
      ]
    },
    {
      "cell_type": "code",
      "execution_count": null,
      "id": "ItcwCGk4NLiy",
      "metadata": {
        "colab": {
          "base_uri": "https://localhost:8080/"
        },
        "id": "ItcwCGk4NLiy",
        "outputId": "1dc3bce8-09a6-4d79-cf63-4a2862ad3f99"
      },
      "outputs": [
        {
          "name": "stdout",
          "output_type": "stream",
          "text": [
            "[3.9952e-03 2.8097e-03 8.4670e-04 4.5535e-02 3.2214e-04 9.5927e-05\n",
            " 6.6563e-03 2.3075e-02 1.5533e-03 1.5861e-02 1.2947e-03 1.4055e-03\n",
            " 1.2535e-03 2.4090e-02 1.6222e-02 6.0920e-04 6.3244e-03 3.3944e-03\n",
            " 9.8460e-03 2.0261e-02 1.4632e-02 2.5820e-02 8.2233e-03 2.6241e-04\n",
            " 2.4317e-04 5.5903e-03 1.3906e-04 2.4207e-04 1.0035e-04 1.0734e-04\n",
            " 1.3515e-02 6.4832e-03 6.4822e-04 1.8406e-04 2.0808e-05 1.2301e-03\n",
            " 1.5874e-03 7.5925e-03 9.6762e-03 8.2762e-04 9.7349e-06 1.9252e-04\n",
            " 1.5399e-04 1.4458e-03 3.7444e-03 1.6678e-03 2.6825e-03 3.6193e-03\n",
            " 3.5958e-03 2.0509e-02 3.7306e-05 1.0578e-01 4.1147e-03 8.0726e-04\n",
            " 9.4546e-04 1.2512e-04 6.1050e-03 4.5790e-05 1.6491e-04 2.9609e-02\n",
            " 1.2261e-04 2.7167e-02 1.1108e-04 1.2630e-05 1.1490e-02 1.0229e-03\n",
            " 3.9102e-03 7.9287e-03 4.4979e-04 5.1049e-03 4.5429e-02 4.3090e-03\n",
            " 6.1727e-04 2.9935e-05 5.8309e-03 8.0760e-03 7.1113e-02 1.3152e-03\n",
            " 6.0993e-03 8.8265e-03 1.3457e-04 1.0485e-04 2.5729e-04 2.5638e-02\n",
            " 1.3583e-04 9.2186e-04 7.1442e-05 5.6339e-05 4.5588e-01 2.1138e-04\n",
            " 5.8585e-04 1.7779e-04 1.5973e-02 3.4606e-05 5.3305e-05 1.5083e-02\n",
            " 6.0183e-04 1.2845e-04 1.0340e-03 8.3415e-03]\n"
          ]
        }
      ],
      "source": [
        "from numpy import exp\n",
        "sigmoid = lambda x: 1 / (1 + exp(-x))\n",
        "probabilities = sigmoid(raw_pred)\n",
        "print(probabilities)"
      ]
    },
    {
      "cell_type": "markdown",
      "id": "0556cba4-e58d-4676-bbfa-affea5a9f2f5",
      "metadata": {
        "id": "0556cba4-e58d-4676-bbfa-affea5a9f2f5"
      },
      "source": [
        "# Задание\n",
        "\n",
        "Решите задачу классификации пассажиров Титаника с помощью любого из ансамблей (или нескольких из них). Если у вас есть наработки по Титанику, используйте их.\n",
        "\n",
        "Удалось ли улучшить качество с помощью какого-либо из этих алгоритмов?"
      ]
    },
    {
      "cell_type": "code",
      "execution_count": 2,
      "id": "d62744e3-c1a4-4f4c-a284-5cce96cd55c5",
      "metadata": {
        "colab": {
          "base_uri": "https://localhost:8080/",
          "height": 363
        },
        "id": "d62744e3-c1a4-4f4c-a284-5cce96cd55c5",
        "outputId": "1b242bcb-9316-476d-f15a-9f3c9c2176a6"
      },
      "outputs": [
        {
          "data": {
            "application/vnd.google.colaboratory.intrinsic+json": {
              "summary": "{\n  \"name\": \"data\",\n  \"rows\": 891,\n  \"fields\": [\n    {\n      \"column\": \"PassengerId\",\n      \"properties\": {\n        \"dtype\": \"number\",\n        \"std\": 257,\n        \"min\": 1,\n        \"max\": 891,\n        \"num_unique_values\": 891,\n        \"samples\": [\n          710,\n          440,\n          841\n        ],\n        \"semantic_type\": \"\",\n        \"description\": \"\"\n      }\n    },\n    {\n      \"column\": \"Survived\",\n      \"properties\": {\n        \"dtype\": \"number\",\n        \"std\": 0,\n        \"min\": 0,\n        \"max\": 1,\n        \"num_unique_values\": 2,\n        \"samples\": [\n          1,\n          0\n        ],\n        \"semantic_type\": \"\",\n        \"description\": \"\"\n      }\n    },\n    {\n      \"column\": \"Pclass\",\n      \"properties\": {\n        \"dtype\": \"number\",\n        \"std\": 0,\n        \"min\": 1,\n        \"max\": 3,\n        \"num_unique_values\": 3,\n        \"samples\": [\n          3,\n          1\n        ],\n        \"semantic_type\": \"\",\n        \"description\": \"\"\n      }\n    },\n    {\n      \"column\": \"Name\",\n      \"properties\": {\n        \"dtype\": \"string\",\n        \"num_unique_values\": 891,\n        \"samples\": [\n          \"Moubarek, Master. Halim Gonios (\\\"William George\\\")\",\n          \"Kvillner, Mr. Johan Henrik Johannesson\"\n        ],\n        \"semantic_type\": \"\",\n        \"description\": \"\"\n      }\n    },\n    {\n      \"column\": \"Sex\",\n      \"properties\": {\n        \"dtype\": \"category\",\n        \"num_unique_values\": 2,\n        \"samples\": [\n          \"female\",\n          \"male\"\n        ],\n        \"semantic_type\": \"\",\n        \"description\": \"\"\n      }\n    },\n    {\n      \"column\": \"Age\",\n      \"properties\": {\n        \"dtype\": \"number\",\n        \"std\": 14.526497332334042,\n        \"min\": 0.42,\n        \"max\": 80.0,\n        \"num_unique_values\": 88,\n        \"samples\": [\n          0.75,\n          22.0\n        ],\n        \"semantic_type\": \"\",\n        \"description\": \"\"\n      }\n    },\n    {\n      \"column\": \"SibSp\",\n      \"properties\": {\n        \"dtype\": \"number\",\n        \"std\": 1,\n        \"min\": 0,\n        \"max\": 8,\n        \"num_unique_values\": 7,\n        \"samples\": [\n          1,\n          0\n        ],\n        \"semantic_type\": \"\",\n        \"description\": \"\"\n      }\n    },\n    {\n      \"column\": \"Parch\",\n      \"properties\": {\n        \"dtype\": \"number\",\n        \"std\": 0,\n        \"min\": 0,\n        \"max\": 6,\n        \"num_unique_values\": 7,\n        \"samples\": [\n          0,\n          1\n        ],\n        \"semantic_type\": \"\",\n        \"description\": \"\"\n      }\n    },\n    {\n      \"column\": \"Ticket\",\n      \"properties\": {\n        \"dtype\": \"string\",\n        \"num_unique_values\": 681,\n        \"samples\": [\n          \"11774\",\n          \"248740\"\n        ],\n        \"semantic_type\": \"\",\n        \"description\": \"\"\n      }\n    },\n    {\n      \"column\": \"Fare\",\n      \"properties\": {\n        \"dtype\": \"number\",\n        \"std\": 49.6934285971809,\n        \"min\": 0.0,\n        \"max\": 512.3292,\n        \"num_unique_values\": 248,\n        \"samples\": [\n          11.2417,\n          51.8625\n        ],\n        \"semantic_type\": \"\",\n        \"description\": \"\"\n      }\n    },\n    {\n      \"column\": \"Cabin\",\n      \"properties\": {\n        \"dtype\": \"category\",\n        \"num_unique_values\": 147,\n        \"samples\": [\n          \"D45\",\n          \"B49\"\n        ],\n        \"semantic_type\": \"\",\n        \"description\": \"\"\n      }\n    },\n    {\n      \"column\": \"Embarked\",\n      \"properties\": {\n        \"dtype\": \"category\",\n        \"num_unique_values\": 3,\n        \"samples\": [\n          \"S\",\n          \"C\"\n        ],\n        \"semantic_type\": \"\",\n        \"description\": \"\"\n      }\n    }\n  ]\n}",
              "type": "dataframe",
              "variable_name": "data"
            },
            "text/html": [
              "\n",
              "  <div id=\"df-b97cf98b-ddc6-498a-9daf-3aef3ff6637e\" class=\"colab-df-container\">\n",
              "    <div>\n",
              "<style scoped>\n",
              "    .dataframe tbody tr th:only-of-type {\n",
              "        vertical-align: middle;\n",
              "    }\n",
              "\n",
              "    .dataframe tbody tr th {\n",
              "        vertical-align: top;\n",
              "    }\n",
              "\n",
              "    .dataframe thead th {\n",
              "        text-align: right;\n",
              "    }\n",
              "</style>\n",
              "<table border=\"1\" class=\"dataframe\">\n",
              "  <thead>\n",
              "    <tr style=\"text-align: right;\">\n",
              "      <th></th>\n",
              "      <th>PassengerId</th>\n",
              "      <th>Survived</th>\n",
              "      <th>Pclass</th>\n",
              "      <th>Name</th>\n",
              "      <th>Sex</th>\n",
              "      <th>Age</th>\n",
              "      <th>SibSp</th>\n",
              "      <th>Parch</th>\n",
              "      <th>Ticket</th>\n",
              "      <th>Fare</th>\n",
              "      <th>Cabin</th>\n",
              "      <th>Embarked</th>\n",
              "    </tr>\n",
              "  </thead>\n",
              "  <tbody>\n",
              "    <tr>\n",
              "      <th>0</th>\n",
              "      <td>1</td>\n",
              "      <td>0</td>\n",
              "      <td>3</td>\n",
              "      <td>Braund, Mr. Owen Harris</td>\n",
              "      <td>male</td>\n",
              "      <td>22.0</td>\n",
              "      <td>1</td>\n",
              "      <td>0</td>\n",
              "      <td>A/5 21171</td>\n",
              "      <td>7.2500</td>\n",
              "      <td>NaN</td>\n",
              "      <td>S</td>\n",
              "    </tr>\n",
              "    <tr>\n",
              "      <th>1</th>\n",
              "      <td>2</td>\n",
              "      <td>1</td>\n",
              "      <td>1</td>\n",
              "      <td>Cumings, Mrs. John Bradley (Florence Briggs Th...</td>\n",
              "      <td>female</td>\n",
              "      <td>38.0</td>\n",
              "      <td>1</td>\n",
              "      <td>0</td>\n",
              "      <td>PC 17599</td>\n",
              "      <td>71.2833</td>\n",
              "      <td>C85</td>\n",
              "      <td>C</td>\n",
              "    </tr>\n",
              "    <tr>\n",
              "      <th>2</th>\n",
              "      <td>3</td>\n",
              "      <td>1</td>\n",
              "      <td>3</td>\n",
              "      <td>Heikkinen, Miss. Laina</td>\n",
              "      <td>female</td>\n",
              "      <td>26.0</td>\n",
              "      <td>0</td>\n",
              "      <td>0</td>\n",
              "      <td>STON/O2. 3101282</td>\n",
              "      <td>7.9250</td>\n",
              "      <td>NaN</td>\n",
              "      <td>S</td>\n",
              "    </tr>\n",
              "    <tr>\n",
              "      <th>3</th>\n",
              "      <td>4</td>\n",
              "      <td>1</td>\n",
              "      <td>1</td>\n",
              "      <td>Futrelle, Mrs. Jacques Heath (Lily May Peel)</td>\n",
              "      <td>female</td>\n",
              "      <td>35.0</td>\n",
              "      <td>1</td>\n",
              "      <td>0</td>\n",
              "      <td>113803</td>\n",
              "      <td>53.1000</td>\n",
              "      <td>C123</td>\n",
              "      <td>S</td>\n",
              "    </tr>\n",
              "    <tr>\n",
              "      <th>4</th>\n",
              "      <td>5</td>\n",
              "      <td>0</td>\n",
              "      <td>3</td>\n",
              "      <td>Allen, Mr. William Henry</td>\n",
              "      <td>male</td>\n",
              "      <td>35.0</td>\n",
              "      <td>0</td>\n",
              "      <td>0</td>\n",
              "      <td>373450</td>\n",
              "      <td>8.0500</td>\n",
              "      <td>NaN</td>\n",
              "      <td>S</td>\n",
              "    </tr>\n",
              "    <tr>\n",
              "      <th>5</th>\n",
              "      <td>6</td>\n",
              "      <td>0</td>\n",
              "      <td>3</td>\n",
              "      <td>Moran, Mr. James</td>\n",
              "      <td>male</td>\n",
              "      <td>NaN</td>\n",
              "      <td>0</td>\n",
              "      <td>0</td>\n",
              "      <td>330877</td>\n",
              "      <td>8.4583</td>\n",
              "      <td>NaN</td>\n",
              "      <td>Q</td>\n",
              "    </tr>\n",
              "    <tr>\n",
              "      <th>6</th>\n",
              "      <td>7</td>\n",
              "      <td>0</td>\n",
              "      <td>1</td>\n",
              "      <td>McCarthy, Mr. Timothy J</td>\n",
              "      <td>male</td>\n",
              "      <td>54.0</td>\n",
              "      <td>0</td>\n",
              "      <td>0</td>\n",
              "      <td>17463</td>\n",
              "      <td>51.8625</td>\n",
              "      <td>E46</td>\n",
              "      <td>S</td>\n",
              "    </tr>\n",
              "    <tr>\n",
              "      <th>7</th>\n",
              "      <td>8</td>\n",
              "      <td>0</td>\n",
              "      <td>3</td>\n",
              "      <td>Palsson, Master. Gosta Leonard</td>\n",
              "      <td>male</td>\n",
              "      <td>2.0</td>\n",
              "      <td>3</td>\n",
              "      <td>1</td>\n",
              "      <td>349909</td>\n",
              "      <td>21.0750</td>\n",
              "      <td>NaN</td>\n",
              "      <td>S</td>\n",
              "    </tr>\n",
              "    <tr>\n",
              "      <th>8</th>\n",
              "      <td>9</td>\n",
              "      <td>1</td>\n",
              "      <td>3</td>\n",
              "      <td>Johnson, Mrs. Oscar W (Elisabeth Vilhelmina Berg)</td>\n",
              "      <td>female</td>\n",
              "      <td>27.0</td>\n",
              "      <td>0</td>\n",
              "      <td>2</td>\n",
              "      <td>347742</td>\n",
              "      <td>11.1333</td>\n",
              "      <td>NaN</td>\n",
              "      <td>S</td>\n",
              "    </tr>\n",
              "    <tr>\n",
              "      <th>9</th>\n",
              "      <td>10</td>\n",
              "      <td>1</td>\n",
              "      <td>2</td>\n",
              "      <td>Nasser, Mrs. Nicholas (Adele Achem)</td>\n",
              "      <td>female</td>\n",
              "      <td>14.0</td>\n",
              "      <td>1</td>\n",
              "      <td>0</td>\n",
              "      <td>237736</td>\n",
              "      <td>30.0708</td>\n",
              "      <td>NaN</td>\n",
              "      <td>C</td>\n",
              "    </tr>\n",
              "  </tbody>\n",
              "</table>\n",
              "</div>\n",
              "    <div class=\"colab-df-buttons\">\n",
              "\n",
              "  <div class=\"colab-df-container\">\n",
              "    <button class=\"colab-df-convert\" onclick=\"convertToInteractive('df-b97cf98b-ddc6-498a-9daf-3aef3ff6637e')\"\n",
              "            title=\"Convert this dataframe to an interactive table.\"\n",
              "            style=\"display:none;\">\n",
              "\n",
              "  <svg xmlns=\"http://www.w3.org/2000/svg\" height=\"24px\" viewBox=\"0 -960 960 960\">\n",
              "    <path d=\"M120-120v-720h720v720H120Zm60-500h600v-160H180v160Zm220 220h160v-160H400v160Zm0 220h160v-160H400v160ZM180-400h160v-160H180v160Zm440 0h160v-160H620v160ZM180-180h160v-160H180v160Zm440 0h160v-160H620v160Z\"/>\n",
              "  </svg>\n",
              "    </button>\n",
              "\n",
              "  <style>\n",
              "    .colab-df-container {\n",
              "      display:flex;\n",
              "      gap: 12px;\n",
              "    }\n",
              "\n",
              "    .colab-df-convert {\n",
              "      background-color: #E8F0FE;\n",
              "      border: none;\n",
              "      border-radius: 50%;\n",
              "      cursor: pointer;\n",
              "      display: none;\n",
              "      fill: #1967D2;\n",
              "      height: 32px;\n",
              "      padding: 0 0 0 0;\n",
              "      width: 32px;\n",
              "    }\n",
              "\n",
              "    .colab-df-convert:hover {\n",
              "      background-color: #E2EBFA;\n",
              "      box-shadow: 0px 1px 2px rgba(60, 64, 67, 0.3), 0px 1px 3px 1px rgba(60, 64, 67, 0.15);\n",
              "      fill: #174EA6;\n",
              "    }\n",
              "\n",
              "    .colab-df-buttons div {\n",
              "      margin-bottom: 4px;\n",
              "    }\n",
              "\n",
              "    [theme=dark] .colab-df-convert {\n",
              "      background-color: #3B4455;\n",
              "      fill: #D2E3FC;\n",
              "    }\n",
              "\n",
              "    [theme=dark] .colab-df-convert:hover {\n",
              "      background-color: #434B5C;\n",
              "      box-shadow: 0px 1px 3px 1px rgba(0, 0, 0, 0.15);\n",
              "      filter: drop-shadow(0px 1px 2px rgba(0, 0, 0, 0.3));\n",
              "      fill: #FFFFFF;\n",
              "    }\n",
              "  </style>\n",
              "\n",
              "    <script>\n",
              "      const buttonEl =\n",
              "        document.querySelector('#df-b97cf98b-ddc6-498a-9daf-3aef3ff6637e button.colab-df-convert');\n",
              "      buttonEl.style.display =\n",
              "        google.colab.kernel.accessAllowed ? 'block' : 'none';\n",
              "\n",
              "      async function convertToInteractive(key) {\n",
              "        const element = document.querySelector('#df-b97cf98b-ddc6-498a-9daf-3aef3ff6637e');\n",
              "        const dataTable =\n",
              "          await google.colab.kernel.invokeFunction('convertToInteractive',\n",
              "                                                    [key], {});\n",
              "        if (!dataTable) return;\n",
              "\n",
              "        const docLinkHtml = 'Like what you see? Visit the ' +\n",
              "          '<a target=\"_blank\" href=https://colab.research.google.com/notebooks/data_table.ipynb>data table notebook</a>'\n",
              "          + ' to learn more about interactive tables.';\n",
              "        element.innerHTML = '';\n",
              "        dataTable['output_type'] = 'display_data';\n",
              "        await google.colab.output.renderOutput(dataTable, element);\n",
              "        const docLink = document.createElement('div');\n",
              "        docLink.innerHTML = docLinkHtml;\n",
              "        element.appendChild(docLink);\n",
              "      }\n",
              "    </script>\n",
              "  </div>\n",
              "\n",
              "\n",
              "<div id=\"df-cf811a42-fdf8-46d9-9168-cfb8390e56ba\">\n",
              "  <button class=\"colab-df-quickchart\" onclick=\"quickchart('df-cf811a42-fdf8-46d9-9168-cfb8390e56ba')\"\n",
              "            title=\"Suggest charts\"\n",
              "            style=\"display:none;\">\n",
              "\n",
              "<svg xmlns=\"http://www.w3.org/2000/svg\" height=\"24px\"viewBox=\"0 0 24 24\"\n",
              "     width=\"24px\">\n",
              "    <g>\n",
              "        <path d=\"M19 3H5c-1.1 0-2 .9-2 2v14c0 1.1.9 2 2 2h14c1.1 0 2-.9 2-2V5c0-1.1-.9-2-2-2zM9 17H7v-7h2v7zm4 0h-2V7h2v10zm4 0h-2v-4h2v4z\"/>\n",
              "    </g>\n",
              "</svg>\n",
              "  </button>\n",
              "\n",
              "<style>\n",
              "  .colab-df-quickchart {\n",
              "      --bg-color: #E8F0FE;\n",
              "      --fill-color: #1967D2;\n",
              "      --hover-bg-color: #E2EBFA;\n",
              "      --hover-fill-color: #174EA6;\n",
              "      --disabled-fill-color: #AAA;\n",
              "      --disabled-bg-color: #DDD;\n",
              "  }\n",
              "\n",
              "  [theme=dark] .colab-df-quickchart {\n",
              "      --bg-color: #3B4455;\n",
              "      --fill-color: #D2E3FC;\n",
              "      --hover-bg-color: #434B5C;\n",
              "      --hover-fill-color: #FFFFFF;\n",
              "      --disabled-bg-color: #3B4455;\n",
              "      --disabled-fill-color: #666;\n",
              "  }\n",
              "\n",
              "  .colab-df-quickchart {\n",
              "    background-color: var(--bg-color);\n",
              "    border: none;\n",
              "    border-radius: 50%;\n",
              "    cursor: pointer;\n",
              "    display: none;\n",
              "    fill: var(--fill-color);\n",
              "    height: 32px;\n",
              "    padding: 0;\n",
              "    width: 32px;\n",
              "  }\n",
              "\n",
              "  .colab-df-quickchart:hover {\n",
              "    background-color: var(--hover-bg-color);\n",
              "    box-shadow: 0 1px 2px rgba(60, 64, 67, 0.3), 0 1px 3px 1px rgba(60, 64, 67, 0.15);\n",
              "    fill: var(--button-hover-fill-color);\n",
              "  }\n",
              "\n",
              "  .colab-df-quickchart-complete:disabled,\n",
              "  .colab-df-quickchart-complete:disabled:hover {\n",
              "    background-color: var(--disabled-bg-color);\n",
              "    fill: var(--disabled-fill-color);\n",
              "    box-shadow: none;\n",
              "  }\n",
              "\n",
              "  .colab-df-spinner {\n",
              "    border: 2px solid var(--fill-color);\n",
              "    border-color: transparent;\n",
              "    border-bottom-color: var(--fill-color);\n",
              "    animation:\n",
              "      spin 1s steps(1) infinite;\n",
              "  }\n",
              "\n",
              "  @keyframes spin {\n",
              "    0% {\n",
              "      border-color: transparent;\n",
              "      border-bottom-color: var(--fill-color);\n",
              "      border-left-color: var(--fill-color);\n",
              "    }\n",
              "    20% {\n",
              "      border-color: transparent;\n",
              "      border-left-color: var(--fill-color);\n",
              "      border-top-color: var(--fill-color);\n",
              "    }\n",
              "    30% {\n",
              "      border-color: transparent;\n",
              "      border-left-color: var(--fill-color);\n",
              "      border-top-color: var(--fill-color);\n",
              "      border-right-color: var(--fill-color);\n",
              "    }\n",
              "    40% {\n",
              "      border-color: transparent;\n",
              "      border-right-color: var(--fill-color);\n",
              "      border-top-color: var(--fill-color);\n",
              "    }\n",
              "    60% {\n",
              "      border-color: transparent;\n",
              "      border-right-color: var(--fill-color);\n",
              "    }\n",
              "    80% {\n",
              "      border-color: transparent;\n",
              "      border-right-color: var(--fill-color);\n",
              "      border-bottom-color: var(--fill-color);\n",
              "    }\n",
              "    90% {\n",
              "      border-color: transparent;\n",
              "      border-bottom-color: var(--fill-color);\n",
              "    }\n",
              "  }\n",
              "</style>\n",
              "\n",
              "  <script>\n",
              "    async function quickchart(key) {\n",
              "      const quickchartButtonEl =\n",
              "        document.querySelector('#' + key + ' button');\n",
              "      quickchartButtonEl.disabled = true;  // To prevent multiple clicks.\n",
              "      quickchartButtonEl.classList.add('colab-df-spinner');\n",
              "      try {\n",
              "        const charts = await google.colab.kernel.invokeFunction(\n",
              "            'suggestCharts', [key], {});\n",
              "      } catch (error) {\n",
              "        console.error('Error during call to suggestCharts:', error);\n",
              "      }\n",
              "      quickchartButtonEl.classList.remove('colab-df-spinner');\n",
              "      quickchartButtonEl.classList.add('colab-df-quickchart-complete');\n",
              "    }\n",
              "    (() => {\n",
              "      let quickchartButtonEl =\n",
              "        document.querySelector('#df-cf811a42-fdf8-46d9-9168-cfb8390e56ba button');\n",
              "      quickchartButtonEl.style.display =\n",
              "        google.colab.kernel.accessAllowed ? 'block' : 'none';\n",
              "    })();\n",
              "  </script>\n",
              "</div>\n",
              "    </div>\n",
              "  </div>\n"
            ],
            "text/plain": [
              "   PassengerId  Survived  Pclass  \\\n",
              "0            1         0       3   \n",
              "1            2         1       1   \n",
              "2            3         1       3   \n",
              "3            4         1       1   \n",
              "4            5         0       3   \n",
              "5            6         0       3   \n",
              "6            7         0       1   \n",
              "7            8         0       3   \n",
              "8            9         1       3   \n",
              "9           10         1       2   \n",
              "\n",
              "                                                Name     Sex   Age  SibSp  \\\n",
              "0                            Braund, Mr. Owen Harris    male  22.0      1   \n",
              "1  Cumings, Mrs. John Bradley (Florence Briggs Th...  female  38.0      1   \n",
              "2                             Heikkinen, Miss. Laina  female  26.0      0   \n",
              "3       Futrelle, Mrs. Jacques Heath (Lily May Peel)  female  35.0      1   \n",
              "4                           Allen, Mr. William Henry    male  35.0      0   \n",
              "5                                   Moran, Mr. James    male   NaN      0   \n",
              "6                            McCarthy, Mr. Timothy J    male  54.0      0   \n",
              "7                     Palsson, Master. Gosta Leonard    male   2.0      3   \n",
              "8  Johnson, Mrs. Oscar W (Elisabeth Vilhelmina Berg)  female  27.0      0   \n",
              "9                Nasser, Mrs. Nicholas (Adele Achem)  female  14.0      1   \n",
              "\n",
              "   Parch            Ticket     Fare Cabin Embarked  \n",
              "0      0         A/5 21171   7.2500   NaN        S  \n",
              "1      0          PC 17599  71.2833   C85        C  \n",
              "2      0  STON/O2. 3101282   7.9250   NaN        S  \n",
              "3      0            113803  53.1000  C123        S  \n",
              "4      0            373450   8.0500   NaN        S  \n",
              "5      0            330877   8.4583   NaN        Q  \n",
              "6      0             17463  51.8625   E46        S  \n",
              "7      1            349909  21.0750   NaN        S  \n",
              "8      2            347742  11.1333   NaN        S  \n",
              "9      0            237736  30.0708   NaN        C  "
            ]
          },
          "execution_count": 2,
          "metadata": {},
          "output_type": "execute_result"
        }
      ],
      "source": [
        "import pandas as pd\n",
        "data = pd.read_csv(\"titanic.csv\")\n",
        "data.head(10)"
      ]
    },
    {
      "cell_type": "code",
      "execution_count": null,
      "id": "flI5JW05aDeb",
      "metadata": {
        "id": "flI5JW05aDeb"
      },
      "outputs": [],
      "source": [
        "# Сначала поработую с признаками, так как в 3 семинаре подробно расписала, то просто скопирую то, что уже делала"
      ]
    },
    {
      "cell_type": "code",
      "execution_count": 3,
      "id": "Y9RWnOVCaOvX",
      "metadata": {
        "colab": {
          "base_uri": "https://localhost:8080/"
        },
        "id": "Y9RWnOVCaOvX",
        "outputId": "10b972ef-e27c-4901-eb57-059cc395e429"
      },
      "outputs": [
        {
          "data": {
            "text/plain": [
              "PassengerId      0\n",
              "Survived         0\n",
              "Pclass           0\n",
              "Name             0\n",
              "Sex              0\n",
              "Age            177\n",
              "SibSp            0\n",
              "Parch            0\n",
              "Ticket           0\n",
              "Fare             0\n",
              "Cabin          687\n",
              "Embarked         2\n",
              "dtype: int64"
            ]
          },
          "execution_count": 3,
          "metadata": {},
          "output_type": "execute_result"
        }
      ],
      "source": [
        "data.isnull().sum() # пустые значения"
      ]
    },
    {
      "cell_type": "code",
      "execution_count": 4,
      "id": "pLL_SljubX3z",
      "metadata": {
        "id": "pLL_SljubX3z"
      },
      "outputs": [],
      "source": [
        "def add_age(hello):\n",
        "  Age = hello[0]\n",
        "  Pclass = hello[1]\n",
        "  if pd.isnull(Age):\n",
        "    return int(data[data[\"Pclass\"] == Pclass][\"Age\"].mean())\n",
        "  else:\n",
        "    return Age"
      ]
    },
    {
      "cell_type": "code",
      "execution_count": 5,
      "id": "1z7N5-MDbaTC",
      "metadata": {
        "id": "1z7N5-MDbaTC"
      },
      "outputs": [],
      "source": [
        "data[\"Age\"] = data[[\"Age\", \"Pclass\"]].apply(add_age,axis=1)\n",
        "# Так как у нас много пустых значений в cabin, то просто дропнем их\n",
        "data.drop(\"Cabin\",inplace=True,axis=1)"
      ]
    },
    {
      "cell_type": "code",
      "execution_count": 6,
      "id": "NbOn63j1b5Vu",
      "metadata": {
        "id": "NbOn63j1b5Vu"
      },
      "outputs": [],
      "source": [
        "# Удаляем некоторые строки с нулевыми значениями:\n",
        "# dropna() удаляет строки, которые содержат хотя бы одно пропущенное значение\n",
        "data.dropna(inplace=True)\n",
        "# Так, отлично, данные почистили.\n",
        "# У нас в датасете есть категориальные признаки, их нужно преобразовать в числовые."
      ]
    },
    {
      "cell_type": "code",
      "execution_count": 7,
      "id": "CH91bMyxcA0h",
      "metadata": {
        "colab": {
          "base_uri": "https://localhost:8080/",
          "height": 206
        },
        "id": "CH91bMyxcA0h",
        "outputId": "7832f0ef-07e5-4713-d771-4f5b7b52444c"
      },
      "outputs": [
        {
          "data": {
            "application/vnd.google.colaboratory.intrinsic+json": {
              "summary": "{\n  \"name\": \"# \\u041d\\u0430\\u043c \\u043d\\u0443\\u0436\\u043d\\u043e \\u043f\\u0440\\u0435\\u043e\\u0431\\u0440\\u0430\\u0437\\u043e\\u0432\\u0430\\u0442\\u044c \\u0438\\u0437 \\u043a\\u0430\\u0442\\u0435\\u0433\\u043e\\u0440\\u0438\\u0430\\u043b\\u044c\\u043d\\u044b\\u0445 \\u0432 \\u0447\\u0438\\u0441\\u043b\\u043e\\u0432\\u044b\\u0435 \\u043f\\u043e\\u043b, name, ticket \\u0438 embarked\",\n  \"rows\": 5,\n  \"fields\": [\n    {\n      \"column\": \"PassengerId\",\n      \"properties\": {\n        \"dtype\": \"number\",\n        \"std\": 1,\n        \"min\": 1,\n        \"max\": 5,\n        \"num_unique_values\": 5,\n        \"samples\": [\n          2,\n          5,\n          3\n        ],\n        \"semantic_type\": \"\",\n        \"description\": \"\"\n      }\n    },\n    {\n      \"column\": \"Survived\",\n      \"properties\": {\n        \"dtype\": \"number\",\n        \"std\": 0,\n        \"min\": 0,\n        \"max\": 1,\n        \"num_unique_values\": 2,\n        \"samples\": [\n          1,\n          0\n        ],\n        \"semantic_type\": \"\",\n        \"description\": \"\"\n      }\n    },\n    {\n      \"column\": \"Pclass\",\n      \"properties\": {\n        \"dtype\": \"number\",\n        \"std\": 1,\n        \"min\": 1,\n        \"max\": 3,\n        \"num_unique_values\": 2,\n        \"samples\": [\n          1,\n          3\n        ],\n        \"semantic_type\": \"\",\n        \"description\": \"\"\n      }\n    },\n    {\n      \"column\": \"Name\",\n      \"properties\": {\n        \"dtype\": \"string\",\n        \"num_unique_values\": 5,\n        \"samples\": [\n          \"Cumings, Mrs. John Bradley (Florence Briggs Thayer)\",\n          \"Allen, Mr. William Henry\"\n        ],\n        \"semantic_type\": \"\",\n        \"description\": \"\"\n      }\n    },\n    {\n      \"column\": \"Sex\",\n      \"properties\": {\n        \"dtype\": \"category\",\n        \"num_unique_values\": 2,\n        \"samples\": [\n          \"female\",\n          \"male\"\n        ],\n        \"semantic_type\": \"\",\n        \"description\": \"\"\n      }\n    },\n    {\n      \"column\": \"Age\",\n      \"properties\": {\n        \"dtype\": \"number\",\n        \"std\": 6.833739825307955,\n        \"min\": 22.0,\n        \"max\": 38.0,\n        \"num_unique_values\": 4,\n        \"samples\": [\n          38.0,\n          35.0\n        ],\n        \"semantic_type\": \"\",\n        \"description\": \"\"\n      }\n    },\n    {\n      \"column\": \"SibSp\",\n      \"properties\": {\n        \"dtype\": \"number\",\n        \"std\": 0,\n        \"min\": 0,\n        \"max\": 1,\n        \"num_unique_values\": 2,\n        \"samples\": [\n          0,\n          1\n        ],\n        \"semantic_type\": \"\",\n        \"description\": \"\"\n      }\n    },\n    {\n      \"column\": \"Parch\",\n      \"properties\": {\n        \"dtype\": \"number\",\n        \"std\": 0,\n        \"min\": 0,\n        \"max\": 0,\n        \"num_unique_values\": 1,\n        \"samples\": [\n          0\n        ],\n        \"semantic_type\": \"\",\n        \"description\": \"\"\n      }\n    },\n    {\n      \"column\": \"Ticket\",\n      \"properties\": {\n        \"dtype\": \"string\",\n        \"num_unique_values\": 5,\n        \"samples\": [\n          \"PC 17599\"\n        ],\n        \"semantic_type\": \"\",\n        \"description\": \"\"\n      }\n    },\n    {\n      \"column\": \"Fare\",\n      \"properties\": {\n        \"dtype\": \"number\",\n        \"std\": 30.5100288352535,\n        \"min\": 7.25,\n        \"max\": 71.2833,\n        \"num_unique_values\": 5,\n        \"samples\": [\n          71.2833\n        ],\n        \"semantic_type\": \"\",\n        \"description\": \"\"\n      }\n    },\n    {\n      \"column\": \"Embarked\",\n      \"properties\": {\n        \"dtype\": \"category\",\n        \"num_unique_values\": 2,\n        \"samples\": [\n          \"C\"\n        ],\n        \"semantic_type\": \"\",\n        \"description\": \"\"\n      }\n    }\n  ]\n}",
              "type": "dataframe"
            },
            "text/html": [
              "\n",
              "  <div id=\"df-6f35f275-eff5-4c35-b0e2-731cf06e5d27\" class=\"colab-df-container\">\n",
              "    <div>\n",
              "<style scoped>\n",
              "    .dataframe tbody tr th:only-of-type {\n",
              "        vertical-align: middle;\n",
              "    }\n",
              "\n",
              "    .dataframe tbody tr th {\n",
              "        vertical-align: top;\n",
              "    }\n",
              "\n",
              "    .dataframe thead th {\n",
              "        text-align: right;\n",
              "    }\n",
              "</style>\n",
              "<table border=\"1\" class=\"dataframe\">\n",
              "  <thead>\n",
              "    <tr style=\"text-align: right;\">\n",
              "      <th></th>\n",
              "      <th>PassengerId</th>\n",
              "      <th>Survived</th>\n",
              "      <th>Pclass</th>\n",
              "      <th>Name</th>\n",
              "      <th>Sex</th>\n",
              "      <th>Age</th>\n",
              "      <th>SibSp</th>\n",
              "      <th>Parch</th>\n",
              "      <th>Ticket</th>\n",
              "      <th>Fare</th>\n",
              "      <th>Embarked</th>\n",
              "    </tr>\n",
              "  </thead>\n",
              "  <tbody>\n",
              "    <tr>\n",
              "      <th>0</th>\n",
              "      <td>1</td>\n",
              "      <td>0</td>\n",
              "      <td>3</td>\n",
              "      <td>Braund, Mr. Owen Harris</td>\n",
              "      <td>male</td>\n",
              "      <td>22.0</td>\n",
              "      <td>1</td>\n",
              "      <td>0</td>\n",
              "      <td>A/5 21171</td>\n",
              "      <td>7.2500</td>\n",
              "      <td>S</td>\n",
              "    </tr>\n",
              "    <tr>\n",
              "      <th>1</th>\n",
              "      <td>2</td>\n",
              "      <td>1</td>\n",
              "      <td>1</td>\n",
              "      <td>Cumings, Mrs. John Bradley (Florence Briggs Th...</td>\n",
              "      <td>female</td>\n",
              "      <td>38.0</td>\n",
              "      <td>1</td>\n",
              "      <td>0</td>\n",
              "      <td>PC 17599</td>\n",
              "      <td>71.2833</td>\n",
              "      <td>C</td>\n",
              "    </tr>\n",
              "    <tr>\n",
              "      <th>2</th>\n",
              "      <td>3</td>\n",
              "      <td>1</td>\n",
              "      <td>3</td>\n",
              "      <td>Heikkinen, Miss. Laina</td>\n",
              "      <td>female</td>\n",
              "      <td>26.0</td>\n",
              "      <td>0</td>\n",
              "      <td>0</td>\n",
              "      <td>STON/O2. 3101282</td>\n",
              "      <td>7.9250</td>\n",
              "      <td>S</td>\n",
              "    </tr>\n",
              "    <tr>\n",
              "      <th>3</th>\n",
              "      <td>4</td>\n",
              "      <td>1</td>\n",
              "      <td>1</td>\n",
              "      <td>Futrelle, Mrs. Jacques Heath (Lily May Peel)</td>\n",
              "      <td>female</td>\n",
              "      <td>35.0</td>\n",
              "      <td>1</td>\n",
              "      <td>0</td>\n",
              "      <td>113803</td>\n",
              "      <td>53.1000</td>\n",
              "      <td>S</td>\n",
              "    </tr>\n",
              "    <tr>\n",
              "      <th>4</th>\n",
              "      <td>5</td>\n",
              "      <td>0</td>\n",
              "      <td>3</td>\n",
              "      <td>Allen, Mr. William Henry</td>\n",
              "      <td>male</td>\n",
              "      <td>35.0</td>\n",
              "      <td>0</td>\n",
              "      <td>0</td>\n",
              "      <td>373450</td>\n",
              "      <td>8.0500</td>\n",
              "      <td>S</td>\n",
              "    </tr>\n",
              "  </tbody>\n",
              "</table>\n",
              "</div>\n",
              "    <div class=\"colab-df-buttons\">\n",
              "\n",
              "  <div class=\"colab-df-container\">\n",
              "    <button class=\"colab-df-convert\" onclick=\"convertToInteractive('df-6f35f275-eff5-4c35-b0e2-731cf06e5d27')\"\n",
              "            title=\"Convert this dataframe to an interactive table.\"\n",
              "            style=\"display:none;\">\n",
              "\n",
              "  <svg xmlns=\"http://www.w3.org/2000/svg\" height=\"24px\" viewBox=\"0 -960 960 960\">\n",
              "    <path d=\"M120-120v-720h720v720H120Zm60-500h600v-160H180v160Zm220 220h160v-160H400v160Zm0 220h160v-160H400v160ZM180-400h160v-160H180v160Zm440 0h160v-160H620v160ZM180-180h160v-160H180v160Zm440 0h160v-160H620v160Z\"/>\n",
              "  </svg>\n",
              "    </button>\n",
              "\n",
              "  <style>\n",
              "    .colab-df-container {\n",
              "      display:flex;\n",
              "      gap: 12px;\n",
              "    }\n",
              "\n",
              "    .colab-df-convert {\n",
              "      background-color: #E8F0FE;\n",
              "      border: none;\n",
              "      border-radius: 50%;\n",
              "      cursor: pointer;\n",
              "      display: none;\n",
              "      fill: #1967D2;\n",
              "      height: 32px;\n",
              "      padding: 0 0 0 0;\n",
              "      width: 32px;\n",
              "    }\n",
              "\n",
              "    .colab-df-convert:hover {\n",
              "      background-color: #E2EBFA;\n",
              "      box-shadow: 0px 1px 2px rgba(60, 64, 67, 0.3), 0px 1px 3px 1px rgba(60, 64, 67, 0.15);\n",
              "      fill: #174EA6;\n",
              "    }\n",
              "\n",
              "    .colab-df-buttons div {\n",
              "      margin-bottom: 4px;\n",
              "    }\n",
              "\n",
              "    [theme=dark] .colab-df-convert {\n",
              "      background-color: #3B4455;\n",
              "      fill: #D2E3FC;\n",
              "    }\n",
              "\n",
              "    [theme=dark] .colab-df-convert:hover {\n",
              "      background-color: #434B5C;\n",
              "      box-shadow: 0px 1px 3px 1px rgba(0, 0, 0, 0.15);\n",
              "      filter: drop-shadow(0px 1px 2px rgba(0, 0, 0, 0.3));\n",
              "      fill: #FFFFFF;\n",
              "    }\n",
              "  </style>\n",
              "\n",
              "    <script>\n",
              "      const buttonEl =\n",
              "        document.querySelector('#df-6f35f275-eff5-4c35-b0e2-731cf06e5d27 button.colab-df-convert');\n",
              "      buttonEl.style.display =\n",
              "        google.colab.kernel.accessAllowed ? 'block' : 'none';\n",
              "\n",
              "      async function convertToInteractive(key) {\n",
              "        const element = document.querySelector('#df-6f35f275-eff5-4c35-b0e2-731cf06e5d27');\n",
              "        const dataTable =\n",
              "          await google.colab.kernel.invokeFunction('convertToInteractive',\n",
              "                                                    [key], {});\n",
              "        if (!dataTable) return;\n",
              "\n",
              "        const docLinkHtml = 'Like what you see? Visit the ' +\n",
              "          '<a target=\"_blank\" href=https://colab.research.google.com/notebooks/data_table.ipynb>data table notebook</a>'\n",
              "          + ' to learn more about interactive tables.';\n",
              "        element.innerHTML = '';\n",
              "        dataTable['output_type'] = 'display_data';\n",
              "        await google.colab.output.renderOutput(dataTable, element);\n",
              "        const docLink = document.createElement('div');\n",
              "        docLink.innerHTML = docLinkHtml;\n",
              "        element.appendChild(docLink);\n",
              "      }\n",
              "    </script>\n",
              "  </div>\n",
              "\n",
              "\n",
              "<div id=\"df-312c9cd7-f62b-4387-86b8-cf33939262b1\">\n",
              "  <button class=\"colab-df-quickchart\" onclick=\"quickchart('df-312c9cd7-f62b-4387-86b8-cf33939262b1')\"\n",
              "            title=\"Suggest charts\"\n",
              "            style=\"display:none;\">\n",
              "\n",
              "<svg xmlns=\"http://www.w3.org/2000/svg\" height=\"24px\"viewBox=\"0 0 24 24\"\n",
              "     width=\"24px\">\n",
              "    <g>\n",
              "        <path d=\"M19 3H5c-1.1 0-2 .9-2 2v14c0 1.1.9 2 2 2h14c1.1 0 2-.9 2-2V5c0-1.1-.9-2-2-2zM9 17H7v-7h2v7zm4 0h-2V7h2v10zm4 0h-2v-4h2v4z\"/>\n",
              "    </g>\n",
              "</svg>\n",
              "  </button>\n",
              "\n",
              "<style>\n",
              "  .colab-df-quickchart {\n",
              "      --bg-color: #E8F0FE;\n",
              "      --fill-color: #1967D2;\n",
              "      --hover-bg-color: #E2EBFA;\n",
              "      --hover-fill-color: #174EA6;\n",
              "      --disabled-fill-color: #AAA;\n",
              "      --disabled-bg-color: #DDD;\n",
              "  }\n",
              "\n",
              "  [theme=dark] .colab-df-quickchart {\n",
              "      --bg-color: #3B4455;\n",
              "      --fill-color: #D2E3FC;\n",
              "      --hover-bg-color: #434B5C;\n",
              "      --hover-fill-color: #FFFFFF;\n",
              "      --disabled-bg-color: #3B4455;\n",
              "      --disabled-fill-color: #666;\n",
              "  }\n",
              "\n",
              "  .colab-df-quickchart {\n",
              "    background-color: var(--bg-color);\n",
              "    border: none;\n",
              "    border-radius: 50%;\n",
              "    cursor: pointer;\n",
              "    display: none;\n",
              "    fill: var(--fill-color);\n",
              "    height: 32px;\n",
              "    padding: 0;\n",
              "    width: 32px;\n",
              "  }\n",
              "\n",
              "  .colab-df-quickchart:hover {\n",
              "    background-color: var(--hover-bg-color);\n",
              "    box-shadow: 0 1px 2px rgba(60, 64, 67, 0.3), 0 1px 3px 1px rgba(60, 64, 67, 0.15);\n",
              "    fill: var(--button-hover-fill-color);\n",
              "  }\n",
              "\n",
              "  .colab-df-quickchart-complete:disabled,\n",
              "  .colab-df-quickchart-complete:disabled:hover {\n",
              "    background-color: var(--disabled-bg-color);\n",
              "    fill: var(--disabled-fill-color);\n",
              "    box-shadow: none;\n",
              "  }\n",
              "\n",
              "  .colab-df-spinner {\n",
              "    border: 2px solid var(--fill-color);\n",
              "    border-color: transparent;\n",
              "    border-bottom-color: var(--fill-color);\n",
              "    animation:\n",
              "      spin 1s steps(1) infinite;\n",
              "  }\n",
              "\n",
              "  @keyframes spin {\n",
              "    0% {\n",
              "      border-color: transparent;\n",
              "      border-bottom-color: var(--fill-color);\n",
              "      border-left-color: var(--fill-color);\n",
              "    }\n",
              "    20% {\n",
              "      border-color: transparent;\n",
              "      border-left-color: var(--fill-color);\n",
              "      border-top-color: var(--fill-color);\n",
              "    }\n",
              "    30% {\n",
              "      border-color: transparent;\n",
              "      border-left-color: var(--fill-color);\n",
              "      border-top-color: var(--fill-color);\n",
              "      border-right-color: var(--fill-color);\n",
              "    }\n",
              "    40% {\n",
              "      border-color: transparent;\n",
              "      border-right-color: var(--fill-color);\n",
              "      border-top-color: var(--fill-color);\n",
              "    }\n",
              "    60% {\n",
              "      border-color: transparent;\n",
              "      border-right-color: var(--fill-color);\n",
              "    }\n",
              "    80% {\n",
              "      border-color: transparent;\n",
              "      border-right-color: var(--fill-color);\n",
              "      border-bottom-color: var(--fill-color);\n",
              "    }\n",
              "    90% {\n",
              "      border-color: transparent;\n",
              "      border-bottom-color: var(--fill-color);\n",
              "    }\n",
              "  }\n",
              "</style>\n",
              "\n",
              "  <script>\n",
              "    async function quickchart(key) {\n",
              "      const quickchartButtonEl =\n",
              "        document.querySelector('#' + key + ' button');\n",
              "      quickchartButtonEl.disabled = true;  // To prevent multiple clicks.\n",
              "      quickchartButtonEl.classList.add('colab-df-spinner');\n",
              "      try {\n",
              "        const charts = await google.colab.kernel.invokeFunction(\n",
              "            'suggestCharts', [key], {});\n",
              "      } catch (error) {\n",
              "        console.error('Error during call to suggestCharts:', error);\n",
              "      }\n",
              "      quickchartButtonEl.classList.remove('colab-df-spinner');\n",
              "      quickchartButtonEl.classList.add('colab-df-quickchart-complete');\n",
              "    }\n",
              "    (() => {\n",
              "      let quickchartButtonEl =\n",
              "        document.querySelector('#df-312c9cd7-f62b-4387-86b8-cf33939262b1 button');\n",
              "      quickchartButtonEl.style.display =\n",
              "        google.colab.kernel.accessAllowed ? 'block' : 'none';\n",
              "    })();\n",
              "  </script>\n",
              "</div>\n",
              "    </div>\n",
              "  </div>\n"
            ],
            "text/plain": [
              "   PassengerId  Survived  Pclass  \\\n",
              "0            1         0       3   \n",
              "1            2         1       1   \n",
              "2            3         1       3   \n",
              "3            4         1       1   \n",
              "4            5         0       3   \n",
              "\n",
              "                                                Name     Sex   Age  SibSp  \\\n",
              "0                            Braund, Mr. Owen Harris    male  22.0      1   \n",
              "1  Cumings, Mrs. John Bradley (Florence Briggs Th...  female  38.0      1   \n",
              "2                             Heikkinen, Miss. Laina  female  26.0      0   \n",
              "3       Futrelle, Mrs. Jacques Heath (Lily May Peel)  female  35.0      1   \n",
              "4                           Allen, Mr. William Henry    male  35.0      0   \n",
              "\n",
              "   Parch            Ticket     Fare Embarked  \n",
              "0      0         A/5 21171   7.2500        S  \n",
              "1      0          PC 17599  71.2833        C  \n",
              "2      0  STON/O2. 3101282   7.9250        S  \n",
              "3      0            113803  53.1000        S  \n",
              "4      0            373450   8.0500        S  "
            ]
          },
          "execution_count": 7,
          "metadata": {},
          "output_type": "execute_result"
        }
      ],
      "source": [
        "data.head().copy()\n",
        "# Метод copy() создает глубокую копию этого подмножества данных.\n",
        "# Глубокое копирование означает создание нового объекта DataFrame с копиями всех данных, что позволяет изменять новый DataFrame, не затрагивая исходный.\n",
        "# Нам нужно преобразовать из категориальных в числовые пол, name, ticket и embarked"
      ]
    },
    {
      "cell_type": "code",
      "execution_count": null,
      "id": "NvP90sPwcC2X",
      "metadata": {
        "id": "NvP90sPwcC2X"
      },
      "outputs": [],
      "source": [
        "# Чтобы из категориальных признаков сделать числовые воспользуюсь get_dummies из библиотеки pandas\n",
        "pd.get_dummies(data[\"Sex\"])\n",
        "sex = pd.get_dummies(data[\"Sex\"],drop_first=True) #  мужчина = 1, женщина = 0\n",
        "# аргумент drop_first, когда установлен в True, удалять первый столбец, чтобы избежать мультиколлинеарности.\n",
        "# также поступим с mbarked and PClass\n",
        "embarked = pd.get_dummies(data[\"Embarked\"],drop_first=True)\n",
        "pclass = pd.get_dummies(data[\"Pclass\"],drop_first=True)"
      ]
    },
    {
      "cell_type": "code",
      "execution_count": null,
      "id": "i7aNMyPbcIaq",
      "metadata": {
        "id": "i7aNMyPbcIaq"
      },
      "outputs": [],
      "source": [
        "# pd.concat() - позволяет объединить объекты pandas\n",
        "data = pd.concat([data, pclass, sex, embarked],axis=1)"
      ]
    },
    {
      "cell_type": "code",
      "execution_count": null,
      "id": "gCtPufOscNW5",
      "metadata": {
        "id": "gCtPufOscNW5"
      },
      "outputs": [],
      "source": [
        "# Дропним то, что не очень нужно\n",
        "data.drop([\"PassengerId\",\"Pclass\",\"Name\",\"Sex\",\"Ticket\",\"Embarked\"],axis=1,inplace=True)"
      ]
    },
    {
      "cell_type": "code",
      "execution_count": null,
      "id": "C_31VO84cRLY",
      "metadata": {
        "id": "C_31VO84cRLY"
      },
      "outputs": [],
      "source": [
        "X = data.drop(\"Survived\",axis=1)\n",
        "y = data[\"Survived\"]\n",
        "X_train, X_test, y_train, y_test = train_test_split(X, y)"
      ]
    },
    {
      "cell_type": "code",
      "execution_count": null,
      "id": "j_vAAth5cYp3",
      "metadata": {
        "colab": {
          "base_uri": "https://localhost:8080/"
        },
        "id": "j_vAAth5cYp3",
        "outputId": "0f747e53-7ead-48d4-dbc5-0d1102a3c019"
      },
      "outputs": [
        {
          "data": {
            "text/plain": [
              "0    549\n",
              "1    340\n",
              "Name: Survived, dtype: int64"
            ]
          },
          "execution_count": 150,
          "metadata": {},
          "output_type": "execute_result"
        }
      ],
      "source": [
        "y.value_counts()"
      ]
    },
    {
      "cell_type": "code",
      "execution_count": null,
      "id": "8NmFs2WpcasY",
      "metadata": {
        "id": "8NmFs2WpcasY"
      },
      "outputs": [],
      "source": [
        "X.columns = X.columns.astype(str)\n",
        "from sklearn.model_selection import train_test_split\n",
        "X_train, X_test, y_train, y_test = train_test_split(X, y, test_size = 0.2, random_state = 101)"
      ]
    },
    {
      "cell_type": "markdown",
      "id": "GXAE-PS2eVDJ",
      "metadata": {
        "id": "GXAE-PS2eVDJ"
      },
      "source": [
        "Посмотрим сначала с логистической регрессией, потом с Xgboost"
      ]
    },
    {
      "cell_type": "code",
      "execution_count": null,
      "id": "VAHfeomYexnz",
      "metadata": {
        "id": "VAHfeomYexnz"
      },
      "outputs": [],
      "source": [
        "import numpy as np\n",
        "import pandas as pd\n",
        "import matplotlib.pyplot as plt\n",
        "from sklearn.ensemble import RandomForestClassifier, StackingClassifier\n",
        "from sklearn.linear_model import LogisticRegression\n",
        "from sklearn.model_selection import train_test_split\n",
        "from sklearn.neighbors import KNeighborsClassifier\n",
        "from sklearn.ensemble import GradientBoostingClassifier"
      ]
    },
    {
      "cell_type": "code",
      "execution_count": null,
      "id": "Dq-97zIgkfH-",
      "metadata": {
        "colab": {
          "base_uri": "https://localhost:8080/",
          "height": 213
        },
        "id": "Dq-97zIgkfH-",
        "outputId": "232ed581-a4c1-439e-c753-56e0eccc4fa2"
      },
      "outputs": [
        {
          "name": "stderr",
          "output_type": "stream",
          "text": [
            "/usr/local/lib/python3.10/dist-packages/sklearn/linear_model/_logistic.py:458: ConvergenceWarning: lbfgs failed to converge (status=1):\n",
            "STOP: TOTAL NO. of ITERATIONS REACHED LIMIT.\n",
            "\n",
            "Increase the number of iterations (max_iter) or scale the data as shown in:\n",
            "    https://scikit-learn.org/stable/modules/preprocessing.html\n",
            "Please also refer to the documentation for alternative solver options:\n",
            "    https://scikit-learn.org/stable/modules/linear_model.html#logistic-regression\n",
            "  n_iter_i = _check_optimize_result(\n"
          ]
        },
        {
          "data": {
            "text/html": [
              "<style>#sk-container-id-1 {color: black;background-color: white;}#sk-container-id-1 pre{padding: 0;}#sk-container-id-1 div.sk-toggleable {background-color: white;}#sk-container-id-1 label.sk-toggleable__label {cursor: pointer;display: block;width: 100%;margin-bottom: 0;padding: 0.3em;box-sizing: border-box;text-align: center;}#sk-container-id-1 label.sk-toggleable__label-arrow:before {content: \"▸\";float: left;margin-right: 0.25em;color: #696969;}#sk-container-id-1 label.sk-toggleable__label-arrow:hover:before {color: black;}#sk-container-id-1 div.sk-estimator:hover label.sk-toggleable__label-arrow:before {color: black;}#sk-container-id-1 div.sk-toggleable__content {max-height: 0;max-width: 0;overflow: hidden;text-align: left;background-color: #f0f8ff;}#sk-container-id-1 div.sk-toggleable__content pre {margin: 0.2em;color: black;border-radius: 0.25em;background-color: #f0f8ff;}#sk-container-id-1 input.sk-toggleable__control:checked~div.sk-toggleable__content {max-height: 200px;max-width: 100%;overflow: auto;}#sk-container-id-1 input.sk-toggleable__control:checked~label.sk-toggleable__label-arrow:before {content: \"▾\";}#sk-container-id-1 div.sk-estimator input.sk-toggleable__control:checked~label.sk-toggleable__label {background-color: #d4ebff;}#sk-container-id-1 div.sk-label input.sk-toggleable__control:checked~label.sk-toggleable__label {background-color: #d4ebff;}#sk-container-id-1 input.sk-hidden--visually {border: 0;clip: rect(1px 1px 1px 1px);clip: rect(1px, 1px, 1px, 1px);height: 1px;margin: -1px;overflow: hidden;padding: 0;position: absolute;width: 1px;}#sk-container-id-1 div.sk-estimator {font-family: monospace;background-color: #f0f8ff;border: 1px dotted black;border-radius: 0.25em;box-sizing: border-box;margin-bottom: 0.5em;}#sk-container-id-1 div.sk-estimator:hover {background-color: #d4ebff;}#sk-container-id-1 div.sk-parallel-item::after {content: \"\";width: 100%;border-bottom: 1px solid gray;flex-grow: 1;}#sk-container-id-1 div.sk-label:hover label.sk-toggleable__label {background-color: #d4ebff;}#sk-container-id-1 div.sk-serial::before {content: \"\";position: absolute;border-left: 1px solid gray;box-sizing: border-box;top: 0;bottom: 0;left: 50%;z-index: 0;}#sk-container-id-1 div.sk-serial {display: flex;flex-direction: column;align-items: center;background-color: white;padding-right: 0.2em;padding-left: 0.2em;position: relative;}#sk-container-id-1 div.sk-item {position: relative;z-index: 1;}#sk-container-id-1 div.sk-parallel {display: flex;align-items: stretch;justify-content: center;background-color: white;position: relative;}#sk-container-id-1 div.sk-item::before, #sk-container-id-1 div.sk-parallel-item::before {content: \"\";position: absolute;border-left: 1px solid gray;box-sizing: border-box;top: 0;bottom: 0;left: 50%;z-index: -1;}#sk-container-id-1 div.sk-parallel-item {display: flex;flex-direction: column;z-index: 1;position: relative;background-color: white;}#sk-container-id-1 div.sk-parallel-item:first-child::after {align-self: flex-end;width: 50%;}#sk-container-id-1 div.sk-parallel-item:last-child::after {align-self: flex-start;width: 50%;}#sk-container-id-1 div.sk-parallel-item:only-child::after {width: 0;}#sk-container-id-1 div.sk-dashed-wrapped {border: 1px dashed gray;margin: 0 0.4em 0.5em 0.4em;box-sizing: border-box;padding-bottom: 0.4em;background-color: white;}#sk-container-id-1 div.sk-label label {font-family: monospace;font-weight: bold;display: inline-block;line-height: 1.2em;}#sk-container-id-1 div.sk-label-container {text-align: center;}#sk-container-id-1 div.sk-container {/* jupyter's `normalize.less` sets `[hidden] { display: none; }` but bootstrap.min.css set `[hidden] { display: none !important; }` so we also need the `!important` here to be able to override the default hidden behavior on the sphinx rendered scikit-learn.org. See: https://github.com/scikit-learn/scikit-learn/issues/21755 */display: inline-block !important;position: relative;}#sk-container-id-1 div.sk-text-repr-fallback {display: none;}</style><div id=\"sk-container-id-1\" class=\"sk-top-container\"><div class=\"sk-text-repr-fallback\"><pre>LogisticRegression()</pre><b>In a Jupyter environment, please rerun this cell to show the HTML representation or trust the notebook. <br />On GitHub, the HTML representation is unable to render, please try loading this page with nbviewer.org.</b></div><div class=\"sk-container\" hidden><div class=\"sk-item\"><div class=\"sk-estimator sk-toggleable\"><input class=\"sk-toggleable__control sk-hidden--visually\" id=\"sk-estimator-id-1\" type=\"checkbox\" checked><label for=\"sk-estimator-id-1\" class=\"sk-toggleable__label sk-toggleable__label-arrow\">LogisticRegression</label><div class=\"sk-toggleable__content\"><pre>LogisticRegression()</pre></div></div></div></div></div>"
            ],
            "text/plain": [
              "LogisticRegression()"
            ]
          },
          "execution_count": 160,
          "metadata": {},
          "output_type": "execute_result"
        }
      ],
      "source": [
        "from sklearn.linear_model import LogisticRegression\n",
        "lr = LogisticRegression()\n",
        "lr.fit(X_train, y_train)"
      ]
    },
    {
      "cell_type": "code",
      "execution_count": null,
      "id": "3RGOuyX3levY",
      "metadata": {
        "id": "3RGOuyX3levY"
      },
      "outputs": [],
      "source": [
        "pred_train = lr.predict(X_train)\n",
        "pred_test = lr.predict(X_test)"
      ]
    },
    {
      "cell_type": "code",
      "execution_count": null,
      "id": "OLSojiZilpdT",
      "metadata": {
        "colab": {
          "base_uri": "https://localhost:8080/"
        },
        "id": "OLSojiZilpdT",
        "outputId": "b4442299-bd5a-4b62-83e4-72c46d2e6a64"
      },
      "outputs": [
        {
          "name": "stdout",
          "output_type": "stream",
          "text": [
            "Training Accuracy:  0.8143459915611815\n",
            "Testing Accuracy:  0.8202247191011236\n"
          ]
        }
      ],
      "source": [
        "from sklearn.metrics import accuracy_score\n",
        "train_accuracy = accuracy_score(y_train,pred_train)\n",
        "test_accuracy = accuracy_score(y_test,pred_test)\n",
        "print(\"Training Accuracy: \", train_accuracy)\n",
        "print(\"Testing Accuracy: \", test_accuracy)"
      ]
    },
    {
      "cell_type": "code",
      "execution_count": null,
      "id": "bwnrQMTimLop",
      "metadata": {
        "colab": {
          "base_uri": "https://localhost:8080/"
        },
        "id": "bwnrQMTimLop",
        "outputId": "d9135f02-d8ad-46bc-c9a6-8c410d36ed8a"
      },
      "outputs": [
        {
          "name": "stdout",
          "output_type": "stream",
          "text": [
            "Classification Report:\n",
            "              precision    recall  f1-score   support\n",
            "\n",
            "           0       0.81      0.92      0.86       107\n",
            "           1       0.84      0.68      0.75        71\n",
            "\n",
            "    accuracy                           0.82       178\n",
            "   macro avg       0.83      0.80      0.80       178\n",
            "weighted avg       0.82      0.82      0.82       178\n",
            "\n",
            "              precision    recall  f1-score   support\n",
            "\n",
            "           0       0.83      0.89      0.86       442\n",
            "           1       0.79      0.70      0.74       269\n",
            "\n",
            "    accuracy                           0.81       711\n",
            "   macro avg       0.81      0.79      0.80       711\n",
            "weighted avg       0.81      0.81      0.81       711\n",
            "\n"
          ]
        }
      ],
      "source": [
        "from sklearn.metrics import classification_report, accuracy_score\n",
        "import matplotlib.pyplot as plt\n",
        "import seaborn as sns\n",
        "# Classification report\n",
        "print(\"Classification Report:\")\n",
        "print(classification_report(y_test, pred_test))\n",
        "print(classification_report(y_train, pred_train))"
      ]
    },
    {
      "cell_type": "code",
      "execution_count": null,
      "id": "zxdPh-a_mhww",
      "metadata": {
        "colab": {
          "base_uri": "https://localhost:8080/",
          "height": 564
        },
        "id": "zxdPh-a_mhww",
        "outputId": "ec5468f2-718c-4078-d153-a997ec877d42"
      },
      "outputs": [
        {
          "data": {
            "image/png": "[encoded data removed]",
            "text/plain": [
              "<Figure size 800x600 with 1 Axes>"
            ]
          },
          "metadata": {},
          "output_type": "display_data"
        }
      ],
      "source": [
        "# Сделаю наглядно\n",
        "plt.figure(figsize=(8,6))\n",
        "sns.heatmap(confusion_matrix(y_test, pred_test), annot=True, cmap='Blues', fmt='d', cbar=False)\n",
        "plt.xlabel('Predicted Labels')\n",
        "plt.ylabel('True Labels')\n",
        "plt.title('Confusion Matrix')\n",
        "plt.show()"
      ]
    },
    {
      "cell_type": "markdown",
      "id": "vt0QkncLnzjy",
      "metadata": {
        "id": "vt0QkncLnzjy"
      },
      "source": [
        "Теперь попробую через стеккинг"
      ]
    },
    {
      "cell_type": "code",
      "execution_count": null,
      "id": "Y-Y5G54Ymzfk",
      "metadata": {
        "id": "Y-Y5G54Ymzfk"
      },
      "outputs": [],
      "source": [
        "import pandas as pd\n",
        "import matplotlib.pyplot as plt\n",
        "from mlxtend.plotting import plot_confusion_matrix\n",
        "from mlxtend.classifier import StackingClassifier\n",
        "from sklearn.model_selection import train_test_split\n",
        "from sklearn.preprocessing import StandardScaler\n",
        "from sklearn.linear_model import LogisticRegression\n",
        "from sklearn.neighbors import KNeighborsClassifier\n",
        "from sklearn.naive_bayes import GaussianNB\n",
        "from sklearn.metrics import confusion_matrix\n",
        "from sklearn.metrics import accuracy_score"
      ]
    },
    {
      "cell_type": "code",
      "execution_count": null,
      "id": "ZNQxJyFgos2K",
      "metadata": {
        "colab": {
          "base_uri": "https://localhost:8080/",
          "height": 206
        },
        "id": "ZNQxJyFgos2K",
        "outputId": "fdaab6cd-f448-4759-c768-648168dbca59"
      },
      "outputs": [
        {
          "data": {
            "application/vnd.google.colaboratory.intrinsic+json": {
              "summary": "{\n  \"name\": \"data\",\n  \"rows\": 889,\n  \"fields\": [\n    {\n      \"column\": \"Survived\",\n      \"properties\": {\n        \"dtype\": \"number\",\n        \"std\": 0,\n        \"min\": 0,\n        \"max\": 1,\n        \"num_unique_values\": 2,\n        \"samples\": [\n          1,\n          0\n        ],\n        \"semantic_type\": \"\",\n        \"description\": \"\"\n      }\n    },\n    {\n      \"column\": \"Age\",\n      \"properties\": {\n        \"dtype\": \"number\",\n        \"std\": 13.177746823022957,\n        \"min\": 0.42,\n        \"max\": 80.0,\n        \"num_unique_values\": 88,\n        \"samples\": [\n          0.75,\n          22.0\n        ],\n        \"semantic_type\": \"\",\n        \"description\": \"\"\n      }\n    },\n    {\n      \"column\": \"SibSp\",\n      \"properties\": {\n        \"dtype\": \"number\",\n        \"std\": 1,\n        \"min\": 0,\n        \"max\": 8,\n        \"num_unique_values\": 7,\n        \"samples\": [\n          1,\n          0\n        ],\n        \"semantic_type\": \"\",\n        \"description\": \"\"\n      }\n    },\n    {\n      \"column\": \"Parch\",\n      \"properties\": {\n        \"dtype\": \"number\",\n        \"std\": 0,\n        \"min\": 0,\n        \"max\": 6,\n        \"num_unique_values\": 7,\n        \"samples\": [\n          0,\n          1\n        ],\n        \"semantic_type\": \"\",\n        \"description\": \"\"\n      }\n    },\n    {\n      \"column\": \"Fare\",\n      \"properties\": {\n        \"dtype\": \"number\",\n        \"std\": 49.697504316707956,\n        \"min\": 0.0,\n        \"max\": 512.3292,\n        \"num_unique_values\": 247,\n        \"samples\": [\n          11.2417,\n          51.8625\n        ],\n        \"semantic_type\": \"\",\n        \"description\": \"\"\n      }\n    },\n    {\n      \"column\": 2,\n      \"properties\": {\n        \"dtype\": \"uint8\",\n        \"num_unique_values\": 2,\n        \"samples\": [\n          1,\n          0\n        ],\n        \"semantic_type\": \"\",\n        \"description\": \"\"\n      }\n    },\n    {\n      \"column\": 3,\n      \"properties\": {\n        \"dtype\": \"uint8\",\n        \"num_unique_values\": 2,\n        \"samples\": [\n          0,\n          1\n        ],\n        \"semantic_type\": \"\",\n        \"description\": \"\"\n      }\n    },\n    {\n      \"column\": \"male\",\n      \"properties\": {\n        \"dtype\": \"uint8\",\n        \"num_unique_values\": 2,\n        \"samples\": [\n          0,\n          1\n        ],\n        \"semantic_type\": \"\",\n        \"description\": \"\"\n      }\n    },\n    {\n      \"column\": \"Q\",\n      \"properties\": {\n        \"dtype\": \"uint8\",\n        \"num_unique_values\": 2,\n        \"samples\": [\n          1,\n          0\n        ],\n        \"semantic_type\": \"\",\n        \"description\": \"\"\n      }\n    },\n    {\n      \"column\": \"S\",\n      \"properties\": {\n        \"dtype\": \"uint8\",\n        \"num_unique_values\": 2,\n        \"samples\": [\n          0,\n          1\n        ],\n        \"semantic_type\": \"\",\n        \"description\": \"\"\n      }\n    }\n  ]\n}",
              "type": "dataframe",
              "variable_name": "data"
            },
            "text/html": [
              "\n",
              "  <div id=\"df-678d1f62-3634-458f-82f6-4f070e074031\" class=\"colab-df-container\">\n",
              "    <div>\n",
              "<style scoped>\n",
              "    .dataframe tbody tr th:only-of-type {\n",
              "        vertical-align: middle;\n",
              "    }\n",
              "\n",
              "    .dataframe tbody tr th {\n",
              "        vertical-align: top;\n",
              "    }\n",
              "\n",
              "    .dataframe thead th {\n",
              "        text-align: right;\n",
              "    }\n",
              "</style>\n",
              "<table border=\"1\" class=\"dataframe\">\n",
              "  <thead>\n",
              "    <tr style=\"text-align: right;\">\n",
              "      <th></th>\n",
              "      <th>Survived</th>\n",
              "      <th>Age</th>\n",
              "      <th>SibSp</th>\n",
              "      <th>Parch</th>\n",
              "      <th>Fare</th>\n",
              "      <th>2</th>\n",
              "      <th>3</th>\n",
              "      <th>male</th>\n",
              "      <th>Q</th>\n",
              "      <th>S</th>\n",
              "    </tr>\n",
              "  </thead>\n",
              "  <tbody>\n",
              "    <tr>\n",
              "      <th>0</th>\n",
              "      <td>0</td>\n",
              "      <td>22.0</td>\n",
              "      <td>1</td>\n",
              "      <td>0</td>\n",
              "      <td>7.2500</td>\n",
              "      <td>0</td>\n",
              "      <td>1</td>\n",
              "      <td>1</td>\n",
              "      <td>0</td>\n",
              "      <td>1</td>\n",
              "    </tr>\n",
              "    <tr>\n",
              "      <th>1</th>\n",
              "      <td>1</td>\n",
              "      <td>38.0</td>\n",
              "      <td>1</td>\n",
              "      <td>0</td>\n",
              "      <td>71.2833</td>\n",
              "      <td>0</td>\n",
              "      <td>0</td>\n",
              "      <td>0</td>\n",
              "      <td>0</td>\n",
              "      <td>0</td>\n",
              "    </tr>\n",
              "    <tr>\n",
              "      <th>2</th>\n",
              "      <td>1</td>\n",
              "      <td>26.0</td>\n",
              "      <td>0</td>\n",
              "      <td>0</td>\n",
              "      <td>7.9250</td>\n",
              "      <td>0</td>\n",
              "      <td>1</td>\n",
              "      <td>0</td>\n",
              "      <td>0</td>\n",
              "      <td>1</td>\n",
              "    </tr>\n",
              "    <tr>\n",
              "      <th>3</th>\n",
              "      <td>1</td>\n",
              "      <td>35.0</td>\n",
              "      <td>1</td>\n",
              "      <td>0</td>\n",
              "      <td>53.1000</td>\n",
              "      <td>0</td>\n",
              "      <td>0</td>\n",
              "      <td>0</td>\n",
              "      <td>0</td>\n",
              "      <td>1</td>\n",
              "    </tr>\n",
              "    <tr>\n",
              "      <th>4</th>\n",
              "      <td>0</td>\n",
              "      <td>35.0</td>\n",
              "      <td>0</td>\n",
              "      <td>0</td>\n",
              "      <td>8.0500</td>\n",
              "      <td>0</td>\n",
              "      <td>1</td>\n",
              "      <td>1</td>\n",
              "      <td>0</td>\n",
              "      <td>1</td>\n",
              "    </tr>\n",
              "  </tbody>\n",
              "</table>\n",
              "</div>\n",
              "    <div class=\"colab-df-buttons\">\n",
              "\n",
              "  <div class=\"colab-df-container\">\n",
              "    <button class=\"colab-df-convert\" onclick=\"convertToInteractive('df-678d1f62-3634-458f-82f6-4f070e074031')\"\n",
              "            title=\"Convert this dataframe to an interactive table.\"\n",
              "            style=\"display:none;\">\n",
              "\n",
              "  <svg xmlns=\"http://www.w3.org/2000/svg\" height=\"24px\" viewBox=\"0 -960 960 960\">\n",
              "    <path d=\"M120-120v-720h720v720H120Zm60-500h600v-160H180v160Zm220 220h160v-160H400v160Zm0 220h160v-160H400v160ZM180-400h160v-160H180v160Zm440 0h160v-160H620v160ZM180-180h160v-160H180v160Zm440 0h160v-160H620v160Z\"/>\n",
              "  </svg>\n",
              "    </button>\n",
              "\n",
              "  <style>\n",
              "    .colab-df-container {\n",
              "      display:flex;\n",
              "      gap: 12px;\n",
              "    }\n",
              "\n",
              "    .colab-df-convert {\n",
              "      background-color: #E8F0FE;\n",
              "      border: none;\n",
              "      border-radius: 50%;\n",
              "      cursor: pointer;\n",
              "      display: none;\n",
              "      fill: #1967D2;\n",
              "      height: 32px;\n",
              "      padding: 0 0 0 0;\n",
              "      width: 32px;\n",
              "    }\n",
              "\n",
              "    .colab-df-convert:hover {\n",
              "      background-color: #E2EBFA;\n",
              "      box-shadow: 0px 1px 2px rgba(60, 64, 67, 0.3), 0px 1px 3px 1px rgba(60, 64, 67, 0.15);\n",
              "      fill: #174EA6;\n",
              "    }\n",
              "\n",
              "    .colab-df-buttons div {\n",
              "      margin-bottom: 4px;\n",
              "    }\n",
              "\n",
              "    [theme=dark] .colab-df-convert {\n",
              "      background-color: #3B4455;\n",
              "      fill: #D2E3FC;\n",
              "    }\n",
              "\n",
              "    [theme=dark] .colab-df-convert:hover {\n",
              "      background-color: #434B5C;\n",
              "      box-shadow: 0px 1px 3px 1px rgba(0, 0, 0, 0.15);\n",
              "      filter: drop-shadow(0px 1px 2px rgba(0, 0, 0, 0.3));\n",
              "      fill: #FFFFFF;\n",
              "    }\n",
              "  </style>\n",
              "\n",
              "    <script>\n",
              "      const buttonEl =\n",
              "        document.querySelector('#df-678d1f62-3634-458f-82f6-4f070e074031 button.colab-df-convert');\n",
              "      buttonEl.style.display =\n",
              "        google.colab.kernel.accessAllowed ? 'block' : 'none';\n",
              "\n",
              "      async function convertToInteractive(key) {\n",
              "        const element = document.querySelector('#df-678d1f62-3634-458f-82f6-4f070e074031');\n",
              "        const dataTable =\n",
              "          await google.colab.kernel.invokeFunction('convertToInteractive',\n",
              "                                                    [key], {});\n",
              "        if (!dataTable) return;\n",
              "\n",
              "        const docLinkHtml = 'Like what you see? Visit the ' +\n",
              "          '<a target=\"_blank\" href=https://colab.research.google.com/notebooks/data_table.ipynb>data table notebook</a>'\n",
              "          + ' to learn more about interactive tables.';\n",
              "        element.innerHTML = '';\n",
              "        dataTable['output_type'] = 'display_data';\n",
              "        await google.colab.output.renderOutput(dataTable, element);\n",
              "        const docLink = document.createElement('div');\n",
              "        docLink.innerHTML = docLinkHtml;\n",
              "        element.appendChild(docLink);\n",
              "      }\n",
              "    </script>\n",
              "  </div>\n",
              "\n",
              "\n",
              "<div id=\"df-50ba10e9-d7c1-4d54-90f7-ec3eabd1d4c9\">\n",
              "  <button class=\"colab-df-quickchart\" onclick=\"quickchart('df-50ba10e9-d7c1-4d54-90f7-ec3eabd1d4c9')\"\n",
              "            title=\"Suggest charts\"\n",
              "            style=\"display:none;\">\n",
              "\n",
              "<svg xmlns=\"http://www.w3.org/2000/svg\" height=\"24px\"viewBox=\"0 0 24 24\"\n",
              "     width=\"24px\">\n",
              "    <g>\n",
              "        <path d=\"M19 3H5c-1.1 0-2 .9-2 2v14c0 1.1.9 2 2 2h14c1.1 0 2-.9 2-2V5c0-1.1-.9-2-2-2zM9 17H7v-7h2v7zm4 0h-2V7h2v10zm4 0h-2v-4h2v4z\"/>\n",
              "    </g>\n",
              "</svg>\n",
              "  </button>\n",
              "\n",
              "<style>\n",
              "  .colab-df-quickchart {\n",
              "      --bg-color: #E8F0FE;\n",
              "      --fill-color: #1967D2;\n",
              "      --hover-bg-color: #E2EBFA;\n",
              "      --hover-fill-color: #174EA6;\n",
              "      --disabled-fill-color: #AAA;\n",
              "      --disabled-bg-color: #DDD;\n",
              "  }\n",
              "\n",
              "  [theme=dark] .colab-df-quickchart {\n",
              "      --bg-color: #3B4455;\n",
              "      --fill-color: #D2E3FC;\n",
              "      --hover-bg-color: #434B5C;\n",
              "      --hover-fill-color: #FFFFFF;\n",
              "      --disabled-bg-color: #3B4455;\n",
              "      --disabled-fill-color: #666;\n",
              "  }\n",
              "\n",
              "  .colab-df-quickchart {\n",
              "    background-color: var(--bg-color);\n",
              "    border: none;\n",
              "    border-radius: 50%;\n",
              "    cursor: pointer;\n",
              "    display: none;\n",
              "    fill: var(--fill-color);\n",
              "    height: 32px;\n",
              "    padding: 0;\n",
              "    width: 32px;\n",
              "  }\n",
              "\n",
              "  .colab-df-quickchart:hover {\n",
              "    background-color: var(--hover-bg-color);\n",
              "    box-shadow: 0 1px 2px rgba(60, 64, 67, 0.3), 0 1px 3px 1px rgba(60, 64, 67, 0.15);\n",
              "    fill: var(--button-hover-fill-color);\n",
              "  }\n",
              "\n",
              "  .colab-df-quickchart-complete:disabled,\n",
              "  .colab-df-quickchart-complete:disabled:hover {\n",
              "    background-color: var(--disabled-bg-color);\n",
              "    fill: var(--disabled-fill-color);\n",
              "    box-shadow: none;\n",
              "  }\n",
              "\n",
              "  .colab-df-spinner {\n",
              "    border: 2px solid var(--fill-color);\n",
              "    border-color: transparent;\n",
              "    border-bottom-color: var(--fill-color);\n",
              "    animation:\n",
              "      spin 1s steps(1) infinite;\n",
              "  }\n",
              "\n",
              "  @keyframes spin {\n",
              "    0% {\n",
              "      border-color: transparent;\n",
              "      border-bottom-color: var(--fill-color);\n",
              "      border-left-color: var(--fill-color);\n",
              "    }\n",
              "    20% {\n",
              "      border-color: transparent;\n",
              "      border-left-color: var(--fill-color);\n",
              "      border-top-color: var(--fill-color);\n",
              "    }\n",
              "    30% {\n",
              "      border-color: transparent;\n",
              "      border-left-color: var(--fill-color);\n",
              "      border-top-color: var(--fill-color);\n",
              "      border-right-color: var(--fill-color);\n",
              "    }\n",
              "    40% {\n",
              "      border-color: transparent;\n",
              "      border-right-color: var(--fill-color);\n",
              "      border-top-color: var(--fill-color);\n",
              "    }\n",
              "    60% {\n",
              "      border-color: transparent;\n",
              "      border-right-color: var(--fill-color);\n",
              "    }\n",
              "    80% {\n",
              "      border-color: transparent;\n",
              "      border-right-color: var(--fill-color);\n",
              "      border-bottom-color: var(--fill-color);\n",
              "    }\n",
              "    90% {\n",
              "      border-color: transparent;\n",
              "      border-bottom-color: var(--fill-color);\n",
              "    }\n",
              "  }\n",
              "</style>\n",
              "\n",
              "  <script>\n",
              "    async function quickchart(key) {\n",
              "      const quickchartButtonEl =\n",
              "        document.querySelector('#' + key + ' button');\n",
              "      quickchartButtonEl.disabled = true;  // To prevent multiple clicks.\n",
              "      quickchartButtonEl.classList.add('colab-df-spinner');\n",
              "      try {\n",
              "        const charts = await google.colab.kernel.invokeFunction(\n",
              "            'suggestCharts', [key], {});\n",
              "      } catch (error) {\n",
              "        console.error('Error during call to suggestCharts:', error);\n",
              "      }\n",
              "      quickchartButtonEl.classList.remove('colab-df-spinner');\n",
              "      quickchartButtonEl.classList.add('colab-df-quickchart-complete');\n",
              "    }\n",
              "    (() => {\n",
              "      let quickchartButtonEl =\n",
              "        document.querySelector('#df-50ba10e9-d7c1-4d54-90f7-ec3eabd1d4c9 button');\n",
              "      quickchartButtonEl.style.display =\n",
              "        google.colab.kernel.accessAllowed ? 'block' : 'none';\n",
              "    })();\n",
              "  </script>\n",
              "</div>\n",
              "    </div>\n",
              "  </div>\n"
            ],
            "text/plain": [
              "   Survived   Age  SibSp  Parch     Fare  2  3  male  Q  S\n",
              "0         0  22.0      1      0   7.2500  0  1     1  0  1\n",
              "1         1  38.0      1      0  71.2833  0  0     0  0  0\n",
              "2         1  26.0      0      0   7.9250  0  1     0  0  1\n",
              "3         1  35.0      1      0  53.1000  0  0     0  0  1\n",
              "4         0  35.0      0      0   8.0500  0  1     1  0  1"
            ]
          },
          "execution_count": 166,
          "metadata": {},
          "output_type": "execute_result"
        }
      ],
      "source": [
        "data.head().copy()"
      ]
    },
    {
      "cell_type": "code",
      "execution_count": null,
      "id": "6G0uxWbGo14T",
      "metadata": {
        "id": "6G0uxWbGo14T"
      },
      "outputs": [],
      "source": [
        "X = data.drop(\"Survived\",axis=1)\n",
        "y = data[\"Survived\"]\n",
        "X_train, X_test, y_train, y_test = train_test_split(X, y, test_size = 0.2, random_state = 100)"
      ]
    },
    {
      "cell_type": "code",
      "execution_count": null,
      "id": "GmnhOQwlplVu",
      "metadata": {
        "id": "GmnhOQwlplVu"
      },
      "outputs": [],
      "source": [
        "KNC = KNeighborsClassifier() # инициализирую knn-classifier\n",
        "NB = GaussianNB() # инициализирую Наивный Байас"
      ]
    },
    {
      "cell_type": "code",
      "execution_count": null,
      "id": "nCw94YuEq8pe",
      "metadata": {
        "id": "nCw94YuEq8pe"
      },
      "outputs": [],
      "source": [
        "# Приведу все названия признаков к строковому типу.\n",
        "X_train.columns = X_train.columns.astype(str)\n",
        "X_test.columns = X_test.columns.astype(str)"
      ]
    },
    {
      "cell_type": "code",
      "execution_count": null,
      "id": "tKdcElAHp4Ny",
      "metadata": {
        "id": "tKdcElAHp4Ny"
      },
      "outputs": [],
      "source": [
        "# Сначала потренирую kneighborsclassifier:\n",
        "model_kNeighborsClassifier = KNC.fit(X_train, y_train)   # тренирую модель\n",
        "pred_knc = model_kNeighborsClassifier.predict(X_test)   # предсказываю на тесте"
      ]
    },
    {
      "cell_type": "code",
      "execution_count": null,
      "id": "NLl4D7ABrms_",
      "metadata": {
        "colab": {
          "base_uri": "https://localhost:8080/"
        },
        "id": "NLl4D7ABrms_",
        "outputId": "a00983f1-47f2-46e4-9ae0-07adba79259d"
      },
      "outputs": [
        {
          "name": "stdout",
          "output_type": "stream",
          "text": [
            "accuracy score of KNeighbors Classifier is: 74.15730337078652\n"
          ]
        }
      ],
      "source": [
        "# Оценю модель\n",
        "acc_knc = accuracy_score(y_test, pred_knc)\n",
        "print('accuracy score of KNeighbors Classifier is:', acc_knc * 100)"
      ]
    },
    {
      "cell_type": "code",
      "execution_count": null,
      "id": "WdeN8hL7rw_l",
      "metadata": {
        "id": "WdeN8hL7rw_l"
      },
      "outputs": [],
      "source": [
        "# Теперь тренирую Наивный Байас:\n",
        "model_NaiveBayes = NB.fit(X_train, y_train)\n",
        "pred_nb = model_NaiveBayes.predict(X_test)"
      ]
    },
    {
      "cell_type": "code",
      "execution_count": null,
      "id": "UKmgJVP7r7Sf",
      "metadata": {
        "colab": {
          "base_uri": "https://localhost:8080/"
        },
        "id": "UKmgJVP7r7Sf",
        "outputId": "8e3af9e0-c1ab-4db4-ee5e-3168639525cf"
      },
      "outputs": [
        {
          "name": "stdout",
          "output_type": "stream",
          "text": [
            "Accuracy of Naive Bayes Classifier: 75.28089887640449\n"
          ]
        }
      ],
      "source": [
        "# Оценю Наивный Байас:\n",
        "acc_nb = accuracy_score(y_test, pred_nb)\n",
        "print('Accuracy of Naive Bayes Classifier:', acc_nb * 100)"
      ]
    },
    {
      "cell_type": "code",
      "execution_count": null,
      "id": "GRsvw4xjsL1g",
      "metadata": {
        "id": "GRsvw4xjsL1g"
      },
      "outputs": [],
      "source": [
        "# Внедрю Stacking Classifier:\n",
        "lr = LogisticRegression()  # defining meta-classifier\n",
        "clf_stack = StackingClassifier(classifiers =[KNC, NB], meta_classifier = lr, use_probas = True, use_features_in_secondary = True)"
      ]
    },
    {
      "cell_type": "markdown",
      "id": "lt4vjYtSsa7T",
      "metadata": {
        "id": "lt4vjYtSsa7T"
      },
      "source": [
        "use_probas=True указывает, что классификатор стекирования использует вероятности предсказания в качестве входных данных вместо использования классов предсказаний.\n",
        "\n",
        "use_features_in_secondary=True указывает, что классификатор стекирования не только принимает прогнозы в качестве входных данных, но и использует функции в наборе данных для прогнозирования на основе новых данных."
      ]
    },
    {
      "cell_type": "code",
      "execution_count": null,
      "id": "OrcNUa8VseOD",
      "metadata": {
        "colab": {
          "base_uri": "https://localhost:8080/"
        },
        "id": "OrcNUa8VseOD",
        "outputId": "124dfe16-5ec2-472d-e796-01469e14e97b"
      },
      "outputs": [
        {
          "name": "stderr",
          "output_type": "stream",
          "text": [
            "/usr/local/lib/python3.10/dist-packages/sklearn/linear_model/_logistic.py:458: ConvergenceWarning: lbfgs failed to converge (status=1):\n",
            "STOP: TOTAL NO. of ITERATIONS REACHED LIMIT.\n",
            "\n",
            "Increase the number of iterations (max_iter) or scale the data as shown in:\n",
            "    https://scikit-learn.org/stable/modules/preprocessing.html\n",
            "Please also refer to the documentation for alternative solver options:\n",
            "    https://scikit-learn.org/stable/modules/linear_model.html#logistic-regression\n",
            "  n_iter_i = _check_optimize_result(\n"
          ]
        }
      ],
      "source": [
        "# Тренирую через Stacking Classifier:\n",
        "model_stack = clf_stack.fit(X_train, y_train)\n",
        "pred_stack = model_stack.predict(X_test)"
      ]
    },
    {
      "cell_type": "code",
      "execution_count": null,
      "id": "n5RdDB_HsweL",
      "metadata": {
        "colab": {
          "base_uri": "https://localhost:8080/"
        },
        "id": "n5RdDB_HsweL",
        "outputId": "c1fc42c3-b3c9-441c-ad15-5ae4d93aa99e"
      },
      "outputs": [
        {
          "name": "stdout",
          "output_type": "stream",
          "text": [
            "accuracy score of Stacked model: 74.71910112359551\n"
          ]
        }
      ],
      "source": [
        "# Оценю через Stacking Classifier:\n",
        "acc_stack = accuracy_score(y_test, pred_stack)  # evaluating accuracy\n",
        "print('accuracy score of Stacked model:', acc_stack * 100)"
      ]
    },
    {
      "cell_type": "markdown",
      "id": "J7NGiEDstg3q",
      "metadata": {
        "id": "J7NGiEDstg3q"
      },
      "source": [
        "Теперь потренируем датасет на Беггинг (Random Forest)"
      ]
    },
    {
      "cell_type": "code",
      "execution_count": null,
      "id": "QnACja7ItgWQ",
      "metadata": {
        "colab": {
          "base_uri": "https://localhost:8080/",
          "height": 206
        },
        "id": "QnACja7ItgWQ",
        "outputId": "00519f41-2e0e-46f2-fb5f-9a3820633d26"
      },
      "outputs": [
        {
          "data": {
            "application/vnd.google.colaboratory.intrinsic+json": {
              "summary": "{\n  \"name\": \"data\",\n  \"rows\": 889,\n  \"fields\": [\n    {\n      \"column\": \"Survived\",\n      \"properties\": {\n        \"dtype\": \"number\",\n        \"std\": 0,\n        \"min\": 0,\n        \"max\": 1,\n        \"num_unique_values\": 2,\n        \"samples\": [\n          1,\n          0\n        ],\n        \"semantic_type\": \"\",\n        \"description\": \"\"\n      }\n    },\n    {\n      \"column\": \"Age\",\n      \"properties\": {\n        \"dtype\": \"number\",\n        \"std\": 13.177746823022957,\n        \"min\": 0.42,\n        \"max\": 80.0,\n        \"num_unique_values\": 88,\n        \"samples\": [\n          0.75,\n          22.0\n        ],\n        \"semantic_type\": \"\",\n        \"description\": \"\"\n      }\n    },\n    {\n      \"column\": \"SibSp\",\n      \"properties\": {\n        \"dtype\": \"number\",\n        \"std\": 1,\n        \"min\": 0,\n        \"max\": 8,\n        \"num_unique_values\": 7,\n        \"samples\": [\n          1,\n          0\n        ],\n        \"semantic_type\": \"\",\n        \"description\": \"\"\n      }\n    },\n    {\n      \"column\": \"Parch\",\n      \"properties\": {\n        \"dtype\": \"number\",\n        \"std\": 0,\n        \"min\": 0,\n        \"max\": 6,\n        \"num_unique_values\": 7,\n        \"samples\": [\n          0,\n          1\n        ],\n        \"semantic_type\": \"\",\n        \"description\": \"\"\n      }\n    },\n    {\n      \"column\": \"Fare\",\n      \"properties\": {\n        \"dtype\": \"number\",\n        \"std\": 49.697504316707956,\n        \"min\": 0.0,\n        \"max\": 512.3292,\n        \"num_unique_values\": 247,\n        \"samples\": [\n          11.2417,\n          51.8625\n        ],\n        \"semantic_type\": \"\",\n        \"description\": \"\"\n      }\n    },\n    {\n      \"column\": 2,\n      \"properties\": {\n        \"dtype\": \"uint8\",\n        \"num_unique_values\": 2,\n        \"samples\": [\n          1,\n          0\n        ],\n        \"semantic_type\": \"\",\n        \"description\": \"\"\n      }\n    },\n    {\n      \"column\": 3,\n      \"properties\": {\n        \"dtype\": \"uint8\",\n        \"num_unique_values\": 2,\n        \"samples\": [\n          0,\n          1\n        ],\n        \"semantic_type\": \"\",\n        \"description\": \"\"\n      }\n    },\n    {\n      \"column\": \"male\",\n      \"properties\": {\n        \"dtype\": \"uint8\",\n        \"num_unique_values\": 2,\n        \"samples\": [\n          0,\n          1\n        ],\n        \"semantic_type\": \"\",\n        \"description\": \"\"\n      }\n    },\n    {\n      \"column\": \"Q\",\n      \"properties\": {\n        \"dtype\": \"uint8\",\n        \"num_unique_values\": 2,\n        \"samples\": [\n          1,\n          0\n        ],\n        \"semantic_type\": \"\",\n        \"description\": \"\"\n      }\n    },\n    {\n      \"column\": \"S\",\n      \"properties\": {\n        \"dtype\": \"uint8\",\n        \"num_unique_values\": 2,\n        \"samples\": [\n          0,\n          1\n        ],\n        \"semantic_type\": \"\",\n        \"description\": \"\"\n      }\n    }\n  ]\n}",
              "type": "dataframe",
              "variable_name": "data"
            },
            "text/html": [
              "\n",
              "  <div id=\"df-e3a39fd6-7ee5-4572-b71c-7d6c71442e37\" class=\"colab-df-container\">\n",
              "    <div>\n",
              "<style scoped>\n",
              "    .dataframe tbody tr th:only-of-type {\n",
              "        vertical-align: middle;\n",
              "    }\n",
              "\n",
              "    .dataframe tbody tr th {\n",
              "        vertical-align: top;\n",
              "    }\n",
              "\n",
              "    .dataframe thead th {\n",
              "        text-align: right;\n",
              "    }\n",
              "</style>\n",
              "<table border=\"1\" class=\"dataframe\">\n",
              "  <thead>\n",
              "    <tr style=\"text-align: right;\">\n",
              "      <th></th>\n",
              "      <th>Survived</th>\n",
              "      <th>Age</th>\n",
              "      <th>SibSp</th>\n",
              "      <th>Parch</th>\n",
              "      <th>Fare</th>\n",
              "      <th>2</th>\n",
              "      <th>3</th>\n",
              "      <th>male</th>\n",
              "      <th>Q</th>\n",
              "      <th>S</th>\n",
              "    </tr>\n",
              "  </thead>\n",
              "  <tbody>\n",
              "    <tr>\n",
              "      <th>0</th>\n",
              "      <td>0</td>\n",
              "      <td>22.0</td>\n",
              "      <td>1</td>\n",
              "      <td>0</td>\n",
              "      <td>7.2500</td>\n",
              "      <td>0</td>\n",
              "      <td>1</td>\n",
              "      <td>1</td>\n",
              "      <td>0</td>\n",
              "      <td>1</td>\n",
              "    </tr>\n",
              "    <tr>\n",
              "      <th>1</th>\n",
              "      <td>1</td>\n",
              "      <td>38.0</td>\n",
              "      <td>1</td>\n",
              "      <td>0</td>\n",
              "      <td>71.2833</td>\n",
              "      <td>0</td>\n",
              "      <td>0</td>\n",
              "      <td>0</td>\n",
              "      <td>0</td>\n",
              "      <td>0</td>\n",
              "    </tr>\n",
              "    <tr>\n",
              "      <th>2</th>\n",
              "      <td>1</td>\n",
              "      <td>26.0</td>\n",
              "      <td>0</td>\n",
              "      <td>0</td>\n",
              "      <td>7.9250</td>\n",
              "      <td>0</td>\n",
              "      <td>1</td>\n",
              "      <td>0</td>\n",
              "      <td>0</td>\n",
              "      <td>1</td>\n",
              "    </tr>\n",
              "    <tr>\n",
              "      <th>3</th>\n",
              "      <td>1</td>\n",
              "      <td>35.0</td>\n",
              "      <td>1</td>\n",
              "      <td>0</td>\n",
              "      <td>53.1000</td>\n",
              "      <td>0</td>\n",
              "      <td>0</td>\n",
              "      <td>0</td>\n",
              "      <td>0</td>\n",
              "      <td>1</td>\n",
              "    </tr>\n",
              "    <tr>\n",
              "      <th>4</th>\n",
              "      <td>0</td>\n",
              "      <td>35.0</td>\n",
              "      <td>0</td>\n",
              "      <td>0</td>\n",
              "      <td>8.0500</td>\n",
              "      <td>0</td>\n",
              "      <td>1</td>\n",
              "      <td>1</td>\n",
              "      <td>0</td>\n",
              "      <td>1</td>\n",
              "    </tr>\n",
              "  </tbody>\n",
              "</table>\n",
              "</div>\n",
              "    <div class=\"colab-df-buttons\">\n",
              "\n",
              "  <div class=\"colab-df-container\">\n",
              "    <button class=\"colab-df-convert\" onclick=\"convertToInteractive('df-e3a39fd6-7ee5-4572-b71c-7d6c71442e37')\"\n",
              "            title=\"Convert this dataframe to an interactive table.\"\n",
              "            style=\"display:none;\">\n",
              "\n",
              "  <svg xmlns=\"http://www.w3.org/2000/svg\" height=\"24px\" viewBox=\"0 -960 960 960\">\n",
              "    <path d=\"M120-120v-720h720v720H120Zm60-500h600v-160H180v160Zm220 220h160v-160H400v160Zm0 220h160v-160H400v160ZM180-400h160v-160H180v160Zm440 0h160v-160H620v160ZM180-180h160v-160H180v160Zm440 0h160v-160H620v160Z\"/>\n",
              "  </svg>\n",
              "    </button>\n",
              "\n",
              "  <style>\n",
              "    .colab-df-container {\n",
              "      display:flex;\n",
              "      gap: 12px;\n",
              "    }\n",
              "\n",
              "    .colab-df-convert {\n",
              "      background-color: #E8F0FE;\n",
              "      border: none;\n",
              "      border-radius: 50%;\n",
              "      cursor: pointer;\n",
              "      display: none;\n",
              "      fill: #1967D2;\n",
              "      height: 32px;\n",
              "      padding: 0 0 0 0;\n",
              "      width: 32px;\n",
              "    }\n",
              "\n",
              "    .colab-df-convert:hover {\n",
              "      background-color: #E2EBFA;\n",
              "      box-shadow: 0px 1px 2px rgba(60, 64, 67, 0.3), 0px 1px 3px 1px rgba(60, 64, 67, 0.15);\n",
              "      fill: #174EA6;\n",
              "    }\n",
              "\n",
              "    .colab-df-buttons div {\n",
              "      margin-bottom: 4px;\n",
              "    }\n",
              "\n",
              "    [theme=dark] .colab-df-convert {\n",
              "      background-color: #3B4455;\n",
              "      fill: #D2E3FC;\n",
              "    }\n",
              "\n",
              "    [theme=dark] .colab-df-convert:hover {\n",
              "      background-color: #434B5C;\n",
              "      box-shadow: 0px 1px 3px 1px rgba(0, 0, 0, 0.15);\n",
              "      filter: drop-shadow(0px 1px 2px rgba(0, 0, 0, 0.3));\n",
              "      fill: #FFFFFF;\n",
              "    }\n",
              "  </style>\n",
              "\n",
              "    <script>\n",
              "      const buttonEl =\n",
              "        document.querySelector('#df-e3a39fd6-7ee5-4572-b71c-7d6c71442e37 button.colab-df-convert');\n",
              "      buttonEl.style.display =\n",
              "        google.colab.kernel.accessAllowed ? 'block' : 'none';\n",
              "\n",
              "      async function convertToInteractive(key) {\n",
              "        const element = document.querySelector('#df-e3a39fd6-7ee5-4572-b71c-7d6c71442e37');\n",
              "        const dataTable =\n",
              "          await google.colab.kernel.invokeFunction('convertToInteractive',\n",
              "                                                    [key], {});\n",
              "        if (!dataTable) return;\n",
              "\n",
              "        const docLinkHtml = 'Like what you see? Visit the ' +\n",
              "          '<a target=\"_blank\" href=https://colab.research.google.com/notebooks/data_table.ipynb>data table notebook</a>'\n",
              "          + ' to learn more about interactive tables.';\n",
              "        element.innerHTML = '';\n",
              "        dataTable['output_type'] = 'display_data';\n",
              "        await google.colab.output.renderOutput(dataTable, element);\n",
              "        const docLink = document.createElement('div');\n",
              "        docLink.innerHTML = docLinkHtml;\n",
              "        element.appendChild(docLink);\n",
              "      }\n",
              "    </script>\n",
              "  </div>\n",
              "\n",
              "\n",
              "<div id=\"df-574d0666-8e3b-4990-9308-d217cbe3f7b7\">\n",
              "  <button class=\"colab-df-quickchart\" onclick=\"quickchart('df-574d0666-8e3b-4990-9308-d217cbe3f7b7')\"\n",
              "            title=\"Suggest charts\"\n",
              "            style=\"display:none;\">\n",
              "\n",
              "<svg xmlns=\"http://www.w3.org/2000/svg\" height=\"24px\"viewBox=\"0 0 24 24\"\n",
              "     width=\"24px\">\n",
              "    <g>\n",
              "        <path d=\"M19 3H5c-1.1 0-2 .9-2 2v14c0 1.1.9 2 2 2h14c1.1 0 2-.9 2-2V5c0-1.1-.9-2-2-2zM9 17H7v-7h2v7zm4 0h-2V7h2v10zm4 0h-2v-4h2v4z\"/>\n",
              "    </g>\n",
              "</svg>\n",
              "  </button>\n",
              "\n",
              "<style>\n",
              "  .colab-df-quickchart {\n",
              "      --bg-color: #E8F0FE;\n",
              "      --fill-color: #1967D2;\n",
              "      --hover-bg-color: #E2EBFA;\n",
              "      --hover-fill-color: #174EA6;\n",
              "      --disabled-fill-color: #AAA;\n",
              "      --disabled-bg-color: #DDD;\n",
              "  }\n",
              "\n",
              "  [theme=dark] .colab-df-quickchart {\n",
              "      --bg-color: #3B4455;\n",
              "      --fill-color: #D2E3FC;\n",
              "      --hover-bg-color: #434B5C;\n",
              "      --hover-fill-color: #FFFFFF;\n",
              "      --disabled-bg-color: #3B4455;\n",
              "      --disabled-fill-color: #666;\n",
              "  }\n",
              "\n",
              "  .colab-df-quickchart {\n",
              "    background-color: var(--bg-color);\n",
              "    border: none;\n",
              "    border-radius: 50%;\n",
              "    cursor: pointer;\n",
              "    display: none;\n",
              "    fill: var(--fill-color);\n",
              "    height: 32px;\n",
              "    padding: 0;\n",
              "    width: 32px;\n",
              "  }\n",
              "\n",
              "  .colab-df-quickchart:hover {\n",
              "    background-color: var(--hover-bg-color);\n",
              "    box-shadow: 0 1px 2px rgba(60, 64, 67, 0.3), 0 1px 3px 1px rgba(60, 64, 67, 0.15);\n",
              "    fill: var(--button-hover-fill-color);\n",
              "  }\n",
              "\n",
              "  .colab-df-quickchart-complete:disabled,\n",
              "  .colab-df-quickchart-complete:disabled:hover {\n",
              "    background-color: var(--disabled-bg-color);\n",
              "    fill: var(--disabled-fill-color);\n",
              "    box-shadow: none;\n",
              "  }\n",
              "\n",
              "  .colab-df-spinner {\n",
              "    border: 2px solid var(--fill-color);\n",
              "    border-color: transparent;\n",
              "    border-bottom-color: var(--fill-color);\n",
              "    animation:\n",
              "      spin 1s steps(1) infinite;\n",
              "  }\n",
              "\n",
              "  @keyframes spin {\n",
              "    0% {\n",
              "      border-color: transparent;\n",
              "      border-bottom-color: var(--fill-color);\n",
              "      border-left-color: var(--fill-color);\n",
              "    }\n",
              "    20% {\n",
              "      border-color: transparent;\n",
              "      border-left-color: var(--fill-color);\n",
              "      border-top-color: var(--fill-color);\n",
              "    }\n",
              "    30% {\n",
              "      border-color: transparent;\n",
              "      border-left-color: var(--fill-color);\n",
              "      border-top-color: var(--fill-color);\n",
              "      border-right-color: var(--fill-color);\n",
              "    }\n",
              "    40% {\n",
              "      border-color: transparent;\n",
              "      border-right-color: var(--fill-color);\n",
              "      border-top-color: var(--fill-color);\n",
              "    }\n",
              "    60% {\n",
              "      border-color: transparent;\n",
              "      border-right-color: var(--fill-color);\n",
              "    }\n",
              "    80% {\n",
              "      border-color: transparent;\n",
              "      border-right-color: var(--fill-color);\n",
              "      border-bottom-color: var(--fill-color);\n",
              "    }\n",
              "    90% {\n",
              "      border-color: transparent;\n",
              "      border-bottom-color: var(--fill-color);\n",
              "    }\n",
              "  }\n",
              "</style>\n",
              "\n",
              "  <script>\n",
              "    async function quickchart(key) {\n",
              "      const quickchartButtonEl =\n",
              "        document.querySelector('#' + key + ' button');\n",
              "      quickchartButtonEl.disabled = true;  // To prevent multiple clicks.\n",
              "      quickchartButtonEl.classList.add('colab-df-spinner');\n",
              "      try {\n",
              "        const charts = await google.colab.kernel.invokeFunction(\n",
              "            'suggestCharts', [key], {});\n",
              "      } catch (error) {\n",
              "        console.error('Error during call to suggestCharts:', error);\n",
              "      }\n",
              "      quickchartButtonEl.classList.remove('colab-df-spinner');\n",
              "      quickchartButtonEl.classList.add('colab-df-quickchart-complete');\n",
              "    }\n",
              "    (() => {\n",
              "      let quickchartButtonEl =\n",
              "        document.querySelector('#df-574d0666-8e3b-4990-9308-d217cbe3f7b7 button');\n",
              "      quickchartButtonEl.style.display =\n",
              "        google.colab.kernel.accessAllowed ? 'block' : 'none';\n",
              "    })();\n",
              "  </script>\n",
              "</div>\n",
              "    </div>\n",
              "  </div>\n"
            ],
            "text/plain": [
              "   Survived   Age  SibSp  Parch     Fare  2  3  male  Q  S\n",
              "0         0  22.0      1      0   7.2500  0  1     1  0  1\n",
              "1         1  38.0      1      0  71.2833  0  0     0  0  0\n",
              "2         1  26.0      0      0   7.9250  0  1     0  0  1\n",
              "3         1  35.0      1      0  53.1000  0  0     0  0  1\n",
              "4         0  35.0      0      0   8.0500  0  1     1  0  1"
            ]
          },
          "execution_count": 181,
          "metadata": {},
          "output_type": "execute_result"
        }
      ],
      "source": [
        "data.head().copy()"
      ]
    },
    {
      "cell_type": "code",
      "execution_count": null,
      "id": "9txmvVcrvPY7",
      "metadata": {
        "id": "9txmvVcrvPY7"
      },
      "outputs": [],
      "source": [
        "X = data.drop(\"Survived\",axis=1)\n",
        "y = data[\"Survived\"]\n",
        "X_train, X_test, y_train, y_test = train_test_split(X, y, test_size = 0.2, random_state = 100, shuffle = True)"
      ]
    },
    {
      "cell_type": "code",
      "execution_count": null,
      "id": "8om1Kf3RwAeK",
      "metadata": {
        "id": "8om1Kf3RwAeK"
      },
      "outputs": [],
      "source": [
        "# Приведу все названия признаков к строковому типу.\n",
        "X_train.columns = X_train.columns.astype(str)\n",
        "X_test.columns = X_test.columns.astype(str)"
      ]
    },
    {
      "cell_type": "code",
      "execution_count": null,
      "id": "hXTL7SzdvbIB",
      "metadata": {
        "colab": {
          "base_uri": "https://localhost:8080/"
        },
        "id": "hXTL7SzdvbIB",
        "outputId": "ca06dfdf-27cf-4b04-cfbb-a7abf661bf83"
      },
      "outputs": [
        {
          "name": "stdout",
          "output_type": "stream",
          "text": [
            "MSE train: 0.008191011988480344\n",
            "MSE test: 0.21795001146526025\n"
          ]
        }
      ],
      "source": [
        "from sklearn.tree import DecisionTreeRegressor\n",
        "from sklearn.metrics import mean_squared_error\n",
        "dt = DecisionTreeRegressor()\n",
        "dt.fit(X_train, y_train)\n",
        "y_pred_train = dt.predict(X_train)\n",
        "y_pred_test = dt.predict(X_test)\n",
        "print('MSE train:', mean_squared_error(y_train, y_pred_train))\n",
        "print('MSE test:', mean_squared_error(y_test, y_pred_test))"
      ]
    },
    {
      "cell_type": "code",
      "execution_count": null,
      "id": "xTy4lJd2wTZH",
      "metadata": {
        "id": "xTy4lJd2wTZH"
      },
      "outputs": [],
      "source": [
        "import numpy as np\n",
        "X_train_np = X_train.values\n",
        "X_test_np = X_test.values\n",
        "y_train_np = y_train.values\n",
        "y_test_np = y_test.values\n",
        "_, bias, variance = bias_variance_decomp(dt, X_train_np, y_train_np, X_test_np, y_test_np, loss='mse')\n"
      ]
    },
    {
      "cell_type": "code",
      "execution_count": null,
      "id": "EyH_ee7TxIG-",
      "metadata": {
        "colab": {
          "base_uri": "https://localhost:8080/"
        },
        "id": "EyH_ee7TxIG-",
        "outputId": "eff6c52b-0e71-4618-a590-0b5ce52a9ffe"
      },
      "outputs": [
        {
          "data": {
            "text/plain": [
              "0.13213677257730158"
            ]
          },
          "execution_count": 193,
          "metadata": {},
          "output_type": "execute_result"
        }
      ],
      "source": [
        "bias"
      ]
    },
    {
      "cell_type": "code",
      "execution_count": null,
      "id": "4wj17cyBxK5y",
      "metadata": {
        "colab": {
          "base_uri": "https://localhost:8080/"
        },
        "id": "4wj17cyBxK5y",
        "outputId": "397fa437-cbfc-4a2c-f5b8-60b9fabef5d5"
      },
      "outputs": [
        {
          "data": {
            "text/plain": [
              "0.08451347911097422"
            ]
          },
          "execution_count": 194,
          "metadata": {},
          "output_type": "execute_result"
        }
      ],
      "source": [
        "variance"
      ]
    },
    {
      "cell_type": "code",
      "execution_count": null,
      "id": "IgoGEnR1xX5X",
      "metadata": {
        "colab": {
          "base_uri": "https://localhost:8080/",
          "height": 116
        },
        "id": "IgoGEnR1xX5X",
        "outputId": "02163287-bd06-466d-cdaa-5a4c916a67fb"
      },
      "outputs": [
        {
          "data": {
            "text/html": [
              "<style>#sk-container-id-2 {color: black;background-color: white;}#sk-container-id-2 pre{padding: 0;}#sk-container-id-2 div.sk-toggleable {background-color: white;}#sk-container-id-2 label.sk-toggleable__label {cursor: pointer;display: block;width: 100%;margin-bottom: 0;padding: 0.3em;box-sizing: border-box;text-align: center;}#sk-container-id-2 label.sk-toggleable__label-arrow:before {content: \"▸\";float: left;margin-right: 0.25em;color: #696969;}#sk-container-id-2 label.sk-toggleable__label-arrow:hover:before {color: black;}#sk-container-id-2 div.sk-estimator:hover label.sk-toggleable__label-arrow:before {color: black;}#sk-container-id-2 div.sk-toggleable__content {max-height: 0;max-width: 0;overflow: hidden;text-align: left;background-color: #f0f8ff;}#sk-container-id-2 div.sk-toggleable__content pre {margin: 0.2em;color: black;border-radius: 0.25em;background-color: #f0f8ff;}#sk-container-id-2 input.sk-toggleable__control:checked~div.sk-toggleable__content {max-height: 200px;max-width: 100%;overflow: auto;}#sk-container-id-2 input.sk-toggleable__control:checked~label.sk-toggleable__label-arrow:before {content: \"▾\";}#sk-container-id-2 div.sk-estimator input.sk-toggleable__control:checked~label.sk-toggleable__label {background-color: #d4ebff;}#sk-container-id-2 div.sk-label input.sk-toggleable__control:checked~label.sk-toggleable__label {background-color: #d4ebff;}#sk-container-id-2 input.sk-hidden--visually {border: 0;clip: rect(1px 1px 1px 1px);clip: rect(1px, 1px, 1px, 1px);height: 1px;margin: -1px;overflow: hidden;padding: 0;position: absolute;width: 1px;}#sk-container-id-2 div.sk-estimator {font-family: monospace;background-color: #f0f8ff;border: 1px dotted black;border-radius: 0.25em;box-sizing: border-box;margin-bottom: 0.5em;}#sk-container-id-2 div.sk-estimator:hover {background-color: #d4ebff;}#sk-container-id-2 div.sk-parallel-item::after {content: \"\";width: 100%;border-bottom: 1px solid gray;flex-grow: 1;}#sk-container-id-2 div.sk-label:hover label.sk-toggleable__label {background-color: #d4ebff;}#sk-container-id-2 div.sk-serial::before {content: \"\";position: absolute;border-left: 1px solid gray;box-sizing: border-box;top: 0;bottom: 0;left: 50%;z-index: 0;}#sk-container-id-2 div.sk-serial {display: flex;flex-direction: column;align-items: center;background-color: white;padding-right: 0.2em;padding-left: 0.2em;position: relative;}#sk-container-id-2 div.sk-item {position: relative;z-index: 1;}#sk-container-id-2 div.sk-parallel {display: flex;align-items: stretch;justify-content: center;background-color: white;position: relative;}#sk-container-id-2 div.sk-item::before, #sk-container-id-2 div.sk-parallel-item::before {content: \"\";position: absolute;border-left: 1px solid gray;box-sizing: border-box;top: 0;bottom: 0;left: 50%;z-index: -1;}#sk-container-id-2 div.sk-parallel-item {display: flex;flex-direction: column;z-index: 1;position: relative;background-color: white;}#sk-container-id-2 div.sk-parallel-item:first-child::after {align-self: flex-end;width: 50%;}#sk-container-id-2 div.sk-parallel-item:last-child::after {align-self: flex-start;width: 50%;}#sk-container-id-2 div.sk-parallel-item:only-child::after {width: 0;}#sk-container-id-2 div.sk-dashed-wrapped {border: 1px dashed gray;margin: 0 0.4em 0.5em 0.4em;box-sizing: border-box;padding-bottom: 0.4em;background-color: white;}#sk-container-id-2 div.sk-label label {font-family: monospace;font-weight: bold;display: inline-block;line-height: 1.2em;}#sk-container-id-2 div.sk-label-container {text-align: center;}#sk-container-id-2 div.sk-container {/* jupyter's `normalize.less` sets `[hidden] { display: none; }` but bootstrap.min.css set `[hidden] { display: none !important; }` so we also need the `!important` here to be able to override the default hidden behavior on the sphinx rendered scikit-learn.org. See: https://github.com/scikit-learn/scikit-learn/issues/21755 */display: inline-block !important;position: relative;}#sk-container-id-2 div.sk-text-repr-fallback {display: none;}</style><div id=\"sk-container-id-2\" class=\"sk-top-container\"><div class=\"sk-text-repr-fallback\"><pre>BaggingRegressor(estimator=DecisionTreeRegressor(random_state=42),\n",
              "                 n_estimators=20)</pre><b>In a Jupyter environment, please rerun this cell to show the HTML representation or trust the notebook. <br />On GitHub, the HTML representation is unable to render, please try loading this page with nbviewer.org.</b></div><div class=\"sk-container\" hidden><div class=\"sk-item sk-dashed-wrapped\"><div class=\"sk-label-container\"><div class=\"sk-label sk-toggleable\"><input class=\"sk-toggleable__control sk-hidden--visually\" id=\"sk-estimator-id-2\" type=\"checkbox\" ><label for=\"sk-estimator-id-2\" class=\"sk-toggleable__label sk-toggleable__label-arrow\">BaggingRegressor</label><div class=\"sk-toggleable__content\"><pre>BaggingRegressor(estimator=DecisionTreeRegressor(random_state=42),\n",
              "                 n_estimators=20)</pre></div></div></div><div class=\"sk-parallel\"><div class=\"sk-parallel-item\"><div class=\"sk-item\"><div class=\"sk-label-container\"><div class=\"sk-label sk-toggleable\"><input class=\"sk-toggleable__control sk-hidden--visually\" id=\"sk-estimator-id-3\" type=\"checkbox\" ><label for=\"sk-estimator-id-3\" class=\"sk-toggleable__label sk-toggleable__label-arrow\">estimator: DecisionTreeRegressor</label><div class=\"sk-toggleable__content\"><pre>DecisionTreeRegressor(random_state=42)</pre></div></div></div><div class=\"sk-serial\"><div class=\"sk-item\"><div class=\"sk-estimator sk-toggleable\"><input class=\"sk-toggleable__control sk-hidden--visually\" id=\"sk-estimator-id-4\" type=\"checkbox\" ><label for=\"sk-estimator-id-4\" class=\"sk-toggleable__label sk-toggleable__label-arrow\">DecisionTreeRegressor</label><div class=\"sk-toggleable__content\"><pre>DecisionTreeRegressor(random_state=42)</pre></div></div></div></div></div></div></div></div></div></div>"
            ],
            "text/plain": [
              "BaggingRegressor(estimator=DecisionTreeRegressor(random_state=42),\n",
              "                 n_estimators=20)"
            ]
          },
          "execution_count": 196,
          "metadata": {},
          "output_type": "execute_result"
        }
      ],
      "source": [
        "from sklearn.ensemble import BaggingRegressor, RandomForestRegressor\n",
        "base_tree = DecisionTreeRegressor(random_state=42)\n",
        "bagging = BaggingRegressor(base_tree, n_estimators=20)\n",
        "bagging.fit(X_train, y_train)"
      ]
    },
    {
      "cell_type": "code",
      "execution_count": null,
      "id": "D0TpyHNCxjUR",
      "metadata": {
        "id": "D0TpyHNCxjUR"
      },
      "outputs": [],
      "source": [
        "import numpy as np\n",
        "X_train_np = X_train.values\n",
        "X_test_np = X_test.values\n",
        "y_train_np = y_train.values\n",
        "y_test_np = y_test.values\n",
        "_, bias, variance = bias_variance_decomp(dt, X_train_np, y_train_np, X_test_np, y_test_np, loss='mse')"
      ]
    },
    {
      "cell_type": "code",
      "execution_count": null,
      "id": "l54HtY6HxfMw",
      "metadata": {
        "colab": {
          "base_uri": "https://localhost:8080/"
        },
        "id": "l54HtY6HxfMw",
        "outputId": "3cdeadf7-e79d-411f-9753-631e0793e735"
      },
      "outputs": [
        {
          "data": {
            "text/plain": [
              "(0.13165770290074938, 0.08422397598561977)"
            ]
          },
          "execution_count": 198,
          "metadata": {},
          "output_type": "execute_result"
        }
      ],
      "source": [
        "bias, variance"
      ]
    },
    {
      "cell_type": "code",
      "execution_count": null,
      "id": "jIzNALVGxqDf",
      "metadata": {
        "colab": {
          "base_uri": "https://localhost:8080/"
        },
        "id": "jIzNALVGxqDf",
        "outputId": "ca3763be-e590-459b-ead2-8b8f19225d58"
      },
      "outputs": [
        {
          "name": "stdout",
          "output_type": "stream",
          "text": [
            "0.028580284393638432 0.13754693214052163\n"
          ]
        }
      ],
      "source": [
        "# На среднеквадратичной ошибке это отразилось следующим образом\n",
        "ypred_test = bagging.predict(X_test)\n",
        "ypred_train = bagging.predict(X_train)\n",
        "print(mean_squared_error(y_train, ypred_train), mean_squared_error(y_test, ypred_test))"
      ]
    },
    {
      "cell_type": "markdown",
      "id": "9suzzqmKA31v",
      "metadata": {
        "id": "9suzzqmKA31v"
      },
      "source": [
        "Потренируемся на бустинге (Catboost)"
      ]
    },
    {
      "cell_type": "code",
      "execution_count": 48,
      "id": "IrpvyghMBheQ",
      "metadata": {
        "id": "IrpvyghMBheQ"
      },
      "outputs": [],
      "source": [
        "X = data.drop(\"Survived\",axis=1)\n",
        "y = data[\"Survived\"]"
      ]
    },
    {
      "cell_type": "code",
      "execution_count": 49,
      "id": "eF5YRfyTCL4Q",
      "metadata": {
        "colab": {
          "base_uri": "https://localhost:8080/",
          "height": 478
        },
        "id": "eF5YRfyTCL4Q",
        "outputId": "594246f8-5bcb-432b-c6c2-6c9b9378149c"
      },
      "outputs": [
        {
          "ename": "KeyError",
          "evalue": "'Sex'",
          "output_type": "error",
          "traceback": [
            "\u001b[0;31m---------------------------------------------------------------------------\u001b[0m",
            "\u001b[0;31mKeyError\u001b[0m                                  Traceback (most recent call last)",
            "\u001b[0;32m/usr/local/lib/python3.10/dist-packages/pandas/core/indexes/base.py\u001b[0m in \u001b[0;36mget_loc\u001b[0;34m(self, key, method, tolerance)\u001b[0m\n\u001b[1;32m   3801\u001b[0m             \u001b[0;32mtry\u001b[0m\u001b[0;34m:\u001b[0m\u001b[0;34m\u001b[0m\u001b[0;34m\u001b[0m\u001b[0m\n\u001b[0;32m-> 3802\u001b[0;31m                 \u001b[0;32mreturn\u001b[0m \u001b[0mself\u001b[0m\u001b[0;34m.\u001b[0m\u001b[0m_engine\u001b[0m\u001b[0;34m.\u001b[0m\u001b[0mget_loc\u001b[0m\u001b[0;34m(\u001b[0m\u001b[0mcasted_key\u001b[0m\u001b[0;34m)\u001b[0m\u001b[0;34m\u001b[0m\u001b[0;34m\u001b[0m\u001b[0m\n\u001b[0m\u001b[1;32m   3803\u001b[0m             \u001b[0;32mexcept\u001b[0m \u001b[0mKeyError\u001b[0m \u001b[0;32mas\u001b[0m \u001b[0merr\u001b[0m\u001b[0;34m:\u001b[0m\u001b[0;34m\u001b[0m\u001b[0;34m\u001b[0m\u001b[0m\n",
            "\u001b[0;32m/usr/local/lib/python3.10/dist-packages/pandas/_libs/index.pyx\u001b[0m in \u001b[0;36mpandas._libs.index.IndexEngine.get_loc\u001b[0;34m()\u001b[0m\n",
            "\u001b[0;32m/usr/local/lib/python3.10/dist-packages/pandas/_libs/index.pyx\u001b[0m in \u001b[0;36mpandas._libs.index.IndexEngine.get_loc\u001b[0;34m()\u001b[0m\n",
            "\u001b[0;32mpandas/_libs/hashtable_class_helper.pxi\u001b[0m in \u001b[0;36mpandas._libs.hashtable.PyObjectHashTable.get_item\u001b[0;34m()\u001b[0m\n",
            "\u001b[0;32mpandas/_libs/hashtable_class_helper.pxi\u001b[0m in \u001b[0;36mpandas._libs.hashtable.PyObjectHashTable.get_item\u001b[0;34m()\u001b[0m\n",
            "\u001b[0;31mKeyError\u001b[0m: 'Sex'",
            "\nThe above exception was the direct cause of the following exception:\n",
            "\u001b[0;31mKeyError\u001b[0m                                  Traceback (most recent call last)",
            "\u001b[0;32m<ipython-input-49-db5c2d682147>\u001b[0m in \u001b[0;36m<cell line: 2>\u001b[0;34m()\u001b[0m\n\u001b[1;32m      1\u001b[0m \u001b[0;31m# Чтобы из категориальных признаков сделать числовые воспользуюсь get_dummies из библиотеки pandas\u001b[0m\u001b[0;34m\u001b[0m\u001b[0;34m\u001b[0m\u001b[0m\n\u001b[0;32m----> 2\u001b[0;31m \u001b[0mpd\u001b[0m\u001b[0;34m.\u001b[0m\u001b[0mget_dummies\u001b[0m\u001b[0;34m(\u001b[0m\u001b[0mdata\u001b[0m\u001b[0;34m[\u001b[0m\u001b[0;34m\"Sex\"\u001b[0m\u001b[0;34m]\u001b[0m\u001b[0;34m)\u001b[0m\u001b[0;34m\u001b[0m\u001b[0;34m\u001b[0m\u001b[0m\n\u001b[0m\u001b[1;32m      3\u001b[0m \u001b[0msex\u001b[0m \u001b[0;34m=\u001b[0m \u001b[0mpd\u001b[0m\u001b[0;34m.\u001b[0m\u001b[0mget_dummies\u001b[0m\u001b[0;34m(\u001b[0m\u001b[0mdata\u001b[0m\u001b[0;34m[\u001b[0m\u001b[0;34m\"Sex\"\u001b[0m\u001b[0;34m]\u001b[0m\u001b[0;34m,\u001b[0m\u001b[0mdrop_first\u001b[0m\u001b[0;34m=\u001b[0m\u001b[0;32mTrue\u001b[0m\u001b[0;34m)\u001b[0m \u001b[0;31m#  мужчина = 1, женщина = 0\u001b[0m\u001b[0;34m\u001b[0m\u001b[0;34m\u001b[0m\u001b[0m\n\u001b[1;32m      4\u001b[0m \u001b[0;31m# аргумент drop_first, когда установлен в True, удалять первый столбец, чтобы избежать мультиколлинеарности.\u001b[0m\u001b[0;34m\u001b[0m\u001b[0;34m\u001b[0m\u001b[0m\n\u001b[1;32m      5\u001b[0m \u001b[0;31m# также поступим с mbarked and PClass\u001b[0m\u001b[0;34m\u001b[0m\u001b[0;34m\u001b[0m\u001b[0m\n",
            "\u001b[0;32m/usr/local/lib/python3.10/dist-packages/pandas/core/frame.py\u001b[0m in \u001b[0;36m__getitem__\u001b[0;34m(self, key)\u001b[0m\n\u001b[1;32m   3805\u001b[0m             \u001b[0;32mif\u001b[0m \u001b[0mself\u001b[0m\u001b[0;34m.\u001b[0m\u001b[0mcolumns\u001b[0m\u001b[0;34m.\u001b[0m\u001b[0mnlevels\u001b[0m \u001b[0;34m>\u001b[0m \u001b[0;36m1\u001b[0m\u001b[0;34m:\u001b[0m\u001b[0;34m\u001b[0m\u001b[0;34m\u001b[0m\u001b[0m\n\u001b[1;32m   3806\u001b[0m                 \u001b[0;32mreturn\u001b[0m \u001b[0mself\u001b[0m\u001b[0;34m.\u001b[0m\u001b[0m_getitem_multilevel\u001b[0m\u001b[0;34m(\u001b[0m\u001b[0mkey\u001b[0m\u001b[0;34m)\u001b[0m\u001b[0;34m\u001b[0m\u001b[0;34m\u001b[0m\u001b[0m\n\u001b[0;32m-> 3807\u001b[0;31m             \u001b[0mindexer\u001b[0m \u001b[0;34m=\u001b[0m \u001b[0mself\u001b[0m\u001b[0;34m.\u001b[0m\u001b[0mcolumns\u001b[0m\u001b[0;34m.\u001b[0m\u001b[0mget_loc\u001b[0m\u001b[0;34m(\u001b[0m\u001b[0mkey\u001b[0m\u001b[0;34m)\u001b[0m\u001b[0;34m\u001b[0m\u001b[0;34m\u001b[0m\u001b[0m\n\u001b[0m\u001b[1;32m   3808\u001b[0m             \u001b[0;32mif\u001b[0m \u001b[0mis_integer\u001b[0m\u001b[0;34m(\u001b[0m\u001b[0mindexer\u001b[0m\u001b[0;34m)\u001b[0m\u001b[0;34m:\u001b[0m\u001b[0;34m\u001b[0m\u001b[0;34m\u001b[0m\u001b[0m\n\u001b[1;32m   3809\u001b[0m                 \u001b[0mindexer\u001b[0m \u001b[0;34m=\u001b[0m \u001b[0;34m[\u001b[0m\u001b[0mindexer\u001b[0m\u001b[0;34m]\u001b[0m\u001b[0;34m\u001b[0m\u001b[0;34m\u001b[0m\u001b[0m\n",
            "\u001b[0;32m/usr/local/lib/python3.10/dist-packages/pandas/core/indexes/base.py\u001b[0m in \u001b[0;36mget_loc\u001b[0;34m(self, key, method, tolerance)\u001b[0m\n\u001b[1;32m   3802\u001b[0m                 \u001b[0;32mreturn\u001b[0m \u001b[0mself\u001b[0m\u001b[0;34m.\u001b[0m\u001b[0m_engine\u001b[0m\u001b[0;34m.\u001b[0m\u001b[0mget_loc\u001b[0m\u001b[0;34m(\u001b[0m\u001b[0mcasted_key\u001b[0m\u001b[0;34m)\u001b[0m\u001b[0;34m\u001b[0m\u001b[0;34m\u001b[0m\u001b[0m\n\u001b[1;32m   3803\u001b[0m             \u001b[0;32mexcept\u001b[0m \u001b[0mKeyError\u001b[0m \u001b[0;32mas\u001b[0m \u001b[0merr\u001b[0m\u001b[0;34m:\u001b[0m\u001b[0;34m\u001b[0m\u001b[0;34m\u001b[0m\u001b[0m\n\u001b[0;32m-> 3804\u001b[0;31m                 \u001b[0;32mraise\u001b[0m \u001b[0mKeyError\u001b[0m\u001b[0;34m(\u001b[0m\u001b[0mkey\u001b[0m\u001b[0;34m)\u001b[0m \u001b[0;32mfrom\u001b[0m \u001b[0merr\u001b[0m\u001b[0;34m\u001b[0m\u001b[0;34m\u001b[0m\u001b[0m\n\u001b[0m\u001b[1;32m   3805\u001b[0m             \u001b[0;32mexcept\u001b[0m \u001b[0mTypeError\u001b[0m\u001b[0;34m:\u001b[0m\u001b[0;34m\u001b[0m\u001b[0;34m\u001b[0m\u001b[0m\n\u001b[1;32m   3806\u001b[0m                 \u001b[0;31m# If we have a listlike key, _check_indexing_error will raise\u001b[0m\u001b[0;34m\u001b[0m\u001b[0;34m\u001b[0m\u001b[0m\n",
            "\u001b[0;31mKeyError\u001b[0m: 'Sex'"
          ]
        }
      ],
      "source": [
        "# Чтобы из категориальных признаков сделать числовые воспользуюсь get_dummies из библиотеки pandas\n",
        "pd.get_dummies(data[\"Sex\"])\n",
        "sex = pd.get_dummies(data[\"Sex\"],drop_first=True) #  мужчина = 1, женщина = 0\n",
        "# аргумент drop_first, когда установлен в True, удалять первый столбец, чтобы избежать мультиколлинеарности.\n",
        "# также поступим с mbarked and PClass\n",
        "embarked = pd.get_dummies(data[\"Embarked\"],drop_first=True)\n",
        "pclass = pd.get_dummies(data[\"Pclass\"],drop_first=True)\n",
        "# тут ошибка, т.к я уже выполнила это, случайно запустила еще раз"
      ]
    },
    {
      "cell_type": "code",
      "execution_count": 50,
      "id": "hIj-w-EcCPGI",
      "metadata": {
        "id": "hIj-w-EcCPGI"
      },
      "outputs": [],
      "source": [
        "# pd.concat() - позволяет объединить объекты pandas\n",
        "data = pd.concat([data, pclass, sex, embarked],axis=1)"
      ]
    },
    {
      "cell_type": "code",
      "execution_count": 51,
      "id": "FnjZ_xyLCQ20",
      "metadata": {
        "colab": {
          "base_uri": "https://localhost:8080/",
          "height": 206
        },
        "id": "FnjZ_xyLCQ20",
        "outputId": "2127b128-4382-401b-b9f3-bd3a086705eb"
      },
      "outputs": [
        {
          "data": {
            "application/vnd.google.colaboratory.intrinsic+json": {
              "summary": "{\n  \"name\": \"data\",\n  \"rows\": 889,\n  \"fields\": [\n    {\n      \"column\": \"Survived\",\n      \"properties\": {\n        \"dtype\": \"number\",\n        \"std\": 0,\n        \"min\": 0,\n        \"max\": 1,\n        \"num_unique_values\": 2,\n        \"samples\": [\n          1,\n          0\n        ],\n        \"semantic_type\": \"\",\n        \"description\": \"\"\n      }\n    },\n    {\n      \"column\": \"Age\",\n      \"properties\": {\n        \"dtype\": \"number\",\n        \"std\": 13.177746823022957,\n        \"min\": 0.42,\n        \"max\": 80.0,\n        \"num_unique_values\": 88,\n        \"samples\": [\n          0.75,\n          22.0\n        ],\n        \"semantic_type\": \"\",\n        \"description\": \"\"\n      }\n    },\n    {\n      \"column\": \"SibSp\",\n      \"properties\": {\n        \"dtype\": \"number\",\n        \"std\": 1,\n        \"min\": 0,\n        \"max\": 8,\n        \"num_unique_values\": 7,\n        \"samples\": [\n          1,\n          0\n        ],\n        \"semantic_type\": \"\",\n        \"description\": \"\"\n      }\n    },\n    {\n      \"column\": \"Parch\",\n      \"properties\": {\n        \"dtype\": \"number\",\n        \"std\": 0,\n        \"min\": 0,\n        \"max\": 6,\n        \"num_unique_values\": 7,\n        \"samples\": [\n          0,\n          1\n        ],\n        \"semantic_type\": \"\",\n        \"description\": \"\"\n      }\n    },\n    {\n      \"column\": \"Fare\",\n      \"properties\": {\n        \"dtype\": \"number\",\n        \"std\": 49.697504316707956,\n        \"min\": 0.0,\n        \"max\": 512.3292,\n        \"num_unique_values\": 247,\n        \"samples\": [\n          11.2417,\n          51.8625\n        ],\n        \"semantic_type\": \"\",\n        \"description\": \"\"\n      }\n    },\n    {\n      \"column\": 2,\n      \"properties\": {\n        \"dtype\": \"uint8\",\n        \"num_unique_values\": 2,\n        \"samples\": [\n          1,\n          0\n        ],\n        \"semantic_type\": \"\",\n        \"description\": \"\"\n      }\n    },\n    {\n      \"column\": 3,\n      \"properties\": {\n        \"dtype\": \"uint8\",\n        \"num_unique_values\": 2,\n        \"samples\": [\n          0,\n          1\n        ],\n        \"semantic_type\": \"\",\n        \"description\": \"\"\n      }\n    },\n    {\n      \"column\": \"male\",\n      \"properties\": {\n        \"dtype\": \"uint8\",\n        \"num_unique_values\": 2,\n        \"samples\": [\n          0,\n          1\n        ],\n        \"semantic_type\": \"\",\n        \"description\": \"\"\n      }\n    },\n    {\n      \"column\": \"Q\",\n      \"properties\": {\n        \"dtype\": \"uint8\",\n        \"num_unique_values\": 2,\n        \"samples\": [\n          1,\n          0\n        ],\n        \"semantic_type\": \"\",\n        \"description\": \"\"\n      }\n    },\n    {\n      \"column\": \"S\",\n      \"properties\": {\n        \"dtype\": \"uint8\",\n        \"num_unique_values\": 2,\n        \"samples\": [\n          0,\n          1\n        ],\n        \"semantic_type\": \"\",\n        \"description\": \"\"\n      }\n    },\n    {\n      \"column\": 2,\n      \"properties\": {\n        \"dtype\": \"uint8\",\n        \"num_unique_values\": 2,\n        \"samples\": [\n          1,\n          0\n        ],\n        \"semantic_type\": \"\",\n        \"description\": \"\"\n      }\n    },\n    {\n      \"column\": 3,\n      \"properties\": {\n        \"dtype\": \"uint8\",\n        \"num_unique_values\": 2,\n        \"samples\": [\n          0,\n          1\n        ],\n        \"semantic_type\": \"\",\n        \"description\": \"\"\n      }\n    },\n    {\n      \"column\": \"male\",\n      \"properties\": {\n        \"dtype\": \"uint8\",\n        \"num_unique_values\": 2,\n        \"samples\": [\n          0,\n          1\n        ],\n        \"semantic_type\": \"\",\n        \"description\": \"\"\n      }\n    },\n    {\n      \"column\": \"Q\",\n      \"properties\": {\n        \"dtype\": \"uint8\",\n        \"num_unique_values\": 2,\n        \"samples\": [\n          1,\n          0\n        ],\n        \"semantic_type\": \"\",\n        \"description\": \"\"\n      }\n    },\n    {\n      \"column\": \"S\",\n      \"properties\": {\n        \"dtype\": \"uint8\",\n        \"num_unique_values\": 2,\n        \"samples\": [\n          0,\n          1\n        ],\n        \"semantic_type\": \"\",\n        \"description\": \"\"\n      }\n    }\n  ]\n}",
              "type": "dataframe",
              "variable_name": "data"
            },
            "text/html": [
              "\n",
              "  <div id=\"df-6672e1f3-386b-46a3-92b3-bcec678f7070\" class=\"colab-df-container\">\n",
              "    <div>\n",
              "<style scoped>\n",
              "    .dataframe tbody tr th:only-of-type {\n",
              "        vertical-align: middle;\n",
              "    }\n",
              "\n",
              "    .dataframe tbody tr th {\n",
              "        vertical-align: top;\n",
              "    }\n",
              "\n",
              "    .dataframe thead th {\n",
              "        text-align: right;\n",
              "    }\n",
              "</style>\n",
              "<table border=\"1\" class=\"dataframe\">\n",
              "  <thead>\n",
              "    <tr style=\"text-align: right;\">\n",
              "      <th></th>\n",
              "      <th>Survived</th>\n",
              "      <th>Age</th>\n",
              "      <th>SibSp</th>\n",
              "      <th>Parch</th>\n",
              "      <th>Fare</th>\n",
              "      <th>2</th>\n",
              "      <th>3</th>\n",
              "      <th>male</th>\n",
              "      <th>Q</th>\n",
              "      <th>S</th>\n",
              "      <th>2</th>\n",
              "      <th>3</th>\n",
              "      <th>male</th>\n",
              "      <th>Q</th>\n",
              "      <th>S</th>\n",
              "    </tr>\n",
              "  </thead>\n",
              "  <tbody>\n",
              "    <tr>\n",
              "      <th>0</th>\n",
              "      <td>0</td>\n",
              "      <td>22.0</td>\n",
              "      <td>1</td>\n",
              "      <td>0</td>\n",
              "      <td>7.2500</td>\n",
              "      <td>0</td>\n",
              "      <td>1</td>\n",
              "      <td>1</td>\n",
              "      <td>0</td>\n",
              "      <td>1</td>\n",
              "      <td>0</td>\n",
              "      <td>1</td>\n",
              "      <td>1</td>\n",
              "      <td>0</td>\n",
              "      <td>1</td>\n",
              "    </tr>\n",
              "    <tr>\n",
              "      <th>1</th>\n",
              "      <td>1</td>\n",
              "      <td>38.0</td>\n",
              "      <td>1</td>\n",
              "      <td>0</td>\n",
              "      <td>71.2833</td>\n",
              "      <td>0</td>\n",
              "      <td>0</td>\n",
              "      <td>0</td>\n",
              "      <td>0</td>\n",
              "      <td>0</td>\n",
              "      <td>0</td>\n",
              "      <td>0</td>\n",
              "      <td>0</td>\n",
              "      <td>0</td>\n",
              "      <td>0</td>\n",
              "    </tr>\n",
              "    <tr>\n",
              "      <th>2</th>\n",
              "      <td>1</td>\n",
              "      <td>26.0</td>\n",
              "      <td>0</td>\n",
              "      <td>0</td>\n",
              "      <td>7.9250</td>\n",
              "      <td>0</td>\n",
              "      <td>1</td>\n",
              "      <td>0</td>\n",
              "      <td>0</td>\n",
              "      <td>1</td>\n",
              "      <td>0</td>\n",
              "      <td>1</td>\n",
              "      <td>0</td>\n",
              "      <td>0</td>\n",
              "      <td>1</td>\n",
              "    </tr>\n",
              "    <tr>\n",
              "      <th>3</th>\n",
              "      <td>1</td>\n",
              "      <td>35.0</td>\n",
              "      <td>1</td>\n",
              "      <td>0</td>\n",
              "      <td>53.1000</td>\n",
              "      <td>0</td>\n",
              "      <td>0</td>\n",
              "      <td>0</td>\n",
              "      <td>0</td>\n",
              "      <td>1</td>\n",
              "      <td>0</td>\n",
              "      <td>0</td>\n",
              "      <td>0</td>\n",
              "      <td>0</td>\n",
              "      <td>1</td>\n",
              "    </tr>\n",
              "    <tr>\n",
              "      <th>4</th>\n",
              "      <td>0</td>\n",
              "      <td>35.0</td>\n",
              "      <td>0</td>\n",
              "      <td>0</td>\n",
              "      <td>8.0500</td>\n",
              "      <td>0</td>\n",
              "      <td>1</td>\n",
              "      <td>1</td>\n",
              "      <td>0</td>\n",
              "      <td>1</td>\n",
              "      <td>0</td>\n",
              "      <td>1</td>\n",
              "      <td>1</td>\n",
              "      <td>0</td>\n",
              "      <td>1</td>\n",
              "    </tr>\n",
              "  </tbody>\n",
              "</table>\n",
              "</div>\n",
              "    <div class=\"colab-df-buttons\">\n",
              "\n",
              "  <div class=\"colab-df-container\">\n",
              "    <button class=\"colab-df-convert\" onclick=\"convertToInteractive('df-6672e1f3-386b-46a3-92b3-bcec678f7070')\"\n",
              "            title=\"Convert this dataframe to an interactive table.\"\n",
              "            style=\"display:none;\">\n",
              "\n",
              "  <svg xmlns=\"http://www.w3.org/2000/svg\" height=\"24px\" viewBox=\"0 -960 960 960\">\n",
              "    <path d=\"M120-120v-720h720v720H120Zm60-500h600v-160H180v160Zm220 220h160v-160H400v160Zm0 220h160v-160H400v160ZM180-400h160v-160H180v160Zm440 0h160v-160H620v160ZM180-180h160v-160H180v160Zm440 0h160v-160H620v160Z\"/>\n",
              "  </svg>\n",
              "    </button>\n",
              "\n",
              "  <style>\n",
              "    .colab-df-container {\n",
              "      display:flex;\n",
              "      gap: 12px;\n",
              "    }\n",
              "\n",
              "    .colab-df-convert {\n",
              "      background-color: #E8F0FE;\n",
              "      border: none;\n",
              "      border-radius: 50%;\n",
              "      cursor: pointer;\n",
              "      display: none;\n",
              "      fill: #1967D2;\n",
              "      height: 32px;\n",
              "      padding: 0 0 0 0;\n",
              "      width: 32px;\n",
              "    }\n",
              "\n",
              "    .colab-df-convert:hover {\n",
              "      background-color: #E2EBFA;\n",
              "      box-shadow: 0px 1px 2px rgba(60, 64, 67, 0.3), 0px 1px 3px 1px rgba(60, 64, 67, 0.15);\n",
              "      fill: #174EA6;\n",
              "    }\n",
              "\n",
              "    .colab-df-buttons div {\n",
              "      margin-bottom: 4px;\n",
              "    }\n",
              "\n",
              "    [theme=dark] .colab-df-convert {\n",
              "      background-color: #3B4455;\n",
              "      fill: #D2E3FC;\n",
              "    }\n",
              "\n",
              "    [theme=dark] .colab-df-convert:hover {\n",
              "      background-color: #434B5C;\n",
              "      box-shadow: 0px 1px 3px 1px rgba(0, 0, 0, 0.15);\n",
              "      filter: drop-shadow(0px 1px 2px rgba(0, 0, 0, 0.3));\n",
              "      fill: #FFFFFF;\n",
              "    }\n",
              "  </style>\n",
              "\n",
              "    <script>\n",
              "      const buttonEl =\n",
              "        document.querySelector('#df-6672e1f3-386b-46a3-92b3-bcec678f7070 button.colab-df-convert');\n",
              "      buttonEl.style.display =\n",
              "        google.colab.kernel.accessAllowed ? 'block' : 'none';\n",
              "\n",
              "      async function convertToInteractive(key) {\n",
              "        const element = document.querySelector('#df-6672e1f3-386b-46a3-92b3-bcec678f7070');\n",
              "        const dataTable =\n",
              "          await google.colab.kernel.invokeFunction('convertToInteractive',\n",
              "                                                    [key], {});\n",
              "        if (!dataTable) return;\n",
              "\n",
              "        const docLinkHtml = 'Like what you see? Visit the ' +\n",
              "          '<a target=\"_blank\" href=https://colab.research.google.com/notebooks/data_table.ipynb>data table notebook</a>'\n",
              "          + ' to learn more about interactive tables.';\n",
              "        element.innerHTML = '';\n",
              "        dataTable['output_type'] = 'display_data';\n",
              "        await google.colab.output.renderOutput(dataTable, element);\n",
              "        const docLink = document.createElement('div');\n",
              "        docLink.innerHTML = docLinkHtml;\n",
              "        element.appendChild(docLink);\n",
              "      }\n",
              "    </script>\n",
              "  </div>\n",
              "\n",
              "\n",
              "<div id=\"df-f3ccf7ae-9017-42c2-b28c-3a1865c0401c\">\n",
              "  <button class=\"colab-df-quickchart\" onclick=\"quickchart('df-f3ccf7ae-9017-42c2-b28c-3a1865c0401c')\"\n",
              "            title=\"Suggest charts\"\n",
              "            style=\"display:none;\">\n",
              "\n",
              "<svg xmlns=\"http://www.w3.org/2000/svg\" height=\"24px\"viewBox=\"0 0 24 24\"\n",
              "     width=\"24px\">\n",
              "    <g>\n",
              "        <path d=\"M19 3H5c-1.1 0-2 .9-2 2v14c0 1.1.9 2 2 2h14c1.1 0 2-.9 2-2V5c0-1.1-.9-2-2-2zM9 17H7v-7h2v7zm4 0h-2V7h2v10zm4 0h-2v-4h2v4z\"/>\n",
              "    </g>\n",
              "</svg>\n",
              "  </button>\n",
              "\n",
              "<style>\n",
              "  .colab-df-quickchart {\n",
              "      --bg-color: #E8F0FE;\n",
              "      --fill-color: #1967D2;\n",
              "      --hover-bg-color: #E2EBFA;\n",
              "      --hover-fill-color: #174EA6;\n",
              "      --disabled-fill-color: #AAA;\n",
              "      --disabled-bg-color: #DDD;\n",
              "  }\n",
              "\n",
              "  [theme=dark] .colab-df-quickchart {\n",
              "      --bg-color: #3B4455;\n",
              "      --fill-color: #D2E3FC;\n",
              "      --hover-bg-color: #434B5C;\n",
              "      --hover-fill-color: #FFFFFF;\n",
              "      --disabled-bg-color: #3B4455;\n",
              "      --disabled-fill-color: #666;\n",
              "  }\n",
              "\n",
              "  .colab-df-quickchart {\n",
              "    background-color: var(--bg-color);\n",
              "    border: none;\n",
              "    border-radius: 50%;\n",
              "    cursor: pointer;\n",
              "    display: none;\n",
              "    fill: var(--fill-color);\n",
              "    height: 32px;\n",
              "    padding: 0;\n",
              "    width: 32px;\n",
              "  }\n",
              "\n",
              "  .colab-df-quickchart:hover {\n",
              "    background-color: var(--hover-bg-color);\n",
              "    box-shadow: 0 1px 2px rgba(60, 64, 67, 0.3), 0 1px 3px 1px rgba(60, 64, 67, 0.15);\n",
              "    fill: var(--button-hover-fill-color);\n",
              "  }\n",
              "\n",
              "  .colab-df-quickchart-complete:disabled,\n",
              "  .colab-df-quickchart-complete:disabled:hover {\n",
              "    background-color: var(--disabled-bg-color);\n",
              "    fill: var(--disabled-fill-color);\n",
              "    box-shadow: none;\n",
              "  }\n",
              "\n",
              "  .colab-df-spinner {\n",
              "    border: 2px solid var(--fill-color);\n",
              "    border-color: transparent;\n",
              "    border-bottom-color: var(--fill-color);\n",
              "    animation:\n",
              "      spin 1s steps(1) infinite;\n",
              "  }\n",
              "\n",
              "  @keyframes spin {\n",
              "    0% {\n",
              "      border-color: transparent;\n",
              "      border-bottom-color: var(--fill-color);\n",
              "      border-left-color: var(--fill-color);\n",
              "    }\n",
              "    20% {\n",
              "      border-color: transparent;\n",
              "      border-left-color: var(--fill-color);\n",
              "      border-top-color: var(--fill-color);\n",
              "    }\n",
              "    30% {\n",
              "      border-color: transparent;\n",
              "      border-left-color: var(--fill-color);\n",
              "      border-top-color: var(--fill-color);\n",
              "      border-right-color: var(--fill-color);\n",
              "    }\n",
              "    40% {\n",
              "      border-color: transparent;\n",
              "      border-right-color: var(--fill-color);\n",
              "      border-top-color: var(--fill-color);\n",
              "    }\n",
              "    60% {\n",
              "      border-color: transparent;\n",
              "      border-right-color: var(--fill-color);\n",
              "    }\n",
              "    80% {\n",
              "      border-color: transparent;\n",
              "      border-right-color: var(--fill-color);\n",
              "      border-bottom-color: var(--fill-color);\n",
              "    }\n",
              "    90% {\n",
              "      border-color: transparent;\n",
              "      border-bottom-color: var(--fill-color);\n",
              "    }\n",
              "  }\n",
              "</style>\n",
              "\n",
              "  <script>\n",
              "    async function quickchart(key) {\n",
              "      const quickchartButtonEl =\n",
              "        document.querySelector('#' + key + ' button');\n",
              "      quickchartButtonEl.disabled = true;  // To prevent multiple clicks.\n",
              "      quickchartButtonEl.classList.add('colab-df-spinner');\n",
              "      try {\n",
              "        const charts = await google.colab.kernel.invokeFunction(\n",
              "            'suggestCharts', [key], {});\n",
              "      } catch (error) {\n",
              "        console.error('Error during call to suggestCharts:', error);\n",
              "      }\n",
              "      quickchartButtonEl.classList.remove('colab-df-spinner');\n",
              "      quickchartButtonEl.classList.add('colab-df-quickchart-complete');\n",
              "    }\n",
              "    (() => {\n",
              "      let quickchartButtonEl =\n",
              "        document.querySelector('#df-f3ccf7ae-9017-42c2-b28c-3a1865c0401c button');\n",
              "      quickchartButtonEl.style.display =\n",
              "        google.colab.kernel.accessAllowed ? 'block' : 'none';\n",
              "    })();\n",
              "  </script>\n",
              "</div>\n",
              "    </div>\n",
              "  </div>\n"
            ],
            "text/plain": [
              "   Survived   Age  SibSp  Parch     Fare  2  3  male  Q  S  2  3  male  Q  S\n",
              "0         0  22.0      1      0   7.2500  0  1     1  0  1  0  1     1  0  1\n",
              "1         1  38.0      1      0  71.2833  0  0     0  0  0  0  0     0  0  0\n",
              "2         1  26.0      0      0   7.9250  0  1     0  0  1  0  1     0  0  1\n",
              "3         1  35.0      1      0  53.1000  0  0     0  0  1  0  0     0  0  1\n",
              "4         0  35.0      0      0   8.0500  0  1     1  0  1  0  1     1  0  1"
            ]
          },
          "execution_count": 51,
          "metadata": {},
          "output_type": "execute_result"
        }
      ],
      "source": [
        "data.head().copy()"
      ]
    },
    {
      "cell_type": "code",
      "execution_count": 52,
      "id": "PvKCKaxyCj7W",
      "metadata": {
        "colab": {
          "base_uri": "https://localhost:8080/",
          "height": 304
        },
        "id": "PvKCKaxyCj7W",
        "outputId": "ae6bb92d-4877-4173-b465-46c0e876634f"
      },
      "outputs": [
        {
          "ename": "KeyError",
          "evalue": "\"['PassengerId' 'Pclass' 'Name' 'Sex' 'Ticket' 'Embarked'] not found in axis\"",
          "output_type": "error",
          "traceback": [
            "\u001b[0;31m---------------------------------------------------------------------------\u001b[0m",
            "\u001b[0;31mKeyError\u001b[0m                                  Traceback (most recent call last)",
            "\u001b[0;32m<ipython-input-52-8679dbab94c5>\u001b[0m in \u001b[0;36m<cell line: 2>\u001b[0;34m()\u001b[0m\n\u001b[1;32m      1\u001b[0m \u001b[0;31m# Дропним то, что не очень нужно\u001b[0m\u001b[0;34m\u001b[0m\u001b[0;34m\u001b[0m\u001b[0m\n\u001b[0;32m----> 2\u001b[0;31m \u001b[0mdata\u001b[0m\u001b[0;34m.\u001b[0m\u001b[0mdrop\u001b[0m\u001b[0;34m(\u001b[0m\u001b[0;34m[\u001b[0m\u001b[0;34m\"PassengerId\"\u001b[0m\u001b[0;34m,\u001b[0m\u001b[0;34m\"Pclass\"\u001b[0m\u001b[0;34m,\u001b[0m\u001b[0;34m\"Name\"\u001b[0m\u001b[0;34m,\u001b[0m\u001b[0;34m\"Sex\"\u001b[0m\u001b[0;34m,\u001b[0m\u001b[0;34m\"Ticket\"\u001b[0m\u001b[0;34m,\u001b[0m\u001b[0;34m\"Embarked\"\u001b[0m\u001b[0;34m]\u001b[0m\u001b[0;34m,\u001b[0m\u001b[0maxis\u001b[0m\u001b[0;34m=\u001b[0m\u001b[0;36m1\u001b[0m\u001b[0;34m,\u001b[0m\u001b[0minplace\u001b[0m\u001b[0;34m=\u001b[0m\u001b[0;32mTrue\u001b[0m\u001b[0;34m)\u001b[0m\u001b[0;34m\u001b[0m\u001b[0;34m\u001b[0m\u001b[0m\n\u001b[0m",
            "\u001b[0;32m/usr/local/lib/python3.10/dist-packages/pandas/util/_decorators.py\u001b[0m in \u001b[0;36mwrapper\u001b[0;34m(*args, **kwargs)\u001b[0m\n\u001b[1;32m    329\u001b[0m                     \u001b[0mstacklevel\u001b[0m\u001b[0;34m=\u001b[0m\u001b[0mfind_stack_level\u001b[0m\u001b[0;34m(\u001b[0m\u001b[0;34m)\u001b[0m\u001b[0;34m,\u001b[0m\u001b[0;34m\u001b[0m\u001b[0;34m\u001b[0m\u001b[0m\n\u001b[1;32m    330\u001b[0m                 )\n\u001b[0;32m--> 331\u001b[0;31m             \u001b[0;32mreturn\u001b[0m \u001b[0mfunc\u001b[0m\u001b[0;34m(\u001b[0m\u001b[0;34m*\u001b[0m\u001b[0margs\u001b[0m\u001b[0;34m,\u001b[0m \u001b[0;34m**\u001b[0m\u001b[0mkwargs\u001b[0m\u001b[0;34m)\u001b[0m\u001b[0;34m\u001b[0m\u001b[0;34m\u001b[0m\u001b[0m\n\u001b[0m\u001b[1;32m    332\u001b[0m \u001b[0;34m\u001b[0m\u001b[0m\n\u001b[1;32m    333\u001b[0m         \u001b[0;31m# error: \"Callable[[VarArg(Any), KwArg(Any)], Any]\" has no\u001b[0m\u001b[0;34m\u001b[0m\u001b[0;34m\u001b[0m\u001b[0m\n",
            "\u001b[0;32m/usr/local/lib/python3.10/dist-packages/pandas/core/frame.py\u001b[0m in \u001b[0;36mdrop\u001b[0;34m(self, labels, axis, index, columns, level, inplace, errors)\u001b[0m\n\u001b[1;32m   5397\u001b[0m                 \u001b[0mweight\u001b[0m  \u001b[0;36m1.0\u001b[0m     \u001b[0;36m0.8\u001b[0m\u001b[0;34m\u001b[0m\u001b[0;34m\u001b[0m\u001b[0m\n\u001b[1;32m   5398\u001b[0m         \"\"\"\n\u001b[0;32m-> 5399\u001b[0;31m         return super().drop(\n\u001b[0m\u001b[1;32m   5400\u001b[0m             \u001b[0mlabels\u001b[0m\u001b[0;34m=\u001b[0m\u001b[0mlabels\u001b[0m\u001b[0;34m,\u001b[0m\u001b[0;34m\u001b[0m\u001b[0;34m\u001b[0m\u001b[0m\n\u001b[1;32m   5401\u001b[0m             \u001b[0maxis\u001b[0m\u001b[0;34m=\u001b[0m\u001b[0maxis\u001b[0m\u001b[0;34m,\u001b[0m\u001b[0;34m\u001b[0m\u001b[0;34m\u001b[0m\u001b[0m\n",
            "\u001b[0;32m/usr/local/lib/python3.10/dist-packages/pandas/util/_decorators.py\u001b[0m in \u001b[0;36mwrapper\u001b[0;34m(*args, **kwargs)\u001b[0m\n\u001b[1;32m    329\u001b[0m                     \u001b[0mstacklevel\u001b[0m\u001b[0;34m=\u001b[0m\u001b[0mfind_stack_level\u001b[0m\u001b[0;34m(\u001b[0m\u001b[0;34m)\u001b[0m\u001b[0;34m,\u001b[0m\u001b[0;34m\u001b[0m\u001b[0;34m\u001b[0m\u001b[0m\n\u001b[1;32m    330\u001b[0m                 )\n\u001b[0;32m--> 331\u001b[0;31m             \u001b[0;32mreturn\u001b[0m \u001b[0mfunc\u001b[0m\u001b[0;34m(\u001b[0m\u001b[0;34m*\u001b[0m\u001b[0margs\u001b[0m\u001b[0;34m,\u001b[0m \u001b[0;34m**\u001b[0m\u001b[0mkwargs\u001b[0m\u001b[0;34m)\u001b[0m\u001b[0;34m\u001b[0m\u001b[0;34m\u001b[0m\u001b[0m\n\u001b[0m\u001b[1;32m    332\u001b[0m \u001b[0;34m\u001b[0m\u001b[0m\n\u001b[1;32m    333\u001b[0m         \u001b[0;31m# error: \"Callable[[VarArg(Any), KwArg(Any)], Any]\" has no\u001b[0m\u001b[0;34m\u001b[0m\u001b[0;34m\u001b[0m\u001b[0m\n",
            "\u001b[0;32m/usr/local/lib/python3.10/dist-packages/pandas/core/generic.py\u001b[0m in \u001b[0;36mdrop\u001b[0;34m(self, labels, axis, index, columns, level, inplace, errors)\u001b[0m\n\u001b[1;32m   4503\u001b[0m         \u001b[0;32mfor\u001b[0m \u001b[0maxis\u001b[0m\u001b[0;34m,\u001b[0m \u001b[0mlabels\u001b[0m \u001b[0;32min\u001b[0m \u001b[0maxes\u001b[0m\u001b[0;34m.\u001b[0m\u001b[0mitems\u001b[0m\u001b[0;34m(\u001b[0m\u001b[0;34m)\u001b[0m\u001b[0;34m:\u001b[0m\u001b[0;34m\u001b[0m\u001b[0;34m\u001b[0m\u001b[0m\n\u001b[1;32m   4504\u001b[0m             \u001b[0;32mif\u001b[0m \u001b[0mlabels\u001b[0m \u001b[0;32mis\u001b[0m \u001b[0;32mnot\u001b[0m \u001b[0;32mNone\u001b[0m\u001b[0;34m:\u001b[0m\u001b[0;34m\u001b[0m\u001b[0;34m\u001b[0m\u001b[0m\n\u001b[0;32m-> 4505\u001b[0;31m                 \u001b[0mobj\u001b[0m \u001b[0;34m=\u001b[0m \u001b[0mobj\u001b[0m\u001b[0;34m.\u001b[0m\u001b[0m_drop_axis\u001b[0m\u001b[0;34m(\u001b[0m\u001b[0mlabels\u001b[0m\u001b[0;34m,\u001b[0m \u001b[0maxis\u001b[0m\u001b[0;34m,\u001b[0m \u001b[0mlevel\u001b[0m\u001b[0;34m=\u001b[0m\u001b[0mlevel\u001b[0m\u001b[0;34m,\u001b[0m \u001b[0merrors\u001b[0m\u001b[0;34m=\u001b[0m\u001b[0merrors\u001b[0m\u001b[0;34m)\u001b[0m\u001b[0;34m\u001b[0m\u001b[0;34m\u001b[0m\u001b[0m\n\u001b[0m\u001b[1;32m   4506\u001b[0m \u001b[0;34m\u001b[0m\u001b[0m\n\u001b[1;32m   4507\u001b[0m         \u001b[0;32mif\u001b[0m \u001b[0minplace\u001b[0m\u001b[0;34m:\u001b[0m\u001b[0;34m\u001b[0m\u001b[0;34m\u001b[0m\u001b[0m\n",
            "\u001b[0;32m/usr/local/lib/python3.10/dist-packages/pandas/core/generic.py\u001b[0m in \u001b[0;36m_drop_axis\u001b[0;34m(self, labels, axis, level, errors, only_slice)\u001b[0m\n\u001b[1;32m   4573\u001b[0m                 \u001b[0mlabels_missing\u001b[0m \u001b[0;34m=\u001b[0m \u001b[0;34m(\u001b[0m\u001b[0maxis\u001b[0m\u001b[0;34m.\u001b[0m\u001b[0mget_indexer_for\u001b[0m\u001b[0;34m(\u001b[0m\u001b[0mlabels\u001b[0m\u001b[0;34m)\u001b[0m \u001b[0;34m==\u001b[0m \u001b[0;34m-\u001b[0m\u001b[0;36m1\u001b[0m\u001b[0;34m)\u001b[0m\u001b[0;34m.\u001b[0m\u001b[0many\u001b[0m\u001b[0;34m(\u001b[0m\u001b[0;34m)\u001b[0m\u001b[0;34m\u001b[0m\u001b[0;34m\u001b[0m\u001b[0m\n\u001b[1;32m   4574\u001b[0m                 \u001b[0;32mif\u001b[0m \u001b[0merrors\u001b[0m \u001b[0;34m==\u001b[0m \u001b[0;34m\"raise\"\u001b[0m \u001b[0;32mand\u001b[0m \u001b[0mlabels_missing\u001b[0m\u001b[0;34m:\u001b[0m\u001b[0;34m\u001b[0m\u001b[0;34m\u001b[0m\u001b[0m\n\u001b[0;32m-> 4575\u001b[0;31m                     \u001b[0;32mraise\u001b[0m \u001b[0mKeyError\u001b[0m\u001b[0;34m(\u001b[0m\u001b[0;34mf\"{labels} not found in axis\"\u001b[0m\u001b[0;34m)\u001b[0m\u001b[0;34m\u001b[0m\u001b[0;34m\u001b[0m\u001b[0m\n\u001b[0m\u001b[1;32m   4576\u001b[0m \u001b[0;34m\u001b[0m\u001b[0m\n\u001b[1;32m   4577\u001b[0m             \u001b[0;32mif\u001b[0m \u001b[0mis_extension_array_dtype\u001b[0m\u001b[0;34m(\u001b[0m\u001b[0mmask\u001b[0m\u001b[0;34m.\u001b[0m\u001b[0mdtype\u001b[0m\u001b[0;34m)\u001b[0m\u001b[0;34m:\u001b[0m\u001b[0;34m\u001b[0m\u001b[0;34m\u001b[0m\u001b[0m\n",
            "\u001b[0;31mKeyError\u001b[0m: \"['PassengerId' 'Pclass' 'Name' 'Sex' 'Ticket' 'Embarked'] not found in axis\""
          ]
        }
      ],
      "source": [
        "# Дропним то, что не очень нужно\n",
        "data.drop([\"PassengerId\",\"Pclass\",\"Name\",\"Sex\",\"Ticket\",\"Embarked\"],axis=1,inplace=True)\n",
        "# случайнр нажала, тут уже выполнено"
      ]
    },
    {
      "cell_type": "code",
      "execution_count": 53,
      "id": "tDUZgkGSCmsJ",
      "metadata": {
        "colab": {
          "base_uri": "https://localhost:8080/",
          "height": 206
        },
        "id": "tDUZgkGSCmsJ",
        "outputId": "53c383bb-36ba-42a6-9844-fcb952eb55bb"
      },
      "outputs": [
        {
          "data": {
            "application/vnd.google.colaboratory.intrinsic+json": {
              "summary": "{\n  \"name\": \"data\",\n  \"rows\": 889,\n  \"fields\": [\n    {\n      \"column\": \"Survived\",\n      \"properties\": {\n        \"dtype\": \"number\",\n        \"std\": 0,\n        \"min\": 0,\n        \"max\": 1,\n        \"num_unique_values\": 2,\n        \"samples\": [\n          1,\n          0\n        ],\n        \"semantic_type\": \"\",\n        \"description\": \"\"\n      }\n    },\n    {\n      \"column\": \"Age\",\n      \"properties\": {\n        \"dtype\": \"number\",\n        \"std\": 13.177746823022957,\n        \"min\": 0.42,\n        \"max\": 80.0,\n        \"num_unique_values\": 88,\n        \"samples\": [\n          0.75,\n          22.0\n        ],\n        \"semantic_type\": \"\",\n        \"description\": \"\"\n      }\n    },\n    {\n      \"column\": \"SibSp\",\n      \"properties\": {\n        \"dtype\": \"number\",\n        \"std\": 1,\n        \"min\": 0,\n        \"max\": 8,\n        \"num_unique_values\": 7,\n        \"samples\": [\n          1,\n          0\n        ],\n        \"semantic_type\": \"\",\n        \"description\": \"\"\n      }\n    },\n    {\n      \"column\": \"Parch\",\n      \"properties\": {\n        \"dtype\": \"number\",\n        \"std\": 0,\n        \"min\": 0,\n        \"max\": 6,\n        \"num_unique_values\": 7,\n        \"samples\": [\n          0,\n          1\n        ],\n        \"semantic_type\": \"\",\n        \"description\": \"\"\n      }\n    },\n    {\n      \"column\": \"Fare\",\n      \"properties\": {\n        \"dtype\": \"number\",\n        \"std\": 49.697504316707956,\n        \"min\": 0.0,\n        \"max\": 512.3292,\n        \"num_unique_values\": 247,\n        \"samples\": [\n          11.2417,\n          51.8625\n        ],\n        \"semantic_type\": \"\",\n        \"description\": \"\"\n      }\n    },\n    {\n      \"column\": 2,\n      \"properties\": {\n        \"dtype\": \"uint8\",\n        \"num_unique_values\": 2,\n        \"samples\": [\n          1,\n          0\n        ],\n        \"semantic_type\": \"\",\n        \"description\": \"\"\n      }\n    },\n    {\n      \"column\": 3,\n      \"properties\": {\n        \"dtype\": \"uint8\",\n        \"num_unique_values\": 2,\n        \"samples\": [\n          0,\n          1\n        ],\n        \"semantic_type\": \"\",\n        \"description\": \"\"\n      }\n    },\n    {\n      \"column\": \"male\",\n      \"properties\": {\n        \"dtype\": \"uint8\",\n        \"num_unique_values\": 2,\n        \"samples\": [\n          0,\n          1\n        ],\n        \"semantic_type\": \"\",\n        \"description\": \"\"\n      }\n    },\n    {\n      \"column\": \"Q\",\n      \"properties\": {\n        \"dtype\": \"uint8\",\n        \"num_unique_values\": 2,\n        \"samples\": [\n          1,\n          0\n        ],\n        \"semantic_type\": \"\",\n        \"description\": \"\"\n      }\n    },\n    {\n      \"column\": \"S\",\n      \"properties\": {\n        \"dtype\": \"uint8\",\n        \"num_unique_values\": 2,\n        \"samples\": [\n          0,\n          1\n        ],\n        \"semantic_type\": \"\",\n        \"description\": \"\"\n      }\n    },\n    {\n      \"column\": 2,\n      \"properties\": {\n        \"dtype\": \"uint8\",\n        \"num_unique_values\": 2,\n        \"samples\": [\n          1,\n          0\n        ],\n        \"semantic_type\": \"\",\n        \"description\": \"\"\n      }\n    },\n    {\n      \"column\": 3,\n      \"properties\": {\n        \"dtype\": \"uint8\",\n        \"num_unique_values\": 2,\n        \"samples\": [\n          0,\n          1\n        ],\n        \"semantic_type\": \"\",\n        \"description\": \"\"\n      }\n    },\n    {\n      \"column\": \"male\",\n      \"properties\": {\n        \"dtype\": \"uint8\",\n        \"num_unique_values\": 2,\n        \"samples\": [\n          0,\n          1\n        ],\n        \"semantic_type\": \"\",\n        \"description\": \"\"\n      }\n    },\n    {\n      \"column\": \"Q\",\n      \"properties\": {\n        \"dtype\": \"uint8\",\n        \"num_unique_values\": 2,\n        \"samples\": [\n          1,\n          0\n        ],\n        \"semantic_type\": \"\",\n        \"description\": \"\"\n      }\n    },\n    {\n      \"column\": \"S\",\n      \"properties\": {\n        \"dtype\": \"uint8\",\n        \"num_unique_values\": 2,\n        \"samples\": [\n          0,\n          1\n        ],\n        \"semantic_type\": \"\",\n        \"description\": \"\"\n      }\n    }\n  ]\n}",
              "type": "dataframe",
              "variable_name": "data"
            },
            "text/html": [
              "\n",
              "  <div id=\"df-24374648-e5a6-447a-99bd-1f81a80cd0b5\" class=\"colab-df-container\">\n",
              "    <div>\n",
              "<style scoped>\n",
              "    .dataframe tbody tr th:only-of-type {\n",
              "        vertical-align: middle;\n",
              "    }\n",
              "\n",
              "    .dataframe tbody tr th {\n",
              "        vertical-align: top;\n",
              "    }\n",
              "\n",
              "    .dataframe thead th {\n",
              "        text-align: right;\n",
              "    }\n",
              "</style>\n",
              "<table border=\"1\" class=\"dataframe\">\n",
              "  <thead>\n",
              "    <tr style=\"text-align: right;\">\n",
              "      <th></th>\n",
              "      <th>Survived</th>\n",
              "      <th>Age</th>\n",
              "      <th>SibSp</th>\n",
              "      <th>Parch</th>\n",
              "      <th>Fare</th>\n",
              "      <th>2</th>\n",
              "      <th>3</th>\n",
              "      <th>male</th>\n",
              "      <th>Q</th>\n",
              "      <th>S</th>\n",
              "      <th>2</th>\n",
              "      <th>3</th>\n",
              "      <th>male</th>\n",
              "      <th>Q</th>\n",
              "      <th>S</th>\n",
              "    </tr>\n",
              "  </thead>\n",
              "  <tbody>\n",
              "    <tr>\n",
              "      <th>0</th>\n",
              "      <td>0</td>\n",
              "      <td>22.0</td>\n",
              "      <td>1</td>\n",
              "      <td>0</td>\n",
              "      <td>7.2500</td>\n",
              "      <td>0</td>\n",
              "      <td>1</td>\n",
              "      <td>1</td>\n",
              "      <td>0</td>\n",
              "      <td>1</td>\n",
              "      <td>0</td>\n",
              "      <td>1</td>\n",
              "      <td>1</td>\n",
              "      <td>0</td>\n",
              "      <td>1</td>\n",
              "    </tr>\n",
              "    <tr>\n",
              "      <th>1</th>\n",
              "      <td>1</td>\n",
              "      <td>38.0</td>\n",
              "      <td>1</td>\n",
              "      <td>0</td>\n",
              "      <td>71.2833</td>\n",
              "      <td>0</td>\n",
              "      <td>0</td>\n",
              "      <td>0</td>\n",
              "      <td>0</td>\n",
              "      <td>0</td>\n",
              "      <td>0</td>\n",
              "      <td>0</td>\n",
              "      <td>0</td>\n",
              "      <td>0</td>\n",
              "      <td>0</td>\n",
              "    </tr>\n",
              "    <tr>\n",
              "      <th>2</th>\n",
              "      <td>1</td>\n",
              "      <td>26.0</td>\n",
              "      <td>0</td>\n",
              "      <td>0</td>\n",
              "      <td>7.9250</td>\n",
              "      <td>0</td>\n",
              "      <td>1</td>\n",
              "      <td>0</td>\n",
              "      <td>0</td>\n",
              "      <td>1</td>\n",
              "      <td>0</td>\n",
              "      <td>1</td>\n",
              "      <td>0</td>\n",
              "      <td>0</td>\n",
              "      <td>1</td>\n",
              "    </tr>\n",
              "    <tr>\n",
              "      <th>3</th>\n",
              "      <td>1</td>\n",
              "      <td>35.0</td>\n",
              "      <td>1</td>\n",
              "      <td>0</td>\n",
              "      <td>53.1000</td>\n",
              "      <td>0</td>\n",
              "      <td>0</td>\n",
              "      <td>0</td>\n",
              "      <td>0</td>\n",
              "      <td>1</td>\n",
              "      <td>0</td>\n",
              "      <td>0</td>\n",
              "      <td>0</td>\n",
              "      <td>0</td>\n",
              "      <td>1</td>\n",
              "    </tr>\n",
              "    <tr>\n",
              "      <th>4</th>\n",
              "      <td>0</td>\n",
              "      <td>35.0</td>\n",
              "      <td>0</td>\n",
              "      <td>0</td>\n",
              "      <td>8.0500</td>\n",
              "      <td>0</td>\n",
              "      <td>1</td>\n",
              "      <td>1</td>\n",
              "      <td>0</td>\n",
              "      <td>1</td>\n",
              "      <td>0</td>\n",
              "      <td>1</td>\n",
              "      <td>1</td>\n",
              "      <td>0</td>\n",
              "      <td>1</td>\n",
              "    </tr>\n",
              "  </tbody>\n",
              "</table>\n",
              "</div>\n",
              "    <div class=\"colab-df-buttons\">\n",
              "\n",
              "  <div class=\"colab-df-container\">\n",
              "    <button class=\"colab-df-convert\" onclick=\"convertToInteractive('df-24374648-e5a6-447a-99bd-1f81a80cd0b5')\"\n",
              "            title=\"Convert this dataframe to an interactive table.\"\n",
              "            style=\"display:none;\">\n",
              "\n",
              "  <svg xmlns=\"http://www.w3.org/2000/svg\" height=\"24px\" viewBox=\"0 -960 960 960\">\n",
              "    <path d=\"M120-120v-720h720v720H120Zm60-500h600v-160H180v160Zm220 220h160v-160H400v160Zm0 220h160v-160H400v160ZM180-400h160v-160H180v160Zm440 0h160v-160H620v160ZM180-180h160v-160H180v160Zm440 0h160v-160H620v160Z\"/>\n",
              "  </svg>\n",
              "    </button>\n",
              "\n",
              "  <style>\n",
              "    .colab-df-container {\n",
              "      display:flex;\n",
              "      gap: 12px;\n",
              "    }\n",
              "\n",
              "    .colab-df-convert {\n",
              "      background-color: #E8F0FE;\n",
              "      border: none;\n",
              "      border-radius: 50%;\n",
              "      cursor: pointer;\n",
              "      display: none;\n",
              "      fill: #1967D2;\n",
              "      height: 32px;\n",
              "      padding: 0 0 0 0;\n",
              "      width: 32px;\n",
              "    }\n",
              "\n",
              "    .colab-df-convert:hover {\n",
              "      background-color: #E2EBFA;\n",
              "      box-shadow: 0px 1px 2px rgba(60, 64, 67, 0.3), 0px 1px 3px 1px rgba(60, 64, 67, 0.15);\n",
              "      fill: #174EA6;\n",
              "    }\n",
              "\n",
              "    .colab-df-buttons div {\n",
              "      margin-bottom: 4px;\n",
              "    }\n",
              "\n",
              "    [theme=dark] .colab-df-convert {\n",
              "      background-color: #3B4455;\n",
              "      fill: #D2E3FC;\n",
              "    }\n",
              "\n",
              "    [theme=dark] .colab-df-convert:hover {\n",
              "      background-color: #434B5C;\n",
              "      box-shadow: 0px 1px 3px 1px rgba(0, 0, 0, 0.15);\n",
              "      filter: drop-shadow(0px 1px 2px rgba(0, 0, 0, 0.3));\n",
              "      fill: #FFFFFF;\n",
              "    }\n",
              "  </style>\n",
              "\n",
              "    <script>\n",
              "      const buttonEl =\n",
              "        document.querySelector('#df-24374648-e5a6-447a-99bd-1f81a80cd0b5 button.colab-df-convert');\n",
              "      buttonEl.style.display =\n",
              "        google.colab.kernel.accessAllowed ? 'block' : 'none';\n",
              "\n",
              "      async function convertToInteractive(key) {\n",
              "        const element = document.querySelector('#df-24374648-e5a6-447a-99bd-1f81a80cd0b5');\n",
              "        const dataTable =\n",
              "          await google.colab.kernel.invokeFunction('convertToInteractive',\n",
              "                                                    [key], {});\n",
              "        if (!dataTable) return;\n",
              "\n",
              "        const docLinkHtml = 'Like what you see? Visit the ' +\n",
              "          '<a target=\"_blank\" href=https://colab.research.google.com/notebooks/data_table.ipynb>data table notebook</a>'\n",
              "          + ' to learn more about interactive tables.';\n",
              "        element.innerHTML = '';\n",
              "        dataTable['output_type'] = 'display_data';\n",
              "        await google.colab.output.renderOutput(dataTable, element);\n",
              "        const docLink = document.createElement('div');\n",
              "        docLink.innerHTML = docLinkHtml;\n",
              "        element.appendChild(docLink);\n",
              "      }\n",
              "    </script>\n",
              "  </div>\n",
              "\n",
              "\n",
              "<div id=\"df-ebadf7a0-69fc-48d5-98b6-0a8fa7dacbfa\">\n",
              "  <button class=\"colab-df-quickchart\" onclick=\"quickchart('df-ebadf7a0-69fc-48d5-98b6-0a8fa7dacbfa')\"\n",
              "            title=\"Suggest charts\"\n",
              "            style=\"display:none;\">\n",
              "\n",
              "<svg xmlns=\"http://www.w3.org/2000/svg\" height=\"24px\"viewBox=\"0 0 24 24\"\n",
              "     width=\"24px\">\n",
              "    <g>\n",
              "        <path d=\"M19 3H5c-1.1 0-2 .9-2 2v14c0 1.1.9 2 2 2h14c1.1 0 2-.9 2-2V5c0-1.1-.9-2-2-2zM9 17H7v-7h2v7zm4 0h-2V7h2v10zm4 0h-2v-4h2v4z\"/>\n",
              "    </g>\n",
              "</svg>\n",
              "  </button>\n",
              "\n",
              "<style>\n",
              "  .colab-df-quickchart {\n",
              "      --bg-color: #E8F0FE;\n",
              "      --fill-color: #1967D2;\n",
              "      --hover-bg-color: #E2EBFA;\n",
              "      --hover-fill-color: #174EA6;\n",
              "      --disabled-fill-color: #AAA;\n",
              "      --disabled-bg-color: #DDD;\n",
              "  }\n",
              "\n",
              "  [theme=dark] .colab-df-quickchart {\n",
              "      --bg-color: #3B4455;\n",
              "      --fill-color: #D2E3FC;\n",
              "      --hover-bg-color: #434B5C;\n",
              "      --hover-fill-color: #FFFFFF;\n",
              "      --disabled-bg-color: #3B4455;\n",
              "      --disabled-fill-color: #666;\n",
              "  }\n",
              "\n",
              "  .colab-df-quickchart {\n",
              "    background-color: var(--bg-color);\n",
              "    border: none;\n",
              "    border-radius: 50%;\n",
              "    cursor: pointer;\n",
              "    display: none;\n",
              "    fill: var(--fill-color);\n",
              "    height: 32px;\n",
              "    padding: 0;\n",
              "    width: 32px;\n",
              "  }\n",
              "\n",
              "  .colab-df-quickchart:hover {\n",
              "    background-color: var(--hover-bg-color);\n",
              "    box-shadow: 0 1px 2px rgba(60, 64, 67, 0.3), 0 1px 3px 1px rgba(60, 64, 67, 0.15);\n",
              "    fill: var(--button-hover-fill-color);\n",
              "  }\n",
              "\n",
              "  .colab-df-quickchart-complete:disabled,\n",
              "  .colab-df-quickchart-complete:disabled:hover {\n",
              "    background-color: var(--disabled-bg-color);\n",
              "    fill: var(--disabled-fill-color);\n",
              "    box-shadow: none;\n",
              "  }\n",
              "\n",
              "  .colab-df-spinner {\n",
              "    border: 2px solid var(--fill-color);\n",
              "    border-color: transparent;\n",
              "    border-bottom-color: var(--fill-color);\n",
              "    animation:\n",
              "      spin 1s steps(1) infinite;\n",
              "  }\n",
              "\n",
              "  @keyframes spin {\n",
              "    0% {\n",
              "      border-color: transparent;\n",
              "      border-bottom-color: var(--fill-color);\n",
              "      border-left-color: var(--fill-color);\n",
              "    }\n",
              "    20% {\n",
              "      border-color: transparent;\n",
              "      border-left-color: var(--fill-color);\n",
              "      border-top-color: var(--fill-color);\n",
              "    }\n",
              "    30% {\n",
              "      border-color: transparent;\n",
              "      border-left-color: var(--fill-color);\n",
              "      border-top-color: var(--fill-color);\n",
              "      border-right-color: var(--fill-color);\n",
              "    }\n",
              "    40% {\n",
              "      border-color: transparent;\n",
              "      border-right-color: var(--fill-color);\n",
              "      border-top-color: var(--fill-color);\n",
              "    }\n",
              "    60% {\n",
              "      border-color: transparent;\n",
              "      border-right-color: var(--fill-color);\n",
              "    }\n",
              "    80% {\n",
              "      border-color: transparent;\n",
              "      border-right-color: var(--fill-color);\n",
              "      border-bottom-color: var(--fill-color);\n",
              "    }\n",
              "    90% {\n",
              "      border-color: transparent;\n",
              "      border-bottom-color: var(--fill-color);\n",
              "    }\n",
              "  }\n",
              "</style>\n",
              "\n",
              "  <script>\n",
              "    async function quickchart(key) {\n",
              "      const quickchartButtonEl =\n",
              "        document.querySelector('#' + key + ' button');\n",
              "      quickchartButtonEl.disabled = true;  // To prevent multiple clicks.\n",
              "      quickchartButtonEl.classList.add('colab-df-spinner');\n",
              "      try {\n",
              "        const charts = await google.colab.kernel.invokeFunction(\n",
              "            'suggestCharts', [key], {});\n",
              "      } catch (error) {\n",
              "        console.error('Error during call to suggestCharts:', error);\n",
              "      }\n",
              "      quickchartButtonEl.classList.remove('colab-df-spinner');\n",
              "      quickchartButtonEl.classList.add('colab-df-quickchart-complete');\n",
              "    }\n",
              "    (() => {\n",
              "      let quickchartButtonEl =\n",
              "        document.querySelector('#df-ebadf7a0-69fc-48d5-98b6-0a8fa7dacbfa button');\n",
              "      quickchartButtonEl.style.display =\n",
              "        google.colab.kernel.accessAllowed ? 'block' : 'none';\n",
              "    })();\n",
              "  </script>\n",
              "</div>\n",
              "    </div>\n",
              "  </div>\n"
            ],
            "text/plain": [
              "   Survived   Age  SibSp  Parch     Fare  2  3  male  Q  S  2  3  male  Q  S\n",
              "0         0  22.0      1      0   7.2500  0  1     1  0  1  0  1     1  0  1\n",
              "1         1  38.0      1      0  71.2833  0  0     0  0  0  0  0     0  0  0\n",
              "2         1  26.0      0      0   7.9250  0  1     0  0  1  0  1     0  0  1\n",
              "3         1  35.0      1      0  53.1000  0  0     0  0  1  0  0     0  0  1\n",
              "4         0  35.0      0      0   8.0500  0  1     1  0  1  0  1     1  0  1"
            ]
          },
          "execution_count": 53,
          "metadata": {},
          "output_type": "execute_result"
        }
      ],
      "source": [
        "data.head().copy()"
      ]
    },
    {
      "cell_type": "code",
      "execution_count": 54,
      "id": "ZclOEHtCDA8k",
      "metadata": {
        "colab": {
          "base_uri": "https://localhost:8080/"
        },
        "id": "ZclOEHtCDA8k",
        "outputId": "1feedcc4-c79e-487c-cd45-9a9658126cb8"
      },
      "outputs": [
        {
          "name": "stdout",
          "output_type": "stream",
          "text": [
            "Labels: {0, 1}\n",
            "Zero count = 549, One count = 340\n"
          ]
        }
      ],
      "source": [
        "# Посмотрю на баланс классов\n",
        "print('Labels: {}'.format(set(y)))\n",
        "print('Zero count = {}, One count = {}'.format(len(y) - sum(y), sum(y)))"
      ]
    },
    {
      "cell_type": "code",
      "execution_count": 55,
      "id": "90HBRw67DQr3",
      "metadata": {
        "id": "90HBRw67DQr3"
      },
      "outputs": [],
      "source": [
        "from sklearn.model_selection import train_test_split\n",
        "X_train, X_test, y_train, y_test = train_test_split(X, y, train_size=0.2, random_state=101)"
      ]
    },
    {
      "cell_type": "code",
      "execution_count": 18,
      "id": "I5sErxfiEbPW",
      "metadata": {
        "colab": {
          "base_uri": "https://localhost:8080/"
        },
        "id": "I5sErxfiEbPW",
        "outputId": "5e7f598d-71c1-4659-b9b0-969f35aa9eae"
      },
      "outputs": [
        {
          "name": "stdout",
          "output_type": "stream",
          "text": [
            "Collecting catboost\n",
            "  Downloading catboost-1.2.3-cp310-cp310-manylinux2014_x86_64.whl (98.5 MB)\n",
            "\u001b[2K     \u001b[90m━━━━━━━━━━━━━━━━━━━━━━━━━━━━━━━━━━━━━━━━\u001b[0m \u001b[32m98.5/98.5 MB\u001b[0m \u001b[31m5.1 MB/s\u001b[0m eta \u001b[36m0:00:00\u001b[0m\n",
            "\u001b[?25hRequirement already satisfied: graphviz in /usr/local/lib/python3.10/dist-packages (from catboost) (0.20.3)\n",
            "Requirement already satisfied: matplotlib in /usr/local/lib/python3.10/dist-packages (from catboost) (3.7.1)\n",
            "Requirement already satisfied: numpy>=1.16.0 in /usr/local/lib/python3.10/dist-packages (from catboost) (1.25.2)\n",
            "Requirement already satisfied: pandas>=0.24 in /usr/local/lib/python3.10/dist-packages (from catboost) (1.5.3)\n",
            "Requirement already satisfied: scipy in /usr/local/lib/python3.10/dist-packages (from catboost) (1.11.4)\n",
            "Requirement already satisfied: plotly in /usr/local/lib/python3.10/dist-packages (from catboost) (5.15.0)\n",
            "Requirement already satisfied: six in /usr/local/lib/python3.10/dist-packages (from catboost) (1.16.0)\n",
            "Requirement already satisfied: python-dateutil>=2.8.1 in /usr/local/lib/python3.10/dist-packages (from pandas>=0.24->catboost) (2.8.2)\n",
            "Requirement already satisfied: pytz>=2020.1 in /usr/local/lib/python3.10/dist-packages (from pandas>=0.24->catboost) (2023.4)\n",
            "Requirement already satisfied: contourpy>=1.0.1 in /usr/local/lib/python3.10/dist-packages (from matplotlib->catboost) (1.2.0)\n",
            "Requirement already satisfied: cycler>=0.10 in /usr/local/lib/python3.10/dist-packages (from matplotlib->catboost) (0.12.1)\n",
            "Requirement already satisfied: fonttools>=4.22.0 in /usr/local/lib/python3.10/dist-packages (from matplotlib->catboost) (4.50.0)\n",
            "Requirement already satisfied: kiwisolver>=1.0.1 in /usr/local/lib/python3.10/dist-packages (from matplotlib->catboost) (1.4.5)\n",
            "Requirement already satisfied: packaging>=20.0 in /usr/local/lib/python3.10/dist-packages (from matplotlib->catboost) (24.0)\n",
            "Requirement already satisfied: pillow>=6.2.0 in /usr/local/lib/python3.10/dist-packages (from matplotlib->catboost) (9.4.0)\n",
            "Requirement already satisfied: pyparsing>=2.3.1 in /usr/local/lib/python3.10/dist-packages (from matplotlib->catboost) (3.1.2)\n",
            "Requirement already satisfied: tenacity>=6.2.0 in /usr/local/lib/python3.10/dist-packages (from plotly->catboost) (8.2.3)\n",
            "Installing collected packages: catboost\n",
            "Successfully installed catboost-1.2.3\n"
          ]
        }
      ],
      "source": [
        "!pip install catboost"
      ]
    },
    {
      "cell_type": "code",
      "execution_count": 57,
      "id": "oZq2gMEAD7lg",
      "metadata": {
        "colab": {
          "base_uri": "https://localhost:8080/"
        },
        "id": "oZq2gMEAD7lg",
        "outputId": "1b26ce3f-19f5-4923-e3a4-2d3bb32e79a9"
      },
      "outputs": [
        {
          "name": "stdout",
          "output_type": "stream",
          "text": [
            "Model is fitted: True\n",
            "Model params:\n",
            "{'iterations': 5, 'learning_rate': 0.1}\n"
          ]
        }
      ],
      "source": [
        "# Обучение (градиентный бустинг)\n",
        "from catboost import CatBoostClassifier\n",
        "model = CatBoostClassifier(\n",
        "    iterations=5,\n",
        "    learning_rate=0.1,\n",
        ")\n",
        "model.fit(\n",
        "    X_train, y_train,\n",
        "    eval_set=(X_test, y_test),\n",
        "    verbose=False\n",
        ")\n",
        "print('Model is fitted: ' + str(model.is_fitted()))\n",
        "print('Model params:')\n",
        "print(model.get_params())"
      ]
    },
    {
      "cell_type": "code",
      "execution_count": 58,
      "id": "4B2T734VKDEg",
      "metadata": {
        "colab": {
          "base_uri": "https://localhost:8080/"
        },
        "id": "4B2T734VKDEg",
        "outputId": "004af482-af17-4dcc-dec2-76d001f1eb8a"
      },
      "outputs": [
        {
          "name": "stdout",
          "output_type": "stream",
          "text": [
            "Learning rate set to 0.047158\n",
            "0:\tlearn: 0.6792822\ttest: 0.6814396\tbest: 0.6814396 (0)\ttotal: 700us\tremaining: 104ms\n",
            "3:\tlearn: 0.6416092\ttest: 0.6517457\tbest: 0.6517457 (3)\ttotal: 4.21ms\tremaining: 154ms\n",
            "6:\tlearn: 0.6090224\ttest: 0.6271540\tbest: 0.6271540 (6)\ttotal: 8.04ms\tremaining: 164ms\n",
            "9:\tlearn: 0.5809937\ttest: 0.6053621\tbest: 0.6053621 (9)\ttotal: 9.69ms\tremaining: 136ms\n",
            "12:\tlearn: 0.5589782\ttest: 0.5878850\tbest: 0.5878850 (12)\ttotal: 12.9ms\tremaining: 136ms\n",
            "15:\tlearn: 0.5369785\ttest: 0.5702624\tbest: 0.5702624 (15)\ttotal: 21.9ms\tremaining: 183ms\n",
            "18:\tlearn: 0.5197519\ttest: 0.5575242\tbest: 0.5575242 (18)\ttotal: 23.8ms\tremaining: 164ms\n",
            "21:\tlearn: 0.5041663\ttest: 0.5461250\tbest: 0.5461250 (21)\ttotal: 26.8ms\tremaining: 156ms\n",
            "24:\tlearn: 0.4893764\ttest: 0.5360563\tbest: 0.5360563 (24)\ttotal: 29.9ms\tremaining: 149ms\n",
            "27:\tlearn: 0.4788481\ttest: 0.5291421\tbest: 0.5291421 (27)\ttotal: 31.2ms\tremaining: 136ms\n",
            "30:\tlearn: 0.4659952\ttest: 0.5199996\tbest: 0.5199996 (30)\ttotal: 32.4ms\tremaining: 124ms\n",
            "33:\tlearn: 0.4549468\ttest: 0.5132627\tbest: 0.5132627 (33)\ttotal: 33.7ms\tremaining: 115ms\n",
            "36:\tlearn: 0.4461801\ttest: 0.5081566\tbest: 0.5081566 (36)\ttotal: 35.3ms\tremaining: 108ms\n",
            "39:\tlearn: 0.4384044\ttest: 0.5035259\tbest: 0.5035259 (39)\ttotal: 36.3ms\tremaining: 99.8ms\n",
            "42:\tlearn: 0.4312894\ttest: 0.4987589\tbest: 0.4987589 (42)\ttotal: 37.2ms\tremaining: 92.5ms\n",
            "45:\tlearn: 0.4245750\ttest: 0.4957452\tbest: 0.4957452 (45)\ttotal: 38.2ms\tremaining: 86.5ms\n",
            "48:\tlearn: 0.4200921\ttest: 0.4930245\tbest: 0.4930245 (48)\ttotal: 39.3ms\tremaining: 81ms\n",
            "51:\tlearn: 0.4144793\ttest: 0.4904090\tbest: 0.4904090 (51)\ttotal: 40.6ms\tremaining: 76.4ms\n",
            "54:\tlearn: 0.4094332\ttest: 0.4888354\tbest: 0.4888354 (54)\ttotal: 41.9ms\tremaining: 72.3ms\n",
            "57:\tlearn: 0.4029181\ttest: 0.4851658\tbest: 0.4851658 (57)\ttotal: 43.3ms\tremaining: 68.7ms\n",
            "60:\tlearn: 0.3976635\ttest: 0.4829410\tbest: 0.4829410 (60)\ttotal: 44.4ms\tremaining: 64.7ms\n",
            "63:\tlearn: 0.3939093\ttest: 0.4816616\tbest: 0.4816616 (63)\ttotal: 45.2ms\tremaining: 60.7ms\n",
            "66:\tlearn: 0.3902109\ttest: 0.4801184\tbest: 0.4801184 (66)\ttotal: 46.3ms\tremaining: 57.3ms\n",
            "69:\tlearn: 0.3863762\ttest: 0.4784110\tbest: 0.4784110 (69)\ttotal: 47.3ms\tremaining: 54.1ms\n",
            "72:\tlearn: 0.3831147\ttest: 0.4773617\tbest: 0.4773617 (72)\ttotal: 48.6ms\tremaining: 51.2ms\n",
            "75:\tlearn: 0.3797546\ttest: 0.4756270\tbest: 0.4756270 (75)\ttotal: 50.9ms\tremaining: 49.5ms\n",
            "78:\tlearn: 0.3752090\ttest: 0.4743342\tbest: 0.4743342 (78)\ttotal: 52.2ms\tremaining: 46.9ms\n",
            "81:\tlearn: 0.3727411\ttest: 0.4728787\tbest: 0.4728787 (81)\ttotal: 53.2ms\tremaining: 44.1ms\n",
            "84:\tlearn: 0.3694636\ttest: 0.4715407\tbest: 0.4715407 (84)\ttotal: 54.2ms\tremaining: 41.4ms\n",
            "87:\tlearn: 0.3668750\ttest: 0.4711455\tbest: 0.4711455 (87)\ttotal: 55.1ms\tremaining: 38.8ms\n",
            "90:\tlearn: 0.3641907\ttest: 0.4700428\tbest: 0.4700428 (90)\ttotal: 58.1ms\tremaining: 37.7ms\n",
            "93:\tlearn: 0.3611221\ttest: 0.4688886\tbest: 0.4688886 (93)\ttotal: 59.4ms\tremaining: 35.4ms\n",
            "96:\tlearn: 0.3584101\ttest: 0.4684345\tbest: 0.4684345 (96)\ttotal: 60.8ms\tremaining: 33.2ms\n",
            "99:\tlearn: 0.3554545\ttest: 0.4682899\tbest: 0.4681856 (97)\ttotal: 62.4ms\tremaining: 31.2ms\n",
            "102:\tlearn: 0.3536927\ttest: 0.4675510\tbest: 0.4675510 (102)\ttotal: 63.8ms\tremaining: 29.1ms\n",
            "105:\tlearn: 0.3515172\ttest: 0.4666766\tbest: 0.4666711 (104)\ttotal: 64.9ms\tremaining: 26.9ms\n",
            "108:\tlearn: 0.3494265\ttest: 0.4665220\tbest: 0.4664701 (107)\ttotal: 65.9ms\tremaining: 24.8ms\n",
            "111:\tlearn: 0.3475058\ttest: 0.4661370\tbest: 0.4661370 (111)\ttotal: 66.8ms\tremaining: 22.7ms\n",
            "114:\tlearn: 0.3454052\ttest: 0.4657300\tbest: 0.4657300 (114)\ttotal: 67.8ms\tremaining: 20.6ms\n",
            "117:\tlearn: 0.3434701\ttest: 0.4646011\tbest: 0.4646011 (117)\ttotal: 69.2ms\tremaining: 18.8ms\n",
            "120:\tlearn: 0.3416814\ttest: 0.4645465\tbest: 0.4645465 (120)\ttotal: 70.1ms\tremaining: 16.8ms\n",
            "123:\tlearn: 0.3391772\ttest: 0.4635922\tbest: 0.4635922 (123)\ttotal: 71.7ms\tremaining: 15ms\n",
            "126:\tlearn: 0.3369512\ttest: 0.4631704\tbest: 0.4630881 (125)\ttotal: 73.3ms\tremaining: 13.3ms\n",
            "129:\tlearn: 0.3349720\ttest: 0.4628898\tbest: 0.4628898 (129)\ttotal: 74.4ms\tremaining: 11.4ms\n",
            "132:\tlearn: 0.3326551\ttest: 0.4628190\tbest: 0.4628190 (132)\ttotal: 75.4ms\tremaining: 9.64ms\n",
            "135:\tlearn: 0.3309070\ttest: 0.4620037\tbest: 0.4620037 (135)\ttotal: 76.4ms\tremaining: 7.87ms\n",
            "138:\tlearn: 0.3294776\ttest: 0.4615275\tbest: 0.4615275 (138)\ttotal: 77.3ms\tremaining: 6.12ms\n",
            "141:\tlearn: 0.3276170\ttest: 0.4615303\tbest: 0.4615275 (138)\ttotal: 78.7ms\tremaining: 4.43ms\n",
            "144:\tlearn: 0.3251485\ttest: 0.4607111\tbest: 0.4607111 (144)\ttotal: 80.3ms\tremaining: 2.77ms\n",
            "147:\tlearn: 0.3225851\ttest: 0.4607864\tbest: 0.4607111 (144)\ttotal: 81.8ms\tremaining: 1.1ms\n",
            "149:\tlearn: 0.3208782\ttest: 0.4609148\tbest: 0.4607111 (144)\ttotal: 82.5ms\tremaining: 0us\n",
            "\n",
            "bestTest = 0.4607111467\n",
            "bestIteration = 144\n",
            "\n",
            "Shrink model to first 145 iterations.\n"
          ]
        },
        {
          "data": {
            "text/plain": [
              "<catboost.core.CatBoostClassifier at 0x7eaa4ae7b280>"
            ]
          },
          "execution_count": 58,
          "metadata": {},
          "output_type": "execute_result"
        }
      ],
      "source": [
        "# Напечатаем результаты обучения:\n",
        "from catboost import CatBoostClassifier\n",
        "model = CatBoostClassifier(\n",
        "    iterations=150,\n",
        "#     verbose=5,\n",
        ")\n",
        "model.fit(\n",
        "    X_train, y_train,\n",
        "    eval_set=(X_test, y_test),\n",
        "    verbose = 3\n",
        ")"
      ]
    },
    {
      "cell_type": "markdown",
      "id": "5FOIlnlsKNuM",
      "metadata": {
        "id": "5FOIlnlsKNuM"
      },
      "source": [
        "bestTest = 0.4607111467\n",
        "\n",
        "bestIteration = 144\n",
        "\n",
        "Shrink model to first 145 iterations.\n"
      ]
    },
    {
      "cell_type": "code",
      "execution_count": 63,
      "id": "n9nUWL3aLWOr",
      "metadata": {
        "id": "n9nUWL3aLWOr"
      },
      "outputs": [],
      "source": [
        "#метрика на валидационном наборе данных\n",
        "from catboost import Pool, cv\n",
        "eval_metrics = model.eval_metrics(Pool(X_test, y_test), ['AUC', 'Accuracy'])"
      ]
    },
    {
      "cell_type": "code",
      "execution_count": 67,
      "id": "S3oyu85QLcMl",
      "metadata": {
        "colab": {
          "base_uri": "https://localhost:8080/"
        },
        "id": "S3oyu85QLcMl",
        "outputId": "0580e0f6-b2ec-4349-82a0-25c624764e90"
      },
      "outputs": [
        {
          "name": "stdout",
          "output_type": "stream",
          "text": [
            "AUC on validation set: 0.84\n",
            "Accuracy on validation set: 0.79\n"
          ]
        }
      ],
      "source": [
        "print(\"AUC on validation set: {:.2f}\".format(eval_metrics['AUC'][-1]))\n",
        "print(\"Accuracy on validation set: {:.2f}\".format(eval_metrics['Accuracy'][-1]))"
      ]
    },
    {
      "cell_type": "code",
      "execution_count": 65,
      "id": "W14jQ6nTLg8b",
      "metadata": {
        "colab": {
          "base_uri": "https://localhost:8080/",
          "height": 564
        },
        "id": "W14jQ6nTLg8b",
        "outputId": "d12f8f6d-29c6-4799-fbfe-646d33210c6a"
      },
      "outputs": [
        {
          "data": {
            "image/png": "[encoded data removed]",
            "text/plain": [
              "<Figure size 1000x600 with 1 Axes>"
            ]
          },
          "metadata": {},
          "output_type": "display_data"
        }
      ],
      "source": [
        "plt.figure(figsize=(10, 6))\n",
        "plt.plot(eval_metrics['AUC'], label='AUC')\n",
        "plt.plot(eval_metrics['Accuracy'], label='Accuracy')\n",
        "plt.xlabel('Number of iterations')\n",
        "plt.ylabel('Metric Value')\n",
        "plt.title('Validation Metrics over Iterations')\n",
        "plt.legend()\n",
        "plt.grid(True)\n",
        "plt.show()"
      ]
    },
    {
      "cell_type": "code",
      "execution_count": 69,
      "id": "wjCrHXl_M4sF",
      "metadata": {
        "colab": {
          "base_uri": "https://localhost:8080/"
        },
        "id": "wjCrHXl_M4sF",
        "outputId": "a931965e-f953-42a2-be66-a46ae75dcd22"
      },
      "outputs": [
        {
          "data": {
            "text/plain": [
              "<catboost.core.CatBoostClassifier at 0x7eaa4aa7cbe0>"
            ]
          },
          "execution_count": 69,
          "metadata": {},
          "output_type": "execute_result"
        }
      ],
      "source": [
        "# Наилучшее количество деревьев\n",
        "from catboost import CatBoostClassifier\n",
        "model = CatBoostClassifier(\n",
        "    iterations=100,\n",
        "    random_seed=63,\n",
        "    learning_rate=0.5,\n",
        "#     use_best_model=False\n",
        ")\n",
        "model.fit(\n",
        "    X_train, y_train,\n",
        "    eval_set=(X_test, y_test),\n",
        "    verbose=False\n",
        ")"
      ]
    },
    {
      "cell_type": "code",
      "execution_count": 70,
      "id": "bg2vMETdNDnR",
      "metadata": {
        "colab": {
          "base_uri": "https://localhost:8080/"
        },
        "id": "bg2vMETdNDnR",
        "outputId": "f6edca71-4094-4b15-b63f-689327368045"
      },
      "outputs": [
        {
          "name": "stdout",
          "output_type": "stream",
          "text": [
            "Tree count: 15\n"
          ]
        }
      ],
      "source": [
        "print('Tree count: ' + str(model.tree_count_))"
      ]
    },
    {
      "cell_type": "code",
      "execution_count": 72,
      "id": "4qgIeTFONVWe",
      "metadata": {
        "colab": {
          "base_uri": "https://localhost:8080/"
        },
        "id": "4qgIeTFONVWe",
        "outputId": "38b1afed-376c-4194-fd3d-e9b0636a21a8"
      },
      "outputs": [
        {
          "name": "stdout",
          "output_type": "stream",
          "text": [
            "Training on fold [0/5]\n",
            "\n",
            "bestTest = 0.4587648747\n",
            "bestIteration = 5\n",
            "\n",
            "Training on fold [1/5]\n",
            "\n",
            "bestTest = 0.4521115388\n",
            "bestIteration = 4\n",
            "\n",
            "Training on fold [2/5]\n",
            "\n",
            "bestTest = 0.4117613605\n",
            "bestIteration = 12\n",
            "\n",
            "Training on fold [3/5]\n",
            "\n",
            "bestTest = 0.3531659574\n",
            "bestIteration = 12\n",
            "\n",
            "Training on fold [4/5]\n",
            "\n",
            "bestTest = 0.4135229959\n",
            "bestIteration = 11\n",
            "\n"
          ]
        }
      ],
      "source": [
        "# Кросс-валидация\n",
        "from catboost import cv\n",
        "\n",
        "params = {}\n",
        "params['loss_function'] = 'Logloss'\n",
        "params['iterations'] = 15\n",
        "params['custom_loss'] = 'AUC'\n",
        "params['random_seed'] = 63\n",
        "params['learning_rate'] = 0.5\n",
        "\n",
        "cv_data = cv(\n",
        "    params = params,\n",
        "    pool = Pool(X, label=y),\n",
        "    fold_count=5,\n",
        "    shuffle=True,\n",
        "    partition_random_seed=0,\n",
        "    stratified=False,\n",
        "    verbose=False\n",
        ")"
      ]
    },
    {
      "cell_type": "markdown",
      "id": "vhuorPWZNx-s",
      "metadata": {
        "id": "vhuorPWZNx-s"
      },
      "source": [
        "bestTest = 0.4135229959\n",
        "\n",
        "bestIteration = 11"
      ]
    },
    {
      "cell_type": "code",
      "execution_count": 73,
      "id": "WwXAjtsmNxpm",
      "metadata": {
        "colab": {
          "base_uri": "https://localhost:8080/",
          "height": 206
        },
        "id": "WwXAjtsmNxpm",
        "outputId": "07a8ef60-935b-4d2b-9d00-4b1aa842d70f"
      },
      "outputs": [
        {
          "data": {
            "application/vnd.google.colaboratory.intrinsic+json": {
              "summary": "{\n  \"name\": \"cv_data\",\n  \"rows\": 15,\n  \"fields\": [\n    {\n      \"column\": \"iterations\",\n      \"properties\": {\n        \"dtype\": \"number\",\n        \"std\": 4,\n        \"min\": 0,\n        \"max\": 14,\n        \"num_unique_values\": 15,\n        \"samples\": [\n          9,\n          11,\n          0\n        ],\n        \"semantic_type\": \"\",\n        \"description\": \"\"\n      }\n    },\n    {\n      \"column\": \"test-Logloss-mean\",\n      \"properties\": {\n        \"dtype\": \"number\",\n        \"std\": 0.01771201422374698,\n        \"min\": 0.4289988618063867,\n        \"max\": 0.5011406723085943,\n        \"num_unique_values\": 15,\n        \"samples\": [\n          0.4364438567188914,\n          0.43631140120612544,\n          0.5011406723085943\n        ],\n        \"semantic_type\": \"\",\n        \"description\": \"\"\n      }\n    },\n    {\n      \"column\": \"test-Logloss-std\",\n      \"properties\": {\n        \"dtype\": \"number\",\n        \"std\": 0.013734792403065552,\n        \"min\": 0.017919491892902782,\n        \"max\": 0.06044281043768373,\n        \"num_unique_values\": 15,\n        \"samples\": [\n          0.05335570592466551,\n          0.05995742848609277,\n          0.017919491892902782\n        ],\n        \"semantic_type\": \"\",\n        \"description\": \"\"\n      }\n    },\n    {\n      \"column\": \"train-Logloss-mean\",\n      \"properties\": {\n        \"dtype\": \"number\",\n        \"std\": 0.051851335400978756,\n        \"min\": 0.30035856208196365,\n        \"max\": 0.4903397136005346,\n        \"num_unique_values\": 15,\n        \"samples\": [\n          0.3288241775439048,\n          0.31876821725823296,\n          0.4903397136005346\n        ],\n        \"semantic_type\": \"\",\n        \"description\": \"\"\n      }\n    },\n    {\n      \"column\": \"train-Logloss-std\",\n      \"properties\": {\n        \"dtype\": \"number\",\n        \"std\": 0.0022996089703322814,\n        \"min\": 0.011026925947503877,\n        \"max\": 0.019125805529250244,\n        \"num_unique_values\": 15,\n        \"samples\": [\n          0.013086973631043091,\n          0.015250675856139704,\n          0.019125805529250244\n        ],\n        \"semantic_type\": \"\",\n        \"description\": \"\"\n      }\n    },\n    {\n      \"column\": \"test-AUC-mean\",\n      \"properties\": {\n        \"dtype\": \"number\",\n        \"std\": 0.010869553814491638,\n        \"min\": 0.8256433732016276,\n        \"max\": 0.868094214095608,\n        \"num_unique_values\": 15,\n        \"samples\": [\n          0.8645406969071754,\n          0.8623010161325251,\n          0.8256433732016276\n        ],\n        \"semantic_type\": \"\",\n        \"description\": \"\"\n      }\n    },\n    {\n      \"column\": \"test-AUC-std\",\n      \"properties\": {\n        \"dtype\": \"number\",\n        \"std\": 0.005347329759142637,\n        \"min\": 0.019498983417514396,\n        \"max\": 0.034444004108105386,\n        \"num_unique_values\": 15,\n        \"samples\": [\n          0.029209137453968886,\n          0.03211579434910316,\n          0.028452068401547074\n        ],\n        \"semantic_type\": \"\",\n        \"description\": \"\"\n      }\n    }\n  ]\n}",
              "type": "dataframe",
              "variable_name": "cv_data"
            },
            "text/html": [
              "\n",
              "  <div id=\"df-1b8f21e5-c78a-457d-bd8b-aaaf6d48bcdc\" class=\"colab-df-container\">\n",
              "    <div>\n",
              "<style scoped>\n",
              "    .dataframe tbody tr th:only-of-type {\n",
              "        vertical-align: middle;\n",
              "    }\n",
              "\n",
              "    .dataframe tbody tr th {\n",
              "        vertical-align: top;\n",
              "    }\n",
              "\n",
              "    .dataframe thead th {\n",
              "        text-align: right;\n",
              "    }\n",
              "</style>\n",
              "<table border=\"1\" class=\"dataframe\">\n",
              "  <thead>\n",
              "    <tr style=\"text-align: right;\">\n",
              "      <th></th>\n",
              "      <th>iterations</th>\n",
              "      <th>test-Logloss-mean</th>\n",
              "      <th>test-Logloss-std</th>\n",
              "      <th>train-Logloss-mean</th>\n",
              "      <th>train-Logloss-std</th>\n",
              "      <th>test-AUC-mean</th>\n",
              "      <th>test-AUC-std</th>\n",
              "    </tr>\n",
              "  </thead>\n",
              "  <tbody>\n",
              "    <tr>\n",
              "      <th>0</th>\n",
              "      <td>0</td>\n",
              "      <td>0.501141</td>\n",
              "      <td>0.017919</td>\n",
              "      <td>0.490340</td>\n",
              "      <td>0.019126</td>\n",
              "      <td>0.825643</td>\n",
              "      <td>0.028452</td>\n",
              "    </tr>\n",
              "    <tr>\n",
              "      <th>1</th>\n",
              "      <td>1</td>\n",
              "      <td>0.453266</td>\n",
              "      <td>0.027632</td>\n",
              "      <td>0.420269</td>\n",
              "      <td>0.012628</td>\n",
              "      <td>0.848407</td>\n",
              "      <td>0.023771</td>\n",
              "    </tr>\n",
              "    <tr>\n",
              "      <th>2</th>\n",
              "      <td>2</td>\n",
              "      <td>0.446837</td>\n",
              "      <td>0.031004</td>\n",
              "      <td>0.409071</td>\n",
              "      <td>0.011687</td>\n",
              "      <td>0.848618</td>\n",
              "      <td>0.022968</td>\n",
              "    </tr>\n",
              "    <tr>\n",
              "      <th>3</th>\n",
              "      <td>3</td>\n",
              "      <td>0.436774</td>\n",
              "      <td>0.033429</td>\n",
              "      <td>0.389521</td>\n",
              "      <td>0.011209</td>\n",
              "      <td>0.855247</td>\n",
              "      <td>0.020913</td>\n",
              "    </tr>\n",
              "    <tr>\n",
              "      <th>4</th>\n",
              "      <td>4</td>\n",
              "      <td>0.434929</td>\n",
              "      <td>0.032335</td>\n",
              "      <td>0.376415</td>\n",
              "      <td>0.011027</td>\n",
              "      <td>0.858452</td>\n",
              "      <td>0.020245</td>\n",
              "    </tr>\n",
              "  </tbody>\n",
              "</table>\n",
              "</div>\n",
              "    <div class=\"colab-df-buttons\">\n",
              "\n",
              "  <div class=\"colab-df-container\">\n",
              "    <button class=\"colab-df-convert\" onclick=\"convertToInteractive('df-1b8f21e5-c78a-457d-bd8b-aaaf6d48bcdc')\"\n",
              "            title=\"Convert this dataframe to an interactive table.\"\n",
              "            style=\"display:none;\">\n",
              "\n",
              "  <svg xmlns=\"http://www.w3.org/2000/svg\" height=\"24px\" viewBox=\"0 -960 960 960\">\n",
              "    <path d=\"M120-120v-720h720v720H120Zm60-500h600v-160H180v160Zm220 220h160v-160H400v160Zm0 220h160v-160H400v160ZM180-400h160v-160H180v160Zm440 0h160v-160H620v160ZM180-180h160v-160H180v160Zm440 0h160v-160H620v160Z\"/>\n",
              "  </svg>\n",
              "    </button>\n",
              "\n",
              "  <style>\n",
              "    .colab-df-container {\n",
              "      display:flex;\n",
              "      gap: 12px;\n",
              "    }\n",
              "\n",
              "    .colab-df-convert {\n",
              "      background-color: #E8F0FE;\n",
              "      border: none;\n",
              "      border-radius: 50%;\n",
              "      cursor: pointer;\n",
              "      display: none;\n",
              "      fill: #1967D2;\n",
              "      height: 32px;\n",
              "      padding: 0 0 0 0;\n",
              "      width: 32px;\n",
              "    }\n",
              "\n",
              "    .colab-df-convert:hover {\n",
              "      background-color: #E2EBFA;\n",
              "      box-shadow: 0px 1px 2px rgba(60, 64, 67, 0.3), 0px 1px 3px 1px rgba(60, 64, 67, 0.15);\n",
              "      fill: #174EA6;\n",
              "    }\n",
              "\n",
              "    .colab-df-buttons div {\n",
              "      margin-bottom: 4px;\n",
              "    }\n",
              "\n",
              "    [theme=dark] .colab-df-convert {\n",
              "      background-color: #3B4455;\n",
              "      fill: #D2E3FC;\n",
              "    }\n",
              "\n",
              "    [theme=dark] .colab-df-convert:hover {\n",
              "      background-color: #434B5C;\n",
              "      box-shadow: 0px 1px 3px 1px rgba(0, 0, 0, 0.15);\n",
              "      filter: drop-shadow(0px 1px 2px rgba(0, 0, 0, 0.3));\n",
              "      fill: #FFFFFF;\n",
              "    }\n",
              "  </style>\n",
              "\n",
              "    <script>\n",
              "      const buttonEl =\n",
              "        document.querySelector('#df-1b8f21e5-c78a-457d-bd8b-aaaf6d48bcdc button.colab-df-convert');\n",
              "      buttonEl.style.display =\n",
              "        google.colab.kernel.accessAllowed ? 'block' : 'none';\n",
              "\n",
              "      async function convertToInteractive(key) {\n",
              "        const element = document.querySelector('#df-1b8f21e5-c78a-457d-bd8b-aaaf6d48bcdc');\n",
              "        const dataTable =\n",
              "          await google.colab.kernel.invokeFunction('convertToInteractive',\n",
              "                                                    [key], {});\n",
              "        if (!dataTable) return;\n",
              "\n",
              "        const docLinkHtml = 'Like what you see? Visit the ' +\n",
              "          '<a target=\"_blank\" href=https://colab.research.google.com/notebooks/data_table.ipynb>data table notebook</a>'\n",
              "          + ' to learn more about interactive tables.';\n",
              "        element.innerHTML = '';\n",
              "        dataTable['output_type'] = 'display_data';\n",
              "        await google.colab.output.renderOutput(dataTable, element);\n",
              "        const docLink = document.createElement('div');\n",
              "        docLink.innerHTML = docLinkHtml;\n",
              "        element.appendChild(docLink);\n",
              "      }\n",
              "    </script>\n",
              "  </div>\n",
              "\n",
              "\n",
              "<div id=\"df-777a4651-1495-4444-b5bc-7b149b8d30fa\">\n",
              "  <button class=\"colab-df-quickchart\" onclick=\"quickchart('df-777a4651-1495-4444-b5bc-7b149b8d30fa')\"\n",
              "            title=\"Suggest charts\"\n",
              "            style=\"display:none;\">\n",
              "\n",
              "<svg xmlns=\"http://www.w3.org/2000/svg\" height=\"24px\"viewBox=\"0 0 24 24\"\n",
              "     width=\"24px\">\n",
              "    <g>\n",
              "        <path d=\"M19 3H5c-1.1 0-2 .9-2 2v14c0 1.1.9 2 2 2h14c1.1 0 2-.9 2-2V5c0-1.1-.9-2-2-2zM9 17H7v-7h2v7zm4 0h-2V7h2v10zm4 0h-2v-4h2v4z\"/>\n",
              "    </g>\n",
              "</svg>\n",
              "  </button>\n",
              "\n",
              "<style>\n",
              "  .colab-df-quickchart {\n",
              "      --bg-color: #E8F0FE;\n",
              "      --fill-color: #1967D2;\n",
              "      --hover-bg-color: #E2EBFA;\n",
              "      --hover-fill-color: #174EA6;\n",
              "      --disabled-fill-color: #AAA;\n",
              "      --disabled-bg-color: #DDD;\n",
              "  }\n",
              "\n",
              "  [theme=dark] .colab-df-quickchart {\n",
              "      --bg-color: #3B4455;\n",
              "      --fill-color: #D2E3FC;\n",
              "      --hover-bg-color: #434B5C;\n",
              "      --hover-fill-color: #FFFFFF;\n",
              "      --disabled-bg-color: #3B4455;\n",
              "      --disabled-fill-color: #666;\n",
              "  }\n",
              "\n",
              "  .colab-df-quickchart {\n",
              "    background-color: var(--bg-color);\n",
              "    border: none;\n",
              "    border-radius: 50%;\n",
              "    cursor: pointer;\n",
              "    display: none;\n",
              "    fill: var(--fill-color);\n",
              "    height: 32px;\n",
              "    padding: 0;\n",
              "    width: 32px;\n",
              "  }\n",
              "\n",
              "  .colab-df-quickchart:hover {\n",
              "    background-color: var(--hover-bg-color);\n",
              "    box-shadow: 0 1px 2px rgba(60, 64, 67, 0.3), 0 1px 3px 1px rgba(60, 64, 67, 0.15);\n",
              "    fill: var(--button-hover-fill-color);\n",
              "  }\n",
              "\n",
              "  .colab-df-quickchart-complete:disabled,\n",
              "  .colab-df-quickchart-complete:disabled:hover {\n",
              "    background-color: var(--disabled-bg-color);\n",
              "    fill: var(--disabled-fill-color);\n",
              "    box-shadow: none;\n",
              "  }\n",
              "\n",
              "  .colab-df-spinner {\n",
              "    border: 2px solid var(--fill-color);\n",
              "    border-color: transparent;\n",
              "    border-bottom-color: var(--fill-color);\n",
              "    animation:\n",
              "      spin 1s steps(1) infinite;\n",
              "  }\n",
              "\n",
              "  @keyframes spin {\n",
              "    0% {\n",
              "      border-color: transparent;\n",
              "      border-bottom-color: var(--fill-color);\n",
              "      border-left-color: var(--fill-color);\n",
              "    }\n",
              "    20% {\n",
              "      border-color: transparent;\n",
              "      border-left-color: var(--fill-color);\n",
              "      border-top-color: var(--fill-color);\n",
              "    }\n",
              "    30% {\n",
              "      border-color: transparent;\n",
              "      border-left-color: var(--fill-color);\n",
              "      border-top-color: var(--fill-color);\n",
              "      border-right-color: var(--fill-color);\n",
              "    }\n",
              "    40% {\n",
              "      border-color: transparent;\n",
              "      border-right-color: var(--fill-color);\n",
              "      border-top-color: var(--fill-color);\n",
              "    }\n",
              "    60% {\n",
              "      border-color: transparent;\n",
              "      border-right-color: var(--fill-color);\n",
              "    }\n",
              "    80% {\n",
              "      border-color: transparent;\n",
              "      border-right-color: var(--fill-color);\n",
              "      border-bottom-color: var(--fill-color);\n",
              "    }\n",
              "    90% {\n",
              "      border-color: transparent;\n",
              "      border-bottom-color: var(--fill-color);\n",
              "    }\n",
              "  }\n",
              "</style>\n",
              "\n",
              "  <script>\n",
              "    async function quickchart(key) {\n",
              "      const quickchartButtonEl =\n",
              "        document.querySelector('#' + key + ' button');\n",
              "      quickchartButtonEl.disabled = true;  // To prevent multiple clicks.\n",
              "      quickchartButtonEl.classList.add('colab-df-spinner');\n",
              "      try {\n",
              "        const charts = await google.colab.kernel.invokeFunction(\n",
              "            'suggestCharts', [key], {});\n",
              "      } catch (error) {\n",
              "        console.error('Error during call to suggestCharts:', error);\n",
              "      }\n",
              "      quickchartButtonEl.classList.remove('colab-df-spinner');\n",
              "      quickchartButtonEl.classList.add('colab-df-quickchart-complete');\n",
              "    }\n",
              "    (() => {\n",
              "      let quickchartButtonEl =\n",
              "        document.querySelector('#df-777a4651-1495-4444-b5bc-7b149b8d30fa button');\n",
              "      quickchartButtonEl.style.display =\n",
              "        google.colab.kernel.accessAllowed ? 'block' : 'none';\n",
              "    })();\n",
              "  </script>\n",
              "</div>\n",
              "    </div>\n",
              "  </div>\n"
            ],
            "text/plain": [
              "   iterations  test-Logloss-mean  test-Logloss-std  train-Logloss-mean  \\\n",
              "0           0           0.501141          0.017919            0.490340   \n",
              "1           1           0.453266          0.027632            0.420269   \n",
              "2           2           0.446837          0.031004            0.409071   \n",
              "3           3           0.436774          0.033429            0.389521   \n",
              "4           4           0.434929          0.032335            0.376415   \n",
              "\n",
              "   train-Logloss-std  test-AUC-mean  test-AUC-std  \n",
              "0           0.019126       0.825643      0.028452  \n",
              "1           0.012628       0.848407      0.023771  \n",
              "2           0.011687       0.848618      0.022968  \n",
              "3           0.011209       0.855247      0.020913  \n",
              "4           0.011027       0.858452      0.020245  "
            ]
          },
          "execution_count": 73,
          "metadata": {},
          "output_type": "execute_result"
        }
      ],
      "source": [
        "cv_data.head()"
      ]
    },
    {
      "cell_type": "code",
      "execution_count": 77,
      "id": "7eD-N42IOvh8",
      "metadata": {
        "colab": {
          "base_uri": "https://localhost:8080/"
        },
        "id": "7eD-N42IOvh8",
        "outputId": "d07ca36a-2cca-4b03-dd93-d6935d71339e"
      },
      "outputs": [
        {
          "name": "stdout",
          "output_type": "stream",
          "text": [
            "Training on fold [0/5]\n",
            "\n",
            "bestTest = 0.4790709253\n",
            "bestIteration = 3\n",
            "\n",
            "Training on fold [1/5]\n",
            "\n",
            "bestTest = 0.4636883174\n",
            "bestIteration = 4\n",
            "\n",
            "Training on fold [2/5]\n",
            "\n",
            "bestTest = 0.3677516437\n",
            "bestIteration = 9\n",
            "\n",
            "Training on fold [3/5]\n",
            "\n",
            "bestTest = 0.4070215066\n",
            "bestIteration = 4\n",
            "\n",
            "Training on fold [4/5]\n",
            "\n",
            "bestTest = 0.4288486745\n",
            "bestIteration = 7\n",
            "\n",
            "Best validation Logloss score, stratified: 0.4415±0.0497 on step 5\n"
          ]
        }
      ],
      "source": [
        "import numpy as np\n",
        "from catboost import cv, Pool\n",
        "\n",
        "cv_data = cv(\n",
        "    params=params,\n",
        "    pool=Pool(X, label=y),\n",
        "    fold_count=5,\n",
        "    inverted=False,\n",
        "    shuffle=True,\n",
        "    partition_random_seed=0,\n",
        "    stratified=True,\n",
        "    verbose=False\n",
        ")\n",
        "best_value = np.min(cv_data['test-Logloss-mean'])\n",
        "best_iter = np.argmin(cv_data['test-Logloss-mean'])\n",
        "print('Best validation Logloss score, stratified: {:.4f}±{:.4f} on step {}'.format(\n",
        "    best_value,\n",
        "    cv_data['test-Logloss-std'][best_iter],\n",
        "    best_iter)\n",
        ")"
      ]
    },
    {
      "cell_type": "markdown",
      "id": "Pv8eiB46O7cx",
      "metadata": {
        "id": "Pv8eiB46O7cx"
      },
      "source": [
        "bestTest = 0.4288486745\n",
        "\n",
        "bestIteration = 7\n",
        "\n",
        "Best validation Logloss score, stratified: 0.4415±0.0497 on step 5"
      ]
    }
  ],
  "metadata": {
    "colab": {
      "include_colab_link": true,
      "provenance": []
    },
    "kernelspec": {
      "display_name": "Python 3 (ipykernel)",
      "language": "python",
      "name": "python3"
    },
    "language_info": {
      "codemirror_mode": {
        "name": "ipython",
        "version": 3
      },
      "file_extension": ".py",
      "mimetype": "text/x-python",
      "name": "python",
      "nbconvert_exporter": "python",
      "pygments_lexer": "ipython3",
      "version": "3.11.5"
    }
  },
  "nbformat": 4,
  "nbformat_minor": 5
}
