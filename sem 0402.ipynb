{
 "cells": [
  {
   "cell_type": "code",
   "execution_count": null,
   "metadata": {},
   "outputs": [],
   "source": [
    "X = input() #семинар 3, задача 4   # Преобразую число в строку\n",
    "X1 = X.find(\".\")  # Нахожу индекс символа \".\"\n",
    "first_digit = X[X1 + 1]  # Получу символ следующий после \".\" \n",
    "print(first_digit)  # Вывожу первую цифру после десятичной точки"
   ]
  },
  {
   "cell_type": "code",
   "execution_count": null,
   "metadata": {},
   "outputs": [
    {
     "name": "stdout",
     "output_type": "stream",
     "text": [
      "Привет Как Дела\n"
     ]
    }
   ],
   "source": [
    "string = input(\"Введите строку: \") # задача 3 семинар 4\n",
    "string = string.replace(\"@\", \"\") # Удаляю символы \"@\"\n",
    "string = string.title() # Привожу строки к заголовочному виду\n",
    "print(string)\n"
   ]
  },
  {
   "cell_type": "code",
   "execution_count": null,
   "metadata": {},
   "outputs": [
    {
     "name": "stdout",
     "output_type": "stream",
     "text": [
      "Квадрат числа 5 равен 25\n",
      "Вы ввели не число. Работа программы будет прекращена.\n"
     ]
    }
   ],
   "source": [
    "while True: #задача 1, семинар 4\n",
    "    try:\n",
    "        num = input(\"Введите целое число (для завершения введите 'exit'): \")\n",
    "        if num == \"exit\":\n",
    "            break\n",
    "        num = int(num)\n",
    "        square = num ** 2\n",
    "        print(\"Квадрат числа\", num, \"равен\", square)\n",
    "    except ValueError:\n",
    "        print(\"Вы ввели не число. Работа программы будет прекращена.\")\n",
    "        break\n"
   ]
  },
  {
   "cell_type": "code",
   "execution_count": null,
   "metadata": {},
   "outputs": [],
   "source": [
    "# задание 6, семинар 4\n",
    "while True:\n",
    "    word1 = input(\"Введите первое слово: \")\n",
    "    if len(word1) == 0:\n",
    "        break\n",
    "    word2 = input(\"Введите второе слово: \")\n",
    "    if len(word2) == 0:\n",
    "        break\n",
    "    if word1[-4:] == word2[-4:]:\n",
    "        print(\"Подобранные рифмы!\")\n",
    "    else:\n",
    "        print(\"Рифмы не подобраны!\")"
   ]
  },
  {
   "cell_type": "code",
   "execution_count": null,
   "metadata": {},
   "outputs": [],
   "source": [
    "while True: # задание 3, семинар 4\n",
    "    text = input(\"Введите строку или 'стоп' для завершения: \")\n",
    "    if text.lower() == 'стоп':\n",
    "        break\n",
    "    print(text.title())"
   ]
  },
  {
   "cell_type": "code",
   "execution_count": null,
   "metadata": {},
   "outputs": [],
   "source": [
    "while True: # компьютерная подгруппа, домашка, задача 2\n",
    "    num = int(input(\"Введите целое число (0 для завершения): \"))  # ввожу целое число\n",
    "    if num == 0:  # Если введенное число равно 0, то выхожу из цикла\n",
    "        break\n",
    "    suffix = \"кролик\"  # обозначаю суффикс \"кролик\"\n",
    "    # Проверяю последнюю цифру числа и выбираем соответствующий суффикс\n",
    "    if num % 10 == 1 and num % 100 != 11:\n",
    "        suffix = \"кролик\"\n",
    "    elif num % 10 in [2, 3, 4] and num % 100 not in [12, 13, 14]:\n",
    "        suffix = \"кролика\"\n",
    "    else:\n",
    "        suffix = \"кроликов\"\n",
    "    print(f\"{num} {suffix}\")"
   ]
  },
  {
   "cell_type": "code",
   "execution_count": null,
   "metadata": {},
   "outputs": [],
   "source": [
    "filename = input(\"Введите название файла: \") #задача 5, семинар 2 (компьютерная подгруппа)\n",
    "extension = filename.split(\".\")[-1]\n",
    "print(\"Расширение файла:\", extension)"
   ]
  },
  {
   "cell_type": "code",
   "execution_count": null,
   "metadata": {},
   "outputs": [],
   "source": [
    "try: #задача 11, семинар 2, (компьютерная подгруппа)\n",
    "    a = float(input(\"Введите длину первого катета: \"))\n",
    "    b = float(input(\"Введите длину второго катета: \"))\n",
    "    area = 0.5 * a * b\n",
    "    print(\"Площадь прямоугольного треугольника равна:\", area)\n",
    "except ValueError:\n",
    "    print(\"Некорректный ввод\")"
   ]
  },
  {
   "cell_type": "code",
   "execution_count": null,
   "metadata": {},
   "outputs": [],
   "source": [
    "# 5 семинар (LT)"
   ]
  },
  {
   "cell_type": "code",
   "execution_count": null,
   "metadata": {},
   "outputs": [],
   "source": [
    "numbers = input(\"Введите набор чисел: \") # задача 1\n",
    "numbers_list = numbers.split()\n",
    "numbers_list = [float(num) for num in numbers_list] # Преобразую элементы списка в числа с плавающей точкой с помощью флота\n",
    "total = sum(numbers_list) # затем вычислю сумму\n",
    "average = total / len(numbers_list) # после этого вычислю среднее арифметическое\n",
    "print(\"Среднее арифметическое:\", average)"
   ]
  },
  {
   "cell_type": "code",
   "execution_count": 1,
   "metadata": {},
   "outputs": [
    {
     "name": "stdout",
     "output_type": "stream",
     "text": [
      "[4, 16, 36, 64, 100]\n"
     ]
    }
   ],
   "source": [
    "# numbers = list() #задача 2\n",
    "c = [num ** 2 for num in range(1, 11) if num % 2 == 0]\n",
    "print(c)"
   ]
  },
  {
   "cell_type": "code",
   "execution_count": null,
   "metadata": {},
   "outputs": [],
   "source": [
    "words = [] # задача 3\n",
    "word = input(\"Введите слово (для остановки введите 'стоп'): \")\n",
    "while word.lower() != 'стоп':\n",
    "    words.append(word)\n",
    "    word = input(\"Введите слово (для остановки введите 'стоп'): \")\n",
    "total = len(words)\n",
    "print(\"Было введено слов:\", total)\n",
    "if total > 0:\n",
    "    number = int(input(\"Введите номер слова (от 1 до {}): \".format(total)))\n",
    "    if 1 <= number <= total:\n",
    "        print(\"Слово под номером {}: {}\".format(number, words[number-1]))\n",
    "    else:\n",
    "        print(\"Неверный номер!\")"
   ]
  },
  {
   "cell_type": "code",
   "execution_count": null,
   "metadata": {},
   "outputs": [],
   "source": [
    "numbers = input(\"Введите список чисел через пробел: \").split() # задача 5\n",
    "numbers = [int(num) for num in numbers] # сначала преобразую элементы списка из строк в числа\n",
    "min_index = numbers.index(min(numbers)) # затем найду индекс минимального и максимального числа в списке с помощью min, max\n",
    "max_index = numbers.index(max(numbers))\n",
    "numbers[min_index], numbers[max_index] = numbers[max_index], numbers[min_index] # потом буду менять местами минимальное и максимальное число\n",
    "print(\" \".join(map(str, numbers)))"
   ]
  },
  {
   "cell_type": "code",
   "execution_count": null,
   "metadata": {},
   "outputs": [],
   "source": [
    "numbers = [9, 5, 7, 2, 3, 8]  # задача 4\n",
    "squares = [x ** 2 for x in numbers] # Генератор для получения списка квадратов чисел\n",
    "squares.reverse() # делаю список задом наперед с помощью reverse()\n",
    "print(squares)"
   ]
  },
  {
   "cell_type": "code",
   "execution_count": null,
   "metadata": {},
   "outputs": [],
   "source": [
    "# если то же самое сделать внутри самого списка:\n",
    "numbers = [9, 5, 7, 2, 3, 8]\n",
    "for i in range(len(numbers)): \n",
    "    numbers[i] = numbers[i] ** 2\n",
    "numbers.reverse()\n",
    "print(numbers)\n"
   ]
  },
  {
   "cell_type": "code",
   "execution_count": null,
   "metadata": {},
   "outputs": [],
   "source": [
    "# домашнее задание (5 семинар, теоретич подгруппа)"
   ]
  },
  {
   "cell_type": "code",
   "execution_count": 1,
   "metadata": {},
   "outputs": [
    {
     "name": "stdout",
     "output_type": "stream",
     "text": [
      "[4, 5, 6, 9, 8]\n"
     ]
    }
   ],
   "source": [
    "numbers = [1, 2, 3, 4, 2, 3, 5, 6, 7, 1, 9, 8, 7] # задание 1\n",
    "elements = []\n",
    "for num in numbers:  # Проверяю, сколько раз элемент встречается в списке\n",
    "    if numbers.count(num) == 1:\n",
    "        elements.append(num) # добавляем элемент в список, если встречается один раз\n",
    "print(elements)"
   ]
  },
  {
   "cell_type": "code",
   "execution_count": null,
   "metadata": {},
   "outputs": [],
   "source": [
    "words = [\"арбуз\", \"вася\", \"мама\"] # задание 5\n",
    "sorted_words = sorted(words, key=lambda word: word[::-1]) #принимает каждое слово и возвращает его обратное значение\n",
    "print(sorted_words) "
   ]
  },
  {
   "cell_type": "code",
   "execution_count": 5,
   "metadata": {},
   "outputs": [
    {
     "name": "stdout",
     "output_type": "stream",
     "text": [
      "['банан', 'ёжик', 'ёлка', 'яблоко']\n"
     ]
    }
   ],
   "source": [
    "words = [\"ёжик\", \"яблоко\", \"ёлка\", \"банан\"] # задание 4\n",
    "sorted_words = sorted(words, key=lambda word: word.replace(\"ё\", \"е\"))\n",
    "print(sorted_words)"
   ]
  },
  {
   "cell_type": "code",
   "execution_count": null,
   "metadata": {},
   "outputs": [],
   "source": [
    "string = \"Hello, World!\" # задание 2\n",
    "unilist = list(map(lambda char: ord(char), string)) #использую функцию map, которая применяет лямбда-функцию `lambda` к каждому символу char\n",
    "print(unilist)"
   ]
  },
  {
   "cell_type": "code",
   "execution_count": null,
   "metadata": {},
   "outputs": [],
   "source": [
    "lst = [1, 1, 1, 2, 2, 3, 3, 3] # задание 3\n",
    "elements = len(set(lst)) #удалю из списка дубликаты\n",
    "print(elements)\n"
   ]
  },
  {
   "cell_type": "code",
   "execution_count": null,
   "metadata": {},
   "outputs": [],
   "source": []
  }
 ],
 "metadata": {
  "kernelspec": {
   "display_name": "Python 3",
   "language": "python",
   "name": "python3"
  },
  "language_info": {
   "codemirror_mode": {
    "name": "ipython",
    "version": 3
   },
   "file_extension": ".py",
   "mimetype": "text/x-python",
   "name": "python",
   "nbconvert_exporter": "python",
   "pygments_lexer": "ipython3",
   "version": "3.9.13"
  },
  "orig_nbformat": 4
 },
 "nbformat": 4,
 "nbformat_minor": 2
}
