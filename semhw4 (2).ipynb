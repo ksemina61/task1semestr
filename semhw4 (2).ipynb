{
  "nbformat": 4,
  "nbformat_minor": 0,
  "metadata": {
    "colab": {
      "provenance": []
    },
    "kernelspec": {
      "name": "python3",
      "display_name": "Python 3"
    },
    "language_info": {
      "name": "python"
    }
  },
  "cells": [
    {
      "cell_type": "markdown",
      "source": [
        "Задание 1\n",
        "\n",
        "Напишем класс - имитацию класса Token в spacy: у класса должен быть определенный набор атрибутов, создавать новые нельзя. По умолчанию все атрибуты, кроме text, устанавливаются в None, у класса есть методы для установления этих атрибутов (обычные методы экземпляра)."
      ],
      "metadata": {
        "id": "KbvoqzIOfNPc"
      }
    },
    {
      "cell_type": "code",
      "source": [
        "# Понимаю, что вы засчитали эту задачу, но она все еще была немного сырая\n",
        "# Переделала через свойства property, сделала все атрибуты защищенными, тогда все получилось, в первый раз сделала через геттеры и сеттеры, но получилось не очень\n",
        "class Token:\n",
        "  def __init__(self, text):\n",
        "    self._text = text\n",
        "    self._lemma = None\n",
        "    self._pos = None\n",
        "    self._dep = None\n",
        "    self._ent_type = None\n",
        "  def gettext(self):\n",
        "    return self._text\n",
        "  def settext(self, text):\n",
        "    self._text = text\n",
        "  def getlemma(self):\n",
        "    return self._lemma\n",
        "  def setlemma(self, lemma):\n",
        "    self._lemma = lemma\n",
        "  def getpos(self):\n",
        "    return self._pos\n",
        "  def setpos(self, pos):\n",
        "    self._pos = pos\n",
        "  def getdep(self):\n",
        "    return self._dep\n",
        "  def setdep(self, dep):\n",
        "    self._dep = dep\n",
        "  def getent_type(self):\n",
        "    return self._ent_type\n",
        "  def setent_type(self, ent_type):\n",
        "    self._ent_type = ent_type\n",
        "  text = property(gettext, settext)\n",
        "  lemma = property(getlemma, setlemma)\n",
        "  pos = property(getpos, setpos)\n",
        "  dep = property(getdep, setdep)\n",
        "  ent_type = property(getent_type, setent_type)"
      ],
      "metadata": {
        "id": "RH5T2AuEfMeF"
      },
      "execution_count": null,
      "outputs": []
    },
    {
      "cell_type": "code",
      "source": [
        "token = Token('места')\n",
        "print(f'Token: {token.gettext()}')\n",
        "\n",
        "token.setlemma('место')\n",
        "print(f'Lemma: {token.getlemma()}')\n",
        "\n",
        "token.setpos('NOUN')\n",
        "print(f'POS: {token.getpos()}')\n",
        "\n",
        "token.setdep('nsubj')\n",
        "print(f'Dep: {token.getdep()}')\n",
        "\n",
        "token.setent_type('PLACE')\n",
        "print(f'Entity: {token.getent_type()}')"
      ],
      "metadata": {
        "colab": {
          "base_uri": "https://localhost:8080/"
        },
        "id": "POhwppBsiYMT",
        "outputId": "318a54d3-aee7-49db-824f-2f2b75c24a19"
      },
      "execution_count": null,
      "outputs": [
        {
          "output_type": "stream",
          "name": "stdout",
          "text": [
            "Token: места\n",
            "Lemma: место\n",
            "POS: NOUN\n",
            "Dep: nsubj\n",
            "Entity: PLACE\n"
          ]
        }
      ]
    },
    {
      "cell_type": "markdown",
      "source": [
        "Задача 2.\n",
        "\n",
        "Добавим нашему токену функциональность: пусть при попытке обратиться к его атрибуту lemma, если таковой не существует, экземпляр класса автоматически вызывает лемматизатор (можно пользоваться pymorphy) и возвращает лемму. Если атрибут lemma уже есть, то достаточно вернуть его содержимое."
      ],
      "metadata": {
        "id": "9tOSH_CUYkYZ"
      }
    },
    {
      "cell_type": "code",
      "source": [
        "!pip install pymorphy2"
      ],
      "metadata": {
        "colab": {
          "base_uri": "https://localhost:8080/"
        },
        "id": "BQaE-i5tZYiV",
        "outputId": "a0c02ca5-d983-4036-ed28-b702db24eb41",
        "collapsed": true
      },
      "execution_count": null,
      "outputs": [
        {
          "output_type": "stream",
          "name": "stdout",
          "text": [
            "Collecting pymorphy2\n",
            "  Downloading pymorphy2-0.9.1-py3-none-any.whl.metadata (3.6 kB)\n",
            "Collecting dawg-python>=0.7.1 (from pymorphy2)\n",
            "  Downloading DAWG_Python-0.7.2-py2.py3-none-any.whl.metadata (7.0 kB)\n",
            "Collecting pymorphy2-dicts-ru<3.0,>=2.4 (from pymorphy2)\n",
            "  Downloading pymorphy2_dicts_ru-2.4.417127.4579844-py2.py3-none-any.whl.metadata (2.1 kB)\n",
            "Collecting docopt>=0.6 (from pymorphy2)\n",
            "  Downloading docopt-0.6.2.tar.gz (25 kB)\n",
            "  Preparing metadata (setup.py) ... \u001b[?25l\u001b[?25hdone\n",
            "Downloading pymorphy2-0.9.1-py3-none-any.whl (55 kB)\n",
            "\u001b[2K   \u001b[90m━━━━━━━━━━━━━━━━━━━━━━━━━━━━━━━━━━━━━━━━\u001b[0m \u001b[32m55.5/55.5 kB\u001b[0m \u001b[31m2.4 MB/s\u001b[0m eta \u001b[36m0:00:00\u001b[0m\n",
            "\u001b[?25hDownloading DAWG_Python-0.7.2-py2.py3-none-any.whl (11 kB)\n",
            "Downloading pymorphy2_dicts_ru-2.4.417127.4579844-py2.py3-none-any.whl (8.2 MB)\n",
            "\u001b[2K   \u001b[90m━━━━━━━━━━━━━━━━━━━━━━━━━━━━━━━━━━━━━━━━\u001b[0m \u001b[32m8.2/8.2 MB\u001b[0m \u001b[31m59.8 MB/s\u001b[0m eta \u001b[36m0:00:00\u001b[0m\n",
            "\u001b[?25hBuilding wheels for collected packages: docopt\n",
            "  Building wheel for docopt (setup.py) ... \u001b[?25l\u001b[?25hdone\n",
            "  Created wheel for docopt: filename=docopt-0.6.2-py2.py3-none-any.whl size=13706 sha256=a881739fbf2bde4963b3cd914480d411a7481e386d0cc43066c352276125503b\n",
            "  Stored in directory: /root/.cache/pip/wheels/fc/ab/d4/5da2067ac95b36618c629a5f93f809425700506f72c9732fac\n",
            "Successfully built docopt\n",
            "Installing collected packages: pymorphy2-dicts-ru, docopt, dawg-python, pymorphy2\n",
            "Successfully installed dawg-python-0.7.2 docopt-0.6.2 pymorphy2-0.9.1 pymorphy2-dicts-ru-2.4.417127.4579844\n"
          ]
        }
      ]
    },
    {
      "cell_type": "code",
      "source": [
        "# В итоге я сделала через декораторы @property и @setter\n",
        "import pymorphy2\n",
        "\n",
        "class Token:\n",
        "  def __init__(self, text):\n",
        "    self.text = text\n",
        "    self._lemma = None\n",
        "    self.pos = None\n",
        "    self.dep = None\n",
        "    self.ent_type = None\n",
        "    self.morph = pymorphy2.MorphAnalyzer()\n",
        "  @property\n",
        "  def lemma(self):\n",
        "# Если лемма не установлена, то pymorhphy это сделает, таким образом, не допустит ошибки в программе\n",
        "    if self._lemma is None:\n",
        "      self._lemma = self.morph.parse(self.text)[0].normal_form\n",
        "      return self._lemma\n",
        "  @lemma.setter\n",
        "  def lemma(self, lemma):\n",
        "    self._lemma = lemma\n",
        "  def set_pos(self, pos):\n",
        "    self.pos = pos\n",
        "  def set_dep(self, dep):\n",
        "    self.dep = dep\n",
        "  def set_ent_type(self, ent_type):\n",
        "    self.ent_type = ent_type\n",
        "token = Token('места')\n",
        "print(f'Text: {token.text}')\n",
        "print(f'Lemma: {token.lemma}')  # Автоматическая лемматизация\n",
        "token.set_pos('NOUN')\n",
        "print(f'POS: {token.pos}')\n",
        "token.set_ent_type('MISC')\n",
        "token.set_dep('nsubj')\n",
        "print(f'Nominal subject: {token.dep}')"
      ],
      "metadata": {
        "colab": {
          "base_uri": "https://localhost:8080/"
        },
        "id": "C-KF34W4YZ92",
        "outputId": "7060f4a9-2804-4986-c4df-dca64c6aab79"
      },
      "execution_count": null,
      "outputs": [
        {
          "output_type": "stream",
          "name": "stdout",
          "text": [
            "Text: места\n",
            "Lemma: место\n",
            "POS: NOUN\n",
            "Nominal subject: nsubj\n"
          ]
        }
      ]
    },
    {
      "cell_type": "markdown",
      "source": [
        "Задача 3.\n",
        "\n",
        "Перепишем задачу 2 с полноценным дескриптором Lemmatize."
      ],
      "metadata": {
        "id": "HmKyr07daFlO"
      }
    },
    {
      "cell_type": "code",
      "source": [
        "import pymorphy2\n",
        "\n",
        "class Token:\n",
        "  def __init__(self, text):\n",
        "    self.text = text\n",
        "    self._lemma = None\n",
        "    self.pos = None\n",
        "    self.dep = None\n",
        "    self.ent_type = None\n",
        "    self.morph = pymorphy2.MorphAnalyzer()\n",
        "  @property\n",
        "  def lemma(self):\n",
        "    if self._lemma is None:\n",
        "      self._lemma = self.morph.parse(self.text)[0].normal_form\n",
        "    return self._lemma\n",
        "  @lemma.setter\n",
        "  def lemma(self, lemma):\n",
        "    self._lemma = lemma\n",
        "  def set_pos(self, pos):\n",
        "    self.pos = pos\n",
        "  def set_dep(self, dep):\n",
        "    self.dep = dep\n",
        "  def set_ent_type(self, ent_type):\n",
        "    self.ent_type = ent_type\n",
        "  def lemmatize(self):\n",
        "    if self._lemma is None:\n",
        "      self._lemma = self.morph.parse(self.text)[0].normal_form\n",
        "\n",
        "token = Token('места')\n",
        "print(f'Text: {token.text}')\n",
        "print(f'Lemma: {token.lemma}')\n",
        "token.set_pos('NOUN')\n",
        "print(f'POS: {token.pos}')\n",
        "token.set_ent_type('MISC')\n",
        "token.set_dep('nsubj')\n",
        "print(f'Nominal subject: {token.dep}')\n",
        "\n",
        "token.lemmatize()\n",
        "print(f'Лемма после лемматизации: {token.lemma}')"
      ],
      "metadata": {
        "colab": {
          "base_uri": "https://localhost:8080/"
        },
        "id": "YZPYslN0aJVU",
        "outputId": "86379077-eba9-4825-cd86-1c43a1445b8b"
      },
      "execution_count": null,
      "outputs": [
        {
          "output_type": "stream",
          "name": "stdout",
          "text": [
            "Text: места\n",
            "Lemma: место\n",
            "POS: NOUN\n",
            "Nominal subject: nsubj\n",
            "Лемма после лемматизации: место\n"
          ]
        }
      ]
    },
    {
      "cell_type": "markdown",
      "source": [
        "Задача 4.\n",
        "\n",
        "Напишите класс \"пациент\", у которого есть устанавливаемые атрибуты \"диагноз\" и \"температура\". Атрибут \"температура\" должен устанавливаться таким образом, чтобы пользователь не мог установить нереалистичное значение типа 15, даже используя синтаксис Patient.temperature = 15."
      ],
      "metadata": {
        "id": "9XV-fmE1ax8B"
      }
    },
    {
      "cell_type": "code",
      "source": [
        "class Temperature:\n",
        "  def __get__(self, moment, person):\n",
        "    return moment._temperature\n",
        "  def __set__(self, moment, value):\n",
        "    if 30 <= value <= 42:\n",
        "      moment._temperature = value # устанавливаю значение, если оно в рамках от 30 до 42\n",
        "      print(f'Температура пациента в нормальном диапазоне.')\n",
        "    else:\n",
        "      print(f'Такое значение установить нельзя!')\n",
        "class Patient:\n",
        "  temperature = Temperature() # получается, что так создается экземпляр дескриптора Temperature, привязывая его к атрибуту temperature\n",
        "  def __init__(self, diagnosis, temperature):\n",
        "    self.diagnosis = diagnosis\n",
        "    self.temperature = temperature\n",
        "# Получается, если я сейчас попытаюсь получить доступ к атрибуту, то сначала вызовется __get__, который умеет возвращаться значение\n",
        "# А затем у меня вызовется __set__, который устанавливает значение, в рамках допустимого"
      ],
      "metadata": {
        "id": "GQGkYoZ1zO3Q"
      },
      "execution_count": null,
      "outputs": []
    },
    {
      "cell_type": "code",
      "source": [
        "patient_1 = Patient('Пневмония', 39)\n",
        "print(patient_1.temperature)"
      ],
      "metadata": {
        "colab": {
          "base_uri": "https://localhost:8080/"
        },
        "id": "XjYZxI_e8KFP",
        "outputId": "f2a6f4c1-766c-4338-c5bb-b8c68962358e"
      },
      "execution_count": null,
      "outputs": [
        {
          "output_type": "stream",
          "name": "stdout",
          "text": [
            "Температура пациента в нормальном диапазоне.\n",
            "39\n"
          ]
        }
      ]
    },
    {
      "cell_type": "code",
      "source": [
        "patient_1.temperature = 43\n",
        "print(patient_1.temperature)"
      ],
      "metadata": {
        "colab": {
          "base_uri": "https://localhost:8080/"
        },
        "id": "VXR4qEg_-92O",
        "outputId": "2dc64c90-4526-4652-d0fb-4bc432899715"
      },
      "execution_count": null,
      "outputs": [
        {
          "output_type": "stream",
          "name": "stdout",
          "text": [
            "Такое значение установить нельзя!\n",
            "39\n"
          ]
        }
      ]
    },
    {
      "cell_type": "code",
      "source": [
        "patient_1.temperature = 29\n",
        "print(patient_1.temperature)"
      ],
      "metadata": {
        "colab": {
          "base_uri": "https://localhost:8080/"
        },
        "id": "CJz_y9tG_ICm",
        "outputId": "a66ba8d3-84f6-4395-b95e-ebb0dcb61bbe"
      },
      "execution_count": null,
      "outputs": [
        {
          "output_type": "stream",
          "name": "stdout",
          "text": [
            "Такое значение установить нельзя!\n",
            "39\n"
          ]
        }
      ]
    },
    {
      "cell_type": "markdown",
      "source": [
        "1) методы класса - это методы, к которым используется декоратор @classmethod, они работают только с атрибутами самого класса через параметр cls. Они не имеют доступа к атрибутам экземпляра класса.\n",
        "\n",
        "2) методы экземпляра класса - это методы, которые работают с атрибутами экземпляра класса через параметр self. Также у них есть доступ к атрибутам класса, к которым следует обращаться также через self. В методах экземпляра класса можно вызывать статические методы и методы класса (через self).\n",
        "\n",
        "3) статические методы - это методы, к которым используется декоратор @staticmethod, у которых нет доступа к атрибутам экземпляра класса, формально могут \"видеть\" атрибуты класса через имя самого класса, но это не рекомендуется делать. Это методы, которые выполняют \"сервисную\" функцию для данного класса (например, всякие вычисления). У них нет параметра self и cls. Вызывать эти методы вне класса можно через имя класса."
      ],
      "metadata": {
        "id": "qAHCNrBjvpHg"
      }
    },
    {
      "cell_type": "markdown",
      "source": [
        "Задача 5.\n",
        "\n",
        "Вернемся к нашему классу Token (первому) и добавим ему метод для подсчета количества созданных токенов. Реализуйте два варианта: через статические методы и методы класса."
      ],
      "metadata": {
        "id": "UjgnoT8Ca1Qa"
      }
    },
    {
      "cell_type": "code",
      "source": [
        "# Вариант 1: через статические методы, использую метод staticmethod, пока не в качестве декоратора\n",
        "# создаю переменную для того, чтобы посчитать кол-во токенов\n",
        "class Token:\n",
        "  count = 0\n",
        "  def __init__(self, text):\n",
        "    self._text = text\n",
        "    self._lemma = None\n",
        "    self._pos = None\n",
        "    self._dep = None\n",
        "    self._ent_type = None\n",
        "    Token.count += 1 # счетчик будет увеличиваться  при созданных токенах\n",
        "  def gettext(self):\n",
        "    return self._text\n",
        "  def settext(self, text):\n",
        "    self._text = text\n",
        "  def getlemma(self):\n",
        "    return self._lemma\n",
        "  def setlemma(self, lemma):\n",
        "    self._lemma = lemma\n",
        "  def getpos(self):\n",
        "    return self._pos\n",
        "  def setpos(self, pos):\n",
        "    self._pos = pos\n",
        "  def getdep(self):\n",
        "    return self._dep\n",
        "  def setdep(self, dep):\n",
        "    self._dep = dep\n",
        "  def getent_type(self):\n",
        "    return self._ent_type\n",
        "  def setent_type(self, ent_type):\n",
        "    self._ent_type = ent_type\n",
        "  text = property(gettext, settext)\n",
        "  lemma = property(getlemma, setlemma)\n",
        "  pos = property(getpos, setpos)\n",
        "  dep = property(getdep, setdep)\n",
        "  ent_type = property(getent_type, setent_type)\n",
        "# Верну общее кол-во созданных токенов\n",
        "  def getcount():\n",
        "    return Token.count\n",
        "  token = staticmethod(getcount)"
      ],
      "metadata": {
        "id": "iF_-gNPcm50Q"
      },
      "execution_count": null,
      "outputs": []
    },
    {
      "cell_type": "code",
      "source": [
        "token1 = Token('Python')\n",
        "token2 = Token('is')\n",
        "token3 = Token('the')\n",
        "token4 = Token('best')\n",
        "print(f'Количество токенов = {Token.getcount()}.')"
      ],
      "metadata": {
        "colab": {
          "base_uri": "https://localhost:8080/"
        },
        "id": "ua729SH5F2bq",
        "outputId": "e40c6a16-d9fe-4352-c4fc-ee382fa33da8"
      },
      "execution_count": null,
      "outputs": [
        {
          "output_type": "stream",
          "name": "stdout",
          "text": [
            "Количество токенов = 4.\n"
          ]
        }
      ]
    },
    {
      "cell_type": "code",
      "source": [
        "# Вариант 2: реализация через методы класса, а вот здесь попробую декоратор @classmethod\n",
        "class Token:\n",
        "  count = 0\n",
        "  def __init__(self, text):\n",
        "    self._text = text\n",
        "    self._lemma = None\n",
        "    self._pos = None\n",
        "    self._dep = None\n",
        "    self._ent_type = None\n",
        "    Token.count += 1\n",
        "  def gettext(self):\n",
        "    return self._text\n",
        "  def settext(self, text):\n",
        "    self._text = text\n",
        "  def getlemma(self):\n",
        "    return self._lemma\n",
        "  def setlemma(self, lemma):\n",
        "    self._lemma = lemma\n",
        "  def getpos(self):\n",
        "    return self._pos\n",
        "  def setpos(self, pos):\n",
        "    self._pos = pos\n",
        "  def getdep(self):\n",
        "    return self._dep\n",
        "  def setdep(self, dep):\n",
        "    self._dep = dep\n",
        "  def getent_type(self):\n",
        "    return self._ent_type\n",
        "  def setent_type(self, ent_type):\n",
        "    self._ent_type = ent_type\n",
        "  text = property(gettext, settext)\n",
        "  lemma = property(getlemma, setlemma)\n",
        "  pos = property(getpos, setpos)\n",
        "  dep = property(getdep, setdep)\n",
        "  ent_type = property(getent_type, setent_type)\n",
        "  @classmethod\n",
        "  def get_count(cls):\n",
        "    return cls.count"
      ],
      "metadata": {
        "id": "b_Xm9hsGH6D8"
      },
      "execution_count": null,
      "outputs": []
    },
    {
      "cell_type": "code",
      "source": [
        "token1 = Token('Python')\n",
        "token2 = Token('is')\n",
        "token3 = Token('the')\n",
        "token4 = Token('best')\n",
        "print(f'Количество токенов = {Token.get_count()}.')"
      ],
      "metadata": {
        "colab": {
          "base_uri": "https://localhost:8080/"
        },
        "id": "AewSB15QJzdu",
        "outputId": "9f378b66-42a3-4288-8f6b-44b9bfee7fab"
      },
      "execution_count": null,
      "outputs": [
        {
          "output_type": "stream",
          "name": "stdout",
          "text": [
            "Количество токенов = 4.\n"
          ]
        }
      ]
    },
    {
      "cell_type": "markdown",
      "source": [
        "Задача 1 (10 баллов).\n",
        "\n",
        "\n",
        "Напишите программу - базу данных для ветеринарной клиники (мы что-то подобное уже делали, если есть старый код - можно его доработать). В базе данных (можете для хранения смело использовать pickle) хранятся записи о питомцах, их хозяевах и даты записи на прием, а также комментарии ветеринара, если прием уже состоялся. Таким образом, нам понадобятся:\n",
        "\n",
        "класс \"клиент\", в котором будет храниться имя и контакты хозяина, а также его питомцы.\n",
        "класс \"питомец\", в котором будут храниться имя и возраст питомца, даты записи на прием (можно реализовать как меняющийся атрибут \"текущий прием\", если питомца хотят привести, и атрибут-список или словарь \"приемы\", куда будут добавляться прошедшие приемы).\n",
        "общий класс \"база\", где будут храниться клиенты. По базе можно осуществлять поиск клиента по имени или по номеру телефона.\n",
        "дескрипторы / property, чтобы нельзя было вместо имени записать чепуху, указать питомцу возраст недопустимого значения и можно еще телефон проверять.\n",
        "в основном коде программы должна быть возможность посмотреть записи о прошедших приемах, наличие записи на текущий прием; возможность отыскать клиента и установить для одного из его питомцев (видимо, понадобится уметь выводить список питомцев) дату нового приема, а также отметить, что прием уже состоялся, и внести комментарий ветеринара.\n",
        "Ну и, конечно, базу данных можно сохранять. Можно это делать при выборе \"выйти из программы\".\n",
        "Эту задачу можно написать в тетрадке, если хочется, но, возможно, будет удобнее в py."
      ],
      "metadata": {
        "id": "-8GFts9ta6Sw"
      }
    },
    {
      "cell_type": "code",
      "source": [
        "import pickle\n",
        "# Мне кажется, что проще это сделать через декораторы, так как это значительно сократит код"
      ],
      "metadata": {
        "id": "-fpYmNDWNaeK"
      },
      "execution_count": null,
      "outputs": []
    },
    {
      "cell_type": "code",
      "source": [
        "class Pet:\n",
        "  def __init__(self, name, age):\n",
        "    self._name = name\n",
        "    self._age = age\n",
        "    self.registrations = list()\n",
        "    self.today_registrations = None\n",
        "\n",
        "  @property\n",
        "  def name(self):\n",
        "    return self._name\n",
        "\n",
        "  @name.setter\n",
        "  def name(self, value):\n",
        "    if not isinstance(value, str):\n",
        "      raise ValueError('Имя питомца должно быть строкой')\n",
        "    if not value.strip():\n",
        "      raise ValueError('Имя питомца не должно быть пустым')\n",
        "    self._name = value\n",
        "\n",
        "  @property\n",
        "  def age(self):\n",
        "    return self._age\n",
        "\n",
        "  @age.setter\n",
        "  def age(self, value):\n",
        "    if not isinstance(value, str):\n",
        "      raise ValueError('Возраст должен вводиться как строка')\n",
        "    if value <= 0:\n",
        "      raise ValueError('Возраст не может быть меньше 0!')\n",
        "    self._age = value\n",
        "\n",
        "  def add_registrations(self, date):\n",
        "    if self.today_registrations:\n",
        "      raise ValueError('У питомца есть запись на прием.')\n",
        "    self.today_registrations = date\n",
        "\n",
        "  def registrations_completed(self, comment):\n",
        "    if not self.today_registrations:\n",
        "      raise ValueError('Нет записи на прием.')\n",
        "    self.registrations.append((self.today_registrations, comment))\n",
        "    self.today_registrations = None"
      ],
      "metadata": {
        "id": "a3lwmORZTAhG"
      },
      "execution_count": null,
      "outputs": []
    },
    {
      "cell_type": "code",
      "source": [
        "class Client:\n",
        "  def __init__(self, name, phone, pets = None):\n",
        "    self._name = name\n",
        "    self._phone = phone\n",
        "    self.pets = list()\n",
        "    self.pets = pets if pets is not None else []\n",
        "\n",
        "  @property\n",
        "  def name(self):\n",
        "    return self._name\n",
        "\n",
        "  @name.setter\n",
        "  def name(self, value):\n",
        "    if not isinstance(value, str):\n",
        "      raise ValueError\n",
        "    if not value.strip():\n",
        "      raise ValueError('Имя не может быть пустым')\n",
        "      self._name = value\n",
        "\n",
        "  @property\n",
        "  def phone(self):\n",
        "    return self._phone\n",
        "\n",
        "  @phone.setter\n",
        "  def phone(self, value):\n",
        "    if not isinstance(value, str):\n",
        "      raise ValueError('Номер телефона должен вводиться как строка')\n",
        "    if not value.isdigit():\n",
        "      raise ValueError('Номер телефона состоит только из цифр')\n",
        "    if len(value) != 10:\n",
        "      raise ValueError('Номер телефона должен состоять из 10 цифр')\n",
        "    self._phone = value\n",
        "\n",
        "  def add_pet(self, pet):\n",
        "    self.pets.append(pet)\n",
        "\n",
        "  def __str__(self):\n",
        "    return f'Клиент: {self.name}, Номер телефона: {self.phone}, Питомец: {self.pets}'"
      ],
      "metadata": {
        "id": "DcZGy37aLwN0"
      },
      "execution_count": null,
      "outputs": []
    },
    {
      "cell_type": "code",
      "source": [
        "class Database:\n",
        "  def __init__(self):\n",
        "    self.clients = [] # в базе данных здесь будут храниться клиенты\n",
        "  def add_client(self, client):\n",
        "    self.clients.append(client)\n",
        "  def find_client_by_name(self, name):\n",
        "# Я использую генератор списка, так как если я буду расписать через циклы, то получится большой код\n",
        "# метож find_client нужен для поиска клиентов\n",
        "    return [client for client in self.clients if client.name.lower() == name.lower()] # приведу к нижнему регистру, чтобы не возникало ошибок\n",
        "  def find_client_by_phone(self, phone):\n",
        "# впринципе здесь тоже самое, но ищется клиент уже по номеру телефона\n",
        "    return [client for client in self.clients if client.phone == phone]\n",
        "# Дальше я должна сохранить список клиентов в файл, в переменную filename будут сохраняться данные\n",
        "  def save_to_file(self, filename):\n",
        "# Сериализация\n",
        "# На всякий случай: Сериализация данных — это преобразование данных, обрабатываемых в программе (структур и объектов) в форматы, которые можно хранить и передавать.\n",
        "#Задача состоит в том, чтобы можно было в дальнейшем воссоздать точную копию сохранённых данных, не утратив какую‑либо информацию.\n",
        "# pickle.dump() используется для записи сериализованного байтового представления объекта в указанный файл или похожий на файл объект\n",
        "    with open(filename, 'wb') as file:\n",
        "      pickle.dump(self.clients, file)\n",
        "  def load_from_file(self, filename):\n",
        "# Десериализация — это процесс преобразования сериализованного объекта в исходную структуру данных.\n",
        "    try:\n",
        "      with open(filename, 'rb') as file:\n",
        "        self.clients = pickle.load(file)\n",
        "    except FileNotFoundError:\n",
        "      print('Файл не найден.')"
      ],
      "metadata": {
        "id": "ySGvjoAnLz5P"
      },
      "execution_count": null,
      "outputs": []
    },
    {
      "cell_type": "code",
      "source": [
        "# До этого момента все было хорошо, но потом мне пришлось поломать голову... Делала через класс, но где-то неправильно сделала, не работал код\n",
        "# В итоге пошла старым трудным, но проверенным методом - через циклы...\n",
        "from datetime import datetime\n",
        "def main():\n",
        "  data = Database()\n",
        "# Через цикл while будет выдаваться меню с выборами, где нужно будет указывать только цифру\n",
        "  while True:\n",
        "    print('1. Добавить клиента')\n",
        "    print('2. Найти клиента')\n",
        "    print('3. Добавить питомца')\n",
        "    print('4. Записать питомца на прием')\n",
        "    print('5. Завершить прием питомца')\n",
        "    print('6. Посмотреть записи о приемах')\n",
        "    print('7. Сохранить базу данных')\n",
        "    print('8. Загрузить базу данных')\n",
        "    print('9. Выход')\n",
        "    choice = input('Выберите действие: ')\n",
        "# Логично, что сначала добавляется клиент через метод add_client, который реализован в классе Database\n",
        "    if choice == '1':\n",
        "      name = input('Введите имя клиента: ')\n",
        "      client = Client(name, input('Введите телефон клиента (10 цифр): '))\n",
        "      data.add_client(client)\n",
        "# Ищется имя клиента и номер телефона\n",
        "    elif choice == '2':\n",
        "      name = input('Введите имя клиента для поиска: ')\n",
        "      clients = data.find_client_by_name(name)\n",
        "      for client in clients:\n",
        "        print(f'Клиент: {client.name}, Телефон: {client.phone}')\n",
        "# Добавляется питомец с привязкой к имени клиента\n",
        "    elif choice == '3':\n",
        "      name = input('Введите имя клиента: ')\n",
        "      clients = data.find_client_by_name(name)\n",
        "      if clients:\n",
        "        pet_name = input('Введите имя питомца: ')\n",
        "        pet_age = int(input('Введите возраст питомца: '))\n",
        "        pet = Pet(pet_name, pet_age)\n",
        "        clients[0].add_pet(pet)\n",
        "        print(f'Питомец {pet_name} добавлен к клиенту {name}.')\n",
        "      else:\n",
        "        print(f'Клиент не найден.')\n",
        "    elif choice == '4':\n",
        "      name = input('Введите имя клиента: ')\n",
        "      clients = data.find_client_by_name(name) # из класса DataBase ищу клиента по имени\n",
        "      if clients:\n",
        "        print('Питомцы:')\n",
        "# У каждого питомца индекс = 0, который увеличивается на 1 при выводе\n",
        "        for idx, pet in enumerate(clients[0].pets):\n",
        "            print(f'{idx + 1}. {pet.name}')\n",
        "# Когда пользователь введет номер питомца для выбора, его индексация уменьшится на один, в списке она начинается с 0\n",
        "        pet_index = int(input('Выберите питомца по номеру: ')) - 1\n",
        "        if 0 <= pet_index < len(clients[0].pets):\n",
        "            date = input('Введите дату приема (YYYY-MM-DD): ')\n",
        "            try:\n",
        "                # Проверка формата даты\n",
        "                datetime.strptime(date, '%Y-%m-%d')\n",
        "                clients[0].pets[pet_index].add_registrations(date)\n",
        "                print(f'Питомец {clients[0].pets[pet_index].name} записан на прием.')\n",
        "            except ValueError:\n",
        "                print('Неверный формат даты. Используйте YYYY-MM-DD.')\n",
        "        else:\n",
        "            print('Неверный номер питомца.')\n",
        "      else:\n",
        "        print('Клиент не найден.')\n",
        "\n",
        "    elif choice == '5':\n",
        "      name = input('Введите имя клиента: ')\n",
        "      clients = data.find_client_by_name(name)\n",
        "      if clients:\n",
        "        for idx, pet in enumerate(clients[0].pets):\n",
        "          print(f'{idx + 1}. {pet.name}')\n",
        "        pet_index = int(input('Выберите питомца по номеру: ')) - 1\n",
        "        comment = input('Введите комментарий ветеринара: ')\n",
        "        clients[0].pets[pet_index].registrations_completed(comment)\n",
        "        print(f'Прием для питомца {clients[0].pets[pet_index].name} завершен.')\n",
        "      else:\n",
        "        print('Клиент не найден.')\n",
        "# Выводит записи о приемах\n",
        "    elif choice == '6':\n",
        "      name = input('Введите имя клиента: ')\n",
        "      clients = data.find_client_by_name(name)\n",
        "      if clients:\n",
        "        for pet in clients[0].pets:\n",
        "          print(f'Питомец: {pet.name}, Приемы: {pet.registrations}')\n",
        "      else:\n",
        "        print('Клиент не найден.')\n",
        "# Сохраняет базу данных\n",
        "    elif choice == '7':\n",
        "      filename = input('Введите имя файла для сохранения: ')\n",
        "      data.save_to_file(filename)\n",
        "      print('База данных сохранена.')\n",
        "\n",
        "    elif choice == '8':\n",
        "      filename = input('Введите имя файла для загрузки: ')\n",
        "      data.load_from_file(filename)\n",
        "      print('База данных загружена.')\n",
        "\n",
        "    elif choice == '9':\n",
        "      break\n",
        "\n",
        "    else:\n",
        "      print('Неверный выбор. Попробуйте снова.')"
      ],
      "metadata": {
        "id": "zhlPkhPrSo8H"
      },
      "execution_count": null,
      "outputs": []
    },
    {
      "cell_type": "code",
      "source": [
        "if __name__ == '__main__':\n",
        "  main()"
      ],
      "metadata": {
        "colab": {
          "base_uri": "https://localhost:8080/"
        },
        "id": "5TKdXetsRpVY",
        "outputId": "b603c651-edc4-4bef-96f3-9018fb6768d5"
      },
      "execution_count": null,
      "outputs": [
        {
          "name": "stdout",
          "output_type": "stream",
          "text": [
            "1. Добавить клиента\n",
            "2. Найти клиента\n",
            "3. Добавить питомца\n",
            "4. Записать питомца на прием\n",
            "5. Завершить прием питомца\n",
            "6. Посмотреть записи о приемах\n",
            "7. Сохранить базу данных\n",
            "8. Загрузить базу данных\n",
            "9. Выход\n",
            "Выберите действие: 1\n",
            "Введите имя клиента: Алекс\n",
            "Введите телефон клиента (10 цифр): 8800555032\n",
            "1. Добавить клиента\n",
            "2. Найти клиента\n",
            "3. Добавить питомца\n",
            "4. Записать питомца на прием\n",
            "5. Завершить прием питомца\n",
            "6. Посмотреть записи о приемах\n",
            "7. Сохранить базу данных\n",
            "8. Загрузить базу данных\n",
            "9. Выход\n",
            "Выберите действие: 1\n",
            "Введите имя клиента: Оливия\n",
            "Введите телефон клиента (10 цифр): 8999675314\n",
            "1. Добавить клиента\n",
            "2. Найти клиента\n",
            "3. Добавить питомца\n",
            "4. Записать питомца на прием\n",
            "5. Завершить прием питомца\n",
            "6. Посмотреть записи о приемах\n",
            "7. Сохранить базу данных\n",
            "8. Загрузить базу данных\n",
            "9. Выход\n",
            "Выберите действие: 2\n",
            "Введите имя клиента для поиска: Алекс\n",
            "Клиент: Алекс, Телефон: 8800555032\n",
            "1. Добавить клиента\n",
            "2. Найти клиента\n",
            "3. Добавить питомца\n",
            "4. Записать питомца на прием\n",
            "5. Завершить прием питомца\n",
            "6. Посмотреть записи о приемах\n",
            "7. Сохранить базу данных\n",
            "8. Загрузить базу данных\n",
            "9. Выход\n",
            "Выберите действие: 2\n",
            "Введите имя клиента для поиска: Оливия\n",
            "Клиент: Оливия, Телефон: 8999675314\n",
            "1. Добавить клиента\n",
            "2. Найти клиента\n",
            "3. Добавить питомца\n",
            "4. Записать питомца на прием\n",
            "5. Завершить прием питомца\n",
            "6. Посмотреть записи о приемах\n",
            "7. Сохранить базу данных\n",
            "8. Загрузить базу данных\n",
            "9. Выход\n",
            "Выберите действие: 3\n",
            "Введите имя клиента: Алекс\n",
            "Введите имя питомца: Дуву\n",
            "Введите возраст питомца: 7\n",
            "Питомец Дуву добавлен к клиенту Алекс.\n",
            "1. Добавить клиента\n",
            "2. Найти клиента\n",
            "3. Добавить питомца\n",
            "4. Записать питомца на прием\n",
            "5. Завершить прием питомца\n",
            "6. Посмотреть записи о приемах\n",
            "7. Сохранить базу данных\n",
            "8. Загрузить базу данных\n",
            "9. Выход\n",
            "Выберите действие: 3\n",
            "Введите имя клиента: Оливия\n",
            "Введите имя питомца: Кот\n",
            "Введите возраст питомца: 15\n",
            "Питомец Кот добавлен к клиенту Оливия.\n",
            "1. Добавить клиента\n",
            "2. Найти клиента\n",
            "3. Добавить питомца\n",
            "4. Записать питомца на прием\n",
            "5. Завершить прием питомца\n",
            "6. Посмотреть записи о приемах\n",
            "7. Сохранить базу данных\n",
            "8. Загрузить базу данных\n",
            "9. Выход\n",
            "Выберите действие: 4\n",
            "Введите имя клиента: Алекс\n",
            "Питомцы:\n",
            "1. Дуву\n",
            "Выберите питомца по номеру: 1\n",
            "Введите дату приема (YYYY-MM-DD): 2024-10-21\n",
            "Питомец Дуву записан на прием.\n",
            "1. Добавить клиента\n",
            "2. Найти клиента\n",
            "3. Добавить питомца\n",
            "4. Записать питомца на прием\n",
            "5. Завершить прием питомца\n",
            "6. Посмотреть записи о приемах\n",
            "7. Сохранить базу данных\n",
            "8. Загрузить базу данных\n",
            "9. Выход\n",
            "Выберите действие: 4\n",
            "Введите имя клиента: Оливия\n",
            "Питомцы:\n",
            "1. Кот\n",
            "Выберите питомца по номеру: 1\n",
            "Введите дату приема (YYYY-MM-DD): 2024-10-21\n",
            "Питомец Кот записан на прием.\n",
            "1. Добавить клиента\n",
            "2. Найти клиента\n",
            "3. Добавить питомца\n",
            "4. Записать питомца на прием\n",
            "5. Завершить прием питомца\n",
            "6. Посмотреть записи о приемах\n",
            "7. Сохранить базу данных\n",
            "8. Загрузить базу данных\n",
            "9. Выход\n",
            "Выберите действие: 5\n",
            "Введите имя клиента: Алекс\n",
            "1. Дуву\n",
            "Выберите питомца по номеру: 1\n",
            "Введите комментарий ветеринара: операция\n",
            "Прием для питомца Дуву завершен.\n",
            "1. Добавить клиента\n",
            "2. Найти клиента\n",
            "3. Добавить питомца\n",
            "4. Записать питомца на прием\n",
            "5. Завершить прием питомца\n",
            "6. Посмотреть записи о приемах\n",
            "7. Сохранить базу данных\n",
            "8. Загрузить базу данных\n",
            "9. Выход\n",
            "Выберите действие: 5\n",
            "Введите имя клиента: Оливия\n",
            "1. Кот\n",
            "Выберите питомца по номеру: 1\n",
            "Введите комментарий ветеринара: операция\n",
            "Прием для питомца Кот завершен.\n",
            "1. Добавить клиента\n",
            "2. Найти клиента\n",
            "3. Добавить питомца\n",
            "4. Записать питомца на прием\n",
            "5. Завершить прием питомца\n",
            "6. Посмотреть записи о приемах\n",
            "7. Сохранить базу данных\n",
            "8. Загрузить базу данных\n",
            "9. Выход\n",
            "Выберите действие: 6\n",
            "Введите имя клиента: Алекс\n",
            "Питомец: Дуву, Приемы: [('2024-10-21', 'операция')]\n",
            "1. Добавить клиента\n",
            "2. Найти клиента\n",
            "3. Добавить питомца\n",
            "4. Записать питомца на прием\n",
            "5. Завершить прием питомца\n",
            "6. Посмотреть записи о приемах\n",
            "7. Сохранить базу данных\n",
            "8. Загрузить базу данных\n",
            "9. Выход\n",
            "Выберите действие: 6\n",
            "Введите имя клиента: Оливия\n",
            "Питомец: Кот, Приемы: [('2024-10-21', 'операция')]\n",
            "1. Добавить клиента\n",
            "2. Найти клиента\n",
            "3. Добавить питомца\n",
            "4. Записать питомца на прием\n",
            "5. Завершить прием питомца\n",
            "6. Посмотреть записи о приемах\n",
            "7. Сохранить базу данных\n",
            "8. Загрузить базу данных\n",
            "9. Выход\n",
            "Выберите действие: 7\n",
            "Введите имя файла для сохранения: python date_checker.py\n",
            "База данных сохранена.\n",
            "1. Добавить клиента\n",
            "2. Найти клиента\n",
            "3. Добавить питомца\n",
            "4. Записать питомца на прием\n",
            "5. Завершить прием питомца\n",
            "6. Посмотреть записи о приемах\n",
            "7. Сохранить базу данных\n",
            "8. Загрузить базу данных\n",
            "9. Выход\n",
            "Выберите действие: 8\n",
            "Введите имя файла для загрузки: python date_checker.py\n",
            "База данных загружена.\n",
            "1. Добавить клиента\n",
            "2. Найти клиента\n",
            "3. Добавить питомца\n",
            "4. Записать питомца на прием\n",
            "5. Завершить прием питомца\n",
            "6. Посмотреть записи о приемах\n",
            "7. Сохранить базу данных\n",
            "8. Загрузить базу данных\n",
            "9. Выход\n",
            "Выберите действие: 9\n"
          ]
        }
      ]
    }
  ]
}