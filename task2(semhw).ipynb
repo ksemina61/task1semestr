{
  "cells": [
    {
      "cell_type": "markdown",
      "metadata": {
        "colab_type": "text",
        "id": "view-in-github"
      },
      "source": [
        "<a href=\"https://colab.research.google.com/github/ksemina61/task1semestr/blob/main/task2(semhw).ipynb\" target=\"_parent\"><img src=\"https://colab.research.google.com/assets/colab-badge.svg\" alt=\"Open In Colab\"/></a>"
      ]
    },
    {
      "cell_type": "markdown",
      "metadata": {
        "id": "bwF_VkYYk-8m"
      },
      "source": [
        "Задача 1 (3 балла).\n",
        "\n",
        "\n",
        "Разовьем тему с бойцами.\n",
        "\n",
        "Напишите игру (можно взять свой старый код в качестве базы), где игроку будет предложено выбрать класс героя: волшебник или боец. Вы должны учесть возможность добавления новых игровых классов (используйте наследование). У волшебника и бойца немного разные атрибуты (можно атрибуты сделать одинаковые в классе-родителе, но разные коэффициенты в классах-детях, на которые они домножаются: например, здоровье волшебника будет 1.0 от стандартного значения, а здоровье бойца - 1.5, а с маной наоборот).\n",
        "\n",
        "Также у них будут разные методы \"нанести удар\" и, если хотите, приветствия. Также у нашего героя, кем бы он ни был, должен быть рюкзак, в котором можно рыться и хранить ограниченный набор вещей (в частности, там хранятся зелья: по умолчанию пусть в начале игры каждому персонажу дается по три зелья).\n",
        "\n",
        "Наконец, нужен класс для противника: можете придумать любого монстра (тоже с возможностью добавления новых монстров, очевидно), с которым герой будет сражаться. Во время сражения неплохо предоставлять игроку выбор вида \"нанести удар - выпить зелье\", а сам урон от удара можно немного рандомизировать с помощью одноименного модуля. Можно еще реализовать и метод sleep для мирного времени, но во время боя он, конечно, не понадобится."
      ]
    },
    {
      "cell_type": "code",
      "execution_count": null,
      "metadata": {
        "id": "vNimIGk2k02L"
      },
      "outputs": [],
      "source": [
        "import random\n",
        "class Heros:\n",
        "  def __init__(self, name):\n",
        "    self.name = name\n",
        "    self.health = 100\n",
        "    self.potions = 3\n",
        "    self.energy = 50\n",
        "\n",
        "  def attack(self):\n",
        "    raise NotImplementedError\n",
        "\n",
        "\n",
        "  def drink_potion(self):\n",
        "    if self.potions > 0:\n",
        "      print(f'Игрок {self.name} ищет зелье в рюкзаке!')\n",
        "      self.health += 10\n",
        "      self.potions -= 1\n",
        "      print(f'Игрок {self.name} выпил зелье! На данный момент здоровье: {self.name}, количество зелий: {self.potions}')\n",
        "    else:\n",
        "      print(f'{self.name} больше не имеет зелий!')\n",
        "# В этом методе вычитается урон из здоровья персонажа, я попробовала перевести damage во флоты, чтобы не произошло ошибки, однако непосредственно перед запуском игры он при каждой атаке печатает то, что находится в ValueError\n",
        "  def sub(self, damage):\n",
        "    try:\n",
        "      damage = float(damage) # преобразовала damage во флоты, и использовала try и except, чтобы внутри кода не возникла ошибка\n",
        "      self.health -= damage\n",
        "      if self.health < 0:\n",
        "        self.health = 0\n",
        "    except ValueError:\n",
        "      print('Ошибка: значение урона должно быть числом.')"
      ]
    },
    {
      "cell_type": "code",
      "execution_count": null,
      "metadata": {
        "id": "ipZXJmd1jWlK"
      },
      "outputs": [],
      "source": [
        "class Wizzard(Heros):\n",
        "  def __init__(self, name):\n",
        "    super().__init__(name) # множественное наследование, которое унаследует из родительского класса некоторые признаки\n",
        "    self.health *= 1.0\n",
        "    self.energy *= 1.5\n",
        "\n",
        "  def __str__(self):\n",
        "    return f'{self.name}'\n",
        "\n",
        "  def greet(self):\n",
        "    return f'Соберитесь, храбрые сердца, под убаюкивающий свет моей волшебной палочки, Я {self.name}, готов к наступающему бою!'\n",
        "# Тут происходит расчет урона, который наносит волшебник. Урон определяется случайным образом в диапазоне от 5 до 20, к которому добавляется половина энергии волшебника. После атаки энергия уменьшает на 5.\n",
        "  def attack(self):\n",
        "    damage = random.randint(5, 20) + (self.energy / 2)\n",
        "    self.energy -= 5\n",
        "    return damage"
      ]
    },
    {
      "cell_type": "code",
      "execution_count": null,
      "metadata": {
        "id": "6Gl3gDtNjDNO"
      },
      "outputs": [],
      "source": [
        "class Warrior(Heros):\n",
        "  def __init__(self, name):\n",
        "    super().__init__(name)\n",
        "    self.health *= 1.5\n",
        "    self.energy *= 1.0\n",
        "\n",
        "  def __str__(self):\n",
        "    return f'{self.name}'\n",
        "\n",
        "  def greet(self):\n",
        "    return f'Смело вперед, соратники, Я {self.name}, готов к наступающему бою!'\n",
        "\n",
        "  def attack(self):\n",
        "    damage = random.randint(10, 30) + (self.energy / 2)\n",
        "    self.energy -= 5\n",
        "    return damage"
      ]
    },
    {
      "cell_type": "code",
      "execution_count": null,
      "metadata": {
        "id": "Jnq8jJEdnWkc"
      },
      "outputs": [],
      "source": [
        "class Monster:\n",
        "  def __init__(self, name):\n",
        "    self.name = name\n",
        "    self.health = 200\n",
        "\n",
        "  def attack(self):\n",
        "    damage = random.randint(10, 40)\n",
        "    return f'{self.name} наносит игрокам физический урон на {damage}!'"
      ]
    },
    {
      "cell_type": "code",
      "execution_count": null,
      "metadata": {
        "id": "61v2UaBbGSzc"
      },
      "outputs": [],
      "source": [
        "class Iterator:\n",
        "  def __init__(self):\n",
        "    # здесь я сделала через итератор iter, который использую лямбда функцию. Следовательно, запрашивается имя, которое будет преобразовано в нижний регистр, а также с помощью strip будут удалены лишние пробелы\n",
        "    self.actions = iter(lambda: input(\"Выберите действие: 'атаковать' или 'выпить зелье': \").strip().lower(), 'выход')\n",
        "    # Вернет сам объект итератора\n",
        "  def __iter__(self):\n",
        "    return self\n",
        "  # с помощью функции next объект получит следующее значение, если мы вводим выход, то игра завершается\n",
        "  def __next__(self):\n",
        "    return next(self.actions)\n",
        "# Иммитация боя\n",
        "def fight(heros, monster):\n",
        "  print(heros.greet()) # здесь должно быть приветствие героя\n",
        "  print(f'Вы отважно сражаетесь с монстром {monster.name}!')\n",
        "  actions = Iterator() # экземпляр итератора, который будет двигать события игры\n",
        "  while heros.health > 0 and monster.health > 0:\n",
        "    try:\n",
        "      action = next(actions) # переход на следующее действие, если действий больше нет, то вызывется ошибка и цикл с игрой прервется с помощью break\n",
        "    except StopIteration:\n",
        "      print('Вы вышли из боя.')\n",
        "      break\n",
        "\n",
        "    if action == 'атаковать':\n",
        "      damage = heros.attack()\n",
        "      monster.health -= damage\n",
        "      print(f'{heros.name} атакует {monster.name} и наносит {damage} урона! Здоровье монстра: {monster.health}')\n",
        "\n",
        "    elif action == 'выпить зелье':\n",
        "      heros.drink_potion()\n",
        "# Проверка на здоровье монстра\n",
        "    if monster.health > 0:\n",
        "      damage = monster.attack()\n",
        "      heros.sub(damage)\n",
        "      print(f'{monster.name} атакует {heros.name} и наносит {damage} урона! Здоровье героя: {heros.health}')\n",
        "    elif monster.health <= 0:\n",
        "      print(f'{monster.name} был побежден!')\n",
        "      break\n",
        "\n",
        "    if heros.health <= 0: # цикл остановится если здоровья героев меньше 0\n",
        "      print(f'{heros.name} умер в бою!')\n",
        "      break\n",
        "  else:\n",
        "    print(f'{monster.name} был повержен!')\n",
        "# происходит сбор информации от пользователя: запрашивается имя героя и выбор класса (волшебник или боец)\n",
        "def main(): # от этой функции запустится игра\n",
        "  name = input('Введите имя вашего героя: ')\n",
        "  class_choice = input('Выберите класс (волшебник/боец): ').strip().lower()\n",
        "  if class_choice == 'волшебник':\n",
        "    heros = Wizzard(name)\n",
        "  elif class_choice == 'боец':\n",
        "    heros = Warrior(name)\n",
        "  else:\n",
        "    print('Неверный выбор класса.')\n",
        "    return\n",
        "  monster = Monster('Dragon') # тут же создаю объект монстра, с которым будет сражаться герой\n",
        "  fight(heros, monster)"
      ]
    },
    {
      "cell_type": "code",
      "execution_count": null,
      "metadata": {
        "colab": {
          "base_uri": "https://localhost:8080/"
        },
        "id": "3MB56-RTHU0U",
        "outputId": "d01f0c28-7c61-486b-fa93-d708d47c0914"
      },
      "outputs": [
        {
          "name": "stdout",
          "output_type": "stream",
          "text": [
            "Введите имя вашего героя: Guru\n",
            "Выберите класс (волшебник/боец): волшебник\n",
            "Соберитесь, храбрые сердца, под убаюкивающий свет моей волшебной палочки, Я Guru, готов к наступающему бою!\n",
            "Вы отважно сражаетесь с монстром Dragon!\n",
            "Выберите действие: 'атаковать' или 'выпить зелье': атаковать\n",
            "Guru атакует Dragon и наносит 49.5 урона! Здоровье монстра: 150.5\n",
            "Ошибка: значение урона должно быть числом.\n",
            "Dragon атакует Guru и наносит Dragon наносит игрокам физический урон на 27! урона! Здоровье героя: 100.0\n",
            "Выберите действие: 'атаковать' или 'выпить зелье': выпить зелье\n",
            "Игрок Guru ищет зелье в рюкзаке!\n",
            "Игрок Guru выпил зелье! На данный момент здоровье: Guru, количество зелий: 2\n",
            "Ошибка: значение урона должно быть числом.\n",
            "Dragon атакует Guru и наносит Dragon наносит игрокам физический урон на 28! урона! Здоровье героя: 110.0\n",
            "Выберите действие: 'атаковать' или 'выпить зелье': атаковать\n",
            "Guru атакует Dragon и наносит 54.0 урона! Здоровье монстра: 96.5\n",
            "Ошибка: значение урона должно быть числом.\n",
            "Dragon атакует Guru и наносит Dragon наносит игрокам физический урон на 39! урона! Здоровье героя: 110.0\n",
            "Выберите действие: 'атаковать' или 'выпить зелье': выпить зелье\n",
            "Игрок Guru ищет зелье в рюкзаке!\n",
            "Игрок Guru выпил зелье! На данный момент здоровье: Guru, количество зелий: 1\n",
            "Ошибка: значение урона должно быть числом.\n",
            "Dragon атакует Guru и наносит Dragon наносит игрокам физический урон на 33! урона! Здоровье героя: 120.0\n",
            "Выберите действие: 'атаковать' или 'выпить зелье': выпить зелье\n",
            "Игрок Guru ищет зелье в рюкзаке!\n",
            "Игрок Guru выпил зелье! На данный момент здоровье: Guru, количество зелий: 0\n",
            "Ошибка: значение урона должно быть числом.\n",
            "Dragon атакует Guru и наносит Dragon наносит игрокам физический урон на 39! урона! Здоровье героя: 130.0\n",
            "Выберите действие: 'атаковать' или 'выпить зелье': выпить зелье\n",
            "Guru больше не имеет зелий!\n",
            "Ошибка: значение урона должно быть числом.\n",
            "Dragon атакует Guru и наносит Dragon наносит игрокам физический урон на 32! урона! Здоровье героя: 130.0\n",
            "Выберите действие: 'атаковать' или 'выпить зелье': атаковать\n",
            "Guru атакует Dragon и наносит 44.5 урона! Здоровье монстра: 52.0\n",
            "Ошибка: значение урона должно быть числом.\n",
            "Dragon атакует Guru и наносит Dragon наносит игрокам физический урон на 26! урона! Здоровье героя: 130.0\n",
            "Выберите действие: 'атаковать' или 'выпить зелье': атаковать\n",
            "Guru атакует Dragon и наносит 48.0 урона! Здоровье монстра: 4.0\n",
            "Ошибка: значение урона должно быть числом.\n",
            "Dragon атакует Guru и наносит Dragon наносит игрокам физический урон на 29! урона! Здоровье героя: 130.0\n",
            "Выберите действие: 'атаковать' или 'выпить зелье': атаковать\n",
            "Guru атакует Dragon и наносит 39.5 урона! Здоровье монстра: -35.5\n",
            "Dragon был побежден!\n"
          ]
        }
      ],
      "source": [
        "# проверяет, запущен ли скрипт напрямую (как основная программа) или он был импортирован как модуль в другой скрипт. Если он запущен напрямую, вызывается функция main(), и программа начинает выполнение.\n",
        "# скрип существует как самостоятельная программа, запущу функцию main()\n",
        "# я сделала это через if __name__ = __main__ для того, чтобы отделить вспомогательные функции от основной\n",
        "# прочитала как этим пользоваться здесь - https://stackoverflow.com/questions/419163/what-does-if-name-main-do и здесь https://pythonist.ru/if-__name__-__main__-v-python-polnoe-obyasnenie/#conditional-block\n",
        "# то есть это используется, если код должен выполняться только тогда, когда файл запускается как скрипт\n",
        "# Код в функции main() — это тот же код, который был включен непосредственно в блок if __name__ == \"__main__\".\n",
        "if __name__ == '__main__':\n",
        "  main()\n",
        "# Однако как видно в коде, сработал except, значение урона должно быть числом, хотя я вроде бы преобразовала damage во флоты. Программа работает, но просто постоянно печатает строчку с ошибкой"
      ]
    },
    {
      "cell_type": "markdown",
      "metadata": {
        "id": "PbfSsYnQaFVL"
      },
      "source": [
        "Задача 2 (3 балла).\n",
        "\n",
        "Вспомним задачу токенизации. Напишите собственный простенький токенизатор (с самим процессом можно не сильно заморачиваться), который будет создавать генератор с объектами класса Token, у которых будет атрибут text и атрибут category (латинское слово, кириллическое слово или пунктуация).\n",
        "\n",
        "Токенизатор должен быть реализован в классе, у которого должна быть (генераторная) функция tokenize(). Вам понадобится отдельный класс для токенов и re.finditer()."
      ]
    },
    {
      "cell_type": "code",
      "execution_count": null,
      "metadata": {
        "id": "gCyDV3P2JSTS"
      },
      "outputs": [],
      "source": [
        "# Для того чтобы написать собственный токенизатор воспользуюсь регулярным выражением. Пришлось вспомнить регулярки\n",
        "import re\n",
        "\n",
        "class Token:\n",
        "  def __init__(self, text, category):\n",
        "    self.text = text\n",
        "    self.category = category\n",
        "  def __str__(self):\n",
        "    return f'text = {self.text} category = {self.category}'\n",
        "\n",
        "class Tokenizer:\n",
        "  def __init__(self, text):\n",
        "    self.text = text\n",
        "  def tokenize(self):\n",
        "    tokens = r'[A-zA-Z]+|[а-яА-ЯеёЁ]+|[^\\w\\s]' # Проверяет всю строку для нахождения всех совпадений, а также вернет все найденные совпадения\n",
        "    for match in re.finditer(tokens, self.text): # найти соответствие регулярному выражению в начале строки\n",
        "      text_token = match.group(0) # мето group используется для извлечения подстрок, я указала в скобочках group(0), т.к мне нужно вернуть всю строку, которая соответствует регулярному выражению\n",
        "      if re.match(r'[A-zA-Z]+', text_token):\n",
        "        category = 'латинское слово'\n",
        "      elif re.match(r'[а-яА-ЯеёЁ]+', text_token):\n",
        "        category = 'кириллическое слово'\n",
        "      else:\n",
        "        category = 'пунктуация'\n",
        "      yield Token(text_token, category) # генератор yield вернет мне объекты, помогает извлекать токены и классифицировать их"
      ]
    },
    {
      "cell_type": "code",
      "execution_count": null,
      "metadata": {
        "colab": {
          "base_uri": "https://localhost:8080/"
        },
        "id": "L0R62BIsZcUW",
        "outputId": "6b80c70f-52fa-4a49-c4fa-7e9dcb87c933"
      },
      "outputs": [
        {
          "name": "stdout",
          "output_type": "stream",
          "text": [
            "Предположим, вы создаете приложение и хотите определить правила, согласно которым пользователи будут выбирать себе имя. Например, мы хотим, чтобы оно содержало буквы, цифры, нижнее подчеркивание и дефисы.\n",
            "text = предположим category = кириллическое слово\n",
            "text = , category = пунктуация\n",
            "text = вы category = кириллическое слово\n",
            "text = создаете category = кириллическое слово\n",
            "text = приложение category = кириллическое слово\n",
            "text = и category = кириллическое слово\n",
            "text = хотите category = кириллическое слово\n",
            "text = определить category = кириллическое слово\n",
            "text = правила category = кириллическое слово\n",
            "text = , category = пунктуация\n",
            "text = согласно category = кириллическое слово\n",
            "text = которым category = кириллическое слово\n",
            "text = пользователи category = кириллическое слово\n",
            "text = будут category = кириллическое слово\n",
            "text = выбирать category = кириллическое слово\n",
            "text = себе category = кириллическое слово\n",
            "text = имя category = кириллическое слово\n",
            "text = . category = пунктуация\n",
            "text = например category = кириллическое слово\n",
            "text = , category = пунктуация\n",
            "text = мы category = кириллическое слово\n",
            "text = хотим category = кириллическое слово\n",
            "text = , category = пунктуация\n",
            "text = чтобы category = кириллическое слово\n",
            "text = оно category = кириллическое слово\n",
            "text = содержало category = кириллическое слово\n",
            "text = буквы category = кириллическое слово\n",
            "text = , category = пунктуация\n",
            "text = цифры category = кириллическое слово\n",
            "text = , category = пунктуация\n",
            "text = нижнее category = кириллическое слово\n",
            "text = подчеркивание category = кириллическое слово\n",
            "text = и category = кириллическое слово\n",
            "text = дефисы category = кириллическое слово\n",
            "text = . category = пунктуация\n"
          ]
        }
      ],
      "source": [
        "# Так как я не импортирую никакие файлы как модуль, а запускаю скрипт программу непосредственно, то можно использовать блок if __name__ = __main__\n",
        "# отделение основного сценария (выполнение токенизации) от определения классов и функций\n",
        "# еще я сделала так для теста, можно импортировать классы Token и Tokenizer в другой скрипт для тестирования\n",
        "# блок if __name__ == __main__:  будет считывает текст, создает токенизатор и выводит токены на экран\n",
        "if __name__ == '__main__':\n",
        "  text = input().strip().lower()\n",
        "  tokenizer = Tokenizer(text)\n",
        "  for token in tokenizer.tokenize():\n",
        "    print(token)"
      ]
    },
    {
      "cell_type": "markdown",
      "metadata": {
        "id": "pZ0bJgd-aRRu"
      },
      "source": [
        "Задача 1 (10 баллов)\n",
        "\n",
        "\n",
        "Вы разрабатываете игру, в которой главный герой — археолог и исследователь древних цивилизаций. Его цель — собрать и исследовать артефакты, которые разбросаны по разным древним руинам. Ваша задача — создать класс ArtifactCollector, который будет управлять коллекцией артефактов. Эта коллекция должна быть итерируемой, поддерживать сортировку и фильтрацию артефактов по разным критериям.\n",
        "\n",
        "Требования:\n",
        "\n",
        "Создайте класс Artifact, который представляет артефакт. Артефакт должен иметь следующие свойства:\n",
        "\n",
        "name — название артефакта.\n",
        "age — возраст артефакта (в годах).\n",
        "origin — происхождение артефакта (например, \"Egypt\", \"Greece\", \"Aztec\").\n",
        "rarity — редкость артефакта (например, \"common\", \"rare\", \"legendary\").\n",
        "Создайте класс ArtifactCollector, который управляет коллекцией артефактов. Коллекция должна:\n",
        "\n",
        "Поддерживать добавление артефактов.\n",
        "Быть итерируемой (по умолчанию артефакты выводятся в порядке добавления).\n",
        "Поддерживать сортировку по возрасту артефактов с помощью метода sort_by_age().\n",
        "Поддерживать фильтрацию артефактов по происхождению с помощью метода filter_by_origin(origin).\n",
        "Поддерживать фильтрацию по редкости с помощью метода filter_by_rarity(rarity).\n",
        "Метод reversed должен возвращать артефакты в обратном порядке (например, чтобы археолог мог просмотреть последние найденные).\n",
        "Дополнительное задание (+балл):\n",
        "\n",
        "Реализуйте возможность находить самый древний артефакт с помощью метода find_oldest().\n",
        "Добавьте возможность находить артефакт с определённым именем через метод find_by_name(name).\n",
        "Пример использования:\n",
        "\n",
        "Создаем артефакты\n",
        "mask = Artifact(\"Golden Mask\", 3000, \"Egypt\", \"legendary\")\n",
        "vase = Artifact(\"Ancient Vase\", 2000, \"Greece\", \"rare\")\n",
        "statue = Artifact(\"Stone Statue\", 1500, \"Aztec\", \"common\")\n",
        "amulet = Artifact(\"Amulet of Anubis\", 5000, \"Egypt\", \"legendary\")\n",
        "Создаем коллекционера артефактов и добавляем в коллекцию\n",
        "collector = ArtifactCollector()\n",
        "collector.add_artifact(mask)\n",
        "collector.add_artifact(vase)\n",
        "collector.add_artifact(statue)\n",
        "collector.add_artifact(amulet)\n",
        "Итерация по коллекции\n",
        "print(\"Все артефакты:\")\n",
        "for artifact in collector:\n",
        "    print(artifact.name)\n",
        "Сортировка по возрасту\n",
        "print(\"\\nАртефакты по возрасту:\")\n",
        "collector.sort_by_age()\n",
        "for artifact in collector:\n",
        "    print(f\"{artifact.name}: {artifact.age} лет\")\n",
        "Фильтрация по происхождению\n",
        "print(\"\\nАртефакты из Египта:\")\n",
        "for artifact in collector.filter_by_origin(\"Egypt\"):\n",
        "    print(artifact.name)\n",
        "Самый древний артефакт\n",
        "oldest = collector.find_oldest()\n",
        "print(f\"\\nСамый древний артефакт: {oldest.name} ({oldest.age} лет)\")\n",
        "Поиск по имени\n",
        "artifact = collector.find_by_name(\"Ancient Vase\")\n",
        "if artifact:\n",
        "    print(f\"\\nАртефакт найден: {artifact.name}, {artifact.age} лет, {artifact.origin}\")\n",
        "else:\n",
        "    print(\"\\nАртефакт не найден\")\n",
        "Обратный порядок итерации\n",
        "print(\"\\nАртефакты в обратном порядке:\")\n",
        "for artifact in reversed(collector):\n",
        "    print(artifact.name)\n",
        "    \n",
        "Подсказки:\n",
        "\n",
        "Магические методы __iter__ и __reversed__ помогут сделать коллекцию итерируемой.\n",
        "\n",
        "Для сортировки и фильтрации используйте генераторы или списковые включения.\n",
        "\n",
        "Для поиска используйте стандартные методы работы с коллекциями (max(), min())."
      ]
    },
    {
      "cell_type": "code",
      "execution_count": null,
      "metadata": {
        "id": "ydPE77kA71lP"
      },
      "outputs": [],
      "source": [
        "# На этом моменте я поняла, что можно было реализовать предыдущую игру через экземпляры класса и всю информацию добавлять впринципе таким образом:\n",
        "# а не делать имитацию игры через функцию или класс, создавая много циклов, как с этим помучилась я, но поняла я это очень поздно."
      ]
    },
    {
      "cell_type": "markdown",
      "metadata": {
        "id": "2FT4ygZW8b8N"
      },
      "source": [
        "mask = Artifact(\"Golden Mask\", 3000, \"Egypt\", \"legendary\")\n",
        "\n",
        "vase = Artifact(\"Ancient Vase\", 2000, \"Greece\", \"rare\")\n",
        "\n",
        "statue = Artifact(\"Stone Statue\", 1500, \"Aztec\", \"common\")\n",
        "\n",
        "amulet = Artifact(\"Amulet of Anubis\", 5000, \"Egypt\", \"legendary\")"
      ]
    },
    {
      "cell_type": "code",
      "execution_count": null,
      "metadata": {
        "id": "SFdFl4Hzzp6G"
      },
      "outputs": [],
      "source": [
        "class Artifact:\n",
        "  def __init__(self, name, age, origin, rarity):\n",
        "    self.name = name\n",
        "    self.age = age\n",
        "    self.origin = origin\n",
        "    self.rarity = rarity\n",
        "  def __str__(self):\n",
        "    return f'Artifact(name={self.name}, age={self.age}, origin={self.origin}, rarity={self.rarity})'"
      ]
    },
    {
      "cell_type": "code",
      "execution_count": null,
      "metadata": {
        "id": "HEfhYvpz1Y4n"
      },
      "outputs": [],
      "source": [
        "class ArtifactCollector:\n",
        "  def __init__(self):\n",
        "    self.artifacts = list() # создам список, в него будут добавляться артефакты\n",
        "# Добавлю артефакты с использованием методов\n",
        "  def add(self, artifact):\n",
        "    self.artifacts.append(artifact)\n",
        "  def __iter__(self): # метод iter будет итерироваться по артефактам\n",
        "    return iter(self.artifacts)\n",
        "  def sort_by_age(self):\n",
        "    self.artifacts.sort(key=lambda x: x.age) # через лямбда функцию делаю сортировку по возрасту\n",
        "  def filter_by_origin(self, origin):\n",
        "    return (artifact for artifact in self.artifacts if artifact.origin == origin)\n",
        "  def filter_by_rarity(self, rarity):\n",
        "    return (artifact for artifact in self.artifacts if artifact.rarity == rarity)\n",
        "  def find_oldest(self):\n",
        "    return max(self.artifacts, key=lambda x: x.age)\n",
        "  def find_by_name(self, name):\n",
        "    for artifact in self.artifacts:\n",
        "      if artifact.name == name:\n",
        "        return artifact\n",
        "    return None # если артефакта с таким именем нет, то вернется None\n",
        "\n",
        "  def __reversed__(self):\n",
        "    return reversed(self.artifacts)"
      ]
    },
    {
      "cell_type": "code",
      "execution_count": null,
      "metadata": {
        "id": "57aNVqMr6M6C"
      },
      "outputs": [],
      "source": [
        "#Создаем артефакты\n",
        "mask = Artifact(\"Golden Mask\", 3000, \"Egypt\", \"legendary\")\n",
        "vase = Artifact(\"Ancient Vase\", 2000, \"Greece\", \"rare\")\n",
        "statue = Artifact(\"Stone Statue\", 1500, \"Aztec\", \"common\")\n",
        "amulet = Artifact(\"Amulet of Anubis\", 5000, \"Egypt\", \"legendary\")"
      ]
    },
    {
      "cell_type": "code",
      "execution_count": null,
      "metadata": {
        "id": "To7pH-i46h8U"
      },
      "outputs": [],
      "source": [
        "#Создаем коллекционера артефактов и добавляем в коллекцию\n",
        "collector = ArtifactCollector()\n",
        "collector.add(mask)\n",
        "collector.add(vase)\n",
        "collector.add(statue)\n",
        "collector.add(amulet)"
      ]
    },
    {
      "cell_type": "code",
      "execution_count": null,
      "metadata": {
        "colab": {
          "base_uri": "https://localhost:8080/"
        },
        "id": "-DcW6St66k2W",
        "outputId": "4ba8d575-4876-48c0-cd7d-c5df14097896"
      },
      "outputs": [
        {
          "name": "stdout",
          "output_type": "stream",
          "text": [
            "Все артефакты:\n",
            "Golden Mask\n",
            "Ancient Vase\n",
            "Stone Statue\n",
            "Amulet of Anubis\n"
          ]
        }
      ],
      "source": [
        "# Итерация по коллекции\n",
        "print(\"Все артефакты:\")\n",
        "for artifact in collector:\n",
        "  print(artifact.name)"
      ]
    },
    {
      "cell_type": "code",
      "execution_count": null,
      "metadata": {
        "colab": {
          "base_uri": "https://localhost:8080/"
        },
        "id": "GwVTlrVU6okr",
        "outputId": "d91e272c-62c4-448f-8bfe-143b7d3e8b23"
      },
      "outputs": [
        {
          "name": "stdout",
          "output_type": "stream",
          "text": [
            "\n",
            "Артефакты по возрасту:\n",
            "Stone Statue: 1500 лет\n",
            "Ancient Vase: 2000 лет\n",
            "Golden Mask: 3000 лет\n",
            "Amulet of Anubis: 5000 лет\n"
          ]
        }
      ],
      "source": [
        "# Сортировка по возрасту\n",
        "print(\"\\nАртефакты по возрасту:\")\n",
        "collector.sort_by_age()\n",
        "for artifact in collector:\n",
        "  print(f\"{artifact.name}: {artifact.age} лет\")"
      ]
    },
    {
      "cell_type": "code",
      "execution_count": null,
      "metadata": {
        "colab": {
          "base_uri": "https://localhost:8080/"
        },
        "id": "CD7Fz0nv6sMV",
        "outputId": "82de054e-2344-4405-d033-867f5e795d3b"
      },
      "outputs": [
        {
          "name": "stdout",
          "output_type": "stream",
          "text": [
            "\n",
            "Артефакты из Египта:\n",
            "Golden Mask\n",
            "Amulet of Anubis\n"
          ]
        }
      ],
      "source": [
        "# Фильтрация по происхождению\n",
        "print(\"\\nАртефакты из Египта:\")\n",
        "for artifact in collector.filter_by_origin(\"Egypt\"):\n",
        "  print(artifact.name)"
      ]
    },
    {
      "cell_type": "code",
      "execution_count": null,
      "metadata": {
        "colab": {
          "base_uri": "https://localhost:8080/"
        },
        "id": "fbqVlGcZ6wWq",
        "outputId": "e8130a21-179c-4b0f-bc5f-ea476ab55d22"
      },
      "outputs": [
        {
          "name": "stdout",
          "output_type": "stream",
          "text": [
            "\n",
            "Самый древний артефакт: Amulet of Anubis (5000 лет)\n"
          ]
        }
      ],
      "source": [
        "# Самый древний артефакт\n",
        "oldest = collector.find_oldest()\n",
        "print(f\"\\nСамый древний артефакт: {oldest.name} ({oldest.age} лет)\")"
      ]
    },
    {
      "cell_type": "code",
      "execution_count": null,
      "metadata": {
        "colab": {
          "base_uri": "https://localhost:8080/"
        },
        "id": "G6OMDAeW63DO",
        "outputId": "d41d718b-5939-4e9a-8b1c-417b7a1e0777"
      },
      "outputs": [
        {
          "name": "stdout",
          "output_type": "stream",
          "text": [
            "\n",
            "Артефакт найден: Ancient Vase, 2000 лет, Greece\n"
          ]
        }
      ],
      "source": [
        "# Поиск по имени\n",
        "artifact = collector.find_by_name(\"Ancient Vase\")\n",
        "if artifact:\n",
        "  print(f\"\\nАртефакт найден: {artifact.name}, {artifact.age} лет, {artifact.origin}\")\n",
        "else:\n",
        "  print(\"\\nАртефакт не найден\")"
      ]
    },
    {
      "cell_type": "code",
      "execution_count": null,
      "metadata": {
        "colab": {
          "base_uri": "https://localhost:8080/"
        },
        "id": "rlJh9Vw366Rc",
        "outputId": "2c8a17b8-733a-45cb-d269-95c4ea5041a4"
      },
      "outputs": [
        {
          "name": "stdout",
          "output_type": "stream",
          "text": [
            "\n",
            "Артефакты в обратном порядке:\n",
            "Amulet of Anubis\n",
            "Golden Mask\n",
            "Ancient Vase\n",
            "Stone Statue\n"
          ]
        }
      ],
      "source": [
        "# Обратный порядок итерации\n",
        "print(\"\\nАртефакты в обратном порядке:\")\n",
        "for artifact in reversed(collector):\n",
        "  print(artifact.name)"
      ]
    }
  ],
  "metadata": {
    "colab": {
      "authorship_tag": "ABX9TyPPwSD7ZBaNjADI//E5vgyw",
      "include_colab_link": true,
      "provenance": []
    },
    "kernelspec": {
      "display_name": "Python 3",
      "name": "python3"
    },
    "language_info": {
      "name": "python"
    }
  },
  "nbformat": 4,
  "nbformat_minor": 0
}
