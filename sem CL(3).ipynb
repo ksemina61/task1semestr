{
 "cells": [
  {
   "cell_type": "code",
   "execution_count": null,
   "metadata": {},
   "outputs": [],
   "source": [
    "#семинар 3, компьютерная лингвистика"
   ]
  },
  {
   "cell_type": "code",
   "execution_count": null,
   "metadata": {},
   "outputs": [],
   "source": [
    "numbers = input(\" Введите набор целых чисел через пробел: \").split() # задача 1, компьютерная подгруппа\n",
    "numbers = [int(num) for num in numbers] # преобразую строки в числа\n",
    "min_number = min(numbers) #нахожу минимальное значение\n",
    "max_number = max(numbers) #нахожу максимальное значение\n",
    "summa_numbers = sum(numbers) # функция sum позволяет вычислить суммы элементов\n",
    "print(\"Сумма чисел = \", sum(numbers))\n",
    "print(\"Максимальное значение = \", max_number)\n",
    "print(\"Минимальное значение = \", min_number)"
   ]
  },
  {
   "cell_type": "code",
   "execution_count": null,
   "metadata": {},
   "outputs": [],
   "source": [
    "my_list = [1,2,3,4,5,6,7,8,9,10] #способ 1, задача 2\n",
    "my_list.insert(3, 30) # с помощью insert добавила в список число\n",
    "print(my_list)"
   ]
  },
  {
   "cell_type": "code",
   "execution_count": null,
   "metadata": {},
   "outputs": [],
   "source": [
    "A = list(range(1, 11)) #способ 2\n",
    "A[4:4] = [30]\n",
    "print(A)"
   ]
  },
  {
   "cell_type": "code",
   "execution_count": null,
   "metadata": {},
   "outputs": [],
   "source": [
    "A = [1,2,3,4,5,6,7,8,9,10] #способ 3\n",
    "A[3:3] = [30]\n",
    "print(A)"
   ]
  },
  {
   "cell_type": "code",
   "execution_count": null,
   "metadata": {},
   "outputs": [],
   "source": [
    "list = [1, 2, 3, 4, 3, 5 , 3, 6, 7, 3, 8, 3, 9, 3, 3, 10] #правильно ли я поняла условия 3 задачи: x - это какое-то число?\n",
    "x = 3\n",
    "while x in list:\n",
    "  list.remove(x)\n",
    "print(list)"
   ]
  },
  {
   "cell_type": "code",
   "execution_count": null,
   "metadata": {},
   "outputs": [],
   "source": [
    "my_list = [1,2,3,4,3,5,3,6,3,7,3,8,3,9,3,10] #задание 3\n",
    "x = 3\n",
    "while x in my_list:\n",
    "  del my_list[my_list.index(x)]\n",
    "print(my_list)"
   ]
  },
  {
   "cell_type": "code",
   "execution_count": null,
   "metadata": {},
   "outputs": [],
   "source": [
    "string = input().split() #задание 4\n",
    "print(sorted(string, reverse = True)) #сортировке списка в обратном порядке"
   ]
  },
  {
   "cell_type": "code",
   "execution_count": null,
   "metadata": {},
   "outputs": [],
   "source": [
    "def power(z, x): # задача 5, сделала по примеру как в 3 лекции\n",
    "  result = 1\n",
    "  for i in range(x):\n",
    "    result *= z\n",
    "  return result\n",
    "print(f'{power(2, 5)}')\n",
    "print(f'{power(3, 2)}')\n",
    "print(f'{power(4, 5)}')"
   ]
  },
  {
   "cell_type": "code",
   "execution_count": null,
   "metadata": {},
   "outputs": [],
   "source": [
    "my_list = ['мама', 'арбуз', 'абракадабра'] # задание 8\n",
    "my_list.sort(key = lambda z: z.count('a'))\n",
    "print(my_list)"
   ]
  },
  {
   "cell_type": "code",
   "execution_count": null,
   "metadata": {},
   "outputs": [],
   "source": [
    "def print_squares(*args): # задание 6\n",
    "    for num in args:\n",
    "        print(num ** 2)\n",
    "print_squares(1, 2, 3, 4, 5)"
   ]
  },
  {
   "cell_type": "code",
   "execution_count": null,
   "metadata": {},
   "outputs": [],
   "source": [
    "def apply_string_method(method, *strings): # задание 7\n",
    "    results = []  # Список для хранения результатов\n",
    "    for string in strings:\n",
    "        if hasattr(string, method):\n",
    "            results.append(getattr(string, method)())\n",
    "        else:\n",
    "            results.append(None)\n",
    "\n",
    "    return results\n",
    "strings = [\"apple\", \"banana\", \"cherry\"]\n",
    "print(apply_string_method(\"upper\", *strings))\n",
    "print(apply_string_method(\"capitalize\", *strings))\n",
    "print(apply_string_method(\"isalpha\", *strings))"
   ]
  },
  {
   "cell_type": "code",
   "execution_count": null,
   "metadata": {},
   "outputs": [],
   "source": [
    "def is_palindrome(string): # задание 10\n",
    "    if len(string) <= 1:\n",
    "        return True\n",
    "    if string[0] == string[-1]:\n",
    "        return is_palindrome(string[1:-1])\n",
    "    else:\n",
    "        return False\n",
    "print(is_palindrome(\"абба\"))\n",
    "print(is_palindrome(\"абсба\"))\n",
    "print(is_palindrome(\"абкф\"))"
   ]
  },
  {
   "cell_type": "code",
   "execution_count": null,
   "metadata": {},
   "outputs": [],
   "source": [
    "def power_generator(N): # задание 8\n",
    "    def power_func(num):\n",
    "        return num ** N\n",
    "    return power_func\n",
    "power_2 = power_generator(2)\n",
    "power_3 = power_generator(3)\n",
    "\n",
    "print(power_2(2))\n",
    "print(power_3(2))\n",
    "print(power_3(3))"
   ]
  },
  {
   "cell_type": "code",
   "execution_count": null,
   "metadata": {},
   "outputs": [],
   "source": [
    "# домашнее задание (3), компьютерная лингвистика"
   ]
  },
  {
   "cell_type": "code",
   "execution_count": null,
   "metadata": {},
   "outputs": [],
   "source": [
    "numbers = input(\"Введите список чисел через пробел: \").split() #задание 1\n",
    "numbers = list(map(int, numbers))\n",
    "min_number = min(numbers)\n",
    "max_number = max(numbers)\n",
    "min_index = numbers.index(min_number)\n",
    "max_index = numbers.index(max_number)\n",
    "temp = numbers[min_index]\n",
    "numbers[min_index] = numbers[max_index]\n",
    "numbers[max_index] = temp\n",
    "print(\"Измененный список: \", end=\"\")\n",
    "for number in numbers:\n",
    "    print(number, end=\" \")"
   ]
  },
  {
   "cell_type": "code",
   "execution_count": null,
   "metadata": {},
   "outputs": [],
   "source": [
    "lst = input(\"Введите список через пробел: \").split() # задание 2\n",
    "if len(lst) % 2 != 0:\n",
    "    for i in range(0, len(lst)-1, 2):\n",
    "        lst[i], lst[i+1] = lst[i+1], lst[i]\n",
    "else:\n",
    "    for i in range(0, len(lst), 2):\n",
    "        lst[i], lst[i+1] = lst[i+1], lst[i]\n",
    "print(\"Результат:\", ' '.join(lst))"
   ]
  },
  {
   "cell_type": "code",
   "execution_count": null,
   "metadata": {},
   "outputs": [],
   "source": [
    "heights = list(map(int, input().split())) #задание 3\n",
    "pete_height = int(input())\n",
    "position = 1\n",
    "for height in heights:\n",
    "    if height >= pete_height:\n",
    "        position += 1\n",
    "print(position)"
   ]
  },
  {
   "cell_type": "code",
   "execution_count": null,
   "metadata": {},
   "outputs": [],
   "source": [
    "my_list = [1, 2, 3, 2, 4, 3, 5] # задание 5\n",
    "\n",
    "i = 0\n",
    "while i < len(my_list):\n",
    "    j = i + 1\n",
    "    while j < len(my_list):\n",
    "        if my_list[j] == my_list[i]:\n",
    "            my_list.pop(j)\n",
    "        else:\n",
    "            j += 1\n",
    "    i += 1\n",
    "\n",
    "print(my_list)"
   ]
  },
  {
   "cell_type": "code",
   "execution_count": null,
   "metadata": {},
   "outputs": [],
   "source": [
    "n = int(input(\"Введите число N: \")) # задание 6\n",
    "my_list = [int(x) for x in input(\"Введите список чисел через пробел: \").split()]\n",
    "\n",
    "for i in range(len(my_list)):\n",
    "    count = my_list.count(my_list[i])\n",
    "    if count == n:\n",
    "        j = i + 1\n",
    "        while j < len(my_list):\n",
    "            if my_list[j] == my_list[i]:\n",
    "                my_list.pop(j)\n",
    "            else:\n",
    "                j += 1\n",
    "\n",
    "print(my_list)"
   ]
  },
  {
   "cell_type": "code",
   "execution_count": null,
   "metadata": {},
   "outputs": [],
   "source": [
    "def get_letter_indexes(): # задача 10\n",
    "    text = input(\"Введите строчку: \")\n",
    "    letter_indexes = []\n",
    "    for letter in text:\n",
    "        letter_indexes.append(ord(letter))\n",
    "    return letter_indexes\n",
    "indexes = get_letter_indexes()\n",
    "print(indexes)\n"
   ]
  }
 ],
 "metadata": {
  "language_info": {
   "name": "python"
  },
  "orig_nbformat": 4
 },
 "nbformat": 4,
 "nbformat_minor": 2
}
