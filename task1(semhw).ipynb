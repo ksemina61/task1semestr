{
  "nbformat": 4,
  "nbformat_minor": 0,
  "metadata": {
    "colab": {
      "provenance": [],
      "authorship_tag": "ABX9TyN+MKqUtgbtXiJCCOfOeFcz",
      "include_colab_link": true
    },
    "kernelspec": {
      "name": "python3",
      "display_name": "Python 3"
    },
    "language_info": {
      "name": "python"
    }
  },
  "cells": [
    {
      "cell_type": "markdown",
      "metadata": {
        "id": "view-in-github",
        "colab_type": "text"
      },
      "source": [
        "<a href=\"https://colab.research.google.com/github/ksemina61/task1semestr/blob/main/task_1_(sem_%2B_hw).ipynb\" target=\"_parent\"><img src=\"https://colab.research.google.com/assets/colab-badge.svg\" alt=\"Open In Colab\"/></a>"
      ]
    },
    {
      "cell_type": "markdown",
      "source": [
        "Задача 1 (10 баллов).\n",
        "\n",
        "Представим себе, что мы хотим открыть музыкальный магазин и заведовать всеми его делами. Напишем программу, которая будет визуализировать наши мечты.\n",
        "\n",
        "Наверное, в первую очередь нам понадобится класс для самого магазина. У магазина есть счет, склад, возможность продавать инструменты и покупать их (может быть, что-то еще - что придумаете). Потом, нужен, конечно, класс для музыкального инструмента. Попробуйте реализовать музыкальные инструменты с помощью наследования: можно создать некий абстрактный класс \"инструмент\", а от него будут наследовать классы \"гитара\", \"пианино\" и так далее - при этом у гитар и пианино могут быть свои разные характеристики, н-р, у гитары количество струн, тип порожка и так далее. Можно и более подробную иерархию, если будете успевать (например, инструменты бывают электрическими и акустическими). Наконец, можно создать класс \"покупатель\", у которого будет кошелек.\n",
        "\n",
        "Наконец, неплохо бы не забыть написать некий код, который будет приводить наши классы в движение: имитировать рабочий день магазина (можно в цикле), с рандомной вероятностью посещение покупателей, давать нашему владельцу-пользователю возможность решить, не пора ли закупить новые инструменты или, может быть, затеять рекламную кампанию.\n",
        "\n",
        "Фантазия всячески поощряется, могу за нее поставить дополнительные баллы."
      ],
      "metadata": {
        "id": "IUZ3vd2y-A2Y"
      }
    },
    {
      "cell_type": "code",
      "source": [
        "import random\n",
        "class Instruments:\n",
        "  def __init__(self, name, price):\n",
        "    self.name = name\n",
        "    self.price = price\n",
        "\n",
        "  def info(self):\n",
        "    raise NotImplementedError\n",
        "\n",
        "# Дальше я использовала в задачках метод super().__init__, так как мне нужно было, чтобы правильно работали атрибуты из родительского класса\n",
        "class Piano(Instruments):\n",
        "  def __init__(self, name, price, num_keyboard, color, model):\n",
        "    super().__init__(name, price)\n",
        "    self.num_keyboard = num_keyboard\n",
        "    self.color = color\n",
        "    self.model = model\n",
        "  def info(self):\n",
        "    return f'Пианино: {self.name}, цена: {self.price}, кол-во клавиш: {self.num_keyboard}, цвет: {self.color}, модель: {self.model}'\n",
        "\n",
        "\n",
        "class Guitar(Instruments):\n",
        "  def __init__(self, name, price, num_strings, color, model):\n",
        "    super().__init__(name, price)\n",
        "    self.num_strings = num_strings\n",
        "    self.color = color\n",
        "    self.model = model\n",
        "  def info(self):\n",
        "    return f'Гитара: {self.name}, цена: {self.price}, кол-во струн: {self.num_strings}, цвет: {self.color}, модель: {self.model}'\n",
        "\n",
        "class Violin(Instruments):\n",
        "  def __init__(self, name, price, num_strings, color, model):\n",
        "    super().__init__(name, price)\n",
        "    self.num_strings = num_strings\n",
        "    self.color = color\n",
        "    self.model = model\n",
        "  def info(self):\n",
        "    return f'Скрипка: {self.name}, цена: {self.price}, кол-во струн: {self.num_strings}, цвет: {self.color}, модель: {self.model}'\n",
        "\n",
        "\n",
        "class Drum(Instruments):\n",
        "  def __init__(self, name, price,  cylinder, color, model):\n",
        "    super().__init__(name, price)\n",
        "    self.cylinder = cylinder\n",
        "    self.color = color\n",
        "    self.model = model\n",
        "  def info(self):\n",
        "    return f'Барабан: {self.name}, цена: {self.price}, цилиндр: {self.num_strings}, цвет: {self.color}, модель: {self.model}'\n"
      ],
      "metadata": {
        "id": "t2_iqfom-Ogd"
      },
      "execution_count": null,
      "outputs": []
    },
    {
      "cell_type": "code",
      "source": [
        "# Класс магазина\n",
        "import random\n",
        "class MusicStore(Instruments):\n",
        "\n",
        "  def __init__(self):\n",
        "    self.balance = 0\n",
        "    self.storage = [] #склад\n",
        "\n",
        "  def add_instruments(self, instrument):\n",
        "    self.storage.append(instrument) # метод добавления инструментов на склад\n",
        "\n",
        "  def display_storage(self): # здесь будет специально отображаться, сколько инструментов осталось\n",
        "    print('Текущий склад:')\n",
        "    for item in self.storage:\n",
        "      print(f'- {item.name}: {item.price}')\n",
        "\n",
        "\n",
        "  def sell(self, instrument_name, customer):\n",
        "    for instrument in self.storage:\n",
        "      if instrument.name == instrument_name:\n",
        "        if customer.wallet >= instrument.price:\n",
        "          self.balance += instrument.price\n",
        "          self.storage.remove(instrument)\n",
        "          print(f'{customer.name} купил/a {instrument.info()}')\n",
        "          return\n",
        "        else:\n",
        "          print(f'У {customer.name} недостаточно средств для покупки этого инструмента')\n",
        "          #return\n",
        "      print(f'{instrument_name} в данный момент не найден на складе')\n",
        "\n",
        "\n",
        "  def buy(self, instrument):\n",
        "    self.add_instruments(instrument)\n",
        "    print(f'Купленные в магазине: {instrument.info()}')"
      ],
      "metadata": {
        "id": "guNlRTToa6hO"
      },
      "execution_count": null,
      "outputs": []
    },
    {
      "cell_type": "code",
      "source": [
        "# Класс покупателей\n",
        "class Customer(MusicStore):\n",
        "  def __init__(self, name, wallet):\n",
        "    self.name = name\n",
        "    self.wallet = wallet\n",
        "# Симуляция работы в магазине\n",
        "def simulate(store):\n",
        "  customers = [\n",
        "      Customer('Валентин', 150000),\n",
        "      Customer('Дарья', 300000),\n",
        "      Customer('Анастасия', 1000000)]\n",
        "# Также важно заранее добавить музыкальные инструменты в магазин\n",
        "  store.add_instruments(Guitar('Fender', 8000, 6, 'красный', 'Stratocaster'))\n",
        "  store.add_instruments(Piano('Yamaha', 5000, 88, 'черный', 'P-125'))\n",
        "  store.add_instruments(Violin('Stradivarius', 15000, 4, 'коричневый', '1715'))\n",
        "  store.add_instruments(Drum('Pearl', 3000, 5, 'черный', 'Export'))\n",
        "  for i in range(1, 6): # за 5 дней работы\n",
        "    print(f'\\nНаступил новый день!')\n",
        "# Теперь же нужно сгенерировать случайное количество покупателей в день, сделаю с помощью random\n",
        "    for i in range(random.randint(1, 4)):\n",
        "      customer = random.choice(customers)\n",
        "      print(f'{customer.name} посетил/a магазин.')\n",
        "\n",
        "# Покупка инструментов происходит рандомно\n",
        "      if random.random() > 0.5:\n",
        "        store.sell(random.choice(['Fender', 'Stradivarius']), customer)\n",
        "      else:\n",
        "        store.sell('Yamaha', customer)\n",
        "\n",
        "\n",
        "# Кроме того, нужно закупить новые инструменты\n",
        "    if store.balance < 100: # если баланс магазина меньше 100, то в таком случае закупаются новые музвкальные инструменты\n",
        "      new_guitar = Guitar('Fender Stratocaster', 8800, 6, 'голубой', 'Джамбо')\n",
        "      new_piano = Piano('Yamaha', 5000, 88, 'черный', 'P-125')\n",
        "      new_violin = Violin('Stradivarius', 15000, 4, 'коричневый', '1715')\n",
        "      new_drum = Drum('Pearl', 3000, 5, 'черный', 'Export')\n",
        "      store.buy(new_guitar)\n",
        "      store.buy(new_piano)\n",
        "      store.buy(new_violin)\n",
        "      store.buy(new_drum)\n",
        "      print(f'Магазин закупил новый инструмент: {new_guitar.name}')\n",
        "      print(f'Магазин закупил новый инструмент: {new_piano.name}')\n",
        "      print(f'Магазин закупил новый инструмент: {new_violin.name}')\n",
        "      print(f'Магазин закупил новый инструмент: {new_drum.name}')"
      ],
      "metadata": {
        "id": "OZ4lul5UXqT5"
      },
      "execution_count": null,
      "outputs": []
    },
    {
      "cell_type": "code",
      "source": [
        "# Запускаю магазин\n",
        "store = MusicStore()\n",
        "simulate(store)"
      ],
      "metadata": {
        "colab": {
          "base_uri": "https://localhost:8080/"
        },
        "id": "pH7X5LTJzGWu",
        "outputId": "ede1e5ab-554d-40ac-b243-96f1c752d5bf"
      },
      "execution_count": null,
      "outputs": [
        {
          "output_type": "stream",
          "name": "stdout",
          "text": [
            "\n",
            "Наступил новый день!\n",
            "Валентин посетил/a магазин.\n",
            "Валентин купил/a Гитара: Fender, цена: 8000, кол-во струн: 6, цвет: красный, модель: Stratocaster\n",
            "\n",
            "Наступил новый день!\n",
            "Анастасия посетил/a магазин.\n",
            "Stradivarius в данный момент не найден на складе\n",
            "Анастасия купил/a Скрипка: Stradivarius, цена: 15000, кол-во струн: 4, цвет: коричневый, модель: 1715\n",
            "\n",
            "Наступил новый день!\n",
            "Анастасия посетил/a магазин.\n",
            "Fender в данный момент не найден на складе\n",
            "Fender в данный момент не найден на складе\n",
            "Анастасия посетил/a магазин.\n",
            "Stradivarius в данный момент не найден на складе\n",
            "Stradivarius в данный момент не найден на складе\n",
            "Валентин посетил/a магазин.\n",
            "Fender в данный момент не найден на складе\n",
            "Fender в данный момент не найден на складе\n",
            "\n",
            "Наступил новый день!\n",
            "Анастасия посетил/a магазин.\n",
            "Анастасия купил/a Пианино: Yamaha, цена: 5000, кол-во клавиш: 88, цвет: черный, модель: P-125\n",
            "Дарья посетил/a магазин.\n",
            "Stradivarius в данный момент не найден на складе\n",
            "\n",
            "Наступил новый день!\n",
            "Дарья посетил/a магазин.\n",
            "Fender в данный момент не найден на складе\n",
            "Дарья посетил/a магазин.\n",
            "Fender в данный момент не найден на складе\n"
          ]
        }
      ]
    },
    {
      "cell_type": "markdown",
      "source": [
        "Задача 1 (10 баллов).\n",
        "\n",
        "Напишем мини-стратегическую игру, в которой игроку предлагается управлять городом (SimCity видели когда-нибудь?)\n",
        "\n",
        "У нас есть собственно класс \"город\", внутри города есть постройки разных типов, которые мы, как градоправитель, строим. Также у города есть атрибуты: уровень счастья жителей, уровень экологии, образования, миграции и так далее (на что вашей фантазии хватит). Постройки к этим атрибутам добавляют и прибавляют баллы. Можно завести тип постройки, которая на каждом ходе игры приносит в городской бюджет деньги (налоговая служба?.. заводы?).\n",
        "\n",
        " Постройки необходимо реализовать с помощью наследования, у некоторых построек могут быть свои методы, например, больница может устраивать медосмотры и вакцинации и поднимать этим уровень благосостояния жителей, а на заводе с рандомной вероятностью может случиться авария, которая понизит экологию. Не забудьте реализовать головной класс \"игра\", в котором будет метод play, можно в нем хранить и городской бюджет.\n",
        "\n",
        "Фантазия приветствуется: чем оригинальнее будет ваша игра, тем выше шанс, что я поставлю дополнительный балл."
      ],
      "metadata": {
        "id": "8eS-SQxrcN22"
      }
    },
    {
      "cell_type": "code",
      "source": [
        "import random\n",
        "class SimCity:\n",
        "  def __init__(self, name):\n",
        "    self.name = name\n",
        "    self.budget = 200000\n",
        "    self.education = 100\n",
        "    self.migration = 30\n",
        "    self.happiness = 50\n",
        "    self.ecology = 40\n",
        "    self.buildings = []\n",
        "\n",
        "  def add_building(self, building):\n",
        "    self.buildings.append(building)\n",
        "\n",
        "  def collect_taxes(self):\n",
        "    taxes = sum(building.taxes for building in self.buildings if hasattr(building, 'taxes'))\n",
        "    self.budget += taxes\n",
        "    print(f'В городе {self.name} собрали налоги в размере {taxes} руб')\n",
        "\n",
        "  def displaying_indicators(self):\n",
        "    print(f'Название города: {self.name}, Состояние бюджета: {self.budget}, Уровень образования населения: {self.education}, Миграция: {self.migration}, Уровень счастья: {self.happiness}, Экология: {self.ecology}', sep='\\n')"
      ],
      "metadata": {
        "id": "zPX1ww-zkxl4"
      },
      "execution_count": null,
      "outputs": []
    },
    {
      "cell_type": "code",
      "source": [
        "class Building:\n",
        "  def __init__(self, name):\n",
        "    self.name = name\n",
        "# Класс для жилых домов\n",
        "class Residents(Building):\n",
        "  def __init__(self, name):\n",
        "    super().__init__(name)\n",
        "    self.happiness = 50\n",
        "    self.happiness_plus = 10\n",
        "    self.migration_plus = 15\n",
        "    self.happiness += self.happiness_plus\n",
        "    print(f'В жилом доме {self.name} уровень счастья увеличился на {self.happiness_plus}, уровень миграции: {self.migration_plus}.')\n",
        "# # В домах могут происходить ограбления, что может повлиять на уровень счастья населения\n",
        "  def robbery(self):\n",
        "    happiness_loss = 10\n",
        "    self.happiness -= happiness_loss\n",
        "    if self.happiness < 0: # это я сделала для того, чтобы уровень счатья не был отрицательным\n",
        "      self.happiness = 0\n",
        "    print(f'В доме {self.name} произошло ограбление! Уровень счастья уменьшился на {happiness_loss}. Текущий уровень счастья: {self.happiness}.')\n",
        "\n",
        "\n",
        "class Factory(Building):\n",
        "  def __init__(self, name):\n",
        "    super().__init__(name)\n",
        "    self.taxes = 100\n",
        "    self.ecology_decrease = 5\n",
        "    print(f'Завод {self.name} приносит доход в размере {self.taxes} руб.')\n",
        "# На заводе могут иногда происходит неприятности, здесь можно понизить экологию\n",
        "    if random.random() > self.ecology_decrease:\n",
        "      self.ecology -= 4\n",
        "      print(f'На заводе {self.name} произошла экологическая катастрофа! Уровень экологии снизился на {self.ecology_decrease}!')\n",
        "\n",
        "\n",
        "class Hospital(Building):\n",
        "  def __init__(self, name):\n",
        "    super().__init__(name)\n",
        "    self.happiness_plus = 15\n",
        "    self.happiness = 50\n",
        "    self.happiness += self.happiness_plus\n",
        "    self.happiness_decrease = 10\n",
        "    print(f'В больнице {self.name} уровень счастья увеличился на {self.happiness_plus}.')\n",
        "# В больнице также могут происходить вспышки вируса\n",
        "    if random.random() > self.happiness_desrease:\n",
        "      self.happiness -= 10\n",
        "      print(f'Произошла эпидемия чумы в городе! Недостаточно мест в больнице. Уровень счастья понизился на {self.happiness_decrease}!')\n",
        "\n",
        "  def vaccinate(self):\n",
        "    self.happiness += 10\n",
        "    print(f'В городе произошла массовая вакцинация! Уровень счастья увеличился на +10.')"
      ],
      "metadata": {
        "id": "QIfcC4anw02-"
      },
      "execution_count": null,
      "outputs": []
    },
    {
      "cell_type": "code",
      "source": [
        "class Game: # класс, который имитирует игру\n",
        "  def __init__(self):\n",
        "    self.city = SimCity('Город SimCity')\n",
        "# К сожалению, я не придумала ничего иного, как реализовать это через циклы, в которых сама потом очень долго путалась и поправляла\n",
        "# Можно ли было это сделать легче?\n",
        "  def play(self):\n",
        "    while True:\n",
        "      action = input('Выберите действие (1 - постройка, 2 - налоги, 3 - статус, 0 - выход): ')\n",
        "      if action == '1':\n",
        "        building_type = input('Выберите тип постройки (жилое здание, завод, больница): ')\n",
        "        if building_type.lower() == 'жилое здание':\n",
        "          residents_name = input('Введите название жилого здания: ')\n",
        "          residents = Residents(residents_name)\n",
        "          self.city.add_building(residents)\n",
        "        elif building_type.lower() == 'завод':\n",
        "          factory_name = input('Введите название завода: ')\n",
        "          factory = Factory(factory_name)\n",
        "          self.city.add_building(factory)\n",
        "        elif building_type.lower() == 'больница':\n",
        "          hospital_name = input('Введите название больницы: ')\n",
        "          hospital = Hospital(hospital_name)\n",
        "          self.city.add_building(hospital)\n",
        "        else:\n",
        "          print('Неверный тип постройки')\n",
        "          continue\n",
        "      elif action == '2':\n",
        "        self.city.collect_taxes()\n",
        "      elif action == '3':\n",
        "        self.city.displaying_indicators()\n",
        "      elif action == '0':\n",
        "        print('Выход из игры')\n",
        "        break\n",
        "      else:\n",
        "        print('Неправильно введен выбор!')\n",
        "# Тут что-то вроде имитации ограбления:\n",
        "      if random.random() < 0.3:\n",
        "        if self.city.buildings:\n",
        "          random_resident = random.choice([b for b in self.city.buildings if isinstance(b, Residents)])\n",
        "          random_resident.robbery()"
      ],
      "metadata": {
        "id": "QxILMQKBlXWG"
      },
      "execution_count": null,
      "outputs": []
    },
    {
      "cell_type": "code",
      "source": [
        "game = Game()\n",
        "game.play()"
      ],
      "metadata": {
        "colab": {
          "base_uri": "https://localhost:8080/"
        },
        "id": "4qDa-oZTmQz5",
        "outputId": "2c7f79c3-a9f0-41be-f9b4-61726cf454b8"
      },
      "execution_count": null,
      "outputs": [
        {
          "output_type": "stream",
          "name": "stdout",
          "text": [
            "Выберите действие (1 - постройка, 2 - налоги, 3 - статус, 0 - выход): 1\n",
            "Выберите тип постройки (жилое здание, завод, больница): жилое здание\n",
            "Введите название жилого здания: house\n",
            "В жилом доме house уровень счастья увеличился на 10, уровень миграции: 15.\n",
            "Выберите действие (1 - постройка, 2 - налоги, 3 - статус, 0 - выход): 1\n",
            "Выберите тип постройки (жилое здание, завод, больница): завод\n",
            "Введите название завода: factore\n",
            "Завод factore приносит доход в размере 100 руб.\n",
            "В доме house произошло ограбление! Уровень счастья уменьшился на 10. Текущий уровень счастья: 50.\n",
            "Выберите действие (1 - постройка, 2 - налоги, 3 - статус, 0 - выход): 1\n",
            "Выберите тип постройки (жилое здание, завод, больница): больница\n",
            "Введите название больницы: hospital\n",
            "В больнице hospital уровень счастья увеличился на 15.\n",
            "Выберите действие (1 - постройка, 2 - налоги, 3 - статус, 0 - выход): 2\n",
            "В городе Город SimCity собрали налоги в размере 100 руб\n",
            "В доме house произошло ограбление! Уровень счастья уменьшился на 10. Текущий уровень счастья: 40.\n",
            "Выберите действие (1 - постройка, 2 - налоги, 3 - статус, 0 - выход): 3\n",
            "Название города: Город SimCity, Состояние бюджета: 200100, Уровень образования населения: 100, Миграция: 30, Уровень счастья: 50, Экология: 40\n",
            "Выберите действие (1 - постройка, 2 - налоги, 3 - статус, 0 - выход): 2\n",
            "В городе Город SimCity собрали налоги в размере 100 руб\n",
            "Выберите действие (1 - постройка, 2 - налоги, 3 - статус, 0 - выход): 1\n",
            "Выберите тип постройки (жилое здание, завод, больница): жилое здание\n",
            "Введите название жилого здания: house 2\n",
            "В жилом доме house 2 уровень счастья увеличился на 10, уровень миграции: 15.\n",
            "Выберите действие (1 - постройка, 2 - налоги, 3 - статус, 0 - выход): 1\n",
            "Выберите тип постройки (жилое здание, завод, больница): завод\n",
            "Введите название завода: factory 2\n",
            "Завод factory 2 приносит доход в размере 100 руб.\n",
            "В доме house произошло ограбление! Уровень счастья уменьшился на 10. Текущий уровень счастья: 30.\n",
            "Выберите действие (1 - постройка, 2 - налоги, 3 - статус, 0 - выход): 1\n",
            "Выберите тип постройки (жилое здание, завод, больница): hospital\n",
            "Неверный тип постройки\n",
            "Выберите действие (1 - постройка, 2 - налоги, 3 - статус, 0 - выход): 1\n",
            "Выберите тип постройки (жилое здание, завод, больница): больница\n",
            "Введите название больницы: hospital silent\n",
            "В больнице hospital silent уровень счастья увеличился на 15.\n",
            "Выберите действие (1 - постройка, 2 - налоги, 3 - статус, 0 - выход): 2\n",
            "В городе Город SimCity собрали налоги в размере 200 руб\n",
            "Выберите действие (1 - постройка, 2 - налоги, 3 - статус, 0 - выход): 3\n",
            "Название города: Город SimCity, Состояние бюджета: 200400, Уровень образования населения: 100, Миграция: 30, Уровень счастья: 50, Экология: 40\n",
            "Выберите действие (1 - постройка, 2 - налоги, 3 - статус, 0 - выход): 0\n",
            "Выход из игры\n"
          ]
        }
      ]
    }
  ]
}